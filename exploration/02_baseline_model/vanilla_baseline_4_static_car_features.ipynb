{
  "nbformat": 4,
  "nbformat_minor": 0,
  "metadata": {
    "colab": {
      "name": "vanilla_baseline_4_static_car_features.ipynb",
      "provenance": [],
      "include_colab_link": true
    },
    "kernelspec": {
      "name": "python3",
      "display_name": "Python 3"
    }
  },
  "cells": [
    {
      "cell_type": "markdown",
      "metadata": {
        "id": "view-in-github",
        "colab_type": "text"
      },
      "source": [
        "<a href=\"https://colab.research.google.com/github/hhnnhh/berlin_datascience_lab/blob/master/baseline/vanilla_baseline_4_static_car_features.ipynb\" target=\"_parent\"><img src=\"https://colab.research.google.com/assets/colab-badge.svg\" alt=\"Open In Colab\"/></a>"
      ]
    },
    {
      "cell_type": "markdown",
      "metadata": {
        "id": "S2nIUr7y1YAm",
        "colab_type": "text"
      },
      "source": [
        "# baseline model\n",
        "Establishing a baseline model with static car features. \n",
        "Features are chosen in terms of technological background knowledge:\n",
        "\n",
        "*  MODEL AGE (= TEST-DATE - MODELYEAR)\n",
        "*  ODOMETER\n",
        "*  VEHICLE_TYPE\n",
        "*  FUEL_TYPE\n",
        "\n",
        "\n",
        "Exploration of four different machine learning algorithms:\n",
        "1. Naive Bayes\n",
        "2. Logistic Regression\n",
        "3. Support Vector Machine\n",
        "4. Random Forest \n",
        "\n",
        "Algorithms perform extremly bad with features: 'AGE', 'ODOMETER', 'GVWTYPE_IMP', 'FUEL_TYPE'.\n",
        "\n",
        "ROC SCORE: 0.5 \n",
        "\n",
        "**To do next:**! \n",
        "* ! continuous features are not scaled, categorical features not dummy transformed\n",
        "* ! hyperparameters set to default, no tuning\n",
        "\n"
      ]
    },
    {
      "cell_type": "code",
      "metadata": {
        "id": "o7whUcC13x5w",
        "colab_type": "code",
        "colab": {}
      },
      "source": [
        ""
      ],
      "execution_count": null,
      "outputs": []
    },
    {
      "cell_type": "code",
      "metadata": {
        "id": "l9Rtw5VFmb-R",
        "colab_type": "code",
        "colab": {}
      },
      "source": [
        "import pandas as pd\n",
        "import seaborn as sns\n",
        "import matplotlib.pyplot as plt\n",
        "pd.set_option('display.max_columns', 200)\n",
        "pd.set_option('display.max_rows', 200)\n",
        "%matplotlib inline"
      ],
      "execution_count": null,
      "outputs": []
    },
    {
      "cell_type": "code",
      "metadata": {
        "id": "W5jDI31muuyX",
        "colab_type": "code",
        "colab": {
          "base_uri": "https://localhost:8080/",
          "height": 34
        },
        "outputId": "3c6272cb-ca06-4519-f6af-9ea2cf08eb27"
      },
      "source": [
        "from google.colab import drive\n",
        "\n",
        "drive.mount('/content/drive')"
      ],
      "execution_count": null,
      "outputs": [
        {
          "output_type": "stream",
          "text": [
            "Drive already mounted at /content/drive; to attempt to forcibly remount, call drive.mount(\"/content/drive\", force_remount=True).\n"
          ],
          "name": "stdout"
        }
      ]
    },
    {
      "cell_type": "markdown",
      "metadata": {
        "id": "tSb0ZsGM_1Al",
        "colab_type": "text"
      },
      "source": [
        "# Loading data frame"
      ]
    },
    {
      "cell_type": "code",
      "metadata": {
        "id": "PrhRVNT-u0IZ",
        "colab_type": "code",
        "colab": {}
      },
      "source": [
        "#isabelles data path:\n",
        "data_path = '/content/drive/My Drive/Colab Notebooks/cars_files/'"
      ],
      "execution_count": null,
      "outputs": []
    },
    {
      "cell_type": "code",
      "metadata": {
        "id": "k_z9I3z3XK61",
        "colab_type": "code",
        "colab": {
          "base_uri": "https://localhost:8080/",
          "height": 72
        },
        "outputId": "d58f1c9b-9fc5-4fa7-db1f-126cab6d8ee9"
      },
      "source": [
        "#isabelles data load\n",
        "df = pd.read_csv(data_path + 'copy_sample.csv', parse_dates=['TEST_SDATE', 'TEST_EDATE'], lineterminator='\\n')\n",
        "str_df = pd.read_csv(data_path + 'copy_sample.csv', dtype=str, parse_dates=['TEST_SDATE', 'TEST_EDATE'], lineterminator='\\n')"
      ],
      "execution_count": null,
      "outputs": [
        {
          "output_type": "stream",
          "text": [
            "/usr/local/lib/python3.6/dist-packages/IPython/core/interactiveshell.py:2718: DtypeWarning: Columns (5,18,26,108,109) have mixed types.Specify dtype option on import or set low_memory=False.\n",
            "  interactivity=interactivity, compiler=compiler, result=result)\n"
          ],
          "name": "stderr"
        }
      ]
    },
    {
      "cell_type": "code",
      "metadata": {
        "id": "l2YMcl0Xu4YT",
        "colab_type": "code",
        "colab": {}
      },
      "source": [
        "#hannahs data path:\n",
        "data_path = '/content/drive/My Drive/WIMLDS/'"
      ],
      "execution_count": null,
      "outputs": []
    },
    {
      "cell_type": "code",
      "metadata": {
        "colab_type": "code",
        "id": "lg41LJnkvSJM",
        "colab": {
          "base_uri": "https://localhost:8080/",
          "height": 417
        },
        "outputId": "a4657d1a-35d3-48d3-aa7b-417ed874bffd"
      },
      "source": [
        "#hannahs data load\n",
        "df = pd.read_csv(data_path + 'sample.csv', parse_dates=['TEST_SDATE', 'TEST_EDATE'], lineterminator='\\n')\n",
        "str_df = pd.read_csv(data_path + 'sample.csv', dtype=str, parse_dates=['TEST_SDATE', 'TEST_EDATE'], lineterminator='\\n')"
      ],
      "execution_count": null,
      "outputs": [
        {
          "output_type": "error",
          "ename": "FileNotFoundError",
          "evalue": "ignored",
          "traceback": [
            "\u001b[0;31m---------------------------------------------------------------------------\u001b[0m",
            "\u001b[0;31mFileNotFoundError\u001b[0m                         Traceback (most recent call last)",
            "\u001b[0;32m<ipython-input-240-525934a7019a>\u001b[0m in \u001b[0;36m<module>\u001b[0;34m()\u001b[0m\n\u001b[1;32m      1\u001b[0m \u001b[0;31m#hannahs data load\u001b[0m\u001b[0;34m\u001b[0m\u001b[0;34m\u001b[0m\u001b[0;34m\u001b[0m\u001b[0m\n\u001b[0;32m----> 2\u001b[0;31m \u001b[0mdf\u001b[0m \u001b[0;34m=\u001b[0m \u001b[0mpd\u001b[0m\u001b[0;34m.\u001b[0m\u001b[0mread_csv\u001b[0m\u001b[0;34m(\u001b[0m\u001b[0mdata_path\u001b[0m \u001b[0;34m+\u001b[0m \u001b[0;34m'sample.csv'\u001b[0m\u001b[0;34m,\u001b[0m \u001b[0mparse_dates\u001b[0m\u001b[0;34m=\u001b[0m\u001b[0;34m[\u001b[0m\u001b[0;34m'TEST_SDATE'\u001b[0m\u001b[0;34m,\u001b[0m \u001b[0;34m'TEST_EDATE'\u001b[0m\u001b[0;34m]\u001b[0m\u001b[0;34m,\u001b[0m \u001b[0mlineterminator\u001b[0m\u001b[0;34m=\u001b[0m\u001b[0;34m'\\n'\u001b[0m\u001b[0;34m)\u001b[0m\u001b[0;34m\u001b[0m\u001b[0;34m\u001b[0m\u001b[0m\n\u001b[0m\u001b[1;32m      3\u001b[0m \u001b[0mstr_df\u001b[0m \u001b[0;34m=\u001b[0m \u001b[0mpd\u001b[0m\u001b[0;34m.\u001b[0m\u001b[0mread_csv\u001b[0m\u001b[0;34m(\u001b[0m\u001b[0mdata_path\u001b[0m \u001b[0;34m+\u001b[0m \u001b[0;34m'sample.csv'\u001b[0m\u001b[0;34m,\u001b[0m \u001b[0mdtype\u001b[0m\u001b[0;34m=\u001b[0m\u001b[0mstr\u001b[0m\u001b[0;34m,\u001b[0m \u001b[0mparse_dates\u001b[0m\u001b[0;34m=\u001b[0m\u001b[0;34m[\u001b[0m\u001b[0;34m'TEST_SDATE'\u001b[0m\u001b[0;34m,\u001b[0m \u001b[0;34m'TEST_EDATE'\u001b[0m\u001b[0;34m]\u001b[0m\u001b[0;34m,\u001b[0m \u001b[0mlineterminator\u001b[0m\u001b[0;34m=\u001b[0m\u001b[0;34m'\\n'\u001b[0m\u001b[0;34m)\u001b[0m\u001b[0;34m\u001b[0m\u001b[0;34m\u001b[0m\u001b[0m\n",
            "\u001b[0;32m/usr/local/lib/python3.6/dist-packages/pandas/io/parsers.py\u001b[0m in \u001b[0;36mparser_f\u001b[0;34m(filepath_or_buffer, sep, delimiter, header, names, index_col, usecols, squeeze, prefix, mangle_dupe_cols, dtype, engine, converters, true_values, false_values, skipinitialspace, skiprows, skipfooter, nrows, na_values, keep_default_na, na_filter, verbose, skip_blank_lines, parse_dates, infer_datetime_format, keep_date_col, date_parser, dayfirst, cache_dates, iterator, chunksize, compression, thousands, decimal, lineterminator, quotechar, quoting, doublequote, escapechar, comment, encoding, dialect, error_bad_lines, warn_bad_lines, delim_whitespace, low_memory, memory_map, float_precision)\u001b[0m\n\u001b[1;32m    674\u001b[0m         )\n\u001b[1;32m    675\u001b[0m \u001b[0;34m\u001b[0m\u001b[0m\n\u001b[0;32m--> 676\u001b[0;31m         \u001b[0;32mreturn\u001b[0m \u001b[0m_read\u001b[0m\u001b[0;34m(\u001b[0m\u001b[0mfilepath_or_buffer\u001b[0m\u001b[0;34m,\u001b[0m \u001b[0mkwds\u001b[0m\u001b[0;34m)\u001b[0m\u001b[0;34m\u001b[0m\u001b[0;34m\u001b[0m\u001b[0m\n\u001b[0m\u001b[1;32m    677\u001b[0m \u001b[0;34m\u001b[0m\u001b[0m\n\u001b[1;32m    678\u001b[0m     \u001b[0mparser_f\u001b[0m\u001b[0;34m.\u001b[0m\u001b[0m__name__\u001b[0m \u001b[0;34m=\u001b[0m \u001b[0mname\u001b[0m\u001b[0;34m\u001b[0m\u001b[0;34m\u001b[0m\u001b[0m\n",
            "\u001b[0;32m/usr/local/lib/python3.6/dist-packages/pandas/io/parsers.py\u001b[0m in \u001b[0;36m_read\u001b[0;34m(filepath_or_buffer, kwds)\u001b[0m\n\u001b[1;32m    446\u001b[0m \u001b[0;34m\u001b[0m\u001b[0m\n\u001b[1;32m    447\u001b[0m     \u001b[0;31m# Create the parser.\u001b[0m\u001b[0;34m\u001b[0m\u001b[0;34m\u001b[0m\u001b[0;34m\u001b[0m\u001b[0m\n\u001b[0;32m--> 448\u001b[0;31m     \u001b[0mparser\u001b[0m \u001b[0;34m=\u001b[0m \u001b[0mTextFileReader\u001b[0m\u001b[0;34m(\u001b[0m\u001b[0mfp_or_buf\u001b[0m\u001b[0;34m,\u001b[0m \u001b[0;34m**\u001b[0m\u001b[0mkwds\u001b[0m\u001b[0;34m)\u001b[0m\u001b[0;34m\u001b[0m\u001b[0;34m\u001b[0m\u001b[0m\n\u001b[0m\u001b[1;32m    449\u001b[0m \u001b[0;34m\u001b[0m\u001b[0m\n\u001b[1;32m    450\u001b[0m     \u001b[0;32mif\u001b[0m \u001b[0mchunksize\u001b[0m \u001b[0;32mor\u001b[0m \u001b[0miterator\u001b[0m\u001b[0;34m:\u001b[0m\u001b[0;34m\u001b[0m\u001b[0;34m\u001b[0m\u001b[0m\n",
            "\u001b[0;32m/usr/local/lib/python3.6/dist-packages/pandas/io/parsers.py\u001b[0m in \u001b[0;36m__init__\u001b[0;34m(self, f, engine, **kwds)\u001b[0m\n\u001b[1;32m    878\u001b[0m             \u001b[0mself\u001b[0m\u001b[0;34m.\u001b[0m\u001b[0moptions\u001b[0m\u001b[0;34m[\u001b[0m\u001b[0;34m\"has_index_names\"\u001b[0m\u001b[0;34m]\u001b[0m \u001b[0;34m=\u001b[0m \u001b[0mkwds\u001b[0m\u001b[0;34m[\u001b[0m\u001b[0;34m\"has_index_names\"\u001b[0m\u001b[0;34m]\u001b[0m\u001b[0;34m\u001b[0m\u001b[0;34m\u001b[0m\u001b[0m\n\u001b[1;32m    879\u001b[0m \u001b[0;34m\u001b[0m\u001b[0m\n\u001b[0;32m--> 880\u001b[0;31m         \u001b[0mself\u001b[0m\u001b[0;34m.\u001b[0m\u001b[0m_make_engine\u001b[0m\u001b[0;34m(\u001b[0m\u001b[0mself\u001b[0m\u001b[0;34m.\u001b[0m\u001b[0mengine\u001b[0m\u001b[0;34m)\u001b[0m\u001b[0;34m\u001b[0m\u001b[0;34m\u001b[0m\u001b[0m\n\u001b[0m\u001b[1;32m    881\u001b[0m \u001b[0;34m\u001b[0m\u001b[0m\n\u001b[1;32m    882\u001b[0m     \u001b[0;32mdef\u001b[0m \u001b[0mclose\u001b[0m\u001b[0;34m(\u001b[0m\u001b[0mself\u001b[0m\u001b[0;34m)\u001b[0m\u001b[0;34m:\u001b[0m\u001b[0;34m\u001b[0m\u001b[0;34m\u001b[0m\u001b[0m\n",
            "\u001b[0;32m/usr/local/lib/python3.6/dist-packages/pandas/io/parsers.py\u001b[0m in \u001b[0;36m_make_engine\u001b[0;34m(self, engine)\u001b[0m\n\u001b[1;32m   1112\u001b[0m     \u001b[0;32mdef\u001b[0m \u001b[0m_make_engine\u001b[0m\u001b[0;34m(\u001b[0m\u001b[0mself\u001b[0m\u001b[0;34m,\u001b[0m \u001b[0mengine\u001b[0m\u001b[0;34m=\u001b[0m\u001b[0;34m\"c\"\u001b[0m\u001b[0;34m)\u001b[0m\u001b[0;34m:\u001b[0m\u001b[0;34m\u001b[0m\u001b[0;34m\u001b[0m\u001b[0m\n\u001b[1;32m   1113\u001b[0m         \u001b[0;32mif\u001b[0m \u001b[0mengine\u001b[0m \u001b[0;34m==\u001b[0m \u001b[0;34m\"c\"\u001b[0m\u001b[0;34m:\u001b[0m\u001b[0;34m\u001b[0m\u001b[0;34m\u001b[0m\u001b[0m\n\u001b[0;32m-> 1114\u001b[0;31m             \u001b[0mself\u001b[0m\u001b[0;34m.\u001b[0m\u001b[0m_engine\u001b[0m \u001b[0;34m=\u001b[0m \u001b[0mCParserWrapper\u001b[0m\u001b[0;34m(\u001b[0m\u001b[0mself\u001b[0m\u001b[0;34m.\u001b[0m\u001b[0mf\u001b[0m\u001b[0;34m,\u001b[0m \u001b[0;34m**\u001b[0m\u001b[0mself\u001b[0m\u001b[0;34m.\u001b[0m\u001b[0moptions\u001b[0m\u001b[0;34m)\u001b[0m\u001b[0;34m\u001b[0m\u001b[0;34m\u001b[0m\u001b[0m\n\u001b[0m\u001b[1;32m   1115\u001b[0m         \u001b[0;32melse\u001b[0m\u001b[0;34m:\u001b[0m\u001b[0;34m\u001b[0m\u001b[0;34m\u001b[0m\u001b[0m\n\u001b[1;32m   1116\u001b[0m             \u001b[0;32mif\u001b[0m \u001b[0mengine\u001b[0m \u001b[0;34m==\u001b[0m \u001b[0;34m\"python\"\u001b[0m\u001b[0;34m:\u001b[0m\u001b[0;34m\u001b[0m\u001b[0;34m\u001b[0m\u001b[0m\n",
            "\u001b[0;32m/usr/local/lib/python3.6/dist-packages/pandas/io/parsers.py\u001b[0m in \u001b[0;36m__init__\u001b[0;34m(self, src, **kwds)\u001b[0m\n\u001b[1;32m   1889\u001b[0m         \u001b[0mkwds\u001b[0m\u001b[0;34m[\u001b[0m\u001b[0;34m\"usecols\"\u001b[0m\u001b[0;34m]\u001b[0m \u001b[0;34m=\u001b[0m \u001b[0mself\u001b[0m\u001b[0;34m.\u001b[0m\u001b[0musecols\u001b[0m\u001b[0;34m\u001b[0m\u001b[0;34m\u001b[0m\u001b[0m\n\u001b[1;32m   1890\u001b[0m \u001b[0;34m\u001b[0m\u001b[0m\n\u001b[0;32m-> 1891\u001b[0;31m         \u001b[0mself\u001b[0m\u001b[0;34m.\u001b[0m\u001b[0m_reader\u001b[0m \u001b[0;34m=\u001b[0m \u001b[0mparsers\u001b[0m\u001b[0;34m.\u001b[0m\u001b[0mTextReader\u001b[0m\u001b[0;34m(\u001b[0m\u001b[0msrc\u001b[0m\u001b[0;34m,\u001b[0m \u001b[0;34m**\u001b[0m\u001b[0mkwds\u001b[0m\u001b[0;34m)\u001b[0m\u001b[0;34m\u001b[0m\u001b[0;34m\u001b[0m\u001b[0m\n\u001b[0m\u001b[1;32m   1892\u001b[0m         \u001b[0mself\u001b[0m\u001b[0;34m.\u001b[0m\u001b[0munnamed_cols\u001b[0m \u001b[0;34m=\u001b[0m \u001b[0mself\u001b[0m\u001b[0;34m.\u001b[0m\u001b[0m_reader\u001b[0m\u001b[0;34m.\u001b[0m\u001b[0munnamed_cols\u001b[0m\u001b[0;34m\u001b[0m\u001b[0;34m\u001b[0m\u001b[0m\n\u001b[1;32m   1893\u001b[0m \u001b[0;34m\u001b[0m\u001b[0m\n",
            "\u001b[0;32mpandas/_libs/parsers.pyx\u001b[0m in \u001b[0;36mpandas._libs.parsers.TextReader.__cinit__\u001b[0;34m()\u001b[0m\n",
            "\u001b[0;32mpandas/_libs/parsers.pyx\u001b[0m in \u001b[0;36mpandas._libs.parsers.TextReader._setup_parser_source\u001b[0;34m()\u001b[0m\n",
            "\u001b[0;31mFileNotFoundError\u001b[0m: [Errno 2] File /content/drive/My Drive/WIMLDS/sample.csv does not exist: '/content/drive/My Drive/WIMLDS/sample.csv'"
          ]
        }
      ]
    },
    {
      "cell_type": "markdown",
      "metadata": {
        "id": "5SLzdQut__Of",
        "colab_type": "text"
      },
      "source": [
        "# Exploration"
      ]
    },
    {
      "cell_type": "code",
      "metadata": {
        "id": "HHzC7mkdvu5W",
        "colab_type": "code",
        "colab": {
          "base_uri": "https://localhost:8080/",
          "height": 34
        },
        "outputId": "cb33fa46-9f71-4492-f16a-bcc8d7af6da1"
      },
      "source": [
        "len(df.columns)"
      ],
      "execution_count": null,
      "outputs": [
        {
          "output_type": "execute_result",
          "data": {
            "text/plain": [
              "127"
            ]
          },
          "metadata": {
            "tags": []
          },
          "execution_count": 243
        }
      ]
    },
    {
      "cell_type": "code",
      "metadata": {
        "id": "izfRkYLbvx6s",
        "colab_type": "code",
        "colab": {
          "base_uri": "https://localhost:8080/",
          "height": 173
        },
        "outputId": "2a965121-91c5-4b5c-d718-d443f3165527"
      },
      "source": [
        "df.columns"
      ],
      "execution_count": null,
      "outputs": [
        {
          "output_type": "execute_result",
          "data": {
            "text/plain": [
              "Index(['RecordID', 'RECORD_NUM', 'VIR_CERT_NUMBER', 'STATION_NUM',\n",
              "       'ANALYZER_NUM', 'INSPECTOR_NUM', 'TEST_TYPE', 'VID_TEST_TYPE',\n",
              "       'TEST_SDATE', 'TEST_EDATE',\n",
              "       ...\n",
              "       'E_IDLE_HC_RESULT', 'MECHANIC_LAST_NAME', 'MECHANIC_FIRST_NAME',\n",
              "       'MECHANIC_MIDDLE_INIT', 'ENGINE_SIZE_ORIG', 'FAILED_IDLE_RPM',\n",
              "       'SENTTOVID', 'Station_License_Number', 'Analyzer_Number',\n",
              "       'Insert_DateTime\\r'],\n",
              "      dtype='object', length=127)"
            ]
          },
          "metadata": {
            "tags": []
          },
          "execution_count": 244
        }
      ]
    },
    {
      "cell_type": "code",
      "metadata": {
        "id": "V4btZaCXv1rJ",
        "colab_type": "code",
        "colab": {
          "base_uri": "https://localhost:8080/",
          "height": 330
        },
        "outputId": "bd5e4f7f-8b24-4506-bfdf-a44fda4fa1db"
      },
      "source": [
        "df.head()"
      ],
      "execution_count": null,
      "outputs": [
        {
          "output_type": "execute_result",
          "data": {
            "text/html": [
              "<div>\n",
              "<style scoped>\n",
              "    .dataframe tbody tr th:only-of-type {\n",
              "        vertical-align: middle;\n",
              "    }\n",
              "\n",
              "    .dataframe tbody tr th {\n",
              "        vertical-align: top;\n",
              "    }\n",
              "\n",
              "    .dataframe thead th {\n",
              "        text-align: right;\n",
              "    }\n",
              "</style>\n",
              "<table border=\"1\" class=\"dataframe\">\n",
              "  <thead>\n",
              "    <tr style=\"text-align: right;\">\n",
              "      <th></th>\n",
              "      <th>RecordID</th>\n",
              "      <th>RECORD_NUM</th>\n",
              "      <th>VIR_CERT_NUMBER</th>\n",
              "      <th>STATION_NUM</th>\n",
              "      <th>ANALYZER_NUM</th>\n",
              "      <th>INSPECTOR_NUM</th>\n",
              "      <th>TEST_TYPE</th>\n",
              "      <th>VID_TEST_TYPE</th>\n",
              "      <th>TEST_SDATE</th>\n",
              "      <th>TEST_EDATE</th>\n",
              "      <th>VIN</th>\n",
              "      <th>VIN_SOURCE</th>\n",
              "      <th>VEH_LICENSE</th>\n",
              "      <th>GVW_TYPE</th>\n",
              "      <th>GVWR</th>\n",
              "      <th>MODEL_YEAR</th>\n",
              "      <th>MAKE</th>\n",
              "      <th>MODEL</th>\n",
              "      <th>CYL</th>\n",
              "      <th>ENGINE_SIZE</th>\n",
              "      <th>TRANS_TYPE</th>\n",
              "      <th>DUAL_EXHAUST</th>\n",
              "      <th>ODOMETER</th>\n",
              "      <th>FUEL_TYPE</th>\n",
              "      <th>VEHICLE_TYPE</th>\n",
              "      <th>EMISS_COST</th>\n",
              "      <th>ZIP_CODE</th>\n",
              "      <th>CERTIFICATION</th>\n",
              "      <th>ESC</th>\n",
              "      <th>VRT_RECORD_ID</th>\n",
              "      <th>E_TEST_SEQUENCE</th>\n",
              "      <th>E_PRECOND_PROCEDURE</th>\n",
              "      <th>E_HIGH_DCF</th>\n",
              "      <th>E_HIGH_RPM</th>\n",
              "      <th>E_HIGH_CO2</th>\n",
              "      <th>E_HIGH_O2</th>\n",
              "      <th>E_HIGH_HC</th>\n",
              "      <th>E_HIGH_HC_DCF</th>\n",
              "      <th>E_HIGH_HC_LIMIT</th>\n",
              "      <th>E_HIGH_CO</th>\n",
              "      <th>E_HIGH_CO_DCF</th>\n",
              "      <th>E_HIGH_CO_LIMIT</th>\n",
              "      <th>E_IDLE_DCF</th>\n",
              "      <th>E_IDLE_RPM</th>\n",
              "      <th>E_IDLE_CO2</th>\n",
              "      <th>E_IDLE_O2</th>\n",
              "      <th>E_IDLE_HC</th>\n",
              "      <th>E_IDLE_HC_DCF</th>\n",
              "      <th>E_IDLE_HC_LIMIT</th>\n",
              "      <th>E_IDLE_CO</th>\n",
              "      <th>E_IDLE_CO_DCF</th>\n",
              "      <th>E_IDLE_CO_LIMIT</th>\n",
              "      <th>E_HIGH_DCF_2</th>\n",
              "      <th>E_HIGH_RPM_2</th>\n",
              "      <th>E_HIGH_CO2_2</th>\n",
              "      <th>E_HIGH_O2_2</th>\n",
              "      <th>E_HIGH_HC_2</th>\n",
              "      <th>E_HIGH_HC_DCF_2</th>\n",
              "      <th>E_HIGH_CO_2</th>\n",
              "      <th>E_HIGH_CO_DCF_2</th>\n",
              "      <th>E_IDLE_DCF_2</th>\n",
              "      <th>E_IDLE_RPM_2</th>\n",
              "      <th>E_IDLE_CO2_2</th>\n",
              "      <th>E_IDLE_O2_2</th>\n",
              "      <th>E_IDLE_HC_2</th>\n",
              "      <th>E_IDLE_HC_DCF_2</th>\n",
              "      <th>E_IDLE_CO_2</th>\n",
              "      <th>E_IDLE_CO_DCF_2</th>\n",
              "      <th>E_RESULT_STRING</th>\n",
              "      <th>V_SMOKE1</th>\n",
              "      <th>V_SMOKE2</th>\n",
              "      <th>V_GASCAP</th>\n",
              "      <th>V_CAT</th>\n",
              "      <th>V_RESULT</th>\n",
              "      <th>KOEO_RESULT</th>\n",
              "      <th>KOER_RESULT</th>\n",
              "      <th>OBD_RDY_MISFIRE</th>\n",
              "      <th>OBD_RDY_FUEL</th>\n",
              "      <th>OBD_RDY_COMPONENT</th>\n",
              "      <th>OBD_RDY_CAT</th>\n",
              "      <th>OBD_RDY_CAT_HEATED</th>\n",
              "      <th>OBD_RDY_EVAP</th>\n",
              "      <th>OBD_RDY_SEC_AIR</th>\n",
              "      <th>OBD_RDY_AIR_COND</th>\n",
              "      <th>OBD_RDY_O2_SENSOR</th>\n",
              "      <th>OBD_RDY_O2_HEATER</th>\n",
              "      <th>OBD_RDY_EGR</th>\n",
              "      <th>OBD_RDY_RESULT</th>\n",
              "      <th>OBD_PID</th>\n",
              "      <th>OBD_PCM_ID</th>\n",
              "      <th>OBD_VIN</th>\n",
              "      <th>OBD_FLT_CODES</th>\n",
              "      <th>OBD_FLT_RESULT</th>\n",
              "      <th>OBD_MIL_STATUS</th>\n",
              "      <th>OBD_RESULT</th>\n",
              "      <th>ONLINE_STATUS</th>\n",
              "      <th>OFFLINE_REASON_CODE</th>\n",
              "      <th>ABORT_CODE</th>\n",
              "      <th>SOFTWARE_VERSION</th>\n",
              "      <th>INSP_COMMENTS</th>\n",
              "      <th>OVERALL_RESULT</th>\n",
              "      <th>R_TOTAL_COST</th>\n",
              "      <th>R_EGR</th>\n",
              "      <th>R_ELECTRICAL</th>\n",
              "      <th>R_EVAP_CONTROL</th>\n",
              "      <th>R_EXHAUST</th>\n",
              "      <th>R_IGNITION</th>\n",
              "      <th>R_INTAKE</th>\n",
              "      <th>R_ENGINE</th>\n",
              "      <th>R_PCV</th>\n",
              "      <th>R_OTHER</th>\n",
              "      <th>SentToWW</th>\n",
              "      <th>ABORT_CODE_OTHER_DESC</th>\n",
              "      <th>OBDII_AFFECT_OVERALL</th>\n",
              "      <th>E_HIGH_CO_RESULT</th>\n",
              "      <th>E_HIGH_HC_RESULT</th>\n",
              "      <th>E_IDLE_CO_RESULT</th>\n",
              "      <th>E_IDLE_HC_RESULT</th>\n",
              "      <th>MECHANIC_LAST_NAME</th>\n",
              "      <th>MECHANIC_FIRST_NAME</th>\n",
              "      <th>MECHANIC_MIDDLE_INIT</th>\n",
              "      <th>ENGINE_SIZE_ORIG</th>\n",
              "      <th>FAILED_IDLE_RPM</th>\n",
              "      <th>SENTTOVID</th>\n",
              "      <th>Station_License_Number</th>\n",
              "      <th>Analyzer_Number</th>\n",
              "      <th>Insert_DateTime\\r</th>\n",
              "    </tr>\n",
              "  </thead>\n",
              "  <tbody>\n",
              "    <tr>\n",
              "      <th>0</th>\n",
              "      <td>111260</td>\n",
              "      <td>7408</td>\n",
              "      <td>4486883.0</td>\n",
              "      <td>IS329</td>\n",
              "      <td>W036</td>\n",
              "      <td>26351553</td>\n",
              "      <td>I</td>\n",
              "      <td>I</td>\n",
              "      <td>2004-12-16 10:57:00</td>\n",
              "      <td>2004-12-16 11:03:00</td>\n",
              "      <td>1FTCR10A8RUE42421</td>\n",
              "      <td>S</td>\n",
              "      <td>NPE42421</td>\n",
              "      <td>1.0</td>\n",
              "      <td>4222</td>\n",
              "      <td>1994</td>\n",
              "      <td>FORD</td>\n",
              "      <td>RANGER REG. CAB - SHO</td>\n",
              "      <td>4</td>\n",
              "      <td>2300</td>\n",
              "      <td>M</td>\n",
              "      <td>N</td>\n",
              "      <td>53274</td>\n",
              "      <td>G</td>\n",
              "      <td>3</td>\n",
              "      <td>16.97</td>\n",
              "      <td>87107</td>\n",
              "      <td>F</td>\n",
              "      <td>11.0</td>\n",
              "      <td>948055</td>\n",
              "      <td>1</td>\n",
              "      <td>1</td>\n",
              "      <td>1.21</td>\n",
              "      <td>2676</td>\n",
              "      <td>12.7</td>\n",
              "      <td>3.57</td>\n",
              "      <td>18</td>\n",
              "      <td>22</td>\n",
              "      <td>180</td>\n",
              "      <td>0.0</td>\n",
              "      <td>0.0</td>\n",
              "      <td>1.2</td>\n",
              "      <td>1.23</td>\n",
              "      <td>809.0</td>\n",
              "      <td>12.4</td>\n",
              "      <td>3.8</td>\n",
              "      <td>26.0</td>\n",
              "      <td>32.0</td>\n",
              "      <td>180.0</td>\n",
              "      <td>0.03</td>\n",
              "      <td>0.04</td>\n",
              "      <td>1.2</td>\n",
              "      <td>0.0</td>\n",
              "      <td>0.0</td>\n",
              "      <td>0.0</td>\n",
              "      <td>0.0</td>\n",
              "      <td>0.0</td>\n",
              "      <td>0.0</td>\n",
              "      <td>0.0</td>\n",
              "      <td>0.0</td>\n",
              "      <td>0.0</td>\n",
              "      <td>0.0</td>\n",
              "      <td>0.0</td>\n",
              "      <td>0.0</td>\n",
              "      <td>0.0</td>\n",
              "      <td>0.0</td>\n",
              "      <td>0.0</td>\n",
              "      <td>0.0</td>\n",
              "      <td>P</td>\n",
              "      <td>P</td>\n",
              "      <td>P</td>\n",
              "      <td>P</td>\n",
              "      <td>P</td>\n",
              "      <td>P</td>\n",
              "      <td>NaN</td>\n",
              "      <td>NaN</td>\n",
              "      <td>NaN</td>\n",
              "      <td>NaN</td>\n",
              "      <td>NaN</td>\n",
              "      <td>NaN</td>\n",
              "      <td>NaN</td>\n",
              "      <td>NaN</td>\n",
              "      <td>NaN</td>\n",
              "      <td>NaN</td>\n",
              "      <td>NaN</td>\n",
              "      <td>NaN</td>\n",
              "      <td>NaN</td>\n",
              "      <td>NaN</td>\n",
              "      <td>NaN</td>\n",
              "      <td>NaN</td>\n",
              "      <td>NaN</td>\n",
              "      <td>NaN</td>\n",
              "      <td>NaN</td>\n",
              "      <td>NaN</td>\n",
              "      <td>NaN</td>\n",
              "      <td>1.0</td>\n",
              "      <td>0.0</td>\n",
              "      <td>NaN</td>\n",
              "      <td>141.0</td>\n",
              "      <td>NaN</td>\n",
              "      <td>P</td>\n",
              "      <td>NaN</td>\n",
              "      <td>NaN</td>\n",
              "      <td>NaN</td>\n",
              "      <td>NaN</td>\n",
              "      <td>NaN</td>\n",
              "      <td>NaN</td>\n",
              "      <td>NaN</td>\n",
              "      <td>NaN</td>\n",
              "      <td>NaN</td>\n",
              "      <td>NaN</td>\n",
              "      <td>0.0</td>\n",
              "      <td>NaN</td>\n",
              "      <td>NaN</td>\n",
              "      <td>P</td>\n",
              "      <td>P</td>\n",
              "      <td>P</td>\n",
              "      <td>P</td>\n",
              "      <td>SANCHEZ</td>\n",
              "      <td>TIM</td>\n",
              "      <td>J</td>\n",
              "      <td>NaN</td>\n",
              "      <td>NaN</td>\n",
              "      <td>0.0</td>\n",
              "      <td>IS329</td>\n",
              "      <td>W036</td>\n",
              "      <td>2006-01-12 21:19:17\\r</td>\n",
              "    </tr>\n",
              "    <tr>\n",
              "      <th>1</th>\n",
              "      <td>138031</td>\n",
              "      <td>969</td>\n",
              "      <td>4437994.0</td>\n",
              "      <td>IS267</td>\n",
              "      <td>W014</td>\n",
              "      <td>17496701</td>\n",
              "      <td>I</td>\n",
              "      <td>I</td>\n",
              "      <td>2004-08-13 14:10:00</td>\n",
              "      <td>2004-08-13 14:12:00</td>\n",
              "      <td>1G1JC5249Y7453635</td>\n",
              "      <td>S</td>\n",
              "      <td>CKK700</td>\n",
              "      <td>1.0</td>\n",
              "      <td>2875</td>\n",
              "      <td>2000</td>\n",
              "      <td>CHEVROLET</td>\n",
              "      <td>CAVALIER</td>\n",
              "      <td>4</td>\n",
              "      <td>2200</td>\n",
              "      <td>A</td>\n",
              "      <td>N</td>\n",
              "      <td>109225</td>\n",
              "      <td>G</td>\n",
              "      <td>1</td>\n",
              "      <td>19.95</td>\n",
              "      <td>87114</td>\n",
              "      <td>F</td>\n",
              "      <td>6.0</td>\n",
              "      <td>0</td>\n",
              "      <td>1</td>\n",
              "      <td>1</td>\n",
              "      <td>0.00</td>\n",
              "      <td>0</td>\n",
              "      <td>0.0</td>\n",
              "      <td>0.00</td>\n",
              "      <td>0</td>\n",
              "      <td>0</td>\n",
              "      <td>100</td>\n",
              "      <td>0.0</td>\n",
              "      <td>0.0</td>\n",
              "      <td>1.0</td>\n",
              "      <td>0.00</td>\n",
              "      <td>0.0</td>\n",
              "      <td>0.0</td>\n",
              "      <td>0.0</td>\n",
              "      <td>0.0</td>\n",
              "      <td>0.0</td>\n",
              "      <td>100.0</td>\n",
              "      <td>0.00</td>\n",
              "      <td>0.00</td>\n",
              "      <td>1.0</td>\n",
              "      <td>0.0</td>\n",
              "      <td>0.0</td>\n",
              "      <td>0.0</td>\n",
              "      <td>0.0</td>\n",
              "      <td>0.0</td>\n",
              "      <td>0.0</td>\n",
              "      <td>0.0</td>\n",
              "      <td>0.0</td>\n",
              "      <td>0.0</td>\n",
              "      <td>0.0</td>\n",
              "      <td>0.0</td>\n",
              "      <td>0.0</td>\n",
              "      <td>0.0</td>\n",
              "      <td>0.0</td>\n",
              "      <td>0.0</td>\n",
              "      <td>0.0</td>\n",
              "      <td>N</td>\n",
              "      <td>P</td>\n",
              "      <td>N</td>\n",
              "      <td>N</td>\n",
              "      <td>N</td>\n",
              "      <td>N</td>\n",
              "      <td>P</td>\n",
              "      <td>P</td>\n",
              "      <td>1.0</td>\n",
              "      <td>1.0</td>\n",
              "      <td>4.0</td>\n",
              "      <td>1.0</td>\n",
              "      <td>0.0</td>\n",
              "      <td>5.0</td>\n",
              "      <td>0.0</td>\n",
              "      <td>3.0</td>\n",
              "      <td>4.0</td>\n",
              "      <td>1.0</td>\n",
              "      <td>0.0</td>\n",
              "      <td>P</td>\n",
              "      <td>6.0</td>\n",
              "      <td>NaN</td>\n",
              "      <td>NaN</td>\n",
              "      <td>NaN</td>\n",
              "      <td>P</td>\n",
              "      <td>1.0</td>\n",
              "      <td>P</td>\n",
              "      <td>1.0</td>\n",
              "      <td>0.0</td>\n",
              "      <td>NaN</td>\n",
              "      <td>140.0</td>\n",
              "      <td>NaN</td>\n",
              "      <td>P</td>\n",
              "      <td>NaN</td>\n",
              "      <td>NaN</td>\n",
              "      <td>NaN</td>\n",
              "      <td>NaN</td>\n",
              "      <td>NaN</td>\n",
              "      <td>NaN</td>\n",
              "      <td>NaN</td>\n",
              "      <td>NaN</td>\n",
              "      <td>NaN</td>\n",
              "      <td>NaN</td>\n",
              "      <td>0.0</td>\n",
              "      <td>NaN</td>\n",
              "      <td>N</td>\n",
              "      <td>N</td>\n",
              "      <td>N</td>\n",
              "      <td>N</td>\n",
              "      <td>N</td>\n",
              "      <td>Trujillo</td>\n",
              "      <td>Vince</td>\n",
              "      <td>NaN</td>\n",
              "      <td>NaN</td>\n",
              "      <td>NaN</td>\n",
              "      <td>0.0</td>\n",
              "      <td>IS394</td>\n",
              "      <td>W014</td>\n",
              "      <td>2006-01-13 17:43:30\\r</td>\n",
              "    </tr>\n",
              "    <tr>\n",
              "      <th>2</th>\n",
              "      <td>298121</td>\n",
              "      <td>185</td>\n",
              "      <td>NaN</td>\n",
              "      <td>IR354</td>\n",
              "      <td>W109</td>\n",
              "      <td>32641547</td>\n",
              "      <td>I</td>\n",
              "      <td>NaN</td>\n",
              "      <td>2004-08-31 13:03:00</td>\n",
              "      <td>2004-08-31 13:03:00</td>\n",
              "      <td>KNJBT06K2K6116760</td>\n",
              "      <td>M</td>\n",
              "      <td>NP116760</td>\n",
              "      <td>1.0</td>\n",
              "      <td>2000</td>\n",
              "      <td>1989</td>\n",
              "      <td>FORD</td>\n",
              "      <td>FESTIVA</td>\n",
              "      <td>4</td>\n",
              "      <td>1300</td>\n",
              "      <td>M</td>\n",
              "      <td>N</td>\n",
              "      <td>110347</td>\n",
              "      <td>G</td>\n",
              "      <td>1</td>\n",
              "      <td>NaN</td>\n",
              "      <td>87108</td>\n",
              "      <td>F</td>\n",
              "      <td>4.0</td>\n",
              "      <td>890199</td>\n",
              "      <td>1</td>\n",
              "      <td>1</td>\n",
              "      <td>1.47</td>\n",
              "      <td>2480</td>\n",
              "      <td>10.4</td>\n",
              "      <td>6.73</td>\n",
              "      <td>20</td>\n",
              "      <td>29</td>\n",
              "      <td>200</td>\n",
              "      <td>0.0</td>\n",
              "      <td>0.0</td>\n",
              "      <td>1.2</td>\n",
              "      <td>0.00</td>\n",
              "      <td>690.0</td>\n",
              "      <td>0.0</td>\n",
              "      <td>0.0</td>\n",
              "      <td>0.0</td>\n",
              "      <td>0.0</td>\n",
              "      <td>200.0</td>\n",
              "      <td>0.00</td>\n",
              "      <td>0.00</td>\n",
              "      <td>1.2</td>\n",
              "      <td>0.0</td>\n",
              "      <td>0.0</td>\n",
              "      <td>0.0</td>\n",
              "      <td>0.0</td>\n",
              "      <td>0.0</td>\n",
              "      <td>0.0</td>\n",
              "      <td>0.0</td>\n",
              "      <td>0.0</td>\n",
              "      <td>0.0</td>\n",
              "      <td>0.0</td>\n",
              "      <td>0.0</td>\n",
              "      <td>0.0</td>\n",
              "      <td>0.0</td>\n",
              "      <td>0.0</td>\n",
              "      <td>0.0</td>\n",
              "      <td>0.0</td>\n",
              "      <td>F</td>\n",
              "      <td>P</td>\n",
              "      <td>P</td>\n",
              "      <td>N</td>\n",
              "      <td>P</td>\n",
              "      <td>P</td>\n",
              "      <td>NaN</td>\n",
              "      <td>NaN</td>\n",
              "      <td>NaN</td>\n",
              "      <td>NaN</td>\n",
              "      <td>NaN</td>\n",
              "      <td>NaN</td>\n",
              "      <td>NaN</td>\n",
              "      <td>NaN</td>\n",
              "      <td>NaN</td>\n",
              "      <td>NaN</td>\n",
              "      <td>NaN</td>\n",
              "      <td>NaN</td>\n",
              "      <td>NaN</td>\n",
              "      <td>NaN</td>\n",
              "      <td>NaN</td>\n",
              "      <td>NaN</td>\n",
              "      <td>NaN</td>\n",
              "      <td>NaN</td>\n",
              "      <td>NaN</td>\n",
              "      <td>NaN</td>\n",
              "      <td>NaN</td>\n",
              "      <td>1.0</td>\n",
              "      <td>0.0</td>\n",
              "      <td>99.0</td>\n",
              "      <td>140.0</td>\n",
              "      <td>NaN</td>\n",
              "      <td>A</td>\n",
              "      <td>NaN</td>\n",
              "      <td>NaN</td>\n",
              "      <td>NaN</td>\n",
              "      <td>NaN</td>\n",
              "      <td>NaN</td>\n",
              "      <td>NaN</td>\n",
              "      <td>NaN</td>\n",
              "      <td>NaN</td>\n",
              "      <td>NaN</td>\n",
              "      <td>NaN</td>\n",
              "      <td>0.0</td>\n",
              "      <td>NaN</td>\n",
              "      <td>NaN</td>\n",
              "      <td>P</td>\n",
              "      <td>P</td>\n",
              "      <td>P</td>\n",
              "      <td>P</td>\n",
              "      <td>Anderson</td>\n",
              "      <td>Phillip</td>\n",
              "      <td>L</td>\n",
              "      <td>NaN</td>\n",
              "      <td>T</td>\n",
              "      <td>0.0</td>\n",
              "      <td>IR354</td>\n",
              "      <td>W109</td>\n",
              "      <td>2006-01-24 09:07:03\\r</td>\n",
              "    </tr>\n",
              "    <tr>\n",
              "      <th>3</th>\n",
              "      <td>369185</td>\n",
              "      <td>4569</td>\n",
              "      <td>4469421.0</td>\n",
              "      <td>IS359</td>\n",
              "      <td>W042</td>\n",
              "      <td>11117229</td>\n",
              "      <td>I</td>\n",
              "      <td>I</td>\n",
              "      <td>2004-12-02 11:33:00</td>\n",
              "      <td>2004-12-02 11:39:00</td>\n",
              "      <td>1JCNJ15U6FT075960</td>\n",
              "      <td>M</td>\n",
              "      <td>469FNH</td>\n",
              "      <td>2.0</td>\n",
              "      <td>6200</td>\n",
              "      <td>1985</td>\n",
              "      <td>JEEP</td>\n",
              "      <td>GRAND WAGONEER</td>\n",
              "      <td>8</td>\n",
              "      <td>5900</td>\n",
              "      <td>A</td>\n",
              "      <td>N</td>\n",
              "      <td>152121</td>\n",
              "      <td>G</td>\n",
              "      <td>4</td>\n",
              "      <td>18.81</td>\n",
              "      <td>87103</td>\n",
              "      <td>F</td>\n",
              "      <td>15.0</td>\n",
              "      <td>850119</td>\n",
              "      <td>1</td>\n",
              "      <td>1</td>\n",
              "      <td>1.13</td>\n",
              "      <td>2495</td>\n",
              "      <td>13.6</td>\n",
              "      <td>2.32</td>\n",
              "      <td>12</td>\n",
              "      <td>14</td>\n",
              "      <td>300</td>\n",
              "      <td>0.0</td>\n",
              "      <td>0.0</td>\n",
              "      <td>3.0</td>\n",
              "      <td>1.24</td>\n",
              "      <td>911.0</td>\n",
              "      <td>12.4</td>\n",
              "      <td>4.1</td>\n",
              "      <td>12.0</td>\n",
              "      <td>15.0</td>\n",
              "      <td>300.0</td>\n",
              "      <td>0.00</td>\n",
              "      <td>0.00</td>\n",
              "      <td>1.2</td>\n",
              "      <td>0.0</td>\n",
              "      <td>0.0</td>\n",
              "      <td>0.0</td>\n",
              "      <td>0.0</td>\n",
              "      <td>0.0</td>\n",
              "      <td>0.0</td>\n",
              "      <td>0.0</td>\n",
              "      <td>0.0</td>\n",
              "      <td>0.0</td>\n",
              "      <td>0.0</td>\n",
              "      <td>0.0</td>\n",
              "      <td>0.0</td>\n",
              "      <td>0.0</td>\n",
              "      <td>0.0</td>\n",
              "      <td>0.0</td>\n",
              "      <td>0.0</td>\n",
              "      <td>P</td>\n",
              "      <td>P</td>\n",
              "      <td>P</td>\n",
              "      <td>P</td>\n",
              "      <td>P</td>\n",
              "      <td>P</td>\n",
              "      <td>NaN</td>\n",
              "      <td>NaN</td>\n",
              "      <td>NaN</td>\n",
              "      <td>NaN</td>\n",
              "      <td>NaN</td>\n",
              "      <td>NaN</td>\n",
              "      <td>NaN</td>\n",
              "      <td>NaN</td>\n",
              "      <td>NaN</td>\n",
              "      <td>NaN</td>\n",
              "      <td>NaN</td>\n",
              "      <td>NaN</td>\n",
              "      <td>NaN</td>\n",
              "      <td>NaN</td>\n",
              "      <td>NaN</td>\n",
              "      <td>NaN</td>\n",
              "      <td>NaN</td>\n",
              "      <td>NaN</td>\n",
              "      <td>NaN</td>\n",
              "      <td>NaN</td>\n",
              "      <td>NaN</td>\n",
              "      <td>1.0</td>\n",
              "      <td>0.0</td>\n",
              "      <td>NaN</td>\n",
              "      <td>141.0</td>\n",
              "      <td>NaN</td>\n",
              "      <td>P</td>\n",
              "      <td>NaN</td>\n",
              "      <td>NaN</td>\n",
              "      <td>NaN</td>\n",
              "      <td>NaN</td>\n",
              "      <td>NaN</td>\n",
              "      <td>NaN</td>\n",
              "      <td>NaN</td>\n",
              "      <td>NaN</td>\n",
              "      <td>NaN</td>\n",
              "      <td>NaN</td>\n",
              "      <td>0.0</td>\n",
              "      <td>NaN</td>\n",
              "      <td>NaN</td>\n",
              "      <td>P</td>\n",
              "      <td>P</td>\n",
              "      <td>P</td>\n",
              "      <td>P</td>\n",
              "      <td>NGUYEN</td>\n",
              "      <td>DUC</td>\n",
              "      <td>NaN</td>\n",
              "      <td>NaN</td>\n",
              "      <td>NaN</td>\n",
              "      <td>0.0</td>\n",
              "      <td>IS404</td>\n",
              "      <td>W042</td>\n",
              "      <td>2006-01-26 17:03:05\\r</td>\n",
              "    </tr>\n",
              "    <tr>\n",
              "      <th>4</th>\n",
              "      <td>384955</td>\n",
              "      <td>1326</td>\n",
              "      <td>4492858.0</td>\n",
              "      <td>IS171</td>\n",
              "      <td>W052</td>\n",
              "      <td>22095231</td>\n",
              "      <td>I</td>\n",
              "      <td>I</td>\n",
              "      <td>2004-12-29 17:00:00</td>\n",
              "      <td>2004-12-29 17:03:00</td>\n",
              "      <td>1G8ZJ5273VZ102496</td>\n",
              "      <td>S</td>\n",
              "      <td>NP102496</td>\n",
              "      <td>1.0</td>\n",
              "      <td>2625</td>\n",
              "      <td>1997</td>\n",
              "      <td>SATURN</td>\n",
              "      <td>SC</td>\n",
              "      <td>4</td>\n",
              "      <td>1900</td>\n",
              "      <td>M</td>\n",
              "      <td>N</td>\n",
              "      <td>135640</td>\n",
              "      <td>G</td>\n",
              "      <td>1</td>\n",
              "      <td>14.99</td>\n",
              "      <td>87111</td>\n",
              "      <td>R</td>\n",
              "      <td>6.0</td>\n",
              "      <td>0</td>\n",
              "      <td>1</td>\n",
              "      <td>1</td>\n",
              "      <td>0.00</td>\n",
              "      <td>0</td>\n",
              "      <td>0.0</td>\n",
              "      <td>0.00</td>\n",
              "      <td>0</td>\n",
              "      <td>0</td>\n",
              "      <td>100</td>\n",
              "      <td>0.0</td>\n",
              "      <td>0.0</td>\n",
              "      <td>1.0</td>\n",
              "      <td>0.00</td>\n",
              "      <td>0.0</td>\n",
              "      <td>0.0</td>\n",
              "      <td>0.0</td>\n",
              "      <td>0.0</td>\n",
              "      <td>0.0</td>\n",
              "      <td>100.0</td>\n",
              "      <td>0.00</td>\n",
              "      <td>0.00</td>\n",
              "      <td>1.0</td>\n",
              "      <td>0.0</td>\n",
              "      <td>0.0</td>\n",
              "      <td>0.0</td>\n",
              "      <td>0.0</td>\n",
              "      <td>0.0</td>\n",
              "      <td>0.0</td>\n",
              "      <td>0.0</td>\n",
              "      <td>0.0</td>\n",
              "      <td>0.0</td>\n",
              "      <td>0.0</td>\n",
              "      <td>0.0</td>\n",
              "      <td>0.0</td>\n",
              "      <td>0.0</td>\n",
              "      <td>0.0</td>\n",
              "      <td>0.0</td>\n",
              "      <td>0.0</td>\n",
              "      <td>N</td>\n",
              "      <td>P</td>\n",
              "      <td>N</td>\n",
              "      <td>N</td>\n",
              "      <td>N</td>\n",
              "      <td>N</td>\n",
              "      <td>P</td>\n",
              "      <td>P</td>\n",
              "      <td>1.0</td>\n",
              "      <td>1.0</td>\n",
              "      <td>4.0</td>\n",
              "      <td>1.0</td>\n",
              "      <td>0.0</td>\n",
              "      <td>3.0</td>\n",
              "      <td>0.0</td>\n",
              "      <td>3.0</td>\n",
              "      <td>4.0</td>\n",
              "      <td>1.0</td>\n",
              "      <td>1.0</td>\n",
              "      <td>P</td>\n",
              "      <td>16.0</td>\n",
              "      <td>10</td>\n",
              "      <td>NaN</td>\n",
              "      <td>P0300</td>\n",
              "      <td>F</td>\n",
              "      <td>1.0</td>\n",
              "      <td>P</td>\n",
              "      <td>1.0</td>\n",
              "      <td>0.0</td>\n",
              "      <td>NaN</td>\n",
              "      <td>147.0</td>\n",
              "      <td>NaN</td>\n",
              "      <td>P</td>\n",
              "      <td>NaN</td>\n",
              "      <td>NaN</td>\n",
              "      <td>NaN</td>\n",
              "      <td>NaN</td>\n",
              "      <td>NaN</td>\n",
              "      <td>NaN</td>\n",
              "      <td>NaN</td>\n",
              "      <td>NaN</td>\n",
              "      <td>NaN</td>\n",
              "      <td>NaN</td>\n",
              "      <td>0.0</td>\n",
              "      <td>NaN</td>\n",
              "      <td>N</td>\n",
              "      <td>N</td>\n",
              "      <td>N</td>\n",
              "      <td>N</td>\n",
              "      <td>N</td>\n",
              "      <td>Nguyen</td>\n",
              "      <td>Kenny</td>\n",
              "      <td>T</td>\n",
              "      <td>NaN</td>\n",
              "      <td>NaN</td>\n",
              "      <td>0.0</td>\n",
              "      <td>IS171</td>\n",
              "      <td>W052</td>\n",
              "      <td>2006-01-31 16:06:03\\r</td>\n",
              "    </tr>\n",
              "  </tbody>\n",
              "</table>\n",
              "</div>"
            ],
            "text/plain": [
              "   RecordID  RECORD_NUM  VIR_CERT_NUMBER STATION_NUM ANALYZER_NUM  \\\n",
              "0    111260        7408        4486883.0       IS329         W036   \n",
              "1    138031         969        4437994.0       IS267         W014   \n",
              "2    298121         185              NaN       IR354         W109   \n",
              "3    369185        4569        4469421.0       IS359         W042   \n",
              "4    384955        1326        4492858.0       IS171         W052   \n",
              "\n",
              "  INSPECTOR_NUM TEST_TYPE VID_TEST_TYPE          TEST_SDATE  \\\n",
              "0      26351553         I             I 2004-12-16 10:57:00   \n",
              "1      17496701         I             I 2004-08-13 14:10:00   \n",
              "2      32641547         I           NaN 2004-08-31 13:03:00   \n",
              "3      11117229         I             I 2004-12-02 11:33:00   \n",
              "4      22095231         I             I 2004-12-29 17:00:00   \n",
              "\n",
              "           TEST_EDATE                VIN VIN_SOURCE VEH_LICENSE  GVW_TYPE  \\\n",
              "0 2004-12-16 11:03:00  1FTCR10A8RUE42421          S    NPE42421       1.0   \n",
              "1 2004-08-13 14:12:00  1G1JC5249Y7453635          S      CKK700       1.0   \n",
              "2 2004-08-31 13:03:00  KNJBT06K2K6116760          M    NP116760       1.0   \n",
              "3 2004-12-02 11:39:00  1JCNJ15U6FT075960          M      469FNH       2.0   \n",
              "4 2004-12-29 17:03:00  1G8ZJ5273VZ102496          S    NP102496       1.0   \n",
              "\n",
              "   GVWR  MODEL_YEAR       MAKE                  MODEL CYL  ENGINE_SIZE  \\\n",
              "0  4222        1994       FORD  RANGER REG. CAB - SHO   4         2300   \n",
              "1  2875        2000  CHEVROLET               CAVALIER   4         2200   \n",
              "2  2000        1989       FORD                FESTIVA   4         1300   \n",
              "3  6200        1985       JEEP         GRAND WAGONEER   8         5900   \n",
              "4  2625        1997     SATURN                     SC   4         1900   \n",
              "\n",
              "  TRANS_TYPE DUAL_EXHAUST  ODOMETER FUEL_TYPE  VEHICLE_TYPE  EMISS_COST  \\\n",
              "0          M            N     53274         G             3       16.97   \n",
              "1          A            N    109225         G             1       19.95   \n",
              "2          M            N    110347         G             1         NaN   \n",
              "3          A            N    152121         G             4       18.81   \n",
              "4          M            N    135640         G             1       14.99   \n",
              "\n",
              "  ZIP_CODE CERTIFICATION   ESC  VRT_RECORD_ID  E_TEST_SEQUENCE  \\\n",
              "0    87107             F  11.0         948055                1   \n",
              "1    87114             F   6.0              0                1   \n",
              "2    87108             F   4.0         890199                1   \n",
              "3    87103             F  15.0         850119                1   \n",
              "4    87111             R   6.0              0                1   \n",
              "\n",
              "   E_PRECOND_PROCEDURE  E_HIGH_DCF  E_HIGH_RPM  E_HIGH_CO2  E_HIGH_O2  \\\n",
              "0                    1        1.21        2676        12.7       3.57   \n",
              "1                    1        0.00           0         0.0       0.00   \n",
              "2                    1        1.47        2480        10.4       6.73   \n",
              "3                    1        1.13        2495        13.6       2.32   \n",
              "4                    1        0.00           0         0.0       0.00   \n",
              "\n",
              "   E_HIGH_HC  E_HIGH_HC_DCF  E_HIGH_HC_LIMIT  E_HIGH_CO  E_HIGH_CO_DCF  \\\n",
              "0         18             22              180        0.0            0.0   \n",
              "1          0              0              100        0.0            0.0   \n",
              "2         20             29              200        0.0            0.0   \n",
              "3         12             14              300        0.0            0.0   \n",
              "4          0              0              100        0.0            0.0   \n",
              "\n",
              "   E_HIGH_CO_LIMIT  E_IDLE_DCF  E_IDLE_RPM  E_IDLE_CO2  E_IDLE_O2  E_IDLE_HC  \\\n",
              "0              1.2        1.23       809.0        12.4        3.8       26.0   \n",
              "1              1.0        0.00         0.0         0.0        0.0        0.0   \n",
              "2              1.2        0.00       690.0         0.0        0.0        0.0   \n",
              "3              3.0        1.24       911.0        12.4        4.1       12.0   \n",
              "4              1.0        0.00         0.0         0.0        0.0        0.0   \n",
              "\n",
              "   E_IDLE_HC_DCF  E_IDLE_HC_LIMIT  E_IDLE_CO  E_IDLE_CO_DCF  E_IDLE_CO_LIMIT  \\\n",
              "0           32.0            180.0       0.03           0.04              1.2   \n",
              "1            0.0            100.0       0.00           0.00              1.0   \n",
              "2            0.0            200.0       0.00           0.00              1.2   \n",
              "3           15.0            300.0       0.00           0.00              1.2   \n",
              "4            0.0            100.0       0.00           0.00              1.0   \n",
              "\n",
              "   E_HIGH_DCF_2  E_HIGH_RPM_2  E_HIGH_CO2_2  E_HIGH_O2_2  E_HIGH_HC_2  \\\n",
              "0           0.0           0.0           0.0          0.0          0.0   \n",
              "1           0.0           0.0           0.0          0.0          0.0   \n",
              "2           0.0           0.0           0.0          0.0          0.0   \n",
              "3           0.0           0.0           0.0          0.0          0.0   \n",
              "4           0.0           0.0           0.0          0.0          0.0   \n",
              "\n",
              "   E_HIGH_HC_DCF_2  E_HIGH_CO_2  E_HIGH_CO_DCF_2  E_IDLE_DCF_2  E_IDLE_RPM_2  \\\n",
              "0              0.0          0.0              0.0           0.0           0.0   \n",
              "1              0.0          0.0              0.0           0.0           0.0   \n",
              "2              0.0          0.0              0.0           0.0           0.0   \n",
              "3              0.0          0.0              0.0           0.0           0.0   \n",
              "4              0.0          0.0              0.0           0.0           0.0   \n",
              "\n",
              "   E_IDLE_CO2_2  E_IDLE_O2_2  E_IDLE_HC_2  E_IDLE_HC_DCF_2  E_IDLE_CO_2  \\\n",
              "0           0.0          0.0          0.0              0.0          0.0   \n",
              "1           0.0          0.0          0.0              0.0          0.0   \n",
              "2           0.0          0.0          0.0              0.0          0.0   \n",
              "3           0.0          0.0          0.0              0.0          0.0   \n",
              "4           0.0          0.0          0.0              0.0          0.0   \n",
              "\n",
              "   E_IDLE_CO_DCF_2 E_RESULT_STRING V_SMOKE1 V_SMOKE2 V_GASCAP V_CAT V_RESULT  \\\n",
              "0              0.0               P        P        P        P     P        P   \n",
              "1              0.0               N        P        N        N     N        N   \n",
              "2              0.0               F        P        P        N     P        P   \n",
              "3              0.0               P        P        P        P     P        P   \n",
              "4              0.0               N        P        N        N     N        N   \n",
              "\n",
              "  KOEO_RESULT KOER_RESULT  OBD_RDY_MISFIRE  OBD_RDY_FUEL  OBD_RDY_COMPONENT  \\\n",
              "0         NaN         NaN              NaN           NaN                NaN   \n",
              "1           P           P              1.0           1.0                4.0   \n",
              "2         NaN         NaN              NaN           NaN                NaN   \n",
              "3         NaN         NaN              NaN           NaN                NaN   \n",
              "4           P           P              1.0           1.0                4.0   \n",
              "\n",
              "   OBD_RDY_CAT  OBD_RDY_CAT_HEATED  OBD_RDY_EVAP  OBD_RDY_SEC_AIR  \\\n",
              "0          NaN                 NaN           NaN              NaN   \n",
              "1          1.0                 0.0           5.0              0.0   \n",
              "2          NaN                 NaN           NaN              NaN   \n",
              "3          NaN                 NaN           NaN              NaN   \n",
              "4          1.0                 0.0           3.0              0.0   \n",
              "\n",
              "   OBD_RDY_AIR_COND  OBD_RDY_O2_SENSOR  OBD_RDY_O2_HEATER  OBD_RDY_EGR  \\\n",
              "0               NaN                NaN                NaN          NaN   \n",
              "1               3.0                4.0                1.0          0.0   \n",
              "2               NaN                NaN                NaN          NaN   \n",
              "3               NaN                NaN                NaN          NaN   \n",
              "4               3.0                4.0                1.0          1.0   \n",
              "\n",
              "  OBD_RDY_RESULT  OBD_PID OBD_PCM_ID OBD_VIN OBD_FLT_CODES OBD_FLT_RESULT  \\\n",
              "0            NaN      NaN        NaN     NaN           NaN            NaN   \n",
              "1              P      6.0        NaN     NaN           NaN              P   \n",
              "2            NaN      NaN        NaN     NaN           NaN            NaN   \n",
              "3            NaN      NaN        NaN     NaN           NaN            NaN   \n",
              "4              P     16.0         10     NaN         P0300              F   \n",
              "\n",
              "   OBD_MIL_STATUS OBD_RESULT  ONLINE_STATUS  OFFLINE_REASON_CODE  ABORT_CODE  \\\n",
              "0             NaN        NaN            1.0                  0.0         NaN   \n",
              "1             1.0          P            1.0                  0.0         NaN   \n",
              "2             NaN        NaN            1.0                  0.0        99.0   \n",
              "3             NaN        NaN            1.0                  0.0         NaN   \n",
              "4             1.0          P            1.0                  0.0         NaN   \n",
              "\n",
              "   SOFTWARE_VERSION  INSP_COMMENTS OVERALL_RESULT  R_TOTAL_COST R_EGR  \\\n",
              "0             141.0            NaN              P           NaN   NaN   \n",
              "1             140.0            NaN              P           NaN   NaN   \n",
              "2             140.0            NaN              A           NaN   NaN   \n",
              "3             141.0            NaN              P           NaN   NaN   \n",
              "4             147.0            NaN              P           NaN   NaN   \n",
              "\n",
              "  R_ELECTRICAL R_EVAP_CONTROL R_EXHAUST R_IGNITION R_INTAKE R_ENGINE R_PCV  \\\n",
              "0          NaN            NaN       NaN        NaN      NaN      NaN   NaN   \n",
              "1          NaN            NaN       NaN        NaN      NaN      NaN   NaN   \n",
              "2          NaN            NaN       NaN        NaN      NaN      NaN   NaN   \n",
              "3          NaN            NaN       NaN        NaN      NaN      NaN   NaN   \n",
              "4          NaN            NaN       NaN        NaN      NaN      NaN   NaN   \n",
              "\n",
              "  R_OTHER  SentToWW ABORT_CODE_OTHER_DESC OBDII_AFFECT_OVERALL  \\\n",
              "0     NaN       0.0                   NaN                  NaN   \n",
              "1     NaN       0.0                   NaN                    N   \n",
              "2     NaN       0.0                   NaN                  NaN   \n",
              "3     NaN       0.0                   NaN                  NaN   \n",
              "4     NaN       0.0                   NaN                    N   \n",
              "\n",
              "  E_HIGH_CO_RESULT E_HIGH_HC_RESULT E_IDLE_CO_RESULT E_IDLE_HC_RESULT  \\\n",
              "0                P                P                P                P   \n",
              "1                N                N                N                N   \n",
              "2                P                P                P                P   \n",
              "3                P                P                P                P   \n",
              "4                N                N                N                N   \n",
              "\n",
              "  MECHANIC_LAST_NAME MECHANIC_FIRST_NAME MECHANIC_MIDDLE_INIT  \\\n",
              "0            SANCHEZ                 TIM                    J   \n",
              "1           Trujillo               Vince                  NaN   \n",
              "2           Anderson             Phillip                    L   \n",
              "3             NGUYEN                 DUC                  NaN   \n",
              "4             Nguyen               Kenny                    T   \n",
              "\n",
              "  ENGINE_SIZE_ORIG FAILED_IDLE_RPM  SENTTOVID Station_License_Number  \\\n",
              "0              NaN             NaN        0.0                  IS329   \n",
              "1              NaN             NaN        0.0                  IS394   \n",
              "2              NaN               T        0.0                  IR354   \n",
              "3              NaN             NaN        0.0                  IS404   \n",
              "4              NaN             NaN        0.0                  IS171   \n",
              "\n",
              "  Analyzer_Number      Insert_DateTime\\r  \n",
              "0            W036  2006-01-12 21:19:17\\r  \n",
              "1            W014  2006-01-13 17:43:30\\r  \n",
              "2            W109  2006-01-24 09:07:03\\r  \n",
              "3            W042  2006-01-26 17:03:05\\r  \n",
              "4            W052  2006-01-31 16:06:03\\r  "
            ]
          },
          "metadata": {
            "tags": []
          },
          "execution_count": 245
        }
      ]
    },
    {
      "cell_type": "markdown",
      "metadata": {
        "id": "pg5z-MC8AEq4",
        "colab_type": "text"
      },
      "source": [
        "\n",
        "# Selection\n",
        "*preparation for selecting the variables for the basic-model data frame*"
      ]
    },
    {
      "cell_type": "markdown",
      "metadata": {
        "id": "RLE3F-L517iN",
        "colab_type": "text"
      },
      "source": [
        "What's the meaning of the three different 'date' columns? I don't understand the 'Insert_DateTime\\r' columns - is it true that the data for some of the rows has been inserted into the data frame two years later? I'll be using the **Test-SDate** for calculating the age of the car. (Could have been using EDate as well.) Will not be keeping \"Insert_DateTime\\r\" in the new basic-model df."
      ]
    },
    {
      "cell_type": "code",
      "metadata": {
        "id": "7fzHRkiHw2CJ",
        "colab_type": "code",
        "colab": {
          "base_uri": "https://localhost:8080/",
          "height": 424
        },
        "outputId": "959c9e8c-5273-4b63-f798-0a36aeaa775a"
      },
      "source": [
        "df[['Insert_DateTime\\r','TEST_SDATE','TEST_EDATE']]\n"
      ],
      "execution_count": null,
      "outputs": [
        {
          "output_type": "execute_result",
          "data": {
            "text/html": [
              "<div>\n",
              "<style scoped>\n",
              "    .dataframe tbody tr th:only-of-type {\n",
              "        vertical-align: middle;\n",
              "    }\n",
              "\n",
              "    .dataframe tbody tr th {\n",
              "        vertical-align: top;\n",
              "    }\n",
              "\n",
              "    .dataframe thead th {\n",
              "        text-align: right;\n",
              "    }\n",
              "</style>\n",
              "<table border=\"1\" class=\"dataframe\">\n",
              "  <thead>\n",
              "    <tr style=\"text-align: right;\">\n",
              "      <th></th>\n",
              "      <th>Insert_DateTime\\r</th>\n",
              "      <th>TEST_SDATE</th>\n",
              "      <th>TEST_EDATE</th>\n",
              "    </tr>\n",
              "  </thead>\n",
              "  <tbody>\n",
              "    <tr>\n",
              "      <th>0</th>\n",
              "      <td>2006-01-12 21:19:17\\r</td>\n",
              "      <td>2004-12-16 10:57:00</td>\n",
              "      <td>2004-12-16 11:03:00</td>\n",
              "    </tr>\n",
              "    <tr>\n",
              "      <th>1</th>\n",
              "      <td>2006-01-13 17:43:30\\r</td>\n",
              "      <td>2004-08-13 14:10:00</td>\n",
              "      <td>2004-08-13 14:12:00</td>\n",
              "    </tr>\n",
              "    <tr>\n",
              "      <th>2</th>\n",
              "      <td>2006-01-24 09:07:03\\r</td>\n",
              "      <td>2004-08-31 13:03:00</td>\n",
              "      <td>2004-08-31 13:03:00</td>\n",
              "    </tr>\n",
              "    <tr>\n",
              "      <th>3</th>\n",
              "      <td>2006-01-26 17:03:05\\r</td>\n",
              "      <td>2004-12-02 11:33:00</td>\n",
              "      <td>2004-12-02 11:39:00</td>\n",
              "    </tr>\n",
              "    <tr>\n",
              "      <th>4</th>\n",
              "      <td>2006-01-31 16:06:03\\r</td>\n",
              "      <td>2004-12-29 17:00:00</td>\n",
              "      <td>2004-12-29 17:03:00</td>\n",
              "    </tr>\n",
              "    <tr>\n",
              "      <th>...</th>\n",
              "      <td>...</td>\n",
              "      <td>...</td>\n",
              "      <td>...</td>\n",
              "    </tr>\n",
              "    <tr>\n",
              "      <th>235172</th>\n",
              "      <td>2014-08-28 10:44:21\\r</td>\n",
              "      <td>2014-08-28 11:41:00</td>\n",
              "      <td>2014-08-28 11:43:00</td>\n",
              "    </tr>\n",
              "    <tr>\n",
              "      <th>235173</th>\n",
              "      <td>2014-10-27 14:22:29\\r</td>\n",
              "      <td>2014-10-27 15:17:00</td>\n",
              "      <td>2014-10-27 15:21:00</td>\n",
              "    </tr>\n",
              "    <tr>\n",
              "      <th>235174</th>\n",
              "      <td>2014-04-07 14:21:20\\r</td>\n",
              "      <td>2014-04-07 12:13:00</td>\n",
              "      <td>2014-04-07 12:14:00</td>\n",
              "    </tr>\n",
              "    <tr>\n",
              "      <th>235175</th>\n",
              "      <td>2014-11-03 17:08:53\\r</td>\n",
              "      <td>2014-11-03 16:57:00</td>\n",
              "      <td>2014-11-03 17:06:00</td>\n",
              "    </tr>\n",
              "    <tr>\n",
              "      <th>235176</th>\n",
              "      <td>NaN</td>\n",
              "      <td>2014-10-18 15:02:00</td>\n",
              "      <td>2014-10-18 15:03:00</td>\n",
              "    </tr>\n",
              "  </tbody>\n",
              "</table>\n",
              "<p>235177 rows × 3 columns</p>\n",
              "</div>"
            ],
            "text/plain": [
              "            Insert_DateTime\\r          TEST_SDATE          TEST_EDATE\n",
              "0       2006-01-12 21:19:17\\r 2004-12-16 10:57:00 2004-12-16 11:03:00\n",
              "1       2006-01-13 17:43:30\\r 2004-08-13 14:10:00 2004-08-13 14:12:00\n",
              "2       2006-01-24 09:07:03\\r 2004-08-31 13:03:00 2004-08-31 13:03:00\n",
              "3       2006-01-26 17:03:05\\r 2004-12-02 11:33:00 2004-12-02 11:39:00\n",
              "4       2006-01-31 16:06:03\\r 2004-12-29 17:00:00 2004-12-29 17:03:00\n",
              "...                       ...                 ...                 ...\n",
              "235172  2014-08-28 10:44:21\\r 2014-08-28 11:41:00 2014-08-28 11:43:00\n",
              "235173  2014-10-27 14:22:29\\r 2014-10-27 15:17:00 2014-10-27 15:21:00\n",
              "235174  2014-04-07 14:21:20\\r 2014-04-07 12:13:00 2014-04-07 12:14:00\n",
              "235175  2014-11-03 17:08:53\\r 2014-11-03 16:57:00 2014-11-03 17:06:00\n",
              "235176                    NaN 2014-10-18 15:02:00 2014-10-18 15:03:00\n",
              "\n",
              "[235177 rows x 3 columns]"
            ]
          },
          "metadata": {
            "tags": []
          },
          "execution_count": 246
        }
      ]
    },
    {
      "cell_type": "code",
      "metadata": {
        "id": "hCx2-y68w_YO",
        "colab_type": "code",
        "colab": {
          "base_uri": "https://localhost:8080/",
          "height": 424
        },
        "outputId": "297a1f29-73f0-4b36-8457-378f8ffc2acb"
      },
      "source": [
        "#looking into some of the columns:\n",
        "df[['ODOMETER','OVERALL_RESULT','MODEL_YEAR']]"
      ],
      "execution_count": null,
      "outputs": [
        {
          "output_type": "execute_result",
          "data": {
            "text/html": [
              "<div>\n",
              "<style scoped>\n",
              "    .dataframe tbody tr th:only-of-type {\n",
              "        vertical-align: middle;\n",
              "    }\n",
              "\n",
              "    .dataframe tbody tr th {\n",
              "        vertical-align: top;\n",
              "    }\n",
              "\n",
              "    .dataframe thead th {\n",
              "        text-align: right;\n",
              "    }\n",
              "</style>\n",
              "<table border=\"1\" class=\"dataframe\">\n",
              "  <thead>\n",
              "    <tr style=\"text-align: right;\">\n",
              "      <th></th>\n",
              "      <th>ODOMETER</th>\n",
              "      <th>OVERALL_RESULT</th>\n",
              "      <th>MODEL_YEAR</th>\n",
              "    </tr>\n",
              "  </thead>\n",
              "  <tbody>\n",
              "    <tr>\n",
              "      <th>0</th>\n",
              "      <td>53274</td>\n",
              "      <td>P</td>\n",
              "      <td>1994</td>\n",
              "    </tr>\n",
              "    <tr>\n",
              "      <th>1</th>\n",
              "      <td>109225</td>\n",
              "      <td>P</td>\n",
              "      <td>2000</td>\n",
              "    </tr>\n",
              "    <tr>\n",
              "      <th>2</th>\n",
              "      <td>110347</td>\n",
              "      <td>A</td>\n",
              "      <td>1989</td>\n",
              "    </tr>\n",
              "    <tr>\n",
              "      <th>3</th>\n",
              "      <td>152121</td>\n",
              "      <td>P</td>\n",
              "      <td>1985</td>\n",
              "    </tr>\n",
              "    <tr>\n",
              "      <th>4</th>\n",
              "      <td>135640</td>\n",
              "      <td>P</td>\n",
              "      <td>1997</td>\n",
              "    </tr>\n",
              "    <tr>\n",
              "      <th>...</th>\n",
              "      <td>...</td>\n",
              "      <td>...</td>\n",
              "      <td>...</td>\n",
              "    </tr>\n",
              "    <tr>\n",
              "      <th>235172</th>\n",
              "      <td>191303</td>\n",
              "      <td>P</td>\n",
              "      <td>1999</td>\n",
              "    </tr>\n",
              "    <tr>\n",
              "      <th>235173</th>\n",
              "      <td>37783</td>\n",
              "      <td>P</td>\n",
              "      <td>2006</td>\n",
              "    </tr>\n",
              "    <tr>\n",
              "      <th>235174</th>\n",
              "      <td>40895</td>\n",
              "      <td>P</td>\n",
              "      <td>2011</td>\n",
              "    </tr>\n",
              "    <tr>\n",
              "      <th>235175</th>\n",
              "      <td>136544</td>\n",
              "      <td>P</td>\n",
              "      <td>1995</td>\n",
              "    </tr>\n",
              "    <tr>\n",
              "      <th>235176</th>\n",
              "      <td>84116</td>\n",
              "      <td>NaN</td>\n",
              "      <td>2008</td>\n",
              "    </tr>\n",
              "  </tbody>\n",
              "</table>\n",
              "<p>235177 rows × 3 columns</p>\n",
              "</div>"
            ],
            "text/plain": [
              "        ODOMETER OVERALL_RESULT  MODEL_YEAR\n",
              "0          53274              P        1994\n",
              "1         109225              P        2000\n",
              "2         110347              A        1989\n",
              "3         152121              P        1985\n",
              "4         135640              P        1997\n",
              "...          ...            ...         ...\n",
              "235172    191303              P        1999\n",
              "235173     37783              P        2006\n",
              "235174     40895              P        2011\n",
              "235175    136544              P        1995\n",
              "235176     84116            NaN        2008\n",
              "\n",
              "[235177 rows x 3 columns]"
            ]
          },
          "metadata": {
            "tags": []
          },
          "execution_count": 247
        }
      ]
    },
    {
      "cell_type": "markdown",
      "metadata": {
        "id": "XlWvJVxMBdVN",
        "colab_type": "text"
      },
      "source": [
        "# Slicing"
      ]
    },
    {
      "cell_type": "markdown",
      "metadata": {
        "id": "q708BQ8izzlg",
        "colab_type": "text"
      },
      "source": [
        "Chosing a subset. \"RecordID\" and \"RECORD_NUM\" and \"TEST_TYPE\" are preserved to be able to group data if necessary. "
      ]
    },
    {
      "cell_type": "code",
      "metadata": {
        "id": "C65GrcxNxQIG",
        "colab_type": "code",
        "colab": {}
      },
      "source": [
        "#mi_df = df[['RecordID', 'RECORD_NUM', 'VIN', 'TEST_TYPE','ODOMETER','MODEL_YEAR','TEST_SDATE', 'TEST_EDATE','VEHICLE_TYPE','FUEL_TYPE','GVW_TYPE','OVERALL_RESULT']]\n",
        "#mi_str_df = str_df[['RecordID', 'RECORD_NUM', 'VIN', 'TEST_TYPE','ODOMETER','MODEL_YEAR','TEST_SDATE', 'TEST_EDATE','VEHICLE_TYPE','FUEL_TYPE','GVW_TYPE','OVERALL_RESULT']]\n"
      ],
      "execution_count": null,
      "outputs": []
    },
    {
      "cell_type": "markdown",
      "metadata": {
        "id": "Ow8MpYEYBxaS",
        "colab_type": "text"
      },
      "source": [
        "#Preprocessing\n",
        "*Transform, clean and prepare variables for model use*"
      ]
    },
    {
      "cell_type": "markdown",
      "metadata": {
        "id": "LhWWoJjYBiu6",
        "colab_type": "text"
      },
      "source": [
        "### MODEL_YEAR: calculating AGE of the car"
      ]
    },
    {
      "cell_type": "code",
      "metadata": {
        "id": "Y0i16EdP5VC0",
        "colab_type": "code",
        "colab": {}
      },
      "source": [
        "import datetime"
      ],
      "execution_count": null,
      "outputs": []
    },
    {
      "cell_type": "code",
      "metadata": {
        "id": "DMivV-zE54D5",
        "colab_type": "code",
        "colab": {
          "base_uri": "https://localhost:8080/",
          "height": 300
        },
        "outputId": "71aa4153-c465-4663-9a66-9821798eb8aa"
      },
      "source": [
        "df[['MODEL_YEAR']].describe()"
      ],
      "execution_count": null,
      "outputs": [
        {
          "output_type": "execute_result",
          "data": {
            "text/html": [
              "<div>\n",
              "<style scoped>\n",
              "    .dataframe tbody tr th:only-of-type {\n",
              "        vertical-align: middle;\n",
              "    }\n",
              "\n",
              "    .dataframe tbody tr th {\n",
              "        vertical-align: top;\n",
              "    }\n",
              "\n",
              "    .dataframe thead th {\n",
              "        text-align: right;\n",
              "    }\n",
              "</style>\n",
              "<table border=\"1\" class=\"dataframe\">\n",
              "  <thead>\n",
              "    <tr style=\"text-align: right;\">\n",
              "      <th></th>\n",
              "      <th>MODEL_YEAR</th>\n",
              "    </tr>\n",
              "  </thead>\n",
              "  <tbody>\n",
              "    <tr>\n",
              "      <th>count</th>\n",
              "      <td>235177.000000</td>\n",
              "    </tr>\n",
              "    <tr>\n",
              "      <th>mean</th>\n",
              "      <td>1985.219507</td>\n",
              "    </tr>\n",
              "    <tr>\n",
              "      <th>std</th>\n",
              "      <td>173.083298</td>\n",
              "    </tr>\n",
              "    <tr>\n",
              "      <th>min</th>\n",
              "      <td>0.000000</td>\n",
              "    </tr>\n",
              "    <tr>\n",
              "      <th>25%</th>\n",
              "      <td>1996.000000</td>\n",
              "    </tr>\n",
              "    <tr>\n",
              "      <th>50%</th>\n",
              "      <td>2001.000000</td>\n",
              "    </tr>\n",
              "    <tr>\n",
              "      <th>75%</th>\n",
              "      <td>2005.000000</td>\n",
              "    </tr>\n",
              "    <tr>\n",
              "      <th>max</th>\n",
              "      <td>2015.000000</td>\n",
              "    </tr>\n",
              "  </tbody>\n",
              "</table>\n",
              "</div>"
            ],
            "text/plain": [
              "          MODEL_YEAR\n",
              "count  235177.000000\n",
              "mean     1985.219507\n",
              "std       173.083298\n",
              "min         0.000000\n",
              "25%      1996.000000\n",
              "50%      2001.000000\n",
              "75%      2005.000000\n",
              "max      2015.000000"
            ]
          },
          "metadata": {
            "tags": []
          },
          "execution_count": 250
        }
      ]
    },
    {
      "cell_type": "code",
      "metadata": {
        "id": "Gn810qAt6S2K",
        "colab_type": "code",
        "colab": {
          "base_uri": "https://localhost:8080/",
          "height": 238
        },
        "outputId": "53ab7677-da6a-4c5e-f92b-77dcc975156b"
      },
      "source": [
        "df[['TEST_SDATE']].describe()"
      ],
      "execution_count": null,
      "outputs": [
        {
          "output_type": "execute_result",
          "data": {
            "text/html": [
              "<div>\n",
              "<style scoped>\n",
              "    .dataframe tbody tr th:only-of-type {\n",
              "        vertical-align: middle;\n",
              "    }\n",
              "\n",
              "    .dataframe tbody tr th {\n",
              "        vertical-align: top;\n",
              "    }\n",
              "\n",
              "    .dataframe thead th {\n",
              "        text-align: right;\n",
              "    }\n",
              "</style>\n",
              "<table border=\"1\" class=\"dataframe\">\n",
              "  <thead>\n",
              "    <tr style=\"text-align: right;\">\n",
              "      <th></th>\n",
              "      <th>TEST_SDATE</th>\n",
              "    </tr>\n",
              "  </thead>\n",
              "  <tbody>\n",
              "    <tr>\n",
              "      <th>count</th>\n",
              "      <td>235177</td>\n",
              "    </tr>\n",
              "    <tr>\n",
              "      <th>unique</th>\n",
              "      <td>216776</td>\n",
              "    </tr>\n",
              "    <tr>\n",
              "      <th>top</th>\n",
              "      <td>2006-06-16 12:19:00</td>\n",
              "    </tr>\n",
              "    <tr>\n",
              "      <th>freq</th>\n",
              "      <td>5</td>\n",
              "    </tr>\n",
              "    <tr>\n",
              "      <th>first</th>\n",
              "      <td>2004-05-03 16:13:00</td>\n",
              "    </tr>\n",
              "    <tr>\n",
              "      <th>last</th>\n",
              "      <td>2014-12-31 15:03:00</td>\n",
              "    </tr>\n",
              "  </tbody>\n",
              "</table>\n",
              "</div>"
            ],
            "text/plain": [
              "                 TEST_SDATE\n",
              "count                235177\n",
              "unique               216776\n",
              "top     2006-06-16 12:19:00\n",
              "freq                      5\n",
              "first   2004-05-03 16:13:00\n",
              "last    2014-12-31 15:03:00"
            ]
          },
          "metadata": {
            "tags": []
          },
          "execution_count": 251
        }
      ]
    },
    {
      "cell_type": "code",
      "metadata": {
        "id": "CFYqW8_e7AXm",
        "colab_type": "code",
        "colab": {}
      },
      "source": [
        "#extracting the year from the complete \"TEST_SDATE\"\n",
        "df['TEST_YEAR'] = df.TEST_SDATE.dt.to_period('Y')\n",
        "\n",
        "# @Isabelle: I get a warning here. Do you know if this a problem and how I could solve it?\n",
        "# \"A value is trying to be set on a copy of a slice from a DataFrame.\n",
        "# Try using .loc[row_indexer,col_indexer] = value instead"
      ],
      "execution_count": null,
      "outputs": []
    },
    {
      "cell_type": "code",
      "metadata": {
        "id": "sCxtFPvj4PGp",
        "colab_type": "code",
        "colab": {}
      },
      "source": [
        "#calculating the age of the car by subtrating the year of the test (\"TEST_YEAR\") by the \"MODEL_YEAR\"\n",
        "df['AGE'] = df['TEST_YEAR'] - df['MODEL_YEAR']# / np.timedelta64(1, 'Y')"
      ],
      "execution_count": null,
      "outputs": []
    },
    {
      "cell_type": "code",
      "metadata": {
        "id": "jYz_oBEidg0T",
        "colab_type": "code",
        "colab": {
          "base_uri": "https://localhost:8080/",
          "height": 34
        },
        "outputId": "e90ca609-012d-4eb8-8851-3c6867a7d914"
      },
      "source": [
        "df.iloc[1].AGE.year"
      ],
      "execution_count": null,
      "outputs": [
        {
          "output_type": "execute_result",
          "data": {
            "text/plain": [
              "4"
            ]
          },
          "metadata": {
            "tags": []
          },
          "execution_count": 254
        }
      ]
    },
    {
      "cell_type": "code",
      "metadata": {
        "id": "SYYuIFiJKTlO",
        "colab_type": "code",
        "colab": {}
      },
      "source": [
        "#age seems fine, but its not an integer\n",
        "df['AGE'] = df.AGE.apply(lambda x: x.year)"
      ],
      "execution_count": null,
      "outputs": []
    },
    {
      "cell_type": "code",
      "metadata": {
        "id": "cTxrD34iK82Y",
        "colab_type": "code",
        "colab": {
          "base_uri": "https://localhost:8080/",
          "height": 420
        },
        "outputId": "24286acc-e603-4349-d2d6-88094652ee04"
      },
      "source": [
        "#we have some strange values: -1, and 2004 ff. - might need to be changed, but by now Nan\n",
        "#mi_df['AGE'].value_counts().plot.bar()#hist()\n",
        "fig, ax = plt.subplots(figsize=(14,6))\n",
        "df.groupby('AGE').size().plot.bar()"
      ],
      "execution_count": null,
      "outputs": [
        {
          "output_type": "execute_result",
          "data": {
            "text/plain": [
              "<matplotlib.axes._subplots.AxesSubplot at 0x7f4dac0e25f8>"
            ]
          },
          "metadata": {
            "tags": []
          },
          "execution_count": 256
        },
        {
          "output_type": "display_data",
          "data": {
            "image/png": "[encoded data removed]",
            "text/plain": [
              "<Figure size 1008x432 with 1 Axes>"
            ]
          },
          "metadata": {
            "tags": [],
            "needs_background": "light"
          }
        }
      ]
    },
    {
      "cell_type": "markdown",
      "metadata": {
        "id": "junA2ZbB_e3b",
        "colab_type": "text"
      },
      "source": [
        "Basic-Model Dataframe with **AGE** of the car in years. "
      ]
    },
    {
      "cell_type": "code",
      "metadata": {
        "id": "8qhmE_Cp8eI-",
        "colab_type": "code",
        "colab": {
          "base_uri": "https://localhost:8080/",
          "height": 330
        },
        "outputId": "2bda2d6e-9851-49dc-f88c-43a472d20692"
      },
      "source": [
        "df.head()"
      ],
      "execution_count": null,
      "outputs": [
        {
          "output_type": "execute_result",
          "data": {
            "text/html": [
              "<div>\n",
              "<style scoped>\n",
              "    .dataframe tbody tr th:only-of-type {\n",
              "        vertical-align: middle;\n",
              "    }\n",
              "\n",
              "    .dataframe tbody tr th {\n",
              "        vertical-align: top;\n",
              "    }\n",
              "\n",
              "    .dataframe thead th {\n",
              "        text-align: right;\n",
              "    }\n",
              "</style>\n",
              "<table border=\"1\" class=\"dataframe\">\n",
              "  <thead>\n",
              "    <tr style=\"text-align: right;\">\n",
              "      <th></th>\n",
              "      <th>RecordID</th>\n",
              "      <th>RECORD_NUM</th>\n",
              "      <th>VIR_CERT_NUMBER</th>\n",
              "      <th>STATION_NUM</th>\n",
              "      <th>ANALYZER_NUM</th>\n",
              "      <th>INSPECTOR_NUM</th>\n",
              "      <th>TEST_TYPE</th>\n",
              "      <th>VID_TEST_TYPE</th>\n",
              "      <th>TEST_SDATE</th>\n",
              "      <th>TEST_EDATE</th>\n",
              "      <th>VIN</th>\n",
              "      <th>VIN_SOURCE</th>\n",
              "      <th>VEH_LICENSE</th>\n",
              "      <th>GVW_TYPE</th>\n",
              "      <th>GVWR</th>\n",
              "      <th>MODEL_YEAR</th>\n",
              "      <th>MAKE</th>\n",
              "      <th>MODEL</th>\n",
              "      <th>CYL</th>\n",
              "      <th>ENGINE_SIZE</th>\n",
              "      <th>TRANS_TYPE</th>\n",
              "      <th>DUAL_EXHAUST</th>\n",
              "      <th>ODOMETER</th>\n",
              "      <th>FUEL_TYPE</th>\n",
              "      <th>VEHICLE_TYPE</th>\n",
              "      <th>EMISS_COST</th>\n",
              "      <th>ZIP_CODE</th>\n",
              "      <th>CERTIFICATION</th>\n",
              "      <th>ESC</th>\n",
              "      <th>VRT_RECORD_ID</th>\n",
              "      <th>E_TEST_SEQUENCE</th>\n",
              "      <th>E_PRECOND_PROCEDURE</th>\n",
              "      <th>E_HIGH_DCF</th>\n",
              "      <th>E_HIGH_RPM</th>\n",
              "      <th>E_HIGH_CO2</th>\n",
              "      <th>E_HIGH_O2</th>\n",
              "      <th>E_HIGH_HC</th>\n",
              "      <th>E_HIGH_HC_DCF</th>\n",
              "      <th>E_HIGH_HC_LIMIT</th>\n",
              "      <th>E_HIGH_CO</th>\n",
              "      <th>E_HIGH_CO_DCF</th>\n",
              "      <th>E_HIGH_CO_LIMIT</th>\n",
              "      <th>E_IDLE_DCF</th>\n",
              "      <th>E_IDLE_RPM</th>\n",
              "      <th>E_IDLE_CO2</th>\n",
              "      <th>E_IDLE_O2</th>\n",
              "      <th>E_IDLE_HC</th>\n",
              "      <th>E_IDLE_HC_DCF</th>\n",
              "      <th>E_IDLE_HC_LIMIT</th>\n",
              "      <th>E_IDLE_CO</th>\n",
              "      <th>E_IDLE_CO_DCF</th>\n",
              "      <th>E_IDLE_CO_LIMIT</th>\n",
              "      <th>E_HIGH_DCF_2</th>\n",
              "      <th>E_HIGH_RPM_2</th>\n",
              "      <th>E_HIGH_CO2_2</th>\n",
              "      <th>E_HIGH_O2_2</th>\n",
              "      <th>E_HIGH_HC_2</th>\n",
              "      <th>E_HIGH_HC_DCF_2</th>\n",
              "      <th>E_HIGH_CO_2</th>\n",
              "      <th>E_HIGH_CO_DCF_2</th>\n",
              "      <th>E_IDLE_DCF_2</th>\n",
              "      <th>E_IDLE_RPM_2</th>\n",
              "      <th>E_IDLE_CO2_2</th>\n",
              "      <th>E_IDLE_O2_2</th>\n",
              "      <th>E_IDLE_HC_2</th>\n",
              "      <th>E_IDLE_HC_DCF_2</th>\n",
              "      <th>E_IDLE_CO_2</th>\n",
              "      <th>E_IDLE_CO_DCF_2</th>\n",
              "      <th>E_RESULT_STRING</th>\n",
              "      <th>V_SMOKE1</th>\n",
              "      <th>V_SMOKE2</th>\n",
              "      <th>V_GASCAP</th>\n",
              "      <th>V_CAT</th>\n",
              "      <th>V_RESULT</th>\n",
              "      <th>KOEO_RESULT</th>\n",
              "      <th>KOER_RESULT</th>\n",
              "      <th>OBD_RDY_MISFIRE</th>\n",
              "      <th>OBD_RDY_FUEL</th>\n",
              "      <th>OBD_RDY_COMPONENT</th>\n",
              "      <th>OBD_RDY_CAT</th>\n",
              "      <th>OBD_RDY_CAT_HEATED</th>\n",
              "      <th>OBD_RDY_EVAP</th>\n",
              "      <th>OBD_RDY_SEC_AIR</th>\n",
              "      <th>OBD_RDY_AIR_COND</th>\n",
              "      <th>OBD_RDY_O2_SENSOR</th>\n",
              "      <th>OBD_RDY_O2_HEATER</th>\n",
              "      <th>OBD_RDY_EGR</th>\n",
              "      <th>OBD_RDY_RESULT</th>\n",
              "      <th>OBD_PID</th>\n",
              "      <th>OBD_PCM_ID</th>\n",
              "      <th>OBD_VIN</th>\n",
              "      <th>OBD_FLT_CODES</th>\n",
              "      <th>OBD_FLT_RESULT</th>\n",
              "      <th>OBD_MIL_STATUS</th>\n",
              "      <th>OBD_RESULT</th>\n",
              "      <th>ONLINE_STATUS</th>\n",
              "      <th>OFFLINE_REASON_CODE</th>\n",
              "      <th>ABORT_CODE</th>\n",
              "      <th>SOFTWARE_VERSION</th>\n",
              "      <th>INSP_COMMENTS</th>\n",
              "      <th>OVERALL_RESULT</th>\n",
              "      <th>R_TOTAL_COST</th>\n",
              "      <th>R_EGR</th>\n",
              "      <th>R_ELECTRICAL</th>\n",
              "      <th>R_EVAP_CONTROL</th>\n",
              "      <th>R_EXHAUST</th>\n",
              "      <th>R_IGNITION</th>\n",
              "      <th>R_INTAKE</th>\n",
              "      <th>R_ENGINE</th>\n",
              "      <th>R_PCV</th>\n",
              "      <th>R_OTHER</th>\n",
              "      <th>SentToWW</th>\n",
              "      <th>ABORT_CODE_OTHER_DESC</th>\n",
              "      <th>OBDII_AFFECT_OVERALL</th>\n",
              "      <th>E_HIGH_CO_RESULT</th>\n",
              "      <th>E_HIGH_HC_RESULT</th>\n",
              "      <th>E_IDLE_CO_RESULT</th>\n",
              "      <th>E_IDLE_HC_RESULT</th>\n",
              "      <th>MECHANIC_LAST_NAME</th>\n",
              "      <th>MECHANIC_FIRST_NAME</th>\n",
              "      <th>MECHANIC_MIDDLE_INIT</th>\n",
              "      <th>ENGINE_SIZE_ORIG</th>\n",
              "      <th>FAILED_IDLE_RPM</th>\n",
              "      <th>SENTTOVID</th>\n",
              "      <th>Station_License_Number</th>\n",
              "      <th>Analyzer_Number</th>\n",
              "      <th>Insert_DateTime\\r</th>\n",
              "      <th>TEST_YEAR</th>\n",
              "      <th>AGE</th>\n",
              "    </tr>\n",
              "  </thead>\n",
              "  <tbody>\n",
              "    <tr>\n",
              "      <th>0</th>\n",
              "      <td>111260</td>\n",
              "      <td>7408</td>\n",
              "      <td>4486883.0</td>\n",
              "      <td>IS329</td>\n",
              "      <td>W036</td>\n",
              "      <td>26351553</td>\n",
              "      <td>I</td>\n",
              "      <td>I</td>\n",
              "      <td>2004-12-16 10:57:00</td>\n",
              "      <td>2004-12-16 11:03:00</td>\n",
              "      <td>1FTCR10A8RUE42421</td>\n",
              "      <td>S</td>\n",
              "      <td>NPE42421</td>\n",
              "      <td>1.0</td>\n",
              "      <td>4222</td>\n",
              "      <td>1994</td>\n",
              "      <td>FORD</td>\n",
              "      <td>RANGER REG. CAB - SHO</td>\n",
              "      <td>4</td>\n",
              "      <td>2300</td>\n",
              "      <td>M</td>\n",
              "      <td>N</td>\n",
              "      <td>53274</td>\n",
              "      <td>G</td>\n",
              "      <td>3</td>\n",
              "      <td>16.97</td>\n",
              "      <td>87107</td>\n",
              "      <td>F</td>\n",
              "      <td>11.0</td>\n",
              "      <td>948055</td>\n",
              "      <td>1</td>\n",
              "      <td>1</td>\n",
              "      <td>1.21</td>\n",
              "      <td>2676</td>\n",
              "      <td>12.7</td>\n",
              "      <td>3.57</td>\n",
              "      <td>18</td>\n",
              "      <td>22</td>\n",
              "      <td>180</td>\n",
              "      <td>0.0</td>\n",
              "      <td>0.0</td>\n",
              "      <td>1.2</td>\n",
              "      <td>1.23</td>\n",
              "      <td>809.0</td>\n",
              "      <td>12.4</td>\n",
              "      <td>3.8</td>\n",
              "      <td>26.0</td>\n",
              "      <td>32.0</td>\n",
              "      <td>180.0</td>\n",
              "      <td>0.03</td>\n",
              "      <td>0.04</td>\n",
              "      <td>1.2</td>\n",
              "      <td>0.0</td>\n",
              "      <td>0.0</td>\n",
              "      <td>0.0</td>\n",
              "      <td>0.0</td>\n",
              "      <td>0.0</td>\n",
              "      <td>0.0</td>\n",
              "      <td>0.0</td>\n",
              "      <td>0.0</td>\n",
              "      <td>0.0</td>\n",
              "      <td>0.0</td>\n",
              "      <td>0.0</td>\n",
              "      <td>0.0</td>\n",
              "      <td>0.0</td>\n",
              "      <td>0.0</td>\n",
              "      <td>0.0</td>\n",
              "      <td>0.0</td>\n",
              "      <td>P</td>\n",
              "      <td>P</td>\n",
              "      <td>P</td>\n",
              "      <td>P</td>\n",
              "      <td>P</td>\n",
              "      <td>P</td>\n",
              "      <td>NaN</td>\n",
              "      <td>NaN</td>\n",
              "      <td>NaN</td>\n",
              "      <td>NaN</td>\n",
              "      <td>NaN</td>\n",
              "      <td>NaN</td>\n",
              "      <td>NaN</td>\n",
              "      <td>NaN</td>\n",
              "      <td>NaN</td>\n",
              "      <td>NaN</td>\n",
              "      <td>NaN</td>\n",
              "      <td>NaN</td>\n",
              "      <td>NaN</td>\n",
              "      <td>NaN</td>\n",
              "      <td>NaN</td>\n",
              "      <td>NaN</td>\n",
              "      <td>NaN</td>\n",
              "      <td>NaN</td>\n",
              "      <td>NaN</td>\n",
              "      <td>NaN</td>\n",
              "      <td>NaN</td>\n",
              "      <td>1.0</td>\n",
              "      <td>0.0</td>\n",
              "      <td>NaN</td>\n",
              "      <td>141.0</td>\n",
              "      <td>NaN</td>\n",
              "      <td>P</td>\n",
              "      <td>NaN</td>\n",
              "      <td>NaN</td>\n",
              "      <td>NaN</td>\n",
              "      <td>NaN</td>\n",
              "      <td>NaN</td>\n",
              "      <td>NaN</td>\n",
              "      <td>NaN</td>\n",
              "      <td>NaN</td>\n",
              "      <td>NaN</td>\n",
              "      <td>NaN</td>\n",
              "      <td>0.0</td>\n",
              "      <td>NaN</td>\n",
              "      <td>NaN</td>\n",
              "      <td>P</td>\n",
              "      <td>P</td>\n",
              "      <td>P</td>\n",
              "      <td>P</td>\n",
              "      <td>SANCHEZ</td>\n",
              "      <td>TIM</td>\n",
              "      <td>J</td>\n",
              "      <td>NaN</td>\n",
              "      <td>NaN</td>\n",
              "      <td>0.0</td>\n",
              "      <td>IS329</td>\n",
              "      <td>W036</td>\n",
              "      <td>2006-01-12 21:19:17\\r</td>\n",
              "      <td>2004</td>\n",
              "      <td>10</td>\n",
              "    </tr>\n",
              "    <tr>\n",
              "      <th>1</th>\n",
              "      <td>138031</td>\n",
              "      <td>969</td>\n",
              "      <td>4437994.0</td>\n",
              "      <td>IS267</td>\n",
              "      <td>W014</td>\n",
              "      <td>17496701</td>\n",
              "      <td>I</td>\n",
              "      <td>I</td>\n",
              "      <td>2004-08-13 14:10:00</td>\n",
              "      <td>2004-08-13 14:12:00</td>\n",
              "      <td>1G1JC5249Y7453635</td>\n",
              "      <td>S</td>\n",
              "      <td>CKK700</td>\n",
              "      <td>1.0</td>\n",
              "      <td>2875</td>\n",
              "      <td>2000</td>\n",
              "      <td>CHEVROLET</td>\n",
              "      <td>CAVALIER</td>\n",
              "      <td>4</td>\n",
              "      <td>2200</td>\n",
              "      <td>A</td>\n",
              "      <td>N</td>\n",
              "      <td>109225</td>\n",
              "      <td>G</td>\n",
              "      <td>1</td>\n",
              "      <td>19.95</td>\n",
              "      <td>87114</td>\n",
              "      <td>F</td>\n",
              "      <td>6.0</td>\n",
              "      <td>0</td>\n",
              "      <td>1</td>\n",
              "      <td>1</td>\n",
              "      <td>0.00</td>\n",
              "      <td>0</td>\n",
              "      <td>0.0</td>\n",
              "      <td>0.00</td>\n",
              "      <td>0</td>\n",
              "      <td>0</td>\n",
              "      <td>100</td>\n",
              "      <td>0.0</td>\n",
              "      <td>0.0</td>\n",
              "      <td>1.0</td>\n",
              "      <td>0.00</td>\n",
              "      <td>0.0</td>\n",
              "      <td>0.0</td>\n",
              "      <td>0.0</td>\n",
              "      <td>0.0</td>\n",
              "      <td>0.0</td>\n",
              "      <td>100.0</td>\n",
              "      <td>0.00</td>\n",
              "      <td>0.00</td>\n",
              "      <td>1.0</td>\n",
              "      <td>0.0</td>\n",
              "      <td>0.0</td>\n",
              "      <td>0.0</td>\n",
              "      <td>0.0</td>\n",
              "      <td>0.0</td>\n",
              "      <td>0.0</td>\n",
              "      <td>0.0</td>\n",
              "      <td>0.0</td>\n",
              "      <td>0.0</td>\n",
              "      <td>0.0</td>\n",
              "      <td>0.0</td>\n",
              "      <td>0.0</td>\n",
              "      <td>0.0</td>\n",
              "      <td>0.0</td>\n",
              "      <td>0.0</td>\n",
              "      <td>0.0</td>\n",
              "      <td>N</td>\n",
              "      <td>P</td>\n",
              "      <td>N</td>\n",
              "      <td>N</td>\n",
              "      <td>N</td>\n",
              "      <td>N</td>\n",
              "      <td>P</td>\n",
              "      <td>P</td>\n",
              "      <td>1.0</td>\n",
              "      <td>1.0</td>\n",
              "      <td>4.0</td>\n",
              "      <td>1.0</td>\n",
              "      <td>0.0</td>\n",
              "      <td>5.0</td>\n",
              "      <td>0.0</td>\n",
              "      <td>3.0</td>\n",
              "      <td>4.0</td>\n",
              "      <td>1.0</td>\n",
              "      <td>0.0</td>\n",
              "      <td>P</td>\n",
              "      <td>6.0</td>\n",
              "      <td>NaN</td>\n",
              "      <td>NaN</td>\n",
              "      <td>NaN</td>\n",
              "      <td>P</td>\n",
              "      <td>1.0</td>\n",
              "      <td>P</td>\n",
              "      <td>1.0</td>\n",
              "      <td>0.0</td>\n",
              "      <td>NaN</td>\n",
              "      <td>140.0</td>\n",
              "      <td>NaN</td>\n",
              "      <td>P</td>\n",
              "      <td>NaN</td>\n",
              "      <td>NaN</td>\n",
              "      <td>NaN</td>\n",
              "      <td>NaN</td>\n",
              "      <td>NaN</td>\n",
              "      <td>NaN</td>\n",
              "      <td>NaN</td>\n",
              "      <td>NaN</td>\n",
              "      <td>NaN</td>\n",
              "      <td>NaN</td>\n",
              "      <td>0.0</td>\n",
              "      <td>NaN</td>\n",
              "      <td>N</td>\n",
              "      <td>N</td>\n",
              "      <td>N</td>\n",
              "      <td>N</td>\n",
              "      <td>N</td>\n",
              "      <td>Trujillo</td>\n",
              "      <td>Vince</td>\n",
              "      <td>NaN</td>\n",
              "      <td>NaN</td>\n",
              "      <td>NaN</td>\n",
              "      <td>0.0</td>\n",
              "      <td>IS394</td>\n",
              "      <td>W014</td>\n",
              "      <td>2006-01-13 17:43:30\\r</td>\n",
              "      <td>2004</td>\n",
              "      <td>4</td>\n",
              "    </tr>\n",
              "    <tr>\n",
              "      <th>2</th>\n",
              "      <td>298121</td>\n",
              "      <td>185</td>\n",
              "      <td>NaN</td>\n",
              "      <td>IR354</td>\n",
              "      <td>W109</td>\n",
              "      <td>32641547</td>\n",
              "      <td>I</td>\n",
              "      <td>NaN</td>\n",
              "      <td>2004-08-31 13:03:00</td>\n",
              "      <td>2004-08-31 13:03:00</td>\n",
              "      <td>KNJBT06K2K6116760</td>\n",
              "      <td>M</td>\n",
              "      <td>NP116760</td>\n",
              "      <td>1.0</td>\n",
              "      <td>2000</td>\n",
              "      <td>1989</td>\n",
              "      <td>FORD</td>\n",
              "      <td>FESTIVA</td>\n",
              "      <td>4</td>\n",
              "      <td>1300</td>\n",
              "      <td>M</td>\n",
              "      <td>N</td>\n",
              "      <td>110347</td>\n",
              "      <td>G</td>\n",
              "      <td>1</td>\n",
              "      <td>NaN</td>\n",
              "      <td>87108</td>\n",
              "      <td>F</td>\n",
              "      <td>4.0</td>\n",
              "      <td>890199</td>\n",
              "      <td>1</td>\n",
              "      <td>1</td>\n",
              "      <td>1.47</td>\n",
              "      <td>2480</td>\n",
              "      <td>10.4</td>\n",
              "      <td>6.73</td>\n",
              "      <td>20</td>\n",
              "      <td>29</td>\n",
              "      <td>200</td>\n",
              "      <td>0.0</td>\n",
              "      <td>0.0</td>\n",
              "      <td>1.2</td>\n",
              "      <td>0.00</td>\n",
              "      <td>690.0</td>\n",
              "      <td>0.0</td>\n",
              "      <td>0.0</td>\n",
              "      <td>0.0</td>\n",
              "      <td>0.0</td>\n",
              "      <td>200.0</td>\n",
              "      <td>0.00</td>\n",
              "      <td>0.00</td>\n",
              "      <td>1.2</td>\n",
              "      <td>0.0</td>\n",
              "      <td>0.0</td>\n",
              "      <td>0.0</td>\n",
              "      <td>0.0</td>\n",
              "      <td>0.0</td>\n",
              "      <td>0.0</td>\n",
              "      <td>0.0</td>\n",
              "      <td>0.0</td>\n",
              "      <td>0.0</td>\n",
              "      <td>0.0</td>\n",
              "      <td>0.0</td>\n",
              "      <td>0.0</td>\n",
              "      <td>0.0</td>\n",
              "      <td>0.0</td>\n",
              "      <td>0.0</td>\n",
              "      <td>0.0</td>\n",
              "      <td>F</td>\n",
              "      <td>P</td>\n",
              "      <td>P</td>\n",
              "      <td>N</td>\n",
              "      <td>P</td>\n",
              "      <td>P</td>\n",
              "      <td>NaN</td>\n",
              "      <td>NaN</td>\n",
              "      <td>NaN</td>\n",
              "      <td>NaN</td>\n",
              "      <td>NaN</td>\n",
              "      <td>NaN</td>\n",
              "      <td>NaN</td>\n",
              "      <td>NaN</td>\n",
              "      <td>NaN</td>\n",
              "      <td>NaN</td>\n",
              "      <td>NaN</td>\n",
              "      <td>NaN</td>\n",
              "      <td>NaN</td>\n",
              "      <td>NaN</td>\n",
              "      <td>NaN</td>\n",
              "      <td>NaN</td>\n",
              "      <td>NaN</td>\n",
              "      <td>NaN</td>\n",
              "      <td>NaN</td>\n",
              "      <td>NaN</td>\n",
              "      <td>NaN</td>\n",
              "      <td>1.0</td>\n",
              "      <td>0.0</td>\n",
              "      <td>99.0</td>\n",
              "      <td>140.0</td>\n",
              "      <td>NaN</td>\n",
              "      <td>A</td>\n",
              "      <td>NaN</td>\n",
              "      <td>NaN</td>\n",
              "      <td>NaN</td>\n",
              "      <td>NaN</td>\n",
              "      <td>NaN</td>\n",
              "      <td>NaN</td>\n",
              "      <td>NaN</td>\n",
              "      <td>NaN</td>\n",
              "      <td>NaN</td>\n",
              "      <td>NaN</td>\n",
              "      <td>0.0</td>\n",
              "      <td>NaN</td>\n",
              "      <td>NaN</td>\n",
              "      <td>P</td>\n",
              "      <td>P</td>\n",
              "      <td>P</td>\n",
              "      <td>P</td>\n",
              "      <td>Anderson</td>\n",
              "      <td>Phillip</td>\n",
              "      <td>L</td>\n",
              "      <td>NaN</td>\n",
              "      <td>T</td>\n",
              "      <td>0.0</td>\n",
              "      <td>IR354</td>\n",
              "      <td>W109</td>\n",
              "      <td>2006-01-24 09:07:03\\r</td>\n",
              "      <td>2004</td>\n",
              "      <td>15</td>\n",
              "    </tr>\n",
              "    <tr>\n",
              "      <th>3</th>\n",
              "      <td>369185</td>\n",
              "      <td>4569</td>\n",
              "      <td>4469421.0</td>\n",
              "      <td>IS359</td>\n",
              "      <td>W042</td>\n",
              "      <td>11117229</td>\n",
              "      <td>I</td>\n",
              "      <td>I</td>\n",
              "      <td>2004-12-02 11:33:00</td>\n",
              "      <td>2004-12-02 11:39:00</td>\n",
              "      <td>1JCNJ15U6FT075960</td>\n",
              "      <td>M</td>\n",
              "      <td>469FNH</td>\n",
              "      <td>2.0</td>\n",
              "      <td>6200</td>\n",
              "      <td>1985</td>\n",
              "      <td>JEEP</td>\n",
              "      <td>GRAND WAGONEER</td>\n",
              "      <td>8</td>\n",
              "      <td>5900</td>\n",
              "      <td>A</td>\n",
              "      <td>N</td>\n",
              "      <td>152121</td>\n",
              "      <td>G</td>\n",
              "      <td>4</td>\n",
              "      <td>18.81</td>\n",
              "      <td>87103</td>\n",
              "      <td>F</td>\n",
              "      <td>15.0</td>\n",
              "      <td>850119</td>\n",
              "      <td>1</td>\n",
              "      <td>1</td>\n",
              "      <td>1.13</td>\n",
              "      <td>2495</td>\n",
              "      <td>13.6</td>\n",
              "      <td>2.32</td>\n",
              "      <td>12</td>\n",
              "      <td>14</td>\n",
              "      <td>300</td>\n",
              "      <td>0.0</td>\n",
              "      <td>0.0</td>\n",
              "      <td>3.0</td>\n",
              "      <td>1.24</td>\n",
              "      <td>911.0</td>\n",
              "      <td>12.4</td>\n",
              "      <td>4.1</td>\n",
              "      <td>12.0</td>\n",
              "      <td>15.0</td>\n",
              "      <td>300.0</td>\n",
              "      <td>0.00</td>\n",
              "      <td>0.00</td>\n",
              "      <td>1.2</td>\n",
              "      <td>0.0</td>\n",
              "      <td>0.0</td>\n",
              "      <td>0.0</td>\n",
              "      <td>0.0</td>\n",
              "      <td>0.0</td>\n",
              "      <td>0.0</td>\n",
              "      <td>0.0</td>\n",
              "      <td>0.0</td>\n",
              "      <td>0.0</td>\n",
              "      <td>0.0</td>\n",
              "      <td>0.0</td>\n",
              "      <td>0.0</td>\n",
              "      <td>0.0</td>\n",
              "      <td>0.0</td>\n",
              "      <td>0.0</td>\n",
              "      <td>0.0</td>\n",
              "      <td>P</td>\n",
              "      <td>P</td>\n",
              "      <td>P</td>\n",
              "      <td>P</td>\n",
              "      <td>P</td>\n",
              "      <td>P</td>\n",
              "      <td>NaN</td>\n",
              "      <td>NaN</td>\n",
              "      <td>NaN</td>\n",
              "      <td>NaN</td>\n",
              "      <td>NaN</td>\n",
              "      <td>NaN</td>\n",
              "      <td>NaN</td>\n",
              "      <td>NaN</td>\n",
              "      <td>NaN</td>\n",
              "      <td>NaN</td>\n",
              "      <td>NaN</td>\n",
              "      <td>NaN</td>\n",
              "      <td>NaN</td>\n",
              "      <td>NaN</td>\n",
              "      <td>NaN</td>\n",
              "      <td>NaN</td>\n",
              "      <td>NaN</td>\n",
              "      <td>NaN</td>\n",
              "      <td>NaN</td>\n",
              "      <td>NaN</td>\n",
              "      <td>NaN</td>\n",
              "      <td>1.0</td>\n",
              "      <td>0.0</td>\n",
              "      <td>NaN</td>\n",
              "      <td>141.0</td>\n",
              "      <td>NaN</td>\n",
              "      <td>P</td>\n",
              "      <td>NaN</td>\n",
              "      <td>NaN</td>\n",
              "      <td>NaN</td>\n",
              "      <td>NaN</td>\n",
              "      <td>NaN</td>\n",
              "      <td>NaN</td>\n",
              "      <td>NaN</td>\n",
              "      <td>NaN</td>\n",
              "      <td>NaN</td>\n",
              "      <td>NaN</td>\n",
              "      <td>0.0</td>\n",
              "      <td>NaN</td>\n",
              "      <td>NaN</td>\n",
              "      <td>P</td>\n",
              "      <td>P</td>\n",
              "      <td>P</td>\n",
              "      <td>P</td>\n",
              "      <td>NGUYEN</td>\n",
              "      <td>DUC</td>\n",
              "      <td>NaN</td>\n",
              "      <td>NaN</td>\n",
              "      <td>NaN</td>\n",
              "      <td>0.0</td>\n",
              "      <td>IS404</td>\n",
              "      <td>W042</td>\n",
              "      <td>2006-01-26 17:03:05\\r</td>\n",
              "      <td>2004</td>\n",
              "      <td>19</td>\n",
              "    </tr>\n",
              "    <tr>\n",
              "      <th>4</th>\n",
              "      <td>384955</td>\n",
              "      <td>1326</td>\n",
              "      <td>4492858.0</td>\n",
              "      <td>IS171</td>\n",
              "      <td>W052</td>\n",
              "      <td>22095231</td>\n",
              "      <td>I</td>\n",
              "      <td>I</td>\n",
              "      <td>2004-12-29 17:00:00</td>\n",
              "      <td>2004-12-29 17:03:00</td>\n",
              "      <td>1G8ZJ5273VZ102496</td>\n",
              "      <td>S</td>\n",
              "      <td>NP102496</td>\n",
              "      <td>1.0</td>\n",
              "      <td>2625</td>\n",
              "      <td>1997</td>\n",
              "      <td>SATURN</td>\n",
              "      <td>SC</td>\n",
              "      <td>4</td>\n",
              "      <td>1900</td>\n",
              "      <td>M</td>\n",
              "      <td>N</td>\n",
              "      <td>135640</td>\n",
              "      <td>G</td>\n",
              "      <td>1</td>\n",
              "      <td>14.99</td>\n",
              "      <td>87111</td>\n",
              "      <td>R</td>\n",
              "      <td>6.0</td>\n",
              "      <td>0</td>\n",
              "      <td>1</td>\n",
              "      <td>1</td>\n",
              "      <td>0.00</td>\n",
              "      <td>0</td>\n",
              "      <td>0.0</td>\n",
              "      <td>0.00</td>\n",
              "      <td>0</td>\n",
              "      <td>0</td>\n",
              "      <td>100</td>\n",
              "      <td>0.0</td>\n",
              "      <td>0.0</td>\n",
              "      <td>1.0</td>\n",
              "      <td>0.00</td>\n",
              "      <td>0.0</td>\n",
              "      <td>0.0</td>\n",
              "      <td>0.0</td>\n",
              "      <td>0.0</td>\n",
              "      <td>0.0</td>\n",
              "      <td>100.0</td>\n",
              "      <td>0.00</td>\n",
              "      <td>0.00</td>\n",
              "      <td>1.0</td>\n",
              "      <td>0.0</td>\n",
              "      <td>0.0</td>\n",
              "      <td>0.0</td>\n",
              "      <td>0.0</td>\n",
              "      <td>0.0</td>\n",
              "      <td>0.0</td>\n",
              "      <td>0.0</td>\n",
              "      <td>0.0</td>\n",
              "      <td>0.0</td>\n",
              "      <td>0.0</td>\n",
              "      <td>0.0</td>\n",
              "      <td>0.0</td>\n",
              "      <td>0.0</td>\n",
              "      <td>0.0</td>\n",
              "      <td>0.0</td>\n",
              "      <td>0.0</td>\n",
              "      <td>N</td>\n",
              "      <td>P</td>\n",
              "      <td>N</td>\n",
              "      <td>N</td>\n",
              "      <td>N</td>\n",
              "      <td>N</td>\n",
              "      <td>P</td>\n",
              "      <td>P</td>\n",
              "      <td>1.0</td>\n",
              "      <td>1.0</td>\n",
              "      <td>4.0</td>\n",
              "      <td>1.0</td>\n",
              "      <td>0.0</td>\n",
              "      <td>3.0</td>\n",
              "      <td>0.0</td>\n",
              "      <td>3.0</td>\n",
              "      <td>4.0</td>\n",
              "      <td>1.0</td>\n",
              "      <td>1.0</td>\n",
              "      <td>P</td>\n",
              "      <td>16.0</td>\n",
              "      <td>10</td>\n",
              "      <td>NaN</td>\n",
              "      <td>P0300</td>\n",
              "      <td>F</td>\n",
              "      <td>1.0</td>\n",
              "      <td>P</td>\n",
              "      <td>1.0</td>\n",
              "      <td>0.0</td>\n",
              "      <td>NaN</td>\n",
              "      <td>147.0</td>\n",
              "      <td>NaN</td>\n",
              "      <td>P</td>\n",
              "      <td>NaN</td>\n",
              "      <td>NaN</td>\n",
              "      <td>NaN</td>\n",
              "      <td>NaN</td>\n",
              "      <td>NaN</td>\n",
              "      <td>NaN</td>\n",
              "      <td>NaN</td>\n",
              "      <td>NaN</td>\n",
              "      <td>NaN</td>\n",
              "      <td>NaN</td>\n",
              "      <td>0.0</td>\n",
              "      <td>NaN</td>\n",
              "      <td>N</td>\n",
              "      <td>N</td>\n",
              "      <td>N</td>\n",
              "      <td>N</td>\n",
              "      <td>N</td>\n",
              "      <td>Nguyen</td>\n",
              "      <td>Kenny</td>\n",
              "      <td>T</td>\n",
              "      <td>NaN</td>\n",
              "      <td>NaN</td>\n",
              "      <td>0.0</td>\n",
              "      <td>IS171</td>\n",
              "      <td>W052</td>\n",
              "      <td>2006-01-31 16:06:03\\r</td>\n",
              "      <td>2004</td>\n",
              "      <td>7</td>\n",
              "    </tr>\n",
              "  </tbody>\n",
              "</table>\n",
              "</div>"
            ],
            "text/plain": [
              "   RecordID  RECORD_NUM  VIR_CERT_NUMBER STATION_NUM ANALYZER_NUM  \\\n",
              "0    111260        7408        4486883.0       IS329         W036   \n",
              "1    138031         969        4437994.0       IS267         W014   \n",
              "2    298121         185              NaN       IR354         W109   \n",
              "3    369185        4569        4469421.0       IS359         W042   \n",
              "4    384955        1326        4492858.0       IS171         W052   \n",
              "\n",
              "  INSPECTOR_NUM TEST_TYPE VID_TEST_TYPE          TEST_SDATE  \\\n",
              "0      26351553         I             I 2004-12-16 10:57:00   \n",
              "1      17496701         I             I 2004-08-13 14:10:00   \n",
              "2      32641547         I           NaN 2004-08-31 13:03:00   \n",
              "3      11117229         I             I 2004-12-02 11:33:00   \n",
              "4      22095231         I             I 2004-12-29 17:00:00   \n",
              "\n",
              "           TEST_EDATE                VIN VIN_SOURCE VEH_LICENSE  GVW_TYPE  \\\n",
              "0 2004-12-16 11:03:00  1FTCR10A8RUE42421          S    NPE42421       1.0   \n",
              "1 2004-08-13 14:12:00  1G1JC5249Y7453635          S      CKK700       1.0   \n",
              "2 2004-08-31 13:03:00  KNJBT06K2K6116760          M    NP116760       1.0   \n",
              "3 2004-12-02 11:39:00  1JCNJ15U6FT075960          M      469FNH       2.0   \n",
              "4 2004-12-29 17:03:00  1G8ZJ5273VZ102496          S    NP102496       1.0   \n",
              "\n",
              "   GVWR  MODEL_YEAR       MAKE                  MODEL CYL  ENGINE_SIZE  \\\n",
              "0  4222        1994       FORD  RANGER REG. CAB - SHO   4         2300   \n",
              "1  2875        2000  CHEVROLET               CAVALIER   4         2200   \n",
              "2  2000        1989       FORD                FESTIVA   4         1300   \n",
              "3  6200        1985       JEEP         GRAND WAGONEER   8         5900   \n",
              "4  2625        1997     SATURN                     SC   4         1900   \n",
              "\n",
              "  TRANS_TYPE DUAL_EXHAUST  ODOMETER FUEL_TYPE  VEHICLE_TYPE  EMISS_COST  \\\n",
              "0          M            N     53274         G             3       16.97   \n",
              "1          A            N    109225         G             1       19.95   \n",
              "2          M            N    110347         G             1         NaN   \n",
              "3          A            N    152121         G             4       18.81   \n",
              "4          M            N    135640         G             1       14.99   \n",
              "\n",
              "  ZIP_CODE CERTIFICATION   ESC  VRT_RECORD_ID  E_TEST_SEQUENCE  \\\n",
              "0    87107             F  11.0         948055                1   \n",
              "1    87114             F   6.0              0                1   \n",
              "2    87108             F   4.0         890199                1   \n",
              "3    87103             F  15.0         850119                1   \n",
              "4    87111             R   6.0              0                1   \n",
              "\n",
              "   E_PRECOND_PROCEDURE  E_HIGH_DCF  E_HIGH_RPM  E_HIGH_CO2  E_HIGH_O2  \\\n",
              "0                    1        1.21        2676        12.7       3.57   \n",
              "1                    1        0.00           0         0.0       0.00   \n",
              "2                    1        1.47        2480        10.4       6.73   \n",
              "3                    1        1.13        2495        13.6       2.32   \n",
              "4                    1        0.00           0         0.0       0.00   \n",
              "\n",
              "   E_HIGH_HC  E_HIGH_HC_DCF  E_HIGH_HC_LIMIT  E_HIGH_CO  E_HIGH_CO_DCF  \\\n",
              "0         18             22              180        0.0            0.0   \n",
              "1          0              0              100        0.0            0.0   \n",
              "2         20             29              200        0.0            0.0   \n",
              "3         12             14              300        0.0            0.0   \n",
              "4          0              0              100        0.0            0.0   \n",
              "\n",
              "   E_HIGH_CO_LIMIT  E_IDLE_DCF  E_IDLE_RPM  E_IDLE_CO2  E_IDLE_O2  E_IDLE_HC  \\\n",
              "0              1.2        1.23       809.0        12.4        3.8       26.0   \n",
              "1              1.0        0.00         0.0         0.0        0.0        0.0   \n",
              "2              1.2        0.00       690.0         0.0        0.0        0.0   \n",
              "3              3.0        1.24       911.0        12.4        4.1       12.0   \n",
              "4              1.0        0.00         0.0         0.0        0.0        0.0   \n",
              "\n",
              "   E_IDLE_HC_DCF  E_IDLE_HC_LIMIT  E_IDLE_CO  E_IDLE_CO_DCF  E_IDLE_CO_LIMIT  \\\n",
              "0           32.0            180.0       0.03           0.04              1.2   \n",
              "1            0.0            100.0       0.00           0.00              1.0   \n",
              "2            0.0            200.0       0.00           0.00              1.2   \n",
              "3           15.0            300.0       0.00           0.00              1.2   \n",
              "4            0.0            100.0       0.00           0.00              1.0   \n",
              "\n",
              "   E_HIGH_DCF_2  E_HIGH_RPM_2  E_HIGH_CO2_2  E_HIGH_O2_2  E_HIGH_HC_2  \\\n",
              "0           0.0           0.0           0.0          0.0          0.0   \n",
              "1           0.0           0.0           0.0          0.0          0.0   \n",
              "2           0.0           0.0           0.0          0.0          0.0   \n",
              "3           0.0           0.0           0.0          0.0          0.0   \n",
              "4           0.0           0.0           0.0          0.0          0.0   \n",
              "\n",
              "   E_HIGH_HC_DCF_2  E_HIGH_CO_2  E_HIGH_CO_DCF_2  E_IDLE_DCF_2  E_IDLE_RPM_2  \\\n",
              "0              0.0          0.0              0.0           0.0           0.0   \n",
              "1              0.0          0.0              0.0           0.0           0.0   \n",
              "2              0.0          0.0              0.0           0.0           0.0   \n",
              "3              0.0          0.0              0.0           0.0           0.0   \n",
              "4              0.0          0.0              0.0           0.0           0.0   \n",
              "\n",
              "   E_IDLE_CO2_2  E_IDLE_O2_2  E_IDLE_HC_2  E_IDLE_HC_DCF_2  E_IDLE_CO_2  \\\n",
              "0           0.0          0.0          0.0              0.0          0.0   \n",
              "1           0.0          0.0          0.0              0.0          0.0   \n",
              "2           0.0          0.0          0.0              0.0          0.0   \n",
              "3           0.0          0.0          0.0              0.0          0.0   \n",
              "4           0.0          0.0          0.0              0.0          0.0   \n",
              "\n",
              "   E_IDLE_CO_DCF_2 E_RESULT_STRING V_SMOKE1 V_SMOKE2 V_GASCAP V_CAT V_RESULT  \\\n",
              "0              0.0               P        P        P        P     P        P   \n",
              "1              0.0               N        P        N        N     N        N   \n",
              "2              0.0               F        P        P        N     P        P   \n",
              "3              0.0               P        P        P        P     P        P   \n",
              "4              0.0               N        P        N        N     N        N   \n",
              "\n",
              "  KOEO_RESULT KOER_RESULT  OBD_RDY_MISFIRE  OBD_RDY_FUEL  OBD_RDY_COMPONENT  \\\n",
              "0         NaN         NaN              NaN           NaN                NaN   \n",
              "1           P           P              1.0           1.0                4.0   \n",
              "2         NaN         NaN              NaN           NaN                NaN   \n",
              "3         NaN         NaN              NaN           NaN                NaN   \n",
              "4           P           P              1.0           1.0                4.0   \n",
              "\n",
              "   OBD_RDY_CAT  OBD_RDY_CAT_HEATED  OBD_RDY_EVAP  OBD_RDY_SEC_AIR  \\\n",
              "0          NaN                 NaN           NaN              NaN   \n",
              "1          1.0                 0.0           5.0              0.0   \n",
              "2          NaN                 NaN           NaN              NaN   \n",
              "3          NaN                 NaN           NaN              NaN   \n",
              "4          1.0                 0.0           3.0              0.0   \n",
              "\n",
              "   OBD_RDY_AIR_COND  OBD_RDY_O2_SENSOR  OBD_RDY_O2_HEATER  OBD_RDY_EGR  \\\n",
              "0               NaN                NaN                NaN          NaN   \n",
              "1               3.0                4.0                1.0          0.0   \n",
              "2               NaN                NaN                NaN          NaN   \n",
              "3               NaN                NaN                NaN          NaN   \n",
              "4               3.0                4.0                1.0          1.0   \n",
              "\n",
              "  OBD_RDY_RESULT  OBD_PID OBD_PCM_ID OBD_VIN OBD_FLT_CODES OBD_FLT_RESULT  \\\n",
              "0            NaN      NaN        NaN     NaN           NaN            NaN   \n",
              "1              P      6.0        NaN     NaN           NaN              P   \n",
              "2            NaN      NaN        NaN     NaN           NaN            NaN   \n",
              "3            NaN      NaN        NaN     NaN           NaN            NaN   \n",
              "4              P     16.0         10     NaN         P0300              F   \n",
              "\n",
              "   OBD_MIL_STATUS OBD_RESULT  ONLINE_STATUS  OFFLINE_REASON_CODE  ABORT_CODE  \\\n",
              "0             NaN        NaN            1.0                  0.0         NaN   \n",
              "1             1.0          P            1.0                  0.0         NaN   \n",
              "2             NaN        NaN            1.0                  0.0        99.0   \n",
              "3             NaN        NaN            1.0                  0.0         NaN   \n",
              "4             1.0          P            1.0                  0.0         NaN   \n",
              "\n",
              "   SOFTWARE_VERSION  INSP_COMMENTS OVERALL_RESULT  R_TOTAL_COST R_EGR  \\\n",
              "0             141.0            NaN              P           NaN   NaN   \n",
              "1             140.0            NaN              P           NaN   NaN   \n",
              "2             140.0            NaN              A           NaN   NaN   \n",
              "3             141.0            NaN              P           NaN   NaN   \n",
              "4             147.0            NaN              P           NaN   NaN   \n",
              "\n",
              "  R_ELECTRICAL R_EVAP_CONTROL R_EXHAUST R_IGNITION R_INTAKE R_ENGINE R_PCV  \\\n",
              "0          NaN            NaN       NaN        NaN      NaN      NaN   NaN   \n",
              "1          NaN            NaN       NaN        NaN      NaN      NaN   NaN   \n",
              "2          NaN            NaN       NaN        NaN      NaN      NaN   NaN   \n",
              "3          NaN            NaN       NaN        NaN      NaN      NaN   NaN   \n",
              "4          NaN            NaN       NaN        NaN      NaN      NaN   NaN   \n",
              "\n",
              "  R_OTHER  SentToWW ABORT_CODE_OTHER_DESC OBDII_AFFECT_OVERALL  \\\n",
              "0     NaN       0.0                   NaN                  NaN   \n",
              "1     NaN       0.0                   NaN                    N   \n",
              "2     NaN       0.0                   NaN                  NaN   \n",
              "3     NaN       0.0                   NaN                  NaN   \n",
              "4     NaN       0.0                   NaN                    N   \n",
              "\n",
              "  E_HIGH_CO_RESULT E_HIGH_HC_RESULT E_IDLE_CO_RESULT E_IDLE_HC_RESULT  \\\n",
              "0                P                P                P                P   \n",
              "1                N                N                N                N   \n",
              "2                P                P                P                P   \n",
              "3                P                P                P                P   \n",
              "4                N                N                N                N   \n",
              "\n",
              "  MECHANIC_LAST_NAME MECHANIC_FIRST_NAME MECHANIC_MIDDLE_INIT  \\\n",
              "0            SANCHEZ                 TIM                    J   \n",
              "1           Trujillo               Vince                  NaN   \n",
              "2           Anderson             Phillip                    L   \n",
              "3             NGUYEN                 DUC                  NaN   \n",
              "4             Nguyen               Kenny                    T   \n",
              "\n",
              "  ENGINE_SIZE_ORIG FAILED_IDLE_RPM  SENTTOVID Station_License_Number  \\\n",
              "0              NaN             NaN        0.0                  IS329   \n",
              "1              NaN             NaN        0.0                  IS394   \n",
              "2              NaN               T        0.0                  IR354   \n",
              "3              NaN             NaN        0.0                  IS404   \n",
              "4              NaN             NaN        0.0                  IS171   \n",
              "\n",
              "  Analyzer_Number      Insert_DateTime\\r TEST_YEAR  AGE  \n",
              "0            W036  2006-01-12 21:19:17\\r      2004   10  \n",
              "1            W014  2006-01-13 17:43:30\\r      2004    4  \n",
              "2            W109  2006-01-24 09:07:03\\r      2004   15  \n",
              "3            W042  2006-01-26 17:03:05\\r      2004   19  \n",
              "4            W052  2006-01-31 16:06:03\\r      2004    7  "
            ]
          },
          "metadata": {
            "tags": []
          },
          "execution_count": 257
        }
      ]
    },
    {
      "cell_type": "markdown",
      "metadata": {
        "id": "Gqq_7xwDFklP",
        "colab_type": "text"
      },
      "source": [
        "### exploring the ODOMETER variable"
      ]
    },
    {
      "cell_type": "code",
      "metadata": {
        "id": "hp3HOj1EFZ2Q",
        "colab_type": "code",
        "colab": {
          "base_uri": "https://localhost:8080/",
          "height": 424
        },
        "outputId": "db27f905-0fa1-4a0d-9270-5f52f3642dcc"
      },
      "source": [
        "df[['ODOMETER']]"
      ],
      "execution_count": null,
      "outputs": [
        {
          "output_type": "execute_result",
          "data": {
            "text/html": [
              "<div>\n",
              "<style scoped>\n",
              "    .dataframe tbody tr th:only-of-type {\n",
              "        vertical-align: middle;\n",
              "    }\n",
              "\n",
              "    .dataframe tbody tr th {\n",
              "        vertical-align: top;\n",
              "    }\n",
              "\n",
              "    .dataframe thead th {\n",
              "        text-align: right;\n",
              "    }\n",
              "</style>\n",
              "<table border=\"1\" class=\"dataframe\">\n",
              "  <thead>\n",
              "    <tr style=\"text-align: right;\">\n",
              "      <th></th>\n",
              "      <th>ODOMETER</th>\n",
              "    </tr>\n",
              "  </thead>\n",
              "  <tbody>\n",
              "    <tr>\n",
              "      <th>0</th>\n",
              "      <td>53274</td>\n",
              "    </tr>\n",
              "    <tr>\n",
              "      <th>1</th>\n",
              "      <td>109225</td>\n",
              "    </tr>\n",
              "    <tr>\n",
              "      <th>2</th>\n",
              "      <td>110347</td>\n",
              "    </tr>\n",
              "    <tr>\n",
              "      <th>3</th>\n",
              "      <td>152121</td>\n",
              "    </tr>\n",
              "    <tr>\n",
              "      <th>4</th>\n",
              "      <td>135640</td>\n",
              "    </tr>\n",
              "    <tr>\n",
              "      <th>...</th>\n",
              "      <td>...</td>\n",
              "    </tr>\n",
              "    <tr>\n",
              "      <th>235172</th>\n",
              "      <td>191303</td>\n",
              "    </tr>\n",
              "    <tr>\n",
              "      <th>235173</th>\n",
              "      <td>37783</td>\n",
              "    </tr>\n",
              "    <tr>\n",
              "      <th>235174</th>\n",
              "      <td>40895</td>\n",
              "    </tr>\n",
              "    <tr>\n",
              "      <th>235175</th>\n",
              "      <td>136544</td>\n",
              "    </tr>\n",
              "    <tr>\n",
              "      <th>235176</th>\n",
              "      <td>84116</td>\n",
              "    </tr>\n",
              "  </tbody>\n",
              "</table>\n",
              "<p>235177 rows × 1 columns</p>\n",
              "</div>"
            ],
            "text/plain": [
              "        ODOMETER\n",
              "0          53274\n",
              "1         109225\n",
              "2         110347\n",
              "3         152121\n",
              "4         135640\n",
              "...          ...\n",
              "235172    191303\n",
              "235173     37783\n",
              "235174     40895\n",
              "235175    136544\n",
              "235176     84116\n",
              "\n",
              "[235177 rows x 1 columns]"
            ]
          },
          "metadata": {
            "tags": []
          },
          "execution_count": 258
        }
      ]
    },
    {
      "cell_type": "code",
      "metadata": {
        "id": "R0gEVf8JGAfi",
        "colab_type": "code",
        "colab": {
          "base_uri": "https://localhost:8080/",
          "height": 525
        },
        "outputId": "9c2d9cc3-3d51-4a5f-c681-ce12c69461ff"
      },
      "source": [
        "import seaborn as sns\n",
        "\n",
        "fig, ax = plt.subplots(figsize=(16,8))\n",
        "sns.scatterplot(data=df[df.AGE < 2000], x='AGE', y='ODOMETER', hue='OVERALL_RESULT', s=100, alpha=.1)"
      ],
      "execution_count": null,
      "outputs": [
        {
          "output_type": "execute_result",
          "data": {
            "text/plain": [
              "<matplotlib.axes._subplots.AxesSubplot at 0x7f4da5ccbbe0>"
            ]
          },
          "metadata": {
            "tags": []
          },
          "execution_count": 259
        },
        {
          "output_type": "display_data",
          "data": {
            "image/png": "[encoded data removed]",
            "text/plain": [
              "<Figure size 1152x576 with 1 Axes>"
            ]
          },
          "metadata": {
            "tags": [],
            "needs_background": "light"
          }
        }
      ]
    },
    {
      "cell_type": "code",
      "metadata": {
        "id": "K2Ch3rJrGlBP",
        "colab_type": "code",
        "colab": {
          "base_uri": "https://localhost:8080/",
          "height": 34
        },
        "outputId": "cc1a11de-b944-4eee-8e84-ba25e57785c3"
      },
      "source": [
        "df['ODOMETER'] = df.ODOMETER.replace(0,np.nan)\n",
        "len(df[df.ODOMETER.isna()]), len(df[df.ODOMETER == 0])"
      ],
      "execution_count": null,
      "outputs": [
        {
          "output_type": "execute_result",
          "data": {
            "text/plain": [
              "(2330, 0)"
            ]
          },
          "metadata": {
            "tags": []
          },
          "execution_count": 260
        }
      ]
    },
    {
      "cell_type": "code",
      "metadata": {
        "id": "duaZ9v7PY6bG",
        "colab_type": "code",
        "colab": {}
      },
      "source": [
        "df.ODOMETER.fillna(0, inplace=True)"
      ],
      "execution_count": null,
      "outputs": []
    },
    {
      "cell_type": "code",
      "metadata": {
        "id": "RRrskfPGR342",
        "colab_type": "code",
        "colab": {
          "base_uri": "https://localhost:8080/",
          "height": 557
        },
        "outputId": "4971e173-64ae-4e8e-979e-5488a14f32e3"
      },
      "source": [
        "fig, ax = plt.subplots(figsize=(20,8))\n",
        "df.groupby('ODOMETER').size().sort_values(ascending=False).head(100).plot.bar()"
      ],
      "execution_count": null,
      "outputs": [
        {
          "output_type": "execute_result",
          "data": {
            "text/plain": [
              "<matplotlib.axes._subplots.AxesSubplot at 0x7f4d931ba6d8>"
            ]
          },
          "metadata": {
            "tags": []
          },
          "execution_count": 261
        },
        {
          "output_type": "display_data",
          "data": {
            "image/png": "[encoded data removed]",
            "text/plain": [
              "<Figure size 1440x576 with 1 Axes>"
            ]
          },
          "metadata": {
            "tags": [],
            "needs_background": "light"
          }
        }
      ]
    },
    {
      "cell_type": "code",
      "metadata": {
        "id": "aB5bt46dTN5l",
        "colab_type": "code",
        "colab": {
          "base_uri": "https://localhost:8080/",
          "height": 525
        },
        "outputId": "d0e11ca6-f777-4002-cc4a-4de10f3b6e53"
      },
      "source": [
        "fig, ax = plt.subplots(figsize=(16,8))\n",
        "sns.scatterplot(data=df[(df.ODOMETER < 1000000) & (df.AGE < 2000)], x='AGE', y='ODOMETER', hue='OVERALL_RESULT', s=100, alpha=.1)"
      ],
      "execution_count": null,
      "outputs": [
        {
          "output_type": "execute_result",
          "data": {
            "text/plain": [
              "<matplotlib.axes._subplots.AxesSubplot at 0x7f4d8cfdaf28>"
            ]
          },
          "metadata": {
            "tags": []
          },
          "execution_count": 262
        },
        {
          "output_type": "display_data",
          "data": {
            "image/png": "[encoded data removed]",
            "text/plain": [
              "<Figure size 1152x576 with 1 Axes>"
            ]
          },
          "metadata": {
            "tags": [],
            "needs_background": "light"
          }
        }
      ]
    },
    {
      "cell_type": "code",
      "metadata": {
        "id": "y9WcLp9PWCe8",
        "colab_type": "code",
        "colab": {
          "base_uri": "https://localhost:8080/",
          "height": 118
        },
        "outputId": "7c315706-8149-4edc-c2cb-7547b6703569"
      },
      "source": [
        "df.sample()"
      ],
      "execution_count": null,
      "outputs": [
        {
          "output_type": "execute_result",
          "data": {
            "text/html": [
              "<div>\n",
              "<style scoped>\n",
              "    .dataframe tbody tr th:only-of-type {\n",
              "        vertical-align: middle;\n",
              "    }\n",
              "\n",
              "    .dataframe tbody tr th {\n",
              "        vertical-align: top;\n",
              "    }\n",
              "\n",
              "    .dataframe thead th {\n",
              "        text-align: right;\n",
              "    }\n",
              "</style>\n",
              "<table border=\"1\" class=\"dataframe\">\n",
              "  <thead>\n",
              "    <tr style=\"text-align: right;\">\n",
              "      <th></th>\n",
              "      <th>RecordID</th>\n",
              "      <th>RECORD_NUM</th>\n",
              "      <th>VIR_CERT_NUMBER</th>\n",
              "      <th>STATION_NUM</th>\n",
              "      <th>ANALYZER_NUM</th>\n",
              "      <th>INSPECTOR_NUM</th>\n",
              "      <th>TEST_TYPE</th>\n",
              "      <th>VID_TEST_TYPE</th>\n",
              "      <th>TEST_SDATE</th>\n",
              "      <th>TEST_EDATE</th>\n",
              "      <th>VIN</th>\n",
              "      <th>VIN_SOURCE</th>\n",
              "      <th>VEH_LICENSE</th>\n",
              "      <th>GVW_TYPE</th>\n",
              "      <th>GVWR</th>\n",
              "      <th>MODEL_YEAR</th>\n",
              "      <th>MAKE</th>\n",
              "      <th>MODEL</th>\n",
              "      <th>CYL</th>\n",
              "      <th>ENGINE_SIZE</th>\n",
              "      <th>TRANS_TYPE</th>\n",
              "      <th>DUAL_EXHAUST</th>\n",
              "      <th>ODOMETER</th>\n",
              "      <th>FUEL_TYPE</th>\n",
              "      <th>VEHICLE_TYPE</th>\n",
              "      <th>EMISS_COST</th>\n",
              "      <th>ZIP_CODE</th>\n",
              "      <th>CERTIFICATION</th>\n",
              "      <th>ESC</th>\n",
              "      <th>VRT_RECORD_ID</th>\n",
              "      <th>E_TEST_SEQUENCE</th>\n",
              "      <th>E_PRECOND_PROCEDURE</th>\n",
              "      <th>E_HIGH_DCF</th>\n",
              "      <th>E_HIGH_RPM</th>\n",
              "      <th>E_HIGH_CO2</th>\n",
              "      <th>E_HIGH_O2</th>\n",
              "      <th>E_HIGH_HC</th>\n",
              "      <th>E_HIGH_HC_DCF</th>\n",
              "      <th>E_HIGH_HC_LIMIT</th>\n",
              "      <th>E_HIGH_CO</th>\n",
              "      <th>E_HIGH_CO_DCF</th>\n",
              "      <th>E_HIGH_CO_LIMIT</th>\n",
              "      <th>E_IDLE_DCF</th>\n",
              "      <th>E_IDLE_RPM</th>\n",
              "      <th>E_IDLE_CO2</th>\n",
              "      <th>E_IDLE_O2</th>\n",
              "      <th>E_IDLE_HC</th>\n",
              "      <th>E_IDLE_HC_DCF</th>\n",
              "      <th>E_IDLE_HC_LIMIT</th>\n",
              "      <th>E_IDLE_CO</th>\n",
              "      <th>E_IDLE_CO_DCF</th>\n",
              "      <th>E_IDLE_CO_LIMIT</th>\n",
              "      <th>E_HIGH_DCF_2</th>\n",
              "      <th>E_HIGH_RPM_2</th>\n",
              "      <th>E_HIGH_CO2_2</th>\n",
              "      <th>E_HIGH_O2_2</th>\n",
              "      <th>E_HIGH_HC_2</th>\n",
              "      <th>E_HIGH_HC_DCF_2</th>\n",
              "      <th>E_HIGH_CO_2</th>\n",
              "      <th>E_HIGH_CO_DCF_2</th>\n",
              "      <th>E_IDLE_DCF_2</th>\n",
              "      <th>E_IDLE_RPM_2</th>\n",
              "      <th>E_IDLE_CO2_2</th>\n",
              "      <th>E_IDLE_O2_2</th>\n",
              "      <th>E_IDLE_HC_2</th>\n",
              "      <th>E_IDLE_HC_DCF_2</th>\n",
              "      <th>E_IDLE_CO_2</th>\n",
              "      <th>E_IDLE_CO_DCF_2</th>\n",
              "      <th>E_RESULT_STRING</th>\n",
              "      <th>V_SMOKE1</th>\n",
              "      <th>V_SMOKE2</th>\n",
              "      <th>V_GASCAP</th>\n",
              "      <th>V_CAT</th>\n",
              "      <th>V_RESULT</th>\n",
              "      <th>KOEO_RESULT</th>\n",
              "      <th>KOER_RESULT</th>\n",
              "      <th>OBD_RDY_MISFIRE</th>\n",
              "      <th>OBD_RDY_FUEL</th>\n",
              "      <th>OBD_RDY_COMPONENT</th>\n",
              "      <th>OBD_RDY_CAT</th>\n",
              "      <th>OBD_RDY_CAT_HEATED</th>\n",
              "      <th>OBD_RDY_EVAP</th>\n",
              "      <th>OBD_RDY_SEC_AIR</th>\n",
              "      <th>OBD_RDY_AIR_COND</th>\n",
              "      <th>OBD_RDY_O2_SENSOR</th>\n",
              "      <th>OBD_RDY_O2_HEATER</th>\n",
              "      <th>OBD_RDY_EGR</th>\n",
              "      <th>OBD_RDY_RESULT</th>\n",
              "      <th>OBD_PID</th>\n",
              "      <th>OBD_PCM_ID</th>\n",
              "      <th>OBD_VIN</th>\n",
              "      <th>OBD_FLT_CODES</th>\n",
              "      <th>OBD_FLT_RESULT</th>\n",
              "      <th>OBD_MIL_STATUS</th>\n",
              "      <th>OBD_RESULT</th>\n",
              "      <th>ONLINE_STATUS</th>\n",
              "      <th>OFFLINE_REASON_CODE</th>\n",
              "      <th>ABORT_CODE</th>\n",
              "      <th>SOFTWARE_VERSION</th>\n",
              "      <th>INSP_COMMENTS</th>\n",
              "      <th>OVERALL_RESULT</th>\n",
              "      <th>R_TOTAL_COST</th>\n",
              "      <th>R_EGR</th>\n",
              "      <th>R_ELECTRICAL</th>\n",
              "      <th>R_EVAP_CONTROL</th>\n",
              "      <th>R_EXHAUST</th>\n",
              "      <th>R_IGNITION</th>\n",
              "      <th>R_INTAKE</th>\n",
              "      <th>R_ENGINE</th>\n",
              "      <th>R_PCV</th>\n",
              "      <th>R_OTHER</th>\n",
              "      <th>SentToWW</th>\n",
              "      <th>ABORT_CODE_OTHER_DESC</th>\n",
              "      <th>OBDII_AFFECT_OVERALL</th>\n",
              "      <th>E_HIGH_CO_RESULT</th>\n",
              "      <th>E_HIGH_HC_RESULT</th>\n",
              "      <th>E_IDLE_CO_RESULT</th>\n",
              "      <th>E_IDLE_HC_RESULT</th>\n",
              "      <th>MECHANIC_LAST_NAME</th>\n",
              "      <th>MECHANIC_FIRST_NAME</th>\n",
              "      <th>MECHANIC_MIDDLE_INIT</th>\n",
              "      <th>ENGINE_SIZE_ORIG</th>\n",
              "      <th>FAILED_IDLE_RPM</th>\n",
              "      <th>SENTTOVID</th>\n",
              "      <th>Station_License_Number</th>\n",
              "      <th>Analyzer_Number</th>\n",
              "      <th>Insert_DateTime\\r</th>\n",
              "      <th>TEST_YEAR</th>\n",
              "      <th>AGE</th>\n",
              "    </tr>\n",
              "  </thead>\n",
              "  <tbody>\n",
              "    <tr>\n",
              "      <th>139161</th>\n",
              "      <td>1834719</td>\n",
              "      <td>3676</td>\n",
              "      <td>6114403.0</td>\n",
              "      <td>IR304</td>\n",
              "      <td>W099</td>\n",
              "      <td>AC083637</td>\n",
              "      <td>I</td>\n",
              "      <td>I</td>\n",
              "      <td>2010-07-23 09:46:00</td>\n",
              "      <td>2010-07-23 09:51:00</td>\n",
              "      <td>JT3FJ60GXF1128082</td>\n",
              "      <td>M</td>\n",
              "      <td>974PCF</td>\n",
              "      <td>1.0</td>\n",
              "      <td>5360</td>\n",
              "      <td>1985</td>\n",
              "      <td>TOYOTA</td>\n",
              "      <td>LAND CRUISER</td>\n",
              "      <td>6</td>\n",
              "      <td>4200</td>\n",
              "      <td>M</td>\n",
              "      <td>N</td>\n",
              "      <td>183440.0</td>\n",
              "      <td>G</td>\n",
              "      <td>4</td>\n",
              "      <td>26.0</td>\n",
              "      <td>87102</td>\n",
              "      <td>F</td>\n",
              "      <td>9.0</td>\n",
              "      <td>850525</td>\n",
              "      <td>1</td>\n",
              "      <td>1</td>\n",
              "      <td>1.03</td>\n",
              "      <td>2300</td>\n",
              "      <td>13.2</td>\n",
              "      <td>0.84</td>\n",
              "      <td>143</td>\n",
              "      <td>148</td>\n",
              "      <td>220</td>\n",
              "      <td>2.31</td>\n",
              "      <td>2.38</td>\n",
              "      <td>1.2</td>\n",
              "      <td>2.43</td>\n",
              "      <td>779.0</td>\n",
              "      <td>6.2</td>\n",
              "      <td>11.97</td>\n",
              "      <td>2845.0</td>\n",
              "      <td>6918.0</td>\n",
              "      <td>220.0</td>\n",
              "      <td>0.15</td>\n",
              "      <td>0.36</td>\n",
              "      <td>1.2</td>\n",
              "      <td>0.0</td>\n",
              "      <td>0.0</td>\n",
              "      <td>0.0</td>\n",
              "      <td>0.0</td>\n",
              "      <td>0.0</td>\n",
              "      <td>0.0</td>\n",
              "      <td>0.0</td>\n",
              "      <td>0.0</td>\n",
              "      <td>0.0</td>\n",
              "      <td>0.0</td>\n",
              "      <td>0.0</td>\n",
              "      <td>0.0</td>\n",
              "      <td>0.0</td>\n",
              "      <td>0.0</td>\n",
              "      <td>0.0</td>\n",
              "      <td>0.0</td>\n",
              "      <td>F</td>\n",
              "      <td>P</td>\n",
              "      <td>P</td>\n",
              "      <td>P</td>\n",
              "      <td>P</td>\n",
              "      <td>P</td>\n",
              "      <td>NaN</td>\n",
              "      <td>NaN</td>\n",
              "      <td>NaN</td>\n",
              "      <td>NaN</td>\n",
              "      <td>NaN</td>\n",
              "      <td>NaN</td>\n",
              "      <td>NaN</td>\n",
              "      <td>NaN</td>\n",
              "      <td>NaN</td>\n",
              "      <td>NaN</td>\n",
              "      <td>NaN</td>\n",
              "      <td>NaN</td>\n",
              "      <td>NaN</td>\n",
              "      <td>NaN</td>\n",
              "      <td>NaN</td>\n",
              "      <td>NaN</td>\n",
              "      <td>NaN</td>\n",
              "      <td>NaN</td>\n",
              "      <td>NaN</td>\n",
              "      <td>NaN</td>\n",
              "      <td>NaN</td>\n",
              "      <td>0.0</td>\n",
              "      <td>0.0</td>\n",
              "      <td>NaN</td>\n",
              "      <td>202.0</td>\n",
              "      <td>NaN</td>\n",
              "      <td>F</td>\n",
              "      <td>NaN</td>\n",
              "      <td>NaN</td>\n",
              "      <td>NaN</td>\n",
              "      <td>NaN</td>\n",
              "      <td>NaN</td>\n",
              "      <td>NaN</td>\n",
              "      <td>NaN</td>\n",
              "      <td>NaN</td>\n",
              "      <td>NaN</td>\n",
              "      <td>NaN</td>\n",
              "      <td>0.0</td>\n",
              "      <td>NaN</td>\n",
              "      <td>NaN</td>\n",
              "      <td>F</td>\n",
              "      <td>P</td>\n",
              "      <td>P</td>\n",
              "      <td>F</td>\n",
              "      <td>ISENGARD</td>\n",
              "      <td>TREVOR</td>\n",
              "      <td>R</td>\n",
              "      <td>NaN</td>\n",
              "      <td>NaN</td>\n",
              "      <td>0.0</td>\n",
              "      <td>IR304</td>\n",
              "      <td>W099</td>\n",
              "      <td>2010-07-23 17:23:50\\r</td>\n",
              "      <td>2010</td>\n",
              "      <td>25</td>\n",
              "    </tr>\n",
              "  </tbody>\n",
              "</table>\n",
              "</div>"
            ],
            "text/plain": [
              "        RecordID  RECORD_NUM  VIR_CERT_NUMBER STATION_NUM ANALYZER_NUM  \\\n",
              "139161   1834719        3676        6114403.0       IR304         W099   \n",
              "\n",
              "       INSPECTOR_NUM TEST_TYPE VID_TEST_TYPE          TEST_SDATE  \\\n",
              "139161      AC083637         I             I 2010-07-23 09:46:00   \n",
              "\n",
              "                TEST_EDATE                VIN VIN_SOURCE VEH_LICENSE  \\\n",
              "139161 2010-07-23 09:51:00  JT3FJ60GXF1128082          M      974PCF   \n",
              "\n",
              "        GVW_TYPE  GVWR  MODEL_YEAR    MAKE         MODEL CYL  ENGINE_SIZE  \\\n",
              "139161       1.0  5360        1985  TOYOTA  LAND CRUISER   6         4200   \n",
              "\n",
              "       TRANS_TYPE DUAL_EXHAUST  ODOMETER FUEL_TYPE  VEHICLE_TYPE  EMISS_COST  \\\n",
              "139161          M            N  183440.0         G             4        26.0   \n",
              "\n",
              "       ZIP_CODE CERTIFICATION  ESC  VRT_RECORD_ID  E_TEST_SEQUENCE  \\\n",
              "139161    87102             F  9.0         850525                1   \n",
              "\n",
              "        E_PRECOND_PROCEDURE  E_HIGH_DCF  E_HIGH_RPM  E_HIGH_CO2  E_HIGH_O2  \\\n",
              "139161                    1        1.03        2300        13.2       0.84   \n",
              "\n",
              "        E_HIGH_HC  E_HIGH_HC_DCF  E_HIGH_HC_LIMIT  E_HIGH_CO  E_HIGH_CO_DCF  \\\n",
              "139161        143            148              220       2.31           2.38   \n",
              "\n",
              "        E_HIGH_CO_LIMIT  E_IDLE_DCF  E_IDLE_RPM  E_IDLE_CO2  E_IDLE_O2  \\\n",
              "139161              1.2        2.43       779.0         6.2      11.97   \n",
              "\n",
              "        E_IDLE_HC  E_IDLE_HC_DCF  E_IDLE_HC_LIMIT  E_IDLE_CO  E_IDLE_CO_DCF  \\\n",
              "139161     2845.0         6918.0            220.0       0.15           0.36   \n",
              "\n",
              "        E_IDLE_CO_LIMIT  E_HIGH_DCF_2  E_HIGH_RPM_2  E_HIGH_CO2_2  \\\n",
              "139161              1.2           0.0           0.0           0.0   \n",
              "\n",
              "        E_HIGH_O2_2  E_HIGH_HC_2  E_HIGH_HC_DCF_2  E_HIGH_CO_2  \\\n",
              "139161          0.0          0.0              0.0          0.0   \n",
              "\n",
              "        E_HIGH_CO_DCF_2  E_IDLE_DCF_2  E_IDLE_RPM_2  E_IDLE_CO2_2  \\\n",
              "139161              0.0           0.0           0.0           0.0   \n",
              "\n",
              "        E_IDLE_O2_2  E_IDLE_HC_2  E_IDLE_HC_DCF_2  E_IDLE_CO_2  \\\n",
              "139161          0.0          0.0              0.0          0.0   \n",
              "\n",
              "        E_IDLE_CO_DCF_2 E_RESULT_STRING V_SMOKE1 V_SMOKE2 V_GASCAP V_CAT  \\\n",
              "139161              0.0               F        P        P        P     P   \n",
              "\n",
              "       V_RESULT KOEO_RESULT KOER_RESULT  OBD_RDY_MISFIRE  OBD_RDY_FUEL  \\\n",
              "139161        P         NaN         NaN              NaN           NaN   \n",
              "\n",
              "        OBD_RDY_COMPONENT  OBD_RDY_CAT  OBD_RDY_CAT_HEATED  OBD_RDY_EVAP  \\\n",
              "139161                NaN          NaN                 NaN           NaN   \n",
              "\n",
              "        OBD_RDY_SEC_AIR  OBD_RDY_AIR_COND  OBD_RDY_O2_SENSOR  \\\n",
              "139161              NaN               NaN                NaN   \n",
              "\n",
              "        OBD_RDY_O2_HEATER  OBD_RDY_EGR OBD_RDY_RESULT  OBD_PID OBD_PCM_ID  \\\n",
              "139161                NaN          NaN            NaN      NaN        NaN   \n",
              "\n",
              "       OBD_VIN OBD_FLT_CODES OBD_FLT_RESULT  OBD_MIL_STATUS OBD_RESULT  \\\n",
              "139161     NaN           NaN            NaN             NaN        NaN   \n",
              "\n",
              "        ONLINE_STATUS  OFFLINE_REASON_CODE  ABORT_CODE  SOFTWARE_VERSION  \\\n",
              "139161            0.0                  0.0         NaN             202.0   \n",
              "\n",
              "        INSP_COMMENTS OVERALL_RESULT  R_TOTAL_COST R_EGR R_ELECTRICAL  \\\n",
              "139161            NaN              F           NaN   NaN          NaN   \n",
              "\n",
              "       R_EVAP_CONTROL R_EXHAUST R_IGNITION R_INTAKE R_ENGINE R_PCV R_OTHER  \\\n",
              "139161            NaN       NaN        NaN      NaN      NaN   NaN     NaN   \n",
              "\n",
              "        SentToWW ABORT_CODE_OTHER_DESC OBDII_AFFECT_OVERALL E_HIGH_CO_RESULT  \\\n",
              "139161       0.0                   NaN                  NaN                F   \n",
              "\n",
              "       E_HIGH_HC_RESULT E_IDLE_CO_RESULT E_IDLE_HC_RESULT MECHANIC_LAST_NAME  \\\n",
              "139161                P                P                F           ISENGARD   \n",
              "\n",
              "       MECHANIC_FIRST_NAME MECHANIC_MIDDLE_INIT ENGINE_SIZE_ORIG  \\\n",
              "139161              TREVOR                    R              NaN   \n",
              "\n",
              "       FAILED_IDLE_RPM  SENTTOVID Station_License_Number Analyzer_Number  \\\n",
              "139161             NaN        0.0                  IR304            W099   \n",
              "\n",
              "            Insert_DateTime\\r TEST_YEAR  AGE  \n",
              "139161  2010-07-23 17:23:50\\r      2010   25  "
            ]
          },
          "metadata": {
            "tags": []
          },
          "execution_count": 263
        }
      ]
    },
    {
      "cell_type": "code",
      "metadata": {
        "id": "sTsOZPkpG8Zd",
        "colab_type": "code",
        "colab": {
          "base_uri": "https://localhost:8080/",
          "height": 458
        },
        "outputId": "46a5f339-2b0a-403e-ccd9-79b42375e223"
      },
      "source": [
        "#df[df.ODOMETER.astype(str).str.match('8{5,7}')].groupby('ANALYZER_NUM').size().plot.bar()\n",
        "fig, axs = plt.subplots(1, 2, figsize=(16, 6))\n",
        "df[df.ODOMETER == 8888888].groupby('MECHANIC_LAST_NAME').size().plot.bar(ax=axs[0])\n",
        "df[df.ODOMETER == 8888888].groupby('STATION_NUM').size().plot.bar(ax=axs[1])"
      ],
      "execution_count": null,
      "outputs": [
        {
          "output_type": "execute_result",
          "data": {
            "text/plain": [
              "<matplotlib.axes._subplots.AxesSubplot at 0x7f4d8914e390>"
            ]
          },
          "metadata": {
            "tags": []
          },
          "execution_count": 264
        },
        {
          "output_type": "display_data",
          "data": {
            "image/png": "[encoded data removed]",
            "text/plain": [
              "<Figure size 1152x432 with 2 Axes>"
            ]
          },
          "metadata": {
            "tags": [],
            "needs_background": "light"
          }
        }
      ]
    },
    {
      "cell_type": "code",
      "metadata": {
        "id": "7hlvwLd_Wdpx",
        "colab_type": "code",
        "colab": {
          "base_uri": "https://localhost:8080/",
          "height": 464
        },
        "outputId": "5f62b083-e058-4d9a-a65b-0a2b72bcb80f"
      },
      "source": [
        "fig, axs = plt.subplots(1, 2, figsize=(16, 6))\n",
        "df[df.ODOMETER == 100000].groupby('MECHANIC_LAST_NAME').size().plot.bar(ax=axs[0])\n",
        "df[df.ODOMETER == 100000].groupby('STATION_NUM').size().plot.bar(ax=axs[1])"
      ],
      "execution_count": null,
      "outputs": [
        {
          "output_type": "execute_result",
          "data": {
            "text/plain": [
              "<matplotlib.axes._subplots.AxesSubplot at 0x7f4d929c9208>"
            ]
          },
          "metadata": {
            "tags": []
          },
          "execution_count": 265
        },
        {
          "output_type": "display_data",
          "data": {
            "image/png": "[encoded data removed]",
            "text/plain": [
              "<Figure size 1152x432 with 2 Axes>"
            ]
          },
          "metadata": {
            "tags": [],
            "needs_background": "light"
          }
        }
      ]
    },
    {
      "cell_type": "markdown",
      "metadata": {
        "id": "rR3ADEFHge7F",
        "colab_type": "text"
      },
      "source": [
        "##VEHICLE TYPE \n",
        "### Values: 1 - 7, 0 = missing value\n",
        "GVW_TYPE, FUEL_TYPE"
      ]
    },
    {
      "cell_type": "code",
      "metadata": {
        "id": "QVRDmiH2hDpR",
        "colab_type": "code",
        "colab": {
          "base_uri": "https://localhost:8080/",
          "height": 225
        },
        "outputId": "b424c2b9-1770-44be-ad6f-fe9c38fd8dd2"
      },
      "source": [
        "df['VEHICLE_TYPE']"
      ],
      "execution_count": null,
      "outputs": [
        {
          "output_type": "execute_result",
          "data": {
            "text/plain": [
              "0         3\n",
              "1         1\n",
              "2         1\n",
              "3         4\n",
              "4         1\n",
              "         ..\n",
              "235172    4\n",
              "235173    3\n",
              "235174    4\n",
              "235175    3\n",
              "235176    3\n",
              "Name: VEHICLE_TYPE, Length: 235177, dtype: int64"
            ]
          },
          "metadata": {
            "tags": []
          },
          "execution_count": 266
        }
      ]
    },
    {
      "cell_type": "code",
      "metadata": {
        "id": "bYWkQDvphWs9",
        "colab_type": "code",
        "colab": {
          "base_uri": "https://localhost:8080/",
          "height": 402
        },
        "outputId": "f6fc19ed-9854-4d4d-b50e-cff5276cebf3"
      },
      "source": [
        "fig, ax = plt.subplots(figsize=(14,6))\n",
        "df.groupby('VEHICLE_TYPE').size().plot.bar()"
      ],
      "execution_count": null,
      "outputs": [
        {
          "output_type": "execute_result",
          "data": {
            "text/plain": [
              "<matplotlib.axes._subplots.AxesSubplot at 0x7f4da8a68cf8>"
            ]
          },
          "metadata": {
            "tags": []
          },
          "execution_count": 267
        },
        {
          "output_type": "display_data",
          "data": {
            "image/png": "[encoded data removed]",
            "text/plain": [
              "<Figure size 1008x432 with 1 Axes>"
            ]
          },
          "metadata": {
            "tags": [],
            "needs_background": "light"
          }
        }
      ]
    },
    {
      "cell_type": "code",
      "metadata": {
        "id": "iyOj-mMjhi_B",
        "colab_type": "code",
        "colab": {
          "base_uri": "https://localhost:8080/",
          "height": 34
        },
        "outputId": "ad3e411f-cfca-450d-bf11-e3e4c3b7a6d9"
      },
      "source": [
        "len(df[df.VEHICLE_TYPE.isna()])"
      ],
      "execution_count": null,
      "outputs": [
        {
          "output_type": "execute_result",
          "data": {
            "text/plain": [
              "0"
            ]
          },
          "metadata": {
            "tags": []
          },
          "execution_count": 303
        }
      ]
    },
    {
      "cell_type": "code",
      "metadata": {
        "colab_type": "code",
        "id": "jhUgt-DGiBWn",
        "colab": {
          "base_uri": "https://localhost:8080/",
          "height": 34
        },
        "outputId": "23f122c4-773d-4663-b704-218e50288db2"
      },
      "source": [
        "len(df[df.VEHICLE_TYPE == 0])"
      ],
      "execution_count": null,
      "outputs": [
        {
          "output_type": "execute_result",
          "data": {
            "text/plain": [
              "1797"
            ]
          },
          "metadata": {
            "tags": []
          },
          "execution_count": 268
        }
      ]
    },
    {
      "cell_type": "code",
      "metadata": {
        "id": "2tx7pVQIinUh",
        "colab_type": "code",
        "colab": {
          "base_uri": "https://localhost:8080/",
          "height": 225
        },
        "outputId": "fe9984ca-2910-44b3-9ae1-331bd61889c2"
      },
      "source": [
        "df.GVW_TYPE"
      ],
      "execution_count": null,
      "outputs": [
        {
          "output_type": "execute_result",
          "data": {
            "text/plain": [
              "0         1.0\n",
              "1         1.0\n",
              "2         1.0\n",
              "3         2.0\n",
              "4         1.0\n",
              "         ... \n",
              "235172    1.0\n",
              "235173    1.0\n",
              "235174    2.0\n",
              "235175    1.0\n",
              "235176    2.0\n",
              "Name: GVW_TYPE, Length: 235177, dtype: float64"
            ]
          },
          "metadata": {
            "tags": []
          },
          "execution_count": 269
        }
      ]
    },
    {
      "cell_type": "code",
      "metadata": {
        "id": "A4LvWU8ui3XH",
        "colab_type": "code",
        "colab": {
          "base_uri": "https://localhost:8080/",
          "height": 412
        },
        "outputId": "ab1df10e-a7f1-4343-e3c5-85529b27beeb"
      },
      "source": [
        "fig, ax = plt.subplots(figsize=(14,6))\n",
        "df.groupby('GVW_TYPE').size().plot.bar()"
      ],
      "execution_count": null,
      "outputs": [
        {
          "output_type": "execute_result",
          "data": {
            "text/plain": [
              "<matplotlib.axes._subplots.AxesSubplot at 0x7f4dad2dec50>"
            ]
          },
          "metadata": {
            "tags": []
          },
          "execution_count": 270
        },
        {
          "output_type": "display_data",
          "data": {
            "image/png": "[encoded data removed]",
            "text/plain": [
              "<Figure size 1008x432 with 1 Axes>"
            ]
          },
          "metadata": {
            "tags": [],
            "needs_background": "light"
          }
        }
      ]
    },
    {
      "cell_type": "code",
      "metadata": {
        "id": "4ig0jDw5jDlp",
        "colab_type": "code",
        "colab": {
          "base_uri": "https://localhost:8080/",
          "height": 34
        },
        "outputId": "051ccb12-8c78-4b50-9eda-421f1fb7a5f6"
      },
      "source": [
        "len(df[df.GVW_TYPE.isna()])"
      ],
      "execution_count": null,
      "outputs": [
        {
          "output_type": "execute_result",
          "data": {
            "text/plain": [
              "19734"
            ]
          },
          "metadata": {
            "tags": []
          },
          "execution_count": 271
        }
      ]
    },
    {
      "cell_type": "code",
      "metadata": {
        "id": "MK8g8vWsjQP3",
        "colab_type": "code",
        "colab": {
          "base_uri": "https://localhost:8080/",
          "height": 225
        },
        "outputId": "e4148c5f-630e-4bf1-ae2e-9d7df20678b0"
      },
      "source": [
        "df.GVWR"
      ],
      "execution_count": null,
      "outputs": [
        {
          "output_type": "execute_result",
          "data": {
            "text/plain": [
              "0         4222\n",
              "1         2875\n",
              "2         2000\n",
              "3         6200\n",
              "4         2625\n",
              "          ... \n",
              "235172    4500\n",
              "235173    4700\n",
              "235174    6500\n",
              "235175    3500\n",
              "235176    6700\n",
              "Name: GVWR, Length: 235177, dtype: int64"
            ]
          },
          "metadata": {
            "tags": []
          },
          "execution_count": 272
        }
      ]
    },
    {
      "cell_type": "code",
      "metadata": {
        "id": "tPcU6i_zjpxG",
        "colab_type": "code",
        "colab": {
          "base_uri": "https://localhost:8080/",
          "height": 296
        },
        "outputId": "4bdd15ab-1ec1-4b74-f2ca-91f6e5c43924"
      },
      "source": [
        "sns.distplot(df.GVWR)"
      ],
      "execution_count": null,
      "outputs": [
        {
          "output_type": "execute_result",
          "data": {
            "text/plain": [
              "<matplotlib.axes._subplots.AxesSubplot at 0x7f4dad2de1d0>"
            ]
          },
          "metadata": {
            "tags": []
          },
          "execution_count": 273
        },
        {
          "output_type": "display_data",
          "data": {
            "image/png": "[encoded data removed]",
            "text/plain": [
              "<Figure size 432x288 with 1 Axes>"
            ]
          },
          "metadata": {
            "tags": [],
            "needs_background": "light"
          }
        }
      ]
    },
    {
      "cell_type": "code",
      "metadata": {
        "id": "BAVkyrrCkLXs",
        "colab_type": "code",
        "colab": {
          "base_uri": "https://localhost:8080/",
          "height": 34
        },
        "outputId": "8ee7ead6-2e92-4116-bee6-019f2cf24f8a"
      },
      "source": [
        "len(df[df.GVWR == 0])"
      ],
      "execution_count": null,
      "outputs": [
        {
          "output_type": "execute_result",
          "data": {
            "text/plain": [
              "16209"
            ]
          },
          "metadata": {
            "tags": []
          },
          "execution_count": 274
        }
      ]
    },
    {
      "cell_type": "code",
      "metadata": {
        "id": "ZsCrOQABkX8Y",
        "colab_type": "code",
        "colab": {
          "base_uri": "https://localhost:8080/",
          "height": 34
        },
        "outputId": "52e623ad-fa1c-4890-f11b-dddb1138ad05"
      },
      "source": [
        "len(df[df.GVWR == 0 & df.GVW_TYPE.isna()])"
      ],
      "execution_count": null,
      "outputs": [
        {
          "output_type": "execute_result",
          "data": {
            "text/plain": [
              "16209"
            ]
          },
          "metadata": {
            "tags": []
          },
          "execution_count": 275
        }
      ]
    },
    {
      "cell_type": "markdown",
      "metadata": {
        "id": "Jsg2ozuHzrSa",
        "colab_type": "text"
      },
      "source": [
        "ACHTUNG some VINs have more than one GVW_TYPE!! how to deal with this??"
      ]
    },
    {
      "cell_type": "code",
      "metadata": {
        "id": "faEoB50VzRR4",
        "colab_type": "code",
        "colab": {
          "base_uri": "https://localhost:8080/",
          "height": 243
        },
        "outputId": "31d6e8f7-f351-46f1-d993-611b493b169a"
      },
      "source": [
        "df.groupby(['VIN', 'GVW_TYPE']).size()"
      ],
      "execution_count": null,
      "outputs": [
        {
          "output_type": "execute_result",
          "data": {
            "text/plain": [
              "VIN                GVW_TYPE\n",
              "0F1AC4222PB200660  1.0         1\n",
              "0N8AR05SXVW181282  1.0         1\n",
              "0S4BP62C377301194  1.0         1\n",
              "0TDBT903371078825  1.0         1\n",
              "102HX52K4XH231865  1.0         1\n",
              "                              ..\n",
              "ZFFXR48A5V0107658  1.0         8\n",
              "ZFFYR51A3X0116639  1.0         2\n",
              "ZFFYR51R9X0118072  1.0         1\n",
              "ZFFYT53A310122964  1.0         2\n",
              "ZHWGU12T36LA03105  1.0         2\n",
              "Length: 91746, dtype: int64"
            ]
          },
          "metadata": {
            "tags": []
          },
          "execution_count": 276
        }
      ]
    },
    {
      "cell_type": "code",
      "metadata": {
        "id": "t5zTU8U7lDsE",
        "colab_type": "code",
        "colab": {}
      },
      "source": [
        "# gvwr_dict = df.groupby('VIN').GVWR.max().to_dict()"
      ],
      "execution_count": null,
      "outputs": []
    },
    {
      "cell_type": "code",
      "metadata": {
        "id": "OZSq52aZs10s",
        "colab_type": "code",
        "colab": {}
      },
      "source": [
        "# df['GVWR_IMP'] = df.VIN.map(gvwr_dict)#apply(lambda x: gvwr_dict[x])"
      ],
      "execution_count": null,
      "outputs": []
    },
    {
      "cell_type": "code",
      "metadata": {
        "id": "FN3hZQXOs-11",
        "colab_type": "code",
        "colab": {
          "base_uri": "https://localhost:8080/",
          "height": 34
        },
        "outputId": "add139be-708b-4907-8de0-c026ca7a7bac"
      },
      "source": [
        "# len(df[df.GVWR_IMP == 0])"
      ],
      "execution_count": null,
      "outputs": [
        {
          "output_type": "execute_result",
          "data": {
            "text/plain": [
              "10219"
            ]
          },
          "metadata": {
            "tags": []
          },
          "execution_count": 198
        }
      ]
    },
    {
      "cell_type": "code",
      "metadata": {
        "id": "ScYzk7xVttKA",
        "colab_type": "code",
        "colab": {}
      },
      "source": [
        "df.GVW_TYPE.fillna(0, inplace=True)"
      ],
      "execution_count": null,
      "outputs": []
    },
    {
      "cell_type": "markdown",
      "metadata": {
        "id": "GAqdDqD98GoO",
        "colab_type": "text"
      },
      "source": [
        "Problem: GVW_TYPE has lots of zeros. \n",
        "2. Solution: Impute zero-GVW-Type with the GVWR-value-ranges (GVW_TYPE == 1 --> GVWR range 2000-6000, GVW-TYPE == 2 --> GVWR range 6000- 9000, ..)"
      ]
    },
    {
      "cell_type": "code",
      "metadata": {
        "id": "Mo2eyHW4tXSg",
        "colab_type": "code",
        "colab": {
          "base_uri": "https://localhost:8080/",
          "height": 514
        },
        "outputId": "523ad9e7-d367-47c2-a825-8f9474c3282d"
      },
      "source": [
        "fig, ax = plt.subplots(figsize=(20,8))\n",
        "sns.scatterplot(data=df, x='GVWR', y='GVW_TYPE', alpha=1)"
      ],
      "execution_count": null,
      "outputs": [
        {
          "output_type": "execute_result",
          "data": {
            "text/plain": [
              "<matplotlib.axes._subplots.AxesSubplot at 0x7f4d9b50ad30>"
            ]
          },
          "metadata": {
            "tags": []
          },
          "execution_count": 278
        },
        {
          "output_type": "display_data",
          "data": {
            "image/png": "[encoded data removed]",
            "text/plain": [
              "<Figure size 1440x576 with 1 Axes>"
            ]
          },
          "metadata": {
            "tags": [],
            "needs_background": "light"
          }
        }
      ]
    },
    {
      "cell_type": "markdown",
      "metadata": {
        "id": "3oBQuObSwaSx",
        "colab_type": "text"
      },
      "source": [
        "IMPUTATION: replace GVW-TYPE with typical values for given weight, replace GVWR with median value for given type\n"
      ]
    },
    {
      "cell_type": "code",
      "metadata": {
        "id": "-VH4CDt1xNfw",
        "colab_type": "code",
        "colab": {
          "base_uri": "https://localhost:8080/",
          "height": 34
        },
        "outputId": "c3b790f2-fe37-4f1a-8882-222f1b02128b"
      },
      "source": [
        "med_1 = df[df.GVW_TYPE == 1].GVWR.median()\n",
        "med_2 = df[df.GVW_TYPE == 2].GVWR.median()\n",
        "med_3 = df[df.GVW_TYPE == 3].GVWR.median()\n",
        "\n",
        "med_1, med_2, med_3"
      ],
      "execution_count": null,
      "outputs": [
        {
          "output_type": "execute_result",
          "data": {
            "text/plain": [
              "(3625.0, 6500.0, 8800.0)"
            ]
          },
          "metadata": {
            "tags": []
          },
          "execution_count": 279
        }
      ]
    },
    {
      "cell_type": "code",
      "metadata": {
        "id": "7XHwril_uHVd",
        "colab_type": "code",
        "colab": {}
      },
      "source": [
        "def replace_gvwr(row):\n",
        "  if row.GVWR == 0 and row.GVW_TYPE == 1:\n",
        "    return med_1\n",
        "  elif row.GVWR == 0 and row.GVW_TYPE == 2:\n",
        "    return med_2\n",
        "  elif row.GVWR == 0 and row.GVW_TYPE == 3:\n",
        "    return med_3\n",
        "  else: return row.GVWR"
      ],
      "execution_count": null,
      "outputs": []
    },
    {
      "cell_type": "code",
      "metadata": {
        "id": "dymiAjHpyac7",
        "colab_type": "code",
        "colab": {
          "base_uri": "https://localhost:8080/",
          "height": 208
        },
        "outputId": "ee3e8f67-05df-4db8-bfd8-97b3ae378058"
      },
      "source": [
        "df.sample(10).apply(lambda x: replace_gvwr(x), axis=1)"
      ],
      "execution_count": null,
      "outputs": [
        {
          "output_type": "execute_result",
          "data": {
            "text/plain": [
              "133101    3000\n",
              "197587    4000\n",
              "84578     6000\n",
              "101414    3500\n",
              "81156     2625\n",
              "15232     3875\n",
              "112146    5350\n",
              "147103    5984\n",
              "110060    3750\n",
              "15116     3125\n",
              "dtype: int64"
            ]
          },
          "metadata": {
            "tags": []
          },
          "execution_count": 281
        }
      ]
    },
    {
      "cell_type": "code",
      "metadata": {
        "id": "rM54mQ2DxdIm",
        "colab_type": "code",
        "colab": {}
      },
      "source": [
        "df['GVWR_IMP'] = df.apply(lambda x: replace_gvwr(x), axis=1)"
      ],
      "execution_count": null,
      "outputs": []
    },
    {
      "cell_type": "code",
      "metadata": {
        "id": "DExrzVLX5fT7",
        "colab_type": "code",
        "colab": {
          "base_uri": "https://localhost:8080/",
          "height": 424
        },
        "outputId": "6e303f6c-3f3a-46e9-f901-4eaf90b042fa"
      },
      "source": [
        "df[df.GVWR != df.GVWR_IMP][['GVWR', 'GVWR_IMP']]"
      ],
      "execution_count": null,
      "outputs": [
        {
          "output_type": "execute_result",
          "data": {
            "text/html": [
              "<div>\n",
              "<style scoped>\n",
              "    .dataframe tbody tr th:only-of-type {\n",
              "        vertical-align: middle;\n",
              "    }\n",
              "\n",
              "    .dataframe tbody tr th {\n",
              "        vertical-align: top;\n",
              "    }\n",
              "\n",
              "    .dataframe thead th {\n",
              "        text-align: right;\n",
              "    }\n",
              "</style>\n",
              "<table border=\"1\" class=\"dataframe\">\n",
              "  <thead>\n",
              "    <tr style=\"text-align: right;\">\n",
              "      <th></th>\n",
              "      <th>GVWR</th>\n",
              "      <th>GVWR_IMP</th>\n",
              "    </tr>\n",
              "  </thead>\n",
              "  <tbody>\n",
              "    <tr>\n",
              "      <th>11</th>\n",
              "      <td>0</td>\n",
              "      <td>3625.0</td>\n",
              "    </tr>\n",
              "    <tr>\n",
              "      <th>18</th>\n",
              "      <td>0</td>\n",
              "      <td>3625.0</td>\n",
              "    </tr>\n",
              "    <tr>\n",
              "      <th>30</th>\n",
              "      <td>0</td>\n",
              "      <td>3625.0</td>\n",
              "    </tr>\n",
              "    <tr>\n",
              "      <th>32</th>\n",
              "      <td>0</td>\n",
              "      <td>3625.0</td>\n",
              "    </tr>\n",
              "    <tr>\n",
              "      <th>34</th>\n",
              "      <td>0</td>\n",
              "      <td>3625.0</td>\n",
              "    </tr>\n",
              "    <tr>\n",
              "      <th>...</th>\n",
              "      <td>...</td>\n",
              "      <td>...</td>\n",
              "    </tr>\n",
              "    <tr>\n",
              "      <th>235149</th>\n",
              "      <td>0</td>\n",
              "      <td>3625.0</td>\n",
              "    </tr>\n",
              "    <tr>\n",
              "      <th>235151</th>\n",
              "      <td>0</td>\n",
              "      <td>3625.0</td>\n",
              "    </tr>\n",
              "    <tr>\n",
              "      <th>235159</th>\n",
              "      <td>0</td>\n",
              "      <td>3625.0</td>\n",
              "    </tr>\n",
              "    <tr>\n",
              "      <th>235162</th>\n",
              "      <td>0</td>\n",
              "      <td>3625.0</td>\n",
              "    </tr>\n",
              "    <tr>\n",
              "      <th>235165</th>\n",
              "      <td>0</td>\n",
              "      <td>3625.0</td>\n",
              "    </tr>\n",
              "  </tbody>\n",
              "</table>\n",
              "<p>13446 rows × 2 columns</p>\n",
              "</div>"
            ],
            "text/plain": [
              "        GVWR  GVWR_IMP\n",
              "11         0    3625.0\n",
              "18         0    3625.0\n",
              "30         0    3625.0\n",
              "32         0    3625.0\n",
              "34         0    3625.0\n",
              "...      ...       ...\n",
              "235149     0    3625.0\n",
              "235151     0    3625.0\n",
              "235159     0    3625.0\n",
              "235162     0    3625.0\n",
              "235165     0    3625.0\n",
              "\n",
              "[13446 rows x 2 columns]"
            ]
          },
          "metadata": {
            "tags": []
          },
          "execution_count": 283
        }
      ]
    },
    {
      "cell_type": "code",
      "metadata": {
        "id": "_Gaip_rI0bbQ",
        "colab_type": "code",
        "colab": {
          "base_uri": "https://localhost:8080/",
          "height": 34
        },
        "outputId": "2c108240-65ce-4556-d5b1-887c6ecbebbc"
      },
      "source": [
        "df[df.GVW_TYPE == 1].GVWR_IMP.min(), df[df.GVW_TYPE == 1].GVWR_IMP.max()"
      ],
      "execution_count": null,
      "outputs": [
        {
          "output_type": "execute_result",
          "data": {
            "text/plain": [
              "(1750.0, 6000.0)"
            ]
          },
          "metadata": {
            "tags": []
          },
          "execution_count": 284
        }
      ]
    },
    {
      "cell_type": "code",
      "metadata": {
        "id": "lHySBZ0a0iuj",
        "colab_type": "code",
        "colab": {
          "base_uri": "https://localhost:8080/",
          "height": 34
        },
        "outputId": "d0265fd5-3be6-411d-bf2f-5bf4b2463bf3"
      },
      "source": [
        "df[df.GVW_TYPE == 2].GVWR_IMP.min(), df[df.GVW_TYPE == 2].GVWR_IMP.max()"
      ],
      "execution_count": null,
      "outputs": [
        {
          "output_type": "execute_result",
          "data": {
            "text/plain": [
              "(4000.0, 8500.0)"
            ]
          },
          "metadata": {
            "tags": []
          },
          "execution_count": 285
        }
      ]
    },
    {
      "cell_type": "code",
      "metadata": {
        "id": "zFG2AjPZxtgg",
        "colab_type": "code",
        "colab": {
          "base_uri": "https://localhost:8080/",
          "height": 34
        },
        "outputId": "42049219-244b-49cd-bf3a-30a276ecc5ec"
      },
      "source": [
        "df[df.GVW_TYPE == 3].GVWR_IMP.min(), df[df.GVW_TYPE == 3].GVWR_IMP.max()"
      ],
      "execution_count": null,
      "outputs": [
        {
          "output_type": "execute_result",
          "data": {
            "text/plain": [
              "(8501.0, 10000.0)"
            ]
          },
          "metadata": {
            "tags": []
          },
          "execution_count": 234
        }
      ]
    },
    {
      "cell_type": "code",
      "metadata": {
        "id": "ytKhwPJC9D-E",
        "colab_type": "code",
        "colab": {
          "base_uri": "https://localhost:8080/",
          "height": 69
        },
        "outputId": "f32633b5-322e-4cb8-91e6-bd6de4553ab2"
      },
      "source": [
        "GVWR_range_1 = df[(df.GVW_TYPE == 1) & (df.GVWR > 0)].GVWR\n",
        "GVWR_range_2 = df[(df.GVW_TYPE == 2) & (df.GVWR > 4000)].GVWR #there is this '4000' outlier in the GVWR variable\n",
        "GVWR_range_3 = df[(df.GVW_TYPE == 3) & (df.GVWR > 0)].GVWR\n",
        "print(GVWR_range_1.min(),GVWR_range_1.max())\n",
        "print(GVWR_range_2.min(),GVWR_range_2.max())\n",
        "print(GVWR_range_3.min(),GVWR_range_3.max())"
      ],
      "execution_count": null,
      "outputs": [
        {
          "output_type": "stream",
          "text": [
            "1750 6000\n",
            "6001 8500\n",
            "8501 10000\n"
          ],
          "name": "stdout"
        }
      ]
    },
    {
      "cell_type": "code",
      "metadata": {
        "id": "vKgCpzC70hxk",
        "colab_type": "code",
        "colab": {}
      },
      "source": [
        "def replace_gvwtype(row):\n",
        "  if row.GVW_TYPE == 0 and row.GVWR > 0 and row.GVWR < 6001:\n",
        "    return 1\n",
        "  elif row.GVW_TYPE == 0 and row.GVWR > 6000 and row.GVWR < 8501:\n",
        "    return 2\n",
        "  elif row.GVW_TYPE == 0 and row.GVWR > 8501:\n",
        "    return 3\n",
        "  else: return row.GVW_TYPE"
      ],
      "execution_count": null,
      "outputs": []
    },
    {
      "cell_type": "code",
      "metadata": {
        "id": "o7Uvxu6yJaf-",
        "colab_type": "code",
        "colab": {}
      },
      "source": [
        "#datapoint = df[(df.GVW_TYPE == 0) & (df.GVWR > 0)].sample(random_state = 0)\n"
      ],
      "execution_count": null,
      "outputs": []
    },
    {
      "cell_type": "code",
      "metadata": {
        "id": "tXK2F43aGCKj",
        "colab_type": "code",
        "colab": {
          "base_uri": "https://localhost:8080/",
          "height": 36
        },
        "outputId": "80159703-1079-43e7-cab7-56760100d555"
      },
      "source": [
        "\n",
        "#replace_gvwtype(datapoint.iloc[0])\n"
      ],
      "execution_count": null,
      "outputs": [
        {
          "output_type": "execute_result",
          "data": {
            "text/plain": [
              "1"
            ]
          },
          "metadata": {
            "tags": []
          },
          "execution_count": 81
        }
      ]
    },
    {
      "cell_type": "code",
      "metadata": {
        "id": "9azwzK4u0nRI",
        "colab_type": "code",
        "colab": {}
      },
      "source": [
        "df['GVWTYPE_IMP'] = df.apply(lambda x: replace_gvwtype(x), axis=1)"
      ],
      "execution_count": null,
      "outputs": []
    },
    {
      "cell_type": "code",
      "metadata": {
        "id": "G0c0wA6m0nVn",
        "colab_type": "code",
        "colab": {
          "base_uri": "https://localhost:8080/",
          "height": 225
        },
        "outputId": "8c5fbec2-fcc7-4b42-bc6e-aaa2078ae04e"
      },
      "source": [
        "df['GVWTYPE_IMP']"
      ],
      "execution_count": null,
      "outputs": [
        {
          "output_type": "execute_result",
          "data": {
            "text/plain": [
              "0         1.0\n",
              "1         1.0\n",
              "2         1.0\n",
              "3         2.0\n",
              "4         1.0\n",
              "         ... \n",
              "235172    1.0\n",
              "235173    1.0\n",
              "235174    2.0\n",
              "235175    1.0\n",
              "235176    2.0\n",
              "Name: GVWTYPE_IMP, Length: 235177, dtype: float64"
            ]
          },
          "metadata": {
            "tags": []
          },
          "execution_count": 289
        }
      ]
    },
    {
      "cell_type": "code",
      "metadata": {
        "id": "qk_cqKHsAlqj",
        "colab_type": "code",
        "colab": {
          "base_uri": "https://localhost:8080/",
          "height": 514
        },
        "outputId": "c04b9183-38fb-45ef-9a74-f6e99e31eea6"
      },
      "source": [
        "fig, ax = plt.subplots(figsize=(20,8))\n",
        "sns.scatterplot(data=df, x='GVWR', y='GVWTYPE_IMP', alpha=1)"
      ],
      "execution_count": null,
      "outputs": [
        {
          "output_type": "execute_result",
          "data": {
            "text/plain": [
              "<matplotlib.axes._subplots.AxesSubplot at 0x7f4d9c5318d0>"
            ]
          },
          "metadata": {
            "tags": []
          },
          "execution_count": 290
        },
        {
          "output_type": "display_data",
          "data": {
            "image/png": "[encoded data removed]",
            "text/plain": [
              "<Figure size 1440x576 with 1 Axes>"
            ]
          },
          "metadata": {
            "tags": [],
            "needs_background": "light"
          }
        }
      ]
    },
    {
      "cell_type": "markdown",
      "metadata": {
        "id": "Gzqrc2J2dMrX",
        "colab_type": "text"
      },
      "source": [
        "### FUEL TYPE"
      ]
    },
    {
      "cell_type": "code",
      "metadata": {
        "id": "wvGaJD9ZdLPK",
        "colab_type": "code",
        "colab": {
          "base_uri": "https://localhost:8080/",
          "height": 34
        },
        "outputId": "1a82fcbd-19ad-46cb-a7a1-ea2b1e5501bb"
      },
      "source": [
        "len(df[df.FUEL_TYPE.isna()])"
      ],
      "execution_count": null,
      "outputs": [
        {
          "output_type": "execute_result",
          "data": {
            "text/plain": [
              "2049"
            ]
          },
          "metadata": {
            "tags": []
          },
          "execution_count": 361
        }
      ]
    },
    {
      "cell_type": "code",
      "metadata": {
        "id": "hHtpUbezdUXV",
        "colab_type": "code",
        "colab": {
          "base_uri": "https://localhost:8080/",
          "height": 156
        },
        "outputId": "d53918e8-594a-4ea5-b81a-25759b7592ac"
      },
      "source": [
        "df.groupby('FUEL_TYPE').size()"
      ],
      "execution_count": null,
      "outputs": [
        {
          "output_type": "execute_result",
          "data": {
            "text/plain": [
              "FUEL_TYPE\n",
              "B        14\n",
              "D       342\n",
              "G    232484\n",
              "L        13\n",
              "N        17\n",
              "X       258\n",
              "dtype: int64"
            ]
          },
          "metadata": {
            "tags": []
          },
          "execution_count": 363
        }
      ]
    },
    {
      "cell_type": "markdown",
      "metadata": {
        "id": "RfIklfj40nwu",
        "colab_type": "text"
      },
      "source": [
        "## clean df without messy data for baseline"
      ]
    },
    {
      "cell_type": "code",
      "metadata": {
        "id": "xNTVrPcw1U8K",
        "colab_type": "code",
        "colab": {}
      },
      "source": [
        "from sklearn.model_selection import train_test_split\n",
        "from sklearn.metrics import f1_score, roc_auc_score, confusion_matrix"
      ],
      "execution_count": null,
      "outputs": []
    },
    {
      "cell_type": "code",
      "metadata": {
        "id": "2LZbSiuuOzQ9",
        "colab_type": "code",
        "colab": {}
      },
      "source": [
        "df['GVWTYPE_IMP']=df['GVWTYPE_IMP'].astype(int)"
      ],
      "execution_count": null,
      "outputs": []
    },
    {
      "cell_type": "code",
      "metadata": {
        "id": "fcBzKO2cS6jk",
        "colab_type": "code",
        "colab": {}
      },
      "source": [
        "df['RESULT'] = df['OVERALL_RESULT'].map({'F':0,'P':1})"
      ],
      "execution_count": null,
      "outputs": []
    },
    {
      "cell_type": "code",
      "metadata": {
        "id": "9jxTlEqmK7Ss",
        "colab_type": "code",
        "colab": {}
      },
      "source": [
        "sub_df = df[(df.AGE > -1) & (df.AGE < 2000) & (~df.ODOMETER.isin([0, 88888, 888888, 8888888])) & (df.GVWTYPE_IMP != 0) & (df.OVERALL_RESULT.isin(['P','F']) & (~df.FUEL_TYPE.isna()))][['AGE','ODOMETER','GVWTYPE_IMP','FUEL_TYPE','RESULT']]"
      ],
      "execution_count": null,
      "outputs": []
    },
    {
      "cell_type": "code",
      "metadata": {
        "id": "roQjt3NfOWMp",
        "colab_type": "code",
        "colab": {
          "base_uri": "https://localhost:8080/",
          "height": 206
        },
        "outputId": "2cba6cb3-cd07-401f-8a21-d1a6f16e3171"
      },
      "source": [
        "sub_df.head()"
      ],
      "execution_count": null,
      "outputs": [
        {
          "output_type": "execute_result",
          "data": {
            "text/html": [
              "<div>\n",
              "<style scoped>\n",
              "    .dataframe tbody tr th:only-of-type {\n",
              "        vertical-align: middle;\n",
              "    }\n",
              "\n",
              "    .dataframe tbody tr th {\n",
              "        vertical-align: top;\n",
              "    }\n",
              "\n",
              "    .dataframe thead th {\n",
              "        text-align: right;\n",
              "    }\n",
              "</style>\n",
              "<table border=\"1\" class=\"dataframe\">\n",
              "  <thead>\n",
              "    <tr style=\"text-align: right;\">\n",
              "      <th></th>\n",
              "      <th>AGE</th>\n",
              "      <th>ODOMETER</th>\n",
              "      <th>GVWTYPE_IMP</th>\n",
              "      <th>RESULT</th>\n",
              "    </tr>\n",
              "  </thead>\n",
              "  <tbody>\n",
              "    <tr>\n",
              "      <th>0</th>\n",
              "      <td>10</td>\n",
              "      <td>53274.0</td>\n",
              "      <td>1</td>\n",
              "      <td>1.0</td>\n",
              "    </tr>\n",
              "    <tr>\n",
              "      <th>1</th>\n",
              "      <td>4</td>\n",
              "      <td>109225.0</td>\n",
              "      <td>1</td>\n",
              "      <td>1.0</td>\n",
              "    </tr>\n",
              "    <tr>\n",
              "      <th>3</th>\n",
              "      <td>19</td>\n",
              "      <td>152121.0</td>\n",
              "      <td>2</td>\n",
              "      <td>1.0</td>\n",
              "    </tr>\n",
              "    <tr>\n",
              "      <th>4</th>\n",
              "      <td>7</td>\n",
              "      <td>135640.0</td>\n",
              "      <td>1</td>\n",
              "      <td>1.0</td>\n",
              "    </tr>\n",
              "    <tr>\n",
              "      <th>5</th>\n",
              "      <td>3</td>\n",
              "      <td>43428.0</td>\n",
              "      <td>1</td>\n",
              "      <td>1.0</td>\n",
              "    </tr>\n",
              "  </tbody>\n",
              "</table>\n",
              "</div>"
            ],
            "text/plain": [
              "   AGE  ODOMETER  GVWTYPE_IMP  RESULT\n",
              "0   10   53274.0            1     1.0\n",
              "1    4  109225.0            1     1.0\n",
              "3   19  152121.0            2     1.0\n",
              "4    7  135640.0            1     1.0\n",
              "5    3   43428.0            1     1.0"
            ]
          },
          "metadata": {
            "tags": []
          },
          "execution_count": 317
        }
      ]
    },
    {
      "cell_type": "code",
      "metadata": {
        "id": "mQFJCnWXM7rb",
        "colab_type": "code",
        "colab": {
          "base_uri": "https://localhost:8080/",
          "height": 34
        },
        "outputId": "3f4b50eb-6008-4dd5-9e17-896b5bbd9aae"
      },
      "source": [
        "len(sub_df),len(df)"
      ],
      "execution_count": null,
      "outputs": [
        {
          "output_type": "execute_result",
          "data": {
            "text/plain": [
              "(209969, 235177)"
            ]
          },
          "metadata": {
            "tags": []
          },
          "execution_count": 318
        }
      ]
    },
    {
      "cell_type": "code",
      "metadata": {
        "id": "HEEnQxXQOAaH",
        "colab_type": "code",
        "colab": {}
      },
      "source": [
        "X , y = sub_df[['AGE', 'ODOMETER', 'GVWTYPE_IMP', 'FUEL_TYPE']],sub_df.RESULT"
      ],
      "execution_count": null,
      "outputs": []
    },
    {
      "cell_type": "code",
      "metadata": {
        "id": "spY69d5R0tUN",
        "colab_type": "code",
        "colab": {}
      },
      "source": [
        "X_train, X_test, y_train, y_test = train_test_split(X,y, test_size=0.3, random_state=42)\n",
        "# Do we need a StratifiedShuffleSplit? (Cannot think of a reason why we would, but maybe somebody else does..)"
      ],
      "execution_count": null,
      "outputs": []
    },
    {
      "cell_type": "markdown",
      "metadata": {
        "id": "APAxzUyx0uhZ",
        "colab_type": "text"
      },
      "source": [
        "## baseline models"
      ]
    },
    {
      "cell_type": "markdown",
      "metadata": {
        "id": "W1cL-qpr0zyY",
        "colab_type": "text"
      },
      "source": [
        "### Naive Bayes"
      ]
    },
    {
      "cell_type": "code",
      "metadata": {
        "id": "BVbh_LA400Oq",
        "colab_type": "code",
        "colab": {}
      },
      "source": [
        "from sklearn.naive_bayes import GaussianNB"
      ],
      "execution_count": null,
      "outputs": []
    },
    {
      "cell_type": "code",
      "metadata": {
        "id": "WomGvdo500WL",
        "colab_type": "code",
        "colab": {}
      },
      "source": [
        "gnb = GaussianNB()"
      ],
      "execution_count": null,
      "outputs": []
    },
    {
      "cell_type": "code",
      "metadata": {
        "id": "bdd474a9RipN",
        "colab_type": "code",
        "colab": {
          "base_uri": "https://localhost:8080/",
          "height": 34
        },
        "outputId": "2a5e3de0-6bc3-4498-aee8-5d10e2cb4ebb"
      },
      "source": [
        "y_train.shape"
      ],
      "execution_count": null,
      "outputs": [
        {
          "output_type": "execute_result",
          "data": {
            "text/plain": [
              "(146978,)"
            ]
          },
          "metadata": {
            "tags": []
          },
          "execution_count": 323
        }
      ]
    },
    {
      "cell_type": "code",
      "metadata": {
        "id": "l69UhRbq00b1",
        "colab_type": "code",
        "colab": {
          "base_uri": "https://localhost:8080/",
          "height": 34
        },
        "outputId": "b56e49d5-8b0c-402d-dd2f-b51a50d69a1a"
      },
      "source": [
        "gnb.fit(X_train, y_train)"
      ],
      "execution_count": null,
      "outputs": [
        {
          "output_type": "execute_result",
          "data": {
            "text/plain": [
              "GaussianNB(priors=None, var_smoothing=1e-09)"
            ]
          },
          "metadata": {
            "tags": []
          },
          "execution_count": 325
        }
      ]
    },
    {
      "cell_type": "code",
      "metadata": {
        "id": "3MaSyK3QSEtA",
        "colab_type": "code",
        "colab": {}
      },
      "source": [
        "y_pred = gnb.predict(X_test)"
      ],
      "execution_count": null,
      "outputs": []
    },
    {
      "cell_type": "code",
      "metadata": {
        "id": "G-3Wn-KiSmwJ",
        "colab_type": "code",
        "colab": {
          "base_uri": "https://localhost:8080/",
          "height": 34
        },
        "outputId": "d20f4817-d036-4d28-f64f-4566eba100fe"
      },
      "source": [
        "y_pred"
      ],
      "execution_count": null,
      "outputs": [
        {
          "output_type": "execute_result",
          "data": {
            "text/plain": [
              "array([1., 1., 1., ..., 1., 1., 1.])"
            ]
          },
          "metadata": {
            "tags": []
          },
          "execution_count": 327
        }
      ]
    },
    {
      "cell_type": "code",
      "metadata": {
        "id": "PVq3oAiVSSj7",
        "colab_type": "code",
        "colab": {
          "base_uri": "https://localhost:8080/",
          "height": 34
        },
        "outputId": "2e55ce9a-3578-4aff-8233-24eee714fa97"
      },
      "source": [
        "f1_score(y_test,y_pred)"
      ],
      "execution_count": null,
      "outputs": [
        {
          "output_type": "execute_result",
          "data": {
            "text/plain": [
              "0.9488504068433131"
            ]
          },
          "metadata": {
            "tags": []
          },
          "execution_count": 328
        }
      ]
    },
    {
      "cell_type": "code",
      "metadata": {
        "id": "MAi9KFtyUdkm",
        "colab_type": "code",
        "colab": {
          "base_uri": "https://localhost:8080/",
          "height": 34
        },
        "outputId": "f38ddda3-4edc-437f-c9d2-caf8f8e11a91"
      },
      "source": [
        "roc_auc_score(y_test,y_pred)"
      ],
      "execution_count": null,
      "outputs": [
        {
          "output_type": "execute_result",
          "data": {
            "text/plain": [
              "0.5005548918093721"
            ]
          },
          "metadata": {
            "tags": []
          },
          "execution_count": 329
        }
      ]
    },
    {
      "cell_type": "code",
      "metadata": {
        "id": "7EkZVWqbUDD6",
        "colab_type": "code",
        "colab": {
          "base_uri": "https://localhost:8080/",
          "height": 52
        },
        "outputId": "63b6650e-dc1f-4257-9bbe-8a648ba46ac3"
      },
      "source": [
        "confusion_matrix(y_test,y_pred)"
      ],
      "execution_count": null,
      "outputs": [
        {
          "output_type": "execute_result",
          "data": {
            "text/plain": [
              "array([[   14,  6061],\n",
              "       [   68, 56848]])"
            ]
          },
          "metadata": {
            "tags": []
          },
          "execution_count": 330
        }
      ]
    },
    {
      "cell_type": "markdown",
      "metadata": {
        "id": "Xa5HkBWu001r",
        "colab_type": "text"
      },
      "source": [
        "### Logistic Regression"
      ]
    },
    {
      "cell_type": "code",
      "metadata": {
        "id": "C_i8iskM01ZX",
        "colab_type": "code",
        "colab": {}
      },
      "source": [
        "from sklearn.linear_model import LogisticRegression"
      ],
      "execution_count": null,
      "outputs": []
    },
    {
      "cell_type": "code",
      "metadata": {
        "id": "e69_zMAH01iA",
        "colab_type": "code",
        "colab": {}
      },
      "source": [
        "clf = LogisticRegression(random_state=0).fit(X_train, y_train)"
      ],
      "execution_count": null,
      "outputs": []
    },
    {
      "cell_type": "code",
      "metadata": {
        "id": "e78XkvwP01fL",
        "colab_type": "code",
        "colab": {}
      },
      "source": [
        "y_pred = clf.predict(X_test)"
      ],
      "execution_count": null,
      "outputs": []
    },
    {
      "cell_type": "code",
      "metadata": {
        "id": "WgGY3bq9Vve_",
        "colab_type": "code",
        "colab": {
          "base_uri": "https://localhost:8080/",
          "height": 34
        },
        "outputId": "1bc584aa-d6cf-44fe-e627-3307664b6a98"
      },
      "source": [
        "f1_score(y_test,y_pred)"
      ],
      "execution_count": null,
      "outputs": [
        {
          "output_type": "execute_result",
          "data": {
            "text/plain": [
              "0.9493357351947759"
            ]
          },
          "metadata": {
            "tags": []
          },
          "execution_count": 334
        }
      ]
    },
    {
      "cell_type": "code",
      "metadata": {
        "id": "ZU6heut6V1bG",
        "colab_type": "code",
        "colab": {
          "base_uri": "https://localhost:8080/",
          "height": 52
        },
        "outputId": "02480e4c-689e-4f57-fbd9-6741f105897a"
      },
      "source": [
        "confusion_matrix(y_test,y_pred)"
      ],
      "execution_count": null,
      "outputs": [
        {
          "output_type": "execute_result",
          "data": {
            "text/plain": [
              "array([[    0,  6075],\n",
              "       [    0, 56916]])"
            ]
          },
          "metadata": {
            "tags": []
          },
          "execution_count": 335
        }
      ]
    },
    {
      "cell_type": "code",
      "metadata": {
        "id": "0Ag3jfUYV40o",
        "colab_type": "code",
        "colab": {
          "base_uri": "https://localhost:8080/",
          "height": 34
        },
        "outputId": "5da6661c-325f-4e72-ec5a-c75b978b6f38"
      },
      "source": [
        "roc_auc_score(y_test,y_pred)"
      ],
      "execution_count": null,
      "outputs": [
        {
          "output_type": "execute_result",
          "data": {
            "text/plain": [
              "0.5"
            ]
          },
          "metadata": {
            "tags": []
          },
          "execution_count": 336
        }
      ]
    },
    {
      "cell_type": "markdown",
      "metadata": {
        "id": "o5LQM2Cu0-Em",
        "colab_type": "text"
      },
      "source": [
        "### SVM"
      ]
    },
    {
      "cell_type": "code",
      "metadata": {
        "id": "j7c1QEnI0-ad",
        "colab_type": "code",
        "colab": {}
      },
      "source": [
        "from sklearn.svm import SVC\n",
        "from sklearn.pipeline import make_pipeline\n",
        "from sklearn.preprocessing import StandardScaler"
      ],
      "execution_count": null,
      "outputs": []
    },
    {
      "cell_type": "code",
      "metadata": {
        "id": "bEyOHMg_0-fQ",
        "colab_type": "code",
        "colab": {}
      },
      "source": [
        "clf = make_pipeline(StandardScaler(), SVC(gamma='auto'))"
      ],
      "execution_count": null,
      "outputs": []
    },
    {
      "cell_type": "code",
      "metadata": {
        "id": "963P6FDf0-9M",
        "colab_type": "code",
        "colab": {
          "base_uri": "https://localhost:8080/",
          "height": 191
        },
        "outputId": "3b486256-2db4-45e1-debd-89286af82a8b"
      },
      "source": [
        "clf.fit(X_train,y_train)\n"
      ],
      "execution_count": null,
      "outputs": [
        {
          "output_type": "execute_result",
          "data": {
            "text/plain": [
              "Pipeline(memory=None,\n",
              "         steps=[('standardscaler',\n",
              "                 StandardScaler(copy=True, with_mean=True, with_std=True)),\n",
              "                ('svc',\n",
              "                 SVC(C=1.0, break_ties=False, cache_size=200, class_weight=None,\n",
              "                     coef0=0.0, decision_function_shape='ovr', degree=3,\n",
              "                     gamma='auto', kernel='rbf', max_iter=-1, probability=False,\n",
              "                     random_state=None, shrinking=True, tol=0.001,\n",
              "                     verbose=False))],\n",
              "         verbose=False)"
            ]
          },
          "metadata": {
            "tags": []
          },
          "execution_count": 343
        }
      ]
    },
    {
      "cell_type": "code",
      "metadata": {
        "id": "DONDRYFH0-XN",
        "colab_type": "code",
        "colab": {}
      },
      "source": [
        "y_pred = clf.predict(X_test)"
      ],
      "execution_count": null,
      "outputs": []
    },
    {
      "cell_type": "code",
      "metadata": {
        "id": "QCVaD3UFZ0G-",
        "colab_type": "code",
        "colab": {
          "base_uri": "https://localhost:8080/",
          "height": 34
        },
        "outputId": "d6946945-5bb4-4144-8b11-ba0af33e936e"
      },
      "source": [
        "f1_score(y_test, y_pred)"
      ],
      "execution_count": null,
      "outputs": [
        {
          "output_type": "execute_result",
          "data": {
            "text/plain": [
              "0.9493252823138898"
            ]
          },
          "metadata": {
            "tags": []
          },
          "execution_count": 345
        }
      ]
    },
    {
      "cell_type": "code",
      "metadata": {
        "id": "hjwaP_y5Z0CR",
        "colab_type": "code",
        "colab": {
          "base_uri": "https://localhost:8080/",
          "height": 34
        },
        "outputId": "02ade172-c1d3-46ce-dbb3-b2661677c5a9"
      },
      "source": [
        "roc_auc_score(y_test, y_pred)"
      ],
      "execution_count": null,
      "outputs": [
        {
          "output_type": "execute_result",
          "data": {
            "text/plain": [
              "0.5001382544256253"
            ]
          },
          "metadata": {
            "tags": []
          },
          "execution_count": 346
        }
      ]
    },
    {
      "cell_type": "code",
      "metadata": {
        "id": "HZvxwzSAZz9g",
        "colab_type": "code",
        "colab": {
          "base_uri": "https://localhost:8080/",
          "height": 52
        },
        "outputId": "46e9216a-cae9-4d72-8596-16eb0dc83e2d"
      },
      "source": [
        "confusion_matrix(y_test, y_pred)"
      ],
      "execution_count": null,
      "outputs": [
        {
          "output_type": "execute_result",
          "data": {
            "text/plain": [
              "array([[    2,  6073],\n",
              "       [    3, 56913]])"
            ]
          },
          "metadata": {
            "tags": []
          },
          "execution_count": 347
        }
      ]
    },
    {
      "cell_type": "markdown",
      "metadata": {
        "id": "xZXxGE_l1CWc",
        "colab_type": "text"
      },
      "source": [
        "### Random Forest"
      ]
    },
    {
      "cell_type": "code",
      "metadata": {
        "id": "NHiq70Wg1EmI",
        "colab_type": "code",
        "colab": {}
      },
      "source": [
        "from sklearn.ensemble import RandomForestClassifier"
      ],
      "execution_count": null,
      "outputs": []
    },
    {
      "cell_type": "code",
      "metadata": {
        "id": "0urCkRQl1Evn",
        "colab_type": "code",
        "colab": {}
      },
      "source": [
        "frst_clf = RandomForestClassifier(max_depth=2, random_state=0)"
      ],
      "execution_count": null,
      "outputs": []
    },
    {
      "cell_type": "code",
      "metadata": {
        "id": "Ma-Uj3O_1EtB",
        "colab_type": "code",
        "colab": {
          "base_uri": "https://localhost:8080/",
          "height": 156
        },
        "outputId": "9167a8cf-189d-4724-8e4c-4556a7b553f1"
      },
      "source": [
        "frst_clf.fit(X_train, y_train)"
      ],
      "execution_count": null,
      "outputs": [
        {
          "output_type": "execute_result",
          "data": {
            "text/plain": [
              "RandomForestClassifier(bootstrap=True, ccp_alpha=0.0, class_weight=None,\n",
              "                       criterion='gini', max_depth=2, max_features='auto',\n",
              "                       max_leaf_nodes=None, max_samples=None,\n",
              "                       min_impurity_decrease=0.0, min_impurity_split=None,\n",
              "                       min_samples_leaf=1, min_samples_split=2,\n",
              "                       min_weight_fraction_leaf=0.0, n_estimators=100,\n",
              "                       n_jobs=None, oob_score=False, random_state=0, verbose=0,\n",
              "                       warm_start=False)"
            ]
          },
          "metadata": {
            "tags": []
          },
          "execution_count": 351
        }
      ]
    },
    {
      "cell_type": "code",
      "metadata": {
        "id": "3K6WJvKx1Eq1",
        "colab_type": "code",
        "colab": {}
      },
      "source": [
        "y_pred = frst_clf.predict(X_test)"
      ],
      "execution_count": null,
      "outputs": []
    },
    {
      "cell_type": "code",
      "metadata": {
        "id": "IZ877tUebY5J",
        "colab_type": "code",
        "colab": {
          "base_uri": "https://localhost:8080/",
          "height": 34
        },
        "outputId": "61c66bec-218c-4f0e-a868-161ff3014890"
      },
      "source": [
        "roc_auc_score(y_test, y_pred)"
      ],
      "execution_count": null,
      "outputs": [
        {
          "output_type": "execute_result",
          "data": {
            "text/plain": [
              "0.5"
            ]
          },
          "metadata": {
            "tags": []
          },
          "execution_count": 353
        }
      ]
    },
    {
      "cell_type": "code",
      "metadata": {
        "id": "t8avLGjObY0z",
        "colab_type": "code",
        "colab": {
          "base_uri": "https://localhost:8080/",
          "height": 52
        },
        "outputId": "2f2860d2-d01b-45df-cd86-b8745a29067b"
      },
      "source": [
        "confusion_matrix(y_test, y_pred)"
      ],
      "execution_count": null,
      "outputs": [
        {
          "output_type": "execute_result",
          "data": {
            "text/plain": [
              "array([[    0,  6075],\n",
              "       [    0, 56916]])"
            ]
          },
          "metadata": {
            "tags": []
          },
          "execution_count": 355
        }
      ]
    },
    {
      "cell_type": "code",
      "metadata": {
        "id": "IGeZCaG2bYui",
        "colab_type": "code",
        "colab": {}
      },
      "source": [
        ""
      ],
      "execution_count": null,
      "outputs": []
    }
  ]
}