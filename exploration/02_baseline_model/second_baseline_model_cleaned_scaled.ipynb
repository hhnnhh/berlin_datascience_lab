{
 "cells": [
  {
   "cell_type": "markdown",
   "metadata": {
    "colab_type": "text",
    "id": "view-in-github"
   },
   "source": [
    "<a href=\"https://colab.research.google.com/github/hhnnhh/berlin_datascience_lab/blob/master/exploration/02_baseline_model/EDA_data_cleaning_modeling.ipynb\" target=\"_parent\"><img src=\"https://colab.research.google.com/assets/colab-badge.svg\" alt=\"Open In Colab\"/></a>"
   ]
  },
  {
   "cell_type": "markdown",
   "metadata": {
    "colab_type": "text",
    "id": "CaMlL5WqJosb"
   },
   "source": [
    "# Exploratory Data Analysis:\n",
    "\n",
    "by Isabelle Nguyen and Hannah Bohle\n",
    "\n",
    "## Data Exploration and Cleaning:\n",
    "\n",
    "* Fuel_Type\n",
    "* GVW-Type\n",
    "* car_age\n",
    "* odometer \n",
    "\n",
    "Extensive exploration of ODOMETER! \n",
    "\n",
    "Feature Engineering (FUEL_TYPE)\n",
    "\n",
    "## Modeling Logistic Regression and SVM\n",
    "\n",
    "* Downsampling data (equal frequency of PASS and FAIL).\n",
    "* Grid Search. \n",
    "* No feature scaling. \n",
    "* Final ROC Score with LogReg ~.65, SVC ~.66\n",
    "\n"
   ]
  },
  {
   "cell_type": "code",
   "execution_count": 1,
   "metadata": {
    "colab": {
     "base_uri": "https://localhost:8080/",
     "height": 75
    },
    "colab_type": "code",
    "id": "8c1VAWzQnl0t",
    "outputId": "c96f6531-0619-4f59-a496-c0a6603b19e7"
   },
   "outputs": [
    {
     "name": "stderr",
     "output_type": "stream",
     "text": [
      "/usr/local/lib/python3.6/dist-packages/statsmodels/tools/_testing.py:19: FutureWarning: pandas.util.testing is deprecated. Use the functions in the public API at pandas.testing instead.\n",
      "  import pandas.util.testing as tm\n"
     ]
    }
   ],
   "source": [
    "import pandas as pd\n",
    "import seaborn as sns\n",
    "import matplotlib.pyplot as plt\n",
    "import numpy as np\n",
    "pd.set_option('display.max_columns', 200)\n",
    "pd.set_option('display.max_rows', 200)\n",
    "%matplotlib inline"
   ]
  },
  {
   "cell_type": "code",
   "execution_count": 2,
   "metadata": {
    "colab": {
     "base_uri": "https://localhost:8080/",
     "height": 133
    },
    "colab_type": "code",
    "id": "vgxIzz_ssWsP",
    "outputId": "69cbc6ae-5fb2-44e0-f92b-49a4aabe8bdf"
   },
   "outputs": [
    {
     "name": "stdout",
     "output_type": "stream",
     "text": [
      "Go to this URL in a browser: https://accounts.google.com/o/oauth2/auth?client_id=947318989803-6bn6qk8qdgf4n4g3pfee6491hc0brc4i.apps.googleusercontent.com&redirect_uri=urn%3aietf%3awg%3aoauth%3a2.0%3aoob&response_type=code&scope=email%20https%3a%2f%2fwww.googleapis.com%2fauth%2fdocs.test%20https%3a%2f%2fwww.googleapis.com%2fauth%2fdrive%20https%3a%2f%2fwww.googleapis.com%2fauth%2fdrive.photos.readonly%20https%3a%2f%2fwww.googleapis.com%2fauth%2fpeopleapi.readonly\n",
      "\n",
      "Enter your authorization code:\n",
      "··········\n",
      "Mounted at /content/drive\n"
     ]
    }
   ],
   "source": [
    "from google.colab import drive\n",
    "\n",
    "drive.mount('/content/drive')"
   ]
  },
  {
   "cell_type": "code",
   "execution_count": 3,
   "metadata": {
    "colab": {},
    "colab_type": "code",
    "id": "uqiCxO--sa-M"
   },
   "outputs": [],
   "source": [
    "data_path = \"/content/drive/My Drive/WIMLDS/sample.csv\"\n",
    "#data_path = \"/content/WIMLDS/sample.csv\""
   ]
  },
  {
   "cell_type": "code",
   "execution_count": 4,
   "metadata": {
    "colab": {
     "base_uri": "https://localhost:8080/",
     "height": 75
    },
    "colab_type": "code",
    "id": "WTJDhpgysilq",
    "outputId": "b6d337a0-850f-4c76-f71d-fbf70c4b0722"
   },
   "outputs": [
    {
     "name": "stderr",
     "output_type": "stream",
     "text": [
      "/usr/local/lib/python3.6/dist-packages/IPython/core/interactiveshell.py:2718: DtypeWarning: Columns (5,18,26,108,109) have mixed types.Specify dtype option on import or set low_memory=False.\n",
      "  interactivity=interactivity, compiler=compiler, result=result)\n"
     ]
    }
   ],
   "source": [
    "df = pd.read_csv(data_path, lineterminator='\\n')"
   ]
  },
  {
   "cell_type": "code",
   "execution_count": 5,
   "metadata": {
    "colab": {
     "base_uri": "https://localhost:8080/",
     "height": 330
    },
    "colab_type": "code",
    "id": "3tD0kZ8Es1DE",
    "outputId": "bc6baf2a-4ad0-4a05-d14e-7c1a702246bf"
   },
   "outputs": [
    {
     "data": {
      "text/html": [
       "<div>\n",
       "<style scoped>\n",
       "    .dataframe tbody tr th:only-of-type {\n",
       "        vertical-align: middle;\n",
       "    }\n",
       "\n",
       "    .dataframe tbody tr th {\n",
       "        vertical-align: top;\n",
       "    }\n",
       "\n",
       "    .dataframe thead th {\n",
       "        text-align: right;\n",
       "    }\n",
       "</style>\n",
       "<table border=\"1\" class=\"dataframe\">\n",
       "  <thead>\n",
       "    <tr style=\"text-align: right;\">\n",
       "      <th></th>\n",
       "      <th>RecordID</th>\n",
       "      <th>RECORD_NUM</th>\n",
       "      <th>VIR_CERT_NUMBER</th>\n",
       "      <th>STATION_NUM</th>\n",
       "      <th>ANALYZER_NUM</th>\n",
       "      <th>INSPECTOR_NUM</th>\n",
       "      <th>TEST_TYPE</th>\n",
       "      <th>VID_TEST_TYPE</th>\n",
       "      <th>TEST_SDATE</th>\n",
       "      <th>TEST_EDATE</th>\n",
       "      <th>VIN</th>\n",
       "      <th>VIN_SOURCE</th>\n",
       "      <th>VEH_LICENSE</th>\n",
       "      <th>GVW_TYPE</th>\n",
       "      <th>GVWR</th>\n",
       "      <th>MODEL_YEAR</th>\n",
       "      <th>MAKE</th>\n",
       "      <th>MODEL</th>\n",
       "      <th>CYL</th>\n",
       "      <th>ENGINE_SIZE</th>\n",
       "      <th>TRANS_TYPE</th>\n",
       "      <th>DUAL_EXHAUST</th>\n",
       "      <th>ODOMETER</th>\n",
       "      <th>FUEL_TYPE</th>\n",
       "      <th>VEHICLE_TYPE</th>\n",
       "      <th>EMISS_COST</th>\n",
       "      <th>ZIP_CODE</th>\n",
       "      <th>CERTIFICATION</th>\n",
       "      <th>ESC</th>\n",
       "      <th>VRT_RECORD_ID</th>\n",
       "      <th>E_TEST_SEQUENCE</th>\n",
       "      <th>E_PRECOND_PROCEDURE</th>\n",
       "      <th>E_HIGH_DCF</th>\n",
       "      <th>E_HIGH_RPM</th>\n",
       "      <th>E_HIGH_CO2</th>\n",
       "      <th>E_HIGH_O2</th>\n",
       "      <th>E_HIGH_HC</th>\n",
       "      <th>E_HIGH_HC_DCF</th>\n",
       "      <th>E_HIGH_HC_LIMIT</th>\n",
       "      <th>E_HIGH_CO</th>\n",
       "      <th>E_HIGH_CO_DCF</th>\n",
       "      <th>E_HIGH_CO_LIMIT</th>\n",
       "      <th>E_IDLE_DCF</th>\n",
       "      <th>E_IDLE_RPM</th>\n",
       "      <th>E_IDLE_CO2</th>\n",
       "      <th>E_IDLE_O2</th>\n",
       "      <th>E_IDLE_HC</th>\n",
       "      <th>E_IDLE_HC_DCF</th>\n",
       "      <th>E_IDLE_HC_LIMIT</th>\n",
       "      <th>E_IDLE_CO</th>\n",
       "      <th>E_IDLE_CO_DCF</th>\n",
       "      <th>E_IDLE_CO_LIMIT</th>\n",
       "      <th>E_HIGH_DCF_2</th>\n",
       "      <th>E_HIGH_RPM_2</th>\n",
       "      <th>E_HIGH_CO2_2</th>\n",
       "      <th>E_HIGH_O2_2</th>\n",
       "      <th>E_HIGH_HC_2</th>\n",
       "      <th>E_HIGH_HC_DCF_2</th>\n",
       "      <th>E_HIGH_CO_2</th>\n",
       "      <th>E_HIGH_CO_DCF_2</th>\n",
       "      <th>E_IDLE_DCF_2</th>\n",
       "      <th>E_IDLE_RPM_2</th>\n",
       "      <th>E_IDLE_CO2_2</th>\n",
       "      <th>E_IDLE_O2_2</th>\n",
       "      <th>E_IDLE_HC_2</th>\n",
       "      <th>E_IDLE_HC_DCF_2</th>\n",
       "      <th>E_IDLE_CO_2</th>\n",
       "      <th>E_IDLE_CO_DCF_2</th>\n",
       "      <th>E_RESULT_STRING</th>\n",
       "      <th>V_SMOKE1</th>\n",
       "      <th>V_SMOKE2</th>\n",
       "      <th>V_GASCAP</th>\n",
       "      <th>V_CAT</th>\n",
       "      <th>V_RESULT</th>\n",
       "      <th>KOEO_RESULT</th>\n",
       "      <th>KOER_RESULT</th>\n",
       "      <th>OBD_RDY_MISFIRE</th>\n",
       "      <th>OBD_RDY_FUEL</th>\n",
       "      <th>OBD_RDY_COMPONENT</th>\n",
       "      <th>OBD_RDY_CAT</th>\n",
       "      <th>OBD_RDY_CAT_HEATED</th>\n",
       "      <th>OBD_RDY_EVAP</th>\n",
       "      <th>OBD_RDY_SEC_AIR</th>\n",
       "      <th>OBD_RDY_AIR_COND</th>\n",
       "      <th>OBD_RDY_O2_SENSOR</th>\n",
       "      <th>OBD_RDY_O2_HEATER</th>\n",
       "      <th>OBD_RDY_EGR</th>\n",
       "      <th>OBD_RDY_RESULT</th>\n",
       "      <th>OBD_PID</th>\n",
       "      <th>OBD_PCM_ID</th>\n",
       "      <th>OBD_VIN</th>\n",
       "      <th>OBD_FLT_CODES</th>\n",
       "      <th>OBD_FLT_RESULT</th>\n",
       "      <th>OBD_MIL_STATUS</th>\n",
       "      <th>OBD_RESULT</th>\n",
       "      <th>ONLINE_STATUS</th>\n",
       "      <th>OFFLINE_REASON_CODE</th>\n",
       "      <th>ABORT_CODE</th>\n",
       "      <th>SOFTWARE_VERSION</th>\n",
       "      <th>INSP_COMMENTS</th>\n",
       "      <th>OVERALL_RESULT</th>\n",
       "      <th>R_TOTAL_COST</th>\n",
       "      <th>R_EGR</th>\n",
       "      <th>R_ELECTRICAL</th>\n",
       "      <th>R_EVAP_CONTROL</th>\n",
       "      <th>R_EXHAUST</th>\n",
       "      <th>R_IGNITION</th>\n",
       "      <th>R_INTAKE</th>\n",
       "      <th>R_ENGINE</th>\n",
       "      <th>R_PCV</th>\n",
       "      <th>R_OTHER</th>\n",
       "      <th>SentToWW</th>\n",
       "      <th>ABORT_CODE_OTHER_DESC</th>\n",
       "      <th>OBDII_AFFECT_OVERALL</th>\n",
       "      <th>E_HIGH_CO_RESULT</th>\n",
       "      <th>E_HIGH_HC_RESULT</th>\n",
       "      <th>E_IDLE_CO_RESULT</th>\n",
       "      <th>E_IDLE_HC_RESULT</th>\n",
       "      <th>MECHANIC_LAST_NAME</th>\n",
       "      <th>MECHANIC_FIRST_NAME</th>\n",
       "      <th>MECHANIC_MIDDLE_INIT</th>\n",
       "      <th>ENGINE_SIZE_ORIG</th>\n",
       "      <th>FAILED_IDLE_RPM</th>\n",
       "      <th>SENTTOVID</th>\n",
       "      <th>Station_License_Number</th>\n",
       "      <th>Analyzer_Number</th>\n",
       "      <th>Insert_DateTime\\r</th>\n",
       "    </tr>\n",
       "  </thead>\n",
       "  <tbody>\n",
       "    <tr>\n",
       "      <th>0</th>\n",
       "      <td>111260</td>\n",
       "      <td>7408</td>\n",
       "      <td>4486883.0</td>\n",
       "      <td>IS329</td>\n",
       "      <td>W036</td>\n",
       "      <td>26351553</td>\n",
       "      <td>I</td>\n",
       "      <td>I</td>\n",
       "      <td>2004-12-16 10:57:00</td>\n",
       "      <td>2004-12-16 11:03:00</td>\n",
       "      <td>1FTCR10A8RUE42421</td>\n",
       "      <td>S</td>\n",
       "      <td>NPE42421</td>\n",
       "      <td>1.0</td>\n",
       "      <td>4222</td>\n",
       "      <td>1994</td>\n",
       "      <td>FORD</td>\n",
       "      <td>RANGER REG. CAB - SHO</td>\n",
       "      <td>4</td>\n",
       "      <td>2300</td>\n",
       "      <td>M</td>\n",
       "      <td>N</td>\n",
       "      <td>53274</td>\n",
       "      <td>G</td>\n",
       "      <td>3</td>\n",
       "      <td>16.97</td>\n",
       "      <td>87107</td>\n",
       "      <td>F</td>\n",
       "      <td>11.0</td>\n",
       "      <td>948055</td>\n",
       "      <td>1</td>\n",
       "      <td>1</td>\n",
       "      <td>1.21</td>\n",
       "      <td>2676</td>\n",
       "      <td>12.7</td>\n",
       "      <td>3.57</td>\n",
       "      <td>18</td>\n",
       "      <td>22</td>\n",
       "      <td>180</td>\n",
       "      <td>0.0</td>\n",
       "      <td>0.0</td>\n",
       "      <td>1.2</td>\n",
       "      <td>1.23</td>\n",
       "      <td>809.0</td>\n",
       "      <td>12.4</td>\n",
       "      <td>3.8</td>\n",
       "      <td>26.0</td>\n",
       "      <td>32.0</td>\n",
       "      <td>180.0</td>\n",
       "      <td>0.03</td>\n",
       "      <td>0.04</td>\n",
       "      <td>1.2</td>\n",
       "      <td>0.0</td>\n",
       "      <td>0.0</td>\n",
       "      <td>0.0</td>\n",
       "      <td>0.0</td>\n",
       "      <td>0.0</td>\n",
       "      <td>0.0</td>\n",
       "      <td>0.0</td>\n",
       "      <td>0.0</td>\n",
       "      <td>0.0</td>\n",
       "      <td>0.0</td>\n",
       "      <td>0.0</td>\n",
       "      <td>0.0</td>\n",
       "      <td>0.0</td>\n",
       "      <td>0.0</td>\n",
       "      <td>0.0</td>\n",
       "      <td>0.0</td>\n",
       "      <td>P</td>\n",
       "      <td>P</td>\n",
       "      <td>P</td>\n",
       "      <td>P</td>\n",
       "      <td>P</td>\n",
       "      <td>P</td>\n",
       "      <td>NaN</td>\n",
       "      <td>NaN</td>\n",
       "      <td>NaN</td>\n",
       "      <td>NaN</td>\n",
       "      <td>NaN</td>\n",
       "      <td>NaN</td>\n",
       "      <td>NaN</td>\n",
       "      <td>NaN</td>\n",
       "      <td>NaN</td>\n",
       "      <td>NaN</td>\n",
       "      <td>NaN</td>\n",
       "      <td>NaN</td>\n",
       "      <td>NaN</td>\n",
       "      <td>NaN</td>\n",
       "      <td>NaN</td>\n",
       "      <td>NaN</td>\n",
       "      <td>NaN</td>\n",
       "      <td>NaN</td>\n",
       "      <td>NaN</td>\n",
       "      <td>NaN</td>\n",
       "      <td>NaN</td>\n",
       "      <td>1.0</td>\n",
       "      <td>0.0</td>\n",
       "      <td>NaN</td>\n",
       "      <td>141.0</td>\n",
       "      <td>NaN</td>\n",
       "      <td>P</td>\n",
       "      <td>NaN</td>\n",
       "      <td>NaN</td>\n",
       "      <td>NaN</td>\n",
       "      <td>NaN</td>\n",
       "      <td>NaN</td>\n",
       "      <td>NaN</td>\n",
       "      <td>NaN</td>\n",
       "      <td>NaN</td>\n",
       "      <td>NaN</td>\n",
       "      <td>NaN</td>\n",
       "      <td>0.0</td>\n",
       "      <td>NaN</td>\n",
       "      <td>NaN</td>\n",
       "      <td>P</td>\n",
       "      <td>P</td>\n",
       "      <td>P</td>\n",
       "      <td>P</td>\n",
       "      <td>SANCHEZ</td>\n",
       "      <td>TIM</td>\n",
       "      <td>J</td>\n",
       "      <td>NaN</td>\n",
       "      <td>NaN</td>\n",
       "      <td>0.0</td>\n",
       "      <td>IS329</td>\n",
       "      <td>W036</td>\n",
       "      <td>2006-01-12 21:19:17\\r</td>\n",
       "    </tr>\n",
       "    <tr>\n",
       "      <th>1</th>\n",
       "      <td>138031</td>\n",
       "      <td>969</td>\n",
       "      <td>4437994.0</td>\n",
       "      <td>IS267</td>\n",
       "      <td>W014</td>\n",
       "      <td>17496701</td>\n",
       "      <td>I</td>\n",
       "      <td>I</td>\n",
       "      <td>2004-08-13 14:10:00</td>\n",
       "      <td>2004-08-13 14:12:00</td>\n",
       "      <td>1G1JC5249Y7453635</td>\n",
       "      <td>S</td>\n",
       "      <td>CKK700</td>\n",
       "      <td>1.0</td>\n",
       "      <td>2875</td>\n",
       "      <td>2000</td>\n",
       "      <td>CHEVROLET</td>\n",
       "      <td>CAVALIER</td>\n",
       "      <td>4</td>\n",
       "      <td>2200</td>\n",
       "      <td>A</td>\n",
       "      <td>N</td>\n",
       "      <td>109225</td>\n",
       "      <td>G</td>\n",
       "      <td>1</td>\n",
       "      <td>19.95</td>\n",
       "      <td>87114</td>\n",
       "      <td>F</td>\n",
       "      <td>6.0</td>\n",
       "      <td>0</td>\n",
       "      <td>1</td>\n",
       "      <td>1</td>\n",
       "      <td>0.00</td>\n",
       "      <td>0</td>\n",
       "      <td>0.0</td>\n",
       "      <td>0.00</td>\n",
       "      <td>0</td>\n",
       "      <td>0</td>\n",
       "      <td>100</td>\n",
       "      <td>0.0</td>\n",
       "      <td>0.0</td>\n",
       "      <td>1.0</td>\n",
       "      <td>0.00</td>\n",
       "      <td>0.0</td>\n",
       "      <td>0.0</td>\n",
       "      <td>0.0</td>\n",
       "      <td>0.0</td>\n",
       "      <td>0.0</td>\n",
       "      <td>100.0</td>\n",
       "      <td>0.00</td>\n",
       "      <td>0.00</td>\n",
       "      <td>1.0</td>\n",
       "      <td>0.0</td>\n",
       "      <td>0.0</td>\n",
       "      <td>0.0</td>\n",
       "      <td>0.0</td>\n",
       "      <td>0.0</td>\n",
       "      <td>0.0</td>\n",
       "      <td>0.0</td>\n",
       "      <td>0.0</td>\n",
       "      <td>0.0</td>\n",
       "      <td>0.0</td>\n",
       "      <td>0.0</td>\n",
       "      <td>0.0</td>\n",
       "      <td>0.0</td>\n",
       "      <td>0.0</td>\n",
       "      <td>0.0</td>\n",
       "      <td>0.0</td>\n",
       "      <td>N</td>\n",
       "      <td>P</td>\n",
       "      <td>N</td>\n",
       "      <td>N</td>\n",
       "      <td>N</td>\n",
       "      <td>N</td>\n",
       "      <td>P</td>\n",
       "      <td>P</td>\n",
       "      <td>1.0</td>\n",
       "      <td>1.0</td>\n",
       "      <td>4.0</td>\n",
       "      <td>1.0</td>\n",
       "      <td>0.0</td>\n",
       "      <td>5.0</td>\n",
       "      <td>0.0</td>\n",
       "      <td>3.0</td>\n",
       "      <td>4.0</td>\n",
       "      <td>1.0</td>\n",
       "      <td>0.0</td>\n",
       "      <td>P</td>\n",
       "      <td>6.0</td>\n",
       "      <td>NaN</td>\n",
       "      <td>NaN</td>\n",
       "      <td>NaN</td>\n",
       "      <td>P</td>\n",
       "      <td>1.0</td>\n",
       "      <td>P</td>\n",
       "      <td>1.0</td>\n",
       "      <td>0.0</td>\n",
       "      <td>NaN</td>\n",
       "      <td>140.0</td>\n",
       "      <td>NaN</td>\n",
       "      <td>P</td>\n",
       "      <td>NaN</td>\n",
       "      <td>NaN</td>\n",
       "      <td>NaN</td>\n",
       "      <td>NaN</td>\n",
       "      <td>NaN</td>\n",
       "      <td>NaN</td>\n",
       "      <td>NaN</td>\n",
       "      <td>NaN</td>\n",
       "      <td>NaN</td>\n",
       "      <td>NaN</td>\n",
       "      <td>0.0</td>\n",
       "      <td>NaN</td>\n",
       "      <td>N</td>\n",
       "      <td>N</td>\n",
       "      <td>N</td>\n",
       "      <td>N</td>\n",
       "      <td>N</td>\n",
       "      <td>Trujillo</td>\n",
       "      <td>Vince</td>\n",
       "      <td>NaN</td>\n",
       "      <td>NaN</td>\n",
       "      <td>NaN</td>\n",
       "      <td>0.0</td>\n",
       "      <td>IS394</td>\n",
       "      <td>W014</td>\n",
       "      <td>2006-01-13 17:43:30\\r</td>\n",
       "    </tr>\n",
       "    <tr>\n",
       "      <th>2</th>\n",
       "      <td>298121</td>\n",
       "      <td>185</td>\n",
       "      <td>NaN</td>\n",
       "      <td>IR354</td>\n",
       "      <td>W109</td>\n",
       "      <td>32641547</td>\n",
       "      <td>I</td>\n",
       "      <td>NaN</td>\n",
       "      <td>2004-08-31 13:03:00</td>\n",
       "      <td>2004-08-31 13:03:00</td>\n",
       "      <td>KNJBT06K2K6116760</td>\n",
       "      <td>M</td>\n",
       "      <td>NP116760</td>\n",
       "      <td>1.0</td>\n",
       "      <td>2000</td>\n",
       "      <td>1989</td>\n",
       "      <td>FORD</td>\n",
       "      <td>FESTIVA</td>\n",
       "      <td>4</td>\n",
       "      <td>1300</td>\n",
       "      <td>M</td>\n",
       "      <td>N</td>\n",
       "      <td>110347</td>\n",
       "      <td>G</td>\n",
       "      <td>1</td>\n",
       "      <td>NaN</td>\n",
       "      <td>87108</td>\n",
       "      <td>F</td>\n",
       "      <td>4.0</td>\n",
       "      <td>890199</td>\n",
       "      <td>1</td>\n",
       "      <td>1</td>\n",
       "      <td>1.47</td>\n",
       "      <td>2480</td>\n",
       "      <td>10.4</td>\n",
       "      <td>6.73</td>\n",
       "      <td>20</td>\n",
       "      <td>29</td>\n",
       "      <td>200</td>\n",
       "      <td>0.0</td>\n",
       "      <td>0.0</td>\n",
       "      <td>1.2</td>\n",
       "      <td>0.00</td>\n",
       "      <td>690.0</td>\n",
       "      <td>0.0</td>\n",
       "      <td>0.0</td>\n",
       "      <td>0.0</td>\n",
       "      <td>0.0</td>\n",
       "      <td>200.0</td>\n",
       "      <td>0.00</td>\n",
       "      <td>0.00</td>\n",
       "      <td>1.2</td>\n",
       "      <td>0.0</td>\n",
       "      <td>0.0</td>\n",
       "      <td>0.0</td>\n",
       "      <td>0.0</td>\n",
       "      <td>0.0</td>\n",
       "      <td>0.0</td>\n",
       "      <td>0.0</td>\n",
       "      <td>0.0</td>\n",
       "      <td>0.0</td>\n",
       "      <td>0.0</td>\n",
       "      <td>0.0</td>\n",
       "      <td>0.0</td>\n",
       "      <td>0.0</td>\n",
       "      <td>0.0</td>\n",
       "      <td>0.0</td>\n",
       "      <td>0.0</td>\n",
       "      <td>F</td>\n",
       "      <td>P</td>\n",
       "      <td>P</td>\n",
       "      <td>N</td>\n",
       "      <td>P</td>\n",
       "      <td>P</td>\n",
       "      <td>NaN</td>\n",
       "      <td>NaN</td>\n",
       "      <td>NaN</td>\n",
       "      <td>NaN</td>\n",
       "      <td>NaN</td>\n",
       "      <td>NaN</td>\n",
       "      <td>NaN</td>\n",
       "      <td>NaN</td>\n",
       "      <td>NaN</td>\n",
       "      <td>NaN</td>\n",
       "      <td>NaN</td>\n",
       "      <td>NaN</td>\n",
       "      <td>NaN</td>\n",
       "      <td>NaN</td>\n",
       "      <td>NaN</td>\n",
       "      <td>NaN</td>\n",
       "      <td>NaN</td>\n",
       "      <td>NaN</td>\n",
       "      <td>NaN</td>\n",
       "      <td>NaN</td>\n",
       "      <td>NaN</td>\n",
       "      <td>1.0</td>\n",
       "      <td>0.0</td>\n",
       "      <td>99.0</td>\n",
       "      <td>140.0</td>\n",
       "      <td>NaN</td>\n",
       "      <td>A</td>\n",
       "      <td>NaN</td>\n",
       "      <td>NaN</td>\n",
       "      <td>NaN</td>\n",
       "      <td>NaN</td>\n",
       "      <td>NaN</td>\n",
       "      <td>NaN</td>\n",
       "      <td>NaN</td>\n",
       "      <td>NaN</td>\n",
       "      <td>NaN</td>\n",
       "      <td>NaN</td>\n",
       "      <td>0.0</td>\n",
       "      <td>NaN</td>\n",
       "      <td>NaN</td>\n",
       "      <td>P</td>\n",
       "      <td>P</td>\n",
       "      <td>P</td>\n",
       "      <td>P</td>\n",
       "      <td>Anderson</td>\n",
       "      <td>Phillip</td>\n",
       "      <td>L</td>\n",
       "      <td>NaN</td>\n",
       "      <td>T</td>\n",
       "      <td>0.0</td>\n",
       "      <td>IR354</td>\n",
       "      <td>W109</td>\n",
       "      <td>2006-01-24 09:07:03\\r</td>\n",
       "    </tr>\n",
       "    <tr>\n",
       "      <th>3</th>\n",
       "      <td>369185</td>\n",
       "      <td>4569</td>\n",
       "      <td>4469421.0</td>\n",
       "      <td>IS359</td>\n",
       "      <td>W042</td>\n",
       "      <td>11117229</td>\n",
       "      <td>I</td>\n",
       "      <td>I</td>\n",
       "      <td>2004-12-02 11:33:00</td>\n",
       "      <td>2004-12-02 11:39:00</td>\n",
       "      <td>1JCNJ15U6FT075960</td>\n",
       "      <td>M</td>\n",
       "      <td>469FNH</td>\n",
       "      <td>2.0</td>\n",
       "      <td>6200</td>\n",
       "      <td>1985</td>\n",
       "      <td>JEEP</td>\n",
       "      <td>GRAND WAGONEER</td>\n",
       "      <td>8</td>\n",
       "      <td>5900</td>\n",
       "      <td>A</td>\n",
       "      <td>N</td>\n",
       "      <td>152121</td>\n",
       "      <td>G</td>\n",
       "      <td>4</td>\n",
       "      <td>18.81</td>\n",
       "      <td>87103</td>\n",
       "      <td>F</td>\n",
       "      <td>15.0</td>\n",
       "      <td>850119</td>\n",
       "      <td>1</td>\n",
       "      <td>1</td>\n",
       "      <td>1.13</td>\n",
       "      <td>2495</td>\n",
       "      <td>13.6</td>\n",
       "      <td>2.32</td>\n",
       "      <td>12</td>\n",
       "      <td>14</td>\n",
       "      <td>300</td>\n",
       "      <td>0.0</td>\n",
       "      <td>0.0</td>\n",
       "      <td>3.0</td>\n",
       "      <td>1.24</td>\n",
       "      <td>911.0</td>\n",
       "      <td>12.4</td>\n",
       "      <td>4.1</td>\n",
       "      <td>12.0</td>\n",
       "      <td>15.0</td>\n",
       "      <td>300.0</td>\n",
       "      <td>0.00</td>\n",
       "      <td>0.00</td>\n",
       "      <td>1.2</td>\n",
       "      <td>0.0</td>\n",
       "      <td>0.0</td>\n",
       "      <td>0.0</td>\n",
       "      <td>0.0</td>\n",
       "      <td>0.0</td>\n",
       "      <td>0.0</td>\n",
       "      <td>0.0</td>\n",
       "      <td>0.0</td>\n",
       "      <td>0.0</td>\n",
       "      <td>0.0</td>\n",
       "      <td>0.0</td>\n",
       "      <td>0.0</td>\n",
       "      <td>0.0</td>\n",
       "      <td>0.0</td>\n",
       "      <td>0.0</td>\n",
       "      <td>0.0</td>\n",
       "      <td>P</td>\n",
       "      <td>P</td>\n",
       "      <td>P</td>\n",
       "      <td>P</td>\n",
       "      <td>P</td>\n",
       "      <td>P</td>\n",
       "      <td>NaN</td>\n",
       "      <td>NaN</td>\n",
       "      <td>NaN</td>\n",
       "      <td>NaN</td>\n",
       "      <td>NaN</td>\n",
       "      <td>NaN</td>\n",
       "      <td>NaN</td>\n",
       "      <td>NaN</td>\n",
       "      <td>NaN</td>\n",
       "      <td>NaN</td>\n",
       "      <td>NaN</td>\n",
       "      <td>NaN</td>\n",
       "      <td>NaN</td>\n",
       "      <td>NaN</td>\n",
       "      <td>NaN</td>\n",
       "      <td>NaN</td>\n",
       "      <td>NaN</td>\n",
       "      <td>NaN</td>\n",
       "      <td>NaN</td>\n",
       "      <td>NaN</td>\n",
       "      <td>NaN</td>\n",
       "      <td>1.0</td>\n",
       "      <td>0.0</td>\n",
       "      <td>NaN</td>\n",
       "      <td>141.0</td>\n",
       "      <td>NaN</td>\n",
       "      <td>P</td>\n",
       "      <td>NaN</td>\n",
       "      <td>NaN</td>\n",
       "      <td>NaN</td>\n",
       "      <td>NaN</td>\n",
       "      <td>NaN</td>\n",
       "      <td>NaN</td>\n",
       "      <td>NaN</td>\n",
       "      <td>NaN</td>\n",
       "      <td>NaN</td>\n",
       "      <td>NaN</td>\n",
       "      <td>0.0</td>\n",
       "      <td>NaN</td>\n",
       "      <td>NaN</td>\n",
       "      <td>P</td>\n",
       "      <td>P</td>\n",
       "      <td>P</td>\n",
       "      <td>P</td>\n",
       "      <td>NGUYEN</td>\n",
       "      <td>DUC</td>\n",
       "      <td>NaN</td>\n",
       "      <td>NaN</td>\n",
       "      <td>NaN</td>\n",
       "      <td>0.0</td>\n",
       "      <td>IS404</td>\n",
       "      <td>W042</td>\n",
       "      <td>2006-01-26 17:03:05\\r</td>\n",
       "    </tr>\n",
       "    <tr>\n",
       "      <th>4</th>\n",
       "      <td>384955</td>\n",
       "      <td>1326</td>\n",
       "      <td>4492858.0</td>\n",
       "      <td>IS171</td>\n",
       "      <td>W052</td>\n",
       "      <td>22095231</td>\n",
       "      <td>I</td>\n",
       "      <td>I</td>\n",
       "      <td>2004-12-29 17:00:00</td>\n",
       "      <td>2004-12-29 17:03:00</td>\n",
       "      <td>1G8ZJ5273VZ102496</td>\n",
       "      <td>S</td>\n",
       "      <td>NP102496</td>\n",
       "      <td>1.0</td>\n",
       "      <td>2625</td>\n",
       "      <td>1997</td>\n",
       "      <td>SATURN</td>\n",
       "      <td>SC</td>\n",
       "      <td>4</td>\n",
       "      <td>1900</td>\n",
       "      <td>M</td>\n",
       "      <td>N</td>\n",
       "      <td>135640</td>\n",
       "      <td>G</td>\n",
       "      <td>1</td>\n",
       "      <td>14.99</td>\n",
       "      <td>87111</td>\n",
       "      <td>R</td>\n",
       "      <td>6.0</td>\n",
       "      <td>0</td>\n",
       "      <td>1</td>\n",
       "      <td>1</td>\n",
       "      <td>0.00</td>\n",
       "      <td>0</td>\n",
       "      <td>0.0</td>\n",
       "      <td>0.00</td>\n",
       "      <td>0</td>\n",
       "      <td>0</td>\n",
       "      <td>100</td>\n",
       "      <td>0.0</td>\n",
       "      <td>0.0</td>\n",
       "      <td>1.0</td>\n",
       "      <td>0.00</td>\n",
       "      <td>0.0</td>\n",
       "      <td>0.0</td>\n",
       "      <td>0.0</td>\n",
       "      <td>0.0</td>\n",
       "      <td>0.0</td>\n",
       "      <td>100.0</td>\n",
       "      <td>0.00</td>\n",
       "      <td>0.00</td>\n",
       "      <td>1.0</td>\n",
       "      <td>0.0</td>\n",
       "      <td>0.0</td>\n",
       "      <td>0.0</td>\n",
       "      <td>0.0</td>\n",
       "      <td>0.0</td>\n",
       "      <td>0.0</td>\n",
       "      <td>0.0</td>\n",
       "      <td>0.0</td>\n",
       "      <td>0.0</td>\n",
       "      <td>0.0</td>\n",
       "      <td>0.0</td>\n",
       "      <td>0.0</td>\n",
       "      <td>0.0</td>\n",
       "      <td>0.0</td>\n",
       "      <td>0.0</td>\n",
       "      <td>0.0</td>\n",
       "      <td>N</td>\n",
       "      <td>P</td>\n",
       "      <td>N</td>\n",
       "      <td>N</td>\n",
       "      <td>N</td>\n",
       "      <td>N</td>\n",
       "      <td>P</td>\n",
       "      <td>P</td>\n",
       "      <td>1.0</td>\n",
       "      <td>1.0</td>\n",
       "      <td>4.0</td>\n",
       "      <td>1.0</td>\n",
       "      <td>0.0</td>\n",
       "      <td>3.0</td>\n",
       "      <td>0.0</td>\n",
       "      <td>3.0</td>\n",
       "      <td>4.0</td>\n",
       "      <td>1.0</td>\n",
       "      <td>1.0</td>\n",
       "      <td>P</td>\n",
       "      <td>16.0</td>\n",
       "      <td>10</td>\n",
       "      <td>NaN</td>\n",
       "      <td>P0300</td>\n",
       "      <td>F</td>\n",
       "      <td>1.0</td>\n",
       "      <td>P</td>\n",
       "      <td>1.0</td>\n",
       "      <td>0.0</td>\n",
       "      <td>NaN</td>\n",
       "      <td>147.0</td>\n",
       "      <td>NaN</td>\n",
       "      <td>P</td>\n",
       "      <td>NaN</td>\n",
       "      <td>NaN</td>\n",
       "      <td>NaN</td>\n",
       "      <td>NaN</td>\n",
       "      <td>NaN</td>\n",
       "      <td>NaN</td>\n",
       "      <td>NaN</td>\n",
       "      <td>NaN</td>\n",
       "      <td>NaN</td>\n",
       "      <td>NaN</td>\n",
       "      <td>0.0</td>\n",
       "      <td>NaN</td>\n",
       "      <td>N</td>\n",
       "      <td>N</td>\n",
       "      <td>N</td>\n",
       "      <td>N</td>\n",
       "      <td>N</td>\n",
       "      <td>Nguyen</td>\n",
       "      <td>Kenny</td>\n",
       "      <td>T</td>\n",
       "      <td>NaN</td>\n",
       "      <td>NaN</td>\n",
       "      <td>0.0</td>\n",
       "      <td>IS171</td>\n",
       "      <td>W052</td>\n",
       "      <td>2006-01-31 16:06:03\\r</td>\n",
       "    </tr>\n",
       "  </tbody>\n",
       "</table>\n",
       "</div>"
      ],
      "text/plain": [
       "   RecordID  RECORD_NUM  VIR_CERT_NUMBER STATION_NUM ANALYZER_NUM  \\\n",
       "0    111260        7408        4486883.0       IS329         W036   \n",
       "1    138031         969        4437994.0       IS267         W014   \n",
       "2    298121         185              NaN       IR354         W109   \n",
       "3    369185        4569        4469421.0       IS359         W042   \n",
       "4    384955        1326        4492858.0       IS171         W052   \n",
       "\n",
       "  INSPECTOR_NUM TEST_TYPE VID_TEST_TYPE           TEST_SDATE  \\\n",
       "0      26351553         I             I  2004-12-16 10:57:00   \n",
       "1      17496701         I             I  2004-08-13 14:10:00   \n",
       "2      32641547         I           NaN  2004-08-31 13:03:00   \n",
       "3      11117229         I             I  2004-12-02 11:33:00   \n",
       "4      22095231         I             I  2004-12-29 17:00:00   \n",
       "\n",
       "            TEST_EDATE                VIN VIN_SOURCE VEH_LICENSE  GVW_TYPE  \\\n",
       "0  2004-12-16 11:03:00  1FTCR10A8RUE42421          S    NPE42421       1.0   \n",
       "1  2004-08-13 14:12:00  1G1JC5249Y7453635          S      CKK700       1.0   \n",
       "2  2004-08-31 13:03:00  KNJBT06K2K6116760          M    NP116760       1.0   \n",
       "3  2004-12-02 11:39:00  1JCNJ15U6FT075960          M      469FNH       2.0   \n",
       "4  2004-12-29 17:03:00  1G8ZJ5273VZ102496          S    NP102496       1.0   \n",
       "\n",
       "   GVWR  MODEL_YEAR       MAKE                  MODEL CYL  ENGINE_SIZE  \\\n",
       "0  4222        1994       FORD  RANGER REG. CAB - SHO   4         2300   \n",
       "1  2875        2000  CHEVROLET               CAVALIER   4         2200   \n",
       "2  2000        1989       FORD                FESTIVA   4         1300   \n",
       "3  6200        1985       JEEP         GRAND WAGONEER   8         5900   \n",
       "4  2625        1997     SATURN                     SC   4         1900   \n",
       "\n",
       "  TRANS_TYPE DUAL_EXHAUST  ODOMETER FUEL_TYPE  VEHICLE_TYPE  EMISS_COST  \\\n",
       "0          M            N     53274         G             3       16.97   \n",
       "1          A            N    109225         G             1       19.95   \n",
       "2          M            N    110347         G             1         NaN   \n",
       "3          A            N    152121         G             4       18.81   \n",
       "4          M            N    135640         G             1       14.99   \n",
       "\n",
       "  ZIP_CODE CERTIFICATION   ESC  VRT_RECORD_ID  E_TEST_SEQUENCE  \\\n",
       "0    87107             F  11.0         948055                1   \n",
       "1    87114             F   6.0              0                1   \n",
       "2    87108             F   4.0         890199                1   \n",
       "3    87103             F  15.0         850119                1   \n",
       "4    87111             R   6.0              0                1   \n",
       "\n",
       "   E_PRECOND_PROCEDURE  E_HIGH_DCF  E_HIGH_RPM  E_HIGH_CO2  E_HIGH_O2  \\\n",
       "0                    1        1.21        2676        12.7       3.57   \n",
       "1                    1        0.00           0         0.0       0.00   \n",
       "2                    1        1.47        2480        10.4       6.73   \n",
       "3                    1        1.13        2495        13.6       2.32   \n",
       "4                    1        0.00           0         0.0       0.00   \n",
       "\n",
       "   E_HIGH_HC  E_HIGH_HC_DCF  E_HIGH_HC_LIMIT  E_HIGH_CO  E_HIGH_CO_DCF  \\\n",
       "0         18             22              180        0.0            0.0   \n",
       "1          0              0              100        0.0            0.0   \n",
       "2         20             29              200        0.0            0.0   \n",
       "3         12             14              300        0.0            0.0   \n",
       "4          0              0              100        0.0            0.0   \n",
       "\n",
       "   E_HIGH_CO_LIMIT  E_IDLE_DCF  E_IDLE_RPM  E_IDLE_CO2  E_IDLE_O2  E_IDLE_HC  \\\n",
       "0              1.2        1.23       809.0        12.4        3.8       26.0   \n",
       "1              1.0        0.00         0.0         0.0        0.0        0.0   \n",
       "2              1.2        0.00       690.0         0.0        0.0        0.0   \n",
       "3              3.0        1.24       911.0        12.4        4.1       12.0   \n",
       "4              1.0        0.00         0.0         0.0        0.0        0.0   \n",
       "\n",
       "   E_IDLE_HC_DCF  E_IDLE_HC_LIMIT  E_IDLE_CO  E_IDLE_CO_DCF  E_IDLE_CO_LIMIT  \\\n",
       "0           32.0            180.0       0.03           0.04              1.2   \n",
       "1            0.0            100.0       0.00           0.00              1.0   \n",
       "2            0.0            200.0       0.00           0.00              1.2   \n",
       "3           15.0            300.0       0.00           0.00              1.2   \n",
       "4            0.0            100.0       0.00           0.00              1.0   \n",
       "\n",
       "   E_HIGH_DCF_2  E_HIGH_RPM_2  E_HIGH_CO2_2  E_HIGH_O2_2  E_HIGH_HC_2  \\\n",
       "0           0.0           0.0           0.0          0.0          0.0   \n",
       "1           0.0           0.0           0.0          0.0          0.0   \n",
       "2           0.0           0.0           0.0          0.0          0.0   \n",
       "3           0.0           0.0           0.0          0.0          0.0   \n",
       "4           0.0           0.0           0.0          0.0          0.0   \n",
       "\n",
       "   E_HIGH_HC_DCF_2  E_HIGH_CO_2  E_HIGH_CO_DCF_2  E_IDLE_DCF_2  E_IDLE_RPM_2  \\\n",
       "0              0.0          0.0              0.0           0.0           0.0   \n",
       "1              0.0          0.0              0.0           0.0           0.0   \n",
       "2              0.0          0.0              0.0           0.0           0.0   \n",
       "3              0.0          0.0              0.0           0.0           0.0   \n",
       "4              0.0          0.0              0.0           0.0           0.0   \n",
       "\n",
       "   E_IDLE_CO2_2  E_IDLE_O2_2  E_IDLE_HC_2  E_IDLE_HC_DCF_2  E_IDLE_CO_2  \\\n",
       "0           0.0          0.0          0.0              0.0          0.0   \n",
       "1           0.0          0.0          0.0              0.0          0.0   \n",
       "2           0.0          0.0          0.0              0.0          0.0   \n",
       "3           0.0          0.0          0.0              0.0          0.0   \n",
       "4           0.0          0.0          0.0              0.0          0.0   \n",
       "\n",
       "   E_IDLE_CO_DCF_2 E_RESULT_STRING V_SMOKE1 V_SMOKE2 V_GASCAP V_CAT V_RESULT  \\\n",
       "0              0.0               P        P        P        P     P        P   \n",
       "1              0.0               N        P        N        N     N        N   \n",
       "2              0.0               F        P        P        N     P        P   \n",
       "3              0.0               P        P        P        P     P        P   \n",
       "4              0.0               N        P        N        N     N        N   \n",
       "\n",
       "  KOEO_RESULT KOER_RESULT  OBD_RDY_MISFIRE  OBD_RDY_FUEL  OBD_RDY_COMPONENT  \\\n",
       "0         NaN         NaN              NaN           NaN                NaN   \n",
       "1           P           P              1.0           1.0                4.0   \n",
       "2         NaN         NaN              NaN           NaN                NaN   \n",
       "3         NaN         NaN              NaN           NaN                NaN   \n",
       "4           P           P              1.0           1.0                4.0   \n",
       "\n",
       "   OBD_RDY_CAT  OBD_RDY_CAT_HEATED  OBD_RDY_EVAP  OBD_RDY_SEC_AIR  \\\n",
       "0          NaN                 NaN           NaN              NaN   \n",
       "1          1.0                 0.0           5.0              0.0   \n",
       "2          NaN                 NaN           NaN              NaN   \n",
       "3          NaN                 NaN           NaN              NaN   \n",
       "4          1.0                 0.0           3.0              0.0   \n",
       "\n",
       "   OBD_RDY_AIR_COND  OBD_RDY_O2_SENSOR  OBD_RDY_O2_HEATER  OBD_RDY_EGR  \\\n",
       "0               NaN                NaN                NaN          NaN   \n",
       "1               3.0                4.0                1.0          0.0   \n",
       "2               NaN                NaN                NaN          NaN   \n",
       "3               NaN                NaN                NaN          NaN   \n",
       "4               3.0                4.0                1.0          1.0   \n",
       "\n",
       "  OBD_RDY_RESULT  OBD_PID OBD_PCM_ID OBD_VIN OBD_FLT_CODES OBD_FLT_RESULT  \\\n",
       "0            NaN      NaN        NaN     NaN           NaN            NaN   \n",
       "1              P      6.0        NaN     NaN           NaN              P   \n",
       "2            NaN      NaN        NaN     NaN           NaN            NaN   \n",
       "3            NaN      NaN        NaN     NaN           NaN            NaN   \n",
       "4              P     16.0         10     NaN         P0300              F   \n",
       "\n",
       "   OBD_MIL_STATUS OBD_RESULT  ONLINE_STATUS  OFFLINE_REASON_CODE  ABORT_CODE  \\\n",
       "0             NaN        NaN            1.0                  0.0         NaN   \n",
       "1             1.0          P            1.0                  0.0         NaN   \n",
       "2             NaN        NaN            1.0                  0.0        99.0   \n",
       "3             NaN        NaN            1.0                  0.0         NaN   \n",
       "4             1.0          P            1.0                  0.0         NaN   \n",
       "\n",
       "   SOFTWARE_VERSION  INSP_COMMENTS OVERALL_RESULT  R_TOTAL_COST R_EGR  \\\n",
       "0             141.0            NaN              P           NaN   NaN   \n",
       "1             140.0            NaN              P           NaN   NaN   \n",
       "2             140.0            NaN              A           NaN   NaN   \n",
       "3             141.0            NaN              P           NaN   NaN   \n",
       "4             147.0            NaN              P           NaN   NaN   \n",
       "\n",
       "  R_ELECTRICAL R_EVAP_CONTROL R_EXHAUST R_IGNITION R_INTAKE R_ENGINE R_PCV  \\\n",
       "0          NaN            NaN       NaN        NaN      NaN      NaN   NaN   \n",
       "1          NaN            NaN       NaN        NaN      NaN      NaN   NaN   \n",
       "2          NaN            NaN       NaN        NaN      NaN      NaN   NaN   \n",
       "3          NaN            NaN       NaN        NaN      NaN      NaN   NaN   \n",
       "4          NaN            NaN       NaN        NaN      NaN      NaN   NaN   \n",
       "\n",
       "  R_OTHER  SentToWW ABORT_CODE_OTHER_DESC OBDII_AFFECT_OVERALL  \\\n",
       "0     NaN       0.0                   NaN                  NaN   \n",
       "1     NaN       0.0                   NaN                    N   \n",
       "2     NaN       0.0                   NaN                  NaN   \n",
       "3     NaN       0.0                   NaN                  NaN   \n",
       "4     NaN       0.0                   NaN                    N   \n",
       "\n",
       "  E_HIGH_CO_RESULT E_HIGH_HC_RESULT E_IDLE_CO_RESULT E_IDLE_HC_RESULT  \\\n",
       "0                P                P                P                P   \n",
       "1                N                N                N                N   \n",
       "2                P                P                P                P   \n",
       "3                P                P                P                P   \n",
       "4                N                N                N                N   \n",
       "\n",
       "  MECHANIC_LAST_NAME MECHANIC_FIRST_NAME MECHANIC_MIDDLE_INIT  \\\n",
       "0            SANCHEZ                 TIM                    J   \n",
       "1           Trujillo               Vince                  NaN   \n",
       "2           Anderson             Phillip                    L   \n",
       "3             NGUYEN                 DUC                  NaN   \n",
       "4             Nguyen               Kenny                    T   \n",
       "\n",
       "  ENGINE_SIZE_ORIG FAILED_IDLE_RPM  SENTTOVID Station_License_Number  \\\n",
       "0              NaN             NaN        0.0                  IS329   \n",
       "1              NaN             NaN        0.0                  IS394   \n",
       "2              NaN               T        0.0                  IR354   \n",
       "3              NaN             NaN        0.0                  IS404   \n",
       "4              NaN             NaN        0.0                  IS171   \n",
       "\n",
       "  Analyzer_Number      Insert_DateTime\\r  \n",
       "0            W036  2006-01-12 21:19:17\\r  \n",
       "1            W014  2006-01-13 17:43:30\\r  \n",
       "2            W109  2006-01-24 09:07:03\\r  \n",
       "3            W042  2006-01-26 17:03:05\\r  \n",
       "4            W052  2006-01-31 16:06:03\\r  "
      ]
     },
     "execution_count": 5,
     "metadata": {
      "tags": []
     },
     "output_type": "execute_result"
    }
   ],
   "source": [
    "df.head()"
   ]
  },
  {
   "cell_type": "code",
   "execution_count": 6,
   "metadata": {
    "colab": {},
    "colab_type": "code",
    "id": "xdUuUAfis7yH"
   },
   "outputs": [],
   "source": [
    "# get columns for data exploration\n",
    "df_subset = df[[\"RecordID\", \"TEST_SDATE\", \"TEST_EDATE\", \"ODOMETER\", \"VEHICLE_TYPE\", \"MODEL_YEAR\", \"FUEL_TYPE\", \"GVW_TYPE\", \"OVERALL_RESULT\"]]"
   ]
  },
  {
   "cell_type": "code",
   "execution_count": 7,
   "metadata": {
    "colab": {
     "base_uri": "https://localhost:8080/",
     "height": 293
    },
    "colab_type": "code",
    "id": "oBjmMRQutnA6",
    "outputId": "d07b3305-e05c-4db1-e45f-338dec32ff42"
   },
   "outputs": [
    {
     "data": {
      "text/html": [
       "<div>\n",
       "<style scoped>\n",
       "    .dataframe tbody tr th:only-of-type {\n",
       "        vertical-align: middle;\n",
       "    }\n",
       "\n",
       "    .dataframe tbody tr th {\n",
       "        vertical-align: top;\n",
       "    }\n",
       "\n",
       "    .dataframe thead th {\n",
       "        text-align: right;\n",
       "    }\n",
       "</style>\n",
       "<table border=\"1\" class=\"dataframe\">\n",
       "  <thead>\n",
       "    <tr style=\"text-align: right;\">\n",
       "      <th></th>\n",
       "      <th>RecordID</th>\n",
       "      <th>TEST_SDATE</th>\n",
       "      <th>TEST_EDATE</th>\n",
       "      <th>ODOMETER</th>\n",
       "      <th>VEHICLE_TYPE</th>\n",
       "      <th>MODEL_YEAR</th>\n",
       "      <th>FUEL_TYPE</th>\n",
       "      <th>GVW_TYPE</th>\n",
       "      <th>OVERALL_RESULT</th>\n",
       "    </tr>\n",
       "  </thead>\n",
       "  <tbody>\n",
       "    <tr>\n",
       "      <th>0</th>\n",
       "      <td>111260</td>\n",
       "      <td>2004-12-16 10:57:00</td>\n",
       "      <td>2004-12-16 11:03:00</td>\n",
       "      <td>53274</td>\n",
       "      <td>3</td>\n",
       "      <td>1994</td>\n",
       "      <td>G</td>\n",
       "      <td>1.0</td>\n",
       "      <td>P</td>\n",
       "    </tr>\n",
       "    <tr>\n",
       "      <th>1</th>\n",
       "      <td>138031</td>\n",
       "      <td>2004-08-13 14:10:00</td>\n",
       "      <td>2004-08-13 14:12:00</td>\n",
       "      <td>109225</td>\n",
       "      <td>1</td>\n",
       "      <td>2000</td>\n",
       "      <td>G</td>\n",
       "      <td>1.0</td>\n",
       "      <td>P</td>\n",
       "    </tr>\n",
       "    <tr>\n",
       "      <th>2</th>\n",
       "      <td>298121</td>\n",
       "      <td>2004-08-31 13:03:00</td>\n",
       "      <td>2004-08-31 13:03:00</td>\n",
       "      <td>110347</td>\n",
       "      <td>1</td>\n",
       "      <td>1989</td>\n",
       "      <td>G</td>\n",
       "      <td>1.0</td>\n",
       "      <td>A</td>\n",
       "    </tr>\n",
       "    <tr>\n",
       "      <th>3</th>\n",
       "      <td>369185</td>\n",
       "      <td>2004-12-02 11:33:00</td>\n",
       "      <td>2004-12-02 11:39:00</td>\n",
       "      <td>152121</td>\n",
       "      <td>4</td>\n",
       "      <td>1985</td>\n",
       "      <td>G</td>\n",
       "      <td>2.0</td>\n",
       "      <td>P</td>\n",
       "    </tr>\n",
       "    <tr>\n",
       "      <th>4</th>\n",
       "      <td>384955</td>\n",
       "      <td>2004-12-29 17:00:00</td>\n",
       "      <td>2004-12-29 17:03:00</td>\n",
       "      <td>135640</td>\n",
       "      <td>1</td>\n",
       "      <td>1997</td>\n",
       "      <td>G</td>\n",
       "      <td>1.0</td>\n",
       "      <td>P</td>\n",
       "    </tr>\n",
       "  </tbody>\n",
       "</table>\n",
       "</div>"
      ],
      "text/plain": [
       "   RecordID           TEST_SDATE           TEST_EDATE  ODOMETER  VEHICLE_TYPE  \\\n",
       "0    111260  2004-12-16 10:57:00  2004-12-16 11:03:00     53274             3   \n",
       "1    138031  2004-08-13 14:10:00  2004-08-13 14:12:00    109225             1   \n",
       "2    298121  2004-08-31 13:03:00  2004-08-31 13:03:00    110347             1   \n",
       "3    369185  2004-12-02 11:33:00  2004-12-02 11:39:00    152121             4   \n",
       "4    384955  2004-12-29 17:00:00  2004-12-29 17:03:00    135640             1   \n",
       "\n",
       "   MODEL_YEAR FUEL_TYPE  GVW_TYPE OVERALL_RESULT  \n",
       "0        1994         G       1.0              P  \n",
       "1        2000         G       1.0              P  \n",
       "2        1989         G       1.0              A  \n",
       "3        1985         G       2.0              P  \n",
       "4        1997         G       1.0              P  "
      ]
     },
     "execution_count": 7,
     "metadata": {
      "tags": []
     },
     "output_type": "execute_result"
    }
   ],
   "source": [
    "df_subset.head()"
   ]
  },
  {
   "cell_type": "markdown",
   "metadata": {
    "colab_type": "text",
    "id": "thgf2l7at-ya"
   },
   "source": [
    "# Data Exploration"
   ]
  },
  {
   "cell_type": "code",
   "execution_count": 8,
   "metadata": {
    "colab": {
     "base_uri": "https://localhost:8080/",
     "height": 209
    },
    "colab_type": "code",
    "id": "zy8bH0A8t1A0",
    "outputId": "1c0c8de2-1a90-4698-d5f9-ffa7fc223393"
   },
   "outputs": [
    {
     "data": {
      "text/plain": [
       "RecordID            int64\n",
       "TEST_SDATE         object\n",
       "TEST_EDATE         object\n",
       "ODOMETER            int64\n",
       "VEHICLE_TYPE        int64\n",
       "MODEL_YEAR          int64\n",
       "FUEL_TYPE          object\n",
       "GVW_TYPE          float64\n",
       "OVERALL_RESULT     object\n",
       "dtype: object"
      ]
     },
     "execution_count": 8,
     "metadata": {
      "tags": []
     },
     "output_type": "execute_result"
    }
   ],
   "source": [
    "# check dtypes\n",
    "df_subset.dtypes"
   ]
  },
  {
   "cell_type": "code",
   "execution_count": 9,
   "metadata": {
    "colab": {},
    "colab_type": "code",
    "id": "VWwhoDwaBrQf"
   },
   "outputs": [],
   "source": [
    "# only keep rows with \"pass\" or \"fail\" overall result\n",
    "overall_result_mask = (df_subset[\"OVERALL_RESULT\"] == \"P\") | (df_subset[\"OVERALL_RESULT\"] == \"F\")\n",
    "df_subset = df_subset[overall_result_mask]"
   ]
  },
  {
   "cell_type": "markdown",
   "metadata": {
    "colab_type": "text",
    "id": "pwO08onSt2Aq"
   },
   "source": []
  },
  {
   "cell_type": "code",
   "execution_count": 10,
   "metadata": {
    "colab": {},
    "colab_type": "code",
    "id": "pyzot_J3uO8J"
   },
   "outputs": [],
   "source": [
    "# get age of car - CAR_AGE\n",
    "df_subset[\"CAR_AGE\"] = pd.to_datetime(df_subset[\"TEST_EDATE\"]).dt.year - df_subset[\"MODEL_YEAR\"]"
   ]
  },
  {
   "cell_type": "code",
   "execution_count": 11,
   "metadata": {
    "colab": {
     "base_uri": "https://localhost:8080/",
     "height": 228
    },
    "colab_type": "code",
    "id": "3N-TW44EwIBz",
    "outputId": "bb31604f-cc54-4ef9-d891-a16f02396d25"
   },
   "outputs": [
    {
     "data": {
      "text/plain": [
       "RecordID          0\n",
       "TEST_SDATE        0\n",
       "TEST_EDATE        0\n",
       "ODOMETER          0\n",
       "VEHICLE_TYPE      0\n",
       "MODEL_YEAR        0\n",
       "FUEL_TYPE         0\n",
       "GVW_TYPE          0\n",
       "OVERALL_RESULT    0\n",
       "CAR_AGE           0\n",
       "dtype: int64"
      ]
     },
     "execution_count": 11,
     "metadata": {
      "tags": []
     },
     "output_type": "execute_result"
    }
   ],
   "source": [
    "# how many missing values?\n",
    "df_subset.isnull().sum()"
   ]
  },
  {
   "cell_type": "code",
   "execution_count": 12,
   "metadata": {
    "colab": {
     "base_uri": "https://localhost:8080/",
     "height": 299
    },
    "colab_type": "code",
    "id": "Bcdfsctz4XtS",
    "outputId": "1d30be89-3d0f-49e4-e30a-03940ab6362c"
   },
   "outputs": [
    {
     "data": {
      "text/plain": [
       "<matplotlib.axes._subplots.AxesSubplot at 0x7fec1c2c5198>"
      ]
     },
     "execution_count": 12,
     "metadata": {
      "tags": []
     },
     "output_type": "execute_result"
    },
    {
     "data": {
      "image/png": "[encoded data removed]",
      "text/plain": [
       "<Figure size 432x288 with 1 Axes>"
      ]
     },
     "metadata": {
      "needs_background": "light",
      "tags": []
     },
     "output_type": "display_data"
    }
   ],
   "source": [
    "# remove aborted rows?\n",
    "sns.countplot(df_subset[\"OVERALL_RESULT\"])"
   ]
  },
  {
   "cell_type": "code",
   "execution_count": 13,
   "metadata": {
    "colab": {},
    "colab_type": "code",
    "id": "0cLQogbkwlf-"
   },
   "outputs": [],
   "source": [
    "# change categorical variables to categorical type\n",
    "df_subset[\"VEHICLE_TYPE\"]= df_subset[\"VEHICLE_TYPE\"].astype(\"category\")\n",
    "df_subset[\"FUEL_TYPE\"]= df_subset[\"FUEL_TYPE\"].astype(\"category\")\n",
    "df_subset[\"GVW_TYPE\"]= df_subset[\"GVW_TYPE\"].astype(\"category\")\n",
    "df_subset[\"OVERALL_RESULT\"]= df_subset[\"OVERALL_RESULT\"].astype(\"category\")"
   ]
  },
  {
   "cell_type": "code",
   "execution_count": 14,
   "metadata": {
    "colab": {
     "base_uri": "https://localhost:8080/",
     "height": 299
    },
    "colab_type": "code",
    "id": "6y4Oyfz-xwZy",
    "outputId": "b7edab85-e6ee-46db-86b5-7e2ca32f0728"
   },
   "outputs": [
    {
     "data": {
      "text/plain": [
       "<matplotlib.axes._subplots.AxesSubplot at 0x7fec1afae9e8>"
      ]
     },
     "execution_count": 14,
     "metadata": {
      "tags": []
     },
     "output_type": "execute_result"
    },
    {
     "data": {
      "image/png": "[encoded data removed]",
      "text/plain": [
       "<Figure size 432x288 with 1 Axes>"
      ]
     },
     "metadata": {
      "needs_background": "light",
      "tags": []
     },
     "output_type": "display_data"
    }
   ],
   "source": [
    "sns.countplot(df_subset[\"VEHICLE_TYPE\"])"
   ]
  },
  {
   "cell_type": "markdown",
   "metadata": {
    "colab_type": "text",
    "id": "MfjrY2zI7H5m"
   },
   "source": [
    "##Fuel Type\n"
   ]
  },
  {
   "cell_type": "code",
   "execution_count": 15,
   "metadata": {
    "colab": {
     "base_uri": "https://localhost:8080/",
     "height": 299
    },
    "colab_type": "code",
    "id": "fPYKz5psy2mT",
    "outputId": "d4982dba-3d29-467e-8698-4c049defdc18"
   },
   "outputs": [
    {
     "data": {
      "text/plain": [
       "<matplotlib.axes._subplots.AxesSubplot at 0x7fec1aae2978>"
      ]
     },
     "execution_count": 15,
     "metadata": {
      "tags": []
     },
     "output_type": "execute_result"
    },
    {
     "data": {
      "image/png": "[encoded data removed]",
      "text/plain": [
       "<Figure size 432x288 with 1 Axes>"
      ]
     },
     "metadata": {
      "needs_background": "light",
      "tags": []
     },
     "output_type": "display_data"
    }
   ],
   "source": [
    "sns.countplot(df_subset[\"FUEL_TYPE\"])"
   ]
  },
  {
   "cell_type": "code",
   "execution_count": 16,
   "metadata": {
    "colab": {
     "base_uri": "https://localhost:8080/",
     "height": 151
    },
    "colab_type": "code",
    "id": "9BGdbB_MC5vF",
    "outputId": "5f62a2ad-33b0-45b6-dfbe-beca97cc362a"
   },
   "outputs": [
    {
     "data": {
      "text/plain": [
       "G    210047\n",
       "D       333\n",
       "X       255\n",
       "N        16\n",
       "B        14\n",
       "L        10\n",
       "Name: FUEL_TYPE, dtype: int64"
      ]
     },
     "execution_count": 16,
     "metadata": {
      "tags": []
     },
     "output_type": "execute_result"
    }
   ],
   "source": [
    "df_subset[\"FUEL_TYPE\"].value_counts()"
   ]
  },
  {
   "cell_type": "markdown",
   "metadata": {
    "colab_type": "text",
    "id": "DuorI_AS70Xw"
   },
   "source": [
    "##GVW Type\n",
    "The variable represents the three \"Gross Vehicle Weight Classes\" 1, 2 and 3. (1 < 6000 lbs, 2 = 6000 - 8500 lbs, 3 = 8500-10000 lbs)"
   ]
  },
  {
   "cell_type": "code",
   "execution_count": 17,
   "metadata": {
    "colab": {
     "base_uri": "https://localhost:8080/",
     "height": 299
    },
    "colab_type": "code",
    "id": "fvCmeTS1zrWP",
    "outputId": "fbcd025c-f996-435d-f55b-b4109d1c4cfe"
   },
   "outputs": [
    {
     "data": {
      "text/plain": [
       "<matplotlib.axes._subplots.AxesSubplot at 0x7fec1aa5a588>"
      ]
     },
     "execution_count": 17,
     "metadata": {
      "tags": []
     },
     "output_type": "execute_result"
    },
    {
     "data": {
      "image/png": "[encoded data removed]",
      "text/plain": [
       "<Figure size 432x288 with 1 Axes>"
      ]
     },
     "metadata": {
      "needs_background": "light",
      "tags": []
     },
     "output_type": "display_data"
    }
   ],
   "source": [
    "sns.countplot(df_subset[\"GVW_TYPE\"])"
   ]
  },
  {
   "cell_type": "markdown",
   "metadata": {
    "colab_type": "text",
    "id": "pXiicVHPAFG0"
   },
   "source": [
    "## CAR AGE\n",
    "calculated with \"MODEL_YEAR\" - \"TEST_YEAR\". Due to a resulting negative value of -1, the complete age variable was encreased by 1 year"
   ]
  },
  {
   "cell_type": "code",
   "execution_count": 18,
   "metadata": {
    "colab": {
     "base_uri": "https://localhost:8080/",
     "height": 434
    },
    "colab_type": "code",
    "id": "29tf2yqGz7xY",
    "outputId": "3ccb66c1-6ff2-4fb7-ddfd-f50ee1bf59da"
   },
   "outputs": [
    {
     "data": {
      "text/plain": [
       "<matplotlib.axes._subplots.AxesSubplot at 0x7fec1aa13390>"
      ]
     },
     "execution_count": 18,
     "metadata": {
      "tags": []
     },
     "output_type": "execute_result"
    },
    {
     "data": {
      "image/png": "[encoded data removed]",
      "text/plain": [
       "<Figure size 1440x576 with 1 Axes>"
      ]
     },
     "metadata": {
      "needs_background": "light",
      "tags": []
     },
     "output_type": "display_data"
    }
   ],
   "source": [
    "fig, ax = plt.subplots(figsize=[20,8])\n",
    "sns.countplot(df_subset[\"CAR_AGE\"])"
   ]
  },
  {
   "cell_type": "code",
   "execution_count": 19,
   "metadata": {
    "colab": {
     "base_uri": "https://localhost:8080/",
     "height": 1000
    },
    "colab_type": "code",
    "id": "LhIoeYvL3pYm",
    "outputId": "08657ad8-63b2-41a8-b6d1-abe052d19a29"
   },
   "outputs": [
    {
     "data": {
      "text/html": [
       "<div>\n",
       "<style scoped>\n",
       "    .dataframe tbody tr th:only-of-type {\n",
       "        vertical-align: middle;\n",
       "    }\n",
       "\n",
       "    .dataframe tbody tr th {\n",
       "        vertical-align: top;\n",
       "    }\n",
       "\n",
       "    .dataframe thead th {\n",
       "        text-align: right;\n",
       "    }\n",
       "</style>\n",
       "<table border=\"1\" class=\"dataframe\">\n",
       "  <thead>\n",
       "    <tr style=\"text-align: right;\">\n",
       "      <th></th>\n",
       "      <th>RecordID</th>\n",
       "      <th>TEST_SDATE</th>\n",
       "      <th>TEST_EDATE</th>\n",
       "      <th>ODOMETER</th>\n",
       "      <th>VEHICLE_TYPE</th>\n",
       "      <th>MODEL_YEAR</th>\n",
       "      <th>FUEL_TYPE</th>\n",
       "      <th>GVW_TYPE</th>\n",
       "      <th>OVERALL_RESULT</th>\n",
       "      <th>CAR_AGE</th>\n",
       "    </tr>\n",
       "  </thead>\n",
       "  <tbody>\n",
       "    <tr>\n",
       "      <th>270</th>\n",
       "      <td>409312</td>\n",
       "      <td>2004-11-15 16:52:00</td>\n",
       "      <td>2004-11-15 16:55:00</td>\n",
       "      <td>11918</td>\n",
       "      <td>4</td>\n",
       "      <td>2005</td>\n",
       "      <td>G</td>\n",
       "      <td>1.0</td>\n",
       "      <td>P</td>\n",
       "      <td>-1</td>\n",
       "    </tr>\n",
       "    <tr>\n",
       "      <th>1609</th>\n",
       "      <td>130521</td>\n",
       "      <td>2004-09-27 18:37:00</td>\n",
       "      <td>2004-09-27 18:40:00</td>\n",
       "      <td>511940</td>\n",
       "      <td>4</td>\n",
       "      <td>2005</td>\n",
       "      <td>G</td>\n",
       "      <td>1.0</td>\n",
       "      <td>P</td>\n",
       "      <td>-1</td>\n",
       "    </tr>\n",
       "    <tr>\n",
       "      <th>1625</th>\n",
       "      <td>341726</td>\n",
       "      <td>2004-12-13 13:06:00</td>\n",
       "      <td>2004-12-13 13:09:00</td>\n",
       "      <td>11465</td>\n",
       "      <td>1</td>\n",
       "      <td>2005</td>\n",
       "      <td>G</td>\n",
       "      <td>1.0</td>\n",
       "      <td>P</td>\n",
       "      <td>-1</td>\n",
       "    </tr>\n",
       "    <tr>\n",
       "      <th>2023</th>\n",
       "      <td>171325</td>\n",
       "      <td>2004-12-16 09:30:00</td>\n",
       "      <td>2004-12-16 09:32:00</td>\n",
       "      <td>29480</td>\n",
       "      <td>5</td>\n",
       "      <td>2005</td>\n",
       "      <td>G</td>\n",
       "      <td>1.0</td>\n",
       "      <td>P</td>\n",
       "      <td>-1</td>\n",
       "    </tr>\n",
       "    <tr>\n",
       "      <th>4156</th>\n",
       "      <td>341745</td>\n",
       "      <td>2004-12-15 13:24:00</td>\n",
       "      <td>2004-12-15 13:27:00</td>\n",
       "      <td>5232</td>\n",
       "      <td>1</td>\n",
       "      <td>2005</td>\n",
       "      <td>G</td>\n",
       "      <td>1.0</td>\n",
       "      <td>P</td>\n",
       "      <td>-1</td>\n",
       "    </tr>\n",
       "    <tr>\n",
       "      <th>4417</th>\n",
       "      <td>409082</td>\n",
       "      <td>2004-10-14 15:46:00</td>\n",
       "      <td>2004-10-14 15:49:00</td>\n",
       "      <td>9645</td>\n",
       "      <td>5</td>\n",
       "      <td>2005</td>\n",
       "      <td>G</td>\n",
       "      <td>1.0</td>\n",
       "      <td>P</td>\n",
       "      <td>-1</td>\n",
       "    </tr>\n",
       "    <tr>\n",
       "      <th>5267</th>\n",
       "      <td>256561</td>\n",
       "      <td>2004-11-10 10:18:00</td>\n",
       "      <td>2004-11-10 10:20:00</td>\n",
       "      <td>1503</td>\n",
       "      <td>1</td>\n",
       "      <td>2005</td>\n",
       "      <td>G</td>\n",
       "      <td>1.0</td>\n",
       "      <td>P</td>\n",
       "      <td>-1</td>\n",
       "    </tr>\n",
       "    <tr>\n",
       "      <th>5479</th>\n",
       "      <td>341683</td>\n",
       "      <td>2004-12-06 16:05:00</td>\n",
       "      <td>2004-12-06 16:07:00</td>\n",
       "      <td>22903</td>\n",
       "      <td>4</td>\n",
       "      <td>2005</td>\n",
       "      <td>G</td>\n",
       "      <td>1.0</td>\n",
       "      <td>P</td>\n",
       "      <td>-1</td>\n",
       "    </tr>\n",
       "    <tr>\n",
       "      <th>6381</th>\n",
       "      <td>256813</td>\n",
       "      <td>2004-09-29 12:16:00</td>\n",
       "      <td>2004-09-29 12:20:00</td>\n",
       "      <td>834</td>\n",
       "      <td>1</td>\n",
       "      <td>2005</td>\n",
       "      <td>G</td>\n",
       "      <td>1.0</td>\n",
       "      <td>P</td>\n",
       "      <td>-1</td>\n",
       "    </tr>\n",
       "    <tr>\n",
       "      <th>7139</th>\n",
       "      <td>468742</td>\n",
       "      <td>2004-12-29 09:54:00</td>\n",
       "      <td>2004-12-29 09:57:00</td>\n",
       "      <td>92</td>\n",
       "      <td>4</td>\n",
       "      <td>2005</td>\n",
       "      <td>G</td>\n",
       "      <td>1.0</td>\n",
       "      <td>P</td>\n",
       "      <td>-1</td>\n",
       "    </tr>\n",
       "    <tr>\n",
       "      <th>7285</th>\n",
       "      <td>131268</td>\n",
       "      <td>2004-11-29 16:40:00</td>\n",
       "      <td>2004-11-29 16:44:00</td>\n",
       "      <td>1465</td>\n",
       "      <td>1</td>\n",
       "      <td>2005</td>\n",
       "      <td>G</td>\n",
       "      <td>1.0</td>\n",
       "      <td>P</td>\n",
       "      <td>-1</td>\n",
       "    </tr>\n",
       "    <tr>\n",
       "      <th>8271</th>\n",
       "      <td>534381</td>\n",
       "      <td>2004-12-10 11:50:00</td>\n",
       "      <td>2004-12-10 11:58:00</td>\n",
       "      <td>10841</td>\n",
       "      <td>5</td>\n",
       "      <td>2005</td>\n",
       "      <td>G</td>\n",
       "      <td>1.0</td>\n",
       "      <td>P</td>\n",
       "      <td>-1</td>\n",
       "    </tr>\n",
       "    <tr>\n",
       "      <th>8336</th>\n",
       "      <td>261357</td>\n",
       "      <td>2004-10-26 09:39:00</td>\n",
       "      <td>2004-10-26 09:42:00</td>\n",
       "      <td>23259</td>\n",
       "      <td>5</td>\n",
       "      <td>2005</td>\n",
       "      <td>G</td>\n",
       "      <td>1.0</td>\n",
       "      <td>P</td>\n",
       "      <td>-1</td>\n",
       "    </tr>\n",
       "    <tr>\n",
       "      <th>9319</th>\n",
       "      <td>216499</td>\n",
       "      <td>2004-12-10 15:36:00</td>\n",
       "      <td>2004-12-10 15:41:00</td>\n",
       "      <td>17716</td>\n",
       "      <td>5</td>\n",
       "      <td>2005</td>\n",
       "      <td>G</td>\n",
       "      <td>1.0</td>\n",
       "      <td>P</td>\n",
       "      <td>-1</td>\n",
       "    </tr>\n",
       "    <tr>\n",
       "      <th>9533</th>\n",
       "      <td>261082</td>\n",
       "      <td>2004-09-01 09:21:00</td>\n",
       "      <td>2004-09-01 09:25:00</td>\n",
       "      <td>2593</td>\n",
       "      <td>1</td>\n",
       "      <td>2005</td>\n",
       "      <td>G</td>\n",
       "      <td>1.0</td>\n",
       "      <td>P</td>\n",
       "      <td>-1</td>\n",
       "    </tr>\n",
       "    <tr>\n",
       "      <th>10207</th>\n",
       "      <td>417371</td>\n",
       "      <td>2004-12-21 10:23:00</td>\n",
       "      <td>2004-12-21 10:26:00</td>\n",
       "      <td>21798</td>\n",
       "      <td>1</td>\n",
       "      <td>2005</td>\n",
       "      <td>G</td>\n",
       "      <td>1.0</td>\n",
       "      <td>P</td>\n",
       "      <td>-1</td>\n",
       "    </tr>\n",
       "    <tr>\n",
       "      <th>12001</th>\n",
       "      <td>343705</td>\n",
       "      <td>2005-12-23 17:06:00</td>\n",
       "      <td>2005-12-23 17:10:00</td>\n",
       "      <td>12655</td>\n",
       "      <td>1</td>\n",
       "      <td>2006</td>\n",
       "      <td>G</td>\n",
       "      <td>1.0</td>\n",
       "      <td>P</td>\n",
       "      <td>-1</td>\n",
       "    </tr>\n",
       "    <tr>\n",
       "      <th>13234</th>\n",
       "      <td>295765</td>\n",
       "      <td>2005-12-22 08:56:00</td>\n",
       "      <td>2005-12-22 09:00:00</td>\n",
       "      <td>2000</td>\n",
       "      <td>4</td>\n",
       "      <td>2006</td>\n",
       "      <td>G</td>\n",
       "      <td>2.0</td>\n",
       "      <td>P</td>\n",
       "      <td>-1</td>\n",
       "    </tr>\n",
       "    <tr>\n",
       "      <th>17109</th>\n",
       "      <td>181473</td>\n",
       "      <td>2005-08-28 15:05:00</td>\n",
       "      <td>2005-08-28 15:08:00</td>\n",
       "      <td>280</td>\n",
       "      <td>4</td>\n",
       "      <td>2006</td>\n",
       "      <td>G</td>\n",
       "      <td>1.0</td>\n",
       "      <td>P</td>\n",
       "      <td>-1</td>\n",
       "    </tr>\n",
       "    <tr>\n",
       "      <th>17284</th>\n",
       "      <td>130597</td>\n",
       "      <td>2005-11-21 11:41:00</td>\n",
       "      <td>2005-11-21 11:44:00</td>\n",
       "      <td>937</td>\n",
       "      <td>5</td>\n",
       "      <td>2006</td>\n",
       "      <td>G</td>\n",
       "      <td>1.0</td>\n",
       "      <td>P</td>\n",
       "      <td>-1</td>\n",
       "    </tr>\n",
       "    <tr>\n",
       "      <th>17857</th>\n",
       "      <td>279213</td>\n",
       "      <td>2005-11-14 10:44:00</td>\n",
       "      <td>2005-11-14 10:46:00</td>\n",
       "      <td>5600</td>\n",
       "      <td>1</td>\n",
       "      <td>2006</td>\n",
       "      <td>G</td>\n",
       "      <td>1.0</td>\n",
       "      <td>P</td>\n",
       "      <td>-1</td>\n",
       "    </tr>\n",
       "    <tr>\n",
       "      <th>18595</th>\n",
       "      <td>189277</td>\n",
       "      <td>2005-10-25 15:10:00</td>\n",
       "      <td>2005-10-25 15:12:00</td>\n",
       "      <td>343</td>\n",
       "      <td>4</td>\n",
       "      <td>2006</td>\n",
       "      <td>G</td>\n",
       "      <td>1.0</td>\n",
       "      <td>P</td>\n",
       "      <td>-1</td>\n",
       "    </tr>\n",
       "    <tr>\n",
       "      <th>22761</th>\n",
       "      <td>161807</td>\n",
       "      <td>2005-10-12 11:17:00</td>\n",
       "      <td>2005-10-12 11:20:00</td>\n",
       "      <td>13329</td>\n",
       "      <td>1</td>\n",
       "      <td>2006</td>\n",
       "      <td>G</td>\n",
       "      <td>1.0</td>\n",
       "      <td>P</td>\n",
       "      <td>-1</td>\n",
       "    </tr>\n",
       "    <tr>\n",
       "      <th>25123</th>\n",
       "      <td>84343</td>\n",
       "      <td>2005-12-28 10:57:00</td>\n",
       "      <td>2005-12-28 11:00:00</td>\n",
       "      <td>9305</td>\n",
       "      <td>4</td>\n",
       "      <td>2006</td>\n",
       "      <td>G</td>\n",
       "      <td>2.0</td>\n",
       "      <td>P</td>\n",
       "      <td>-1</td>\n",
       "    </tr>\n",
       "    <tr>\n",
       "      <th>25225</th>\n",
       "      <td>411801</td>\n",
       "      <td>2005-12-21 10:02:00</td>\n",
       "      <td>2005-12-21 10:04:00</td>\n",
       "      <td>58</td>\n",
       "      <td>3</td>\n",
       "      <td>2006</td>\n",
       "      <td>G</td>\n",
       "      <td>2.0</td>\n",
       "      <td>P</td>\n",
       "      <td>-1</td>\n",
       "    </tr>\n",
       "    <tr>\n",
       "      <th>25498</th>\n",
       "      <td>292054</td>\n",
       "      <td>2005-08-09 12:26:00</td>\n",
       "      <td>2005-08-09 12:29:00</td>\n",
       "      <td>1163</td>\n",
       "      <td>2</td>\n",
       "      <td>2006</td>\n",
       "      <td>G</td>\n",
       "      <td>1.0</td>\n",
       "      <td>P</td>\n",
       "      <td>-1</td>\n",
       "    </tr>\n",
       "    <tr>\n",
       "      <th>29456</th>\n",
       "      <td>260495</td>\n",
       "      <td>2005-06-04 10:45:00</td>\n",
       "      <td>2005-06-04 10:49:00</td>\n",
       "      <td>726</td>\n",
       "      <td>1</td>\n",
       "      <td>2006</td>\n",
       "      <td>G</td>\n",
       "      <td>1.0</td>\n",
       "      <td>P</td>\n",
       "      <td>-1</td>\n",
       "    </tr>\n",
       "    <tr>\n",
       "      <th>38605</th>\n",
       "      <td>650359</td>\n",
       "      <td>2006-10-19 09:34:00</td>\n",
       "      <td>2006-10-19 09:36:00</td>\n",
       "      <td>665</td>\n",
       "      <td>1</td>\n",
       "      <td>2007</td>\n",
       "      <td>G</td>\n",
       "      <td>1.0</td>\n",
       "      <td>P</td>\n",
       "      <td>-1</td>\n",
       "    </tr>\n",
       "    <tr>\n",
       "      <th>39206</th>\n",
       "      <td>713661</td>\n",
       "      <td>2006-12-27 13:18:00</td>\n",
       "      <td>2006-12-27 13:21:00</td>\n",
       "      <td>16361</td>\n",
       "      <td>4</td>\n",
       "      <td>2007</td>\n",
       "      <td>G</td>\n",
       "      <td>1.0</td>\n",
       "      <td>P</td>\n",
       "      <td>-1</td>\n",
       "    </tr>\n",
       "    <tr>\n",
       "      <th>39398</th>\n",
       "      <td>631785</td>\n",
       "      <td>2006-09-28 17:45:00</td>\n",
       "      <td>2006-09-28 17:48:00</td>\n",
       "      <td>9197</td>\n",
       "      <td>1</td>\n",
       "      <td>2007</td>\n",
       "      <td>G</td>\n",
       "      <td>1.0</td>\n",
       "      <td>P</td>\n",
       "      <td>-1</td>\n",
       "    </tr>\n",
       "    <tr>\n",
       "      <th>41341</th>\n",
       "      <td>685684</td>\n",
       "      <td>2006-11-27 15:17:00</td>\n",
       "      <td>2006-11-27 15:20:00</td>\n",
       "      <td>5981</td>\n",
       "      <td>1</td>\n",
       "      <td>2007</td>\n",
       "      <td>G</td>\n",
       "      <td>1.0</td>\n",
       "      <td>P</td>\n",
       "      <td>-1</td>\n",
       "    </tr>\n",
       "    <tr>\n",
       "      <th>42822</th>\n",
       "      <td>690977</td>\n",
       "      <td>2006-12-05 10:32:00</td>\n",
       "      <td>2006-12-05 10:34:00</td>\n",
       "      <td>151</td>\n",
       "      <td>1</td>\n",
       "      <td>2007</td>\n",
       "      <td>G</td>\n",
       "      <td>1.0</td>\n",
       "      <td>P</td>\n",
       "      <td>-1</td>\n",
       "    </tr>\n",
       "    <tr>\n",
       "      <th>46632</th>\n",
       "      <td>631794</td>\n",
       "      <td>2006-09-30 08:25:00</td>\n",
       "      <td>2006-09-30 08:27:00</td>\n",
       "      <td>14461</td>\n",
       "      <td>1</td>\n",
       "      <td>2007</td>\n",
       "      <td>G</td>\n",
       "      <td>1.0</td>\n",
       "      <td>P</td>\n",
       "      <td>-1</td>\n",
       "    </tr>\n",
       "    <tr>\n",
       "      <th>49884</th>\n",
       "      <td>631795</td>\n",
       "      <td>2006-09-30 08:33:00</td>\n",
       "      <td>2006-09-30 08:35:00</td>\n",
       "      <td>14764</td>\n",
       "      <td>1</td>\n",
       "      <td>2007</td>\n",
       "      <td>G</td>\n",
       "      <td>1.0</td>\n",
       "      <td>P</td>\n",
       "      <td>-1</td>\n",
       "    </tr>\n",
       "    <tr>\n",
       "      <th>51797</th>\n",
       "      <td>705181</td>\n",
       "      <td>2006-12-15 15:21:00</td>\n",
       "      <td>2006-12-15 15:27:00</td>\n",
       "      <td>5822</td>\n",
       "      <td>2</td>\n",
       "      <td>2007</td>\n",
       "      <td>G</td>\n",
       "      <td>1.0</td>\n",
       "      <td>P</td>\n",
       "      <td>-1</td>\n",
       "    </tr>\n",
       "    <tr>\n",
       "      <th>52593</th>\n",
       "      <td>616613</td>\n",
       "      <td>2006-09-12 10:43:00</td>\n",
       "      <td>2006-09-12 10:46:00</td>\n",
       "      <td>3172</td>\n",
       "      <td>1</td>\n",
       "      <td>2007</td>\n",
       "      <td>G</td>\n",
       "      <td>1.0</td>\n",
       "      <td>P</td>\n",
       "      <td>-1</td>\n",
       "    </tr>\n",
       "    <tr>\n",
       "      <th>52994</th>\n",
       "      <td>578616</td>\n",
       "      <td>2006-08-08 13:26:00</td>\n",
       "      <td>2006-08-08 13:29:00</td>\n",
       "      <td>3115</td>\n",
       "      <td>1</td>\n",
       "      <td>2007</td>\n",
       "      <td>G</td>\n",
       "      <td>1.0</td>\n",
       "      <td>P</td>\n",
       "      <td>-1</td>\n",
       "    </tr>\n",
       "    <tr>\n",
       "      <th>53131</th>\n",
       "      <td>656736</td>\n",
       "      <td>2006-10-27 09:16:00</td>\n",
       "      <td>2006-10-27 09:20:00</td>\n",
       "      <td>4202</td>\n",
       "      <td>1</td>\n",
       "      <td>2007</td>\n",
       "      <td>G</td>\n",
       "      <td>1.0</td>\n",
       "      <td>P</td>\n",
       "      <td>-1</td>\n",
       "    </tr>\n",
       "    <tr>\n",
       "      <th>53809</th>\n",
       "      <td>689419</td>\n",
       "      <td>2006-11-28 15:07:00</td>\n",
       "      <td>2006-11-28 15:12:00</td>\n",
       "      <td>5885</td>\n",
       "      <td>1</td>\n",
       "      <td>2007</td>\n",
       "      <td>G</td>\n",
       "      <td>1.0</td>\n",
       "      <td>P</td>\n",
       "      <td>-1</td>\n",
       "    </tr>\n",
       "    <tr>\n",
       "      <th>55205</th>\n",
       "      <td>668882</td>\n",
       "      <td>2006-11-07 16:36:00</td>\n",
       "      <td>2006-11-07 16:38:00</td>\n",
       "      <td>2192</td>\n",
       "      <td>4</td>\n",
       "      <td>2007</td>\n",
       "      <td>G</td>\n",
       "      <td>2.0</td>\n",
       "      <td>P</td>\n",
       "      <td>-1</td>\n",
       "    </tr>\n",
       "    <tr>\n",
       "      <th>56302</th>\n",
       "      <td>640805</td>\n",
       "      <td>2006-10-09 10:47:00</td>\n",
       "      <td>2006-10-09 10:49:00</td>\n",
       "      <td>16495</td>\n",
       "      <td>1</td>\n",
       "      <td>2007</td>\n",
       "      <td>G</td>\n",
       "      <td>1.0</td>\n",
       "      <td>P</td>\n",
       "      <td>-1</td>\n",
       "    </tr>\n",
       "    <tr>\n",
       "      <th>58925</th>\n",
       "      <td>693777</td>\n",
       "      <td>2006-12-09 08:17:00</td>\n",
       "      <td>2006-12-09 08:19:00</td>\n",
       "      <td>5362</td>\n",
       "      <td>1</td>\n",
       "      <td>2007</td>\n",
       "      <td>G</td>\n",
       "      <td>1.0</td>\n",
       "      <td>P</td>\n",
       "      <td>-1</td>\n",
       "    </tr>\n",
       "    <tr>\n",
       "      <th>59625</th>\n",
       "      <td>1044085</td>\n",
       "      <td>2007-12-28 15:43:00</td>\n",
       "      <td>2007-12-28 15:45:00</td>\n",
       "      <td>20032</td>\n",
       "      <td>1</td>\n",
       "      <td>2008</td>\n",
       "      <td>G</td>\n",
       "      <td>1.0</td>\n",
       "      <td>P</td>\n",
       "      <td>-1</td>\n",
       "    </tr>\n",
       "    <tr>\n",
       "      <th>60279</th>\n",
       "      <td>1036446</td>\n",
       "      <td>2007-12-13 08:47:00</td>\n",
       "      <td>2007-12-13 08:50:00</td>\n",
       "      <td>8938</td>\n",
       "      <td>1</td>\n",
       "      <td>2008</td>\n",
       "      <td>G</td>\n",
       "      <td>1.0</td>\n",
       "      <td>P</td>\n",
       "      <td>-1</td>\n",
       "    </tr>\n",
       "    <tr>\n",
       "      <th>70525</th>\n",
       "      <td>1048712</td>\n",
       "      <td>2007-12-31 13:57:00</td>\n",
       "      <td>2007-12-31 14:01:00</td>\n",
       "      <td>118</td>\n",
       "      <td>6</td>\n",
       "      <td>2008</td>\n",
       "      <td>G</td>\n",
       "      <td>3.0</td>\n",
       "      <td>P</td>\n",
       "      <td>-1</td>\n",
       "    </tr>\n",
       "    <tr>\n",
       "      <th>75027</th>\n",
       "      <td>1012049</td>\n",
       "      <td>2007-11-07 16:11:00</td>\n",
       "      <td>2007-11-07 16:15:00</td>\n",
       "      <td>1719</td>\n",
       "      <td>7</td>\n",
       "      <td>2008</td>\n",
       "      <td>G</td>\n",
       "      <td>2.0</td>\n",
       "      <td>P</td>\n",
       "      <td>-1</td>\n",
       "    </tr>\n",
       "    <tr>\n",
       "      <th>78330</th>\n",
       "      <td>1040959</td>\n",
       "      <td>2007-12-17 10:52:00</td>\n",
       "      <td>2007-12-17 10:54:00</td>\n",
       "      <td>227</td>\n",
       "      <td>4</td>\n",
       "      <td>2008</td>\n",
       "      <td>G</td>\n",
       "      <td>1.0</td>\n",
       "      <td>P</td>\n",
       "      <td>-1</td>\n",
       "    </tr>\n",
       "    <tr>\n",
       "      <th>79171</th>\n",
       "      <td>1042254</td>\n",
       "      <td>2007-12-22 10:25:00</td>\n",
       "      <td>2007-12-22 10:27:00</td>\n",
       "      <td>22926</td>\n",
       "      <td>4</td>\n",
       "      <td>2008</td>\n",
       "      <td>G</td>\n",
       "      <td>1.0</td>\n",
       "      <td>P</td>\n",
       "      <td>-1</td>\n",
       "    </tr>\n",
       "    <tr>\n",
       "      <th>80508</th>\n",
       "      <td>1044080</td>\n",
       "      <td>2007-12-26 16:44:00</td>\n",
       "      <td>2007-12-26 16:46:00</td>\n",
       "      <td>19170</td>\n",
       "      <td>1</td>\n",
       "      <td>2008</td>\n",
       "      <td>G</td>\n",
       "      <td>1.0</td>\n",
       "      <td>P</td>\n",
       "      <td>-1</td>\n",
       "    </tr>\n",
       "    <tr>\n",
       "      <th>81225</th>\n",
       "      <td>969858</td>\n",
       "      <td>2007-09-28 15:55:00</td>\n",
       "      <td>2007-09-28 15:57:00</td>\n",
       "      <td>5</td>\n",
       "      <td>4</td>\n",
       "      <td>2008</td>\n",
       "      <td>G</td>\n",
       "      <td>1.0</td>\n",
       "      <td>F</td>\n",
       "      <td>-1</td>\n",
       "    </tr>\n",
       "    <tr>\n",
       "      <th>81882</th>\n",
       "      <td>1042199</td>\n",
       "      <td>2007-12-20 09:54:00</td>\n",
       "      <td>2007-12-20 09:57:00</td>\n",
       "      <td>19695</td>\n",
       "      <td>1</td>\n",
       "      <td>2008</td>\n",
       "      <td>G</td>\n",
       "      <td>1.0</td>\n",
       "      <td>P</td>\n",
       "      <td>-1</td>\n",
       "    </tr>\n",
       "    <tr>\n",
       "      <th>82214</th>\n",
       "      <td>1004184</td>\n",
       "      <td>2007-11-01 09:25:00</td>\n",
       "      <td>2007-11-01 09:28:00</td>\n",
       "      <td>6197</td>\n",
       "      <td>1</td>\n",
       "      <td>2008</td>\n",
       "      <td>G</td>\n",
       "      <td>1.0</td>\n",
       "      <td>P</td>\n",
       "      <td>-1</td>\n",
       "    </tr>\n",
       "    <tr>\n",
       "      <th>102004</th>\n",
       "      <td>1323937</td>\n",
       "      <td>2008-12-10 11:51:00</td>\n",
       "      <td>2008-12-10 11:53:00</td>\n",
       "      <td>14340</td>\n",
       "      <td>1</td>\n",
       "      <td>2009</td>\n",
       "      <td>G</td>\n",
       "      <td>1.0</td>\n",
       "      <td>P</td>\n",
       "      <td>-1</td>\n",
       "    </tr>\n",
       "    <tr>\n",
       "      <th>102442</th>\n",
       "      <td>1310898</td>\n",
       "      <td>2008-11-22 13:43:00</td>\n",
       "      <td>2008-11-22 13:44:00</td>\n",
       "      <td>25026</td>\n",
       "      <td>4</td>\n",
       "      <td>2009</td>\n",
       "      <td>G</td>\n",
       "      <td>1.0</td>\n",
       "      <td>P</td>\n",
       "      <td>-1</td>\n",
       "    </tr>\n",
       "    <tr>\n",
       "      <th>104144</th>\n",
       "      <td>1320787</td>\n",
       "      <td>2008-12-08 10:44:00</td>\n",
       "      <td>2008-12-08 10:47:00</td>\n",
       "      <td>455</td>\n",
       "      <td>1</td>\n",
       "      <td>2009</td>\n",
       "      <td>G</td>\n",
       "      <td>1.0</td>\n",
       "      <td>P</td>\n",
       "      <td>-1</td>\n",
       "    </tr>\n",
       "    <tr>\n",
       "      <th>104756</th>\n",
       "      <td>1331124</td>\n",
       "      <td>2008-12-19 09:26:00</td>\n",
       "      <td>2008-12-19 09:28:00</td>\n",
       "      <td>408</td>\n",
       "      <td>1</td>\n",
       "      <td>2009</td>\n",
       "      <td>G</td>\n",
       "      <td>1.0</td>\n",
       "      <td>P</td>\n",
       "      <td>-1</td>\n",
       "    </tr>\n",
       "    <tr>\n",
       "      <th>105925</th>\n",
       "      <td>1280460</td>\n",
       "      <td>2008-10-06 11:47:00</td>\n",
       "      <td>2008-10-06 11:50:00</td>\n",
       "      <td>10</td>\n",
       "      <td>1</td>\n",
       "      <td>2009</td>\n",
       "      <td>G</td>\n",
       "      <td>1.0</td>\n",
       "      <td>P</td>\n",
       "      <td>-1</td>\n",
       "    </tr>\n",
       "    <tr>\n",
       "      <th>107527</th>\n",
       "      <td>1327658</td>\n",
       "      <td>2008-12-16 13:08:00</td>\n",
       "      <td>2008-12-16 13:09:00</td>\n",
       "      <td>3179</td>\n",
       "      <td>1</td>\n",
       "      <td>2009</td>\n",
       "      <td>G</td>\n",
       "      <td>1.0</td>\n",
       "      <td>P</td>\n",
       "      <td>-1</td>\n",
       "    </tr>\n",
       "    <tr>\n",
       "      <th>111096</th>\n",
       "      <td>1648451</td>\n",
       "      <td>2009-12-11 09:55:00</td>\n",
       "      <td>2009-12-11 09:56:00</td>\n",
       "      <td>3598</td>\n",
       "      <td>1</td>\n",
       "      <td>2010</td>\n",
       "      <td>G</td>\n",
       "      <td>1.0</td>\n",
       "      <td>P</td>\n",
       "      <td>-1</td>\n",
       "    </tr>\n",
       "    <tr>\n",
       "      <th>112470</th>\n",
       "      <td>1621629</td>\n",
       "      <td>2009-11-02 09:34:00</td>\n",
       "      <td>2009-11-02 09:36:00</td>\n",
       "      <td>7181</td>\n",
       "      <td>1</td>\n",
       "      <td>2010</td>\n",
       "      <td>G</td>\n",
       "      <td>1.0</td>\n",
       "      <td>P</td>\n",
       "      <td>-1</td>\n",
       "    </tr>\n",
       "    <tr>\n",
       "      <th>113666</th>\n",
       "      <td>1659597</td>\n",
       "      <td>2009-12-16 20:01:00</td>\n",
       "      <td>2009-12-16 20:05:00</td>\n",
       "      <td>13456</td>\n",
       "      <td>1</td>\n",
       "      <td>2010</td>\n",
       "      <td>G</td>\n",
       "      <td>1.0</td>\n",
       "      <td>P</td>\n",
       "      <td>-1</td>\n",
       "    </tr>\n",
       "    <tr>\n",
       "      <th>116221</th>\n",
       "      <td>1610628</td>\n",
       "      <td>2009-10-16 17:02:00</td>\n",
       "      <td>2009-10-16 17:05:00</td>\n",
       "      <td>2981</td>\n",
       "      <td>4</td>\n",
       "      <td>2010</td>\n",
       "      <td>G</td>\n",
       "      <td>1.0</td>\n",
       "      <td>P</td>\n",
       "      <td>-1</td>\n",
       "    </tr>\n",
       "    <tr>\n",
       "      <th>117599</th>\n",
       "      <td>1663412</td>\n",
       "      <td>2009-12-29 11:35:00</td>\n",
       "      <td>2009-12-29 11:39:00</td>\n",
       "      <td>6151</td>\n",
       "      <td>5</td>\n",
       "      <td>2010</td>\n",
       "      <td>G</td>\n",
       "      <td>1.0</td>\n",
       "      <td>P</td>\n",
       "      <td>-1</td>\n",
       "    </tr>\n",
       "    <tr>\n",
       "      <th>128617</th>\n",
       "      <td>1647136</td>\n",
       "      <td>2009-12-04 10:33:00</td>\n",
       "      <td>2009-12-04 10:36:00</td>\n",
       "      <td>1928</td>\n",
       "      <td>1</td>\n",
       "      <td>2010</td>\n",
       "      <td>G</td>\n",
       "      <td>1.0</td>\n",
       "      <td>P</td>\n",
       "      <td>-1</td>\n",
       "    </tr>\n",
       "    <tr>\n",
       "      <th>129257</th>\n",
       "      <td>1664921</td>\n",
       "      <td>2009-12-31 10:42:00</td>\n",
       "      <td>2009-12-31 10:46:00</td>\n",
       "      <td>605</td>\n",
       "      <td>4</td>\n",
       "      <td>2010</td>\n",
       "      <td>G</td>\n",
       "      <td>2.0</td>\n",
       "      <td>P</td>\n",
       "      <td>-1</td>\n",
       "    </tr>\n",
       "    <tr>\n",
       "      <th>134281</th>\n",
       "      <td>2040292</td>\n",
       "      <td>2010-12-20 10:32:00</td>\n",
       "      <td>2010-12-20 10:35:00</td>\n",
       "      <td>1814</td>\n",
       "      <td>4</td>\n",
       "      <td>2011</td>\n",
       "      <td>G</td>\n",
       "      <td>1.0</td>\n",
       "      <td>P</td>\n",
       "      <td>-1</td>\n",
       "    </tr>\n",
       "    <tr>\n",
       "      <th>134636</th>\n",
       "      <td>2027395</td>\n",
       "      <td>2010-12-07 10:56:00</td>\n",
       "      <td>2010-12-07 10:58:00</td>\n",
       "      <td>687</td>\n",
       "      <td>1</td>\n",
       "      <td>2011</td>\n",
       "      <td>G</td>\n",
       "      <td>1.0</td>\n",
       "      <td>P</td>\n",
       "      <td>-1</td>\n",
       "    </tr>\n",
       "    <tr>\n",
       "      <th>139398</th>\n",
       "      <td>1992231</td>\n",
       "      <td>2010-10-22 10:33:00</td>\n",
       "      <td>2010-10-22 10:37:00</td>\n",
       "      <td>3371</td>\n",
       "      <td>2</td>\n",
       "      <td>2011</td>\n",
       "      <td>G</td>\n",
       "      <td>1.0</td>\n",
       "      <td>P</td>\n",
       "      <td>-1</td>\n",
       "    </tr>\n",
       "    <tr>\n",
       "      <th>142538</th>\n",
       "      <td>2044619</td>\n",
       "      <td>2010-12-28 08:54:00</td>\n",
       "      <td>2010-12-28 08:56:00</td>\n",
       "      <td>3410</td>\n",
       "      <td>1</td>\n",
       "      <td>2011</td>\n",
       "      <td>G</td>\n",
       "      <td>1.0</td>\n",
       "      <td>P</td>\n",
       "      <td>-1</td>\n",
       "    </tr>\n",
       "    <tr>\n",
       "      <th>148831</th>\n",
       "      <td>2027001</td>\n",
       "      <td>2010-12-01 17:46:00</td>\n",
       "      <td>2010-12-01 17:48:00</td>\n",
       "      <td>21987</td>\n",
       "      <td>1</td>\n",
       "      <td>2011</td>\n",
       "      <td>G</td>\n",
       "      <td>1.0</td>\n",
       "      <td>P</td>\n",
       "      <td>-1</td>\n",
       "    </tr>\n",
       "    <tr>\n",
       "      <th>149342</th>\n",
       "      <td>1925902</td>\n",
       "      <td>2010-08-02 10:31:00</td>\n",
       "      <td>2010-08-02 10:34:00</td>\n",
       "      <td>28</td>\n",
       "      <td>4</td>\n",
       "      <td>2011</td>\n",
       "      <td>G</td>\n",
       "      <td>2.0</td>\n",
       "      <td>P</td>\n",
       "      <td>-1</td>\n",
       "    </tr>\n",
       "    <tr>\n",
       "      <th>153514</th>\n",
       "      <td>2016176</td>\n",
       "      <td>2010-11-19 16:23:00</td>\n",
       "      <td>2010-11-19 16:25:00</td>\n",
       "      <td>1631</td>\n",
       "      <td>4</td>\n",
       "      <td>2011</td>\n",
       "      <td>G</td>\n",
       "      <td>1.0</td>\n",
       "      <td>P</td>\n",
       "      <td>-1</td>\n",
       "    </tr>\n",
       "    <tr>\n",
       "      <th>163204</th>\n",
       "      <td>2294424</td>\n",
       "      <td>2011-10-20 09:52:00</td>\n",
       "      <td>2011-10-20 09:54:00</td>\n",
       "      <td>2615</td>\n",
       "      <td>5</td>\n",
       "      <td>2012</td>\n",
       "      <td>G</td>\n",
       "      <td>1.0</td>\n",
       "      <td>P</td>\n",
       "      <td>-1</td>\n",
       "    </tr>\n",
       "    <tr>\n",
       "      <th>164581</th>\n",
       "      <td>2290872</td>\n",
       "      <td>2011-10-18 08:54:00</td>\n",
       "      <td>2011-10-18 08:57:00</td>\n",
       "      <td>1473</td>\n",
       "      <td>1</td>\n",
       "      <td>2012</td>\n",
       "      <td>G</td>\n",
       "      <td>1.0</td>\n",
       "      <td>P</td>\n",
       "      <td>-1</td>\n",
       "    </tr>\n",
       "    <tr>\n",
       "      <th>165035</th>\n",
       "      <td>2323965</td>\n",
       "      <td>2011-12-01 13:08:00</td>\n",
       "      <td>2011-12-01 13:10:00</td>\n",
       "      <td>2288</td>\n",
       "      <td>1</td>\n",
       "      <td>2012</td>\n",
       "      <td>G</td>\n",
       "      <td>1.0</td>\n",
       "      <td>P</td>\n",
       "      <td>-1</td>\n",
       "    </tr>\n",
       "    <tr>\n",
       "      <th>165278</th>\n",
       "      <td>2260360</td>\n",
       "      <td>2011-09-08 15:05:00</td>\n",
       "      <td>2011-09-08 15:08:00</td>\n",
       "      <td>3372</td>\n",
       "      <td>1</td>\n",
       "      <td>2012</td>\n",
       "      <td>G</td>\n",
       "      <td>1.0</td>\n",
       "      <td>P</td>\n",
       "      <td>-1</td>\n",
       "    </tr>\n",
       "    <tr>\n",
       "      <th>172309</th>\n",
       "      <td>2273136</td>\n",
       "      <td>2011-09-20 17:58:00</td>\n",
       "      <td>2011-09-20 18:00:00</td>\n",
       "      <td>930</td>\n",
       "      <td>1</td>\n",
       "      <td>2012</td>\n",
       "      <td>G</td>\n",
       "      <td>1.0</td>\n",
       "      <td>P</td>\n",
       "      <td>-1</td>\n",
       "    </tr>\n",
       "    <tr>\n",
       "      <th>172991</th>\n",
       "      <td>2329019</td>\n",
       "      <td>2011-12-08 15:31:00</td>\n",
       "      <td>2011-12-08 15:33:00</td>\n",
       "      <td>121</td>\n",
       "      <td>1</td>\n",
       "      <td>2012</td>\n",
       "      <td>G</td>\n",
       "      <td>1.0</td>\n",
       "      <td>P</td>\n",
       "      <td>-1</td>\n",
       "    </tr>\n",
       "    <tr>\n",
       "      <th>177244</th>\n",
       "      <td>2326129</td>\n",
       "      <td>2011-12-01 08:35:00</td>\n",
       "      <td>2011-12-01 08:36:00</td>\n",
       "      <td>3973</td>\n",
       "      <td>3</td>\n",
       "      <td>2012</td>\n",
       "      <td>G</td>\n",
       "      <td>2.0</td>\n",
       "      <td>P</td>\n",
       "      <td>-1</td>\n",
       "    </tr>\n",
       "    <tr>\n",
       "      <th>202384</th>\n",
       "      <td>2556873</td>\n",
       "      <td>2012-09-05 09:52:00</td>\n",
       "      <td>2012-09-05 09:55:00</td>\n",
       "      <td>3430</td>\n",
       "      <td>4</td>\n",
       "      <td>2013</td>\n",
       "      <td>G</td>\n",
       "      <td>1.0</td>\n",
       "      <td>P</td>\n",
       "      <td>-1</td>\n",
       "    </tr>\n",
       "    <tr>\n",
       "      <th>203751</th>\n",
       "      <td>2573592</td>\n",
       "      <td>2012-09-25 10:38:00</td>\n",
       "      <td>2012-09-25 10:39:00</td>\n",
       "      <td>516</td>\n",
       "      <td>1</td>\n",
       "      <td>2013</td>\n",
       "      <td>G</td>\n",
       "      <td>1.0</td>\n",
       "      <td>P</td>\n",
       "      <td>-1</td>\n",
       "    </tr>\n",
       "    <tr>\n",
       "      <th>204072</th>\n",
       "      <td>2577691</td>\n",
       "      <td>2012-09-29 11:58:00</td>\n",
       "      <td>2012-09-29 11:59:00</td>\n",
       "      <td>1054</td>\n",
       "      <td>4</td>\n",
       "      <td>2013</td>\n",
       "      <td>X</td>\n",
       "      <td>1.0</td>\n",
       "      <td>P</td>\n",
       "      <td>-1</td>\n",
       "    </tr>\n",
       "    <tr>\n",
       "      <th>204311</th>\n",
       "      <td>2580540</td>\n",
       "      <td>2012-10-03 16:04:00</td>\n",
       "      <td>2012-10-03 16:06:00</td>\n",
       "      <td>576</td>\n",
       "      <td>1</td>\n",
       "      <td>2013</td>\n",
       "      <td>G</td>\n",
       "      <td>1.0</td>\n",
       "      <td>P</td>\n",
       "      <td>-1</td>\n",
       "    </tr>\n",
       "    <tr>\n",
       "      <th>204521</th>\n",
       "      <td>2583124</td>\n",
       "      <td>2012-10-05 16:40:00</td>\n",
       "      <td>2012-10-05 16:41:00</td>\n",
       "      <td>115</td>\n",
       "      <td>1</td>\n",
       "      <td>2013</td>\n",
       "      <td>G</td>\n",
       "      <td>1.0</td>\n",
       "      <td>P</td>\n",
       "      <td>-1</td>\n",
       "    </tr>\n",
       "    <tr>\n",
       "      <th>205173</th>\n",
       "      <td>2590955</td>\n",
       "      <td>2012-10-17 12:30:00</td>\n",
       "      <td>2012-10-17 12:31:00</td>\n",
       "      <td>0</td>\n",
       "      <td>1</td>\n",
       "      <td>2013</td>\n",
       "      <td>G</td>\n",
       "      <td>1.0</td>\n",
       "      <td>P</td>\n",
       "      <td>-1</td>\n",
       "    </tr>\n",
       "    <tr>\n",
       "      <th>206155</th>\n",
       "      <td>2603247</td>\n",
       "      <td>2012-11-02 16:14:00</td>\n",
       "      <td>2012-11-02 16:17:00</td>\n",
       "      <td>2540</td>\n",
       "      <td>1</td>\n",
       "      <td>2013</td>\n",
       "      <td>G</td>\n",
       "      <td>1.0</td>\n",
       "      <td>P</td>\n",
       "      <td>-1</td>\n",
       "    </tr>\n",
       "    <tr>\n",
       "      <th>206911</th>\n",
       "      <td>2611790</td>\n",
       "      <td>2012-11-12 16:45:00</td>\n",
       "      <td>2012-11-12 16:46:00</td>\n",
       "      <td>1972</td>\n",
       "      <td>4</td>\n",
       "      <td>2013</td>\n",
       "      <td>G</td>\n",
       "      <td>1.0</td>\n",
       "      <td>P</td>\n",
       "      <td>-1</td>\n",
       "    </tr>\n",
       "    <tr>\n",
       "      <th>208450</th>\n",
       "      <td>2629778</td>\n",
       "      <td>2012-12-10 11:43:00</td>\n",
       "      <td>2012-12-10 11:44:00</td>\n",
       "      <td>2243</td>\n",
       "      <td>1</td>\n",
       "      <td>2013</td>\n",
       "      <td>G</td>\n",
       "      <td>1.0</td>\n",
       "      <td>P</td>\n",
       "      <td>-1</td>\n",
       "    </tr>\n",
       "    <tr>\n",
       "      <th>209050</th>\n",
       "      <td>2637392</td>\n",
       "      <td>2012-12-20 10:52:00</td>\n",
       "      <td>2012-12-20 10:53:00</td>\n",
       "      <td>13035</td>\n",
       "      <td>4</td>\n",
       "      <td>2013</td>\n",
       "      <td>G</td>\n",
       "      <td>1.0</td>\n",
       "      <td>P</td>\n",
       "      <td>-1</td>\n",
       "    </tr>\n",
       "    <tr>\n",
       "      <th>219287</th>\n",
       "      <td>2904620</td>\n",
       "      <td>2013-12-16 13:05:00</td>\n",
       "      <td>2013-12-16 13:06:00</td>\n",
       "      <td>1712</td>\n",
       "      <td>1</td>\n",
       "      <td>2014</td>\n",
       "      <td>G</td>\n",
       "      <td>1.0</td>\n",
       "      <td>P</td>\n",
       "      <td>-1</td>\n",
       "    </tr>\n",
       "    <tr>\n",
       "      <th>222032</th>\n",
       "      <td>2908478</td>\n",
       "      <td>2013-12-21 13:44:00</td>\n",
       "      <td>2013-12-21 13:45:00</td>\n",
       "      <td>196</td>\n",
       "      <td>4</td>\n",
       "      <td>2014</td>\n",
       "      <td>G</td>\n",
       "      <td>1.0</td>\n",
       "      <td>P</td>\n",
       "      <td>-1</td>\n",
       "    </tr>\n",
       "    <tr>\n",
       "      <th>225013</th>\n",
       "      <td>2867375</td>\n",
       "      <td>2013-10-15 09:45:00</td>\n",
       "      <td>2013-10-15 09:46:00</td>\n",
       "      <td>8840</td>\n",
       "      <td>4</td>\n",
       "      <td>2014</td>\n",
       "      <td>G</td>\n",
       "      <td>1.0</td>\n",
       "      <td>P</td>\n",
       "      <td>-1</td>\n",
       "    </tr>\n",
       "    <tr>\n",
       "      <th>225120</th>\n",
       "      <td>2908471</td>\n",
       "      <td>2013-12-20 09:03:00</td>\n",
       "      <td>2013-12-20 09:05:00</td>\n",
       "      <td>261</td>\n",
       "      <td>1</td>\n",
       "      <td>2014</td>\n",
       "      <td>G</td>\n",
       "      <td>1.0</td>\n",
       "      <td>P</td>\n",
       "      <td>-1</td>\n",
       "    </tr>\n",
       "    <tr>\n",
       "      <th>227822</th>\n",
       "      <td>2893644</td>\n",
       "      <td>2013-11-27 15:22:00</td>\n",
       "      <td>2013-11-27 15:23:00</td>\n",
       "      <td>10560</td>\n",
       "      <td>1</td>\n",
       "      <td>2014</td>\n",
       "      <td>G</td>\n",
       "      <td>1.0</td>\n",
       "      <td>P</td>\n",
       "      <td>-1</td>\n",
       "    </tr>\n",
       "    <tr>\n",
       "      <th>228328</th>\n",
       "      <td>2896989</td>\n",
       "      <td>2013-12-03 14:53:00</td>\n",
       "      <td>2013-12-03 14:54:00</td>\n",
       "      <td>6228</td>\n",
       "      <td>4</td>\n",
       "      <td>2014</td>\n",
       "      <td>G</td>\n",
       "      <td>1.0</td>\n",
       "      <td>P</td>\n",
       "      <td>-1</td>\n",
       "    </tr>\n",
       "    <tr>\n",
       "      <th>229904</th>\n",
       "      <td>2877108</td>\n",
       "      <td>2013-10-30 10:50:00</td>\n",
       "      <td>2013-10-30 10:51:00</td>\n",
       "      <td>919</td>\n",
       "      <td>4</td>\n",
       "      <td>2014</td>\n",
       "      <td>G</td>\n",
       "      <td>1.0</td>\n",
       "      <td>P</td>\n",
       "      <td>-1</td>\n",
       "    </tr>\n",
       "    <tr>\n",
       "      <th>231129</th>\n",
       "      <td>2866471</td>\n",
       "      <td>2013-10-16 10:34:00</td>\n",
       "      <td>2013-10-16 10:35:00</td>\n",
       "      <td>20891</td>\n",
       "      <td>4</td>\n",
       "      <td>2014</td>\n",
       "      <td>G</td>\n",
       "      <td>2.0</td>\n",
       "      <td>P</td>\n",
       "      <td>-1</td>\n",
       "    </tr>\n",
       "    <tr>\n",
       "      <th>231424</th>\n",
       "      <td>2903161</td>\n",
       "      <td>2013-12-13 11:07:00</td>\n",
       "      <td>2013-12-13 11:08:00</td>\n",
       "      <td>4926</td>\n",
       "      <td>1</td>\n",
       "      <td>2014</td>\n",
       "      <td>G</td>\n",
       "      <td>1.0</td>\n",
       "      <td>P</td>\n",
       "      <td>-1</td>\n",
       "    </tr>\n",
       "    <tr>\n",
       "      <th>232121</th>\n",
       "      <td>2858436</td>\n",
       "      <td>2013-10-04 10:18:00</td>\n",
       "      <td>2013-10-04 10:18:00</td>\n",
       "      <td>50</td>\n",
       "      <td>1</td>\n",
       "      <td>2014</td>\n",
       "      <td>G</td>\n",
       "      <td>1.0</td>\n",
       "      <td>P</td>\n",
       "      <td>-1</td>\n",
       "    </tr>\n",
       "    <tr>\n",
       "      <th>233709</th>\n",
       "      <td>3171094</td>\n",
       "      <td>2014-12-05 11:31:00</td>\n",
       "      <td>2014-12-05 11:32:00</td>\n",
       "      <td>15917</td>\n",
       "      <td>1</td>\n",
       "      <td>2015</td>\n",
       "      <td>G</td>\n",
       "      <td>1.0</td>\n",
       "      <td>P</td>\n",
       "      <td>-1</td>\n",
       "    </tr>\n",
       "  </tbody>\n",
       "</table>\n",
       "</div>"
      ],
      "text/plain": [
       "        RecordID           TEST_SDATE           TEST_EDATE  ODOMETER  \\\n",
       "270       409312  2004-11-15 16:52:00  2004-11-15 16:55:00     11918   \n",
       "1609      130521  2004-09-27 18:37:00  2004-09-27 18:40:00    511940   \n",
       "1625      341726  2004-12-13 13:06:00  2004-12-13 13:09:00     11465   \n",
       "2023      171325  2004-12-16 09:30:00  2004-12-16 09:32:00     29480   \n",
       "4156      341745  2004-12-15 13:24:00  2004-12-15 13:27:00      5232   \n",
       "4417      409082  2004-10-14 15:46:00  2004-10-14 15:49:00      9645   \n",
       "5267      256561  2004-11-10 10:18:00  2004-11-10 10:20:00      1503   \n",
       "5479      341683  2004-12-06 16:05:00  2004-12-06 16:07:00     22903   \n",
       "6381      256813  2004-09-29 12:16:00  2004-09-29 12:20:00       834   \n",
       "7139      468742  2004-12-29 09:54:00  2004-12-29 09:57:00        92   \n",
       "7285      131268  2004-11-29 16:40:00  2004-11-29 16:44:00      1465   \n",
       "8271      534381  2004-12-10 11:50:00  2004-12-10 11:58:00     10841   \n",
       "8336      261357  2004-10-26 09:39:00  2004-10-26 09:42:00     23259   \n",
       "9319      216499  2004-12-10 15:36:00  2004-12-10 15:41:00     17716   \n",
       "9533      261082  2004-09-01 09:21:00  2004-09-01 09:25:00      2593   \n",
       "10207     417371  2004-12-21 10:23:00  2004-12-21 10:26:00     21798   \n",
       "12001     343705  2005-12-23 17:06:00  2005-12-23 17:10:00     12655   \n",
       "13234     295765  2005-12-22 08:56:00  2005-12-22 09:00:00      2000   \n",
       "17109     181473  2005-08-28 15:05:00  2005-08-28 15:08:00       280   \n",
       "17284     130597  2005-11-21 11:41:00  2005-11-21 11:44:00       937   \n",
       "17857     279213  2005-11-14 10:44:00  2005-11-14 10:46:00      5600   \n",
       "18595     189277  2005-10-25 15:10:00  2005-10-25 15:12:00       343   \n",
       "22761     161807  2005-10-12 11:17:00  2005-10-12 11:20:00     13329   \n",
       "25123      84343  2005-12-28 10:57:00  2005-12-28 11:00:00      9305   \n",
       "25225     411801  2005-12-21 10:02:00  2005-12-21 10:04:00        58   \n",
       "25498     292054  2005-08-09 12:26:00  2005-08-09 12:29:00      1163   \n",
       "29456     260495  2005-06-04 10:45:00  2005-06-04 10:49:00       726   \n",
       "38605     650359  2006-10-19 09:34:00  2006-10-19 09:36:00       665   \n",
       "39206     713661  2006-12-27 13:18:00  2006-12-27 13:21:00     16361   \n",
       "39398     631785  2006-09-28 17:45:00  2006-09-28 17:48:00      9197   \n",
       "41341     685684  2006-11-27 15:17:00  2006-11-27 15:20:00      5981   \n",
       "42822     690977  2006-12-05 10:32:00  2006-12-05 10:34:00       151   \n",
       "46632     631794  2006-09-30 08:25:00  2006-09-30 08:27:00     14461   \n",
       "49884     631795  2006-09-30 08:33:00  2006-09-30 08:35:00     14764   \n",
       "51797     705181  2006-12-15 15:21:00  2006-12-15 15:27:00      5822   \n",
       "52593     616613  2006-09-12 10:43:00  2006-09-12 10:46:00      3172   \n",
       "52994     578616  2006-08-08 13:26:00  2006-08-08 13:29:00      3115   \n",
       "53131     656736  2006-10-27 09:16:00  2006-10-27 09:20:00      4202   \n",
       "53809     689419  2006-11-28 15:07:00  2006-11-28 15:12:00      5885   \n",
       "55205     668882  2006-11-07 16:36:00  2006-11-07 16:38:00      2192   \n",
       "56302     640805  2006-10-09 10:47:00  2006-10-09 10:49:00     16495   \n",
       "58925     693777  2006-12-09 08:17:00  2006-12-09 08:19:00      5362   \n",
       "59625    1044085  2007-12-28 15:43:00  2007-12-28 15:45:00     20032   \n",
       "60279    1036446  2007-12-13 08:47:00  2007-12-13 08:50:00      8938   \n",
       "70525    1048712  2007-12-31 13:57:00  2007-12-31 14:01:00       118   \n",
       "75027    1012049  2007-11-07 16:11:00  2007-11-07 16:15:00      1719   \n",
       "78330    1040959  2007-12-17 10:52:00  2007-12-17 10:54:00       227   \n",
       "79171    1042254  2007-12-22 10:25:00  2007-12-22 10:27:00     22926   \n",
       "80508    1044080  2007-12-26 16:44:00  2007-12-26 16:46:00     19170   \n",
       "81225     969858  2007-09-28 15:55:00  2007-09-28 15:57:00         5   \n",
       "81882    1042199  2007-12-20 09:54:00  2007-12-20 09:57:00     19695   \n",
       "82214    1004184  2007-11-01 09:25:00  2007-11-01 09:28:00      6197   \n",
       "102004   1323937  2008-12-10 11:51:00  2008-12-10 11:53:00     14340   \n",
       "102442   1310898  2008-11-22 13:43:00  2008-11-22 13:44:00     25026   \n",
       "104144   1320787  2008-12-08 10:44:00  2008-12-08 10:47:00       455   \n",
       "104756   1331124  2008-12-19 09:26:00  2008-12-19 09:28:00       408   \n",
       "105925   1280460  2008-10-06 11:47:00  2008-10-06 11:50:00        10   \n",
       "107527   1327658  2008-12-16 13:08:00  2008-12-16 13:09:00      3179   \n",
       "111096   1648451  2009-12-11 09:55:00  2009-12-11 09:56:00      3598   \n",
       "112470   1621629  2009-11-02 09:34:00  2009-11-02 09:36:00      7181   \n",
       "113666   1659597  2009-12-16 20:01:00  2009-12-16 20:05:00     13456   \n",
       "116221   1610628  2009-10-16 17:02:00  2009-10-16 17:05:00      2981   \n",
       "117599   1663412  2009-12-29 11:35:00  2009-12-29 11:39:00      6151   \n",
       "128617   1647136  2009-12-04 10:33:00  2009-12-04 10:36:00      1928   \n",
       "129257   1664921  2009-12-31 10:42:00  2009-12-31 10:46:00       605   \n",
       "134281   2040292  2010-12-20 10:32:00  2010-12-20 10:35:00      1814   \n",
       "134636   2027395  2010-12-07 10:56:00  2010-12-07 10:58:00       687   \n",
       "139398   1992231  2010-10-22 10:33:00  2010-10-22 10:37:00      3371   \n",
       "142538   2044619  2010-12-28 08:54:00  2010-12-28 08:56:00      3410   \n",
       "148831   2027001  2010-12-01 17:46:00  2010-12-01 17:48:00     21987   \n",
       "149342   1925902  2010-08-02 10:31:00  2010-08-02 10:34:00        28   \n",
       "153514   2016176  2010-11-19 16:23:00  2010-11-19 16:25:00      1631   \n",
       "163204   2294424  2011-10-20 09:52:00  2011-10-20 09:54:00      2615   \n",
       "164581   2290872  2011-10-18 08:54:00  2011-10-18 08:57:00      1473   \n",
       "165035   2323965  2011-12-01 13:08:00  2011-12-01 13:10:00      2288   \n",
       "165278   2260360  2011-09-08 15:05:00  2011-09-08 15:08:00      3372   \n",
       "172309   2273136  2011-09-20 17:58:00  2011-09-20 18:00:00       930   \n",
       "172991   2329019  2011-12-08 15:31:00  2011-12-08 15:33:00       121   \n",
       "177244   2326129  2011-12-01 08:35:00  2011-12-01 08:36:00      3973   \n",
       "202384   2556873  2012-09-05 09:52:00  2012-09-05 09:55:00      3430   \n",
       "203751   2573592  2012-09-25 10:38:00  2012-09-25 10:39:00       516   \n",
       "204072   2577691  2012-09-29 11:58:00  2012-09-29 11:59:00      1054   \n",
       "204311   2580540  2012-10-03 16:04:00  2012-10-03 16:06:00       576   \n",
       "204521   2583124  2012-10-05 16:40:00  2012-10-05 16:41:00       115   \n",
       "205173   2590955  2012-10-17 12:30:00  2012-10-17 12:31:00         0   \n",
       "206155   2603247  2012-11-02 16:14:00  2012-11-02 16:17:00      2540   \n",
       "206911   2611790  2012-11-12 16:45:00  2012-11-12 16:46:00      1972   \n",
       "208450   2629778  2012-12-10 11:43:00  2012-12-10 11:44:00      2243   \n",
       "209050   2637392  2012-12-20 10:52:00  2012-12-20 10:53:00     13035   \n",
       "219287   2904620  2013-12-16 13:05:00  2013-12-16 13:06:00      1712   \n",
       "222032   2908478  2013-12-21 13:44:00  2013-12-21 13:45:00       196   \n",
       "225013   2867375  2013-10-15 09:45:00  2013-10-15 09:46:00      8840   \n",
       "225120   2908471  2013-12-20 09:03:00  2013-12-20 09:05:00       261   \n",
       "227822   2893644  2013-11-27 15:22:00  2013-11-27 15:23:00     10560   \n",
       "228328   2896989  2013-12-03 14:53:00  2013-12-03 14:54:00      6228   \n",
       "229904   2877108  2013-10-30 10:50:00  2013-10-30 10:51:00       919   \n",
       "231129   2866471  2013-10-16 10:34:00  2013-10-16 10:35:00     20891   \n",
       "231424   2903161  2013-12-13 11:07:00  2013-12-13 11:08:00      4926   \n",
       "232121   2858436  2013-10-04 10:18:00  2013-10-04 10:18:00        50   \n",
       "233709   3171094  2014-12-05 11:31:00  2014-12-05 11:32:00     15917   \n",
       "\n",
       "       VEHICLE_TYPE  MODEL_YEAR FUEL_TYPE GVW_TYPE OVERALL_RESULT  CAR_AGE  \n",
       "270               4        2005         G      1.0              P       -1  \n",
       "1609              4        2005         G      1.0              P       -1  \n",
       "1625              1        2005         G      1.0              P       -1  \n",
       "2023              5        2005         G      1.0              P       -1  \n",
       "4156              1        2005         G      1.0              P       -1  \n",
       "4417              5        2005         G      1.0              P       -1  \n",
       "5267              1        2005         G      1.0              P       -1  \n",
       "5479              4        2005         G      1.0              P       -1  \n",
       "6381              1        2005         G      1.0              P       -1  \n",
       "7139              4        2005         G      1.0              P       -1  \n",
       "7285              1        2005         G      1.0              P       -1  \n",
       "8271              5        2005         G      1.0              P       -1  \n",
       "8336              5        2005         G      1.0              P       -1  \n",
       "9319              5        2005         G      1.0              P       -1  \n",
       "9533              1        2005         G      1.0              P       -1  \n",
       "10207             1        2005         G      1.0              P       -1  \n",
       "12001             1        2006         G      1.0              P       -1  \n",
       "13234             4        2006         G      2.0              P       -1  \n",
       "17109             4        2006         G      1.0              P       -1  \n",
       "17284             5        2006         G      1.0              P       -1  \n",
       "17857             1        2006         G      1.0              P       -1  \n",
       "18595             4        2006         G      1.0              P       -1  \n",
       "22761             1        2006         G      1.0              P       -1  \n",
       "25123             4        2006         G      2.0              P       -1  \n",
       "25225             3        2006         G      2.0              P       -1  \n",
       "25498             2        2006         G      1.0              P       -1  \n",
       "29456             1        2006         G      1.0              P       -1  \n",
       "38605             1        2007         G      1.0              P       -1  \n",
       "39206             4        2007         G      1.0              P       -1  \n",
       "39398             1        2007         G      1.0              P       -1  \n",
       "41341             1        2007         G      1.0              P       -1  \n",
       "42822             1        2007         G      1.0              P       -1  \n",
       "46632             1        2007         G      1.0              P       -1  \n",
       "49884             1        2007         G      1.0              P       -1  \n",
       "51797             2        2007         G      1.0              P       -1  \n",
       "52593             1        2007         G      1.0              P       -1  \n",
       "52994             1        2007         G      1.0              P       -1  \n",
       "53131             1        2007         G      1.0              P       -1  \n",
       "53809             1        2007         G      1.0              P       -1  \n",
       "55205             4        2007         G      2.0              P       -1  \n",
       "56302             1        2007         G      1.0              P       -1  \n",
       "58925             1        2007         G      1.0              P       -1  \n",
       "59625             1        2008         G      1.0              P       -1  \n",
       "60279             1        2008         G      1.0              P       -1  \n",
       "70525             6        2008         G      3.0              P       -1  \n",
       "75027             7        2008         G      2.0              P       -1  \n",
       "78330             4        2008         G      1.0              P       -1  \n",
       "79171             4        2008         G      1.0              P       -1  \n",
       "80508             1        2008         G      1.0              P       -1  \n",
       "81225             4        2008         G      1.0              F       -1  \n",
       "81882             1        2008         G      1.0              P       -1  \n",
       "82214             1        2008         G      1.0              P       -1  \n",
       "102004            1        2009         G      1.0              P       -1  \n",
       "102442            4        2009         G      1.0              P       -1  \n",
       "104144            1        2009         G      1.0              P       -1  \n",
       "104756            1        2009         G      1.0              P       -1  \n",
       "105925            1        2009         G      1.0              P       -1  \n",
       "107527            1        2009         G      1.0              P       -1  \n",
       "111096            1        2010         G      1.0              P       -1  \n",
       "112470            1        2010         G      1.0              P       -1  \n",
       "113666            1        2010         G      1.0              P       -1  \n",
       "116221            4        2010         G      1.0              P       -1  \n",
       "117599            5        2010         G      1.0              P       -1  \n",
       "128617            1        2010         G      1.0              P       -1  \n",
       "129257            4        2010         G      2.0              P       -1  \n",
       "134281            4        2011         G      1.0              P       -1  \n",
       "134636            1        2011         G      1.0              P       -1  \n",
       "139398            2        2011         G      1.0              P       -1  \n",
       "142538            1        2011         G      1.0              P       -1  \n",
       "148831            1        2011         G      1.0              P       -1  \n",
       "149342            4        2011         G      2.0              P       -1  \n",
       "153514            4        2011         G      1.0              P       -1  \n",
       "163204            5        2012         G      1.0              P       -1  \n",
       "164581            1        2012         G      1.0              P       -1  \n",
       "165035            1        2012         G      1.0              P       -1  \n",
       "165278            1        2012         G      1.0              P       -1  \n",
       "172309            1        2012         G      1.0              P       -1  \n",
       "172991            1        2012         G      1.0              P       -1  \n",
       "177244            3        2012         G      2.0              P       -1  \n",
       "202384            4        2013         G      1.0              P       -1  \n",
       "203751            1        2013         G      1.0              P       -1  \n",
       "204072            4        2013         X      1.0              P       -1  \n",
       "204311            1        2013         G      1.0              P       -1  \n",
       "204521            1        2013         G      1.0              P       -1  \n",
       "205173            1        2013         G      1.0              P       -1  \n",
       "206155            1        2013         G      1.0              P       -1  \n",
       "206911            4        2013         G      1.0              P       -1  \n",
       "208450            1        2013         G      1.0              P       -1  \n",
       "209050            4        2013         G      1.0              P       -1  \n",
       "219287            1        2014         G      1.0              P       -1  \n",
       "222032            4        2014         G      1.0              P       -1  \n",
       "225013            4        2014         G      1.0              P       -1  \n",
       "225120            1        2014         G      1.0              P       -1  \n",
       "227822            1        2014         G      1.0              P       -1  \n",
       "228328            4        2014         G      1.0              P       -1  \n",
       "229904            4        2014         G      1.0              P       -1  \n",
       "231129            4        2014         G      2.0              P       -1  \n",
       "231424            1        2014         G      1.0              P       -1  \n",
       "232121            1        2014         G      1.0              P       -1  \n",
       "233709            1        2015         G      1.0              P       -1  "
      ]
     },
     "execution_count": 19,
     "metadata": {
      "tags": []
     },
     "output_type": "execute_result"
    }
   ],
   "source": [
    "# rows with negative CAR_AGE\n",
    "car_age_mask = df_subset[\"CAR_AGE\"] == -1\n",
    "df_subset[car_age_mask]"
   ]
  },
  {
   "cell_type": "code",
   "execution_count": 20,
   "metadata": {
    "colab": {},
    "colab_type": "code",
    "id": "cJJ37cHjD7ov"
   },
   "outputs": [],
   "source": [
    "# add 1 to CAR_AGE \n",
    "df_subset[\"CAR_AGE\"] += 1"
   ]
  },
  {
   "cell_type": "code",
   "execution_count": 21,
   "metadata": {
    "colab": {
     "base_uri": "https://localhost:8080/",
     "height": 434
    },
    "colab_type": "code",
    "id": "5oy4_FRuEb6y",
    "outputId": "f73bc209-6d02-4bcb-f0a5-1cb97d35c6d1"
   },
   "outputs": [
    {
     "data": {
      "text/plain": [
       "<matplotlib.axes._subplots.AxesSubplot at 0x7fec1a8be240>"
      ]
     },
     "execution_count": 21,
     "metadata": {
      "tags": []
     },
     "output_type": "execute_result"
    },
    {
     "data": {
      "image/png": "[encoded data removed]",
      "text/plain": [
       "<Figure size 1440x576 with 1 Axes>"
      ]
     },
     "metadata": {
      "needs_background": "light",
      "tags": []
     },
     "output_type": "display_data"
    }
   ],
   "source": [
    "fig, ax = plt.subplots(figsize=[20,8])\n",
    "sns.countplot(df_subset[\"CAR_AGE\"])"
   ]
  },
  {
   "cell_type": "markdown",
   "metadata": {
    "colab_type": "text",
    "id": "wo8zpDjTA_S_"
   },
   "source": [
    "##ODOMETER"
   ]
  },
  {
   "cell_type": "code",
   "execution_count": 22,
   "metadata": {
    "colab": {},
    "colab_type": "code",
    "id": "kq_STzL-8fLt"
   },
   "outputs": [],
   "source": [
    "#fig, ax = plt.subplots(figsize=[16,8])\n",
    "#sns.distplot(df_subset[\"ODOMETER\"])"
   ]
  },
  {
   "cell_type": "code",
   "execution_count": 23,
   "metadata": {
    "colab": {
     "base_uri": "https://localhost:8080/",
     "height": 528
    },
    "colab_type": "code",
    "id": "xbyd3n1J0-go",
    "outputId": "34a9fa7a-1f9a-47fb-88a0-7eb5e0cbff2f"
   },
   "outputs": [
    {
     "data": {
      "text/plain": [
       "<matplotlib.axes._subplots.AxesSubplot at 0x7fec1a86e4e0>"
      ]
     },
     "execution_count": 23,
     "metadata": {
      "tags": []
     },
     "output_type": "execute_result"
    },
    {
     "data": {
      "image/png": "[encoded data removed]",
      "text/plain": [
       "<Figure size 1152x576 with 1 Axes>"
      ]
     },
     "metadata": {
      "needs_background": "light",
      "tags": []
     },
     "output_type": "display_data"
    }
   ],
   "source": [
    "fig, ax = plt.subplots(figsize=[16,8])\n",
    "sns.scatterplot(data=df_subset, x='CAR_AGE', y='ODOMETER', hue='OVERALL_RESULT', s=100, alpha=.1)"
   ]
  },
  {
   "cell_type": "markdown",
   "metadata": {
    "colab_type": "text",
    "id": "Q0L_xgqH8ppO"
   },
   "source": [
    "#### Odometer Investigation"
   ]
  },
  {
   "cell_type": "markdown",
   "metadata": {
    "colab_type": "text",
    "id": "DHhNVhbW132D"
   },
   "source": [
    "There seem to be some values for odometer that are used frequently, let's investigate"
   ]
  },
  {
   "cell_type": "code",
   "execution_count": 24,
   "metadata": {
    "colab": {
     "base_uri": "https://localhost:8080/",
     "height": 444
    },
    "colab_type": "code",
    "id": "3YMPCCzNwk0_",
    "outputId": "1158f0fc-e520-4d2f-bd59-65658c750e96"
   },
   "outputs": [
    {
     "data": {
      "text/plain": [
       "<matplotlib.axes._subplots.AxesSubplot at 0x7fec1a76ef60>"
      ]
     },
     "execution_count": 24,
     "metadata": {
      "tags": []
     },
     "output_type": "execute_result"
    },
    {
     "data": {
      "image/png": "[encoded data removed]",
      "text/plain": [
       "<Figure size 1008x432 with 1 Axes>"
      ]
     },
     "metadata": {
      "needs_background": "light",
      "tags": []
     },
     "output_type": "display_data"
    }
   ],
   "source": [
    "fig, ax = plt.subplots(figsize=(14,6))\n",
    "df_subset.groupby('ODOMETER').size().sort_values(ascending=False).head(60).plot.bar()"
   ]
  },
  {
   "cell_type": "markdown",
   "metadata": {
    "colab_type": "text",
    "id": "aNka3RFV2EAT"
   },
   "source": [
    "Are the frequently used odometer values generated by the same station/ the same mechanic?"
   ]
  },
  {
   "cell_type": "code",
   "execution_count": 25,
   "metadata": {
    "colab": {},
    "colab_type": "code",
    "id": "fQlDY_DY0B9q"
   },
   "outputs": [],
   "source": [
    "df['MECHANIC_LAST_NAME'] = df.MECHANIC_LAST_NAME.str.title()\n",
    "df['MECHANIC_FIRST_NAME'] = df.MECHANIC_FIRST_NAME.str.title()"
   ]
  },
  {
   "cell_type": "code",
   "execution_count": 26,
   "metadata": {
    "colab": {
     "base_uri": "https://localhost:8080/",
     "height": 452
    },
    "colab_type": "code",
    "id": "Xc8Ae5t4yFCd",
    "outputId": "d26d20f9-4da2-4d98-8b54-f5d5c1642ed5"
   },
   "outputs": [
    {
     "data": {
      "text/plain": [
       "<matplotlib.axes._subplots.AxesSubplot at 0x7fec1ddb7ef0>"
      ]
     },
     "execution_count": 26,
     "metadata": {
      "tags": []
     },
     "output_type": "execute_result"
    },
    {
     "data": {
      "image/png": "[encoded data removed]",
      "text/plain": [
       "<Figure size 1152x432 with 2 Axes>"
      ]
     },
     "metadata": {
      "needs_background": "light",
      "tags": []
     },
     "output_type": "display_data"
    }
   ],
   "source": [
    "fig, axs = plt.subplots(1, 2, figsize=(16, 6))\n",
    "df[df.ODOMETER == 8888888].groupby('MECHANIC_LAST_NAME').size().plot.bar(ax=axs[0])\n",
    "df[df.ODOMETER == 8888888].groupby('STATION_NUM').size().plot.bar(ax=axs[1])"
   ]
  },
  {
   "cell_type": "code",
   "execution_count": 27,
   "metadata": {
    "colab": {
     "base_uri": "https://localhost:8080/",
     "height": 441
    },
    "colab_type": "code",
    "id": "hO20-ClTzzHh",
    "outputId": "14420df0-3973-440e-f9ef-2def4d75713c"
   },
   "outputs": [
    {
     "data": {
      "text/plain": [
       "<matplotlib.axes._subplots.AxesSubplot at 0x7fec173534a8>"
      ]
     },
     "execution_count": 27,
     "metadata": {
      "tags": []
     },
     "output_type": "execute_result"
    },
    {
     "data": {
      "image/png": "[encoded data removed]",
      "text/plain": [
       "<Figure size 1152x432 with 2 Axes>"
      ]
     },
     "metadata": {
      "needs_background": "light",
      "tags": []
     },
     "output_type": "display_data"
    }
   ],
   "source": [
    "fig, axs = plt.subplots(1, 2, figsize=(16, 6))\n",
    "df[df.ODOMETER == 88888].groupby('MECHANIC_LAST_NAME').size().plot.bar(ax=axs[0])\n",
    "df[df.ODOMETER == 88888].groupby('STATION_NUM').size().plot.bar(ax=axs[1])"
   ]
  },
  {
   "cell_type": "code",
   "execution_count": 28,
   "metadata": {
    "colab": {
     "base_uri": "https://localhost:8080/",
     "height": 454
    },
    "colab_type": "code",
    "id": "OCUgpifE1LsV",
    "outputId": "799a7beb-e4a6-483c-be92-aa86067d26ff"
   },
   "outputs": [
    {
     "data": {
      "text/plain": [
       "<matplotlib.axes._subplots.AxesSubplot at 0x7fec172564e0>"
      ]
     },
     "execution_count": 28,
     "metadata": {
      "tags": []
     },
     "output_type": "execute_result"
    },
    {
     "data": {
      "image/png": "[encoded data removed]",
      "text/plain": [
       "<Figure size 1152x432 with 2 Axes>"
      ]
     },
     "metadata": {
      "needs_background": "light",
      "tags": []
     },
     "output_type": "display_data"
    }
   ],
   "source": [
    "fig, axs = plt.subplots(1, 2, figsize=(16, 6))\n",
    "df[df.ODOMETER == 100000].groupby('MECHANIC_LAST_NAME').size().plot.bar(ax=axs[0])\n",
    "df[df.ODOMETER == 100000].groupby('STATION_NUM').size().plot.bar(ax=axs[1])"
   ]
  },
  {
   "cell_type": "code",
   "execution_count": 29,
   "metadata": {
    "colab": {
     "base_uri": "https://localhost:8080/",
     "height": 295
    },
    "colab_type": "code",
    "id": "VsbULJng7Kwd",
    "outputId": "a43d9ae6-1b49-4d55-9508-a6c6ee564e62"
   },
   "outputs": [
    {
     "data": {
      "text/plain": [
       "<matplotlib.axes._subplots.AxesSubplot at 0x7fec21186080>"
      ]
     },
     "execution_count": 29,
     "metadata": {
      "tags": []
     },
     "output_type": "execute_result"
    },
    {
     "data": {
      "image/png": "[encoded data removed]",
      "text/plain": [
       "<Figure size 432x288 with 1 Axes>"
      ]
     },
     "metadata": {
      "needs_background": "light",
      "tags": []
     },
     "output_type": "display_data"
    }
   ],
   "source": [
    "df_subset[df_subset.ODOMETER >= 400000].groupby('OVERALL_RESULT').size().plot.bar()"
   ]
  },
  {
   "cell_type": "markdown",
   "metadata": {
    "colab_type": "text",
    "id": "2wNoBoXBaz9v"
   },
   "source": [
    "#### Odometer values by vehicle type and vehicle weight type\n",
    "\n",
    "Please note: I do not know why when I limit the range of the dataset, for example for odometer values of only 400,000 and above, that the seaborn distplots still include the full odometer range. As you can see, the plots are indeed different when limiting the odometer values, but the values on the x-axis don't make sense. "
   ]
  },
  {
   "cell_type": "code",
   "execution_count": 30,
   "metadata": {
    "colab": {
     "base_uri": "https://localhost:8080/",
     "height": 296
    },
    "colab_type": "code",
    "id": "fD31uMzudAQE",
    "outputId": "5295b562-e038-4e3d-f0da-30156c91e1b4"
   },
   "outputs": [
    {
     "data": {
      "text/plain": [
       "<matplotlib.axes._subplots.AxesSubplot at 0x7fec170e4be0>"
      ]
     },
     "execution_count": 30,
     "metadata": {
      "tags": []
     },
     "output_type": "execute_result"
    },
    {
     "data": {
      "image/png": "[encoded data removed]",
      "text/plain": [
       "<Figure size 432x288 with 1 Axes>"
      ]
     },
     "metadata": {
      "needs_background": "light",
      "tags": []
     },
     "output_type": "display_data"
    }
   ],
   "source": [
    "# freq. of vehicle types\n",
    "df_subset.groupby('VEHICLE_TYPE').size().plot.bar()"
   ]
  },
  {
   "cell_type": "code",
   "execution_count": 31,
   "metadata": {
    "colab": {
     "base_uri": "https://localhost:8080/",
     "height": 290
    },
    "colab_type": "code",
    "id": "20ERdMnzeGdM",
    "outputId": "40594456-7e67-4c1d-9668-fd8b8015e288"
   },
   "outputs": [
    {
     "data": {
      "image/png": "[encoded data removed]",
      "text/plain": [
       "<Figure size 432x288 with 1 Axes>"
      ]
     },
     "metadata": {
      "needs_background": "light",
      "tags": []
     },
     "output_type": "display_data"
    }
   ],
   "source": [
    "for x in sorted(df_subset['VEHICLE_TYPE'].unique()):\n",
    "  cat=df_subset[df_subset['VEHICLE_TYPE']==x]\n",
    "  sns.distplot(cat['ODOMETER'], hist=False, kde=True, label=x)\n",
    "plt.legend(title='Vehicle Type')\n",
    "plt.show()"
   ]
  },
  {
   "cell_type": "markdown",
   "metadata": {
    "colab_type": "text",
    "id": "fAqkfmhpg9gM"
   },
   "source": [
    "Check out distributions for \"reasonable\" vs \"unreasonable\" odometer values./\n"
   ]
  },
  {
   "cell_type": "code",
   "execution_count": 32,
   "metadata": {
    "colab": {
     "base_uri": "https://localhost:8080/",
     "height": 290
    },
    "colab_type": "code",
    "id": "vk8PYfpUg4Co",
    "outputId": "d99886a2-7a38-456c-f5ee-8dc98d8996d9"
   },
   "outputs": [
    {
     "data": {
      "image/png": "[encoded data removed]",
      "text/plain": [
       "<Figure size 432x288 with 1 Axes>"
      ]
     },
     "metadata": {
      "needs_background": "light",
      "tags": []
     },
     "output_type": "display_data"
    }
   ],
   "source": [
    "for x in sorted(df_subset['VEHICLE_TYPE'].unique()):\n",
    "  cat_mask=(df_subset['VEHICLE_TYPE']==x) & (df_subset['ODOMETER']<250000)\n",
    "  cat=df_subset[cat_mask]\n",
    "  sns.distplot(cat['ODOMETER'], hist=False, kde=True, label=x)\n",
    "plt.legend(title='Vehicle Type')\n",
    "plt.show()"
   ]
  },
  {
   "cell_type": "markdown",
   "metadata": {
    "colab_type": "text",
    "id": "uf0hnaCUlsz1"
   },
   "source": [
    "Vehicle types with 250,000 miles or fewer (reasonable) have simliar distributions."
   ]
  },
  {
   "cell_type": "code",
   "execution_count": 33,
   "metadata": {
    "colab": {
     "base_uri": "https://localhost:8080/",
     "height": 290
    },
    "colab_type": "code",
    "id": "sMWOxqYbvWo9",
    "outputId": "6d4335be-a6ad-4fe7-fa69-a3e3db1e4f25"
   },
   "outputs": [
    {
     "data": {
      "image/png": "[encoded data removed]",
      "text/plain": [
       "<Figure size 432x288 with 1 Axes>"
      ]
     },
     "metadata": {
      "needs_background": "light",
      "tags": []
     },
     "output_type": "display_data"
    }
   ],
   "source": [
    "fig, ax = plt.subplots()\n",
    "for x in sorted(df_subset['VEHICLE_TYPE'].unique()):\n",
    "  cat_mask=(df_subset['VEHICLE_TYPE']==x) & (df_subset['ODOMETER']>400000)\n",
    "  cat=df_subset[cat_mask]\n",
    "  sns.distplot(cat['ODOMETER'], hist=False, kde=True, label=x, ax=ax)\n",
    "#ax.set(xlim=(400000,1200000))\n",
    "plt.legend(title='Vehicle Type')\n",
    "plt.show()"
   ]
  },
  {
   "cell_type": "code",
   "execution_count": 34,
   "metadata": {
    "colab": {
     "base_uri": "https://localhost:8080/",
     "height": 296
    },
    "colab_type": "code",
    "id": "vaMBs-24wS5c",
    "outputId": "ec90ec4c-e263-4c7c-efb0-0576527d3ee9"
   },
   "outputs": [
    {
     "data": {
      "text/plain": [
       "<matplotlib.axes._subplots.AxesSubplot at 0x7fec18e8f668>"
      ]
     },
     "execution_count": 34,
     "metadata": {
      "tags": []
     },
     "output_type": "execute_result"
    },
    {
     "data": {
      "image/png": "[encoded data removed]",
      "text/plain": [
       "<Figure size 432x288 with 1 Axes>"
      ]
     },
     "metadata": {
      "needs_background": "light",
      "tags": []
     },
     "output_type": "display_data"
    }
   ],
   "source": [
    "df_subset[df_subset[\"ODOMETER\"]>400000].groupby(\"VEHICLE_TYPE\").size().plot.bar()"
   ]
  },
  {
   "cell_type": "markdown",
   "metadata": {
    "colab_type": "text",
    "id": "iC_1JmLmwW9j"
   },
   "source": [
    "Look at very extreme values > 800000"
   ]
  },
  {
   "cell_type": "code",
   "execution_count": 35,
   "metadata": {
    "colab": {
     "base_uri": "https://localhost:8080/",
     "height": 387
    },
    "colab_type": "code",
    "id": "AYFaZ5f5g3rv",
    "outputId": "99ff2c0b-3923-4972-b8d7-29cfe14c23de"
   },
   "outputs": [
    {
     "name": "stderr",
     "output_type": "stream",
     "text": [
      "/usr/local/lib/python3.6/dist-packages/seaborn/distributions.py:198: RuntimeWarning: Mean of empty slice.\n",
      "  line, = ax.plot(a.mean(), 0)\n",
      "/usr/local/lib/python3.6/dist-packages/numpy/core/_methods.py:161: RuntimeWarning: invalid value encountered in double_scalars\n",
      "  ret = ret.dtype.type(ret / rcount)\n"
     ]
    },
    {
     "data": {
      "image/png": "[encoded data removed]",
      "text/plain": [
       "<Figure size 432x288 with 1 Axes>"
      ]
     },
     "metadata": {
      "needs_background": "light",
      "tags": []
     },
     "output_type": "display_data"
    }
   ],
   "source": [
    "for x in sorted(df_subset['VEHICLE_TYPE'].unique()):\n",
    "  cat_mask=(df_subset['VEHICLE_TYPE']==x) & (df_subset['ODOMETER']>800000)\n",
    "  cat=df_subset[cat_mask]\n",
    "  sns.distplot(cat['ODOMETER'], hist=False, kde=True, label=x)\n",
    "plt.legend(title='Vehicle Type')\n",
    "plt.show()"
   ]
  },
  {
   "cell_type": "code",
   "execution_count": 36,
   "metadata": {
    "colab": {
     "base_uri": "https://localhost:8080/",
     "height": 296
    },
    "colab_type": "code",
    "id": "28DqJ3TOwicv",
    "outputId": "1695c145-2a91-44e1-f480-259927710afe"
   },
   "outputs": [
    {
     "data": {
      "text/plain": [
       "<matplotlib.axes._subplots.AxesSubplot at 0x7fec170f99b0>"
      ]
     },
     "execution_count": 36,
     "metadata": {
      "tags": []
     },
     "output_type": "execute_result"
    },
    {
     "data": {
      "image/png": "[encoded data removed]",
      "text/plain": [
       "<Figure size 432x288 with 1 Axes>"
      ]
     },
     "metadata": {
      "needs_background": "light",
      "tags": []
     },
     "output_type": "display_data"
    }
   ],
   "source": [
    "df_subset[df_subset[\"ODOMETER\"]>800000].groupby(\"VEHICLE_TYPE\").size().plot.bar()"
   ]
  },
  {
   "cell_type": "markdown",
   "metadata": {
    "colab_type": "text",
    "id": "dgAvZJdsl4Ni"
   },
   "source": [
    "Vehicles with unlikely odometer vales: these are most frequently occuring with vehicle type 1. It could be that this vehicle type simply gets more mileage than others. OR that imputing odometer values can be done with a combination of car age and vehicle type. "
   ]
  },
  {
   "cell_type": "markdown",
   "metadata": {
    "colab_type": "text",
    "id": "EJWzGQyMfX8M"
   },
   "source": [
    "Vehicle Weight Type"
   ]
  },
  {
   "cell_type": "code",
   "execution_count": 37,
   "metadata": {
    "colab": {
     "base_uri": "https://localhost:8080/",
     "height": 305
    },
    "colab_type": "code",
    "id": "zazA342vazYJ",
    "outputId": "97368cf8-d08f-40d1-f8c3-2e2412561b08"
   },
   "outputs": [
    {
     "data": {
      "text/plain": [
       "<matplotlib.axes._subplots.AxesSubplot at 0x7fec170703c8>"
      ]
     },
     "execution_count": 37,
     "metadata": {
      "tags": []
     },
     "output_type": "execute_result"
    },
    {
     "data": {
      "image/png": "[encoded data removed]",
      "text/plain": [
       "<Figure size 432x288 with 1 Axes>"
      ]
     },
     "metadata": {
      "needs_background": "light",
      "tags": []
     },
     "output_type": "display_data"
    }
   ],
   "source": [
    "df_subset.groupby(\"GVW_TYPE\").size().plot.bar()"
   ]
  },
  {
   "cell_type": "code",
   "execution_count": 38,
   "metadata": {
    "colab": {
     "base_uri": "https://localhost:8080/",
     "height": 290
    },
    "colab_type": "code",
    "id": "2EfYJ-5Db5Tl",
    "outputId": "21ddb6be-cc16-4dee-a7a3-ffce83746371"
   },
   "outputs": [
    {
     "data": {
      "image/png": "[encoded data removed]",
      "text/plain": [
       "<Figure size 432x288 with 1 Axes>"
      ]
     },
     "metadata": {
      "needs_background": "light",
      "tags": []
     },
     "output_type": "display_data"
    }
   ],
   "source": [
    "for x in sorted(df_subset['GVW_TYPE'].unique()):\n",
    "  cat_mask=(df_subset['GVW_TYPE']==x)\n",
    "  cat=df_subset[cat_mask]\n",
    "  sns.distplot(cat['ODOMETER'], hist=False, kde=True, label=x)\n",
    "plt.legend(title='Vehicle Weight Type')\n",
    "plt.show()"
   ]
  },
  {
   "cell_type": "code",
   "execution_count": 39,
   "metadata": {
    "colab": {
     "base_uri": "https://localhost:8080/",
     "height": 290
    },
    "colab_type": "code",
    "id": "_QI2duCbsJRY",
    "outputId": "a2d91596-b34a-47f6-93b4-63899e8961e1"
   },
   "outputs": [
    {
     "data": {
      "image/png": "[encoded data removed]",
      "text/plain": [
       "<Figure size 432x288 with 1 Axes>"
      ]
     },
     "metadata": {
      "needs_background": "light",
      "tags": []
     },
     "output_type": "display_data"
    }
   ],
   "source": [
    "# up to 250,000\n",
    "for x in sorted(df_subset['GVW_TYPE'].unique()):\n",
    "  cat_mask=(df_subset['GVW_TYPE']==x) & (df_subset['ODOMETER']<250000)\n",
    "  cat=df_subset[cat_mask]\n",
    "  sns.distplot(cat['ODOMETER'], hist=False, kde=True, label=x)\n",
    "plt.legend(title='Vehicle Weight Type')\n",
    "plt.show()"
   ]
  },
  {
   "cell_type": "code",
   "execution_count": 40,
   "metadata": {
    "colab": {
     "base_uri": "https://localhost:8080/",
     "height": 305
    },
    "colab_type": "code",
    "id": "Vnv6WD18s0hj",
    "outputId": "d37b73ab-21a1-4d81-8ed6-59b1b9724999"
   },
   "outputs": [
    {
     "data": {
      "text/plain": [
       "<matplotlib.axes._subplots.AxesSubplot at 0x7fec16cc20b8>"
      ]
     },
     "execution_count": 40,
     "metadata": {
      "tags": []
     },
     "output_type": "execute_result"
    },
    {
     "data": {
      "image/png": "[encoded data removed]",
      "text/plain": [
       "<Figure size 432x288 with 1 Axes>"
      ]
     },
     "metadata": {
      "needs_background": "light",
      "tags": []
     },
     "output_type": "display_data"
    }
   ],
   "source": [
    "df_subset[df_subset[\"ODOMETER\"]<250000].groupby(\"GVW_TYPE\").size().plot.bar()"
   ]
  },
  {
   "cell_type": "code",
   "execution_count": 41,
   "metadata": {
    "colab": {
     "base_uri": "https://localhost:8080/",
     "height": 290
    },
    "colab_type": "code",
    "id": "8b9i6s5KsUvZ",
    "outputId": "e2c66f35-0e6a-499a-f554-139673e3781e"
   },
   "outputs": [
    {
     "data": {
      "image/png": "[encoded data removed]",
      "text/plain": [
       "<Figure size 432x288 with 1 Axes>"
      ]
     },
     "metadata": {
      "needs_background": "light",
      "tags": []
     },
     "output_type": "display_data"
    }
   ],
   "source": [
    "# more than 400000\n",
    "for x in sorted(df_subset['GVW_TYPE'].unique()):\n",
    "  cat_mask=(df_subset['GVW_TYPE']==x) & (df_subset['ODOMETER']>400000)\n",
    "  cat=df_subset[cat_mask]\n",
    "  sns.distplot(cat['ODOMETER'], hist=False, kde=True, label=x)\n",
    "plt.legend(title='Vehicle Weight Type')\n",
    "plt.show()"
   ]
  },
  {
   "cell_type": "code",
   "execution_count": 42,
   "metadata": {
    "colab": {
     "base_uri": "https://localhost:8080/",
     "height": 305
    },
    "colab_type": "code",
    "id": "r8XBQjpEsuLw",
    "outputId": "e61cb5c1-ee03-4fca-a43d-e720e5bfeef1"
   },
   "outputs": [
    {
     "data": {
      "text/plain": [
       "<matplotlib.axes._subplots.AxesSubplot at 0x7fec16bd67b8>"
      ]
     },
     "execution_count": 42,
     "metadata": {
      "tags": []
     },
     "output_type": "execute_result"
    },
    {
     "data": {
      "image/png": "[encoded data removed]",
      "text/plain": [
       "<Figure size 432x288 with 1 Axes>"
      ]
     },
     "metadata": {
      "needs_background": "light",
      "tags": []
     },
     "output_type": "display_data"
    }
   ],
   "source": [
    "df_subset[df_subset[\"ODOMETER\"]>400000].groupby(\"GVW_TYPE\").size().plot.bar()"
   ]
  },
  {
   "cell_type": "code",
   "execution_count": 43,
   "metadata": {
    "colab": {
     "base_uri": "https://localhost:8080/",
     "height": 290
    },
    "colab_type": "code",
    "id": "6VcE61ipwwfi",
    "outputId": "06fb0f0e-5b10-42da-fd8d-816cf7723a5e"
   },
   "outputs": [
    {
     "data": {
      "image/png": "[encoded data removed]",
      "text/plain": [
       "<Figure size 432x288 with 1 Axes>"
      ]
     },
     "metadata": {
      "needs_background": "light",
      "tags": []
     },
     "output_type": "display_data"
    }
   ],
   "source": [
    "# more than 800000, e.g. impossible\n",
    "for x in sorted(df_subset['GVW_TYPE'].unique()):\n",
    "  cat_mask=(df_subset['GVW_TYPE']==x) & (df_subset['ODOMETER']>800000)\n",
    "  cat=df_subset[cat_mask]\n",
    "  sns.distplot(cat['ODOMETER'], hist=False, kde=True, label=x)\n",
    "plt.legend(title='Vehicle Weight Type')\n",
    "plt.show()"
   ]
  },
  {
   "cell_type": "code",
   "execution_count": 44,
   "metadata": {
    "colab": {
     "base_uri": "https://localhost:8080/",
     "height": 290
    },
    "colab_type": "code",
    "id": "B9DBxg8FwwKl",
    "outputId": "89fe7d03-10d6-44e3-a12b-aa5fcc003e95"
   },
   "outputs": [
    {
     "data": {
      "image/png": "[encoded data removed]",
      "text/plain": [
       "<Figure size 432x288 with 1 Axes>"
      ]
     },
     "metadata": {
      "needs_background": "light",
      "tags": []
     },
     "output_type": "display_data"
    }
   ],
   "source": [
    "#just for fun do the histogram & kde\n",
    "for x in sorted(df_subset['GVW_TYPE'].unique()):\n",
    "  cat_mask=(df_subset['GVW_TYPE']==x) & (df_subset['ODOMETER']>800000)\n",
    "  cat=df_subset[cat_mask]\n",
    "  sns.distplot(cat['ODOMETER'], label=x)\n",
    "plt.legend(title='Vehicle Weight Type')\n",
    "plt.show()"
   ]
  },
  {
   "cell_type": "code",
   "execution_count": 45,
   "metadata": {
    "colab": {
     "base_uri": "https://localhost:8080/",
     "height": 36
    },
    "colab_type": "code",
    "id": "pyNYEcdyb46-",
    "outputId": "0b0202ec-0963-4d50-a939-0f27a9846574"
   },
   "outputs": [
    {
     "name": "stdout",
     "output_type": "stream",
     "text": [
      "Percentage of vehicles with extreme odometer values (more than 400,000): 0.2563189747241011\n"
     ]
    }
   ],
   "source": [
    "print(f'Percentage of vehicles with extreme odometer values (more than 400,000): {(len(df_subset[df_subset[\"ODOMETER\"]>400000])/len(df_subset))*100}')"
   ]
  },
  {
   "cell_type": "code",
   "execution_count": 46,
   "metadata": {
    "colab": {
     "base_uri": "https://localhost:8080/",
     "height": 75
    },
    "colab_type": "code",
    "id": "X1E7g8Cb3oyc",
    "outputId": "653d89fe-a423-49e2-acff-01ef728bce61"
   },
   "outputs": [
    {
     "data": {
      "text/plain": [
       "P    190323\n",
       "F     20352\n",
       "Name: OVERALL_RESULT, dtype: int64"
      ]
     },
     "execution_count": 46,
     "metadata": {
      "tags": []
     },
     "output_type": "execute_result"
    }
   ],
   "source": [
    "df_subset['OVERALL_RESULT'].value_counts()"
   ]
  },
  {
   "cell_type": "code",
   "execution_count": 47,
   "metadata": {
    "colab": {
     "base_uri": "https://localhost:8080/",
     "height": 75
    },
    "colab_type": "code",
    "id": "jk_OJw58aypS",
    "outputId": "8ac18fc7-99de-4223-be63-dfdabedeb36b"
   },
   "outputs": [
    {
     "data": {
      "text/plain": [
       "P    445\n",
       "F     95\n",
       "Name: OVERALL_RESULT, dtype: int64"
      ]
     },
     "execution_count": 47,
     "metadata": {
      "tags": []
     },
     "output_type": "execute_result"
    }
   ],
   "source": [
    "df_subset.loc[df_subset['ODOMETER']>400000, 'OVERALL_RESULT'].value_counts()"
   ]
  },
  {
   "cell_type": "markdown",
   "metadata": {
    "colab_type": "text",
    "id": "aXoKn56X7S34"
   },
   "source": [
    "Percentage of cars with 400,000 miles by pass and fail."
   ]
  },
  {
   "cell_type": "code",
   "execution_count": 48,
   "metadata": {
    "colab": {
     "base_uri": "https://localhost:8080/",
     "height": 94
    },
    "colab_type": "code",
    "id": "T_o0agIx5SQJ",
    "outputId": "a0512d38-5d4c-4a18-c272-ac1234997902"
   },
   "outputs": [
    {
     "data": {
      "text/plain": [
       "OVERALL_RESULT\n",
       "F    0.466785\n",
       "P    0.233813\n",
       "Name: ODOMETER, dtype: float64"
      ]
     },
     "execution_count": 48,
     "metadata": {
      "tags": []
     },
     "output_type": "execute_result"
    }
   ],
   "source": [
    "100* df_subset[df_subset['ODOMETER']>400000].groupby('OVERALL_RESULT')['ODOMETER'].count() / df_subset.groupby('OVERALL_RESULT')['ODOMETER'].count()"
   ]
  },
  {
   "cell_type": "markdown",
   "metadata": {
    "colab_type": "text",
    "id": "3FwHxSb77reF"
   },
   "source": [
    "Removing cars with 400,000+ on their odometers reduces the dataset by a very small percentage. It would remove .46% of cars who fail, compared to .23% of cars who pass, making the dataset slightly more imbalanced (more so than it already is). It is actually double the percentage. However, both of these percentages are quite small, and since values of 400,000 are extremely unlikely, it is worth it to remove them. "
   ]
  },
  {
   "cell_type": "markdown",
   "metadata": {
    "colab_type": "text",
    "id": "v6os7XZq8vpD"
   },
   "source": [
    "#### Remove rows with strange odometer values"
   ]
  },
  {
   "cell_type": "code",
   "execution_count": 49,
   "metadata": {
    "colab": {},
    "colab_type": "code",
    "id": "-9xHbw6C8lgb"
   },
   "outputs": [],
   "source": [
    "# extreme odometer values - selecting arbitrary cutoff & excluding suspicious odometer values\n",
    "odometer_mask= (~df_subset[\"ODOMETER\"].isin([0, 88888, 100000, 8888888])) # (df_subset[\"ODOMETER\"] < 400000) & \n",
    "df_subset_trimmed = df_subset[odometer_mask]"
   ]
  },
  {
   "cell_type": "markdown",
   "metadata": {
    "colab_type": "text",
    "id": "bNVaS3OS83-2"
   },
   "source": [
    "#### Compare"
   ]
  },
  {
   "cell_type": "code",
   "execution_count": 50,
   "metadata": {
    "colab": {
     "base_uri": "https://localhost:8080/",
     "height": 388
    },
    "colab_type": "code",
    "id": "rEShDniyFLbo",
    "outputId": "d5e93aca-cfe2-4df2-9d6b-60aad3c4bf73"
   },
   "outputs": [
    {
     "data": {
      "text/plain": [
       "<seaborn.axisgrid.FacetGrid at 0x7fec16f583c8>"
      ]
     },
     "execution_count": 50,
     "metadata": {
      "tags": []
     },
     "output_type": "execute_result"
    },
    {
     "data": {
      "image/png": "[encoded data removed]",
      "text/plain": [
       "<Figure size 360x360 with 1 Axes>"
      ]
     },
     "metadata": {
      "needs_background": "light",
      "tags": []
     },
     "output_type": "display_data"
    }
   ],
   "source": [
    "sns.catplot(x=\"VEHICLE_TYPE\", y=\"ODOMETER\", data=df_subset)"
   ]
  },
  {
   "cell_type": "code",
   "execution_count": 51,
   "metadata": {
    "colab": {
     "base_uri": "https://localhost:8080/",
     "height": 388
    },
    "colab_type": "code",
    "id": "IJodlYATGsAD",
    "outputId": "a1ec8534-6ee6-4aea-ef01-3ed183bd3328"
   },
   "outputs": [
    {
     "data": {
      "text/plain": [
       "<seaborn.axisgrid.FacetGrid at 0x7fec16a40198>"
      ]
     },
     "execution_count": 51,
     "metadata": {
      "tags": []
     },
     "output_type": "execute_result"
    },
    {
     "data": {
      "image/png": "[encoded data removed]",
      "text/plain": [
       "<Figure size 360x360 with 1 Axes>"
      ]
     },
     "metadata": {
      "needs_background": "light",
      "tags": []
     },
     "output_type": "display_data"
    }
   ],
   "source": [
    "sns.catplot(x=\"VEHICLE_TYPE\", y=\"ODOMETER\", data=df_subset_trimmed)"
   ]
  },
  {
   "cell_type": "markdown",
   "metadata": {
    "colab_type": "text",
    "id": "4V-55PJG87KE"
   },
   "source": [
    "#### Compare age and odometer distribution"
   ]
  },
  {
   "cell_type": "code",
   "execution_count": 52,
   "metadata": {
    "colab": {
     "base_uri": "https://localhost:8080/",
     "height": 460
    },
    "colab_type": "code",
    "id": "PYdO3byBH1QQ",
    "outputId": "ce609b33-7427-4b9e-85d8-185dc5584645"
   },
   "outputs": [
    {
     "data": {
      "text/plain": [
       "<seaborn.axisgrid.JointGrid at 0x7fec16af0be0>"
      ]
     },
     "execution_count": 52,
     "metadata": {
      "tags": []
     },
     "output_type": "execute_result"
    },
    {
     "data": {
      "image/png": "[encoded data removed]",
      "text/plain": [
       "<Figure size 432x432 with 3 Axes>"
      ]
     },
     "metadata": {
      "needs_background": "light",
      "tags": []
     },
     "output_type": "display_data"
    }
   ],
   "source": [
    "sns.jointplot(x=\"CAR_AGE\", y=\"ODOMETER\", data=df_subset_trimmed)"
   ]
  },
  {
   "cell_type": "code",
   "execution_count": 53,
   "metadata": {
    "colab": {
     "base_uri": "https://localhost:8080/",
     "height": 309
    },
    "colab_type": "code",
    "id": "K9dtaOq2IY71",
    "outputId": "39bb423d-5c48-4be5-f276-e7cc9a46711b"
   },
   "outputs": [
    {
     "data": {
      "text/plain": [
       "<matplotlib.axes._subplots.AxesSubplot at 0x7fec140f1438>"
      ]
     },
     "execution_count": 53,
     "metadata": {
      "tags": []
     },
     "output_type": "execute_result"
    },
    {
     "data": {
      "image/png": "[encoded data removed]",
      "text/plain": [
       "<Figure size 432x288 with 1 Axes>"
      ]
     },
     "metadata": {
      "needs_background": "light",
      "tags": []
     },
     "output_type": "display_data"
    }
   ],
   "source": [
    "sns.distplot(df_subset_trimmed[\"ODOMETER\"])"
   ]
  },
  {
   "cell_type": "code",
   "execution_count": 54,
   "metadata": {
    "colab": {
     "base_uri": "https://localhost:8080/",
     "height": 299
    },
    "colab_type": "code",
    "id": "Ti92OnX2IlmS",
    "outputId": "68d9acd1-e9e1-4aed-c438-a24215686c5a"
   },
   "outputs": [
    {
     "data": {
      "text/plain": [
       "<matplotlib.axes._subplots.AxesSubplot at 0x7fec16c00eb8>"
      ]
     },
     "execution_count": 54,
     "metadata": {
      "tags": []
     },
     "output_type": "execute_result"
    },
    {
     "data": {
      "image/png": "[encoded data removed]",
      "text/plain": [
       "<Figure size 432x288 with 1 Axes>"
      ]
     },
     "metadata": {
      "needs_background": "light",
      "tags": []
     },
     "output_type": "display_data"
    }
   ],
   "source": [
    "sns.distplot(df_subset_trimmed[\"CAR_AGE\"])"
   ]
  },
  {
   "cell_type": "markdown",
   "metadata": {
    "colab_type": "text",
    "id": "xjPd2JQvEfTK"
   },
   "source": [
    "#### Option 1. Delete rows with odometer values of 400000+ miles\n",
    "`df_subset_trimmed_strict`"
   ]
  },
  {
   "cell_type": "code",
   "execution_count": 55,
   "metadata": {
    "colab": {},
    "colab_type": "code",
    "id": "UTnkpIMMEekw"
   },
   "outputs": [],
   "source": [
    "df_subset_trimmed_strict = df_subset_trimmed[df_subset_trimmed['ODOMETER']<400000]"
   ]
  },
  {
   "cell_type": "markdown",
   "metadata": {
    "colab_type": "text",
    "id": "N7fiD3J9EdMd"
   },
   "source": [
    "#### Option 2. Impute rows with odometer value of 400000+ miles\n",
    "`df_subset_trimmed_imputed`"
   ]
  },
  {
   "cell_type": "code",
   "execution_count": 56,
   "metadata": {
    "colab": {},
    "colab_type": "code",
    "id": "qK6I4Cx1FgYd"
   },
   "outputs": [],
   "source": [
    "# impute values wi"
   ]
  },
  {
   "cell_type": "code",
   "execution_count": 56,
   "metadata": {
    "colab": {},
    "colab_type": "code",
    "id": "_6EFqkE_FgFJ"
   },
   "outputs": [],
   "source": []
  },
  {
   "cell_type": "code",
   "execution_count": 56,
   "metadata": {
    "colab": {},
    "colab_type": "code",
    "id": "kAaFSUTsFfyb"
   },
   "outputs": [],
   "source": []
  },
  {
   "cell_type": "markdown",
   "metadata": {
    "colab_type": "text",
    "id": "DgXpXbplk6eD"
   },
   "source": [
    "## Feature Engineering\n",
    "\n",
    "1. Reducing categories in FUEL_TYPE\n",
    "\n",
    "The majority of the cars is using gasoline (\"G\"). However, we still think FUEL TYPE might be an interesing feature, therefore we reduced FUEL TYPE to three categories: Gasoline = G, Diesel = D, and others = O and named it \"FUEL_REDUCED\". (HB) \n",
    "2. Dummy encoding for the categorical variables: fuel type, vehicle type, and GVW type."
   ]
  },
  {
   "cell_type": "code",
   "execution_count": 57,
   "metadata": {
    "colab": {},
    "colab_type": "code",
    "id": "8Al_51k2ld9m"
   },
   "outputs": [],
   "source": [
    "# replacing FUEL_TYPE values\n",
    "def replace_fuel(row):\n",
    "  if row.FUEL_TYPE == \"B\" or row.FUEL_TYPE == \"L\" or row.FUEL_TYPE == \"N\" or row.FUEL_TYPE == \"X\" :\n",
    "    return \"O\"\n",
    "  else: return row.FUEL_TYPE"
   ]
  },
  {
   "cell_type": "code",
   "execution_count": 58,
   "metadata": {
    "colab": {
     "base_uri": "https://localhost:8080/",
     "height": 152
    },
    "colab_type": "code",
    "id": "ClGcsFH9lk4s",
    "outputId": "3ec23356-5c01-436a-be78-b0533e09efe6"
   },
   "outputs": [
    {
     "name": "stderr",
     "output_type": "stream",
     "text": [
      "/usr/local/lib/python3.6/dist-packages/ipykernel_launcher.py:1: SettingWithCopyWarning: \n",
      "A value is trying to be set on a copy of a slice from a DataFrame.\n",
      "Try using .loc[row_indexer,col_indexer] = value instead\n",
      "\n",
      "See the caveats in the documentation: https://pandas.pydata.org/pandas-docs/stable/user_guide/indexing.html#returning-a-view-versus-a-copy\n",
      "  \"\"\"Entry point for launching an IPython kernel.\n"
     ]
    }
   ],
   "source": [
    "df_subset_trimmed['FUEL_REDUCED'] = df_subset_trimmed.apply(lambda x: replace_fuel(x), axis=1)"
   ]
  },
  {
   "cell_type": "code",
   "execution_count": 59,
   "metadata": {
    "colab": {
     "base_uri": "https://localhost:8080/",
     "height": 299
    },
    "colab_type": "code",
    "id": "jagmZpIClt3_",
    "outputId": "76a48af1-3353-46c1-a4b2-f92169d58a1d"
   },
   "outputs": [
    {
     "data": {
      "text/plain": [
       "<matplotlib.axes._subplots.AxesSubplot at 0x7fec17262ac8>"
      ]
     },
     "execution_count": 59,
     "metadata": {
      "tags": []
     },
     "output_type": "execute_result"
    },
    {
     "data": {
      "image/png": "[encoded data removed]",
      "text/plain": [
       "<Figure size 432x288 with 1 Axes>"
      ]
     },
     "metadata": {
      "needs_background": "light",
      "tags": []
     },
     "output_type": "display_data"
    }
   ],
   "source": [
    "sns.countplot(df_subset_trimmed[\"FUEL_REDUCED\"])"
   ]
  },
  {
   "cell_type": "code",
   "execution_count": 60,
   "metadata": {
    "colab": {
     "base_uri": "https://localhost:8080/",
     "height": 94
    },
    "colab_type": "code",
    "id": "-oeLJV0YlycD",
    "outputId": "74bc1a9d-fc32-4e1b-f1c5-036272b56b21"
   },
   "outputs": [
    {
     "data": {
      "text/plain": [
       "G    209286\n",
       "D       333\n",
       "O       295\n",
       "Name: FUEL_REDUCED, dtype: int64"
      ]
     },
     "execution_count": 60,
     "metadata": {
      "tags": []
     },
     "output_type": "execute_result"
    }
   ],
   "source": [
    "df_subset_trimmed[\"FUEL_REDUCED\"].value_counts()"
   ]
  },
  {
   "cell_type": "code",
   "execution_count": 61,
   "metadata": {
    "colab": {},
    "colab_type": "code",
    "id": "f8_gxSp4J7-R"
   },
   "outputs": [],
   "source": [
    "# one hot encoding\n",
    "df_dummy = pd.get_dummies(df_subset_trimmed[[\"FUEL_REDUCED\", \"VEHICLE_TYPE\", \"GVW_TYPE\"]], prefix=[\"FUEL_REDUCED\",\"VEHICLE_TYPE\",\"GVW_TYPE\"])"
   ]
  },
  {
   "cell_type": "code",
   "execution_count": 62,
   "metadata": {
    "colab": {},
    "colab_type": "code",
    "id": "r8hJ3jCiK-L9"
   },
   "outputs": [],
   "source": [
    "df_encoded = pd.concat([df_subset_trimmed[[\"CAR_AGE\",\"ODOMETER\",\"OVERALL_RESULT\"]],df_dummy], axis=1)"
   ]
  },
  {
   "cell_type": "code",
   "execution_count": 63,
   "metadata": {
    "colab": {},
    "colab_type": "code",
    "id": "-OntTZGkMoGH"
   },
   "outputs": [],
   "source": [
    "# encode the target variable, overall_result\n",
    "df_encoded['OVERALL_RESULT']=df_encoded['OVERALL_RESULT'].replace({'P':1, 'F':0})"
   ]
  },
  {
   "cell_type": "markdown",
   "metadata": {
    "colab_type": "text",
    "id": "0KvjFe2QJj_0"
   },
   "source": [
    "## Modeling\n"
   ]
  },
  {
   "cell_type": "markdown",
   "metadata": {
    "colab_type": "text",
    "id": "xeZ5H1go8IO7"
   },
   "source": [
    "### Prepare Dataset\n",
    " "
   ]
  },
  {
   "cell_type": "code",
   "execution_count": 64,
   "metadata": {
    "colab": {},
    "colab_type": "code",
    "id": "I3Yl_q2M8MVu"
   },
   "outputs": [],
   "source": [
    "from sklearn.model_selection import train_test_split"
   ]
  },
  {
   "cell_type": "code",
   "execution_count": 65,
   "metadata": {
    "colab": {},
    "colab_type": "code",
    "id": "RnF8Q_Ua8PVD"
   },
   "outputs": [],
   "source": [
    "df_features=df_encoded.drop([\"OVERALL_RESULT\"], axis=1)\n",
    "df_target = df_encoded[\"OVERALL_RESULT\"]"
   ]
  },
  {
   "cell_type": "code",
   "execution_count": 66,
   "metadata": {
    "colab": {},
    "colab_type": "code",
    "id": "HqLwahQP8PYE"
   },
   "outputs": [],
   "source": [
    "features_train, features_test, target_train, target_test = train_test_split(df_features, df_target, random_state=42)"
   ]
  },
  {
   "cell_type": "markdown",
   "metadata": {
    "colab_type": "text",
    "id": "4_nRM0FpNtrV"
   },
   "source": [
    "### Logistic Regression"
   ]
  },
  {
   "cell_type": "code",
   "execution_count": 67,
   "metadata": {
    "colab": {},
    "colab_type": "code",
    "id": "20_gBVP7Nf_p"
   },
   "outputs": [],
   "source": [
    "from sklearn.linear_model import LogisticRegression"
   ]
  },
  {
   "cell_type": "code",
   "execution_count": 68,
   "metadata": {
    "colab": {},
    "colab_type": "code",
    "id": "usUJbWwrPuFy"
   },
   "outputs": [],
   "source": [
    "# class_weight = 'balanced' will help correct for the highly imbalanced data (more passes than fails)\n",
    "log_reg_model = LogisticRegression(class_weight='balanced')"
   ]
  },
  {
   "cell_type": "code",
   "execution_count": 69,
   "metadata": {
    "colab": {
     "base_uri": "https://localhost:8080/",
     "height": 113
    },
    "colab_type": "code",
    "id": "UgdaocqKP2e6",
    "outputId": "6c0b3742-1fcc-4bec-fc1b-6de3bcde34c2"
   },
   "outputs": [
    {
     "data": {
      "text/plain": [
       "LogisticRegression(C=1.0, class_weight='balanced', dual=False,\n",
       "                   fit_intercept=True, intercept_scaling=1, l1_ratio=None,\n",
       "                   max_iter=100, multi_class='auto', n_jobs=None, penalty='l2',\n",
       "                   random_state=None, solver='lbfgs', tol=0.0001, verbose=0,\n",
       "                   warm_start=False)"
      ]
     },
     "execution_count": 69,
     "metadata": {
      "tags": []
     },
     "output_type": "execute_result"
    }
   ],
   "source": [
    "log_reg_model.fit(features_train, target_train)"
   ]
  },
  {
   "cell_type": "code",
   "execution_count": 70,
   "metadata": {
    "colab": {},
    "colab_type": "code",
    "id": "CaSPBsPDQanf"
   },
   "outputs": [],
   "source": [
    "prediction = log_reg_model.predict(features_test)"
   ]
  },
  {
   "cell_type": "code",
   "execution_count": 70,
   "metadata": {
    "colab": {},
    "colab_type": "code",
    "id": "NECbyGnlRKuN"
   },
   "outputs": [],
   "source": []
  },
  {
   "cell_type": "code",
   "execution_count": 71,
   "metadata": {
    "colab": {},
    "colab_type": "code",
    "id": "DI_N-2AfQomR"
   },
   "outputs": [],
   "source": [
    "# for imbalanced classes use AUC rather than an accuracy score.\n",
    "from sklearn.metrics import roc_auc_score, confusion_matrix"
   ]
  },
  {
   "cell_type": "code",
   "execution_count": 72,
   "metadata": {
    "colab": {
     "base_uri": "https://localhost:8080/",
     "height": 36
    },
    "colab_type": "code",
    "id": "NPlQZzSNQ1kI",
    "outputId": "4b1e0a9e-f8d0-4b4d-d3aa-2daac32d0cbe"
   },
   "outputs": [
    {
     "data": {
      "text/plain": [
       "0.5"
      ]
     },
     "execution_count": 72,
     "metadata": {
      "tags": []
     },
     "output_type": "execute_result"
    }
   ],
   "source": [
    "roc_auc_score(target_test, prediction)"
   ]
  },
  {
   "cell_type": "markdown",
   "metadata": {
    "colab_type": "text",
    "id": "H1GaKrZuctfe"
   },
   "source": [
    "###Scaling of the features\n",
    "##### All Features With Scaling"
   ]
  },
  {
   "cell_type": "code",
   "execution_count": 73,
   "metadata": {
    "colab": {},
    "colab_type": "code",
    "id": "9O6427aCc70U"
   },
   "outputs": [],
   "source": [
    "# scale features\n",
    "from sklearn.preprocessing import MinMaxScaler"
   ]
  },
  {
   "cell_type": "code",
   "execution_count": 74,
   "metadata": {
    "colab": {},
    "colab_type": "code",
    "id": "c89vwYuZdPOJ"
   },
   "outputs": [],
   "source": [
    "scaler = MinMaxScaler()\n",
    "features_scaled = scaler.fit_transform(df_subset_trimmed[[\"CAR_AGE\",\"ODOMETER\"]])"
   ]
  },
  {
   "cell_type": "code",
   "execution_count": 75,
   "metadata": {
    "colab": {},
    "colab_type": "code",
    "id": "Jmtx8-Bhed4Y"
   },
   "outputs": [],
   "source": [
    "# concatenating scaled and encoded features\n",
    "features_scaled_complete = np.concatenate([features_scaled, df_dummy.values], axis=1)"
   ]
  },
  {
   "cell_type": "code",
   "execution_count": 76,
   "metadata": {
    "colab": {},
    "colab_type": "code",
    "id": "BszgjOrgfgL-"
   },
   "outputs": [],
   "source": [
    "features_train, features_test, target_train, target_test = train_test_split(features_scaled_complete, df_target, random_state=42)"
   ]
  },
  {
   "cell_type": "code",
   "execution_count": 77,
   "metadata": {
    "colab": {
     "base_uri": "https://localhost:8080/",
     "height": 287
    },
    "colab_type": "code",
    "id": "6p8nNJsbfUum",
    "outputId": "108dc2d1-a071-42a3-b6c9-945f532fadcb"
   },
   "outputs": [
    {
     "name": "stderr",
     "output_type": "stream",
     "text": [
      "/usr/local/lib/python3.6/dist-packages/sklearn/linear_model/_logistic.py:940: ConvergenceWarning: lbfgs failed to converge (status=1):\n",
      "STOP: TOTAL NO. of ITERATIONS REACHED LIMIT.\n",
      "\n",
      "Increase the number of iterations (max_iter) or scale the data as shown in:\n",
      "    https://scikit-learn.org/stable/modules/preprocessing.html\n",
      "Please also refer to the documentation for alternative solver options:\n",
      "    https://scikit-learn.org/stable/modules/linear_model.html#logistic-regression\n",
      "  extra_warning_msg=_LOGISTIC_SOLVER_CONVERGENCE_MSG)\n"
     ]
    },
    {
     "data": {
      "text/plain": [
       "LogisticRegression(C=1.0, class_weight='balanced', dual=False,\n",
       "                   fit_intercept=True, intercept_scaling=1, l1_ratio=None,\n",
       "                   max_iter=100, multi_class='auto', n_jobs=None, penalty='l2',\n",
       "                   random_state=None, solver='lbfgs', tol=0.0001, verbose=0,\n",
       "                   warm_start=False)"
      ]
     },
     "execution_count": 77,
     "metadata": {
      "tags": []
     },
     "output_type": "execute_result"
    }
   ],
   "source": [
    "# fit model with scaled and encoded features\n",
    "log_reg_model.fit(features_train, target_train)"
   ]
  },
  {
   "cell_type": "code",
   "execution_count": 78,
   "metadata": {
    "colab": {},
    "colab_type": "code",
    "id": "WrHhF_R4fu59"
   },
   "outputs": [],
   "source": [
    "prediction = log_reg_model.predict(features_test)"
   ]
  },
  {
   "cell_type": "code",
   "execution_count": 79,
   "metadata": {
    "colab": {
     "base_uri": "https://localhost:8080/",
     "height": 36
    },
    "colab_type": "code",
    "id": "0w1ZEZhnfyQb",
    "outputId": "a281a3ec-9770-4532-dd97-4cf7db0d05b6"
   },
   "outputs": [
    {
     "data": {
      "text/plain": [
       "0.662926666370429"
      ]
     },
     "execution_count": 79,
     "metadata": {
      "tags": []
     },
     "output_type": "execute_result"
    }
   ],
   "source": [
    "# scaling the features bumped the score up! \n",
    "roc_auc_score(target_test, prediction)"
   ]
  },
  {
   "cell_type": "code",
   "execution_count": 80,
   "metadata": {
    "colab": {
     "base_uri": "https://localhost:8080/",
     "height": 190
    },
    "colab_type": "code",
    "id": "M8nNme9egMjP",
    "outputId": "4b56e1fd-4ace-4f93-f7ec-9a9780f9b831"
   },
   "outputs": [
    {
     "name": "stdout",
     "output_type": "stream",
     "text": [
      "              precision    recall  f1-score   support\n",
      "\n",
      "           0       0.18      0.65      0.28      5076\n",
      "           1       0.95      0.68      0.79     47403\n",
      "\n",
      "    accuracy                           0.68     52479\n",
      "   macro avg       0.56      0.66      0.54     52479\n",
      "weighted avg       0.87      0.68      0.74     52479\n",
      "\n"
     ]
    }
   ],
   "source": [
    "# let's look at all relevant metrics\n",
    "from sklearn.metrics import classification_report\n",
    "print(classification_report(target_test, prediction))"
   ]
  },
  {
   "cell_type": "markdown",
   "metadata": {
    "colab_type": "text",
    "id": "N-3tJT90SIlN"
   },
   "source": [
    "Test with odometer as the only feature."
   ]
  },
  {
   "cell_type": "code",
   "execution_count": 81,
   "metadata": {
    "colab": {},
    "colab_type": "code",
    "id": "5U65qMUMREsC"
   },
   "outputs": [],
   "source": [
    "odometer = df_features['ODOMETER'].values\n",
    "odometer = odometer.reshape(-1,1)"
   ]
  },
  {
   "cell_type": "code",
   "execution_count": 82,
   "metadata": {
    "colab": {},
    "colab_type": "code",
    "id": "yVaTKlLgSG9b"
   },
   "outputs": [],
   "source": [
    "features_train, features_test, target_train, target_test = train_test_split(odometer, df_target, random_state=42)"
   ]
  },
  {
   "cell_type": "code",
   "execution_count": 83,
   "metadata": {
    "colab": {
     "base_uri": "https://localhost:8080/",
     "height": 113
    },
    "colab_type": "code",
    "id": "cBjzjRuAShNZ",
    "outputId": "ba9802bd-d527-4e69-deef-8c68ab0659d9"
   },
   "outputs": [
    {
     "data": {
      "text/plain": [
       "LogisticRegression(C=1.0, class_weight='balanced', dual=False,\n",
       "                   fit_intercept=True, intercept_scaling=1, l1_ratio=None,\n",
       "                   max_iter=100, multi_class='auto', n_jobs=None, penalty='l2',\n",
       "                   random_state=None, solver='lbfgs', tol=0.0001, verbose=0,\n",
       "                   warm_start=False)"
      ]
     },
     "execution_count": 83,
     "metadata": {
      "tags": []
     },
     "output_type": "execute_result"
    }
   ],
   "source": [
    "log_reg_model.fit(features_train, target_train)"
   ]
  },
  {
   "cell_type": "code",
   "execution_count": 84,
   "metadata": {
    "colab": {},
    "colab_type": "code",
    "id": "aulhZ7-sSmPh"
   },
   "outputs": [],
   "source": [
    "prediction = log_reg_model.predict(features_test)"
   ]
  },
  {
   "cell_type": "code",
   "execution_count": 85,
   "metadata": {
    "colab": {
     "base_uri": "https://localhost:8080/",
     "height": 36
    },
    "colab_type": "code",
    "id": "3rD4lkB1TIq1",
    "outputId": "a3c12ad8-05c0-4b85-c1e3-f504b5bac301"
   },
   "outputs": [
    {
     "data": {
      "text/plain": [
       "0.5"
      ]
     },
     "execution_count": 85,
     "metadata": {
      "tags": []
     },
     "output_type": "execute_result"
    }
   ],
   "source": [
    "roc_auc_score(target_test, prediction)"
   ]
  },
  {
   "cell_type": "code",
   "execution_count": 86,
   "metadata": {
    "colab": {},
    "colab_type": "code",
    "id": "G-pruon0TL_-"
   },
   "outputs": [],
   "source": [
    "# without the \"balanced\" input\n",
    "log_reg_model = LogisticRegression()"
   ]
  },
  {
   "cell_type": "code",
   "execution_count": 87,
   "metadata": {
    "colab": {
     "base_uri": "https://localhost:8080/",
     "height": 113
    },
    "colab_type": "code",
    "id": "IHnm5CxnUV0r",
    "outputId": "0099c824-0087-4e22-bacf-ae06dd2929a9"
   },
   "outputs": [
    {
     "data": {
      "text/plain": [
       "LogisticRegression(C=1.0, class_weight=None, dual=False, fit_intercept=True,\n",
       "                   intercept_scaling=1, l1_ratio=None, max_iter=100,\n",
       "                   multi_class='auto', n_jobs=None, penalty='l2',\n",
       "                   random_state=None, solver='lbfgs', tol=0.0001, verbose=0,\n",
       "                   warm_start=False)"
      ]
     },
     "execution_count": 87,
     "metadata": {
      "tags": []
     },
     "output_type": "execute_result"
    }
   ],
   "source": [
    "log_reg_model.fit(features_train, target_train)"
   ]
  },
  {
   "cell_type": "code",
   "execution_count": 88,
   "metadata": {
    "colab": {},
    "colab_type": "code",
    "id": "j0yyeWvRUV1A"
   },
   "outputs": [],
   "source": [
    "prediction = log_reg_model.predict(features_test)"
   ]
  },
  {
   "cell_type": "code",
   "execution_count": 89,
   "metadata": {
    "colab": {
     "base_uri": "https://localhost:8080/",
     "height": 36
    },
    "colab_type": "code",
    "id": "j9xmz8FWUV1M",
    "outputId": "90fcd67a-8c4a-4089-b2f8-1fe0bf1296e8"
   },
   "outputs": [
    {
     "data": {
      "text/plain": [
       "0.5"
      ]
     },
     "execution_count": 89,
     "metadata": {
      "tags": []
     },
     "output_type": "execute_result"
    }
   ],
   "source": [
    "roc_auc_score(target_test, prediction)"
   ]
  },
  {
   "cell_type": "markdown",
   "metadata": {
    "colab_type": "text",
    "id": "PEvd3wGNUs65"
   },
   "source": [
    "Test with age as the only feature. "
   ]
  },
  {
   "cell_type": "code",
   "execution_count": 90,
   "metadata": {
    "colab": {},
    "colab_type": "code",
    "id": "AyYT4RisUdKc"
   },
   "outputs": [],
   "source": [
    "age = df_features[\"CAR_AGE\"].values.reshape(-1,1)"
   ]
  },
  {
   "cell_type": "code",
   "execution_count": 91,
   "metadata": {
    "colab": {},
    "colab_type": "code",
    "id": "2pqTHwHcVFIO"
   },
   "outputs": [],
   "source": [
    "log_reg_model = LogisticRegression(class_weight='balanced')"
   ]
  },
  {
   "cell_type": "code",
   "execution_count": 92,
   "metadata": {
    "colab": {},
    "colab_type": "code",
    "id": "8l5FZndDU7S5"
   },
   "outputs": [],
   "source": [
    "features_train, features_test, target_train, target_test = train_test_split(age, df_target, random_state=42)"
   ]
  },
  {
   "cell_type": "code",
   "execution_count": 93,
   "metadata": {
    "colab": {
     "base_uri": "https://localhost:8080/",
     "height": 113
    },
    "colab_type": "code",
    "id": "-FsvySHxVRaL",
    "outputId": "df6404e4-04ed-478f-aec5-ae423990a82a"
   },
   "outputs": [
    {
     "data": {
      "text/plain": [
       "LogisticRegression(C=1.0, class_weight='balanced', dual=False,\n",
       "                   fit_intercept=True, intercept_scaling=1, l1_ratio=None,\n",
       "                   max_iter=100, multi_class='auto', n_jobs=None, penalty='l2',\n",
       "                   random_state=None, solver='lbfgs', tol=0.0001, verbose=0,\n",
       "                   warm_start=False)"
      ]
     },
     "execution_count": 93,
     "metadata": {
      "tags": []
     },
     "output_type": "execute_result"
    }
   ],
   "source": [
    "log_reg_model.fit(features_train, target_train)"
   ]
  },
  {
   "cell_type": "code",
   "execution_count": 94,
   "metadata": {
    "colab": {},
    "colab_type": "code",
    "id": "6fN0KOHGVKxS"
   },
   "outputs": [],
   "source": [
    "prediction = log_reg_model.predict(features_test)"
   ]
  },
  {
   "cell_type": "code",
   "execution_count": 95,
   "metadata": {
    "colab": {},
    "colab_type": "code",
    "id": "w8Ml1yxCVPVC"
   },
   "outputs": [],
   "source": [
    "roc_auc =roc_auc_score(target_test, prediction)"
   ]
  },
  {
   "cell_type": "code",
   "execution_count": 96,
   "metadata": {
    "colab": {},
    "colab_type": "code",
    "id": "pyLgWCi7_B1n"
   },
   "outputs": [],
   "source": [
    "from sklearn.metrics import roc_curve\n",
    "fpr, tpr, thresholds = roc_curve(target_test, prediction)"
   ]
  },
  {
   "cell_type": "code",
   "execution_count": 97,
   "metadata": {
    "colab": {
     "base_uri": "https://localhost:8080/",
     "height": 295
    },
    "colab_type": "code",
    "id": "QZFWnpRo_B1v",
    "outputId": "8fa6b022-3408-4245-a8ca-367c6ec65857"
   },
   "outputs": [
    {
     "data": {
      "image/png": "[encoded data removed]",
      "text/plain": [
       "<Figure size 432x288 with 1 Axes>"
      ]
     },
     "metadata": {
      "needs_background": "light",
      "tags": []
     },
     "output_type": "display_data"
    }
   ],
   "source": [
    "plt.plot(fpr, tpr, color='darkorange', label=f'ROC curve (area ={round(roc_auc,2)})')\n",
    "plt.plot([0, 1], [0, 1], color='navy',  linestyle='--')\n",
    "plt.xlim([0.0, 1.0])\n",
    "plt.ylim([0.0, 1.05])\n",
    "plt.xlabel('False Positive Rate')\n",
    "plt.ylabel('True Positive Rate')\n",
    "plt.title('Receiver operating characteristic for the model')\n",
    "plt.legend(loc=\"lower right\")\n",
    "plt.show()"
   ]
  },
  {
   "cell_type": "code",
   "execution_count": 98,
   "metadata": {
    "colab": {
     "base_uri": "https://localhost:8080/",
     "height": 190
    },
    "colab_type": "code",
    "id": "ApYw3BUAavDQ",
    "outputId": "5d4a2394-b2e4-4641-a735-5319f2243acd"
   },
   "outputs": [
    {
     "name": "stdout",
     "output_type": "stream",
     "text": [
      "              precision    recall  f1-score   support\n",
      "\n",
      "           0       0.18      0.59      0.27      5076\n",
      "           1       0.94      0.71      0.81     47403\n",
      "\n",
      "    accuracy                           0.69     52479\n",
      "   macro avg       0.56      0.65      0.54     52479\n",
      "weighted avg       0.87      0.69      0.76     52479\n",
      "\n"
     ]
    }
   ],
   "source": [
    "# checking f1 score\n",
    "print(classification_report(target_test, prediction))"
   ]
  },
  {
   "cell_type": "markdown",
   "metadata": {
    "colab_type": "text",
    "id": "1oUDqiFfg7_S"
   },
   "source": [
    "#### Only age and odometer as features (scaled)\n"
   ]
  },
  {
   "cell_type": "code",
   "execution_count": 99,
   "metadata": {
    "colab": {},
    "colab_type": "code",
    "id": "W80yw7EdhAJ9"
   },
   "outputs": [],
   "source": [
    "features_train, features_test, target_train, target_test = train_test_split(features_scaled, df_target, random_state=42)"
   ]
  },
  {
   "cell_type": "code",
   "execution_count": 100,
   "metadata": {
    "colab": {
     "base_uri": "https://localhost:8080/",
     "height": 113
    },
    "colab_type": "code",
    "id": "0yFpQQ8jhIht",
    "outputId": "951431b5-00a5-4598-ab9e-b2b179d6d54f"
   },
   "outputs": [
    {
     "data": {
      "text/plain": [
       "LogisticRegression(C=1.0, class_weight='balanced', dual=False,\n",
       "                   fit_intercept=True, intercept_scaling=1, l1_ratio=None,\n",
       "                   max_iter=100, multi_class='auto', n_jobs=None, penalty='l2',\n",
       "                   random_state=None, solver='lbfgs', tol=0.0001, verbose=0,\n",
       "                   warm_start=False)"
      ]
     },
     "execution_count": 100,
     "metadata": {
      "tags": []
     },
     "output_type": "execute_result"
    }
   ],
   "source": [
    "log_reg_model.fit(features_train, target_train)"
   ]
  },
  {
   "cell_type": "code",
   "execution_count": 101,
   "metadata": {
    "colab": {},
    "colab_type": "code",
    "id": "iyBhwHYJhNwm"
   },
   "outputs": [],
   "source": [
    "prediction = log_reg_model.predict(features_test)"
   ]
  },
  {
   "cell_type": "code",
   "execution_count": 102,
   "metadata": {
    "colab": {
     "base_uri": "https://localhost:8080/",
     "height": 190
    },
    "colab_type": "code",
    "id": "HH8LRM5chQy8",
    "outputId": "64c673e1-587e-4765-eb1f-63b517b62dd6"
   },
   "outputs": [
    {
     "name": "stdout",
     "output_type": "stream",
     "text": [
      "              precision    recall  f1-score   support\n",
      "\n",
      "           0       0.18      0.64      0.28      5076\n",
      "           1       0.95      0.68      0.79     47403\n",
      "\n",
      "    accuracy                           0.68     52479\n",
      "   macro avg       0.56      0.66      0.54     52479\n",
      "weighted avg       0.87      0.68      0.74     52479\n",
      "\n"
     ]
    }
   ],
   "source": [
    "print(classification_report(target_test, prediction))"
   ]
  },
  {
   "cell_type": "code",
   "execution_count": 103,
   "metadata": {
    "colab": {
     "base_uri": "https://localhost:8080/",
     "height": 36
    },
    "colab_type": "code",
    "id": "60SFflLhhsRB",
    "outputId": "653f5bd1-f029-430f-c817-6ad5a97d5c12"
   },
   "outputs": [
    {
     "data": {
      "text/plain": [
       "0.6631515750791127"
      ]
     },
     "execution_count": 103,
     "metadata": {
      "tags": []
     },
     "output_type": "execute_result"
    }
   ],
   "source": [
    "# almost the same score as including all encoded featurse\n",
    "roc_auc_score(target_test, prediction)"
   ]
  },
  {
   "cell_type": "markdown",
   "metadata": {
    "colab_type": "text",
    "id": "FzOHdtXdXAZG"
   },
   "source": [
    "Decision point: continue with logisitc regression and try and optimize, or try another model?"
   ]
  },
  {
   "cell_type": "markdown",
   "metadata": {
    "colab_type": "text",
    "id": "Dvf59PG6uSJ4"
   },
   "source": [
    "### SVM Classifier"
   ]
  },
  {
   "cell_type": "markdown",
   "metadata": {
    "colab_type": "text",
    "id": "4ccPzzf_FzTy"
   },
   "source": [
    "#### Code for Downsampling (helps with SVC)"
   ]
  },
  {
   "cell_type": "code",
   "execution_count": 104,
   "metadata": {
    "colab": {
     "base_uri": "https://localhost:8080/",
     "height": 226
    },
    "colab_type": "code",
    "id": "1R_dZr8lahi1",
    "outputId": "09d08b54-615c-4d4f-da60-9ad30356c44f"
   },
   "outputs": [
    {
     "data": {
      "text/html": [
       "<div>\n",
       "<style scoped>\n",
       "    .dataframe tbody tr th:only-of-type {\n",
       "        vertical-align: middle;\n",
       "    }\n",
       "\n",
       "    .dataframe tbody tr th {\n",
       "        vertical-align: top;\n",
       "    }\n",
       "\n",
       "    .dataframe thead th {\n",
       "        text-align: right;\n",
       "    }\n",
       "</style>\n",
       "<table border=\"1\" class=\"dataframe\">\n",
       "  <thead>\n",
       "    <tr style=\"text-align: right;\">\n",
       "      <th></th>\n",
       "      <th>CAR_AGE</th>\n",
       "      <th>ODOMETER</th>\n",
       "      <th>OVERALL_RESULT</th>\n",
       "      <th>FUEL_REDUCED_D</th>\n",
       "      <th>FUEL_REDUCED_G</th>\n",
       "      <th>FUEL_REDUCED_O</th>\n",
       "      <th>VEHICLE_TYPE_1</th>\n",
       "      <th>VEHICLE_TYPE_2</th>\n",
       "      <th>VEHICLE_TYPE_3</th>\n",
       "      <th>VEHICLE_TYPE_4</th>\n",
       "      <th>VEHICLE_TYPE_5</th>\n",
       "      <th>VEHICLE_TYPE_6</th>\n",
       "      <th>VEHICLE_TYPE_7</th>\n",
       "      <th>GVW_TYPE_1.0</th>\n",
       "      <th>GVW_TYPE_2.0</th>\n",
       "      <th>GVW_TYPE_3.0</th>\n",
       "    </tr>\n",
       "  </thead>\n",
       "  <tbody>\n",
       "    <tr>\n",
       "      <th>0</th>\n",
       "      <td>11</td>\n",
       "      <td>53274</td>\n",
       "      <td>1</td>\n",
       "      <td>0</td>\n",
       "      <td>1</td>\n",
       "      <td>0</td>\n",
       "      <td>0</td>\n",
       "      <td>0</td>\n",
       "      <td>1</td>\n",
       "      <td>0</td>\n",
       "      <td>0</td>\n",
       "      <td>0</td>\n",
       "      <td>0</td>\n",
       "      <td>1</td>\n",
       "      <td>0</td>\n",
       "      <td>0</td>\n",
       "    </tr>\n",
       "    <tr>\n",
       "      <th>1</th>\n",
       "      <td>5</td>\n",
       "      <td>109225</td>\n",
       "      <td>1</td>\n",
       "      <td>0</td>\n",
       "      <td>1</td>\n",
       "      <td>0</td>\n",
       "      <td>1</td>\n",
       "      <td>0</td>\n",
       "      <td>0</td>\n",
       "      <td>0</td>\n",
       "      <td>0</td>\n",
       "      <td>0</td>\n",
       "      <td>0</td>\n",
       "      <td>1</td>\n",
       "      <td>0</td>\n",
       "      <td>0</td>\n",
       "    </tr>\n",
       "    <tr>\n",
       "      <th>3</th>\n",
       "      <td>20</td>\n",
       "      <td>152121</td>\n",
       "      <td>1</td>\n",
       "      <td>0</td>\n",
       "      <td>1</td>\n",
       "      <td>0</td>\n",
       "      <td>0</td>\n",
       "      <td>0</td>\n",
       "      <td>0</td>\n",
       "      <td>1</td>\n",
       "      <td>0</td>\n",
       "      <td>0</td>\n",
       "      <td>0</td>\n",
       "      <td>0</td>\n",
       "      <td>1</td>\n",
       "      <td>0</td>\n",
       "    </tr>\n",
       "    <tr>\n",
       "      <th>4</th>\n",
       "      <td>8</td>\n",
       "      <td>135640</td>\n",
       "      <td>1</td>\n",
       "      <td>0</td>\n",
       "      <td>1</td>\n",
       "      <td>0</td>\n",
       "      <td>1</td>\n",
       "      <td>0</td>\n",
       "      <td>0</td>\n",
       "      <td>0</td>\n",
       "      <td>0</td>\n",
       "      <td>0</td>\n",
       "      <td>0</td>\n",
       "      <td>1</td>\n",
       "      <td>0</td>\n",
       "      <td>0</td>\n",
       "    </tr>\n",
       "    <tr>\n",
       "      <th>5</th>\n",
       "      <td>4</td>\n",
       "      <td>43428</td>\n",
       "      <td>1</td>\n",
       "      <td>0</td>\n",
       "      <td>1</td>\n",
       "      <td>0</td>\n",
       "      <td>1</td>\n",
       "      <td>0</td>\n",
       "      <td>0</td>\n",
       "      <td>0</td>\n",
       "      <td>0</td>\n",
       "      <td>0</td>\n",
       "      <td>0</td>\n",
       "      <td>1</td>\n",
       "      <td>0</td>\n",
       "      <td>0</td>\n",
       "    </tr>\n",
       "  </tbody>\n",
       "</table>\n",
       "</div>"
      ],
      "text/plain": [
       "   CAR_AGE  ODOMETER  OVERALL_RESULT  FUEL_REDUCED_D  FUEL_REDUCED_G  \\\n",
       "0       11     53274               1               0               1   \n",
       "1        5    109225               1               0               1   \n",
       "3       20    152121               1               0               1   \n",
       "4        8    135640               1               0               1   \n",
       "5        4     43428               1               0               1   \n",
       "\n",
       "   FUEL_REDUCED_O  VEHICLE_TYPE_1  VEHICLE_TYPE_2  VEHICLE_TYPE_3  \\\n",
       "0               0               0               0               1   \n",
       "1               0               1               0               0   \n",
       "3               0               0               0               0   \n",
       "4               0               1               0               0   \n",
       "5               0               1               0               0   \n",
       "\n",
       "   VEHICLE_TYPE_4  VEHICLE_TYPE_5  VEHICLE_TYPE_6  VEHICLE_TYPE_7  \\\n",
       "0               0               0               0               0   \n",
       "1               0               0               0               0   \n",
       "3               1               0               0               0   \n",
       "4               0               0               0               0   \n",
       "5               0               0               0               0   \n",
       "\n",
       "   GVW_TYPE_1.0  GVW_TYPE_2.0  GVW_TYPE_3.0  \n",
       "0             1             0             0  \n",
       "1             1             0             0  \n",
       "3             0             1             0  \n",
       "4             1             0             0  \n",
       "5             1             0             0  "
      ]
     },
     "execution_count": 104,
     "metadata": {
      "tags": []
     },
     "output_type": "execute_result"
    }
   ],
   "source": [
    "df_encoded.head()"
   ]
  },
  {
   "cell_type": "code",
   "execution_count": 105,
   "metadata": {
    "colab": {},
    "colab_type": "code",
    "id": "fft9XlxkF3mD"
   },
   "outputs": [],
   "source": [
    "# downsample large class\n",
    "X_train, X_test, y_train, y_test = train_test_split(df_encoded, df_encoded.OVERALL_RESULT, test_size=.05, random_state=0)\n",
    "X_train = pd.concat([X_train[X_train.OVERALL_RESULT == 1].sample(frac=.11, random_state=0), X_train[X_train.OVERALL_RESULT == 0]])\n",
    "# shuffle\n",
    "X_train = X_train.sample(frac=1, random_state=0)\n",
    "y_train = X_train.OVERALL_RESULT\n",
    "X_train = X_train.drop('OVERALL_RESULT', axis=1)\n",
    "X_test = X_test.drop('OVERALL_RESULT', axis=1)"
   ]
  },
  {
   "cell_type": "markdown",
   "metadata": {
    "colab_type": "text",
    "id": "NVurVU_YVPqH"
   },
   "source": [
    "#### Training"
   ]
  },
  {
   "cell_type": "code",
   "execution_count": 106,
   "metadata": {
    "colab": {},
    "colab_type": "code",
    "id": "L3zc6F6Hue3q"
   },
   "outputs": [],
   "source": [
    "from sklearn.svm import SVC, LinearSVC\n",
    "from sklearn.linear_model import SGDClassifier"
   ]
  },
  {
   "cell_type": "code",
   "execution_count": 107,
   "metadata": {
    "colab": {},
    "colab_type": "code",
    "id": "51NMipMgue8v"
   },
   "outputs": [],
   "source": [
    "svm_clf = SVC()"
   ]
  },
  {
   "cell_type": "code",
   "execution_count": 108,
   "metadata": {
    "colab": {
     "base_uri": "https://localhost:8080/",
     "height": 94
    },
    "colab_type": "code",
    "id": "-pDxye6zue7I",
    "outputId": "fd7d4d0c-d8e1-40ae-980b-bde5c63bddf8"
   },
   "outputs": [
    {
     "data": {
      "text/plain": [
       "SVC(C=1.0, break_ties=False, cache_size=200, class_weight=None, coef0=0.0,\n",
       "    decision_function_shape='ovr', degree=3, gamma='scale', kernel='rbf',\n",
       "    max_iter=-1, probability=False, random_state=None, shrinking=True,\n",
       "    tol=0.001, verbose=False)"
      ]
     },
     "execution_count": 108,
     "metadata": {
      "tags": []
     },
     "output_type": "execute_result"
    }
   ],
   "source": [
    "svm_clf.fit(X_train, y_train)"
   ]
  },
  {
   "cell_type": "code",
   "execution_count": 109,
   "metadata": {
    "colab": {},
    "colab_type": "code",
    "id": "YFUSs06O2_kh"
   },
   "outputs": [],
   "source": [
    "preds = svm_clf.predict(X_test)"
   ]
  },
  {
   "cell_type": "code",
   "execution_count": 110,
   "metadata": {
    "colab": {
     "base_uri": "https://localhost:8080/",
     "height": 36
    },
    "colab_type": "code",
    "id": "LdMyT4cP3HCc",
    "outputId": "4fd8d8d5-22d2-45da-94d8-22011777fc14"
   },
   "outputs": [
    {
     "data": {
      "text/plain": [
       "0.6457995013886707"
      ]
     },
     "execution_count": 110,
     "metadata": {
      "tags": []
     },
     "output_type": "execute_result"
    }
   ],
   "source": [
    "roc_auc_score(y_test, preds)"
   ]
  },
  {
   "cell_type": "code",
   "execution_count": 111,
   "metadata": {
    "colab": {
     "base_uri": "https://localhost:8080/",
     "height": 55
    },
    "colab_type": "code",
    "id": "d-1TmLE13OM5",
    "outputId": "0c471ce1-330b-488c-cc96-7a16b2ed8864"
   },
   "outputs": [
    {
     "data": {
      "text/plain": [
       "array([[ 657,  325],\n",
       "       [3591, 5923]])"
      ]
     },
     "execution_count": 111,
     "metadata": {
      "tags": []
     },
     "output_type": "execute_result"
    }
   ],
   "source": [
    "confusion_matrix(y_test, preds)"
   ]
  },
  {
   "cell_type": "code",
   "execution_count": 112,
   "metadata": {
    "colab": {},
    "colab_type": "code",
    "id": "urUV2IgpFrNJ"
   },
   "outputs": [],
   "source": [
    "from sklearn.model_selection import GridSearchCV\n",
    "from sklearn.metrics import classification_report"
   ]
  },
  {
   "cell_type": "code",
   "execution_count": 113,
   "metadata": {
    "colab": {},
    "colab_type": "code",
    "id": "j8jpNRhaI_3I"
   },
   "outputs": [],
   "source": [
    "tuned_parameters = [{'kernel': ['rbf'], 'gamma': [1e-3, 1e-4],\n",
    "                     'C': [1, 10, 100, 1000]},\n",
    "                    {'kernel': ['linear'], 'C': [1, 10, 100, 1000]}]\n",
    "\n",
    "scores = ['precision', 'recall']\n",
    "\n",
    "\n",
    "   \n",
    "\n"
   ]
  },
  {
   "cell_type": "code",
   "execution_count": null,
   "metadata": {
    "colab": {
     "base_uri": "https://localhost:8080/",
     "height": 55
    },
    "colab_type": "code",
    "id": "K0VhjKd_U0s-",
    "outputId": "26927e87-1dd4-4bc2-9a0f-c9ed605d82af"
   },
   "outputs": [
    {
     "name": "stdout",
     "output_type": "stream",
     "text": [
      "# Tuning hyper-parameters for precision\n",
      "\n"
     ]
    }
   ],
   "source": [
    " for score in scores:\n",
    "    print(\"# Tuning hyper-parameters for %s\" % score)\n",
    "    print()\n",
    "\n",
    "    clf = GridSearchCV(\n",
    "        SVC(), tuned_parameters, scoring='%s_macro' % score\n",
    "    )\n",
    "    clf.fit(X_train, y_train)"
   ]
  },
  {
   "cell_type": "code",
   "execution_count": null,
   "metadata": {
    "colab": {},
    "colab_type": "code",
    "id": "qJwxnXWdUyw8"
   },
   "outputs": [],
   "source": [
    "    print(\"Best parameters set found on development set:\")\n",
    "    print()\n",
    "    print(clf.best_params_)\n",
    "    print()\n",
    "    print(\"Grid scores on development set:\")\n",
    "    print()\n",
    "    means = clf.cv_results_['mean_test_score']\n",
    "    stds = clf.cv_results_['std_test_score']\n",
    "    for mean, std, params in zip(means, stds, clf.cv_results_['params']):\n",
    "        print(\"%0.3f (+/-%0.03f) for %r\"\n",
    "              % (mean, std * 2, params))\n",
    "    print()\n",
    "\n",
    "    print(\"Detailed classification report:\")\n",
    "    print()\n",
    "    print(\"The model is trained on the full development set.\")\n",
    "    print(\"The scores are computed on the full evaluation set.\")\n",
    "    print()\n",
    "    y_true, y_pred = y_test, clf.predict(X_test)\n",
    "    print(classification_report(y_true, y_pred))\n",
    "    print()"
   ]
  }
 ],
 "metadata": {
  "colab": {
   "collapsed_sections": [],
   "include_colab_link": true,
   "name": "EDA_data_cleaning_modeling.ipynb",
   "provenance": [],
   "toc_visible": true
  },
  "kernelspec": {
   "display_name": "Python 3",
   "language": "python",
   "name": "python3"
  },
  "language_info": {
   "codemirror_mode": {
    "name": "ipython",
    "version": 3
   },
   "file_extension": ".py",
   "mimetype": "text/x-python",
   "name": "python",
   "nbconvert_exporter": "python",
   "pygments_lexer": "ipython3",
   "version": "3.7.4"
  }
 },
 "nbformat": 4,
 "nbformat_minor": 1
}
