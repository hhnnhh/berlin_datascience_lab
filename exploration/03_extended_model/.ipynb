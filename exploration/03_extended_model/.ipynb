{
 "cells": [
  {
   "cell_type": "markdown",
   "metadata": {},
   "source": [
    "# Week 3 Baseline Model: with added features\n",
    "\n",
    "Refactored code from Week 3 based on mentor feedback\n",
    "16.06.2020 with added features (HB)"
   ]
  },
  {
   "cell_type": "code",
   "execution_count": 23,
   "metadata": {},
   "outputs": [
    {
     "name": "stdout",
     "output_type": "stream",
     "text": [
      "C:\\Users\\hanna\\PycharmProjects\\berlindslab\\ds-lab\\exploration\\01_eda_minimal_model\n"
     ]
    }
   ],
   "source": [
    "# where am I?\n",
    "import os\n",
    "current_path = os.getcwd()\n",
    "print(current_path)"
   ]
  },
  {
   "cell_type": "code",
   "execution_count": 24,
   "metadata": {},
   "outputs": [
    {
     "name": "stdout",
     "output_type": "stream",
     "text": [
      "['C:\\\\Users\\\\hanna\\\\PycharmProjects\\\\berlindslab\\\\ds-lab\\\\exploration\\\\01_eda_minimal_model']\n"
     ]
    }
   ],
   "source": [
    "# print working directory again (windows 10)\n",
    "myinfo = !echo %cd%\n",
    "print(myinfo)"
   ]
  },
  {
   "cell_type": "code",
   "execution_count": 25,
   "metadata": {},
   "outputs": [
    {
     "ename": "SyntaxError",
     "evalue": "invalid syntax (<ipython-input-25-f556cc09a51e>, line 1)",
     "output_type": "error",
     "traceback": [
      "\u001b[1;36m  File \u001b[1;32m\"<ipython-input-25-f556cc09a51e>\"\u001b[1;36m, line \u001b[1;32m1\u001b[0m\n\u001b[1;33m    jupyter lab --notebook-dir C:\\\\\u001b[0m\n\u001b[1;37m              ^\u001b[0m\n\u001b[1;31mSyntaxError\u001b[0m\u001b[1;31m:\u001b[0m invalid syntax\n"
     ]
    }
   ],
   "source": [
    "jupyter lab --notebook-dir C:\\\\"
   ]
  },
  {
   "cell_type": "code",
   "execution_count": 1,
   "metadata": {},
   "outputs": [
    {
     "ename": "ModuleNotFoundError",
     "evalue": "No module named 'emissionscheck_alb'",
     "output_type": "error",
     "traceback": [
      "\u001b[1;31m---------------------------------------------------------------------------\u001b[0m",
      "\u001b[1;31mModuleNotFoundError\u001b[0m                       Traceback (most recent call last)",
      "\u001b[1;32m<ipython-input-1-1e1613ca95ac>\u001b[0m in \u001b[0;36m<module>\u001b[1;34m\u001b[0m\n\u001b[0;32m      7\u001b[0m \u001b[0mget_ipython\u001b[0m\u001b[1;33m(\u001b[0m\u001b[1;33m)\u001b[0m\u001b[1;33m.\u001b[0m\u001b[0mrun_line_magic\u001b[0m\u001b[1;33m(\u001b[0m\u001b[1;34m'matplotlib'\u001b[0m\u001b[1;33m,\u001b[0m \u001b[1;34m'inline'\u001b[0m\u001b[1;33m)\u001b[0m\u001b[1;33m\u001b[0m\u001b[1;33m\u001b[0m\u001b[0m\n\u001b[0;32m      8\u001b[0m \u001b[1;33m\u001b[0m\u001b[0m\n\u001b[1;32m----> 9\u001b[1;33m \u001b[1;32mfrom\u001b[0m \u001b[0memissionscheck_alb\u001b[0m \u001b[1;32mimport\u001b[0m \u001b[0mdata_prep\u001b[0m\u001b[1;33m,\u001b[0m \u001b[0mbaseline_model\u001b[0m\u001b[1;33m\u001b[0m\u001b[1;33m\u001b[0m\u001b[0m\n\u001b[0m",
      "\u001b[1;31mModuleNotFoundError\u001b[0m: No module named 'emissionscheck_alb'"
     ]
    }
   ],
   "source": [
    "# imports and magic line\n",
    "import pandas as pd\n",
    "import seaborn as sns\n",
    "import matplotlib.pyplot as plt\n",
    "import numpy as np\n",
    "\n",
    "%matplotlib inline\n",
    "\n",
    "from emissionscheck_alb import data_prep, baseline_model\n"
   ]
  },
  {
   "cell_type": "code",
   "execution_count": 2,
   "metadata": {
    "scrolled": true
   },
   "outputs": [
    {
     "name": "stderr",
     "output_type": "stream",
     "text": [
      "/home/mdado/anaconda3/envs/dslab/lib/python3.7/site-packages/IPython/core/interactiveshell.py:3063: DtypeWarning: Columns (5,7,18,26,108,109,113) have mixed types.Specify dtype option on import or set low_memory=False.\n",
      "  interactivity=interactivity, compiler=compiler, result=result)\n"
     ]
    }
   ],
   "source": [
    "df = pd.read_csv(\"../data/interim/sample.csv\", lineterminator='\\n')"
   ]
  },
  {
   "cell_type": "code",
   "execution_count": 3,
   "metadata": {},
   "outputs": [],
   "source": [
    "# get columns for data exploration\n",
    "df_subset = df[[\"RecordID\", \"TEST_SDATE\", \"TEST_EDATE\", \"ODOMETER\", \"VEHICLE_TYPE\", \"MODEL_YEAR\", \"FUEL_TYPE\", \"GVW_TYPE\", \"OVERALL_RESULT\"]]"
   ]
  },
  {
   "cell_type": "code",
   "execution_count": 4,
   "metadata": {
    "scrolled": true
   },
   "outputs": [
    {
     "data": {
      "text/html": [
       "<div>\n",
       "<style scoped>\n",
       "    .dataframe tbody tr th:only-of-type {\n",
       "        vertical-align: middle;\n",
       "    }\n",
       "\n",
       "    .dataframe tbody tr th {\n",
       "        vertical-align: top;\n",
       "    }\n",
       "\n",
       "    .dataframe thead th {\n",
       "        text-align: right;\n",
       "    }\n",
       "</style>\n",
       "<table border=\"1\" class=\"dataframe\">\n",
       "  <thead>\n",
       "    <tr style=\"text-align: right;\">\n",
       "      <th></th>\n",
       "      <th>RecordID</th>\n",
       "      <th>TEST_SDATE</th>\n",
       "      <th>TEST_EDATE</th>\n",
       "      <th>ODOMETER</th>\n",
       "      <th>VEHICLE_TYPE</th>\n",
       "      <th>MODEL_YEAR</th>\n",
       "      <th>FUEL_TYPE</th>\n",
       "      <th>GVW_TYPE</th>\n",
       "      <th>OVERALL_RESULT</th>\n",
       "      <th>CAR_AGE</th>\n",
       "    </tr>\n",
       "  </thead>\n",
       "  <tbody>\n",
       "    <tr>\n",
       "      <th>0</th>\n",
       "      <td>111260</td>\n",
       "      <td>2004-12-16 10:57:00</td>\n",
       "      <td>2004-12-16 11:03:00</td>\n",
       "      <td>53274</td>\n",
       "      <td>3</td>\n",
       "      <td>1994</td>\n",
       "      <td>G</td>\n",
       "      <td>1.0</td>\n",
       "      <td>P</td>\n",
       "      <td>11</td>\n",
       "    </tr>\n",
       "    <tr>\n",
       "      <th>1</th>\n",
       "      <td>138031</td>\n",
       "      <td>2004-08-13 14:10:00</td>\n",
       "      <td>2004-08-13 14:12:00</td>\n",
       "      <td>109225</td>\n",
       "      <td>1</td>\n",
       "      <td>2000</td>\n",
       "      <td>G</td>\n",
       "      <td>1.0</td>\n",
       "      <td>P</td>\n",
       "      <td>5</td>\n",
       "    </tr>\n",
       "    <tr>\n",
       "      <th>2</th>\n",
       "      <td>298121</td>\n",
       "      <td>2004-08-31 13:03:00</td>\n",
       "      <td>2004-08-31 13:03:00</td>\n",
       "      <td>110347</td>\n",
       "      <td>1</td>\n",
       "      <td>1989</td>\n",
       "      <td>G</td>\n",
       "      <td>1.0</td>\n",
       "      <td>A</td>\n",
       "      <td>16</td>\n",
       "    </tr>\n",
       "    <tr>\n",
       "      <th>3</th>\n",
       "      <td>369185</td>\n",
       "      <td>2004-12-02 11:33:00</td>\n",
       "      <td>2004-12-02 11:39:00</td>\n",
       "      <td>152121</td>\n",
       "      <td>4</td>\n",
       "      <td>1985</td>\n",
       "      <td>G</td>\n",
       "      <td>2.0</td>\n",
       "      <td>P</td>\n",
       "      <td>20</td>\n",
       "    </tr>\n",
       "    <tr>\n",
       "      <th>4</th>\n",
       "      <td>384955</td>\n",
       "      <td>2004-12-29 17:00:00</td>\n",
       "      <td>2004-12-29 17:03:00</td>\n",
       "      <td>135640</td>\n",
       "      <td>1</td>\n",
       "      <td>1997</td>\n",
       "      <td>G</td>\n",
       "      <td>1.0</td>\n",
       "      <td>P</td>\n",
       "      <td>8</td>\n",
       "    </tr>\n",
       "  </tbody>\n",
       "</table>\n",
       "</div>"
      ],
      "text/plain": [
       "   RecordID           TEST_SDATE           TEST_EDATE  ODOMETER  VEHICLE_TYPE  \\\n",
       "0    111260  2004-12-16 10:57:00  2004-12-16 11:03:00     53274             3   \n",
       "1    138031  2004-08-13 14:10:00  2004-08-13 14:12:00    109225             1   \n",
       "2    298121  2004-08-31 13:03:00  2004-08-31 13:03:00    110347             1   \n",
       "3    369185  2004-12-02 11:33:00  2004-12-02 11:39:00    152121             4   \n",
       "4    384955  2004-12-29 17:00:00  2004-12-29 17:03:00    135640             1   \n",
       "\n",
       "   MODEL_YEAR FUEL_TYPE  GVW_TYPE OVERALL_RESULT  CAR_AGE  \n",
       "0        1994         G       1.0              P       11  \n",
       "1        2000         G       1.0              P        5  \n",
       "2        1989         G       1.0              A       16  \n",
       "3        1985         G       2.0              P       20  \n",
       "4        1997         G       1.0              P        8  "
      ]
     },
     "execution_count": 4,
     "metadata": {},
     "output_type": "execute_result"
    }
   ],
   "source": [
    "# get car age\n",
    "df_subset = data_prep.get_car_age(df_subset)\n",
    "df_subset.head()"
   ]
  },
  {
   "cell_type": "code",
   "execution_count": 5,
   "metadata": {},
   "outputs": [],
   "source": [
    "# Keep rows with only P or F in OVERALL RESULT\n",
    "df_subset = data_prep.keep_pass_fail(df_subset)"
   ]
  },
  {
   "cell_type": "code",
   "execution_count": 6,
   "metadata": {
    "scrolled": false
   },
   "outputs": [
    {
     "data": {
      "text/plain": [
       "(346783, 10)"
      ]
     },
     "execution_count": 6,
     "metadata": {},
     "output_type": "execute_result"
    }
   ],
   "source": [
    "df_subset.shape"
   ]
  },
  {
   "cell_type": "markdown",
   "metadata": {},
   "source": [
    "## Remove strange odometer values"
   ]
  },
  {
   "cell_type": "code",
   "execution_count": 7,
   "metadata": {},
   "outputs": [],
   "source": [
    "# remove odometer values over 400000\n",
    "df_subset = df_subset[df_subset['ODOMETER']<=400000]"
   ]
  },
  {
   "cell_type": "code",
   "execution_count": 8,
   "metadata": {},
   "outputs": [],
   "source": [
    "# exclude 0 odometer values\n",
    "df_subset = df_subset[df_subset['ODOMETER']>0]"
   ]
  },
  {
   "cell_type": "code",
   "execution_count": 9,
   "metadata": {
    "scrolled": true
   },
   "outputs": [
    {
     "data": {
      "text/plain": [
       "(344947, 10)"
      ]
     },
     "execution_count": 9,
     "metadata": {},
     "output_type": "execute_result"
    }
   ],
   "source": [
    "df_subset.shape"
   ]
  },
  {
   "cell_type": "markdown",
   "metadata": {},
   "source": [
    "## Encoding target"
   ]
  },
  {
   "cell_type": "code",
   "execution_count": 10,
   "metadata": {},
   "outputs": [],
   "source": [
    "target = data_prep.encode_target(df_subset[\"OVERALL_RESULT\"])"
   ]
  },
  {
   "cell_type": "markdown",
   "metadata": {},
   "source": [
    "## Create df of features only"
   ]
  },
  {
   "cell_type": "code",
   "execution_count": 11,
   "metadata": {},
   "outputs": [],
   "source": [
    "df_features = df_subset[[\"VEHICLE_TYPE\", \"FUEL_TYPE\", \"GVW_TYPE\", \"ODOMETER\", \"CAR_AGE\"]]"
   ]
  },
  {
   "cell_type": "markdown",
   "metadata": {},
   "source": [
    "## Logistic Regression"
   ]
  },
  {
   "cell_type": "code",
   "execution_count": 12,
   "metadata": {
    "scrolled": false
   },
   "outputs": [],
   "source": [
    "# Continuous and categorical features\n",
    "cat_features = [\"VEHICLE_TYPE\", \"FUEL_TYPE\", \"GVW_TYPE\"]\n",
    "\n",
    "features_train, features_test, target_train, target_test = data_prep.encode_split_data(cat_features,\n",
    "                                                                                    data = df_features,\n",
    "                                                                                    target_series = target,\n",
    "                                                                                    train_size = .7,\n",
    "                                                                                    random_state=42)"
   ]
  },
  {
   "cell_type": "code",
   "execution_count": 13,
   "metadata": {},
   "outputs": [
    {
     "name": "stderr",
     "output_type": "stream",
     "text": [
      "/home/mdado/anaconda3/envs/dslab/lib/python3.7/site-packages/sklearn/linear_model/_logistic.py:764: ConvergenceWarning: lbfgs failed to converge (status=1):\n",
      "STOP: TOTAL NO. of ITERATIONS REACHED LIMIT.\n",
      "\n",
      "Increase the number of iterations (max_iter) or scale the data as shown in:\n",
      "    https://scikit-learn.org/stable/modules/preprocessing.html\n",
      "Please also refer to the documentation for alternative solver options:\n",
      "    https://scikit-learn.org/stable/modules/linear_model.html#logistic-regression\n",
      "  extra_warning_msg=_LOGISTIC_SOLVER_CONVERGENCE_MSG)\n"
     ]
    },
    {
     "name": "stdout",
     "output_type": "stream",
     "text": [
      "              precision    recall  f1-score   support\n",
      "\n",
      "           0       0.95      0.65      0.78     94757\n",
      "           1       0.15      0.66      0.25      8728\n",
      "\n",
      "    accuracy                           0.65    103485\n",
      "   macro avg       0.55      0.66      0.51    103485\n",
      "weighted avg       0.89      0.65      0.73    103485\n",
      "\n",
      "ROC AUC Score is 0.709078705996264\n"
     ]
    },
    {
     "name": "stderr",
     "output_type": "stream",
     "text": [
      "/home/mdado/anaconda3/envs/dslab/lib/python3.7/site-packages/sklearn/linear_model/_logistic.py:764: ConvergenceWarning: lbfgs failed to converge (status=1):\n",
      "STOP: TOTAL NO. of ITERATIONS REACHED LIMIT.\n",
      "\n",
      "Increase the number of iterations (max_iter) or scale the data as shown in:\n",
      "    https://scikit-learn.org/stable/modules/preprocessing.html\n",
      "Please also refer to the documentation for alternative solver options:\n",
      "    https://scikit-learn.org/stable/modules/linear_model.html#logistic-regression\n",
      "  extra_warning_msg=_LOGISTIC_SOLVER_CONVERGENCE_MSG)\n",
      "/home/mdado/anaconda3/envs/dslab/lib/python3.7/site-packages/sklearn/linear_model/_logistic.py:764: ConvergenceWarning: lbfgs failed to converge (status=1):\n",
      "STOP: TOTAL NO. of ITERATIONS REACHED LIMIT.\n",
      "\n",
      "Increase the number of iterations (max_iter) or scale the data as shown in:\n",
      "    https://scikit-learn.org/stable/modules/preprocessing.html\n",
      "Please also refer to the documentation for alternative solver options:\n",
      "    https://scikit-learn.org/stable/modules/linear_model.html#logistic-regression\n",
      "  extra_warning_msg=_LOGISTIC_SOLVER_CONVERGENCE_MSG)\n",
      "/home/mdado/anaconda3/envs/dslab/lib/python3.7/site-packages/sklearn/linear_model/_logistic.py:764: ConvergenceWarning: lbfgs failed to converge (status=1):\n",
      "STOP: TOTAL NO. of ITERATIONS REACHED LIMIT.\n",
      "\n",
      "Increase the number of iterations (max_iter) or scale the data as shown in:\n",
      "    https://scikit-learn.org/stable/modules/preprocessing.html\n",
      "Please also refer to the documentation for alternative solver options:\n",
      "    https://scikit-learn.org/stable/modules/linear_model.html#logistic-regression\n",
      "  extra_warning_msg=_LOGISTIC_SOLVER_CONVERGENCE_MSG)\n"
     ]
    },
    {
     "name": "stdout",
     "output_type": "stream",
     "text": [
      "Cross-validation scores: [0.71135833 0.70981074 0.71373447 0.71713137 0.71315056]\n",
      "Mean cross-validation score: 0.71\n"
     ]
    },
    {
     "name": "stderr",
     "output_type": "stream",
     "text": [
      "/home/mdado/anaconda3/envs/dslab/lib/python3.7/site-packages/sklearn/linear_model/_logistic.py:764: ConvergenceWarning: lbfgs failed to converge (status=1):\n",
      "STOP: TOTAL NO. of ITERATIONS REACHED LIMIT.\n",
      "\n",
      "Increase the number of iterations (max_iter) or scale the data as shown in:\n",
      "    https://scikit-learn.org/stable/modules/preprocessing.html\n",
      "Please also refer to the documentation for alternative solver options:\n",
      "    https://scikit-learn.org/stable/modules/linear_model.html#logistic-regression\n",
      "  extra_warning_msg=_LOGISTIC_SOLVER_CONVERGENCE_MSG)\n"
     ]
    },
    {
     "data": {
      "text/plain": [
       "Pipeline(steps=[('minmaxscaler', MinMaxScaler()),\n",
       "                ('logisticregression',\n",
       "                 LogisticRegression(class_weight='balanced', random_state=42))])"
      ]
     },
     "execution_count": 13,
     "metadata": {},
     "output_type": "execute_result"
    },
    {
     "data": {
      "image/png": "[encoded data removed]",
      "text/plain": [
       "<Figure size 432x288 with 2 Axes>"
      ]
     },
     "metadata": {
      "needs_background": "light"
     },
     "output_type": "display_data"
    }
   ],
   "source": [
    "baseline_model.run_baseline_model(features_train, \n",
    "                                features_test, \n",
    "                                target_train, \n",
    "                                target_test, \n",
    "                                model = \"logreg\", \n",
    "                                random_state=42, \n",
    "                                class_weight=\"balanced\")"
   ]
  },
  {
   "cell_type": "code",
   "execution_count": 15,
   "metadata": {},
   "outputs": [
    {
     "name": "stdout",
     "output_type": "stream",
     "text": [
      "              precision    recall  f1-score   support\n",
      "\n",
      "           0       0.95      0.65      0.78     94757\n",
      "           1       0.15      0.66      0.24      8728\n",
      "\n",
      "    accuracy                           0.65    103485\n",
      "   macro avg       0.55      0.66      0.51    103485\n",
      "weighted avg       0.89      0.65      0.73    103485\n",
      "\n",
      "ROC AUC Score is 0.7065077954912061\n",
      "Cross-validation scores: [0.70956422 0.70809555 0.71190963 0.71502966 0.71253997]\n",
      "Mean cross-validation score: 0.71\n"
     ]
    },
    {
     "data": {
      "text/plain": [
       "Pipeline(steps=[('minmaxscaler', MinMaxScaler()),\n",
       "                ('logisticregression',\n",
       "                 LogisticRegression(class_weight='balanced', random_state=42))])"
      ]
     },
     "execution_count": 15,
     "metadata": {},
     "output_type": "execute_result"
    },
    {
     "data": {
      "image/png": "[encoded data removed]",
      "text/plain": [
       "<Figure size 432x288 with 2 Axes>"
      ]
     },
     "metadata": {
      "needs_background": "light"
     },
     "output_type": "display_data"
    }
   ],
   "source": [
    "# only continuous features\n",
    "features_train, features_test, target_train, target_test = data_prep.split_data(features_matrix = df_features[[\"ODOMETER\", \"CAR_AGE\"]],\n",
    "                                                                                    target_series = target,\n",
    "                                                                                    train_size = .7,\n",
    "                                                                                    random_state=42)\n",
    "\n",
    "baseline_model.run_baseline_model(features_train, \n",
    "                                features_test, \n",
    "                                target_train, \n",
    "                                target_test, \n",
    "                                model = \"logreg\", \n",
    "                                random_state=42, \n",
    "                                class_weight=\"balanced\")"
   ]
  }
 ],
 "metadata": {
  "kernelspec": {
   "display_name": "Python 3",
   "language": "python",
   "name": "python3"
  },
  "language_info": {
   "codemirror_mode": {
    "name": "ipython",
    "version": 3
   },
   "file_extension": ".py",
   "mimetype": "text/x-python",
   "name": "python",
   "nbconvert_exporter": "python",
   "pygments_lexer": "ipython3",
   "version": "3.7.4"
  }
 },
 "nbformat": 4,
 "nbformat_minor": 4
}
