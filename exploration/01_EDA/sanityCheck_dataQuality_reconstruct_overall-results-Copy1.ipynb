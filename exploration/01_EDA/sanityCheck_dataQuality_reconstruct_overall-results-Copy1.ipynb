{
 "cells": [
  {
   "cell_type": "markdown",
   "metadata": {},
   "source": [
    "# Figures\n",
    "\n",
    "by Hannah Bohle, 27.06.2020\n"
   ]
  },
  {
   "cell_type": "code",
   "execution_count": 1,
   "metadata": {},
   "outputs": [
    {
     "name": "stdout",
     "output_type": "stream",
     "text": [
      "C:\\Users\\hanna\\PycharmProjects\\berlindslab\\ds-lab\\exploration\\01_EDA\n"
     ]
    }
   ],
   "source": [
    "#where am I?\n",
    "import os\n",
    "path = os.getcwd()\n",
    "print(path)"
   ]
  },
  {
   "cell_type": "code",
   "execution_count": 2,
   "metadata": {},
   "outputs": [
    {
     "name": "stdout",
     "output_type": "stream",
     "text": [
      "C:\\Users\\hanna\\PycharmProjects\\berlindslab\\ds-lab\n"
     ]
    }
   ],
   "source": [
    "#go to path where data_prep and baseline_model are\n",
    "%cd C:\\Users\\hanna\\PycharmProjects\\berlindslab\\ds-lab\\"
   ]
  },
  {
   "cell_type": "code",
   "execution_count": 3,
   "metadata": {},
   "outputs": [],
   "source": [
    "# imports and magic line\n",
    "import pandas as pd\n",
    "import seaborn as sns\n",
    "import matplotlib.pyplot as plt\n",
    "import numpy as np\n",
    "\n",
    "%matplotlib inline\n",
    "\n",
    "from emissionscheck_alb import data_prep, baseline_model\n"
   ]
  },
  {
   "cell_type": "code",
   "execution_count": 4,
   "metadata": {},
   "outputs": [
    {
     "name": "stdout",
     "output_type": "stream",
     "text": [
      "C:\\Users\\hanna\\PycharmProjects\\berlindslab\\ds-lab\\data\n"
     ]
    }
   ],
   "source": [
    "#go to data path locally \n",
    "%cd C:\\Users\\hanna\\PycharmProjects\\berlindslab\\ds-lab\\data"
   ]
  },
  {
   "cell_type": "code",
   "execution_count": 5,
   "metadata": {
    "scrolled": false
   },
   "outputs": [
    {
     "name": "stderr",
     "output_type": "stream",
     "text": [
      "c:\\users\\hanna\\miniconda3\\lib\\site-packages\\IPython\\core\\interactiveshell.py:3063: DtypeWarning: Columns (5,7,18,26,108,109,113) have mixed types.Specify dtype option on import or set low_memory=False.\n",
      "  interactivity=interactivity, compiler=compiler, result=result)\n"
     ]
    }
   ],
   "source": [
    "df = pd.read_csv(\"../data/sample.csv\", lineterminator='\\n')"
   ]
  },
  {
   "cell_type": "markdown",
   "metadata": {},
   "source": [
    "which columns do we have in our dataset?"
   ]
  },
  {
   "cell_type": "code",
   "execution_count": 6,
   "metadata": {},
   "outputs": [
    {
     "name": "stdout",
     "output_type": "stream",
     "text": [
      "['RecordID', 'RECORD_NUM', 'VIR_CERT_NUMBER', 'STATION_NUM', 'ANALYZER_NUM', 'INSPECTOR_NUM', 'TEST_TYPE', 'VID_TEST_TYPE', 'TEST_SDATE', 'TEST_EDATE', 'VIN', 'VIN_SOURCE', 'VEH_LICENSE', 'GVW_TYPE', 'GVWR', 'MODEL_YEAR', 'MAKE', 'MODEL', 'CYL', 'ENGINE_SIZE', 'TRANS_TYPE', 'DUAL_EXHAUST', 'ODOMETER', 'FUEL_TYPE', 'VEHICLE_TYPE', 'EMISS_COST', 'ZIP_CODE', 'CERTIFICATION', 'ESC', 'VRT_RECORD_ID', 'E_TEST_SEQUENCE', 'E_PRECOND_PROCEDURE', 'E_HIGH_DCF', 'E_HIGH_RPM', 'E_HIGH_CO2', 'E_HIGH_O2', 'E_HIGH_HC', 'E_HIGH_HC_DCF', 'E_HIGH_HC_LIMIT', 'E_HIGH_CO', 'E_HIGH_CO_DCF', 'E_HIGH_CO_LIMIT', 'E_IDLE_DCF', 'E_IDLE_RPM', 'E_IDLE_CO2', 'E_IDLE_O2', 'E_IDLE_HC', 'E_IDLE_HC_DCF', 'E_IDLE_HC_LIMIT', 'E_IDLE_CO', 'E_IDLE_CO_DCF', 'E_IDLE_CO_LIMIT', 'E_HIGH_DCF_2', 'E_HIGH_RPM_2', 'E_HIGH_CO2_2', 'E_HIGH_O2_2', 'E_HIGH_HC_2', 'E_HIGH_HC_DCF_2', 'E_HIGH_CO_2', 'E_HIGH_CO_DCF_2', 'E_IDLE_DCF_2', 'E_IDLE_RPM_2', 'E_IDLE_CO2_2', 'E_IDLE_O2_2', 'E_IDLE_HC_2', 'E_IDLE_HC_DCF_2', 'E_IDLE_CO_2', 'E_IDLE_CO_DCF_2', 'E_RESULT_STRING', 'V_SMOKE1', 'V_SMOKE2', 'V_GASCAP', 'V_CAT', 'V_RESULT', 'KOEO_RESULT', 'KOER_RESULT', 'OBD_RDY_MISFIRE', 'OBD_RDY_FUEL', 'OBD_RDY_COMPONENT', 'OBD_RDY_CAT', 'OBD_RDY_CAT_HEATED', 'OBD_RDY_EVAP', 'OBD_RDY_SEC_AIR', 'OBD_RDY_AIR_COND', 'OBD_RDY_O2_SENSOR', 'OBD_RDY_O2_HEATER', 'OBD_RDY_EGR', 'OBD_RDY_RESULT', 'OBD_PID', 'OBD_PCM_ID', 'OBD_VIN', 'OBD_FLT_CODES', 'OBD_FLT_RESULT', 'OBD_MIL_STATUS', 'OBD_RESULT', 'ONLINE_STATUS', 'OFFLINE_REASON_CODE', 'ABORT_CODE', 'SOFTWARE_VERSION', 'INSP_COMMENTS', 'OVERALL_RESULT', 'R_TOTAL_COST', 'R_EGR', 'R_ELECTRICAL', 'R_EVAP_CONTROL', 'R_EXHAUST', 'R_IGNITION', 'R_INTAKE', 'R_ENGINE', 'R_PCV', 'R_OTHER', 'SentToWW', 'ABORT_CODE_OTHER_DESC', 'OBDII_AFFECT_OVERALL', 'E_HIGH_CO_RESULT', 'E_HIGH_HC_RESULT', 'E_IDLE_CO_RESULT', 'E_IDLE_HC_RESULT', 'MECHANIC_LAST_NAME', 'MECHANIC_FIRST_NAME', 'MECHANIC_MIDDLE_INIT', 'ENGINE_SIZE_ORIG', 'FAILED_IDLE_RPM', 'SENTTOVID', 'Station_License_Number', 'Analyzer_Number', 'Insert_DateTime\\r']\n"
     ]
    }
   ],
   "source": [
    "#cols = df.columns.tolist()\n",
    "#print(cols)\n",
    "#df_subset=df"
   ]
  },
  {
   "cell_type": "code",
   "execution_count": 13,
   "metadata": {},
   "outputs": [],
   "source": [
    "df.OVERALL_RESULT2 = df.OVERALL_RESULT.replace({\"P\":\"PASS\", \"F\": \"FAIL\", \"A\":\"ABORT\"})"
   ]
  },
  {
   "cell_type": "code",
   "execution_count": 14,
   "metadata": {},
   "outputs": [
    {
     "data": {
      "text/plain": [
       "<matplotlib.axes._subplots.AxesSubplot at 0x26e1245a248>"
      ]
     },
     "execution_count": 14,
     "metadata": {},
     "output_type": "execute_result"
    },
    {
     "data": {
      "image/png": "[encoded data removed]",
      "text/plain": [
       "<Figure size 432x288 with 1 Axes>"
      ]
     },
     "metadata": {},
     "output_type": "display_data"
    }
   ],
   "source": [
    "df.OVERALL_RESULT2.value_counts().plot(kind='pie')"
   ]
  },
  {
   "cell_type": "code",
   "execution_count": 8,
   "metadata": {
    "scrolled": true
   },
   "outputs": [
    {
     "data": {
      "text/html": [
       "<div>\n",
       "<style scoped>\n",
       "    .dataframe tbody tr th:only-of-type {\n",
       "        vertical-align: middle;\n",
       "    }\n",
       "\n",
       "    .dataframe tbody tr th {\n",
       "        vertical-align: top;\n",
       "    }\n",
       "\n",
       "    .dataframe thead th {\n",
       "        text-align: right;\n",
       "    }\n",
       "</style>\n",
       "<table border=\"1\" class=\"dataframe\">\n",
       "  <thead>\n",
       "    <tr style=\"text-align: right;\">\n",
       "      <th></th>\n",
       "      <th>RecordID</th>\n",
       "      <th>RECORD_NUM</th>\n",
       "      <th>VIR_CERT_NUMBER</th>\n",
       "      <th>STATION_NUM</th>\n",
       "      <th>ANALYZER_NUM</th>\n",
       "      <th>INSPECTOR_NUM</th>\n",
       "      <th>TEST_TYPE</th>\n",
       "      <th>VID_TEST_TYPE</th>\n",
       "      <th>TEST_SDATE</th>\n",
       "      <th>TEST_EDATE</th>\n",
       "      <th>...</th>\n",
       "      <th>MECHANIC_LAST_NAME</th>\n",
       "      <th>MECHANIC_FIRST_NAME</th>\n",
       "      <th>MECHANIC_MIDDLE_INIT</th>\n",
       "      <th>ENGINE_SIZE_ORIG</th>\n",
       "      <th>FAILED_IDLE_RPM</th>\n",
       "      <th>SENTTOVID</th>\n",
       "      <th>Station_License_Number</th>\n",
       "      <th>Analyzer_Number</th>\n",
       "      <th>Insert_DateTime\\r</th>\n",
       "      <th>CAR_AGE</th>\n",
       "    </tr>\n",
       "  </thead>\n",
       "  <tbody>\n",
       "    <tr>\n",
       "      <th>0</th>\n",
       "      <td>111260</td>\n",
       "      <td>7408</td>\n",
       "      <td>4486883.0</td>\n",
       "      <td>IS329</td>\n",
       "      <td>W036</td>\n",
       "      <td>26351553</td>\n",
       "      <td>I</td>\n",
       "      <td>I</td>\n",
       "      <td>2004-12-16 10:57:00</td>\n",
       "      <td>2004-12-16 11:03:00</td>\n",
       "      <td>...</td>\n",
       "      <td>SANCHEZ</td>\n",
       "      <td>TIM</td>\n",
       "      <td>J</td>\n",
       "      <td>NaN</td>\n",
       "      <td>NaN</td>\n",
       "      <td>0.0</td>\n",
       "      <td>IS329</td>\n",
       "      <td>W036</td>\n",
       "      <td>2006-01-12 21:19:17\\r</td>\n",
       "      <td>11</td>\n",
       "    </tr>\n",
       "    <tr>\n",
       "      <th>1</th>\n",
       "      <td>138031</td>\n",
       "      <td>969</td>\n",
       "      <td>4437994.0</td>\n",
       "      <td>IS267</td>\n",
       "      <td>W014</td>\n",
       "      <td>17496701</td>\n",
       "      <td>I</td>\n",
       "      <td>I</td>\n",
       "      <td>2004-08-13 14:10:00</td>\n",
       "      <td>2004-08-13 14:12:00</td>\n",
       "      <td>...</td>\n",
       "      <td>Trujillo</td>\n",
       "      <td>Vince</td>\n",
       "      <td>NaN</td>\n",
       "      <td>NaN</td>\n",
       "      <td>NaN</td>\n",
       "      <td>0.0</td>\n",
       "      <td>IS394</td>\n",
       "      <td>W014</td>\n",
       "      <td>2006-01-13 17:43:30\\r</td>\n",
       "      <td>5</td>\n",
       "    </tr>\n",
       "    <tr>\n",
       "      <th>2</th>\n",
       "      <td>298121</td>\n",
       "      <td>185</td>\n",
       "      <td>NaN</td>\n",
       "      <td>IR354</td>\n",
       "      <td>W109</td>\n",
       "      <td>32641547</td>\n",
       "      <td>I</td>\n",
       "      <td>NaN</td>\n",
       "      <td>2004-08-31 13:03:00</td>\n",
       "      <td>2004-08-31 13:03:00</td>\n",
       "      <td>...</td>\n",
       "      <td>Anderson</td>\n",
       "      <td>Phillip</td>\n",
       "      <td>L</td>\n",
       "      <td>NaN</td>\n",
       "      <td>T</td>\n",
       "      <td>0.0</td>\n",
       "      <td>IR354</td>\n",
       "      <td>W109</td>\n",
       "      <td>2006-01-24 09:07:03\\r</td>\n",
       "      <td>16</td>\n",
       "    </tr>\n",
       "    <tr>\n",
       "      <th>3</th>\n",
       "      <td>369185</td>\n",
       "      <td>4569</td>\n",
       "      <td>4469421.0</td>\n",
       "      <td>IS359</td>\n",
       "      <td>W042</td>\n",
       "      <td>11117229</td>\n",
       "      <td>I</td>\n",
       "      <td>I</td>\n",
       "      <td>2004-12-02 11:33:00</td>\n",
       "      <td>2004-12-02 11:39:00</td>\n",
       "      <td>...</td>\n",
       "      <td>NGUYEN</td>\n",
       "      <td>DUC</td>\n",
       "      <td>NaN</td>\n",
       "      <td>NaN</td>\n",
       "      <td>NaN</td>\n",
       "      <td>0.0</td>\n",
       "      <td>IS404</td>\n",
       "      <td>W042</td>\n",
       "      <td>2006-01-26 17:03:05\\r</td>\n",
       "      <td>20</td>\n",
       "    </tr>\n",
       "    <tr>\n",
       "      <th>4</th>\n",
       "      <td>384955</td>\n",
       "      <td>1326</td>\n",
       "      <td>4492858.0</td>\n",
       "      <td>IS171</td>\n",
       "      <td>W052</td>\n",
       "      <td>22095231</td>\n",
       "      <td>I</td>\n",
       "      <td>I</td>\n",
       "      <td>2004-12-29 17:00:00</td>\n",
       "      <td>2004-12-29 17:03:00</td>\n",
       "      <td>...</td>\n",
       "      <td>Nguyen</td>\n",
       "      <td>Kenny</td>\n",
       "      <td>T</td>\n",
       "      <td>NaN</td>\n",
       "      <td>NaN</td>\n",
       "      <td>0.0</td>\n",
       "      <td>IS171</td>\n",
       "      <td>W052</td>\n",
       "      <td>2006-01-31 16:06:03\\r</td>\n",
       "      <td>8</td>\n",
       "    </tr>\n",
       "  </tbody>\n",
       "</table>\n",
       "<p>5 rows × 128 columns</p>\n",
       "</div>"
      ],
      "text/plain": [
       "   RecordID  RECORD_NUM  VIR_CERT_NUMBER STATION_NUM ANALYZER_NUM  \\\n",
       "0    111260        7408        4486883.0       IS329         W036   \n",
       "1    138031         969        4437994.0       IS267         W014   \n",
       "2    298121         185              NaN       IR354         W109   \n",
       "3    369185        4569        4469421.0       IS359         W042   \n",
       "4    384955        1326        4492858.0       IS171         W052   \n",
       "\n",
       "  INSPECTOR_NUM TEST_TYPE VID_TEST_TYPE           TEST_SDATE  \\\n",
       "0      26351553         I             I  2004-12-16 10:57:00   \n",
       "1      17496701         I             I  2004-08-13 14:10:00   \n",
       "2      32641547         I           NaN  2004-08-31 13:03:00   \n",
       "3      11117229         I             I  2004-12-02 11:33:00   \n",
       "4      22095231         I             I  2004-12-29 17:00:00   \n",
       "\n",
       "            TEST_EDATE  ... MECHANIC_LAST_NAME MECHANIC_FIRST_NAME  \\\n",
       "0  2004-12-16 11:03:00  ...            SANCHEZ                 TIM   \n",
       "1  2004-08-13 14:12:00  ...           Trujillo               Vince   \n",
       "2  2004-08-31 13:03:00  ...           Anderson             Phillip   \n",
       "3  2004-12-02 11:39:00  ...             NGUYEN                 DUC   \n",
       "4  2004-12-29 17:03:00  ...             Nguyen               Kenny   \n",
       "\n",
       "  MECHANIC_MIDDLE_INIT  ENGINE_SIZE_ORIG  FAILED_IDLE_RPM  SENTTOVID  \\\n",
       "0                    J               NaN              NaN        0.0   \n",
       "1                  NaN               NaN              NaN        0.0   \n",
       "2                    L               NaN                T        0.0   \n",
       "3                  NaN               NaN              NaN        0.0   \n",
       "4                    T               NaN              NaN        0.0   \n",
       "\n",
       "  Station_License_Number Analyzer_Number      Insert_DateTime\\r  CAR_AGE  \n",
       "0                  IS329            W036  2006-01-12 21:19:17\\r       11  \n",
       "1                  IS394            W014  2006-01-13 17:43:30\\r        5  \n",
       "2                  IR354            W109  2006-01-24 09:07:03\\r       16  \n",
       "3                  IS404            W042  2006-01-26 17:03:05\\r       20  \n",
       "4                  IS171            W052  2006-01-31 16:06:03\\r        8  \n",
       "\n",
       "[5 rows x 128 columns]"
      ]
     },
     "execution_count": 8,
     "metadata": {},
     "output_type": "execute_result"
    }
   ],
   "source": [
    "# get car age\n",
    "df_subset = data_prep.get_car_age(df_subset)\n",
    "df_subset.head()"
   ]
  },
  {
   "cell_type": "code",
   "execution_count": 9,
   "metadata": {},
   "outputs": [
    {
     "data": {
      "text/plain": [
       "<matplotlib.axes._subplots.AxesSubplot at 0x21ecd927408>"
      ]
     },
     "execution_count": 9,
     "metadata": {},
     "output_type": "execute_result"
    },
    {
     "data": {
      "image/png": "[encoded data removed]",
      "text/plain": [
       "<Figure size 1008x432 with 1 Axes>"
      ]
     },
     "metadata": {
      "needs_background": "light"
     },
     "output_type": "display_data"
    }
   ],
   "source": [
    "fig, ax = plt.subplots(figsize=(14,6))\n",
    "df_subset.groupby('OVERALL_RESULT').size().sort_values(ascending=False).head(60).plot.bar()"
   ]
  },
  {
   "cell_type": "code",
   "execution_count": 10,
   "metadata": {},
   "outputs": [
    {
     "data": {
      "text/plain": [
       "P    316732\n",
       "F     30051\n",
       "A     28701\n",
       "O        10\n",
       "I         9\n",
       "Name: OVERALL_RESULT, dtype: int64"
      ]
     },
     "execution_count": 10,
     "metadata": {},
     "output_type": "execute_result"
    }
   ],
   "source": [
    "df_subset.OVERALL_RESULT.value_counts()"
   ]
  },
  {
   "cell_type": "code",
   "execution_count": 11,
   "metadata": {},
   "outputs": [],
   "source": [
    "# Keep rows with only P or F in OVERALL RESULT\n",
    "df_subset = data_prep.keep_pass_fail(df_subset)"
   ]
  },
  {
   "cell_type": "code",
   "execution_count": 12,
   "metadata": {
    "scrolled": false
   },
   "outputs": [
    {
     "data": {
      "text/plain": [
       "(346783, 128)"
      ]
     },
     "execution_count": 12,
     "metadata": {},
     "output_type": "execute_result"
    }
   ],
   "source": [
    "df_subset.shape"
   ]
  },
  {
   "cell_type": "markdown",
   "metadata": {},
   "source": [
    "### exploring variables"
   ]
  },
  {
   "cell_type": "code",
   "execution_count": 24,
   "metadata": {},
   "outputs": [],
   "source": [
    "#df_subset.OBDII_AFFECT_OVERALL.value_counts()"
   ]
  },
  {
   "cell_type": "code",
   "execution_count": 25,
   "metadata": {},
   "outputs": [],
   "source": [
    "#fig, ax = plt.subplots(figsize=(14,6))\n",
    "#df_subset.groupby('OBDII_AFFECT_OVERALL').size().sort_values(ascending=False).head(60).plot.bar()"
   ]
  },
  {
   "cell_type": "markdown",
   "metadata": {},
   "source": [
    "## Model without NaN\n",
    "Model with NaN doesn't run"
   ]
  },
  {
   "cell_type": "markdown",
   "metadata": {},
   "source": [
    "### exclude all columns with nan"
   ]
  },
  {
   "cell_type": "code",
   "execution_count": 15,
   "metadata": {},
   "outputs": [],
   "source": [
    "df_features = df_subset[['ESC',\n",
    " 'E_TEST_SEQUENCE',\n",
    " 'E_PRECOND_PROCEDURE',\n",
    " 'E_HIGH_DCF',\n",
    " 'E_HIGH_RPM',\n",
    " 'E_HIGH_CO2',\n",
    " 'E_HIGH_O2',\n",
    " 'E_HIGH_HC',\n",
    " 'E_HIGH_HC_DCF',\n",
    " 'E_HIGH_HC_LIMIT',\n",
    " 'E_HIGH_CO',\n",
    " 'E_HIGH_CO_DCF',\n",
    " 'E_HIGH_CO_LIMIT',\n",
    " 'E_IDLE_DCF',\n",
    " 'E_IDLE_RPM',\n",
    " 'E_IDLE_CO2',\n",
    " 'E_IDLE_O2',\n",
    " 'E_IDLE_HC',\n",
    " 'E_IDLE_HC_DCF',\n",
    " 'E_IDLE_HC_LIMIT',\n",
    " 'E_IDLE_CO',\n",
    " 'E_IDLE_CO_DCF',\n",
    " 'E_IDLE_CO_LIMIT',\n",
    " 'E_HIGH_DCF_2',\n",
    " 'E_HIGH_RPM_2',\n",
    " 'E_HIGH_CO2_2',\n",
    " 'E_HIGH_O2_2',\n",
    " 'E_HIGH_HC_2',\n",
    " 'E_HIGH_HC_DCF_2',\n",
    " 'E_HIGH_CO_2',\n",
    " 'E_HIGH_CO_DCF_2',\n",
    " 'E_IDLE_DCF_2',\n",
    " 'E_IDLE_RPM_2',\n",
    " 'E_IDLE_CO2_2',\n",
    " 'E_IDLE_O2_2',\n",
    " 'E_IDLE_HC_2',\n",
    " 'E_IDLE_HC_DCF_2',\n",
    " 'E_IDLE_CO_2',\n",
    " 'E_IDLE_CO_DCF_2',\n",
    " 'E_RESULT_STRING',\n",
    " 'V_SMOKE1',\n",
    " 'V_SMOKE2',\n",
    " 'V_GASCAP',\n",
    " 'V_CAT',\n",
    " 'V_RESULT',\n",
    " 'ONLINE_STATUS',\n",
    " 'E_HIGH_CO_RESULT',\n",
    " 'E_HIGH_HC_RESULT',\n",
    " 'E_IDLE_CO_RESULT',\n",
    " 'E_IDLE_HC_RESULT']]"
   ]
  },
  {
   "cell_type": "code",
   "execution_count": 16,
   "metadata": {},
   "outputs": [],
   "source": [
    "not_nan_cols = [i for i in df_features.columns if df_features[i].notna().all()]"
   ]
  },
  {
   "cell_type": "code",
   "execution_count": 17,
   "metadata": {},
   "outputs": [
    {
     "data": {
      "text/plain": [
       "['ESC',\n",
       " 'E_TEST_SEQUENCE',\n",
       " 'E_PRECOND_PROCEDURE',\n",
       " 'E_HIGH_DCF',\n",
       " 'E_HIGH_RPM',\n",
       " 'E_HIGH_CO2',\n",
       " 'E_HIGH_O2',\n",
       " 'E_HIGH_HC',\n",
       " 'E_HIGH_HC_DCF',\n",
       " 'E_HIGH_HC_LIMIT',\n",
       " 'E_HIGH_CO',\n",
       " 'E_HIGH_CO_DCF',\n",
       " 'E_HIGH_CO_LIMIT',\n",
       " 'E_IDLE_DCF',\n",
       " 'E_IDLE_RPM',\n",
       " 'E_IDLE_CO2',\n",
       " 'E_IDLE_O2',\n",
       " 'E_IDLE_HC',\n",
       " 'E_IDLE_HC_DCF',\n",
       " 'E_IDLE_HC_LIMIT',\n",
       " 'E_IDLE_CO',\n",
       " 'E_IDLE_CO_DCF',\n",
       " 'E_IDLE_CO_LIMIT',\n",
       " 'E_HIGH_DCF_2',\n",
       " 'E_HIGH_RPM_2',\n",
       " 'E_HIGH_CO2_2',\n",
       " 'E_HIGH_O2_2',\n",
       " 'E_HIGH_HC_2',\n",
       " 'E_HIGH_HC_DCF_2',\n",
       " 'E_HIGH_CO_2',\n",
       " 'E_HIGH_CO_DCF_2',\n",
       " 'E_IDLE_DCF_2',\n",
       " 'E_IDLE_RPM_2',\n",
       " 'E_IDLE_CO2_2',\n",
       " 'E_IDLE_O2_2',\n",
       " 'E_IDLE_HC_2',\n",
       " 'E_IDLE_HC_DCF_2',\n",
       " 'E_IDLE_CO_2',\n",
       " 'E_IDLE_CO_DCF_2',\n",
       " 'E_RESULT_STRING',\n",
       " 'V_SMOKE1',\n",
       " 'V_SMOKE2',\n",
       " 'V_GASCAP',\n",
       " 'V_CAT',\n",
       " 'V_RESULT',\n",
       " 'ONLINE_STATUS',\n",
       " 'E_HIGH_CO_RESULT',\n",
       " 'E_HIGH_HC_RESULT',\n",
       " 'E_IDLE_CO_RESULT',\n",
       " 'E_IDLE_HC_RESULT']"
      ]
     },
     "execution_count": 17,
     "metadata": {},
     "output_type": "execute_result"
    }
   ],
   "source": [
    "not_nan_cols"
   ]
  },
  {
   "cell_type": "code",
   "execution_count": 18,
   "metadata": {},
   "outputs": [],
   "source": [
    "target = data_prep.encode_target(df_subset[\"OVERALL_RESULT\"])"
   ]
  },
  {
   "cell_type": "code",
   "execution_count": 19,
   "metadata": {},
   "outputs": [
    {
     "name": "stdout",
     "output_type": "stream",
     "text": [
      "['E_RESULT_STRING', 'V_SMOKE1', 'V_SMOKE2', 'V_GASCAP', 'V_CAT', 'V_RESULT', 'E_HIGH_CO_RESULT', 'E_HIGH_HC_RESULT', 'E_IDLE_CO_RESULT', 'E_IDLE_HC_RESULT']\n"
     ]
    }
   ],
   "source": [
    "# find out which of the df_features variables are categorical (\"object\") to be able to \"dummy\" them\n",
    "df_obj = df_features.select_dtypes(include=['object'])\n",
    "cols = df_obj.columns.tolist()\n",
    "print(cols)"
   ]
  },
  {
   "cell_type": "code",
   "execution_count": 20,
   "metadata": {},
   "outputs": [],
   "source": [
    "# 2. attempt: dont use V, only result\n",
    "cat_features = ['E_RESULT_STRING', 'V_SMOKE1', 'V_SMOKE2', 'V_GASCAP', 'V_CAT', 'V_RESULT', 'E_HIGH_CO_RESULT', 'E_HIGH_HC_RESULT', 'E_IDLE_CO_RESULT', 'E_IDLE_HC_RESULT']\n",
    "#cat_features = ['E_RESULT_STRING', 'V_SMOKE1', 'V_SMOKE2', 'V_GASCAP', 'V_CAT', 'V_RESULT', 'KOEO_RESULT', 'KOER_RESULT', 'OBD_RDY_RESULT', 'OBD_FLT_CODES', 'OBD_FLT_RESULT', 'OBD_RESULT', 'R_EGR', 'R_ELECTRICAL', 'R_EVAP_CONTROL', 'R_EXHAUST', 'R_IGNITION', 'R_INTAKE', 'R_ENGINE', 'R_PCV', 'OBDII_AFFECT_OVERALL', 'E_HIGH_CO_RESULT', 'E_HIGH_HC_RESULT', 'E_IDLE_CO_RESULT', 'E_IDLE_HC_RESULT', 'FAILED_IDLE_RPM']\n",
    "\n",
    "features_train, features_test, target_train, target_test = data_prep.encode_split_data(cat_features,\n",
    "                                                                                    data = df_features,\n",
    "                                                                                    target_series = target,\n",
    "                                                                                    train_size = .7,\n",
    "                                                                                    random_state=42)"
   ]
  },
  {
   "cell_type": "code",
   "execution_count": 22,
   "metadata": {},
   "outputs": [
    {
     "name": "stdout",
     "output_type": "stream",
     "text": [
      "              precision    recall  f1-score   support\n",
      "\n",
      "           0       0.96      0.92      0.94     95092\n",
      "           1       0.40      0.56      0.46      8943\n",
      "\n",
      "    accuracy                           0.89    104035\n",
      "   macro avg       0.68      0.74      0.70    104035\n",
      "weighted avg       0.91      0.89      0.90    104035\n",
      "\n",
      "ROC AUC Score is 0.8345245518903759\n",
      "Cross-validation scores: [0.83621627 0.84027376 0.84064954 0.83780761 0.84327574]\n",
      "Mean cross-validation score: 0.84\n"
     ]
    },
    {
     "data": {
      "text/plain": [
       "Pipeline(steps=[('minmaxscaler', MinMaxScaler()),\n",
       "                ('logisticregression',\n",
       "                 LogisticRegression(class_weight='balanced', max_iter=1000,\n",
       "                                    random_state=42))])"
      ]
     },
     "execution_count": 22,
     "metadata": {},
     "output_type": "execute_result"
    },
    {
     "data": {
      "image/png": "[encoded data removed]",
      "text/plain": [
       "<Figure size 432x288 with 2 Axes>"
      ]
     },
     "metadata": {
      "needs_background": "light"
     },
     "output_type": "display_data"
    }
   ],
   "source": [
    "baseline_model.run_baseline_model(features_train, \n",
    "                                features_test, \n",
    "                                target_train, \n",
    "                                target_test, \n",
    "                                model = \"logreg\", \n",
    "                                random_state=42, \n",
    "                                class_weight=\"balanced\",\n",
    "                                 max_iter=1000)"
   ]
  },
  {
   "cell_type": "code",
   "execution_count": 113,
   "metadata": {},
   "outputs": [
    {
     "data": {
      "text/plain": [
       "ANALYZER_NUM                0.003460\n",
       "VID_TEST_TYPE              16.189375\n",
       "VEH_LICENSE                 0.016148\n",
       "GVW_TYPE                    0.010093\n",
       "MODEL                       0.001730\n",
       "EMISS_COST                  0.036046\n",
       "KOEO_RESULT                15.261994\n",
       "KOER_RESULT                15.561028\n",
       "OBD_RDY_MISFIRE            15.489225\n",
       "OBD_RDY_FUEL               15.489225\n",
       "OBD_RDY_COMPONENT          15.489225\n",
       "OBD_RDY_CAT                15.489225\n",
       "OBD_RDY_CAT_HEATED         15.489225\n",
       "OBD_RDY_EVAP               15.489225\n",
       "OBD_RDY_SEC_AIR            15.489225\n",
       "OBD_RDY_AIR_COND           15.489225\n",
       "OBD_RDY_O2_SENSOR          15.489225\n",
       "OBD_RDY_O2_HEATER          15.489225\n",
       "OBD_RDY_EGR                15.489225\n",
       "OBD_RDY_RESULT             15.489225\n",
       "OBD_PID                    15.437896\n",
       "OBD_PCM_ID                 16.845981\n",
       "OBD_VIN                    48.574469\n",
       "OBD_FLT_CODES              91.834663\n",
       "OBD_FLT_RESULT             15.422325\n",
       "OBD_MIL_STATUS             15.494416\n",
       "OBD_RESULT                 15.276412\n",
       "ABORT_CODE                100.000000\n",
       "INSP_COMMENTS             100.000000\n",
       "R_TOTAL_COST               97.050893\n",
       "R_EGR                      99.871678\n",
       "R_ELECTRICAL               99.770173\n",
       "R_EVAP_CONTROL             99.435959\n",
       "R_EXHAUST                  99.841111\n",
       "R_IGNITION                 99.702696\n",
       "R_INTAKE                   99.629451\n",
       "R_ENGINE                   99.948671\n",
       "R_PCV                      99.956457\n",
       "R_OTHER                    98.354014\n",
       "ABORT_CODE_OTHER_DESC      99.934253\n",
       "OBDII_AFFECT_OVERALL       30.699602\n",
       "MECHANIC_MIDDLE_INIT        6.191192\n",
       "ENGINE_SIZE_ORIG           75.790912\n",
       "FAILED_IDLE_RPM            99.681357\n",
       "Station_License_Number      0.083914\n",
       "Analyzer_Number             0.089681\n",
       "dtype: float64"
      ]
     },
     "execution_count": 113,
     "metadata": {},
     "output_type": "execute_result"
    }
   ],
   "source": [
    "df_subset[df_subset.columns[df_subset.isnull().any()]].isnull().sum() * 100 / df_subset.shape[0]"
   ]
  },
  {
   "cell_type": "code",
   "execution_count": 115,
   "metadata": {},
   "outputs": [
    {
     "data": {
      "text/plain": [
       "KOEO_RESULT              15.261994\n",
       "KOER_RESULT              15.561028\n",
       "OBD_RDY_MISFIRE          15.489225\n",
       "OBD_RDY_FUEL             15.489225\n",
       "OBD_RDY_COMPONENT        15.489225\n",
       "OBD_RDY_CAT              15.489225\n",
       "OBD_RDY_CAT_HEATED       15.489225\n",
       "OBD_RDY_EVAP             15.489225\n",
       "OBD_RDY_SEC_AIR          15.489225\n",
       "OBD_RDY_AIR_COND         15.489225\n",
       "OBD_RDY_O2_SENSOR        15.489225\n",
       "OBD_RDY_O2_HEATER        15.489225\n",
       "OBD_RDY_EGR              15.489225\n",
       "OBD_RDY_RESULT           15.489225\n",
       "OBD_PID                  15.437896\n",
       "OBD_FLT_CODES            91.834663\n",
       "OBD_FLT_RESULT           15.422325\n",
       "OBD_MIL_STATUS           15.494416\n",
       "OBD_RESULT               15.276412\n",
       "ABORT_CODE              100.000000\n",
       "R_TOTAL_COST             97.050893\n",
       "R_EGR                    99.871678\n",
       "R_ELECTRICAL             99.770173\n",
       "R_EVAP_CONTROL           99.435959\n",
       "R_EXHAUST                99.841111\n",
       "R_IGNITION               99.702696\n",
       "R_INTAKE                 99.629451\n",
       "R_ENGINE                 99.948671\n",
       "R_PCV                    99.956457\n",
       "OBDII_AFFECT_OVERALL     30.699602\n",
       "FAILED_IDLE_RPM          99.681357\n",
       "dtype: float64"
      ]
     },
     "execution_count": 115,
     "metadata": {},
     "output_type": "execute_result"
    }
   ],
   "source": [
    "df_features[df_features.columns[df_features.isnull().any()]].isnull().sum() * 100 / df_features.shape[0]"
   ]
  },
  {
   "cell_type": "markdown",
   "metadata": {},
   "source": [
    "## Model with unique vin\n",
    "all repeated measurements of cars are deleted"
   ]
  },
  {
   "cell_type": "code",
   "execution_count": 36,
   "metadata": {},
   "outputs": [
    {
     "data": {
      "text/plain": [
       "<matplotlib.axes._subplots.AxesSubplot at 0x21e8808dc48>"
      ]
     },
     "execution_count": 36,
     "metadata": {},
     "output_type": "execute_result"
    },
    {
     "data": {
      "image/png": "[encoded data removed]",
      "text/plain": [
       "<Figure size 1008x432 with 1 Axes>"
      ]
     },
     "metadata": {
      "needs_background": "light"
     },
     "output_type": "display_data"
    }
   ],
   "source": [
    "fig, ax = plt.subplots(figsize=(14,6))\n",
    "df_subset.groupby('VIN').size().sort_values(ascending=False).head(60).plot.bar()"
   ]
  },
  {
   "cell_type": "code",
   "execution_count": 37,
   "metadata": {},
   "outputs": [],
   "source": [
    "df_vin=df_subset.drop_duplicates(['VIN'])"
   ]
  },
  {
   "cell_type": "code",
   "execution_count": 38,
   "metadata": {},
   "outputs": [
    {
     "data": {
      "text/html": [
       "<div>\n",
       "<style scoped>\n",
       "    .dataframe tbody tr th:only-of-type {\n",
       "        vertical-align: middle;\n",
       "    }\n",
       "\n",
       "    .dataframe tbody tr th {\n",
       "        vertical-align: top;\n",
       "    }\n",
       "\n",
       "    .dataframe thead th {\n",
       "        text-align: right;\n",
       "    }\n",
       "</style>\n",
       "<table border=\"1\" class=\"dataframe\">\n",
       "  <thead>\n",
       "    <tr style=\"text-align: right;\">\n",
       "      <th></th>\n",
       "      <th>RecordID</th>\n",
       "      <th>RECORD_NUM</th>\n",
       "      <th>VIR_CERT_NUMBER</th>\n",
       "      <th>STATION_NUM</th>\n",
       "      <th>ANALYZER_NUM</th>\n",
       "      <th>INSPECTOR_NUM</th>\n",
       "      <th>TEST_TYPE</th>\n",
       "      <th>VID_TEST_TYPE</th>\n",
       "      <th>TEST_SDATE</th>\n",
       "      <th>TEST_EDATE</th>\n",
       "      <th>...</th>\n",
       "      <th>MECHANIC_LAST_NAME</th>\n",
       "      <th>MECHANIC_FIRST_NAME</th>\n",
       "      <th>MECHANIC_MIDDLE_INIT</th>\n",
       "      <th>ENGINE_SIZE_ORIG</th>\n",
       "      <th>FAILED_IDLE_RPM</th>\n",
       "      <th>SENTTOVID</th>\n",
       "      <th>Station_License_Number</th>\n",
       "      <th>Analyzer_Number</th>\n",
       "      <th>Insert_DateTime\\r</th>\n",
       "      <th>CAR_AGE</th>\n",
       "    </tr>\n",
       "  </thead>\n",
       "  <tbody>\n",
       "    <tr>\n",
       "      <th>0</th>\n",
       "      <td>111260</td>\n",
       "      <td>7408</td>\n",
       "      <td>4486883.0</td>\n",
       "      <td>IS329</td>\n",
       "      <td>W036</td>\n",
       "      <td>26351553</td>\n",
       "      <td>I</td>\n",
       "      <td>I</td>\n",
       "      <td>2004-12-16 10:57:00</td>\n",
       "      <td>2004-12-16 11:03:00</td>\n",
       "      <td>...</td>\n",
       "      <td>SANCHEZ</td>\n",
       "      <td>TIM</td>\n",
       "      <td>J</td>\n",
       "      <td>NaN</td>\n",
       "      <td>NaN</td>\n",
       "      <td>0.0</td>\n",
       "      <td>IS329</td>\n",
       "      <td>W036</td>\n",
       "      <td>2006-01-12 21:19:17\\r</td>\n",
       "      <td>11</td>\n",
       "    </tr>\n",
       "    <tr>\n",
       "      <th>1</th>\n",
       "      <td>138031</td>\n",
       "      <td>969</td>\n",
       "      <td>4437994.0</td>\n",
       "      <td>IS267</td>\n",
       "      <td>W014</td>\n",
       "      <td>17496701</td>\n",
       "      <td>I</td>\n",
       "      <td>I</td>\n",
       "      <td>2004-08-13 14:10:00</td>\n",
       "      <td>2004-08-13 14:12:00</td>\n",
       "      <td>...</td>\n",
       "      <td>Trujillo</td>\n",
       "      <td>Vince</td>\n",
       "      <td>NaN</td>\n",
       "      <td>NaN</td>\n",
       "      <td>NaN</td>\n",
       "      <td>0.0</td>\n",
       "      <td>IS394</td>\n",
       "      <td>W014</td>\n",
       "      <td>2006-01-13 17:43:30\\r</td>\n",
       "      <td>5</td>\n",
       "    </tr>\n",
       "    <tr>\n",
       "      <th>3</th>\n",
       "      <td>369185</td>\n",
       "      <td>4569</td>\n",
       "      <td>4469421.0</td>\n",
       "      <td>IS359</td>\n",
       "      <td>W042</td>\n",
       "      <td>11117229</td>\n",
       "      <td>I</td>\n",
       "      <td>I</td>\n",
       "      <td>2004-12-02 11:33:00</td>\n",
       "      <td>2004-12-02 11:39:00</td>\n",
       "      <td>...</td>\n",
       "      <td>NGUYEN</td>\n",
       "      <td>DUC</td>\n",
       "      <td>NaN</td>\n",
       "      <td>NaN</td>\n",
       "      <td>NaN</td>\n",
       "      <td>0.0</td>\n",
       "      <td>IS404</td>\n",
       "      <td>W042</td>\n",
       "      <td>2006-01-26 17:03:05\\r</td>\n",
       "      <td>20</td>\n",
       "    </tr>\n",
       "    <tr>\n",
       "      <th>4</th>\n",
       "      <td>384955</td>\n",
       "      <td>1326</td>\n",
       "      <td>4492858.0</td>\n",
       "      <td>IS171</td>\n",
       "      <td>W052</td>\n",
       "      <td>22095231</td>\n",
       "      <td>I</td>\n",
       "      <td>I</td>\n",
       "      <td>2004-12-29 17:00:00</td>\n",
       "      <td>2004-12-29 17:03:00</td>\n",
       "      <td>...</td>\n",
       "      <td>Nguyen</td>\n",
       "      <td>Kenny</td>\n",
       "      <td>T</td>\n",
       "      <td>NaN</td>\n",
       "      <td>NaN</td>\n",
       "      <td>0.0</td>\n",
       "      <td>IS171</td>\n",
       "      <td>W052</td>\n",
       "      <td>2006-01-31 16:06:03\\r</td>\n",
       "      <td>8</td>\n",
       "    </tr>\n",
       "    <tr>\n",
       "      <th>5</th>\n",
       "      <td>163546</td>\n",
       "      <td>271</td>\n",
       "      <td>4427054.0</td>\n",
       "      <td>IS139</td>\n",
       "      <td>W102</td>\n",
       "      <td>23867222</td>\n",
       "      <td>I</td>\n",
       "      <td>I</td>\n",
       "      <td>2004-07-23 11:10:00</td>\n",
       "      <td>2004-07-23 11:12:00</td>\n",
       "      <td>...</td>\n",
       "      <td>FRIEND</td>\n",
       "      <td>RICHARD</td>\n",
       "      <td>NaN</td>\n",
       "      <td>NaN</td>\n",
       "      <td>NaN</td>\n",
       "      <td>0.0</td>\n",
       "      <td>IS139</td>\n",
       "      <td>W102</td>\n",
       "      <td>2006-01-17 16:38:37\\r</td>\n",
       "      <td>4</td>\n",
       "    </tr>\n",
       "    <tr>\n",
       "      <th>...</th>\n",
       "      <td>...</td>\n",
       "      <td>...</td>\n",
       "      <td>...</td>\n",
       "      <td>...</td>\n",
       "      <td>...</td>\n",
       "      <td>...</td>\n",
       "      <td>...</td>\n",
       "      <td>...</td>\n",
       "      <td>...</td>\n",
       "      <td>...</td>\n",
       "      <td>...</td>\n",
       "      <td>...</td>\n",
       "      <td>...</td>\n",
       "      <td>...</td>\n",
       "      <td>...</td>\n",
       "      <td>...</td>\n",
       "      <td>...</td>\n",
       "      <td>...</td>\n",
       "      <td>...</td>\n",
       "      <td>...</td>\n",
       "      <td>...</td>\n",
       "    </tr>\n",
       "    <tr>\n",
       "      <th>375487</th>\n",
       "      <td>4587936</td>\n",
       "      <td>9570</td>\n",
       "      <td>8812838.0</td>\n",
       "      <td>IS455</td>\n",
       "      <td>W103</td>\n",
       "      <td>AC086107</td>\n",
       "      <td>I</td>\n",
       "      <td>NaN</td>\n",
       "      <td>2019-12-31 14:10:19</td>\n",
       "      <td>2019-12-31 14:11:59</td>\n",
       "      <td>...</td>\n",
       "      <td>HICKS</td>\n",
       "      <td>JOHN</td>\n",
       "      <td>L</td>\n",
       "      <td>NaN</td>\n",
       "      <td>NaN</td>\n",
       "      <td>0.0</td>\n",
       "      <td>IS455</td>\n",
       "      <td>W103</td>\n",
       "      <td>2019-12-31 13:12:52\\r</td>\n",
       "      <td>5</td>\n",
       "    </tr>\n",
       "    <tr>\n",
       "      <th>375491</th>\n",
       "      <td>4588003</td>\n",
       "      <td>4327</td>\n",
       "      <td>8821821.0</td>\n",
       "      <td>IS397</td>\n",
       "      <td>W165</td>\n",
       "      <td>AC086625</td>\n",
       "      <td>I</td>\n",
       "      <td>NaN</td>\n",
       "      <td>2019-12-31 14:50:15</td>\n",
       "      <td>2019-12-31 14:54:41</td>\n",
       "      <td>...</td>\n",
       "      <td>VALADEZRODRIGUEZ</td>\n",
       "      <td>MARCOS</td>\n",
       "      <td>NaN</td>\n",
       "      <td>3.6L</td>\n",
       "      <td>NaN</td>\n",
       "      <td>0.0</td>\n",
       "      <td>IS397</td>\n",
       "      <td>W165</td>\n",
       "      <td>2019-12-31 13:57:30\\r</td>\n",
       "      <td>5</td>\n",
       "    </tr>\n",
       "    <tr>\n",
       "      <th>375494</th>\n",
       "      <td>4588071</td>\n",
       "      <td>4328</td>\n",
       "      <td>8821822.0</td>\n",
       "      <td>IS397</td>\n",
       "      <td>W165</td>\n",
       "      <td>AC086625</td>\n",
       "      <td>I</td>\n",
       "      <td>NaN</td>\n",
       "      <td>2019-12-31 15:40:19</td>\n",
       "      <td>2019-12-31 15:45:25</td>\n",
       "      <td>...</td>\n",
       "      <td>VALADEZRODRIGUEZ</td>\n",
       "      <td>MARCOS</td>\n",
       "      <td>NaN</td>\n",
       "      <td>2.0L</td>\n",
       "      <td>NaN</td>\n",
       "      <td>0.0</td>\n",
       "      <td>IS397</td>\n",
       "      <td>W165</td>\n",
       "      <td>2019-12-31 14:49:42\\r</td>\n",
       "      <td>4</td>\n",
       "    </tr>\n",
       "    <tr>\n",
       "      <th>375495</th>\n",
       "      <td>4588092</td>\n",
       "      <td>478</td>\n",
       "      <td>8808641.0</td>\n",
       "      <td>IR044</td>\n",
       "      <td>W780</td>\n",
       "      <td>AC083775</td>\n",
       "      <td>I</td>\n",
       "      <td>NaN</td>\n",
       "      <td>2019-12-31 15:59:13</td>\n",
       "      <td>2019-12-31 16:02:14</td>\n",
       "      <td>...</td>\n",
       "      <td>NGUYEN</td>\n",
       "      <td>DUC</td>\n",
       "      <td>D</td>\n",
       "      <td>1.8L</td>\n",
       "      <td>NaN</td>\n",
       "      <td>0.0</td>\n",
       "      <td>IR044</td>\n",
       "      <td>W780</td>\n",
       "      <td>2019-12-31 15:03:01\\r</td>\n",
       "      <td>6</td>\n",
       "    </tr>\n",
       "    <tr>\n",
       "      <th>375497</th>\n",
       "      <td>4588145</td>\n",
       "      <td>4381</td>\n",
       "      <td>8821021.0</td>\n",
       "      <td>IS497</td>\n",
       "      <td>W042</td>\n",
       "      <td>AC084266</td>\n",
       "      <td>I</td>\n",
       "      <td>NaN</td>\n",
       "      <td>2019-12-31 16:58:15</td>\n",
       "      <td>2019-12-31 17:01:09</td>\n",
       "      <td>...</td>\n",
       "      <td>Allen</td>\n",
       "      <td>Michael</td>\n",
       "      <td>S</td>\n",
       "      <td>NaN</td>\n",
       "      <td>NaN</td>\n",
       "      <td>0.0</td>\n",
       "      <td>IS497</td>\n",
       "      <td>W042</td>\n",
       "      <td>2019-12-31 16:03:03\\r</td>\n",
       "      <td>5</td>\n",
       "    </tr>\n",
       "  </tbody>\n",
       "</table>\n",
       "<p>127791 rows × 128 columns</p>\n",
       "</div>"
      ],
      "text/plain": [
       "        RecordID  RECORD_NUM  VIR_CERT_NUMBER STATION_NUM ANALYZER_NUM  \\\n",
       "0         111260        7408        4486883.0       IS329         W036   \n",
       "1         138031         969        4437994.0       IS267         W014   \n",
       "3         369185        4569        4469421.0       IS359         W042   \n",
       "4         384955        1326        4492858.0       IS171         W052   \n",
       "5         163546         271        4427054.0       IS139         W102   \n",
       "...          ...         ...              ...         ...          ...   \n",
       "375487   4587936        9570        8812838.0       IS455         W103   \n",
       "375491   4588003        4327        8821821.0       IS397         W165   \n",
       "375494   4588071        4328        8821822.0       IS397         W165   \n",
       "375495   4588092         478        8808641.0       IR044         W780   \n",
       "375497   4588145        4381        8821021.0       IS497         W042   \n",
       "\n",
       "       INSPECTOR_NUM TEST_TYPE VID_TEST_TYPE           TEST_SDATE  \\\n",
       "0           26351553         I             I  2004-12-16 10:57:00   \n",
       "1           17496701         I             I  2004-08-13 14:10:00   \n",
       "3           11117229         I             I  2004-12-02 11:33:00   \n",
       "4           22095231         I             I  2004-12-29 17:00:00   \n",
       "5           23867222         I             I  2004-07-23 11:10:00   \n",
       "...              ...       ...           ...                  ...   \n",
       "375487      AC086107         I           NaN  2019-12-31 14:10:19   \n",
       "375491      AC086625         I           NaN  2019-12-31 14:50:15   \n",
       "375494      AC086625         I           NaN  2019-12-31 15:40:19   \n",
       "375495      AC083775         I           NaN  2019-12-31 15:59:13   \n",
       "375497      AC084266         I           NaN  2019-12-31 16:58:15   \n",
       "\n",
       "                 TEST_EDATE  ... MECHANIC_LAST_NAME MECHANIC_FIRST_NAME  \\\n",
       "0       2004-12-16 11:03:00  ...            SANCHEZ                 TIM   \n",
       "1       2004-08-13 14:12:00  ...           Trujillo               Vince   \n",
       "3       2004-12-02 11:39:00  ...             NGUYEN                 DUC   \n",
       "4       2004-12-29 17:03:00  ...             Nguyen               Kenny   \n",
       "5       2004-07-23 11:12:00  ...             FRIEND             RICHARD   \n",
       "...                     ...  ...                ...                 ...   \n",
       "375487  2019-12-31 14:11:59  ...              HICKS                JOHN   \n",
       "375491  2019-12-31 14:54:41  ...   VALADEZRODRIGUEZ              MARCOS   \n",
       "375494  2019-12-31 15:45:25  ...   VALADEZRODRIGUEZ              MARCOS   \n",
       "375495  2019-12-31 16:02:14  ...             NGUYEN                 DUC   \n",
       "375497  2019-12-31 17:01:09  ...              Allen             Michael   \n",
       "\n",
       "       MECHANIC_MIDDLE_INIT  ENGINE_SIZE_ORIG  FAILED_IDLE_RPM  SENTTOVID  \\\n",
       "0                         J               NaN              NaN        0.0   \n",
       "1                       NaN               NaN              NaN        0.0   \n",
       "3                       NaN               NaN              NaN        0.0   \n",
       "4                         T               NaN              NaN        0.0   \n",
       "5                       NaN               NaN              NaN        0.0   \n",
       "...                     ...               ...              ...        ...   \n",
       "375487                    L               NaN              NaN        0.0   \n",
       "375491                  NaN              3.6L              NaN        0.0   \n",
       "375494                  NaN              2.0L              NaN        0.0   \n",
       "375495                    D              1.8L              NaN        0.0   \n",
       "375497                    S               NaN              NaN        0.0   \n",
       "\n",
       "       Station_License_Number Analyzer_Number      Insert_DateTime\\r  CAR_AGE  \n",
       "0                       IS329            W036  2006-01-12 21:19:17\\r       11  \n",
       "1                       IS394            W014  2006-01-13 17:43:30\\r        5  \n",
       "3                       IS404            W042  2006-01-26 17:03:05\\r       20  \n",
       "4                       IS171            W052  2006-01-31 16:06:03\\r        8  \n",
       "5                       IS139            W102  2006-01-17 16:38:37\\r        4  \n",
       "...                       ...             ...                    ...      ...  \n",
       "375487                  IS455            W103  2019-12-31 13:12:52\\r        5  \n",
       "375491                  IS397            W165  2019-12-31 13:57:30\\r        5  \n",
       "375494                  IS397            W165  2019-12-31 14:49:42\\r        4  \n",
       "375495                  IR044            W780  2019-12-31 15:03:01\\r        6  \n",
       "375497                  IS497            W042  2019-12-31 16:03:03\\r        5  \n",
       "\n",
       "[127791 rows x 128 columns]"
      ]
     },
     "execution_count": 38,
     "metadata": {},
     "output_type": "execute_result"
    }
   ],
   "source": [
    "df_vin"
   ]
  },
  {
   "cell_type": "code",
   "execution_count": 39,
   "metadata": {},
   "outputs": [
    {
     "data": {
      "text/plain": [
       "(346783, 128)"
      ]
     },
     "execution_count": 39,
     "metadata": {},
     "output_type": "execute_result"
    }
   ],
   "source": [
    "df_subset.shape"
   ]
  },
  {
   "cell_type": "code",
   "execution_count": 40,
   "metadata": {},
   "outputs": [
    {
     "data": {
      "text/plain": [
       "(127791, 128)"
      ]
     },
     "execution_count": 40,
     "metadata": {},
     "output_type": "execute_result"
    }
   ],
   "source": [
    "df_vin.shape"
   ]
  },
  {
   "cell_type": "code",
   "execution_count": 41,
   "metadata": {},
   "outputs": [],
   "source": [
    "target = data_prep.encode_target(df_vin[\"OVERALL_RESULT\"])"
   ]
  },
  {
   "cell_type": "code",
   "execution_count": 42,
   "metadata": {},
   "outputs": [],
   "source": [
    "df_features = df_vin[['ESC',\n",
    " 'E_TEST_SEQUENCE',\n",
    " 'E_PRECOND_PROCEDURE',\n",
    " 'E_HIGH_DCF',\n",
    " 'E_HIGH_RPM',\n",
    " 'E_HIGH_CO2',\n",
    " 'E_HIGH_O2',\n",
    " 'E_HIGH_HC',\n",
    " 'E_HIGH_HC_DCF',\n",
    " 'E_HIGH_HC_LIMIT',\n",
    " 'E_HIGH_CO',\n",
    " 'E_HIGH_CO_DCF',\n",
    " 'E_HIGH_CO_LIMIT',\n",
    " 'E_IDLE_DCF',\n",
    " 'E_IDLE_RPM',\n",
    " 'E_IDLE_CO2',\n",
    " 'E_IDLE_O2',\n",
    " 'E_IDLE_HC',\n",
    " 'E_IDLE_HC_DCF',\n",
    " 'E_IDLE_HC_LIMIT',\n",
    " 'E_IDLE_CO',\n",
    " 'E_IDLE_CO_DCF',\n",
    " 'E_IDLE_CO_LIMIT',\n",
    " 'E_HIGH_DCF_2',\n",
    " 'E_HIGH_RPM_2',\n",
    " 'E_HIGH_CO2_2',\n",
    " 'E_HIGH_O2_2',\n",
    " 'E_HIGH_HC_2',\n",
    " 'E_HIGH_HC_DCF_2',\n",
    " 'E_HIGH_CO_2',\n",
    " 'E_HIGH_CO_DCF_2',\n",
    " 'E_IDLE_DCF_2',\n",
    " 'E_IDLE_RPM_2',\n",
    " 'E_IDLE_CO2_2',\n",
    " 'E_IDLE_O2_2',\n",
    " 'E_IDLE_HC_2',\n",
    " 'E_IDLE_HC_DCF_2',\n",
    " 'E_IDLE_CO_2',\n",
    " 'E_IDLE_CO_DCF_2',\n",
    " 'E_RESULT_STRING',\n",
    " 'V_SMOKE1',\n",
    " 'V_SMOKE2',\n",
    " 'V_GASCAP',\n",
    " 'V_CAT',\n",
    " 'V_RESULT',\n",
    " 'ONLINE_STATUS',\n",
    " 'E_HIGH_CO_RESULT',\n",
    " 'E_HIGH_HC_RESULT',\n",
    " 'E_IDLE_CO_RESULT',\n",
    " 'E_IDLE_HC_RESULT']]"
   ]
  },
  {
   "cell_type": "code",
   "execution_count": 43,
   "metadata": {},
   "outputs": [],
   "source": [
    "cat_features = ['E_RESULT_STRING', 'V_SMOKE1', 'V_SMOKE2', 'V_GASCAP', 'V_CAT', 'V_RESULT', 'E_HIGH_CO_RESULT', 'E_HIGH_HC_RESULT', 'E_IDLE_CO_RESULT', 'E_IDLE_HC_RESULT']\n",
    "\n",
    "features_train, features_test, target_train, target_test = data_prep.encode_split_data(cat_features,\n",
    "                                                                                    data = df_features,\n",
    "                                                                                    target_series = target,\n",
    "                                                                                    train_size = .7,\n",
    "                                                                                    random_state=42)"
   ]
  },
  {
   "cell_type": "code",
   "execution_count": 44,
   "metadata": {},
   "outputs": [
    {
     "name": "stdout",
     "output_type": "stream",
     "text": [
      "              precision    recall  f1-score   support\n",
      "\n",
      "           0       0.98      0.93      0.95     36069\n",
      "           1       0.37      0.67      0.48      2269\n",
      "\n",
      "    accuracy                           0.91     38338\n",
      "   macro avg       0.68      0.80      0.72     38338\n",
      "weighted avg       0.94      0.91      0.92     38338\n",
      "\n",
      "ROC AUC Score is 0.8772584476785295\n",
      "Cross-validation scores: [0.87706436 0.88541804 0.88887912 0.88326125 0.87881103]\n",
      "Mean cross-validation score: 0.88\n"
     ]
    },
    {
     "data": {
      "text/plain": [
       "Pipeline(steps=[('minmaxscaler', MinMaxScaler()),\n",
       "                ('logisticregression',\n",
       "                 LogisticRegression(class_weight='balanced', max_iter=1000,\n",
       "                                    random_state=42))])"
      ]
     },
     "execution_count": 44,
     "metadata": {},
     "output_type": "execute_result"
    },
    {
     "data": {
      "image/png": "[encoded data removed]",
      "text/plain": [
       "<Figure size 432x288 with 2 Axes>"
      ]
     },
     "metadata": {
      "needs_background": "light"
     },
     "output_type": "display_data"
    }
   ],
   "source": [
    "baseline_model.run_baseline_model(features_train, \n",
    "                                features_test, \n",
    "                                target_train, \n",
    "                                target_test, \n",
    "                                model = \"logreg\", \n",
    "                                random_state=42, \n",
    "                                class_weight=\"balanced\",\n",
    "                                 max_iter=1000)"
   ]
  },
  {
   "cell_type": "markdown",
   "metadata": {},
   "source": [
    "## Model without NaN, without repeated VIN, but with OBD RESULTS"
   ]
  },
  {
   "cell_type": "code",
   "execution_count": 45,
   "metadata": {},
   "outputs": [],
   "source": [
    "df_features = df_vin[['ESC',\n",
    " 'E_TEST_SEQUENCE',\n",
    " 'E_PRECOND_PROCEDURE',\n",
    " 'E_HIGH_DCF',\n",
    " 'E_HIGH_RPM',\n",
    " 'E_HIGH_CO2',\n",
    " 'E_HIGH_O2',\n",
    " 'E_HIGH_HC',\n",
    " 'E_HIGH_HC_DCF',\n",
    " 'E_HIGH_HC_LIMIT',\n",
    " 'E_HIGH_CO',\n",
    " 'E_HIGH_CO_DCF',\n",
    " 'E_HIGH_CO_LIMIT',\n",
    " 'E_IDLE_DCF',\n",
    " 'E_IDLE_RPM',\n",
    " 'E_IDLE_CO2',\n",
    " 'E_IDLE_O2',\n",
    " 'E_IDLE_HC',\n",
    " 'E_IDLE_HC_DCF',\n",
    " 'E_IDLE_HC_LIMIT',\n",
    " 'E_IDLE_CO',\n",
    " 'E_IDLE_CO_DCF',\n",
    " 'E_IDLE_CO_LIMIT',\n",
    " 'E_HIGH_DCF_2',\n",
    " 'E_HIGH_RPM_2',\n",
    " 'E_HIGH_CO2_2',\n",
    " 'E_HIGH_O2_2',\n",
    " 'E_HIGH_HC_2',\n",
    " 'E_HIGH_HC_DCF_2',\n",
    " 'E_HIGH_CO_2',\n",
    " 'E_HIGH_CO_DCF_2',\n",
    " 'E_IDLE_DCF_2',\n",
    " 'E_IDLE_RPM_2',\n",
    " 'E_IDLE_CO2_2',\n",
    " 'E_IDLE_O2_2',\n",
    " 'E_IDLE_HC_2',\n",
    " 'E_IDLE_HC_DCF_2',\n",
    " 'E_IDLE_CO_2',\n",
    " 'E_IDLE_CO_DCF_2',\n",
    " 'E_RESULT_STRING',\n",
    " 'V_SMOKE1',\n",
    " 'V_SMOKE2',\n",
    " 'V_GASCAP',\n",
    " 'V_CAT',\n",
    " 'V_RESULT',\n",
    " 'ONLINE_STATUS',\n",
    " 'E_HIGH_CO_RESULT',\n",
    " 'E_HIGH_HC_RESULT',\n",
    " 'E_IDLE_CO_RESULT',\n",
    " 'E_IDLE_HC_RESULT','OBD_RESULT','OVERALL_RESULT']]"
   ]
  },
  {
   "cell_type": "code",
   "execution_count": 46,
   "metadata": {},
   "outputs": [],
   "source": [
    "df_features = df_features.dropna()"
   ]
  },
  {
   "cell_type": "code",
   "execution_count": 47,
   "metadata": {},
   "outputs": [
    {
     "data": {
      "text/plain": [
       "(108843, 52)"
      ]
     },
     "execution_count": 47,
     "metadata": {},
     "output_type": "execute_result"
    }
   ],
   "source": [
    "df_features.shape"
   ]
  },
  {
   "cell_type": "code",
   "execution_count": 48,
   "metadata": {},
   "outputs": [],
   "source": [
    "target = data_prep.encode_target(df_features[\"OVERALL_RESULT\"])"
   ]
  },
  {
   "cell_type": "code",
   "execution_count": 49,
   "metadata": {},
   "outputs": [
    {
     "data": {
      "text/plain": [
       "(108843,)"
      ]
     },
     "execution_count": 49,
     "metadata": {},
     "output_type": "execute_result"
    }
   ],
   "source": [
    "target.shape"
   ]
  },
  {
   "cell_type": "code",
   "execution_count": 50,
   "metadata": {},
   "outputs": [],
   "source": [
    "df_features = df_features.drop(['OVERALL_RESULT'], axis=1)"
   ]
  },
  {
   "cell_type": "code",
   "execution_count": 51,
   "metadata": {},
   "outputs": [
    {
     "data": {
      "text/html": [
       "<div>\n",
       "<style scoped>\n",
       "    .dataframe tbody tr th:only-of-type {\n",
       "        vertical-align: middle;\n",
       "    }\n",
       "\n",
       "    .dataframe tbody tr th {\n",
       "        vertical-align: top;\n",
       "    }\n",
       "\n",
       "    .dataframe thead th {\n",
       "        text-align: right;\n",
       "    }\n",
       "</style>\n",
       "<table border=\"1\" class=\"dataframe\">\n",
       "  <thead>\n",
       "    <tr style=\"text-align: right;\">\n",
       "      <th></th>\n",
       "      <th>ESC</th>\n",
       "      <th>E_TEST_SEQUENCE</th>\n",
       "      <th>E_PRECOND_PROCEDURE</th>\n",
       "      <th>E_HIGH_DCF</th>\n",
       "      <th>E_HIGH_RPM</th>\n",
       "      <th>E_HIGH_CO2</th>\n",
       "      <th>E_HIGH_O2</th>\n",
       "      <th>E_HIGH_HC</th>\n",
       "      <th>E_HIGH_HC_DCF</th>\n",
       "      <th>E_HIGH_HC_LIMIT</th>\n",
       "      <th>...</th>\n",
       "      <th>V_SMOKE2</th>\n",
       "      <th>V_GASCAP</th>\n",
       "      <th>V_CAT</th>\n",
       "      <th>V_RESULT</th>\n",
       "      <th>ONLINE_STATUS</th>\n",
       "      <th>E_HIGH_CO_RESULT</th>\n",
       "      <th>E_HIGH_HC_RESULT</th>\n",
       "      <th>E_IDLE_CO_RESULT</th>\n",
       "      <th>E_IDLE_HC_RESULT</th>\n",
       "      <th>OBD_RESULT</th>\n",
       "    </tr>\n",
       "  </thead>\n",
       "  <tbody>\n",
       "    <tr>\n",
       "      <th>1</th>\n",
       "      <td>6.0</td>\n",
       "      <td>1</td>\n",
       "      <td>1</td>\n",
       "      <td>0.0</td>\n",
       "      <td>0</td>\n",
       "      <td>0.0</td>\n",
       "      <td>0.0</td>\n",
       "      <td>0</td>\n",
       "      <td>0</td>\n",
       "      <td>100</td>\n",
       "      <td>...</td>\n",
       "      <td>N</td>\n",
       "      <td>N</td>\n",
       "      <td>N</td>\n",
       "      <td>N</td>\n",
       "      <td>1</td>\n",
       "      <td>N</td>\n",
       "      <td>N</td>\n",
       "      <td>N</td>\n",
       "      <td>N</td>\n",
       "      <td>P</td>\n",
       "    </tr>\n",
       "    <tr>\n",
       "      <th>4</th>\n",
       "      <td>6.0</td>\n",
       "      <td>1</td>\n",
       "      <td>1</td>\n",
       "      <td>0.0</td>\n",
       "      <td>0</td>\n",
       "      <td>0.0</td>\n",
       "      <td>0.0</td>\n",
       "      <td>0</td>\n",
       "      <td>0</td>\n",
       "      <td>100</td>\n",
       "      <td>...</td>\n",
       "      <td>N</td>\n",
       "      <td>N</td>\n",
       "      <td>N</td>\n",
       "      <td>N</td>\n",
       "      <td>1</td>\n",
       "      <td>N</td>\n",
       "      <td>N</td>\n",
       "      <td>N</td>\n",
       "      <td>N</td>\n",
       "      <td>P</td>\n",
       "    </tr>\n",
       "    <tr>\n",
       "      <th>5</th>\n",
       "      <td>6.0</td>\n",
       "      <td>1</td>\n",
       "      <td>1</td>\n",
       "      <td>0.0</td>\n",
       "      <td>0</td>\n",
       "      <td>0.0</td>\n",
       "      <td>0.0</td>\n",
       "      <td>0</td>\n",
       "      <td>0</td>\n",
       "      <td>100</td>\n",
       "      <td>...</td>\n",
       "      <td>N</td>\n",
       "      <td>N</td>\n",
       "      <td>N</td>\n",
       "      <td>N</td>\n",
       "      <td>1</td>\n",
       "      <td>N</td>\n",
       "      <td>N</td>\n",
       "      <td>N</td>\n",
       "      <td>N</td>\n",
       "      <td>P</td>\n",
       "    </tr>\n",
       "    <tr>\n",
       "      <th>7</th>\n",
       "      <td>20.0</td>\n",
       "      <td>1</td>\n",
       "      <td>1</td>\n",
       "      <td>0.0</td>\n",
       "      <td>0</td>\n",
       "      <td>0.0</td>\n",
       "      <td>0.0</td>\n",
       "      <td>0</td>\n",
       "      <td>0</td>\n",
       "      <td>100</td>\n",
       "      <td>...</td>\n",
       "      <td>N</td>\n",
       "      <td>N</td>\n",
       "      <td>N</td>\n",
       "      <td>N</td>\n",
       "      <td>1</td>\n",
       "      <td>N</td>\n",
       "      <td>N</td>\n",
       "      <td>N</td>\n",
       "      <td>N</td>\n",
       "      <td>P</td>\n",
       "    </tr>\n",
       "    <tr>\n",
       "      <th>11</th>\n",
       "      <td>6.0</td>\n",
       "      <td>1</td>\n",
       "      <td>1</td>\n",
       "      <td>0.0</td>\n",
       "      <td>0</td>\n",
       "      <td>0.0</td>\n",
       "      <td>0.0</td>\n",
       "      <td>0</td>\n",
       "      <td>0</td>\n",
       "      <td>100</td>\n",
       "      <td>...</td>\n",
       "      <td>N</td>\n",
       "      <td>N</td>\n",
       "      <td>N</td>\n",
       "      <td>N</td>\n",
       "      <td>1</td>\n",
       "      <td>N</td>\n",
       "      <td>N</td>\n",
       "      <td>N</td>\n",
       "      <td>N</td>\n",
       "      <td>P</td>\n",
       "    </tr>\n",
       "    <tr>\n",
       "      <th>...</th>\n",
       "      <td>...</td>\n",
       "      <td>...</td>\n",
       "      <td>...</td>\n",
       "      <td>...</td>\n",
       "      <td>...</td>\n",
       "      <td>...</td>\n",
       "      <td>...</td>\n",
       "      <td>...</td>\n",
       "      <td>...</td>\n",
       "      <td>...</td>\n",
       "      <td>...</td>\n",
       "      <td>...</td>\n",
       "      <td>...</td>\n",
       "      <td>...</td>\n",
       "      <td>...</td>\n",
       "      <td>...</td>\n",
       "      <td>...</td>\n",
       "      <td>...</td>\n",
       "      <td>...</td>\n",
       "      <td>...</td>\n",
       "      <td>...</td>\n",
       "    </tr>\n",
       "    <tr>\n",
       "      <th>375487</th>\n",
       "      <td>20.0</td>\n",
       "      <td>1</td>\n",
       "      <td>1</td>\n",
       "      <td>0.0</td>\n",
       "      <td>0</td>\n",
       "      <td>0.0</td>\n",
       "      <td>0.0</td>\n",
       "      <td>0</td>\n",
       "      <td>0</td>\n",
       "      <td>100</td>\n",
       "      <td>...</td>\n",
       "      <td>P</td>\n",
       "      <td>N</td>\n",
       "      <td>P</td>\n",
       "      <td>P</td>\n",
       "      <td>1</td>\n",
       "      <td>N</td>\n",
       "      <td>N</td>\n",
       "      <td>N</td>\n",
       "      <td>N</td>\n",
       "      <td>P</td>\n",
       "    </tr>\n",
       "    <tr>\n",
       "      <th>375491</th>\n",
       "      <td>6.0</td>\n",
       "      <td>1</td>\n",
       "      <td>1</td>\n",
       "      <td>0.0</td>\n",
       "      <td>0</td>\n",
       "      <td>0.0</td>\n",
       "      <td>0.0</td>\n",
       "      <td>0</td>\n",
       "      <td>0</td>\n",
       "      <td>100</td>\n",
       "      <td>...</td>\n",
       "      <td>P</td>\n",
       "      <td>N</td>\n",
       "      <td>P</td>\n",
       "      <td>P</td>\n",
       "      <td>1</td>\n",
       "      <td>N</td>\n",
       "      <td>N</td>\n",
       "      <td>N</td>\n",
       "      <td>N</td>\n",
       "      <td>P</td>\n",
       "    </tr>\n",
       "    <tr>\n",
       "      <th>375494</th>\n",
       "      <td>6.0</td>\n",
       "      <td>1</td>\n",
       "      <td>1</td>\n",
       "      <td>0.0</td>\n",
       "      <td>0</td>\n",
       "      <td>0.0</td>\n",
       "      <td>0.0</td>\n",
       "      <td>0</td>\n",
       "      <td>0</td>\n",
       "      <td>100</td>\n",
       "      <td>...</td>\n",
       "      <td>P</td>\n",
       "      <td>N</td>\n",
       "      <td>P</td>\n",
       "      <td>P</td>\n",
       "      <td>1</td>\n",
       "      <td>N</td>\n",
       "      <td>N</td>\n",
       "      <td>N</td>\n",
       "      <td>N</td>\n",
       "      <td>P</td>\n",
       "    </tr>\n",
       "    <tr>\n",
       "      <th>375495</th>\n",
       "      <td>6.0</td>\n",
       "      <td>1</td>\n",
       "      <td>1</td>\n",
       "      <td>0.0</td>\n",
       "      <td>0</td>\n",
       "      <td>0.0</td>\n",
       "      <td>0.0</td>\n",
       "      <td>0</td>\n",
       "      <td>0</td>\n",
       "      <td>100</td>\n",
       "      <td>...</td>\n",
       "      <td>P</td>\n",
       "      <td>N</td>\n",
       "      <td>P</td>\n",
       "      <td>P</td>\n",
       "      <td>1</td>\n",
       "      <td>N</td>\n",
       "      <td>N</td>\n",
       "      <td>N</td>\n",
       "      <td>N</td>\n",
       "      <td>P</td>\n",
       "    </tr>\n",
       "    <tr>\n",
       "      <th>375497</th>\n",
       "      <td>6.0</td>\n",
       "      <td>1</td>\n",
       "      <td>1</td>\n",
       "      <td>0.0</td>\n",
       "      <td>0</td>\n",
       "      <td>0.0</td>\n",
       "      <td>0.0</td>\n",
       "      <td>0</td>\n",
       "      <td>0</td>\n",
       "      <td>100</td>\n",
       "      <td>...</td>\n",
       "      <td>P</td>\n",
       "      <td>N</td>\n",
       "      <td>P</td>\n",
       "      <td>P</td>\n",
       "      <td>1</td>\n",
       "      <td>N</td>\n",
       "      <td>N</td>\n",
       "      <td>N</td>\n",
       "      <td>N</td>\n",
       "      <td>P</td>\n",
       "    </tr>\n",
       "  </tbody>\n",
       "</table>\n",
       "<p>108843 rows × 51 columns</p>\n",
       "</div>"
      ],
      "text/plain": [
       "         ESC  E_TEST_SEQUENCE  E_PRECOND_PROCEDURE  E_HIGH_DCF  E_HIGH_RPM  \\\n",
       "1        6.0                1                    1         0.0           0   \n",
       "4        6.0                1                    1         0.0           0   \n",
       "5        6.0                1                    1         0.0           0   \n",
       "7       20.0                1                    1         0.0           0   \n",
       "11       6.0                1                    1         0.0           0   \n",
       "...      ...              ...                  ...         ...         ...   \n",
       "375487  20.0                1                    1         0.0           0   \n",
       "375491   6.0                1                    1         0.0           0   \n",
       "375494   6.0                1                    1         0.0           0   \n",
       "375495   6.0                1                    1         0.0           0   \n",
       "375497   6.0                1                    1         0.0           0   \n",
       "\n",
       "        E_HIGH_CO2  E_HIGH_O2  E_HIGH_HC  E_HIGH_HC_DCF  E_HIGH_HC_LIMIT  ...  \\\n",
       "1              0.0        0.0          0              0              100  ...   \n",
       "4              0.0        0.0          0              0              100  ...   \n",
       "5              0.0        0.0          0              0              100  ...   \n",
       "7              0.0        0.0          0              0              100  ...   \n",
       "11             0.0        0.0          0              0              100  ...   \n",
       "...            ...        ...        ...            ...              ...  ...   \n",
       "375487         0.0        0.0          0              0              100  ...   \n",
       "375491         0.0        0.0          0              0              100  ...   \n",
       "375494         0.0        0.0          0              0              100  ...   \n",
       "375495         0.0        0.0          0              0              100  ...   \n",
       "375497         0.0        0.0          0              0              100  ...   \n",
       "\n",
       "        V_SMOKE2  V_GASCAP  V_CAT  V_RESULT  ONLINE_STATUS  E_HIGH_CO_RESULT  \\\n",
       "1              N         N      N         N              1                 N   \n",
       "4              N         N      N         N              1                 N   \n",
       "5              N         N      N         N              1                 N   \n",
       "7              N         N      N         N              1                 N   \n",
       "11             N         N      N         N              1                 N   \n",
       "...          ...       ...    ...       ...            ...               ...   \n",
       "375487         P         N      P         P              1                 N   \n",
       "375491         P         N      P         P              1                 N   \n",
       "375494         P         N      P         P              1                 N   \n",
       "375495         P         N      P         P              1                 N   \n",
       "375497         P         N      P         P              1                 N   \n",
       "\n",
       "        E_HIGH_HC_RESULT  E_IDLE_CO_RESULT  E_IDLE_HC_RESULT  OBD_RESULT  \n",
       "1                      N                 N                 N           P  \n",
       "4                      N                 N                 N           P  \n",
       "5                      N                 N                 N           P  \n",
       "7                      N                 N                 N           P  \n",
       "11                     N                 N                 N           P  \n",
       "...                  ...               ...               ...         ...  \n",
       "375487                 N                 N                 N           P  \n",
       "375491                 N                 N                 N           P  \n",
       "375494                 N                 N                 N           P  \n",
       "375495                 N                 N                 N           P  \n",
       "375497                 N                 N                 N           P  \n",
       "\n",
       "[108843 rows x 51 columns]"
      ]
     },
     "execution_count": 51,
     "metadata": {},
     "output_type": "execute_result"
    }
   ],
   "source": [
    "df_features"
   ]
  },
  {
   "cell_type": "code",
   "execution_count": 52,
   "metadata": {},
   "outputs": [],
   "source": [
    "# 2. attempt: dont use V, only result\n",
    "cat_features = ['OBD_RESULT','E_RESULT_STRING', 'V_SMOKE1', 'V_SMOKE2', 'V_GASCAP', 'V_CAT', 'V_RESULT', 'E_HIGH_CO_RESULT', 'E_HIGH_HC_RESULT', 'E_IDLE_CO_RESULT', 'E_IDLE_HC_RESULT']\n",
    "#cat_features = ['E_RESULT_STRING', 'V_SMOKE1', 'V_SMOKE2', 'V_GASCAP', 'V_CAT', 'V_RESULT', 'KOEO_RESULT', 'KOER_RESULT', 'OBD_RDY_RESULT', 'OBD_FLT_CODES', 'OBD_FLT_RESULT', 'OBD_RESULT', 'R_EGR', 'R_ELECTRICAL', 'R_EVAP_CONTROL', 'R_EXHAUST', 'R_IGNITION', 'R_INTAKE', 'R_ENGINE', 'R_PCV', 'OBDII_AFFECT_OVERALL', 'E_HIGH_CO_RESULT', 'E_HIGH_HC_RESULT', 'E_IDLE_CO_RESULT', 'E_IDLE_HC_RESULT', 'FAILED_IDLE_RPM']\n",
    "\n",
    "features_train, features_test, target_train, target_test = data_prep.encode_split_data(cat_features,\n",
    "                                                                                    data = df_features,\n",
    "                                                                                    target_series = target,\n",
    "                                                                                    train_size = .7,\n",
    "                                                                                    random_state=42)"
   ]
  },
  {
   "cell_type": "code",
   "execution_count": 53,
   "metadata": {},
   "outputs": [
    {
     "name": "stdout",
     "output_type": "stream",
     "text": [
      "              precision    recall  f1-score   support\n",
      "\n",
      "           0       1.00      1.00      1.00     31236\n",
      "           1       1.00      1.00      1.00      1417\n",
      "\n",
      "    accuracy                           1.00     32653\n",
      "   macro avg       1.00      1.00      1.00     32653\n",
      "weighted avg       1.00      1.00      1.00     32653\n",
      "\n",
      "ROC AUC Score is 0.9999872801165947\n",
      "Cross-validation scores: [0.99999734 0.99998202 0.99999505 0.9999858  0.99924648]\n",
      "Mean cross-validation score: 1.0\n"
     ]
    },
    {
     "data": {
      "text/plain": [
       "Pipeline(steps=[('minmaxscaler', MinMaxScaler()),\n",
       "                ('logisticregression',\n",
       "                 LogisticRegression(class_weight='balanced', max_iter=1000,\n",
       "                                    random_state=42))])"
      ]
     },
     "execution_count": 53,
     "metadata": {},
     "output_type": "execute_result"
    },
    {
     "data": {
      "image/png": "[encoded data removed]",
      "text/plain": [
       "<Figure size 432x288 with 2 Axes>"
      ]
     },
     "metadata": {
      "needs_background": "light"
     },
     "output_type": "display_data"
    }
   ],
   "source": [
    "baseline_model.run_baseline_model(features_train, \n",
    "                                features_test, \n",
    "                                target_train, \n",
    "                                target_test, \n",
    "                                model = \"logreg\", \n",
    "                                random_state=42, \n",
    "                                class_weight=\"balanced\",\n",
    "                                 max_iter=1000)"
   ]
  },
  {
   "cell_type": "code",
   "execution_count": null,
   "metadata": {},
   "outputs": [],
   "source": []
  }
 ],
 "metadata": {
  "kernelspec": {
   "display_name": "Python 3",
   "language": "python",
   "name": "python3"
  },
  "language_info": {
   "codemirror_mode": {
    "name": "ipython",
    "version": 3
   },
   "file_extension": ".py",
   "mimetype": "text/x-python",
   "name": "python",
   "nbconvert_exporter": "python",
   "pygments_lexer": "ipython3",
   "version": "3.7.4"
  }
 },
 "nbformat": 4,
 "nbformat_minor": 4
}
