{
 "cells": [
  {
   "cell_type": "markdown",
   "metadata": {
    "colab_type": "text",
    "id": "view-in-github"
   },
   "source": [
    "<a href=\"https://colab.research.google.com/github/hhnnhh/berlin_datascience_lab/blob/master/exploration/01_EDA/EDA_important_car_features_biased_stations_software.ipynb\" target=\"_parent\"><img src=\"https://colab.research.google.com/assets/colab-badge.svg\" alt=\"Open In Colab\"/></a>"
   ]
  },
  {
   "cell_type": "markdown",
   "metadata": {
    "colab_type": "text",
    "id": "nXRz1BLJ5b3Q"
   },
   "source": [
    "#Exploratory data analysis:\n",
    "by Hannah Bohle\n",
    "\n",
    "Explored features are: \n",
    "- engine size, engine size orig\n",
    "- model\n",
    "- station num, analyzer num\n",
    "- cyl, trans type, dual exhaust\n",
    "- software version"
   ]
  },
  {
   "cell_type": "markdown",
   "metadata": {
    "colab_type": "text",
    "id": "RTFfVaI7pIJy"
   },
   "source": [
    "Summary of my suggestions following the EDA:\n",
    "I'd suggest to use ENGINE_SIZE; CYL and eventually TRANS_TYPE.\n",
    "\n",
    "* there seems an odd station with 50% fail?!\n",
    "* Same problem with Software_Version, even if the bias is not that obvious\n",
    "\n",
    "SUMMARY:\n",
    "\n",
    "1. use **ENGINE_SIZE** but *not* **ENGINE_SIZE_ORIG**\n",
    "2. use **MAKE** but *not* **MODEL** ('MODEL' needs to be cleaned, but 'MAKE' will eventually contain similar information. Consider using MODEL if MAKE is very good)\n",
    "3. **STATION_NUM**: not an interesting variable for our algorithm, because it wont explain the emissions. However, I didn't manage to calculate the percentage of PASS/FAIL per station, which would be interesting to report to the client, there seems to be one biased station with 50% fails?!\n",
    "4. I'd suggest to use **CYL** after getting rid of the letter 'R'. Can and should be converted to float? \n",
    "5. **TRANS_TYPE** (automatic/manual) - I read an article that automatic cars can have lower emissions (but only certain automatic cars) --> take or leave?\n",
    "6. **DUAL_EXHAUST** (yes/no), binary variables.  DE is very imbalanced with only 0.6% YES. Not so interesting I guess.\n",
    "7. **Software Version**: there are SV that seem to have more PASSES than FAILS? If this is really a bias, then I guess we should report it to the client. *--> LOOK INTO IT.*\n",
    "\n",
    "I *have not* looked into Abort_Codes, Abort_Code_Description (because I think Isabelle has already done it) and ANALYZER_NUM"
   ]
  },
  {
   "cell_type": "code",
   "execution_count": 1,
   "metadata": {
    "colab": {
     "base_uri": "https://localhost:8080/",
     "height": 75
    },
    "colab_type": "code",
    "id": "l9Rtw5VFmb-R",
    "outputId": "2037fd48-ab13-4192-c40b-02221f1d829e"
   },
   "outputs": [],
   "source": [
    "import pandas as pd\n",
    "import seaborn as sns\n",
    "import matplotlib.pyplot as plt\n",
    "import seaborn as sns\n",
    "import numpy as np\n",
    "\n",
    "pd.set_option('display.max_columns', 200)\n",
    "pd.set_option('display.max_rows', 200)\n",
    "%matplotlib inline"
   ]
  },
  {
   "cell_type": "code",
   "execution_count": 2,
   "metadata": {
    "colab": {
     "base_uri": "https://localhost:8080/",
     "height": 133
    },
    "colab_type": "code",
    "id": "W5jDI31muuyX",
    "outputId": "1d93bd89-3d8d-4faf-ce3d-9b3599b0a26f"
   },
   "outputs": [
    {
     "ename": "ModuleNotFoundError",
     "evalue": "No module named 'google.colab'",
     "output_type": "error",
     "traceback": [
      "\u001b[1;31m---------------------------------------------------------------------------\u001b[0m",
      "\u001b[1;31mModuleNotFoundError\u001b[0m                       Traceback (most recent call last)",
      "\u001b[1;32m<ipython-input-2-c36f5579453e>\u001b[0m in \u001b[0;36m<module>\u001b[1;34m\u001b[0m\n\u001b[1;32m----> 1\u001b[1;33m \u001b[1;32mfrom\u001b[0m \u001b[0mgoogle\u001b[0m\u001b[1;33m.\u001b[0m\u001b[0mcolab\u001b[0m \u001b[1;32mimport\u001b[0m \u001b[0mdrive\u001b[0m\u001b[1;33m\u001b[0m\u001b[1;33m\u001b[0m\u001b[0m\n\u001b[0m\u001b[0;32m      2\u001b[0m \u001b[1;33m\u001b[0m\u001b[0m\n\u001b[0;32m      3\u001b[0m \u001b[0mdrive\u001b[0m\u001b[1;33m.\u001b[0m\u001b[0mmount\u001b[0m\u001b[1;33m(\u001b[0m\u001b[1;34m'/content/drive'\u001b[0m\u001b[1;33m)\u001b[0m\u001b[1;33m\u001b[0m\u001b[1;33m\u001b[0m\u001b[0m\n",
      "\u001b[1;31mModuleNotFoundError\u001b[0m: No module named 'google.colab'"
     ]
    }
   ],
   "source": [
    "from google.colab import drive\n",
    "\n",
    "drive.mount('/content/drive')"
   ]
  },
  {
   "cell_type": "markdown",
   "metadata": {
    "colab_type": "text",
    "id": "tSb0ZsGM_1Al"
   },
   "source": [
    "## Loading data frame"
   ]
  },
  {
   "cell_type": "code",
   "execution_count": null,
   "metadata": {
    "colab": {
     "base_uri": "https://localhost:8080/",
     "height": 75
    },
    "colab_type": "code",
    "id": "PrhRVNT-u0IZ",
    "outputId": "f0e5ec47-1121-4a9c-e193-a373e0edb7cd"
   },
   "outputs": [],
   "source": [
    "#data path:\n",
    "data_path = \"/content/drive/My Drive/WIMLDS/sample.csv\"\n",
    "#data load\n",
    "df = pd.read_csv(data_path, lineterminator='\\n')"
   ]
  },
  {
   "cell_type": "markdown",
   "metadata": {
    "colab_type": "text",
    "id": "pg5z-MC8AEq4"
   },
   "source": [
    "## Preparing the data for exploration\n"
   ]
  },
  {
   "cell_type": "markdown",
   "metadata": {
    "colab_type": "text",
    "id": "iMXwMgCF52yF"
   },
   "source": [
    "\n",
    "    engine size, engine size orig\n",
    "    model\n",
    "    station num, analyzer num\n",
    "    cyl, trans type, dual exhaust\n",
    "    software version\n",
    "    abort codes, abort code description\n"
   ]
  },
  {
   "cell_type": "code",
   "execution_count": null,
   "metadata": {
    "colab": {},
    "colab_type": "code",
    "id": "jzt7adYbf2Nm"
   },
   "outputs": [],
   "source": [
    "keep_cols = ['VIR_CERT_NUMBER', 'STATION_NUM', 'ANALYZER_NUM', 'INSPECTOR_NUM', 'TEST_SDATE', 'TEST_EDATE', 'VIN', 'VIN_SOURCE', 'VEH_LICENSE', 'GVW_TYPE', 'GVWR', 'MODEL_YEAR', \n",
    "             'MAKE', 'MODEL', 'CYL', 'ENGINE_SIZE', 'TRANS_TYPE', 'DUAL_EXHAUST', 'ODOMETER', 'FUEL_TYPE', 'VEHICLE_TYPE', 'ZIP_CODE', 'CERTIFICATION', 'ESC', 'VRT_RECORD_ID', \n",
    "             'ABORT_CODE', 'SOFTWARE_VERSION', 'INSP_COMMENTS', 'OVERALL_RESULT', 'ABORT_CODE_OTHER_DESC', 'MECHANIC_LAST_NAME', 'MECHANIC_FIRST_NAME', 'MECHANIC_MIDDLE_INIT', \n",
    "             'ENGINE_SIZE_ORIG', 'VID_TEST_TYPE']\n",
    "\n",
    "df = df[keep_cols]"
   ]
  },
  {
   "cell_type": "code",
   "execution_count": null,
   "metadata": {
    "colab": {
     "base_uri": "https://localhost:8080/",
     "height": 297
    },
    "colab_type": "code",
    "id": "7fzHRkiHw2CJ",
    "outputId": "bc53d293-5588-4042-f6f4-0b9217cd06ed"
   },
   "outputs": [],
   "source": [
    "df.groupby('OVERALL_RESULT').size().plot.bar()"
   ]
  },
  {
   "cell_type": "code",
   "execution_count": null,
   "metadata": {
    "colab": {},
    "colab_type": "code",
    "id": "hCx2-y68w_YO"
   },
   "outputs": [],
   "source": [
    "#reducing df by overall-result = P,F\n",
    "df = df[df.OVERALL_RESULT.isin(['P', 'F'])]"
   ]
  },
  {
   "cell_type": "code",
   "execution_count": null,
   "metadata": {
    "colab": {
     "base_uri": "https://localhost:8080/",
     "height": 330
    },
    "colab_type": "code",
    "id": "XHLp4xd07HEl",
    "outputId": "d56eaa31-cbd0-4ab1-d326-31f93a4d1156"
   },
   "outputs": [],
   "source": [
    "df.head()"
   ]
  },
  {
   "cell_type": "markdown",
   "metadata": {
    "colab_type": "text",
    "id": "KJ8ImBLE8P_W"
   },
   "source": [
    "##1. (A) ENGINE SIZE and (B) ENGINE SIZE ORIG\n",
    "\n",
    "My suggestion: use ENGINE_SIZE but *not* ENGINE_SIZE_ORIG!\n",
    "\n",
    "1. what do they encode?\n",
    "*   (A) Engine size: Engine Size in cubic centimeters, cubic inches or liters , 4 char\n",
    "*   (B) Engine size orig: Engine Size Other manually entered by tech., 10 Char.\n",
    "\n",
    "--> (A) is continous, while (B) is a string (eg. 3.5L, 4.0L, ..)\n",
    "\n",
    "2. are they related?\n",
    " --> haven't found a relation or pattern, but it is difficult to determine because (B) has loads of different strings\n",
    "\n",
    "3. are they correlated with the overall results?\n",
    "--> the boxplot does not show an obvious difference\n",
    "--> Failing cars seem to have a slightly smaller engine size but it might be confounded with age, as older cars will have smaller engines and will fail more often\n",
    "\n",
    "*Open task:* We could convert (B) to float by getting rid of the letters ('L') but also some other letters ('I') - but we would have to look closer into the variable, I doubt that it's worth it.\n",
    "\n"
   ]
  },
  {
   "cell_type": "markdown",
   "metadata": {
    "colab_type": "text",
    "id": "pafjuQXLm5_I"
   },
   "source": [
    "## (A) ENGINE SIZE"
   ]
  },
  {
   "cell_type": "markdown",
   "metadata": {
    "colab_type": "text",
    "id": "Jace0x1hm58D"
   },
   "source": []
  },
  {
   "cell_type": "code",
   "execution_count": null,
   "metadata": {
    "colab": {
     "base_uri": "https://localhost:8080/",
     "height": 517
    },
    "colab_type": "code",
    "id": "0x-4LlHAZcFp",
    "outputId": "3421bc32-f3f5-4c35-f44f-ede8ec2a9c58"
   },
   "outputs": [],
   "source": [
    "#ENGINE SIZE DOES NOT SEEM TO HAVE AN IMPACT ON RESULT\n",
    "# Failing cars seem to have a slightly smaller engine size but it might be confounded with age, as older cars will have smaller engines and fail more often\n",
    "fig, ax = plt.subplots(figsize=(10,8))\n",
    "sns.boxplot(data=df, x='OVERALL_RESULT', y='ENGINE_SIZE')"
   ]
  },
  {
   "cell_type": "code",
   "execution_count": null,
   "metadata": {
    "colab": {
     "base_uri": "https://localhost:8080/",
     "height": 360
    },
    "colab_type": "code",
    "id": "PF1k7UGr7yon",
    "outputId": "8f44dc76-e846-41ac-a093-05ce903b555f"
   },
   "outputs": [],
   "source": [
    "fig, ax = plt.subplots(figsize=(20,6))\n",
    "df.groupby('ENGINE_SIZE').size().sort_values(ascending=False).head(100).plot.bar()"
   ]
  },
  {
   "cell_type": "code",
   "execution_count": null,
   "metadata": {
    "colab": {
     "base_uri": "https://localhost:8080/",
     "height": 432
    },
    "colab_type": "code",
    "id": "TW1Gniaqmj4Q",
    "outputId": "85d4909e-5642-4a40-e7ff-a81917a0085f"
   },
   "outputs": [],
   "source": [
    "fig, ax = plt.subplots(figsize=[20,8])\n",
    "sns.countplot(df['ENGINE_SIZE'])\n",
    "#sns.countplot((df['ENGINE_SIZE']>2000) & (df['ENGINE_SIZE']<4000))"
   ]
  },
  {
   "cell_type": "code",
   "execution_count": null,
   "metadata": {
    "colab": {
     "base_uri": "https://localhost:8080/",
     "height": 299
    },
    "colab_type": "code",
    "id": "cLw6Pgqq_cA1",
    "outputId": "8769ec04-fd18-450c-83d0-7423f889f70a"
   },
   "outputs": [],
   "source": [
    "sns.distplot(df[\"ENGINE_SIZE\"])"
   ]
  },
  {
   "cell_type": "markdown",
   "metadata": {
    "colab_type": "text",
    "id": "S_5Ird2Fmz7f"
   },
   "source": [
    "##(B) ENGINE SIZE ORIG"
   ]
  },
  {
   "cell_type": "code",
   "execution_count": null,
   "metadata": {
    "colab": {
     "base_uri": "https://localhost:8080/",
     "height": 113
    },
    "colab_type": "code",
    "id": "-l9nZWGolXSn",
    "outputId": "4f0276a9-1754-4e5c-c0c0-cd10dc134a14"
   },
   "outputs": [],
   "source": [
    "#Engine size is a numerical and continous variable\n",
    "#Engine size Orig = object --> several letter characters such as L\n",
    "df.ENGINE_SIZE_ORIG.describe()"
   ]
  },
  {
   "cell_type": "code",
   "execution_count": null,
   "metadata": {
    "colab": {
     "base_uri": "https://localhost:8080/",
     "height": 247
    },
    "colab_type": "code",
    "id": "C3xSlqLZl0Fo",
    "outputId": "9c1b1c2a-f34e-429e-95db-0e9ee979e38f"
   },
   "outputs": [],
   "source": [
    "df.ENGINE_SIZE_ORIG.value_counts()"
   ]
  },
  {
   "cell_type": "code",
   "execution_count": null,
   "metadata": {
    "colab": {
     "base_uri": "https://localhost:8080/",
     "height": 368
    },
    "colab_type": "code",
    "id": "GD7pXzBx7YNJ",
    "outputId": "2993c352-5b09-4b3f-a29b-ce17e5a6bf49"
   },
   "outputs": [],
   "source": [
    "fig, ax = plt.subplots(figsize=(20,6))\n",
    "df.groupby('ENGINE_SIZE_ORIG').size().sort_values(ascending=False).head(100).plot.bar()"
   ]
  },
  {
   "cell_type": "markdown",
   "metadata": {
    "colab_type": "text",
    "id": "ZXNo0ShyDsiS"
   },
   "source": [
    "#MODEL"
   ]
  },
  {
   "cell_type": "markdown",
   "metadata": {
    "colab_type": "text",
    "id": "9Z_TRY51ebyJ"
   },
   "source": [
    "My preliminary suggestion: use the variable MAKE before using MODEl. MAKE is cleaner, is less work and might contain similar information. **If MAKE is improving a lot, then we might think about cleaning MODEL and use it as well.**\n",
    "\n",
    "We could think about:\n",
    "1. using fuzzywuzzy to compare strings for similarity\n",
    "2. use a clustering algorithm to group the models?\n",
    "3. strip either all numbers or at least 4WD, 2WD and AWD to reduce number of cars\n",
    "4. unique cars - do we need them? are they caused by mistakes?\n"
   ]
  },
  {
   "cell_type": "code",
   "execution_count": null,
   "metadata": {
    "colab": {
     "base_uri": "https://localhost:8080/",
     "height": 113
    },
    "colab_type": "code",
    "id": "JP2SBwGQ-sUY",
    "outputId": "3c79d3a6-9eca-4e17-d96b-2f1e0beba1f0"
   },
   "outputs": [],
   "source": [
    "df.MODEL.describe()"
   ]
  },
  {
   "cell_type": "code",
   "execution_count": null,
   "metadata": {
    "colab": {
     "base_uri": "https://localhost:8080/",
     "height": 55
    },
    "colab_type": "code",
    "id": "eMmNF7br_FFy",
    "outputId": "015ffc93-ccca-438e-99dc-0fed62185fd8"
   },
   "outputs": [],
   "source": [
    "df.MODEL.unique()"
   ]
  },
  {
   "cell_type": "code",
   "execution_count": null,
   "metadata": {
    "colab": {
     "base_uri": "https://localhost:8080/",
     "height": 247
    },
    "colab_type": "code",
    "id": "pZGjjjnx_NaC",
    "outputId": "3dcfb81c-6cbd-4ec8-dee7-ec2bd5fa12cd"
   },
   "outputs": [],
   "source": [
    "df.MODEL.value_counts()"
   ]
  },
  {
   "cell_type": "code",
   "execution_count": null,
   "metadata": {
    "colab": {
     "base_uri": "https://localhost:8080/",
     "height": 36
    },
    "colab_type": "code",
    "id": "SPmqK6baHXXA",
    "outputId": "e40c69f6-a6c9-4719-e645-597bde336339"
   },
   "outputs": [],
   "source": [
    "len(df.MODEL.unique()) # es gibt nur 2740 unique models von 235177?"
   ]
  },
  {
   "cell_type": "code",
   "execution_count": null,
   "metadata": {
    "colab": {
     "base_uri": "https://localhost:8080/",
     "height": 36
    },
    "colab_type": "code",
    "id": "2WGFh4eOJgGG",
    "outputId": "7eb70e43-d404-46eb-c08c-6269fa689115"
   },
   "outputs": [],
   "source": [
    "len(df.MODEL)"
   ]
  },
  {
   "cell_type": "code",
   "execution_count": null,
   "metadata": {
    "colab": {},
    "colab_type": "code",
    "id": "o2wgHLu1ThA2"
   },
   "outputs": [],
   "source": [
    "df['AGE'] = pd.to_datetime(df[\"TEST_EDATE\"]).dt.year - df[\"MODEL_YEAR\"]"
   ]
  },
  {
   "cell_type": "code",
   "execution_count": null,
   "metadata": {
    "colab": {
     "base_uri": "https://localhost:8080/",
     "height": 446
    },
    "colab_type": "code",
    "id": "oJBpneiOSEKW",
    "outputId": "1e912d3a-08db-4b73-fc2b-fa7fb23beacf"
   },
   "outputs": [],
   "source": [
    "fig, ax = plt.subplots(figsize=(20,6))\n",
    "df.groupby('MODEL').size().sort_values(ascending=False).head(100).plot.bar()"
   ]
  },
  {
   "cell_type": "code",
   "execution_count": null,
   "metadata": {
    "colab": {
     "base_uri": "https://localhost:8080/",
     "height": 132
    },
    "colab_type": "code",
    "id": "jBEafvPzSXel",
    "outputId": "930c9432-0ad8-43a7-cb71-263d3f27454d"
   },
   "outputs": [],
   "source": [
    "md = df.groupby('MODEL')#.size().sort_values(ascending=False).head(100)\n",
    "size = md.size()\n",
    "size[size > 100].index"
   ]
  },
  {
   "cell_type": "code",
   "execution_count": null,
   "metadata": {
    "colab": {},
    "colab_type": "code",
    "id": "GS_GtzLiSmN6"
   },
   "outputs": [],
   "source": [
    "frequent_models = df[df.MODEL.isin(size[size >= 500].index)]"
   ]
  },
  {
   "cell_type": "code",
   "execution_count": null,
   "metadata": {
    "colab": {
     "base_uri": "https://localhost:8080/",
     "height": 446
    },
    "colab_type": "code",
    "id": "Sfre1iw6SslY",
    "outputId": "aaa4a713-2a8c-4ef8-b7e5-545e8c0ed9ef"
   },
   "outputs": [],
   "source": [
    "fig, ax = plt.subplots(figsize=(20,6))\n",
    "pd.DataFrame(frequent_models.groupby(['MODEL', 'OVERALL_RESULT']).size()).unstack().plot.bar(ax=ax)\n",
    "#pd.DataFrame(df.groupby(['MODEL', 'OVERALL_RESULT']).size().sort_values(ascending=False).head(100)"
   ]
  },
  {
   "cell_type": "code",
   "execution_count": null,
   "metadata": {
    "colab": {
     "base_uri": "https://localhost:8080/",
     "height": 449
    },
    "colab_type": "code",
    "id": "1wRahEzoS9qc",
    "outputId": "21e79ea7-38d4-4de3-8fa1-35665e5663dc"
   },
   "outputs": [],
   "source": [
    "# some of the cars DO seem to have a higher FAIL ratio (--> F150 Pickup, Ranger), but there are other Pickups that don't\n",
    "fig, ax = plt.subplots(figsize=(20,6))\n",
    "pd.DataFrame(frequent_models.groupby(['MODEL', 'OVERALL_RESULT']).size()/frequent_models.groupby('MODEL').size()).unstack().plot.bar(ax=ax, stacked=True)"
   ]
  },
  {
   "cell_type": "code",
   "execution_count": null,
   "metadata": {
    "colab": {
     "base_uri": "https://localhost:8080/",
     "height": 446
    },
    "colab_type": "code",
    "id": "MfiEKcjZTQA0",
    "outputId": "fb000362-a526-462c-d547-66d7c8048cf5"
   },
   "outputs": [],
   "source": [
    "#as expected, older cars seem to fail more often. There is no obvious relation between MODEL and RESULT.\n",
    "fig, ax = plt.subplots(figsize=(20,6))\n",
    "plt.xticks(rotation=90)\n",
    "sns.scatterplot(data=frequent_models, x='MODEL', y='AGE', hue='OVERALL_RESULT', s=100, alpha=.05)"
   ]
  },
  {
   "cell_type": "code",
   "execution_count": null,
   "metadata": {
    "colab": {
     "base_uri": "https://localhost:8080/",
     "height": 446
    },
    "colab_type": "code",
    "id": "F-NDxBq4cbe3",
    "outputId": "21fcdd4f-0322-472c-c05b-9209205ed404"
   },
   "outputs": [],
   "source": [
    "#some of the models have more wrong odometer values (but here, a ration would be more informative than absolute values..)\n",
    "fig, ax = plt.subplots(figsize=(20,6))\n",
    "df[(df.ODOMETER == 88888888) | (df.ODOMETER == 100000)| (df.ODOMETER == 8888888)| (df.ODOMETER == 88888) | (df.ODOMETER == 0)].groupby('MODEL').size().sort_values(ascending=False).head(100).plot.bar()"
   ]
  },
  {
   "cell_type": "markdown",
   "metadata": {
    "colab_type": "text",
    "id": "EOifMx0GjMZc"
   },
   "source": [
    "#STATION_NUM \n",
    "Some of the stations do loads of tests, but no unexpected patterns in this variable by now. \n",
    "Failed to plot percentages of overall_result Pass/Fail by station, which would be nice to have but not mandatory I guess (see below).\n"
   ]
  },
  {
   "cell_type": "code",
   "execution_count": null,
   "metadata": {
    "colab": {
     "base_uri": "https://localhost:8080/",
     "height": 369
    },
    "colab_type": "code",
    "id": "3dry4GFekMEI",
    "outputId": "22740ce9-901a-4ce5-fed5-cd93439290c5"
   },
   "outputs": [],
   "source": [
    "fig, ax = plt.subplots(figsize=(20,6))\n",
    "df.groupby('STATION_NUM').size().sort_values(ascending=False).head(100).plot.bar()"
   ]
  },
  {
   "cell_type": "code",
   "execution_count": null,
   "metadata": {
    "colab": {
     "base_uri": "https://localhost:8080/",
     "height": 371
    },
    "colab_type": "code",
    "id": "eWf1yZQcjnSV",
    "outputId": "f6a05022-6c2a-4b39-8e04-1646caf65be1"
   },
   "outputs": [],
   "source": [
    "fig, ax = plt.subplots(figsize=(20,6))\n",
    "pd.DataFrame(df.groupby(['STATION_NUM', 'OVERALL_RESULT']).size()/df.groupby('STATION_NUM').size()).unstack().plot.bar(ax=ax, stacked=True)"
   ]
  },
  {
   "cell_type": "markdown",
   "metadata": {
    "colab_type": "text",
    "id": "MR0WC85qjPmO"
   },
   "source": [
    "### calculate percentage of fails and passes per station to find out whether there are stations which are biased. \n",
    "--> I don't think that this will be important for any model but might help the client or might help us to understand the data better and/or remove data from biased stations?\n",
    "\n",
    "*percentage calculation by Isabelle Nguyen*"
   ]
  },
  {
   "cell_type": "code",
   "execution_count": null,
   "metadata": {
    "colab": {},
    "colab_type": "code",
    "id": "1U7K5ofRnTxx"
   },
   "outputs": [],
   "source": [
    "top_indices = df.groupby(['STATION_NUM']).size().sort_values(ascending=False).head(20).index#.head(240).unstack()"
   ]
  },
  {
   "cell_type": "code",
   "execution_count": null,
   "metadata": {
    "colab": {
     "base_uri": "https://localhost:8080/",
     "height": 408
    },
    "colab_type": "code",
    "id": "PdZyKBipvVKL",
    "outputId": "fb2e143f-5776-443a-fef7-52d90fdfd7ea"
   },
   "outputs": [],
   "source": [
    "fig, ax = plt.subplots(figsize=(14,6))\n",
    "top_stations = df[df.STATION_NUM.isin(top_indices)]\n",
    "pd.DataFrame(top_stations.groupby(['STATION_NUM','OVERALL_RESULT']).size()/top_stations.groupby('STATION_NUM').size()).unstack().fillna(0).plot.bar(ax=ax, stacked=True)\n",
    "plt.show()"
   ]
  },
  {
   "cell_type": "code",
   "execution_count": null,
   "metadata": {
    "colab": {
     "base_uri": "https://localhost:8080/",
     "height": 296
    },
    "colab_type": "code",
    "id": "6jea_jSkno0y",
    "outputId": "43db167c-e1c1-44c1-d0fd-a3160967469d"
   },
   "outputs": [],
   "source": [
    "df[df.STATION_NUM == 'VP001'].groupby('OVERALL_RESULT').size().plot.bar()"
   ]
  },
  {
   "cell_type": "code",
   "execution_count": null,
   "metadata": {
    "colab": {
     "base_uri": "https://localhost:8080/",
     "height": 193
    },
    "colab_type": "code",
    "id": "q12iZMwEveFy",
    "outputId": "3409ed0e-08d6-42da-b5a8-0ff387c774b1"
   },
   "outputs": [],
   "source": [
    "#df['OVERALL_RESULT'].value_counts(normalize=True) * 100\n",
    "tab = pd.crosstab(df['OVERALL_RESULT'],df['STATION_NUM']).apply(lambda r: r/r.sum(), axis=1)\n",
    "tab"
   ]
  },
  {
   "cell_type": "code",
   "execution_count": null,
   "metadata": {
    "colab": {},
    "colab_type": "code",
    "id": "FX073oL6A8ug"
   },
   "outputs": [],
   "source": [
    "df = df[df.OVERALL_RESULT.isin(['P', 'F'])]\n"
   ]
  },
  {
   "cell_type": "code",
   "execution_count": null,
   "metadata": {
    "colab": {},
    "colab_type": "code",
    "id": "3gz7KfptrQsQ"
   },
   "outputs": [],
   "source": [
    "#df.groupby(['STATION_NUM', 'OVERALL_RESULT']).size().reset_index(name='counts')\n",
    "counts = df.groupby(['STATION_NUM', 'OVERALL_RESULT']).size().reset_index(name='counts')"
   ]
  },
  {
   "cell_type": "code",
   "execution_count": null,
   "metadata": {
    "colab": {},
    "colab_type": "code",
    "id": "YGDvFux_CTsr"
   },
   "outputs": [],
   "source": [
    "counts"
   ]
  },
  {
   "cell_type": "markdown",
   "metadata": {
    "colab_type": "text",
    "id": "u368t72zJ0bW"
   },
   "source": [
    "cyl, trans type, dual exhaust"
   ]
  },
  {
   "cell_type": "markdown",
   "metadata": {
    "colab_type": "text",
    "id": "aUz0SRTJxuOS"
   },
   "source": [
    "#CYLINDER\n",
    "has a strange value \"R\" - but it is not frequent (N=90) and can eventually be removed (?)\n",
    "tranforming to float makes the variable more consistent"
   ]
  },
  {
   "cell_type": "code",
   "execution_count": null,
   "metadata": {
    "colab": {},
    "colab_type": "code",
    "id": "CUScAn3VtO-L"
   },
   "outputs": [],
   "source": [
    "df.CYL.describe()\n",
    "\n",
    "\n"
   ]
  },
  {
   "cell_type": "code",
   "execution_count": null,
   "metadata": {
    "colab": {},
    "colab_type": "code",
    "id": "KZ6WngQ4yCTz"
   },
   "outputs": [],
   "source": [
    "df.CYL.value_counts()"
   ]
  },
  {
   "cell_type": "code",
   "execution_count": null,
   "metadata": {
    "colab": {},
    "colab_type": "code",
    "id": "sa5lAiGfx-La"
   },
   "outputs": [],
   "source": [
    "df = df[df.CYL != 'R']"
   ]
  },
  {
   "cell_type": "code",
   "execution_count": null,
   "metadata": {
    "colab": {},
    "colab_type": "code",
    "id": "fo_rqAZctt91"
   },
   "outputs": [],
   "source": [
    "df[\"CYL\"] = df.CYL.astype(float)\n",
    "df.CYL.describe()"
   ]
  },
  {
   "cell_type": "code",
   "execution_count": null,
   "metadata": {
    "colab": {},
    "colab_type": "code",
    "id": "qX49wp_ptGwn"
   },
   "outputs": [],
   "source": [
    "fig, ax = plt.subplots(figsize=(20,6))\n",
    "df.groupby('CYL').size().sort_values(ascending=False).head(100).plot.bar()"
   ]
  },
  {
   "cell_type": "markdown",
   "metadata": {
    "colab_type": "text",
    "id": "jU9gyq7YzJaG"
   },
   "source": [
    "#trans type = transmission type\n",
    "binary condition with categories \"A\" & \"M\"\n",
    "which apparently refer to \"automatic\" or \"manual\" transmission\n",
    "Percentages: \n",
    "* A    83% automatic\n",
    "* M    16% manual\n",
    "\n",
    "--> I don't think it will be a useful feature\n"
   ]
  },
  {
   "cell_type": "code",
   "execution_count": null,
   "metadata": {
    "colab": {},
    "colab_type": "code",
    "id": "4EnwlTewyumB"
   },
   "outputs": [],
   "source": [
    "df.TRANS_TYPE.describe()"
   ]
  },
  {
   "cell_type": "code",
   "execution_count": null,
   "metadata": {
    "colab": {},
    "colab_type": "code",
    "id": "WRM8g1Y2y0JM"
   },
   "outputs": [],
   "source": [
    "df.TRANS_TYPE.value_counts()"
   ]
  },
  {
   "cell_type": "code",
   "execution_count": null,
   "metadata": {
    "colab": {},
    "colab_type": "code",
    "id": "gBBQZXluhvJO"
   },
   "outputs": [],
   "source": [
    "df['TRANS_TYPE'].value_counts(normalize=True) * 100"
   ]
  },
  {
   "cell_type": "code",
   "execution_count": null,
   "metadata": {
    "colab": {},
    "colab_type": "code",
    "id": "bS2mtQ62y9A3"
   },
   "outputs": [],
   "source": [
    "fig, ax = plt.subplots(figsize=(20,6))\n",
    "df.groupby('TRANS_TYPE').size().sort_values(ascending=False).head(100).plot.bar()"
   ]
  },
  {
   "cell_type": "markdown",
   "metadata": {
    "colab_type": "text",
    "id": "HOA-Tmy80mBf"
   },
   "source": [
    "#dual exhaust\n",
    "might make a car more efficient (https://resource-center.meineke.com/dual-exhausts-just-for-looks/)\n",
    "\n",
    "I'd suggest not to use dual_exhaust further.\n",
    "The variable is binary (Yes/No) and has only a very few occurrences of Yes (0.6%). It encodes if the car has two exhaust pipes, which makes bigger cars more efficient.\n",
    "\n",
    "Percentage of Dual Exhaust Cars: \n",
    "\n",
    "* NO   99.4%\n",
    "* YES   0.6%\n",
    "\n",
    "\n"
   ]
  },
  {
   "cell_type": "code",
   "execution_count": null,
   "metadata": {
    "colab": {},
    "colab_type": "code",
    "id": "oZJNWuyTz2Dj"
   },
   "outputs": [],
   "source": [
    "df.DUAL_EXHAUST.describe()"
   ]
  },
  {
   "cell_type": "code",
   "execution_count": null,
   "metadata": {
    "colab": {},
    "colab_type": "code",
    "id": "ooflQrTKz_Iv"
   },
   "outputs": [],
   "source": [
    "df.DUAL_EXHAUST.value_counts()"
   ]
  },
  {
   "cell_type": "code",
   "execution_count": null,
   "metadata": {
    "colab": {},
    "colab_type": "code",
    "id": "IUcpFk-bhHm0"
   },
   "outputs": [],
   "source": [
    "df['DUAL_EXHAUST'].value_counts(normalize=True) * 100"
   ]
  },
  {
   "cell_type": "code",
   "execution_count": null,
   "metadata": {
    "colab": {},
    "colab_type": "code",
    "id": "4I5rvibM0HoV"
   },
   "outputs": [],
   "source": [
    "fig, ax = plt.subplots(figsize=(20,6))\n",
    "df.groupby('DUAL_EXHAUST').size().sort_values(ascending=False).head(100).plot.bar()"
   ]
  },
  {
   "cell_type": "markdown",
   "metadata": {
    "colab_type": "text",
    "id": "bP_9uh1Y1dQN"
   },
   "source": [
    "# SOFTWARE VERSION\n",
    "the numbers are strange - the version numbers all have three digits, but there is only one frequently used software version 5xx, but mostly 1xx and 2xx"
   ]
  },
  {
   "cell_type": "code",
   "execution_count": null,
   "metadata": {
    "colab": {},
    "colab_type": "code",
    "id": "b7uOa5b_01mo"
   },
   "outputs": [],
   "source": [
    "df.SOFTWARE_VERSION.describe()"
   ]
  },
  {
   "cell_type": "code",
   "execution_count": null,
   "metadata": {
    "colab": {},
    "colab_type": "code",
    "id": "vgP9xW-y1Oxe"
   },
   "outputs": [],
   "source": [
    "fig, ax = plt.subplots(figsize=(20,6))\n",
    "df.groupby('SOFTWARE_VERSION').size().sort_values(ascending=False).plot.bar()"
   ]
  },
  {
   "cell_type": "code",
   "execution_count": null,
   "metadata": {
    "colab": {},
    "colab_type": "code",
    "id": "tWwUExrv16BX"
   },
   "outputs": [],
   "source": [
    "fig, ax = plt.subplots(figsize=(20,6))\n",
    "pd.DataFrame(frequent_models.groupby(['SOFTWARE_VERSION', 'OVERALL_RESULT']).size()).unstack().plot.bar(ax=ax)"
   ]
  },
  {
   "cell_type": "code",
   "execution_count": null,
   "metadata": {
    "colab": {},
    "colab_type": "code",
    "id": "wx78vUAK2Gj1"
   },
   "outputs": [],
   "source": [
    "df.groupby('SOFTWARE_VERSION')['OVERALL_RESULT'].count()"
   ]
  }
 ],
 "metadata": {
  "colab": {
   "collapsed_sections": [],
   "include_colab_link": true,
   "name": "EDA_important_car_features_biased_stations_software.ipynb",
   "provenance": [],
   "toc_visible": true
  },
  "kernelspec": {
   "display_name": "Python 3",
   "language": "python",
   "name": "python3"
  },
  "language_info": {
   "codemirror_mode": {
    "name": "ipython",
    "version": 3
   },
   "file_extension": ".py",
   "mimetype": "text/x-python",
   "name": "python",
   "nbconvert_exporter": "python",
   "pygments_lexer": "ipython3",
   "version": "3.7.4"
  }
 },
 "nbformat": 4,
 "nbformat_minor": 1
}
