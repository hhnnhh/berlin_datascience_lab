{
 "cells": [
  {
   "cell_type": "markdown",
   "metadata": {
    "colab_type": "text",
    "id": "view-in-github"
   },
   "source": [
    "<a href=\"https://colab.research.google.com/github/hhnnhh/berlin_datascience_lab/blob/master/EDA_emissions_scatterplot.ipynb\" target=\"_parent\"><img src=\"https://colab.research.google.com/assets/colab-badge.svg\" alt=\"Open In Colab\"/></a>"
   ]
  },
  {
   "cell_type": "markdown",
   "metadata": {
    "colab_type": "text",
    "id": "qNyQ3qqXYKKc"
   },
   "source": [
    "# Exploratory Data Analysis: \n",
    "by Hannah Bohle\n",
    "\n",
    "digging deeper into the scatterplot of 'E_IDLE_CO2' and 'E_HIGH_CO2', removing outlier, to be able to see their true distribution. "
   ]
  },
  {
   "cell_type": "code",
   "execution_count": null,
   "metadata": {
    "colab": {
     "base_uri": "https://localhost:8080/",
     "height": 75
    },
    "colab_type": "code",
    "id": "2MYxtFSjDf2K",
    "outputId": "c0957edb-62e9-478e-eca1-69837e5d511b"
   },
   "outputs": [
    {
     "name": "stderr",
     "output_type": "stream",
     "text": [
      "/usr/local/lib/python3.6/dist-packages/statsmodels/tools/_testing.py:19: FutureWarning: pandas.util.testing is deprecated. Use the functions in the public API at pandas.testing instead.\n",
      "  import pandas.util.testing as tm\n"
     ]
    }
   ],
   "source": [
    "import pandas as pd\n",
    "import seaborn as sns\n",
    "import matplotlib.pyplot as plt\n",
    "pd.set_option('display.max_columns', 200)\n",
    "pd.set_option('display.max_rows', 200)\n",
    "%matplotlib inline"
   ]
  },
  {
   "cell_type": "code",
   "execution_count": null,
   "metadata": {
    "colab": {
     "base_uri": "https://localhost:8080/",
     "height": 132
    },
    "colab_type": "code",
    "id": "sx1HqqIIEKtI",
    "outputId": "77f16ea1-251c-4da7-d3da-68b0fd3f4201"
   },
   "outputs": [
    {
     "name": "stdout",
     "output_type": "stream",
     "text": [
      "Go to this URL in a browser: https://accounts.google.com/o/oauth2/auth?client_id=947318989803-6bn6qk8qdgf4n4g3pfee6491hc0brc4i.apps.googleusercontent.com&redirect_uri=urn%3aietf%3awg%3aoauth%3a2.0%3aoob&response_type=code&scope=email%20https%3a%2f%2fwww.googleapis.com%2fauth%2fdocs.test%20https%3a%2f%2fwww.googleapis.com%2fauth%2fdrive%20https%3a%2f%2fwww.googleapis.com%2fauth%2fdrive.photos.readonly%20https%3a%2f%2fwww.googleapis.com%2fauth%2fpeopleapi.readonly\n",
      "\n",
      "Enter your authorization code:\n",
      "··········\n",
      "Mounted at /content/drive\n"
     ]
    }
   ],
   "source": [
    "from google.colab import drive\n",
    "\n",
    "drive.mount('/content/drive')"
   ]
  },
  {
   "cell_type": "code",
   "execution_count": null,
   "metadata": {
    "colab": {},
    "colab_type": "code",
    "id": "Ejr9RI0lEl_k"
   },
   "outputs": [],
   "source": [
    "data_path = '/content/drive/My Drive/WIMLDS/'"
   ]
  },
  {
   "cell_type": "code",
   "execution_count": null,
   "metadata": {
    "colab": {
     "base_uri": "https://localhost:8080/",
     "height": 264
    },
    "colab_type": "code",
    "id": "-yyRH8nqOBiE",
    "outputId": "e5c616da-3b77-44f9-99a2-3def99f79d06"
   },
   "outputs": [
    {
     "name": "stderr",
     "output_type": "stream",
     "text": [
      "/usr/local/lib/python3.6/dist-packages/IPython/core/interactiveshell.py:2718: DtypeWarning: Columns (5,18,26,108,109) have mixed types.Specify dtype option on import or set low_memory=False.\n",
      "  interactivity=interactivity, compiler=compiler, result=result)\n"
     ]
    },
    {
     "data": {
      "text/html": [
       "<div>\n",
       "<style scoped>\n",
       "    .dataframe tbody tr th:only-of-type {\n",
       "        vertical-align: middle;\n",
       "    }\n",
       "\n",
       "    .dataframe tbody tr th {\n",
       "        vertical-align: top;\n",
       "    }\n",
       "\n",
       "    .dataframe thead th {\n",
       "        text-align: right;\n",
       "    }\n",
       "</style>\n",
       "<table border=\"1\" class=\"dataframe\">\n",
       "  <thead>\n",
       "    <tr style=\"text-align: right;\">\n",
       "      <th></th>\n",
       "      <th>E_TEST_SEQUENCE</th>\n",
       "      <th>E_PRECOND_PROCEDURE</th>\n",
       "      <th>E_HIGH_DCF</th>\n",
       "      <th>E_HIGH_RPM</th>\n",
       "      <th>E_HIGH_CO2</th>\n",
       "      <th>E_HIGH_O2</th>\n",
       "      <th>E_HIGH_HC</th>\n",
       "      <th>E_HIGH_HC_DCF</th>\n",
       "      <th>E_HIGH_HC_LIMIT</th>\n",
       "      <th>E_HIGH_CO</th>\n",
       "      <th>E_HIGH_CO_DCF</th>\n",
       "      <th>E_HIGH_CO_LIMIT</th>\n",
       "      <th>E_IDLE_DCF</th>\n",
       "      <th>E_IDLE_RPM</th>\n",
       "      <th>E_IDLE_CO2</th>\n",
       "      <th>E_IDLE_O2</th>\n",
       "      <th>E_IDLE_HC</th>\n",
       "      <th>E_IDLE_HC_DCF</th>\n",
       "      <th>E_IDLE_HC_LIMIT</th>\n",
       "      <th>E_IDLE_CO</th>\n",
       "      <th>E_IDLE_CO_DCF</th>\n",
       "      <th>E_IDLE_CO_LIMIT</th>\n",
       "      <th>E_HIGH_DCF_2</th>\n",
       "      <th>E_HIGH_RPM_2</th>\n",
       "      <th>E_HIGH_CO2_2</th>\n",
       "      <th>E_HIGH_O2_2</th>\n",
       "      <th>E_HIGH_HC_2</th>\n",
       "      <th>E_HIGH_HC_DCF_2</th>\n",
       "      <th>E_HIGH_CO_2</th>\n",
       "      <th>E_HIGH_CO_DCF_2</th>\n",
       "      <th>E_IDLE_DCF_2</th>\n",
       "      <th>E_IDLE_RPM_2</th>\n",
       "      <th>E_IDLE_CO2_2</th>\n",
       "      <th>E_IDLE_O2_2</th>\n",
       "      <th>E_IDLE_HC_2</th>\n",
       "      <th>E_IDLE_HC_DCF_2</th>\n",
       "      <th>E_IDLE_CO_2</th>\n",
       "      <th>E_IDLE_CO_DCF_2</th>\n",
       "      <th>E_RESULT_STRING</th>\n",
       "      <th>OVERALL_RESULT</th>\n",
       "      <th>E_HIGH_CO_RESULT</th>\n",
       "      <th>E_HIGH_HC_RESULT</th>\n",
       "      <th>E_IDLE_CO_RESULT</th>\n",
       "      <th>E_IDLE_HC_RESULT</th>\n",
       "    </tr>\n",
       "  </thead>\n",
       "  <tbody>\n",
       "    <tr>\n",
       "      <th>0</th>\n",
       "      <td>1</td>\n",
       "      <td>1</td>\n",
       "      <td>1.21</td>\n",
       "      <td>2676</td>\n",
       "      <td>12.7</td>\n",
       "      <td>3.57</td>\n",
       "      <td>18</td>\n",
       "      <td>22</td>\n",
       "      <td>180</td>\n",
       "      <td>0.0</td>\n",
       "      <td>0.0</td>\n",
       "      <td>1.2</td>\n",
       "      <td>1.23</td>\n",
       "      <td>809.0</td>\n",
       "      <td>12.4</td>\n",
       "      <td>3.8</td>\n",
       "      <td>26.0</td>\n",
       "      <td>32.0</td>\n",
       "      <td>180.0</td>\n",
       "      <td>0.03</td>\n",
       "      <td>0.04</td>\n",
       "      <td>1.2</td>\n",
       "      <td>0.0</td>\n",
       "      <td>0.0</td>\n",
       "      <td>0.0</td>\n",
       "      <td>0.0</td>\n",
       "      <td>0.0</td>\n",
       "      <td>0.0</td>\n",
       "      <td>0.0</td>\n",
       "      <td>0.0</td>\n",
       "      <td>0.0</td>\n",
       "      <td>0.0</td>\n",
       "      <td>0.0</td>\n",
       "      <td>0.0</td>\n",
       "      <td>0.0</td>\n",
       "      <td>0.0</td>\n",
       "      <td>0.0</td>\n",
       "      <td>0.0</td>\n",
       "      <td>P</td>\n",
       "      <td>P</td>\n",
       "      <td>P</td>\n",
       "      <td>P</td>\n",
       "      <td>P</td>\n",
       "      <td>P</td>\n",
       "    </tr>\n",
       "    <tr>\n",
       "      <th>1</th>\n",
       "      <td>1</td>\n",
       "      <td>1</td>\n",
       "      <td>0.00</td>\n",
       "      <td>0</td>\n",
       "      <td>0.0</td>\n",
       "      <td>0.00</td>\n",
       "      <td>0</td>\n",
       "      <td>0</td>\n",
       "      <td>100</td>\n",
       "      <td>0.0</td>\n",
       "      <td>0.0</td>\n",
       "      <td>1.0</td>\n",
       "      <td>0.00</td>\n",
       "      <td>0.0</td>\n",
       "      <td>0.0</td>\n",
       "      <td>0.0</td>\n",
       "      <td>0.0</td>\n",
       "      <td>0.0</td>\n",
       "      <td>100.0</td>\n",
       "      <td>0.00</td>\n",
       "      <td>0.00</td>\n",
       "      <td>1.0</td>\n",
       "      <td>0.0</td>\n",
       "      <td>0.0</td>\n",
       "      <td>0.0</td>\n",
       "      <td>0.0</td>\n",
       "      <td>0.0</td>\n",
       "      <td>0.0</td>\n",
       "      <td>0.0</td>\n",
       "      <td>0.0</td>\n",
       "      <td>0.0</td>\n",
       "      <td>0.0</td>\n",
       "      <td>0.0</td>\n",
       "      <td>0.0</td>\n",
       "      <td>0.0</td>\n",
       "      <td>0.0</td>\n",
       "      <td>0.0</td>\n",
       "      <td>0.0</td>\n",
       "      <td>N</td>\n",
       "      <td>P</td>\n",
       "      <td>N</td>\n",
       "      <td>N</td>\n",
       "      <td>N</td>\n",
       "      <td>N</td>\n",
       "    </tr>\n",
       "    <tr>\n",
       "      <th>2</th>\n",
       "      <td>1</td>\n",
       "      <td>1</td>\n",
       "      <td>1.47</td>\n",
       "      <td>2480</td>\n",
       "      <td>10.4</td>\n",
       "      <td>6.73</td>\n",
       "      <td>20</td>\n",
       "      <td>29</td>\n",
       "      <td>200</td>\n",
       "      <td>0.0</td>\n",
       "      <td>0.0</td>\n",
       "      <td>1.2</td>\n",
       "      <td>0.00</td>\n",
       "      <td>690.0</td>\n",
       "      <td>0.0</td>\n",
       "      <td>0.0</td>\n",
       "      <td>0.0</td>\n",
       "      <td>0.0</td>\n",
       "      <td>200.0</td>\n",
       "      <td>0.00</td>\n",
       "      <td>0.00</td>\n",
       "      <td>1.2</td>\n",
       "      <td>0.0</td>\n",
       "      <td>0.0</td>\n",
       "      <td>0.0</td>\n",
       "      <td>0.0</td>\n",
       "      <td>0.0</td>\n",
       "      <td>0.0</td>\n",
       "      <td>0.0</td>\n",
       "      <td>0.0</td>\n",
       "      <td>0.0</td>\n",
       "      <td>0.0</td>\n",
       "      <td>0.0</td>\n",
       "      <td>0.0</td>\n",
       "      <td>0.0</td>\n",
       "      <td>0.0</td>\n",
       "      <td>0.0</td>\n",
       "      <td>0.0</td>\n",
       "      <td>F</td>\n",
       "      <td>A</td>\n",
       "      <td>P</td>\n",
       "      <td>P</td>\n",
       "      <td>P</td>\n",
       "      <td>P</td>\n",
       "    </tr>\n",
       "    <tr>\n",
       "      <th>3</th>\n",
       "      <td>1</td>\n",
       "      <td>1</td>\n",
       "      <td>1.13</td>\n",
       "      <td>2495</td>\n",
       "      <td>13.6</td>\n",
       "      <td>2.32</td>\n",
       "      <td>12</td>\n",
       "      <td>14</td>\n",
       "      <td>300</td>\n",
       "      <td>0.0</td>\n",
       "      <td>0.0</td>\n",
       "      <td>3.0</td>\n",
       "      <td>1.24</td>\n",
       "      <td>911.0</td>\n",
       "      <td>12.4</td>\n",
       "      <td>4.1</td>\n",
       "      <td>12.0</td>\n",
       "      <td>15.0</td>\n",
       "      <td>300.0</td>\n",
       "      <td>0.00</td>\n",
       "      <td>0.00</td>\n",
       "      <td>1.2</td>\n",
       "      <td>0.0</td>\n",
       "      <td>0.0</td>\n",
       "      <td>0.0</td>\n",
       "      <td>0.0</td>\n",
       "      <td>0.0</td>\n",
       "      <td>0.0</td>\n",
       "      <td>0.0</td>\n",
       "      <td>0.0</td>\n",
       "      <td>0.0</td>\n",
       "      <td>0.0</td>\n",
       "      <td>0.0</td>\n",
       "      <td>0.0</td>\n",
       "      <td>0.0</td>\n",
       "      <td>0.0</td>\n",
       "      <td>0.0</td>\n",
       "      <td>0.0</td>\n",
       "      <td>P</td>\n",
       "      <td>P</td>\n",
       "      <td>P</td>\n",
       "      <td>P</td>\n",
       "      <td>P</td>\n",
       "      <td>P</td>\n",
       "    </tr>\n",
       "    <tr>\n",
       "      <th>4</th>\n",
       "      <td>1</td>\n",
       "      <td>1</td>\n",
       "      <td>0.00</td>\n",
       "      <td>0</td>\n",
       "      <td>0.0</td>\n",
       "      <td>0.00</td>\n",
       "      <td>0</td>\n",
       "      <td>0</td>\n",
       "      <td>100</td>\n",
       "      <td>0.0</td>\n",
       "      <td>0.0</td>\n",
       "      <td>1.0</td>\n",
       "      <td>0.00</td>\n",
       "      <td>0.0</td>\n",
       "      <td>0.0</td>\n",
       "      <td>0.0</td>\n",
       "      <td>0.0</td>\n",
       "      <td>0.0</td>\n",
       "      <td>100.0</td>\n",
       "      <td>0.00</td>\n",
       "      <td>0.00</td>\n",
       "      <td>1.0</td>\n",
       "      <td>0.0</td>\n",
       "      <td>0.0</td>\n",
       "      <td>0.0</td>\n",
       "      <td>0.0</td>\n",
       "      <td>0.0</td>\n",
       "      <td>0.0</td>\n",
       "      <td>0.0</td>\n",
       "      <td>0.0</td>\n",
       "      <td>0.0</td>\n",
       "      <td>0.0</td>\n",
       "      <td>0.0</td>\n",
       "      <td>0.0</td>\n",
       "      <td>0.0</td>\n",
       "      <td>0.0</td>\n",
       "      <td>0.0</td>\n",
       "      <td>0.0</td>\n",
       "      <td>N</td>\n",
       "      <td>P</td>\n",
       "      <td>N</td>\n",
       "      <td>N</td>\n",
       "      <td>N</td>\n",
       "      <td>N</td>\n",
       "    </tr>\n",
       "  </tbody>\n",
       "</table>\n",
       "</div>"
      ],
      "text/plain": [
       "   E_TEST_SEQUENCE  E_PRECOND_PROCEDURE  E_HIGH_DCF  E_HIGH_RPM  E_HIGH_CO2  \\\n",
       "0                1                    1        1.21        2676        12.7   \n",
       "1                1                    1        0.00           0         0.0   \n",
       "2                1                    1        1.47        2480        10.4   \n",
       "3                1                    1        1.13        2495        13.6   \n",
       "4                1                    1        0.00           0         0.0   \n",
       "\n",
       "   E_HIGH_O2  E_HIGH_HC  E_HIGH_HC_DCF  E_HIGH_HC_LIMIT  E_HIGH_CO  \\\n",
       "0       3.57         18             22              180        0.0   \n",
       "1       0.00          0              0              100        0.0   \n",
       "2       6.73         20             29              200        0.0   \n",
       "3       2.32         12             14              300        0.0   \n",
       "4       0.00          0              0              100        0.0   \n",
       "\n",
       "   E_HIGH_CO_DCF  E_HIGH_CO_LIMIT  E_IDLE_DCF  E_IDLE_RPM  E_IDLE_CO2  \\\n",
       "0            0.0              1.2        1.23       809.0        12.4   \n",
       "1            0.0              1.0        0.00         0.0         0.0   \n",
       "2            0.0              1.2        0.00       690.0         0.0   \n",
       "3            0.0              3.0        1.24       911.0        12.4   \n",
       "4            0.0              1.0        0.00         0.0         0.0   \n",
       "\n",
       "   E_IDLE_O2  E_IDLE_HC  E_IDLE_HC_DCF  E_IDLE_HC_LIMIT  E_IDLE_CO  \\\n",
       "0        3.8       26.0           32.0            180.0       0.03   \n",
       "1        0.0        0.0            0.0            100.0       0.00   \n",
       "2        0.0        0.0            0.0            200.0       0.00   \n",
       "3        4.1       12.0           15.0            300.0       0.00   \n",
       "4        0.0        0.0            0.0            100.0       0.00   \n",
       "\n",
       "   E_IDLE_CO_DCF  E_IDLE_CO_LIMIT  E_HIGH_DCF_2  E_HIGH_RPM_2  E_HIGH_CO2_2  \\\n",
       "0           0.04              1.2           0.0           0.0           0.0   \n",
       "1           0.00              1.0           0.0           0.0           0.0   \n",
       "2           0.00              1.2           0.0           0.0           0.0   \n",
       "3           0.00              1.2           0.0           0.0           0.0   \n",
       "4           0.00              1.0           0.0           0.0           0.0   \n",
       "\n",
       "   E_HIGH_O2_2  E_HIGH_HC_2  E_HIGH_HC_DCF_2  E_HIGH_CO_2  E_HIGH_CO_DCF_2  \\\n",
       "0          0.0          0.0              0.0          0.0              0.0   \n",
       "1          0.0          0.0              0.0          0.0              0.0   \n",
       "2          0.0          0.0              0.0          0.0              0.0   \n",
       "3          0.0          0.0              0.0          0.0              0.0   \n",
       "4          0.0          0.0              0.0          0.0              0.0   \n",
       "\n",
       "   E_IDLE_DCF_2  E_IDLE_RPM_2  E_IDLE_CO2_2  E_IDLE_O2_2  E_IDLE_HC_2  \\\n",
       "0           0.0           0.0           0.0          0.0          0.0   \n",
       "1           0.0           0.0           0.0          0.0          0.0   \n",
       "2           0.0           0.0           0.0          0.0          0.0   \n",
       "3           0.0           0.0           0.0          0.0          0.0   \n",
       "4           0.0           0.0           0.0          0.0          0.0   \n",
       "\n",
       "   E_IDLE_HC_DCF_2  E_IDLE_CO_2  E_IDLE_CO_DCF_2 E_RESULT_STRING  \\\n",
       "0              0.0          0.0              0.0               P   \n",
       "1              0.0          0.0              0.0               N   \n",
       "2              0.0          0.0              0.0               F   \n",
       "3              0.0          0.0              0.0               P   \n",
       "4              0.0          0.0              0.0               N   \n",
       "\n",
       "  OVERALL_RESULT E_HIGH_CO_RESULT E_HIGH_HC_RESULT E_IDLE_CO_RESULT  \\\n",
       "0              P                P                P                P   \n",
       "1              P                N                N                N   \n",
       "2              A                P                P                P   \n",
       "3              P                P                P                P   \n",
       "4              P                N                N                N   \n",
       "\n",
       "  E_IDLE_HC_RESULT  \n",
       "0                P  \n",
       "1                N  \n",
       "2                P  \n",
       "3                P  \n",
       "4                N  "
      ]
     },
     "execution_count": 4,
     "metadata": {
      "tags": []
     },
     "output_type": "execute_result"
    }
   ],
   "source": [
    "cars2 = pd.read_csv(data_path + 'sample.csv', parse_dates=['TEST_SDATE', 'TEST_EDATE'], lineterminator='\\n')\n",
    "filter_col = [col for col in cars2 if col.startswith('E_') | col.startswith('OVERALL_RESULT') ]\n",
    "E_cars = cars2[filter_col]\n",
    "E_cars.head()"
   ]
  },
  {
   "cell_type": "code",
   "execution_count": null,
   "metadata": {
    "colab": {
     "base_uri": "https://localhost:8080/",
     "height": 36
    },
    "colab_type": "code",
    "id": "MF8BlZOkiPmA",
    "outputId": "762c5fc4-e7e7-4141-beb4-385babe77587"
   },
   "outputs": [
    {
     "data": {
      "text/plain": [
       "(235177, 44)"
      ]
     },
     "execution_count": 5,
     "metadata": {
      "tags": []
     },
     "output_type": "execute_result"
    }
   ],
   "source": [
    "E_cars.shape"
   ]
  },
  {
   "cell_type": "code",
   "execution_count": null,
   "metadata": {
    "colab": {
     "base_uri": "https://localhost:8080/",
     "height": 299
    },
    "colab_type": "code",
    "id": "77sLYXirJ4Kk",
    "outputId": "ee5fb87d-1f5a-429a-9962-5806f8835a54"
   },
   "outputs": [
    {
     "data": {
      "text/plain": [
       "<matplotlib.axes._subplots.AxesSubplot at 0x7f2c788c8f28>"
      ]
     },
     "execution_count": 6,
     "metadata": {
      "tags": []
     },
     "output_type": "execute_result"
    },
    {
     "data": {
      "image/png": "[encoded data removed]",
      "text/plain": [
       "<Figure size 432x288 with 1 Axes>"
      ]
     },
     "metadata": {
      "needs_background": "light",
      "tags": []
     },
     "output_type": "display_data"
    }
   ],
   "source": [
    "#scatterplot BEFORE outlier correction\n",
    "sns.scatterplot(data=cars2, x='E_IDLE_CO2', y='E_HIGH_CO2', hue='OVERALL_RESULT', alpha=1)"
   ]
  },
  {
   "cell_type": "code",
   "execution_count": null,
   "metadata": {
    "colab": {
     "base_uri": "https://localhost:8080/",
     "height": 188
    },
    "colab_type": "code",
    "id": "HXa6ZkJCr1RL",
    "outputId": "ae511082-7d5f-4b5f-a080-628eea2812f3"
   },
   "outputs": [
    {
     "data": {
      "text/plain": [
       "count    235177.000000\n",
       "mean          2.858425\n",
       "std           5.687424\n",
       "min           0.000000\n",
       "25%           0.000000\n",
       "50%           0.000000\n",
       "75%           0.000000\n",
       "max         269.620000\n",
       "Name: E_HIGH_CO2, dtype: float64"
      ]
     },
     "execution_count": 101,
     "metadata": {
      "tags": []
     },
     "output_type": "execute_result"
    }
   ],
   "source": [
    "#first variable: High_Co2\n",
    "E_cars[\"E_HIGH_CO2\"].describe()"
   ]
  },
  {
   "cell_type": "code",
   "execution_count": null,
   "metadata": {
    "colab": {
     "base_uri": "https://localhost:8080/",
     "height": 265
    },
    "colab_type": "code",
    "id": "sAvlN7vvtN7F",
    "outputId": "4a75571d-684f-49a4-9e60-8efdb823fbb1"
   },
   "outputs": [
    {
     "data": {
      "image/png": "[encoded data removed]",
      "text/plain": [
       "<Figure size 432x288 with 1 Axes>"
      ]
     },
     "metadata": {
      "needs_background": "light",
      "tags": []
     },
     "output_type": "display_data"
    }
   ],
   "source": [
    "#has one outlier\n",
    "plt.boxplot(E_cars[\"E_HIGH_CO2\"])\n",
    "plt.show()"
   ]
  },
  {
   "cell_type": "code",
   "execution_count": null,
   "metadata": {
    "colab": {
     "base_uri": "https://localhost:8080/",
     "height": 303
    },
    "colab_type": "code",
    "id": "f8WWY620up2s",
    "outputId": "d9c24686-ca0c-4449-aad0-18018327d851"
   },
   "outputs": [
    {
     "name": "stderr",
     "output_type": "stream",
     "text": [
      "/usr/local/lib/python3.6/dist-packages/pandas/core/frame.py:3997: SettingWithCopyWarning: \n",
      "A value is trying to be set on a copy of a slice from a DataFrame\n",
      "\n",
      "See the caveats in the documentation: https://pandas.pydata.org/pandas-docs/stable/user_guide/indexing.html#returning-a-view-versus-a-copy\n",
      "  errors=errors,\n"
     ]
    },
    {
     "data": {
      "text/plain": [
       "count    235176.000000\n",
       "mean          2.857290\n",
       "std           5.660772\n",
       "min           0.000000\n",
       "25%           0.000000\n",
       "50%           0.000000\n",
       "75%           0.000000\n",
       "max          30.340000\n",
       "Name: E_HIGH_CO2, dtype: float64"
      ]
     },
     "execution_count": 7,
     "metadata": {
      "tags": []
     },
     "output_type": "execute_result"
    }
   ],
   "source": [
    "#remove the outlier for \"e_high_co2\"\n",
    "index = E_cars[(E_cars[\"E_HIGH_CO2\"] > 100)].index\n",
    "E_cars.drop(index, inplace=True)\n",
    "E_cars[\"E_HIGH_CO2\"].describe()"
   ]
  },
  {
   "cell_type": "code",
   "execution_count": null,
   "metadata": {
    "colab": {
     "base_uri": "https://localhost:8080/",
     "height": 188
    },
    "colab_type": "code",
    "id": "DBLeYFL4vi4k",
    "outputId": "26c3e87f-d94c-45a0-8c4d-a4817771ab7d"
   },
   "outputs": [
    {
     "data": {
      "text/plain": [
       "count    235175.000000\n",
       "mean          2.748527\n",
       "std           5.604533\n",
       "min           0.000000\n",
       "25%           0.000000\n",
       "50%           0.000000\n",
       "75%           0.000000\n",
       "max         271.620000\n",
       "Name: E_IDLE_CO2, dtype: float64"
      ]
     },
     "execution_count": 104,
     "metadata": {
      "tags": []
     },
     "output_type": "execute_result"
    }
   ],
   "source": [
    "E_cars[\"E_IDLE_CO2\"].describe()"
   ]
  },
  {
   "cell_type": "code",
   "execution_count": null,
   "metadata": {
    "colab": {
     "base_uri": "https://localhost:8080/",
     "height": 303
    },
    "colab_type": "code",
    "id": "jKvFg60-vhcT",
    "outputId": "8bf731d0-ddfd-47e3-b119-804fb703552f"
   },
   "outputs": [
    {
     "name": "stderr",
     "output_type": "stream",
     "text": [
      "/usr/local/lib/python3.6/dist-packages/pandas/core/frame.py:3997: SettingWithCopyWarning: \n",
      "A value is trying to be set on a copy of a slice from a DataFrame\n",
      "\n",
      "See the caveats in the documentation: https://pandas.pydata.org/pandas-docs/stable/user_guide/indexing.html#returning-a-view-versus-a-copy\n",
      "  errors=errors,\n"
     ]
    },
    {
     "data": {
      "text/plain": [
       "count    235172.000000\n",
       "mean          2.745219\n",
       "std           5.527460\n",
       "min           0.000000\n",
       "25%           0.000000\n",
       "50%           0.000000\n",
       "75%           0.000000\n",
       "max          30.240000\n",
       "Name: E_IDLE_CO2, dtype: float64"
      ]
     },
     "execution_count": 8,
     "metadata": {
      "tags": []
     },
     "output_type": "execute_result"
    }
   ],
   "source": [
    "#remove the outlier for \"e_high_co2\"\n",
    "index = E_cars[(E_cars[\"E_IDLE_CO2\"] > 100)].index\n",
    "E_cars.drop(index, inplace=True)\n",
    "E_cars[\"E_IDLE_CO2\"].describe()"
   ]
  },
  {
   "cell_type": "code",
   "execution_count": null,
   "metadata": {
    "colab": {
     "base_uri": "https://localhost:8080/",
     "height": 299
    },
    "colab_type": "code",
    "id": "sYK1hcnezf4W",
    "outputId": "f530482e-2d74-476f-e1f2-50bf2ef1b7e8"
   },
   "outputs": [
    {
     "data": {
      "text/plain": [
       "<matplotlib.axes._subplots.AxesSubplot at 0x7f2c76d23198>"
      ]
     },
     "execution_count": 9,
     "metadata": {
      "tags": []
     },
     "output_type": "execute_result"
    },
    {
     "data": {
      "image/png": "[encoded data removed]",
      "text/plain": [
       "<Figure size 432x288 with 1 Axes>"
      ]
     },
     "metadata": {
      "needs_background": "light",
      "tags": []
     },
     "output_type": "display_data"
    }
   ],
   "source": [
    "#scatterplot BEFORE outlier correction\n",
    "sns.scatterplot(data=E_cars, x='E_IDLE_CO2', y='E_HIGH_CO2', hue='OVERALL_RESULT', alpha=1)"
   ]
  },
  {
   "cell_type": "code",
   "execution_count": null,
   "metadata": {
    "colab": {
     "base_uri": "https://localhost:8080/",
     "height": 177
    },
    "colab_type": "code",
    "id": "iZDfqa-eLPNv",
    "outputId": "ba20592e-3178-4ef1-90b0-7c5c7aed3a40"
   },
   "outputs": [
    {
     "ename": "TypeError",
     "evalue": "ignored",
     "output_type": "error",
     "traceback": [
      "\u001b[0;31m---------------------------------------------------------------------------\u001b[0m",
      "\u001b[0;31mTypeError\u001b[0m                                 Traceback (most recent call last)",
      "\u001b[0;32m<ipython-input-13-0bf0b6a80681>\u001b[0m in \u001b[0;36m<module>\u001b[0;34m()\u001b[0m\n\u001b[0;32m----> 1\u001b[0;31m \u001b[0msns\u001b[0m\u001b[0;34m.\u001b[0m\u001b[0mdistplot\u001b[0m\u001b[0;34m(\u001b[0m\u001b[0mE_cars\u001b[0m\u001b[0;34m,\u001b[0m \u001b[0mname\u001b[0m\u001b[0;34m=\u001b[0m\u001b[0;34m'E_IDLE_CO2'\u001b[0m\u001b[0;34m,\u001b[0m \u001b[0malpha\u001b[0m\u001b[0;34m=\u001b[0m\u001b[0;36m1\u001b[0m\u001b[0;34m)\u001b[0m\u001b[0;34m\u001b[0m\u001b[0;34m\u001b[0m\u001b[0m\n\u001b[0m",
      "\u001b[0;31mTypeError\u001b[0m: distplot() got an unexpected keyword argument 'name'"
     ]
    }
   ],
   "source": [
    "sns.distplot(E_cars, name='E_IDLE_CO2', alpha=1)"
   ]
  },
  {
   "cell_type": "markdown",
   "metadata": {
    "colab_type": "text",
    "id": "oEjNucXLuVMM"
   },
   "source": [
    "Complete outlier correction attempt"
   ]
  },
  {
   "cell_type": "code",
   "execution_count": null,
   "metadata": {
    "colab": {
     "base_uri": "https://localhost:8080/",
     "height": 299
    },
    "colab_type": "code",
    "id": "vUGxH-Ub0ahV",
    "outputId": "f0cb2cc2-b486-402e-e703-0b5893919a38"
   },
   "outputs": [
    {
     "data": {
      "text/plain": [
       "<matplotlib.axes._subplots.AxesSubplot at 0x7f6c4d42c2e8>"
      ]
     },
     "execution_count": 120,
     "metadata": {
      "tags": []
     },
     "output_type": "execute_result"
    },
    {
     "data": {
      "image/png": "[encoded data removed]",
      "text/plain": [
       "<Figure size 432x288 with 1 Axes>"
      ]
     },
     "metadata": {
      "needs_background": "light",
      "tags": []
     },
     "output_type": "display_data"
    }
   ],
   "source": [
    "#scatterplot after outlier correction\n",
    "#fig, axs = plt.subplots(1, 2, figsize=(15, 10))\n",
    "#sns.barplot(data=E_cars, x='OVERALL_RESULT', y='E_IDLE_CO2', alpha=1)\n",
    "sns.barplot(data=E_cars, x='OVERALL_RESULT', y='E_HIGH_CO2', alpha=1)\n"
   ]
  },
  {
   "cell_type": "code",
   "execution_count": null,
   "metadata": {
    "colab": {
     "base_uri": "https://localhost:8080/",
     "height": 303
    },
    "colab_type": "code",
    "id": "7tgpxP581afc",
    "outputId": "e29a70e2-7e5c-4a4a-c855-60d848d114cc"
   },
   "outputs": [
    {
     "data": {
      "text/plain": [
       "<matplotlib.axes._subplots.AxesSubplot at 0x7f6c4ce6d2b0>"
      ]
     },
     "execution_count": 121,
     "metadata": {
      "tags": []
     },
     "output_type": "execute_result"
    },
    {
     "data": {
      "image/png": "[encoded data removed]",
      "text/plain": [
       "<Figure size 432x288 with 1 Axes>"
      ]
     },
     "metadata": {
      "needs_background": "light",
      "tags": []
     },
     "output_type": "display_data"
    }
   ],
   "source": [
    "#scatterplot after outlier correction\n",
    "#fig, axs = plt.subplots(2, 2, figsize=(20, 10))\n",
    "sns.barplot(data=E_cars, x='OVERALL_RESULT', y='E_IDLE_CO2', alpha=1)\n",
    "#sns.barplot(data=E_cars, x='E_HIGH_CO2', y='OVERALL_RESULT', alpha=1)"
   ]
  },
  {
   "cell_type": "markdown",
   "metadata": {
    "colab_type": "text",
    "id": "RXfSApkb0ZUZ"
   },
   "source": []
  },
  {
   "cell_type": "code",
   "execution_count": null,
   "metadata": {
    "colab": {},
    "colab_type": "code",
    "id": "W2_k1xVdhlIs"
   },
   "outputs": [],
   "source": [
    "#new df with only numerical E-data (without results-columns containing str)\n",
    "E_cars2 = E_cars.iloc[:, 2:-5]\n",
    "E_cars2 = cars2[\"OVERALL_RESULT\"]\n",
    "E_cars2.head()"
   ]
  },
  {
   "cell_type": "code",
   "execution_count": null,
   "metadata": {
    "colab": {
     "base_uri": "https://localhost:8080/",
     "height": 299
    },
    "colab_type": "code",
    "id": "otOu3t2HuqTT",
    "outputId": "76a7440a-aff4-43a1-f424-244746f047d1"
   },
   "outputs": [
    {
     "data": {
      "text/plain": [
       "<matplotlib.axes._subplots.AxesSubplot at 0x7f6c61de2358>"
      ]
     },
     "execution_count": 92,
     "metadata": {
      "tags": []
     },
     "output_type": "execute_result"
    },
    {
     "data": {
      "image/png": "[encoded data removed]",
      "text/plain": [
       "<Figure size 432x288 with 1 Axes>"
      ]
     },
     "metadata": {
      "needs_background": "light",
      "tags": []
     },
     "output_type": "display_data"
    }
   ],
   "source": [
    "#scatterplot AFTER outlier correction\n",
    "sns.scatterplot(data=E_cars2, x='E_IDLE_CO2', y='E_HIGH_CO2', alpha=1)"
   ]
  },
  {
   "cell_type": "code",
   "execution_count": null,
   "metadata": {
    "cellView": "code",
    "colab": {},
    "colab_type": "code",
    "id": "rakd5vdCSy5W"
   },
   "outputs": [],
   "source": [
    "#@title\n",
    "from scipy import stats\n",
    "import numpy as np\n"
   ]
  },
  {
   "cell_type": "code",
   "execution_count": null,
   "metadata": {
    "cellView": "code",
    "colab": {
     "base_uri": "https://localhost:8080/",
     "height": 36
    },
    "colab_type": "code",
    "id": "aev0Tzu0gy5q",
    "outputId": "95e1d42b-e9a7-498c-d30a-916797588287"
   },
   "outputs": [
    {
     "name": "stdout",
     "output_type": "stream",
     "text": [
      "[1.73041376 0.50258793 1.32601188 ... 0.50258793 1.94140604 0.50258793]\n"
     ]
    }
   ],
   "source": [
    "#@title\n",
    "z = np.abs(stats.zscore(E_cars2[\"E_HIGH_CO2\"]))\n",
    "print(z)"
   ]
  },
  {
   "cell_type": "code",
   "execution_count": null,
   "metadata": {
    "cellView": "code",
    "colab": {
     "base_uri": "https://localhost:8080/",
     "height": 36
    },
    "colab_type": "code",
    "id": "kB8OVhMwrdz3",
    "outputId": "0dfb5db3-2fbd-4cd8-cf7a-97fef35527df"
   },
   "outputs": [
    {
     "name": "stdout",
     "output_type": "stream",
     "text": [
      "14.599999999999998\n"
     ]
    }
   ],
   "source": [
    "#@title\n",
    "Q1 = E_cars2[\"E_HIGH_CO2\"].quantile(0.10)\n",
    "Q3 = E_cars2[\"E_HIGH_CO2\"].quantile(0.90)\n",
    "IQR = Q3 - Q1\n",
    "print(IQR)"
   ]
  },
  {
   "cell_type": "code",
   "execution_count": null,
   "metadata": {
    "colab": {},
    "colab_type": "code",
    "id": "W55RZE43NXqT"
   },
   "outputs": [],
   "source": [
    "from scipy import stats\n",
    "cars2[(np.abs(stats.zscore(cars2)) < 3).all(axis=1)]"
   ]
  }
 ],
 "metadata": {
  "colab": {
   "authorship_tag": "ABX9TyN7UvtfyVYHS6GC3oRyDTxz",
   "include_colab_link": true,
   "name": "EDA_emissions_scatterplot.ipynb",
   "provenance": []
  },
  "kernelspec": {
   "display_name": "Python 3",
   "language": "python",
   "name": "python3"
  },
  "language_info": {
   "codemirror_mode": {
    "name": "ipython",
    "version": 3
   },
   "file_extension": ".py",
   "mimetype": "text/x-python",
   "name": "python",
   "nbconvert_exporter": "python",
   "pygments_lexer": "ipython3",
   "version": "3.7.4"
  }
 },
 "nbformat": 4,
 "nbformat_minor": 1
}
