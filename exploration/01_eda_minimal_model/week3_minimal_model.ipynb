{
 "cells": [
  {
   "cell_type": "markdown",
   "metadata": {},
   "source": [
    "# Week 3 Baseline Model\n",
    "\n",
    "Refactored code from Week 3 based on mentor feedback"
   ]
  },
  {
   "cell_type": "code",
   "execution_count": 1,
   "metadata": {},
   "outputs": [],
   "source": [
    "# imports and magic line\n",
    "import pandas as pd\n",
    "import seaborn as sns\n",
    "import matplotlib.pyplot as plt\n",
    "import numpy as np\n",
    "\n",
    "%matplotlib inline\n",
    "\n",
    "from emissionscheck_alb import data, minimal_model\n"
   ]
  },
  {
   "cell_type": "code",
   "execution_count": 2,
   "metadata": {
    "scrolled": true
   },
   "outputs": [
    {
     "name": "stderr",
     "output_type": "stream",
     "text": [
      "/home/mdado/anaconda3/envs/dslab/lib/python3.7/site-packages/IPython/core/interactiveshell.py:3063: DtypeWarning: Columns (5,7,18,26,108,109,113) have mixed types.Specify dtype option on import or set low_memory=False.\n",
      "  interactivity=interactivity, compiler=compiler, result=result)\n"
     ]
    }
   ],
   "source": [
    "df = pd.read_csv(\"../data/interim/sample.csv\", lineterminator='\\n')"
   ]
  },
  {
   "cell_type": "code",
   "execution_count": 3,
   "metadata": {},
   "outputs": [],
   "source": [
    "# get columns for data exploration\n",
    "df_subset = df[[\"RecordID\", \"TEST_SDATE\", \"TEST_EDATE\", \"ODOMETER\", \"VEHICLE_TYPE\", \"MODEL_YEAR\", \"FUEL_TYPE\", \"GVW_TYPE\", \"OVERALL_RESULT\"]]"
   ]
  },
  {
   "cell_type": "code",
   "execution_count": 4,
   "metadata": {},
   "outputs": [
    {
     "data": {
      "text/html": [
       "<div>\n",
       "<style scoped>\n",
       "    .dataframe tbody tr th:only-of-type {\n",
       "        vertical-align: middle;\n",
       "    }\n",
       "\n",
       "    .dataframe tbody tr th {\n",
       "        vertical-align: top;\n",
       "    }\n",
       "\n",
       "    .dataframe thead th {\n",
       "        text-align: right;\n",
       "    }\n",
       "</style>\n",
       "<table border=\"1\" class=\"dataframe\">\n",
       "  <thead>\n",
       "    <tr style=\"text-align: right;\">\n",
       "      <th></th>\n",
       "      <th>RecordID</th>\n",
       "      <th>TEST_SDATE</th>\n",
       "      <th>TEST_EDATE</th>\n",
       "      <th>ODOMETER</th>\n",
       "      <th>VEHICLE_TYPE</th>\n",
       "      <th>MODEL_YEAR</th>\n",
       "      <th>FUEL_TYPE</th>\n",
       "      <th>GVW_TYPE</th>\n",
       "      <th>OVERALL_RESULT</th>\n",
       "      <th>CAR_AGE</th>\n",
       "    </tr>\n",
       "  </thead>\n",
       "  <tbody>\n",
       "    <tr>\n",
       "      <th>0</th>\n",
       "      <td>111260</td>\n",
       "      <td>2004-12-16 10:57:00</td>\n",
       "      <td>2004-12-16 11:03:00</td>\n",
       "      <td>53274</td>\n",
       "      <td>3</td>\n",
       "      <td>1994</td>\n",
       "      <td>G</td>\n",
       "      <td>1.0</td>\n",
       "      <td>P</td>\n",
       "      <td>11</td>\n",
       "    </tr>\n",
       "    <tr>\n",
       "      <th>1</th>\n",
       "      <td>138031</td>\n",
       "      <td>2004-08-13 14:10:00</td>\n",
       "      <td>2004-08-13 14:12:00</td>\n",
       "      <td>109225</td>\n",
       "      <td>1</td>\n",
       "      <td>2000</td>\n",
       "      <td>G</td>\n",
       "      <td>1.0</td>\n",
       "      <td>P</td>\n",
       "      <td>5</td>\n",
       "    </tr>\n",
       "    <tr>\n",
       "      <th>2</th>\n",
       "      <td>298121</td>\n",
       "      <td>2004-08-31 13:03:00</td>\n",
       "      <td>2004-08-31 13:03:00</td>\n",
       "      <td>110347</td>\n",
       "      <td>1</td>\n",
       "      <td>1989</td>\n",
       "      <td>G</td>\n",
       "      <td>1.0</td>\n",
       "      <td>A</td>\n",
       "      <td>16</td>\n",
       "    </tr>\n",
       "    <tr>\n",
       "      <th>3</th>\n",
       "      <td>369185</td>\n",
       "      <td>2004-12-02 11:33:00</td>\n",
       "      <td>2004-12-02 11:39:00</td>\n",
       "      <td>152121</td>\n",
       "      <td>4</td>\n",
       "      <td>1985</td>\n",
       "      <td>G</td>\n",
       "      <td>2.0</td>\n",
       "      <td>P</td>\n",
       "      <td>20</td>\n",
       "    </tr>\n",
       "    <tr>\n",
       "      <th>4</th>\n",
       "      <td>384955</td>\n",
       "      <td>2004-12-29 17:00:00</td>\n",
       "      <td>2004-12-29 17:03:00</td>\n",
       "      <td>135640</td>\n",
       "      <td>1</td>\n",
       "      <td>1997</td>\n",
       "      <td>G</td>\n",
       "      <td>1.0</td>\n",
       "      <td>P</td>\n",
       "      <td>8</td>\n",
       "    </tr>\n",
       "  </tbody>\n",
       "</table>\n",
       "</div>"
      ],
      "text/plain": [
       "   RecordID           TEST_SDATE           TEST_EDATE  ODOMETER  VEHICLE_TYPE  \\\n",
       "0    111260  2004-12-16 10:57:00  2004-12-16 11:03:00     53274             3   \n",
       "1    138031  2004-08-13 14:10:00  2004-08-13 14:12:00    109225             1   \n",
       "2    298121  2004-08-31 13:03:00  2004-08-31 13:03:00    110347             1   \n",
       "3    369185  2004-12-02 11:33:00  2004-12-02 11:39:00    152121             4   \n",
       "4    384955  2004-12-29 17:00:00  2004-12-29 17:03:00    135640             1   \n",
       "\n",
       "   MODEL_YEAR FUEL_TYPE  GVW_TYPE OVERALL_RESULT  CAR_AGE  \n",
       "0        1994         G       1.0              P       11  \n",
       "1        2000         G       1.0              P        5  \n",
       "2        1989         G       1.0              A       16  \n",
       "3        1985         G       2.0              P       20  \n",
       "4        1997         G       1.0              P        8  "
      ]
     },
     "execution_count": 4,
     "metadata": {},
     "output_type": "execute_result"
    }
   ],
   "source": [
    "# get car age\n",
    "df_subset = data.get_car_age(df_subset)\n",
    "df_subset.head()"
   ]
  },
  {
   "cell_type": "code",
   "execution_count": 5,
   "metadata": {},
   "outputs": [],
   "source": [
    "# Keep rows with only P or F in OVERALL RESULT\n",
    "df_subset = data.keep_pass_fail(df_subset)"
   ]
  },
  {
   "cell_type": "code",
   "execution_count": 6,
   "metadata": {},
   "outputs": [],
   "source": [
    "target = data.encode_target(df_subset[\"OVERALL_RESULT\"])"
   ]
  },
  {
   "cell_type": "markdown",
   "metadata": {},
   "source": [
    "## Logistic Regression"
   ]
  },
  {
   "cell_type": "code",
   "execution_count": 7,
   "metadata": {
    "scrolled": false
   },
   "outputs": [],
   "source": [
    "# Continuous and categorical features\n",
    "cat_features = [\"VEHICLE_TYPE\", \"FUEL_TYPE\", \"GVW_TYPE\"]\n",
    "cont_features = [\"ODOMETER\", \"CAR_AGE\"]\n",
    "features_train, features_test, target_train, target_test = minimal_model.encode_split_data(cat_features,\n",
    "                                                                                    cont_features,\n",
    "                                                                                    data = df_subset,\n",
    "                                                                                    target_series = target,\n",
    "                                                                                    train_size = .7,\n",
    "                                                                                    random_state=42)"
   ]
  },
  {
   "cell_type": "code",
   "execution_count": 8,
   "metadata": {},
   "outputs": [
    {
     "name": "stderr",
     "output_type": "stream",
     "text": [
      "/home/mdado/anaconda3/envs/dslab/lib/python3.7/site-packages/sklearn/linear_model/_logistic.py:764: ConvergenceWarning: lbfgs failed to converge (status=1):\n",
      "STOP: TOTAL NO. of ITERATIONS REACHED LIMIT.\n",
      "\n",
      "Increase the number of iterations (max_iter) or scale the data as shown in:\n",
      "    https://scikit-learn.org/stable/modules/preprocessing.html\n",
      "Please also refer to the documentation for alternative solver options:\n",
      "    https://scikit-learn.org/stable/modules/linear_model.html#logistic-regression\n",
      "  extra_warning_msg=_LOGISTIC_SOLVER_CONVERGENCE_MSG)\n"
     ]
    },
    {
     "name": "stdout",
     "output_type": "stream",
     "text": [
      "              precision    recall  f1-score   support\n",
      "\n",
      "           0       0.95      0.67      0.78     95092\n",
      "           1       0.15      0.62      0.24      8943\n",
      "\n",
      "    accuracy                           0.66    104035\n",
      "   macro avg       0.55      0.65      0.51    104035\n",
      "weighted avg       0.88      0.66      0.74    104035\n",
      "\n",
      "ROC AUC Score is 0.5756211623733122\n"
     ]
    },
    {
     "data": {
      "text/plain": [
       "Pipeline(steps=[('minmaxscaler', MinMaxScaler()),\n",
       "                ('logisticregression',\n",
       "                 LogisticRegression(class_weight='balanced', random_state=42))])"
      ]
     },
     "execution_count": 8,
     "metadata": {},
     "output_type": "execute_result"
    },
    {
     "data": {
      "image/png": "[encoded data removed]",
      "text/plain": [
       "<Figure size 432x288 with 2 Axes>"
      ]
     },
     "metadata": {
      "needs_background": "light"
     },
     "output_type": "display_data"
    }
   ],
   "source": [
    "minimal_model.run_minimal_model(features_train, \n",
    "                                features_test, \n",
    "                                target_train, \n",
    "                                target_test, \n",
    "                                model = \"logreg\", \n",
    "                                random_state=42, \n",
    "                                class_weight=\"balanced\",\n",
    "                                max_fpr=.2)"
   ]
  },
  {
   "cell_type": "code",
   "execution_count": 9,
   "metadata": {},
   "outputs": [
    {
     "name": "stdout",
     "output_type": "stream",
     "text": [
      "              precision    recall  f1-score   support\n",
      "\n",
      "           0       0.95      0.67      0.78     95092\n",
      "           1       0.15      0.62      0.24      8943\n",
      "\n",
      "    accuracy                           0.66    104035\n",
      "   macro avg       0.55      0.64      0.51    104035\n",
      "weighted avg       0.88      0.66      0.74    104035\n",
      "\n",
      "ROC AUC Score is 0.574734518100201\n"
     ]
    },
    {
     "data": {
      "text/plain": [
       "Pipeline(steps=[('minmaxscaler', MinMaxScaler()),\n",
       "                ('logisticregression',\n",
       "                 LogisticRegression(class_weight='balanced', random_state=42))])"
      ]
     },
     "execution_count": 9,
     "metadata": {},
     "output_type": "execute_result"
    },
    {
     "data": {
      "image/png": "[encoded data removed]",
      "text/plain": [
       "<Figure size 432x288 with 2 Axes>"
      ]
     },
     "metadata": {
      "needs_background": "light"
     },
     "output_type": "display_data"
    }
   ],
   "source": [
    "# only continuous features\n",
    "features_train, features_test, target_train, target_test = minimal_model.split_data(features_matrix = df_subset[cont_features],\n",
    "                                                                                    target_series = target,\n",
    "                                                                                    train_size = .7,\n",
    "                                                                                    random_state=42)\n",
    "\n",
    "minimal_model.run_minimal_model(features_train, \n",
    "                                features_test, \n",
    "                                target_train, \n",
    "                                target_test, \n",
    "                                model = \"logreg\", \n",
    "                                random_state=42, \n",
    "                                class_weight=\"balanced\",\n",
    "                                max_fpr=.2)"
   ]
  }
 ],
 "metadata": {
  "kernelspec": {
   "display_name": "dslab",
   "language": "python",
   "name": "dslab"
  },
  "language_info": {
   "codemirror_mode": {
    "name": "ipython",
    "version": 3
   },
   "file_extension": ".py",
   "mimetype": "text/x-python",
   "name": "python",
   "nbconvert_exporter": "python",
   "pygments_lexer": "ipython3",
   "version": "3.7.7"
  }
 },
 "nbformat": 4,
 "nbformat_minor": 4
}
