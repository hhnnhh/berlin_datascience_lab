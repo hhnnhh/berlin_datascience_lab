{
 "cells": [
  {
   "cell_type": "markdown",
   "metadata": {},
   "source": [
    "# extended Baseline Model\n",
    "\n",
    "Refactored code from Week 3 based on mentor feedback"
   ]
  },
  {
   "cell_type": "code",
   "execution_count": 1,
   "metadata": {},
   "outputs": [
    {
     "name": "stdout",
     "output_type": "stream",
     "text": [
      "C:\\Users\\hanna\\PycharmProjects\\berlindslab\\ds-lab\\exploration\\01_eda_minimal_model\n"
     ]
    }
   ],
   "source": [
    "#where am I?\n",
    "import os\n",
    "path = os.getcwd()\n",
    "print(path)"
   ]
  },
  {
   "cell_type": "code",
   "execution_count": 2,
   "metadata": {},
   "outputs": [
    {
     "name": "stdout",
     "output_type": "stream",
     "text": [
      "C:\\Users\\hanna\\PycharmProjects\\berlindslab\\ds-lab\n"
     ]
    }
   ],
   "source": [
    "#go to path where data_prep and baseline_model are\n",
    "%cd C:\\Users\\hanna\\PycharmProjects\\berlindslab\\ds-lab\\"
   ]
  },
  {
   "cell_type": "code",
   "execution_count": 2,
   "metadata": {},
   "outputs": [
    {
     "ename": "ModuleNotFoundError",
     "evalue": "No module named 'emissionscheck_alb'",
     "output_type": "error",
     "traceback": [
      "\u001b[1;31m---------------------------------------------------------------------------\u001b[0m",
      "\u001b[1;31mModuleNotFoundError\u001b[0m                       Traceback (most recent call last)",
      "\u001b[1;32m<ipython-input-2-1e1613ca95ac>\u001b[0m in \u001b[0;36m<module>\u001b[1;34m\u001b[0m\n\u001b[0;32m      7\u001b[0m \u001b[0mget_ipython\u001b[0m\u001b[1;33m(\u001b[0m\u001b[1;33m)\u001b[0m\u001b[1;33m.\u001b[0m\u001b[0mrun_line_magic\u001b[0m\u001b[1;33m(\u001b[0m\u001b[1;34m'matplotlib'\u001b[0m\u001b[1;33m,\u001b[0m \u001b[1;34m'inline'\u001b[0m\u001b[1;33m)\u001b[0m\u001b[1;33m\u001b[0m\u001b[1;33m\u001b[0m\u001b[0m\n\u001b[0;32m      8\u001b[0m \u001b[1;33m\u001b[0m\u001b[0m\n\u001b[1;32m----> 9\u001b[1;33m \u001b[1;32mfrom\u001b[0m \u001b[0memissionscheck_alb\u001b[0m \u001b[1;32mimport\u001b[0m \u001b[0mdata_prep\u001b[0m\u001b[1;33m,\u001b[0m \u001b[0mbaseline_model\u001b[0m\u001b[1;33m\u001b[0m\u001b[1;33m\u001b[0m\u001b[0m\n\u001b[0m",
      "\u001b[1;31mModuleNotFoundError\u001b[0m: No module named 'emissionscheck_alb'"
     ]
    }
   ],
   "source": [
    "# imports and magic line\n",
    "import pandas as pd\n",
    "import seaborn as sns\n",
    "import matplotlib.pyplot as plt\n",
    "import numpy as np\n",
    "\n",
    "%matplotlib inline\n",
    "\n",
    "from emissionscheck_alb import data_prep, baseline_model\n"
   ]
  },
  {
   "cell_type": "code",
   "execution_count": 4,
   "metadata": {},
   "outputs": [
    {
     "name": "stdout",
     "output_type": "stream",
     "text": [
      "C:\\Users\\hanna\\PycharmProjects\\berlindslab\\ds-lab\\data\n"
     ]
    }
   ],
   "source": [
    "#go to data path locally \n",
    "%cd C:\\Users\\hanna\\PycharmProjects\\berlindslab\\ds-lab\\data"
   ]
  },
  {
   "cell_type": "code",
   "execution_count": 1,
   "metadata": {
    "scrolled": false
   },
   "outputs": [
    {
     "ename": "NameError",
     "evalue": "name 'pd' is not defined",
     "output_type": "error",
     "traceback": [
      "\u001b[1;31m---------------------------------------------------------------------------\u001b[0m",
      "\u001b[1;31mNameError\u001b[0m                                 Traceback (most recent call last)",
      "\u001b[1;32m<ipython-input-1-6992b140d9f7>\u001b[0m in \u001b[0;36m<module>\u001b[1;34m\u001b[0m\n\u001b[1;32m----> 1\u001b[1;33m \u001b[0mdf\u001b[0m \u001b[1;33m=\u001b[0m \u001b[0mpd\u001b[0m\u001b[1;33m.\u001b[0m\u001b[0mread_csv\u001b[0m\u001b[1;33m(\u001b[0m\u001b[1;34m\"../data/sample.csv\"\u001b[0m\u001b[1;33m,\u001b[0m \u001b[0mlineterminator\u001b[0m\u001b[1;33m=\u001b[0m\u001b[1;34m'\\n'\u001b[0m\u001b[1;33m)\u001b[0m\u001b[1;33m\u001b[0m\u001b[1;33m\u001b[0m\u001b[0m\n\u001b[0m",
      "\u001b[1;31mNameError\u001b[0m: name 'pd' is not defined"
     ]
    }
   ],
   "source": [
    "df = pd.read_csv(\"../data/sample.csv\", lineterminator='\\n')"
   ]
  },
  {
   "cell_type": "code",
   "execution_count": 7,
   "metadata": {},
   "outputs": [],
   "source": [
    "#cols = df.columns.tolist()\n",
    "#print(cols)\n",
    "df_subset=df"
   ]
  },
  {
   "cell_type": "code",
   "execution_count": 7,
   "metadata": {},
   "outputs": [],
   "source": [
    "# get columns for data exploration\n",
    "df_subset = df[[\"ENGINE_SIZE\",\"E_IDLE_DCF\",\"E_IDLE_RPM\",\"E_IDLE_CO_RESULT\",\"E_HIGH_CO_RESULT\",\"E_IDLE_HC_RESULT\",\"E_HIGH_HC_RESULT\",\"MODEL\",\"RecordID\", \"TEST_SDATE\", \"TEST_EDATE\", \"ODOMETER\", \"VEHICLE_TYPE\", \"MODEL_YEAR\", \"FUEL_TYPE\", \"GVW_TYPE\", \"OVERALL_RESULT\"]]"
   ]
  },
  {
   "cell_type": "code",
   "execution_count": 8,
   "metadata": {
    "scrolled": true
   },
   "outputs": [
    {
     "data": {
      "text/html": [
       "<div>\n",
       "<style scoped>\n",
       "    .dataframe tbody tr th:only-of-type {\n",
       "        vertical-align: middle;\n",
       "    }\n",
       "\n",
       "    .dataframe tbody tr th {\n",
       "        vertical-align: top;\n",
       "    }\n",
       "\n",
       "    .dataframe thead th {\n",
       "        text-align: right;\n",
       "    }\n",
       "</style>\n",
       "<table border=\"1\" class=\"dataframe\">\n",
       "  <thead>\n",
       "    <tr style=\"text-align: right;\">\n",
       "      <th></th>\n",
       "      <th>RecordID</th>\n",
       "      <th>RECORD_NUM</th>\n",
       "      <th>VIR_CERT_NUMBER</th>\n",
       "      <th>STATION_NUM</th>\n",
       "      <th>ANALYZER_NUM</th>\n",
       "      <th>INSPECTOR_NUM</th>\n",
       "      <th>TEST_TYPE</th>\n",
       "      <th>VID_TEST_TYPE</th>\n",
       "      <th>TEST_SDATE</th>\n",
       "      <th>TEST_EDATE</th>\n",
       "      <th>...</th>\n",
       "      <th>MECHANIC_LAST_NAME</th>\n",
       "      <th>MECHANIC_FIRST_NAME</th>\n",
       "      <th>MECHANIC_MIDDLE_INIT</th>\n",
       "      <th>ENGINE_SIZE_ORIG</th>\n",
       "      <th>FAILED_IDLE_RPM</th>\n",
       "      <th>SENTTOVID</th>\n",
       "      <th>Station_License_Number</th>\n",
       "      <th>Analyzer_Number</th>\n",
       "      <th>Insert_DateTime\\r</th>\n",
       "      <th>CAR_AGE</th>\n",
       "    </tr>\n",
       "  </thead>\n",
       "  <tbody>\n",
       "    <tr>\n",
       "      <th>0</th>\n",
       "      <td>111260</td>\n",
       "      <td>7408</td>\n",
       "      <td>4486883.0</td>\n",
       "      <td>IS329</td>\n",
       "      <td>W036</td>\n",
       "      <td>26351553</td>\n",
       "      <td>I</td>\n",
       "      <td>I</td>\n",
       "      <td>2004-12-16 10:57:00</td>\n",
       "      <td>2004-12-16 11:03:00</td>\n",
       "      <td>...</td>\n",
       "      <td>SANCHEZ</td>\n",
       "      <td>TIM</td>\n",
       "      <td>J</td>\n",
       "      <td>NaN</td>\n",
       "      <td>NaN</td>\n",
       "      <td>0.0</td>\n",
       "      <td>IS329</td>\n",
       "      <td>W036</td>\n",
       "      <td>2006-01-12 21:19:17\\r</td>\n",
       "      <td>11</td>\n",
       "    </tr>\n",
       "    <tr>\n",
       "      <th>1</th>\n",
       "      <td>138031</td>\n",
       "      <td>969</td>\n",
       "      <td>4437994.0</td>\n",
       "      <td>IS267</td>\n",
       "      <td>W014</td>\n",
       "      <td>17496701</td>\n",
       "      <td>I</td>\n",
       "      <td>I</td>\n",
       "      <td>2004-08-13 14:10:00</td>\n",
       "      <td>2004-08-13 14:12:00</td>\n",
       "      <td>...</td>\n",
       "      <td>Trujillo</td>\n",
       "      <td>Vince</td>\n",
       "      <td>NaN</td>\n",
       "      <td>NaN</td>\n",
       "      <td>NaN</td>\n",
       "      <td>0.0</td>\n",
       "      <td>IS394</td>\n",
       "      <td>W014</td>\n",
       "      <td>2006-01-13 17:43:30\\r</td>\n",
       "      <td>5</td>\n",
       "    </tr>\n",
       "    <tr>\n",
       "      <th>2</th>\n",
       "      <td>298121</td>\n",
       "      <td>185</td>\n",
       "      <td>NaN</td>\n",
       "      <td>IR354</td>\n",
       "      <td>W109</td>\n",
       "      <td>32641547</td>\n",
       "      <td>I</td>\n",
       "      <td>NaN</td>\n",
       "      <td>2004-08-31 13:03:00</td>\n",
       "      <td>2004-08-31 13:03:00</td>\n",
       "      <td>...</td>\n",
       "      <td>Anderson</td>\n",
       "      <td>Phillip</td>\n",
       "      <td>L</td>\n",
       "      <td>NaN</td>\n",
       "      <td>T</td>\n",
       "      <td>0.0</td>\n",
       "      <td>IR354</td>\n",
       "      <td>W109</td>\n",
       "      <td>2006-01-24 09:07:03\\r</td>\n",
       "      <td>16</td>\n",
       "    </tr>\n",
       "    <tr>\n",
       "      <th>3</th>\n",
       "      <td>369185</td>\n",
       "      <td>4569</td>\n",
       "      <td>4469421.0</td>\n",
       "      <td>IS359</td>\n",
       "      <td>W042</td>\n",
       "      <td>11117229</td>\n",
       "      <td>I</td>\n",
       "      <td>I</td>\n",
       "      <td>2004-12-02 11:33:00</td>\n",
       "      <td>2004-12-02 11:39:00</td>\n",
       "      <td>...</td>\n",
       "      <td>NGUYEN</td>\n",
       "      <td>DUC</td>\n",
       "      <td>NaN</td>\n",
       "      <td>NaN</td>\n",
       "      <td>NaN</td>\n",
       "      <td>0.0</td>\n",
       "      <td>IS404</td>\n",
       "      <td>W042</td>\n",
       "      <td>2006-01-26 17:03:05\\r</td>\n",
       "      <td>20</td>\n",
       "    </tr>\n",
       "    <tr>\n",
       "      <th>4</th>\n",
       "      <td>384955</td>\n",
       "      <td>1326</td>\n",
       "      <td>4492858.0</td>\n",
       "      <td>IS171</td>\n",
       "      <td>W052</td>\n",
       "      <td>22095231</td>\n",
       "      <td>I</td>\n",
       "      <td>I</td>\n",
       "      <td>2004-12-29 17:00:00</td>\n",
       "      <td>2004-12-29 17:03:00</td>\n",
       "      <td>...</td>\n",
       "      <td>Nguyen</td>\n",
       "      <td>Kenny</td>\n",
       "      <td>T</td>\n",
       "      <td>NaN</td>\n",
       "      <td>NaN</td>\n",
       "      <td>0.0</td>\n",
       "      <td>IS171</td>\n",
       "      <td>W052</td>\n",
       "      <td>2006-01-31 16:06:03\\r</td>\n",
       "      <td>8</td>\n",
       "    </tr>\n",
       "  </tbody>\n",
       "</table>\n",
       "<p>5 rows × 128 columns</p>\n",
       "</div>"
      ],
      "text/plain": [
       "   RecordID  RECORD_NUM  VIR_CERT_NUMBER STATION_NUM ANALYZER_NUM  \\\n",
       "0    111260        7408        4486883.0       IS329         W036   \n",
       "1    138031         969        4437994.0       IS267         W014   \n",
       "2    298121         185              NaN       IR354         W109   \n",
       "3    369185        4569        4469421.0       IS359         W042   \n",
       "4    384955        1326        4492858.0       IS171         W052   \n",
       "\n",
       "  INSPECTOR_NUM TEST_TYPE VID_TEST_TYPE           TEST_SDATE  \\\n",
       "0      26351553         I             I  2004-12-16 10:57:00   \n",
       "1      17496701         I             I  2004-08-13 14:10:00   \n",
       "2      32641547         I           NaN  2004-08-31 13:03:00   \n",
       "3      11117229         I             I  2004-12-02 11:33:00   \n",
       "4      22095231         I             I  2004-12-29 17:00:00   \n",
       "\n",
       "            TEST_EDATE  ... MECHANIC_LAST_NAME MECHANIC_FIRST_NAME  \\\n",
       "0  2004-12-16 11:03:00  ...            SANCHEZ                 TIM   \n",
       "1  2004-08-13 14:12:00  ...           Trujillo               Vince   \n",
       "2  2004-08-31 13:03:00  ...           Anderson             Phillip   \n",
       "3  2004-12-02 11:39:00  ...             NGUYEN                 DUC   \n",
       "4  2004-12-29 17:03:00  ...             Nguyen               Kenny   \n",
       "\n",
       "  MECHANIC_MIDDLE_INIT  ENGINE_SIZE_ORIG  FAILED_IDLE_RPM  SENTTOVID  \\\n",
       "0                    J               NaN              NaN        0.0   \n",
       "1                  NaN               NaN              NaN        0.0   \n",
       "2                    L               NaN                T        0.0   \n",
       "3                  NaN               NaN              NaN        0.0   \n",
       "4                    T               NaN              NaN        0.0   \n",
       "\n",
       "  Station_License_Number Analyzer_Number      Insert_DateTime\\r  CAR_AGE  \n",
       "0                  IS329            W036  2006-01-12 21:19:17\\r       11  \n",
       "1                  IS394            W014  2006-01-13 17:43:30\\r        5  \n",
       "2                  IR354            W109  2006-01-24 09:07:03\\r       16  \n",
       "3                  IS404            W042  2006-01-26 17:03:05\\r       20  \n",
       "4                  IS171            W052  2006-01-31 16:06:03\\r        8  \n",
       "\n",
       "[5 rows x 128 columns]"
      ]
     },
     "execution_count": 8,
     "metadata": {},
     "output_type": "execute_result"
    }
   ],
   "source": [
    "# get car age\n",
    "df_subset = data_prep.get_car_age(df_subset)\n",
    "df_subset.head()"
   ]
  },
  {
   "cell_type": "code",
   "execution_count": 9,
   "metadata": {},
   "outputs": [],
   "source": [
    "# Keep rows with only P or F in OVERALL RESULT\n",
    "df_subset = data_prep.keep_pass_fail(df_subset)"
   ]
  },
  {
   "cell_type": "code",
   "execution_count": 10,
   "metadata": {
    "scrolled": false
   },
   "outputs": [
    {
     "data": {
      "text/plain": [
       "(346783, 128)"
      ]
     },
     "execution_count": 10,
     "metadata": {},
     "output_type": "execute_result"
    }
   ],
   "source": [
    "df_subset.shape"
   ]
  },
  {
   "cell_type": "markdown",
   "metadata": {},
   "source": [
    "## Remove strange odometer values"
   ]
  },
  {
   "cell_type": "code",
   "execution_count": 11,
   "metadata": {},
   "outputs": [
    {
     "data": {
      "text/plain": [
       "<matplotlib.axes._subplots.AxesSubplot at 0x1fdfcf4c2c8>"
      ]
     },
     "execution_count": 11,
     "metadata": {},
     "output_type": "execute_result"
    },
    {
     "data": {
      "image/png": "[encoded data removed]",
      "text/plain": [
       "<Figure size 1008x432 with 1 Axes>"
      ]
     },
     "metadata": {
      "needs_background": "light"
     },
     "output_type": "display_data"
    }
   ],
   "source": [
    "fig, ax = plt.subplots(figsize=(14,6))\n",
    "df_subset.groupby('ODOMETER').size().sort_values(ascending=False).head(60).plot.bar()"
   ]
  },
  {
   "cell_type": "code",
   "execution_count": 12,
   "metadata": {},
   "outputs": [],
   "source": [
    "# remove odometer values over 400000\n",
    "df_subset = df_subset[df_subset['ODOMETER']<=400000]"
   ]
  },
  {
   "cell_type": "code",
   "execution_count": 13,
   "metadata": {},
   "outputs": [],
   "source": [
    "# exclude 0 odometer values\n",
    "df_subset = df_subset[df_subset['ODOMETER']>0]"
   ]
  },
  {
   "cell_type": "code",
   "execution_count": 14,
   "metadata": {},
   "outputs": [
    {
     "data": {
      "text/plain": [
       "(344947, 128)"
      ]
     },
     "execution_count": 14,
     "metadata": {},
     "output_type": "execute_result"
    }
   ],
   "source": [
    "df_subset.shape"
   ]
  },
  {
   "cell_type": "code",
   "execution_count": 15,
   "metadata": {},
   "outputs": [],
   "source": [
    "# exclude 88.888 and 100.000 odometer values\n",
    "df_subset = df_subset[(df_subset['ODOMETER']!=88888) & (df_subset['ODOMETER']!=100000)]"
   ]
  },
  {
   "cell_type": "code",
   "execution_count": 16,
   "metadata": {
    "scrolled": true
   },
   "outputs": [
    {
     "data": {
      "text/plain": [
       "(344613, 128)"
      ]
     },
     "execution_count": 16,
     "metadata": {},
     "output_type": "execute_result"
    }
   ],
   "source": [
    "df_subset.shape"
   ]
  },
  {
   "cell_type": "code",
   "execution_count": 17,
   "metadata": {},
   "outputs": [
    {
     "data": {
      "text/plain": [
       "<matplotlib.axes._subplots.AxesSubplot at 0x1fd8101c048>"
      ]
     },
     "execution_count": 17,
     "metadata": {},
     "output_type": "execute_result"
    },
    {
     "data": {
      "image/png": "[encoded data removed]",
      "text/plain": [
       "<Figure size 1008x432 with 1 Axes>"
      ]
     },
     "metadata": {
      "needs_background": "light"
     },
     "output_type": "display_data"
    }
   ],
   "source": [
    "fig, ax = plt.subplots(figsize=(14,6))\n",
    "df_subset.groupby('ODOMETER').size().sort_values(ascending=False).head(60).plot.bar()"
   ]
  },
  {
   "cell_type": "markdown",
   "metadata": {},
   "source": [
    "## Encoding target"
   ]
  },
  {
   "cell_type": "code",
   "execution_count": 18,
   "metadata": {},
   "outputs": [],
   "source": [
    "target = data_prep.encode_target(df_subset[\"OVERALL_RESULT\"])"
   ]
  },
  {
   "cell_type": "markdown",
   "metadata": {},
   "source": [
    "## Create df of features only"
   ]
  },
  {
   "cell_type": "code",
   "execution_count": 19,
   "metadata": {},
   "outputs": [],
   "source": [
    "df_features = df_subset[[\"VEHICLE_TYPE\", \"FUEL_TYPE\", \"GVW_TYPE\", \"ODOMETER\", \"CAR_AGE\"]]"
   ]
  },
  {
   "cell_type": "markdown",
   "metadata": {},
   "source": [
    "## Logistic Regression"
   ]
  },
  {
   "cell_type": "markdown",
   "metadata": {},
   "source": [
    "* continuous: odometer, car age\n",
    "* categorical: vehicle type, fuel_type, gvw_type"
   ]
  },
  {
   "cell_type": "code",
   "execution_count": 130,
   "metadata": {
    "scrolled": false
   },
   "outputs": [],
   "source": [
    "# Continuous and categorical features\n",
    "cat_features = [\"VEHICLE_TYPE\", \"FUEL_TYPE\", \"GVW_TYPE\"]\n",
    "\n",
    "features_train, features_test, target_train, target_test = data_prep.encode_split_data(cat_features,\n",
    "                                                                                    data = df_features,\n",
    "                                                                                    target_series = target,\n",
    "                                                                                    train_size = .7,\n",
    "                                                                                    random_state=42)"
   ]
  },
  {
   "cell_type": "code",
   "execution_count": 132,
   "metadata": {},
   "outputs": [
    {
     "name": "stdout",
     "output_type": "stream",
     "text": [
      "              precision    recall  f1-score   support\n",
      "\n",
      "           0       0.95      0.66      0.78     94503\n",
      "           1       0.15      0.66      0.25      8881\n",
      "\n",
      "    accuracy                           0.66    103384\n",
      "   macro avg       0.55      0.66      0.51    103384\n",
      "weighted avg       0.89      0.66      0.73    103384\n",
      "\n",
      "ROC AUC Score is 0.7111820335513006\n"
     ]
    },
    {
     "name": "stderr",
     "output_type": "stream",
     "text": [
      "c:\\users\\hanna\\miniconda3\\lib\\site-packages\\sklearn\\linear_model\\_logistic.py:764: ConvergenceWarning: lbfgs failed to converge (status=1):\n",
      "STOP: TOTAL NO. of ITERATIONS REACHED LIMIT.\n",
      "\n",
      "Increase the number of iterations (max_iter) or scale the data as shown in:\n",
      "    https://scikit-learn.org/stable/modules/preprocessing.html\n",
      "Please also refer to the documentation for alternative solver options:\n",
      "    https://scikit-learn.org/stable/modules/linear_model.html#logistic-regression\n",
      "  extra_warning_msg=_LOGISTIC_SOLVER_CONVERGENCE_MSG)\n",
      "c:\\users\\hanna\\miniconda3\\lib\\site-packages\\sklearn\\linear_model\\_logistic.py:764: ConvergenceWarning: lbfgs failed to converge (status=1):\n",
      "STOP: TOTAL NO. of ITERATIONS REACHED LIMIT.\n",
      "\n",
      "Increase the number of iterations (max_iter) or scale the data as shown in:\n",
      "    https://scikit-learn.org/stable/modules/preprocessing.html\n",
      "Please also refer to the documentation for alternative solver options:\n",
      "    https://scikit-learn.org/stable/modules/linear_model.html#logistic-regression\n",
      "  extra_warning_msg=_LOGISTIC_SOLVER_CONVERGENCE_MSG)\n",
      "c:\\users\\hanna\\miniconda3\\lib\\site-packages\\sklearn\\linear_model\\_logistic.py:764: ConvergenceWarning: lbfgs failed to converge (status=1):\n",
      "STOP: TOTAL NO. of ITERATIONS REACHED LIMIT.\n",
      "\n",
      "Increase the number of iterations (max_iter) or scale the data as shown in:\n",
      "    https://scikit-learn.org/stable/modules/preprocessing.html\n",
      "Please also refer to the documentation for alternative solver options:\n",
      "    https://scikit-learn.org/stable/modules/linear_model.html#logistic-regression\n",
      "  extra_warning_msg=_LOGISTIC_SOLVER_CONVERGENCE_MSG)\n",
      "c:\\users\\hanna\\miniconda3\\lib\\site-packages\\sklearn\\linear_model\\_logistic.py:764: ConvergenceWarning: lbfgs failed to converge (status=1):\n",
      "STOP: TOTAL NO. of ITERATIONS REACHED LIMIT.\n",
      "\n",
      "Increase the number of iterations (max_iter) or scale the data as shown in:\n",
      "    https://scikit-learn.org/stable/modules/preprocessing.html\n",
      "Please also refer to the documentation for alternative solver options:\n",
      "    https://scikit-learn.org/stable/modules/linear_model.html#logistic-regression\n",
      "  extra_warning_msg=_LOGISTIC_SOLVER_CONVERGENCE_MSG)\n"
     ]
    },
    {
     "name": "stdout",
     "output_type": "stream",
     "text": [
      "Cross-validation scores: [0.70611694 0.71099995 0.71074987 0.71949379 0.71347102]\n",
      "Mean cross-validation score: 0.71\n"
     ]
    },
    {
     "name": "stderr",
     "output_type": "stream",
     "text": [
      "c:\\users\\hanna\\miniconda3\\lib\\site-packages\\sklearn\\linear_model\\_logistic.py:764: ConvergenceWarning: lbfgs failed to converge (status=1):\n",
      "STOP: TOTAL NO. of ITERATIONS REACHED LIMIT.\n",
      "\n",
      "Increase the number of iterations (max_iter) or scale the data as shown in:\n",
      "    https://scikit-learn.org/stable/modules/preprocessing.html\n",
      "Please also refer to the documentation for alternative solver options:\n",
      "    https://scikit-learn.org/stable/modules/linear_model.html#logistic-regression\n",
      "  extra_warning_msg=_LOGISTIC_SOLVER_CONVERGENCE_MSG)\n"
     ]
    },
    {
     "data": {
      "text/plain": [
       "Pipeline(steps=[('minmaxscaler', MinMaxScaler()),\n",
       "                ('logisticregression',\n",
       "                 LogisticRegression(class_weight='balanced', random_state=42))])"
      ]
     },
     "execution_count": 132,
     "metadata": {},
     "output_type": "execute_result"
    },
    {
     "data": {
      "image/png": "[encoded data removed]",
      "text/plain": [
       "<Figure size 432x288 with 2 Axes>"
      ]
     },
     "metadata": {
      "needs_background": "light"
     },
     "output_type": "display_data"
    }
   ],
   "source": [
    "baseline_model.run_baseline_model(features_train, \n",
    "                                features_test, \n",
    "                                target_train, \n",
    "                                target_test, \n",
    "                                model = \"logreg\",\n",
    "                               random_state=42, \n",
    "                                class_weight=\"balanced\",\n",
    "                                 max_iter=100)"
   ]
  },
  {
   "cell_type": "markdown",
   "metadata": {},
   "source": [
    "## model with continuous features only\n"
   ]
  },
  {
   "cell_type": "code",
   "execution_count": 22,
   "metadata": {},
   "outputs": [
    {
     "name": "stdout",
     "output_type": "stream",
     "text": [
      "              precision    recall  f1-score   support\n",
      "\n",
      "           0       0.95      0.66      0.78     94503\n",
      "           1       0.15      0.66      0.25      8881\n",
      "\n",
      "    accuracy                           0.66    103384\n",
      "   macro avg       0.55      0.66      0.51    103384\n",
      "weighted avg       0.88      0.66      0.73    103384\n",
      "\n",
      "ROC AUC Score is 0.7091929771857153\n",
      "Cross-validation scores: [0.70435047 0.70873196 0.70888487 0.71772481 0.7117578 ]\n",
      "Mean cross-validation score: 0.71\n"
     ]
    },
    {
     "data": {
      "text/plain": [
       "Pipeline(steps=[('minmaxscaler', MinMaxScaler()),\n",
       "                ('logisticregression',\n",
       "                 LogisticRegression(class_weight='balanced', random_state=42))])"
      ]
     },
     "execution_count": 22,
     "metadata": {},
     "output_type": "execute_result"
    },
    {
     "data": {
      "image/png": "[encoded data removed]",
      "text/plain": [
       "<Figure size 432x288 with 2 Axes>"
      ]
     },
     "metadata": {
      "needs_background": "light"
     },
     "output_type": "display_data"
    }
   ],
   "source": [
    "\n",
    "features_train, features_test, target_train, target_test = data_prep.split_data(features_matrix = df_features[[\"ODOMETER\", \"CAR_AGE\"]],\n",
    "                                                                                    target_series = target,\n",
    "                                                                                    train_size = .7,\n",
    "                                                                                    random_state=42)\n",
    "\n",
    "baseline_model.run_baseline_model(features_train, \n",
    "                                features_test, \n",
    "                                target_train, \n",
    "                                target_test, \n",
    "                                model = \"logreg\", \n",
    "                                random_state=42, \n",
    "                                class_weight=\"balanced\")"
   ]
  },
  {
   "cell_type": "code",
   "execution_count": null,
   "metadata": {},
   "outputs": [],
   "source": [
    "## logistic regression with \"MODEL\""
   ]
  },
  {
   "cell_type": "code",
   "execution_count": 22,
   "metadata": {},
   "outputs": [],
   "source": [
    "df_features = df_subset[[\"MODEL\", \"FUEL_TYPE\", \"GVW_TYPE\", \"ODOMETER\", \"CAR_AGE\"]]"
   ]
  },
  {
   "cell_type": "code",
   "execution_count": 23,
   "metadata": {},
   "outputs": [],
   "source": [
    "# Continuous and categorical features - substitute MAKE by MODEL\n",
    "cat_features = [\"MODEL\", \"FUEL_TYPE\", \"GVW_TYPE\"]\n",
    "\n",
    "features_train, features_test, target_train, target_test = data_prep.encode_split_data(cat_features,\n",
    "                                                                                    data = df_features,\n",
    "                                                                                    target_series = target,\n",
    "                                                                                    train_size = .7,\n",
    "                                                                                    random_state=42)"
   ]
  },
  {
   "cell_type": "code",
   "execution_count": 24,
   "metadata": {},
   "outputs": [
    {
     "name": "stderr",
     "output_type": "stream",
     "text": [
      "c:\\users\\hanna\\miniconda3\\lib\\site-packages\\sklearn\\linear_model\\_logistic.py:764: ConvergenceWarning: lbfgs failed to converge (status=1):\n",
      "STOP: TOTAL NO. of ITERATIONS REACHED LIMIT.\n",
      "\n",
      "Increase the number of iterations (max_iter) or scale the data as shown in:\n",
      "    https://scikit-learn.org/stable/modules/preprocessing.html\n",
      "Please also refer to the documentation for alternative solver options:\n",
      "    https://scikit-learn.org/stable/modules/linear_model.html#logistic-regression\n",
      "  extra_warning_msg=_LOGISTIC_SOLVER_CONVERGENCE_MSG)\n"
     ]
    },
    {
     "name": "stdout",
     "output_type": "stream",
     "text": [
      "              precision    recall  f1-score   support\n",
      "\n",
      "           0       0.96      0.67      0.79     94503\n",
      "           1       0.16      0.69      0.27      8881\n",
      "\n",
      "    accuracy                           0.67    103384\n",
      "   macro avg       0.56      0.68      0.53    103384\n",
      "weighted avg       0.89      0.67      0.74    103384\n",
      "\n",
      "ROC AUC Score is 0.7371125232108308\n"
     ]
    },
    {
     "name": "stderr",
     "output_type": "stream",
     "text": [
      "c:\\users\\hanna\\miniconda3\\lib\\site-packages\\sklearn\\linear_model\\_logistic.py:764: ConvergenceWarning: lbfgs failed to converge (status=1):\n",
      "STOP: TOTAL NO. of ITERATIONS REACHED LIMIT.\n",
      "\n",
      "Increase the number of iterations (max_iter) or scale the data as shown in:\n",
      "    https://scikit-learn.org/stable/modules/preprocessing.html\n",
      "Please also refer to the documentation for alternative solver options:\n",
      "    https://scikit-learn.org/stable/modules/linear_model.html#logistic-regression\n",
      "  extra_warning_msg=_LOGISTIC_SOLVER_CONVERGENCE_MSG)\n",
      "c:\\users\\hanna\\miniconda3\\lib\\site-packages\\sklearn\\linear_model\\_logistic.py:764: ConvergenceWarning: lbfgs failed to converge (status=1):\n",
      "STOP: TOTAL NO. of ITERATIONS REACHED LIMIT.\n",
      "\n",
      "Increase the number of iterations (max_iter) or scale the data as shown in:\n",
      "    https://scikit-learn.org/stable/modules/preprocessing.html\n",
      "Please also refer to the documentation for alternative solver options:\n",
      "    https://scikit-learn.org/stable/modules/linear_model.html#logistic-regression\n",
      "  extra_warning_msg=_LOGISTIC_SOLVER_CONVERGENCE_MSG)\n",
      "c:\\users\\hanna\\miniconda3\\lib\\site-packages\\sklearn\\linear_model\\_logistic.py:764: ConvergenceWarning: lbfgs failed to converge (status=1):\n",
      "STOP: TOTAL NO. of ITERATIONS REACHED LIMIT.\n",
      "\n",
      "Increase the number of iterations (max_iter) or scale the data as shown in:\n",
      "    https://scikit-learn.org/stable/modules/preprocessing.html\n",
      "Please also refer to the documentation for alternative solver options:\n",
      "    https://scikit-learn.org/stable/modules/linear_model.html#logistic-regression\n",
      "  extra_warning_msg=_LOGISTIC_SOLVER_CONVERGENCE_MSG)\n",
      "c:\\users\\hanna\\miniconda3\\lib\\site-packages\\sklearn\\linear_model\\_logistic.py:764: ConvergenceWarning: lbfgs failed to converge (status=1):\n",
      "STOP: TOTAL NO. of ITERATIONS REACHED LIMIT.\n",
      "\n",
      "Increase the number of iterations (max_iter) or scale the data as shown in:\n",
      "    https://scikit-learn.org/stable/modules/preprocessing.html\n",
      "Please also refer to the documentation for alternative solver options:\n",
      "    https://scikit-learn.org/stable/modules/linear_model.html#logistic-regression\n",
      "  extra_warning_msg=_LOGISTIC_SOLVER_CONVERGENCE_MSG)\n",
      "c:\\users\\hanna\\miniconda3\\lib\\site-packages\\sklearn\\linear_model\\_logistic.py:764: ConvergenceWarning: lbfgs failed to converge (status=1):\n",
      "STOP: TOTAL NO. of ITERATIONS REACHED LIMIT.\n",
      "\n",
      "Increase the number of iterations (max_iter) or scale the data as shown in:\n",
      "    https://scikit-learn.org/stable/modules/preprocessing.html\n",
      "Please also refer to the documentation for alternative solver options:\n",
      "    https://scikit-learn.org/stable/modules/linear_model.html#logistic-regression\n",
      "  extra_warning_msg=_LOGISTIC_SOLVER_CONVERGENCE_MSG)\n"
     ]
    },
    {
     "name": "stdout",
     "output_type": "stream",
     "text": [
      "Cross-validation scores: [0.72852654 0.73683405 0.72878957 0.73694811 0.73079248]\n",
      "Mean cross-validation score: 0.73\n"
     ]
    },
    {
     "data": {
      "text/plain": [
       "Pipeline(steps=[('minmaxscaler', MinMaxScaler()),\n",
       "                ('logisticregression',\n",
       "                 LogisticRegression(class_weight='balanced', max_iter=200,\n",
       "                                    random_state=42))])"
      ]
     },
     "execution_count": 24,
     "metadata": {},
     "output_type": "execute_result"
    },
    {
     "data": {
      "image/png": "[encoded data removed]",
      "text/plain": [
       "<Figure size 432x288 with 2 Axes>"
      ]
     },
     "metadata": {
      "needs_background": "light"
     },
     "output_type": "display_data"
    }
   ],
   "source": [
    "# increasing number of iterations because of warning: does it work?\n",
    "baseline_model.run_baseline_model(features_train, \n",
    "                                features_test, \n",
    "                                target_train, \n",
    "                                target_test, \n",
    "                                model = \"logreg\", \n",
    "                                random_state=42, \n",
    "                                class_weight=\"balanced\",\n",
    "                                 max_iter=200)"
   ]
  },
  {
   "cell_type": "markdown",
   "metadata": {},
   "source": [
    "### SVC with \"MODEL\" - DON'T RUN! it is still not done after ~ three hours :("
   ]
  },
  {
   "cell_type": "code",
   "execution_count": null,
   "metadata": {},
   "outputs": [],
   "source": [
    "## baseline_model.run_baseline_model(features_train, \n",
    "                        #        features_test, \n",
    "                         #       target_train, \n",
    "                          #      target_test, \n",
    "                           #     model = \"svc\", \n",
    "                            #    class_weight=\"balanced\")"
   ]
  },
  {
   "cell_type": "markdown",
   "metadata": {},
   "source": [
    "## logistic regression with \"CYL\""
   ]
  },
  {
   "cell_type": "code",
   "execution_count": 42,
   "metadata": {},
   "outputs": [],
   "source": [
    "# exclude 88.888 and 100.000 odometer values\n",
    "df_subset = df_subset[df_subset['CYL']!=\"R\"]"
   ]
  },
  {
   "cell_type": "code",
   "execution_count": 43,
   "metadata": {},
   "outputs": [],
   "source": [
    "df_features = df_subset[[\"CYL\", \"MODEL\", \"FUEL_TYPE\", \"GVW_TYPE\", \"ODOMETER\", \"CAR_AGE\",\"MODEL\"]]"
   ]
  },
  {
   "cell_type": "code",
   "execution_count": 47,
   "metadata": {},
   "outputs": [],
   "source": [
    "# Continuous and categorical features - substitute MAKE by MODEL\n",
    "cat_features = [\"MODEL\", \"FUEL_TYPE\", \"GVW_TYPE\"]\n",
    "\n",
    "features_train, features_test, target_train, target_test = data_prep.encode_split_data(cat_features,\n",
    "                                                                                    data = df_features,\n",
    "                                                                                    target_series = target,\n",
    "                                                                                    train_size = .7,\n",
    "                                                                                    random_state=42)"
   ]
  },
  {
   "cell_type": "code",
   "execution_count": 48,
   "metadata": {},
   "outputs": [
    {
     "name": "stderr",
     "output_type": "stream",
     "text": [
      "c:\\users\\hanna\\miniconda3\\lib\\site-packages\\sklearn\\linear_model\\_logistic.py:764: ConvergenceWarning: lbfgs failed to converge (status=1):\n",
      "STOP: TOTAL NO. of ITERATIONS REACHED LIMIT.\n",
      "\n",
      "Increase the number of iterations (max_iter) or scale the data as shown in:\n",
      "    https://scikit-learn.org/stable/modules/preprocessing.html\n",
      "Please also refer to the documentation for alternative solver options:\n",
      "    https://scikit-learn.org/stable/modules/linear_model.html#logistic-regression\n",
      "  extra_warning_msg=_LOGISTIC_SOLVER_CONVERGENCE_MSG)\n"
     ]
    },
    {
     "name": "stdout",
     "output_type": "stream",
     "text": [
      "              precision    recall  f1-score   support\n",
      "\n",
      "           0       0.96      0.67      0.79     94493\n",
      "           1       0.16      0.68      0.26      8867\n",
      "\n",
      "    accuracy                           0.67    103360\n",
      "   macro avg       0.56      0.68      0.53    103360\n",
      "weighted avg       0.89      0.67      0.74    103360\n",
      "\n",
      "ROC AUC Score is 0.7336748271939283\n"
     ]
    },
    {
     "name": "stderr",
     "output_type": "stream",
     "text": [
      "c:\\users\\hanna\\miniconda3\\lib\\site-packages\\sklearn\\linear_model\\_logistic.py:764: ConvergenceWarning: lbfgs failed to converge (status=1):\n",
      "STOP: TOTAL NO. of ITERATIONS REACHED LIMIT.\n",
      "\n",
      "Increase the number of iterations (max_iter) or scale the data as shown in:\n",
      "    https://scikit-learn.org/stable/modules/preprocessing.html\n",
      "Please also refer to the documentation for alternative solver options:\n",
      "    https://scikit-learn.org/stable/modules/linear_model.html#logistic-regression\n",
      "  extra_warning_msg=_LOGISTIC_SOLVER_CONVERGENCE_MSG)\n",
      "c:\\users\\hanna\\miniconda3\\lib\\site-packages\\sklearn\\linear_model\\_logistic.py:764: ConvergenceWarning: lbfgs failed to converge (status=1):\n",
      "STOP: TOTAL NO. of ITERATIONS REACHED LIMIT.\n",
      "\n",
      "Increase the number of iterations (max_iter) or scale the data as shown in:\n",
      "    https://scikit-learn.org/stable/modules/preprocessing.html\n",
      "Please also refer to the documentation for alternative solver options:\n",
      "    https://scikit-learn.org/stable/modules/linear_model.html#logistic-regression\n",
      "  extra_warning_msg=_LOGISTIC_SOLVER_CONVERGENCE_MSG)\n",
      "c:\\users\\hanna\\miniconda3\\lib\\site-packages\\sklearn\\linear_model\\_logistic.py:764: ConvergenceWarning: lbfgs failed to converge (status=1):\n",
      "STOP: TOTAL NO. of ITERATIONS REACHED LIMIT.\n",
      "\n",
      "Increase the number of iterations (max_iter) or scale the data as shown in:\n",
      "    https://scikit-learn.org/stable/modules/preprocessing.html\n",
      "Please also refer to the documentation for alternative solver options:\n",
      "    https://scikit-learn.org/stable/modules/linear_model.html#logistic-regression\n",
      "  extra_warning_msg=_LOGISTIC_SOLVER_CONVERGENCE_MSG)\n",
      "c:\\users\\hanna\\miniconda3\\lib\\site-packages\\sklearn\\linear_model\\_logistic.py:764: ConvergenceWarning: lbfgs failed to converge (status=1):\n",
      "STOP: TOTAL NO. of ITERATIONS REACHED LIMIT.\n",
      "\n",
      "Increase the number of iterations (max_iter) or scale the data as shown in:\n",
      "    https://scikit-learn.org/stable/modules/preprocessing.html\n",
      "Please also refer to the documentation for alternative solver options:\n",
      "    https://scikit-learn.org/stable/modules/linear_model.html#logistic-regression\n",
      "  extra_warning_msg=_LOGISTIC_SOLVER_CONVERGENCE_MSG)\n",
      "c:\\users\\hanna\\miniconda3\\lib\\site-packages\\sklearn\\linear_model\\_logistic.py:764: ConvergenceWarning: lbfgs failed to converge (status=1):\n",
      "STOP: TOTAL NO. of ITERATIONS REACHED LIMIT.\n",
      "\n",
      "Increase the number of iterations (max_iter) or scale the data as shown in:\n",
      "    https://scikit-learn.org/stable/modules/preprocessing.html\n",
      "Please also refer to the documentation for alternative solver options:\n",
      "    https://scikit-learn.org/stable/modules/linear_model.html#logistic-regression\n",
      "  extra_warning_msg=_LOGISTIC_SOLVER_CONVERGENCE_MSG)\n"
     ]
    },
    {
     "name": "stdout",
     "output_type": "stream",
     "text": [
      "Cross-validation scores: [0.73310746 0.73881828 0.73238691 0.73285964 0.73389528]\n",
      "Mean cross-validation score: 0.73\n"
     ]
    },
    {
     "data": {
      "text/plain": [
       "Pipeline(steps=[('minmaxscaler', MinMaxScaler()),\n",
       "                ('logisticregression',\n",
       "                 LogisticRegression(class_weight='balanced', random_state=42))])"
      ]
     },
     "execution_count": 48,
     "metadata": {},
     "output_type": "execute_result"
    },
    {
     "data": {
      "image/png": "[encoded data removed]",
      "text/plain": [
       "<Figure size 432x288 with 2 Axes>"
      ]
     },
     "metadata": {
      "needs_background": "light"
     },
     "output_type": "display_data"
    }
   ],
   "source": [
    "# increasing number of iterations because of warning: does it work?\n",
    "baseline_model.run_baseline_model(features_train, \n",
    "                                features_test, \n",
    "                                target_train, \n",
    "                                target_test, \n",
    "                                model = \"logreg\", \n",
    "                                random_state=42, \n",
    "                                class_weight=\"balanced\",\n",
    "                                 max_iter=100)"
   ]
  },
  {
   "cell_type": "markdown",
   "metadata": {},
   "source": [
    "##reducing features to: Odometer, car_age, model"
   ]
  },
  {
   "cell_type": "code",
   "execution_count": 51,
   "metadata": {},
   "outputs": [],
   "source": [
    "df_features = df_subset[[\"ODOMETER\", \"CAR_AGE\",\"MODEL\"]]"
   ]
  },
  {
   "cell_type": "code",
   "execution_count": 52,
   "metadata": {},
   "outputs": [],
   "source": [
    "# Continuous and categorical features - substitute MAKE by MODEL\n",
    "cat_features = [\"MODEL\"]\n",
    "\n",
    "features_train, features_test, target_train, target_test = data_prep.encode_split_data(cat_features,\n",
    "                                                                                    data = df_features,\n",
    "                                                                                    target_series = target,\n",
    "                                                                                    train_size = .7,\n",
    "                                                                                    random_state=42)"
   ]
  },
  {
   "cell_type": "code",
   "execution_count": 53,
   "metadata": {},
   "outputs": [
    {
     "name": "stderr",
     "output_type": "stream",
     "text": [
      "c:\\users\\hanna\\miniconda3\\lib\\site-packages\\sklearn\\linear_model\\_logistic.py:764: ConvergenceWarning: lbfgs failed to converge (status=1):\n",
      "STOP: TOTAL NO. of ITERATIONS REACHED LIMIT.\n",
      "\n",
      "Increase the number of iterations (max_iter) or scale the data as shown in:\n",
      "    https://scikit-learn.org/stable/modules/preprocessing.html\n",
      "Please also refer to the documentation for alternative solver options:\n",
      "    https://scikit-learn.org/stable/modules/linear_model.html#logistic-regression\n",
      "  extra_warning_msg=_LOGISTIC_SOLVER_CONVERGENCE_MSG)\n"
     ]
    },
    {
     "name": "stdout",
     "output_type": "stream",
     "text": [
      "              precision    recall  f1-score   support\n",
      "\n",
      "           0       0.96      0.67      0.79     94493\n",
      "           1       0.16      0.69      0.26      8867\n",
      "\n",
      "    accuracy                           0.67    103360\n",
      "   macro avg       0.56      0.68      0.53    103360\n",
      "weighted avg       0.89      0.67      0.74    103360\n",
      "\n",
      "ROC AUC Score is 0.7349237509060049\n"
     ]
    },
    {
     "name": "stderr",
     "output_type": "stream",
     "text": [
      "c:\\users\\hanna\\miniconda3\\lib\\site-packages\\sklearn\\linear_model\\_logistic.py:764: ConvergenceWarning: lbfgs failed to converge (status=1):\n",
      "STOP: TOTAL NO. of ITERATIONS REACHED LIMIT.\n",
      "\n",
      "Increase the number of iterations (max_iter) or scale the data as shown in:\n",
      "    https://scikit-learn.org/stable/modules/preprocessing.html\n",
      "Please also refer to the documentation for alternative solver options:\n",
      "    https://scikit-learn.org/stable/modules/linear_model.html#logistic-regression\n",
      "  extra_warning_msg=_LOGISTIC_SOLVER_CONVERGENCE_MSG)\n",
      "c:\\users\\hanna\\miniconda3\\lib\\site-packages\\sklearn\\linear_model\\_logistic.py:764: ConvergenceWarning: lbfgs failed to converge (status=1):\n",
      "STOP: TOTAL NO. of ITERATIONS REACHED LIMIT.\n",
      "\n",
      "Increase the number of iterations (max_iter) or scale the data as shown in:\n",
      "    https://scikit-learn.org/stable/modules/preprocessing.html\n",
      "Please also refer to the documentation for alternative solver options:\n",
      "    https://scikit-learn.org/stable/modules/linear_model.html#logistic-regression\n",
      "  extra_warning_msg=_LOGISTIC_SOLVER_CONVERGENCE_MSG)\n",
      "c:\\users\\hanna\\miniconda3\\lib\\site-packages\\sklearn\\linear_model\\_logistic.py:764: ConvergenceWarning: lbfgs failed to converge (status=1):\n",
      "STOP: TOTAL NO. of ITERATIONS REACHED LIMIT.\n",
      "\n",
      "Increase the number of iterations (max_iter) or scale the data as shown in:\n",
      "    https://scikit-learn.org/stable/modules/preprocessing.html\n",
      "Please also refer to the documentation for alternative solver options:\n",
      "    https://scikit-learn.org/stable/modules/linear_model.html#logistic-regression\n",
      "  extra_warning_msg=_LOGISTIC_SOLVER_CONVERGENCE_MSG)\n",
      "c:\\users\\hanna\\miniconda3\\lib\\site-packages\\sklearn\\linear_model\\_logistic.py:764: ConvergenceWarning: lbfgs failed to converge (status=1):\n",
      "STOP: TOTAL NO. of ITERATIONS REACHED LIMIT.\n",
      "\n",
      "Increase the number of iterations (max_iter) or scale the data as shown in:\n",
      "    https://scikit-learn.org/stable/modules/preprocessing.html\n",
      "Please also refer to the documentation for alternative solver options:\n",
      "    https://scikit-learn.org/stable/modules/linear_model.html#logistic-regression\n",
      "  extra_warning_msg=_LOGISTIC_SOLVER_CONVERGENCE_MSG)\n",
      "c:\\users\\hanna\\miniconda3\\lib\\site-packages\\sklearn\\linear_model\\_logistic.py:764: ConvergenceWarning: lbfgs failed to converge (status=1):\n",
      "STOP: TOTAL NO. of ITERATIONS REACHED LIMIT.\n",
      "\n",
      "Increase the number of iterations (max_iter) or scale the data as shown in:\n",
      "    https://scikit-learn.org/stable/modules/preprocessing.html\n",
      "Please also refer to the documentation for alternative solver options:\n",
      "    https://scikit-learn.org/stable/modules/linear_model.html#logistic-regression\n",
      "  extra_warning_msg=_LOGISTIC_SOLVER_CONVERGENCE_MSG)\n"
     ]
    },
    {
     "name": "stdout",
     "output_type": "stream",
     "text": [
      "Cross-validation scores: [0.73381488 0.7397418  0.73349038 0.73415966 0.73412585]\n",
      "Mean cross-validation score: 0.74\n"
     ]
    },
    {
     "data": {
      "text/plain": [
       "Pipeline(steps=[('minmaxscaler', MinMaxScaler()),\n",
       "                ('logisticregression',\n",
       "                 LogisticRegression(class_weight='balanced', random_state=42))])"
      ]
     },
     "execution_count": 53,
     "metadata": {},
     "output_type": "execute_result"
    },
    {
     "data": {
      "image/png": "[encoded data removed]",
      "text/plain": [
       "<Figure size 432x288 with 2 Axes>"
      ]
     },
     "metadata": {
      "needs_background": "light"
     },
     "output_type": "display_data"
    }
   ],
   "source": [
    "baseline_model.run_baseline_model(features_train, \n",
    "                                features_test, \n",
    "                                target_train, \n",
    "                                target_test, \n",
    "                                model = \"logreg\", \n",
    "                                random_state=42, \n",
    "                                class_weight=\"balanced\",\n",
    "                                 max_iter=100)"
   ]
  },
  {
   "cell_type": "markdown",
   "metadata": {},
   "source": [
    "## check engine size"
   ]
  },
  {
   "cell_type": "code",
   "execution_count": 17,
   "metadata": {},
   "outputs": [],
   "source": [
    "df_features = df_subset[[\"ODOMETER\", \"CAR_AGE\",\"MODEL\",\"ENGINE_SIZE\"]]"
   ]
  },
  {
   "cell_type": "code",
   "execution_count": 18,
   "metadata": {},
   "outputs": [],
   "source": [
    "# Continuous and categorical features - substitute MAKE by MODEL\n",
    "cat_features = [\"MODEL\"]\n",
    "\n",
    "features_train, features_test, target_train, target_test = data_prep.encode_split_data(cat_features,\n",
    "                                                                                    data = df_features,\n",
    "                                                                                    target_series = target,\n",
    "                                                                                    train_size = .7,\n",
    "                                                                                    random_state=42)"
   ]
  },
  {
   "cell_type": "code",
   "execution_count": 70,
   "metadata": {},
   "outputs": [
    {
     "name": "stderr",
     "output_type": "stream",
     "text": [
      "c:\\users\\hanna\\miniconda3\\lib\\site-packages\\sklearn\\linear_model\\_logistic.py:764: ConvergenceWarning: lbfgs failed to converge (status=1):\n",
      "STOP: TOTAL NO. of ITERATIONS REACHED LIMIT.\n",
      "\n",
      "Increase the number of iterations (max_iter) or scale the data as shown in:\n",
      "    https://scikit-learn.org/stable/modules/preprocessing.html\n",
      "Please also refer to the documentation for alternative solver options:\n",
      "    https://scikit-learn.org/stable/modules/linear_model.html#logistic-regression\n",
      "  extra_warning_msg=_LOGISTIC_SOLVER_CONVERGENCE_MSG)\n"
     ]
    },
    {
     "name": "stdout",
     "output_type": "stream",
     "text": [
      "              precision    recall  f1-score   support\n",
      "\n",
      "           0       0.96      0.67      0.79     94503\n",
      "           1       0.17      0.69      0.27      8881\n",
      "\n",
      "    accuracy                           0.67    103384\n",
      "   macro avg       0.56      0.68      0.53    103384\n",
      "weighted avg       0.89      0.67      0.74    103384\n",
      "\n",
      "ROC AUC Score is 0.738099296245001\n"
     ]
    },
    {
     "name": "stderr",
     "output_type": "stream",
     "text": [
      "c:\\users\\hanna\\miniconda3\\lib\\site-packages\\sklearn\\linear_model\\_logistic.py:764: ConvergenceWarning: lbfgs failed to converge (status=1):\n",
      "STOP: TOTAL NO. of ITERATIONS REACHED LIMIT.\n",
      "\n",
      "Increase the number of iterations (max_iter) or scale the data as shown in:\n",
      "    https://scikit-learn.org/stable/modules/preprocessing.html\n",
      "Please also refer to the documentation for alternative solver options:\n",
      "    https://scikit-learn.org/stable/modules/linear_model.html#logistic-regression\n",
      "  extra_warning_msg=_LOGISTIC_SOLVER_CONVERGENCE_MSG)\n",
      "c:\\users\\hanna\\miniconda3\\lib\\site-packages\\sklearn\\linear_model\\_logistic.py:764: ConvergenceWarning: lbfgs failed to converge (status=1):\n",
      "STOP: TOTAL NO. of ITERATIONS REACHED LIMIT.\n",
      "\n",
      "Increase the number of iterations (max_iter) or scale the data as shown in:\n",
      "    https://scikit-learn.org/stable/modules/preprocessing.html\n",
      "Please also refer to the documentation for alternative solver options:\n",
      "    https://scikit-learn.org/stable/modules/linear_model.html#logistic-regression\n",
      "  extra_warning_msg=_LOGISTIC_SOLVER_CONVERGENCE_MSG)\n",
      "c:\\users\\hanna\\miniconda3\\lib\\site-packages\\sklearn\\linear_model\\_logistic.py:764: ConvergenceWarning: lbfgs failed to converge (status=1):\n",
      "STOP: TOTAL NO. of ITERATIONS REACHED LIMIT.\n",
      "\n",
      "Increase the number of iterations (max_iter) or scale the data as shown in:\n",
      "    https://scikit-learn.org/stable/modules/preprocessing.html\n",
      "Please also refer to the documentation for alternative solver options:\n",
      "    https://scikit-learn.org/stable/modules/linear_model.html#logistic-regression\n",
      "  extra_warning_msg=_LOGISTIC_SOLVER_CONVERGENCE_MSG)\n",
      "c:\\users\\hanna\\miniconda3\\lib\\site-packages\\sklearn\\linear_model\\_logistic.py:764: ConvergenceWarning: lbfgs failed to converge (status=1):\n",
      "STOP: TOTAL NO. of ITERATIONS REACHED LIMIT.\n",
      "\n",
      "Increase the number of iterations (max_iter) or scale the data as shown in:\n",
      "    https://scikit-learn.org/stable/modules/preprocessing.html\n",
      "Please also refer to the documentation for alternative solver options:\n",
      "    https://scikit-learn.org/stable/modules/linear_model.html#logistic-regression\n",
      "  extra_warning_msg=_LOGISTIC_SOLVER_CONVERGENCE_MSG)\n",
      "c:\\users\\hanna\\miniconda3\\lib\\site-packages\\sklearn\\linear_model\\_logistic.py:764: ConvergenceWarning: lbfgs failed to converge (status=1):\n",
      "STOP: TOTAL NO. of ITERATIONS REACHED LIMIT.\n",
      "\n",
      "Increase the number of iterations (max_iter) or scale the data as shown in:\n",
      "    https://scikit-learn.org/stable/modules/preprocessing.html\n",
      "Please also refer to the documentation for alternative solver options:\n",
      "    https://scikit-learn.org/stable/modules/linear_model.html#logistic-regression\n",
      "  extra_warning_msg=_LOGISTIC_SOLVER_CONVERGENCE_MSG)\n"
     ]
    },
    {
     "name": "stdout",
     "output_type": "stream",
     "text": [
      "Cross-validation scores: [0.73011087 0.73801152 0.73081301 0.73898028 0.73257516]\n",
      "Mean cross-validation score: 0.73\n"
     ]
    },
    {
     "data": {
      "text/plain": [
       "Pipeline(steps=[('minmaxscaler', MinMaxScaler()),\n",
       "                ('logisticregression',\n",
       "                 LogisticRegression(class_weight='balanced', random_state=42))])"
      ]
     },
     "execution_count": 70,
     "metadata": {},
     "output_type": "execute_result"
    },
    {
     "data": {
      "image/png": "[encoded data removed]",
      "text/plain": [
       "<Figure size 432x288 with 2 Axes>"
      ]
     },
     "metadata": {
      "needs_background": "light"
     },
     "output_type": "display_data"
    }
   ],
   "source": [
    "baseline_model.run_baseline_model(features_train, \n",
    "                                features_test, \n",
    "                                target_train, \n",
    "                                target_test, \n",
    "                                model = \"logreg\", \n",
    "                                random_state=42, \n",
    "                                class_weight=\"balanced\",\n",
    "                                 max_iter=100)"
   ]
  },
  {
   "cell_type": "code",
   "execution_count": 24,
   "metadata": {},
   "outputs": [
    {
     "name": "stdout",
     "output_type": "stream",
     "text": [
      "              precision    recall  f1-score   support\n",
      "\n",
      "           0       0.96      0.59      0.73     94503\n",
      "           1       0.14      0.73      0.24      8881\n",
      "\n",
      "    accuracy                           0.60    103384\n",
      "   macro avg       0.55      0.66      0.49    103384\n",
      "weighted avg       0.89      0.60      0.69    103384\n",
      "\n",
      "ROC AUC Score is 0.7131940667228835\n",
      "Cross-validation scores: [0.7108245  0.71301058 0.71234587 0.72198258 0.71439098]\n",
      "Mean cross-validation score: 0.71\n"
     ]
    },
    {
     "data": {
      "text/plain": [
       "Pipeline(steps=[('minmaxscaler', MinMaxScaler()),\n",
       "                ('randomforestclassifier',\n",
       "                 RandomForestClassifier(class_weight='balanced',\n",
       "                                        max_leaf_nodes=16, n_estimators=500))])"
      ]
     },
     "execution_count": 24,
     "metadata": {},
     "output_type": "execute_result"
    },
    {
     "data": {
      "image/png": "[encoded data removed]",
      "text/plain": [
       "<Figure size 432x288 with 2 Axes>"
      ]
     },
     "metadata": {
      "needs_background": "light"
     },
     "output_type": "display_data"
    }
   ],
   "source": [
    " #try Random Forest Classifier\n",
    "baseline_model.run_baseline_model(features_train, \n",
    "                              features_test, \n",
    "                              target_train, \n",
    "                                target_test, \n",
    "                                model = \"rf\", \n",
    "                                class_weight=\"balanced\",\n",
    "                                 max_leaf_nodes=16,\n",
    "                                 n_estimators=500)"
   ]
  },
  {
   "cell_type": "code",
   "execution_count": 26,
   "metadata": {},
   "outputs": [
    {
     "ename": "NameError",
     "evalue": "name 'rf' is not defined",
     "output_type": "error",
     "traceback": [
      "\u001b[1;31m---------------------------------------------------------------------------\u001b[0m",
      "\u001b[1;31mNameError\u001b[0m                                 Traceback (most recent call last)",
      "\u001b[1;32m<ipython-input-26-f6d907448469>\u001b[0m in \u001b[0;36m<module>\u001b[1;34m\u001b[0m\n\u001b[0;32m      1\u001b[0m \u001b[1;31m#retrieve feature importance for random forest classifier\u001b[0m\u001b[1;33m\u001b[0m\u001b[1;33m\u001b[0m\u001b[1;33m\u001b[0m\u001b[0m\n\u001b[1;32m----> 2\u001b[1;33m \u001b[0mimportances\u001b[0m \u001b[1;33m=\u001b[0m \u001b[0mrf\u001b[0m\u001b[1;33m.\u001b[0m\u001b[0mfeature_importances_\u001b[0m\u001b[1;33m\u001b[0m\u001b[1;33m\u001b[0m\u001b[0m\n\u001b[0m\u001b[0;32m      3\u001b[0m \u001b[0mprint\u001b[0m\u001b[1;33m(\u001b[0m\u001b[0mimportances\u001b[0m\u001b[1;33m)\u001b[0m\u001b[1;33m\u001b[0m\u001b[1;33m\u001b[0m\u001b[0m\n",
      "\u001b[1;31mNameError\u001b[0m: name 'rf' is not defined"
     ]
    }
   ],
   "source": [
    "#retrieve feature importance for random forest classifier\n",
    "importances = rf.feature_importances_\n",
    "print(importances)"
   ]
  },
  {
   "cell_type": "markdown",
   "metadata": {},
   "source": [
    "## modeling emissions\n",
    "* adding **CO*\n",
    "* getting rid of engine-size, it doesnt seem to help much\n",
    "* use **logistic regression**, it seems to be the best model so far"
   ]
  },
  {
   "cell_type": "code",
   "execution_count": 39,
   "metadata": {},
   "outputs": [],
   "source": [
    "df_features = df_subset[[\"ODOMETER\", \"CAR_AGE\",\"MODEL\",\"E_HIGH_CO\"]]"
   ]
  },
  {
   "cell_type": "code",
   "execution_count": 40,
   "metadata": {},
   "outputs": [],
   "source": [
    "# Continuous and categorical features - substitute MAKE by MODEL\n",
    "cat_features = [\"MODEL\"]\n",
    "\n",
    "features_train, features_test, target_train, target_test = data_prep.encode_split_data(cat_features,\n",
    "                                                                                    data = df_features,\n",
    "                                                                                    target_series = target,\n",
    "                                                                                    train_size = .7,\n",
    "                                                                                    random_state=42)"
   ]
  },
  {
   "cell_type": "code",
   "execution_count": 41,
   "metadata": {},
   "outputs": [
    {
     "name": "stderr",
     "output_type": "stream",
     "text": [
      "c:\\users\\hanna\\miniconda3\\lib\\site-packages\\sklearn\\linear_model\\_logistic.py:764: ConvergenceWarning: lbfgs failed to converge (status=1):\n",
      "STOP: TOTAL NO. of ITERATIONS REACHED LIMIT.\n",
      "\n",
      "Increase the number of iterations (max_iter) or scale the data as shown in:\n",
      "    https://scikit-learn.org/stable/modules/preprocessing.html\n",
      "Please also refer to the documentation for alternative solver options:\n",
      "    https://scikit-learn.org/stable/modules/linear_model.html#logistic-regression\n",
      "  extra_warning_msg=_LOGISTIC_SOLVER_CONVERGENCE_MSG)\n"
     ]
    },
    {
     "name": "stdout",
     "output_type": "stream",
     "text": [
      "              precision    recall  f1-score   support\n",
      "\n",
      "           0       0.96      0.71      0.82     94503\n",
      "           1       0.18      0.67      0.28      8881\n",
      "\n",
      "    accuracy                           0.71    103384\n",
      "   macro avg       0.57      0.69      0.55    103384\n",
      "weighted avg       0.89      0.71      0.77    103384\n",
      "\n",
      "ROC AUC Score is 0.7563639875559554\n"
     ]
    },
    {
     "name": "stderr",
     "output_type": "stream",
     "text": [
      "c:\\users\\hanna\\miniconda3\\lib\\site-packages\\sklearn\\linear_model\\_logistic.py:764: ConvergenceWarning: lbfgs failed to converge (status=1):\n",
      "STOP: TOTAL NO. of ITERATIONS REACHED LIMIT.\n",
      "\n",
      "Increase the number of iterations (max_iter) or scale the data as shown in:\n",
      "    https://scikit-learn.org/stable/modules/preprocessing.html\n",
      "Please also refer to the documentation for alternative solver options:\n",
      "    https://scikit-learn.org/stable/modules/linear_model.html#logistic-regression\n",
      "  extra_warning_msg=_LOGISTIC_SOLVER_CONVERGENCE_MSG)\n",
      "c:\\users\\hanna\\miniconda3\\lib\\site-packages\\sklearn\\linear_model\\_logistic.py:764: ConvergenceWarning: lbfgs failed to converge (status=1):\n",
      "STOP: TOTAL NO. of ITERATIONS REACHED LIMIT.\n",
      "\n",
      "Increase the number of iterations (max_iter) or scale the data as shown in:\n",
      "    https://scikit-learn.org/stable/modules/preprocessing.html\n",
      "Please also refer to the documentation for alternative solver options:\n",
      "    https://scikit-learn.org/stable/modules/linear_model.html#logistic-regression\n",
      "  extra_warning_msg=_LOGISTIC_SOLVER_CONVERGENCE_MSG)\n",
      "c:\\users\\hanna\\miniconda3\\lib\\site-packages\\sklearn\\linear_model\\_logistic.py:764: ConvergenceWarning: lbfgs failed to converge (status=1):\n",
      "STOP: TOTAL NO. of ITERATIONS REACHED LIMIT.\n",
      "\n",
      "Increase the number of iterations (max_iter) or scale the data as shown in:\n",
      "    https://scikit-learn.org/stable/modules/preprocessing.html\n",
      "Please also refer to the documentation for alternative solver options:\n",
      "    https://scikit-learn.org/stable/modules/linear_model.html#logistic-regression\n",
      "  extra_warning_msg=_LOGISTIC_SOLVER_CONVERGENCE_MSG)\n",
      "c:\\users\\hanna\\miniconda3\\lib\\site-packages\\sklearn\\linear_model\\_logistic.py:764: ConvergenceWarning: lbfgs failed to converge (status=1):\n",
      "STOP: TOTAL NO. of ITERATIONS REACHED LIMIT.\n",
      "\n",
      "Increase the number of iterations (max_iter) or scale the data as shown in:\n",
      "    https://scikit-learn.org/stable/modules/preprocessing.html\n",
      "Please also refer to the documentation for alternative solver options:\n",
      "    https://scikit-learn.org/stable/modules/linear_model.html#logistic-regression\n",
      "  extra_warning_msg=_LOGISTIC_SOLVER_CONVERGENCE_MSG)\n",
      "c:\\users\\hanna\\miniconda3\\lib\\site-packages\\sklearn\\linear_model\\_logistic.py:764: ConvergenceWarning: lbfgs failed to converge (status=1):\n",
      "STOP: TOTAL NO. of ITERATIONS REACHED LIMIT.\n",
      "\n",
      "Increase the number of iterations (max_iter) or scale the data as shown in:\n",
      "    https://scikit-learn.org/stable/modules/preprocessing.html\n",
      "Please also refer to the documentation for alternative solver options:\n",
      "    https://scikit-learn.org/stable/modules/linear_model.html#logistic-regression\n",
      "  extra_warning_msg=_LOGISTIC_SOLVER_CONVERGENCE_MSG)\n"
     ]
    },
    {
     "name": "stdout",
     "output_type": "stream",
     "text": [
      "Cross-validation scores: [0.74856155 0.75435404 0.74876219 0.75878097 0.75348594]\n",
      "Mean cross-validation score: 0.75\n"
     ]
    },
    {
     "data": {
      "text/plain": [
       "Pipeline(steps=[('minmaxscaler', MinMaxScaler()),\n",
       "                ('logisticregression',\n",
       "                 LogisticRegression(class_weight='balanced', random_state=42))])"
      ]
     },
     "execution_count": 41,
     "metadata": {},
     "output_type": "execute_result"
    },
    {
     "data": {
      "image/png": "[encoded data removed]",
      "text/plain": [
       "<Figure size 432x288 with 2 Axes>"
      ]
     },
     "metadata": {
      "needs_background": "light"
     },
     "output_type": "display_data"
    }
   ],
   "source": [
    "baseline_model.run_baseline_model(features_train, \n",
    "                                features_test, \n",
    "                                target_train, \n",
    "                                target_test, \n",
    "                                model = \"logreg\", \n",
    "                                random_state=42, \n",
    "                                class_weight=\"balanced\",\n",
    "                                 max_iter=100)"
   ]
  },
  {
   "cell_type": "markdown",
   "metadata": {},
   "source": [
    "### adding CO2"
   ]
  },
  {
   "cell_type": "code",
   "execution_count": 82,
   "metadata": {},
   "outputs": [],
   "source": [
    "df_features = df_subset[[\"ODOMETER\", \"CAR_AGE\",\"MODEL\",\"E_HIGH_CO\",\"E_HIGH_CO2\",\"E_HIGH_O2\",\"E_HIGH_HC\"]]"
   ]
  },
  {
   "cell_type": "code",
   "execution_count": 83,
   "metadata": {},
   "outputs": [],
   "source": [
    "# Continuous and categorical features - substitute MAKE by MODEL\n",
    "cat_features = [\"MODEL\"]\n",
    "\n",
    "features_train, features_test, target_train, target_test = data_prep.encode_split_data(cat_features,\n",
    "                                                                                    data = df_features,\n",
    "                                                                                    target_series = target,\n",
    "                                                                                    train_size = .7,\n",
    "                                                                                    random_state=42)"
   ]
  },
  {
   "cell_type": "code",
   "execution_count": 84,
   "metadata": {},
   "outputs": [
    {
     "name": "stderr",
     "output_type": "stream",
     "text": [
      "c:\\users\\hanna\\miniconda3\\lib\\site-packages\\sklearn\\linear_model\\_logistic.py:764: ConvergenceWarning: lbfgs failed to converge (status=1):\n",
      "STOP: TOTAL NO. of ITERATIONS REACHED LIMIT.\n",
      "\n",
      "Increase the number of iterations (max_iter) or scale the data as shown in:\n",
      "    https://scikit-learn.org/stable/modules/preprocessing.html\n",
      "Please also refer to the documentation for alternative solver options:\n",
      "    https://scikit-learn.org/stable/modules/linear_model.html#logistic-regression\n",
      "  extra_warning_msg=_LOGISTIC_SOLVER_CONVERGENCE_MSG)\n"
     ]
    },
    {
     "name": "stdout",
     "output_type": "stream",
     "text": [
      "              precision    recall  f1-score   support\n",
      "\n",
      "           0       0.96      0.72      0.82     94503\n",
      "           1       0.18      0.67      0.29      8881\n",
      "\n",
      "    accuracy                           0.71    103384\n",
      "   macro avg       0.57      0.69      0.55    103384\n",
      "weighted avg       0.89      0.71      0.77    103384\n",
      "\n",
      "ROC AUC Score is 0.7614618555775178\n"
     ]
    },
    {
     "name": "stderr",
     "output_type": "stream",
     "text": [
      "c:\\users\\hanna\\miniconda3\\lib\\site-packages\\sklearn\\linear_model\\_logistic.py:764: ConvergenceWarning: lbfgs failed to converge (status=1):\n",
      "STOP: TOTAL NO. of ITERATIONS REACHED LIMIT.\n",
      "\n",
      "Increase the number of iterations (max_iter) or scale the data as shown in:\n",
      "    https://scikit-learn.org/stable/modules/preprocessing.html\n",
      "Please also refer to the documentation for alternative solver options:\n",
      "    https://scikit-learn.org/stable/modules/linear_model.html#logistic-regression\n",
      "  extra_warning_msg=_LOGISTIC_SOLVER_CONVERGENCE_MSG)\n",
      "c:\\users\\hanna\\miniconda3\\lib\\site-packages\\sklearn\\linear_model\\_logistic.py:764: ConvergenceWarning: lbfgs failed to converge (status=1):\n",
      "STOP: TOTAL NO. of ITERATIONS REACHED LIMIT.\n",
      "\n",
      "Increase the number of iterations (max_iter) or scale the data as shown in:\n",
      "    https://scikit-learn.org/stable/modules/preprocessing.html\n",
      "Please also refer to the documentation for alternative solver options:\n",
      "    https://scikit-learn.org/stable/modules/linear_model.html#logistic-regression\n",
      "  extra_warning_msg=_LOGISTIC_SOLVER_CONVERGENCE_MSG)\n",
      "c:\\users\\hanna\\miniconda3\\lib\\site-packages\\sklearn\\linear_model\\_logistic.py:764: ConvergenceWarning: lbfgs failed to converge (status=1):\n",
      "STOP: TOTAL NO. of ITERATIONS REACHED LIMIT.\n",
      "\n",
      "Increase the number of iterations (max_iter) or scale the data as shown in:\n",
      "    https://scikit-learn.org/stable/modules/preprocessing.html\n",
      "Please also refer to the documentation for alternative solver options:\n",
      "    https://scikit-learn.org/stable/modules/linear_model.html#logistic-regression\n",
      "  extra_warning_msg=_LOGISTIC_SOLVER_CONVERGENCE_MSG)\n",
      "c:\\users\\hanna\\miniconda3\\lib\\site-packages\\sklearn\\linear_model\\_logistic.py:764: ConvergenceWarning: lbfgs failed to converge (status=1):\n",
      "STOP: TOTAL NO. of ITERATIONS REACHED LIMIT.\n",
      "\n",
      "Increase the number of iterations (max_iter) or scale the data as shown in:\n",
      "    https://scikit-learn.org/stable/modules/preprocessing.html\n",
      "Please also refer to the documentation for alternative solver options:\n",
      "    https://scikit-learn.org/stable/modules/linear_model.html#logistic-regression\n",
      "  extra_warning_msg=_LOGISTIC_SOLVER_CONVERGENCE_MSG)\n",
      "c:\\users\\hanna\\miniconda3\\lib\\site-packages\\sklearn\\linear_model\\_logistic.py:764: ConvergenceWarning: lbfgs failed to converge (status=1):\n",
      "STOP: TOTAL NO. of ITERATIONS REACHED LIMIT.\n",
      "\n",
      "Increase the number of iterations (max_iter) or scale the data as shown in:\n",
      "    https://scikit-learn.org/stable/modules/preprocessing.html\n",
      "Please also refer to the documentation for alternative solver options:\n",
      "    https://scikit-learn.org/stable/modules/linear_model.html#logistic-regression\n",
      "  extra_warning_msg=_LOGISTIC_SOLVER_CONVERGENCE_MSG)\n"
     ]
    },
    {
     "name": "stdout",
     "output_type": "stream",
     "text": [
      "Cross-validation scores: [0.75338048 0.76070411 0.7541996  0.76334939 0.75839359]\n",
      "Mean cross-validation score: 0.76\n"
     ]
    },
    {
     "data": {
      "text/plain": [
       "Pipeline(steps=[('minmaxscaler', MinMaxScaler()),\n",
       "                ('logisticregression',\n",
       "                 LogisticRegression(class_weight='balanced', random_state=42))])"
      ]
     },
     "execution_count": 84,
     "metadata": {},
     "output_type": "execute_result"
    },
    {
     "data": {
      "image/png": "[encoded data removed]",
      "text/plain": [
       "<Figure size 432x288 with 2 Axes>"
      ]
     },
     "metadata": {
      "needs_background": "light"
     },
     "output_type": "display_data"
    }
   ],
   "source": [
    "baseline_model.run_baseline_model(features_train, \n",
    "                                features_test, \n",
    "                                target_train, \n",
    "                                target_test, \n",
    "                                model = \"logreg\", \n",
    "                                random_state=42, \n",
    "                                class_weight=\"balanced\",\n",
    "                                 max_iter=100)\n"
   ]
  },
  {
   "cell_type": "code",
   "execution_count": 97,
   "metadata": {},
   "outputs": [],
   "source": [
    "df_features = df_subset[[\"ODOMETER\", \"CAR_AGE\",\"MODEL\",\"E_IDLE_CO\",\"E_IDLE_CO2\",\"E_IDLE_O2\",\"E_IDLE_HC\"]]"
   ]
  },
  {
   "cell_type": "code",
   "execution_count": 98,
   "metadata": {},
   "outputs": [],
   "source": [
    "# Continuous and categorical features - substitute MAKE by MODEL\n",
    "cat_features = [\"MODEL\"]\n",
    "\n",
    "features_train, features_test, target_train, target_test = data_prep.encode_split_data(cat_features,\n",
    "                                                                                    data = df_features,\n",
    "                                                                                    target_series = target,\n",
    "                                                                                    train_size = .7,\n",
    "                                                                                    random_state=42)"
   ]
  },
  {
   "cell_type": "code",
   "execution_count": 99,
   "metadata": {},
   "outputs": [
    {
     "name": "stderr",
     "output_type": "stream",
     "text": [
      "c:\\users\\hanna\\miniconda3\\lib\\site-packages\\sklearn\\linear_model\\_logistic.py:764: ConvergenceWarning: lbfgs failed to converge (status=1):\n",
      "STOP: TOTAL NO. of ITERATIONS REACHED LIMIT.\n",
      "\n",
      "Increase the number of iterations (max_iter) or scale the data as shown in:\n",
      "    https://scikit-learn.org/stable/modules/preprocessing.html\n",
      "Please also refer to the documentation for alternative solver options:\n",
      "    https://scikit-learn.org/stable/modules/linear_model.html#logistic-regression\n",
      "  extra_warning_msg=_LOGISTIC_SOLVER_CONVERGENCE_MSG)\n"
     ]
    },
    {
     "name": "stdout",
     "output_type": "stream",
     "text": [
      "              precision    recall  f1-score   support\n",
      "\n",
      "           0       0.96      0.71      0.82     94503\n",
      "           1       0.18      0.68      0.29      8881\n",
      "\n",
      "    accuracy                           0.71    103384\n",
      "   macro avg       0.57      0.70      0.55    103384\n",
      "weighted avg       0.89      0.71      0.77    103384\n",
      "\n",
      "ROC AUC Score is 0.7645590334680019\n"
     ]
    },
    {
     "name": "stderr",
     "output_type": "stream",
     "text": [
      "c:\\users\\hanna\\miniconda3\\lib\\site-packages\\sklearn\\linear_model\\_logistic.py:764: ConvergenceWarning: lbfgs failed to converge (status=1):\n",
      "STOP: TOTAL NO. of ITERATIONS REACHED LIMIT.\n",
      "\n",
      "Increase the number of iterations (max_iter) or scale the data as shown in:\n",
      "    https://scikit-learn.org/stable/modules/preprocessing.html\n",
      "Please also refer to the documentation for alternative solver options:\n",
      "    https://scikit-learn.org/stable/modules/linear_model.html#logistic-regression\n",
      "  extra_warning_msg=_LOGISTIC_SOLVER_CONVERGENCE_MSG)\n",
      "c:\\users\\hanna\\miniconda3\\lib\\site-packages\\sklearn\\linear_model\\_logistic.py:764: ConvergenceWarning: lbfgs failed to converge (status=1):\n",
      "STOP: TOTAL NO. of ITERATIONS REACHED LIMIT.\n",
      "\n",
      "Increase the number of iterations (max_iter) or scale the data as shown in:\n",
      "    https://scikit-learn.org/stable/modules/preprocessing.html\n",
      "Please also refer to the documentation for alternative solver options:\n",
      "    https://scikit-learn.org/stable/modules/linear_model.html#logistic-regression\n",
      "  extra_warning_msg=_LOGISTIC_SOLVER_CONVERGENCE_MSG)\n",
      "c:\\users\\hanna\\miniconda3\\lib\\site-packages\\sklearn\\linear_model\\_logistic.py:764: ConvergenceWarning: lbfgs failed to converge (status=1):\n",
      "STOP: TOTAL NO. of ITERATIONS REACHED LIMIT.\n",
      "\n",
      "Increase the number of iterations (max_iter) or scale the data as shown in:\n",
      "    https://scikit-learn.org/stable/modules/preprocessing.html\n",
      "Please also refer to the documentation for alternative solver options:\n",
      "    https://scikit-learn.org/stable/modules/linear_model.html#logistic-regression\n",
      "  extra_warning_msg=_LOGISTIC_SOLVER_CONVERGENCE_MSG)\n",
      "c:\\users\\hanna\\miniconda3\\lib\\site-packages\\sklearn\\linear_model\\_logistic.py:764: ConvergenceWarning: lbfgs failed to converge (status=1):\n",
      "STOP: TOTAL NO. of ITERATIONS REACHED LIMIT.\n",
      "\n",
      "Increase the number of iterations (max_iter) or scale the data as shown in:\n",
      "    https://scikit-learn.org/stable/modules/preprocessing.html\n",
      "Please also refer to the documentation for alternative solver options:\n",
      "    https://scikit-learn.org/stable/modules/linear_model.html#logistic-regression\n",
      "  extra_warning_msg=_LOGISTIC_SOLVER_CONVERGENCE_MSG)\n",
      "c:\\users\\hanna\\miniconda3\\lib\\site-packages\\sklearn\\linear_model\\_logistic.py:764: ConvergenceWarning: lbfgs failed to converge (status=1):\n",
      "STOP: TOTAL NO. of ITERATIONS REACHED LIMIT.\n",
      "\n",
      "Increase the number of iterations (max_iter) or scale the data as shown in:\n",
      "    https://scikit-learn.org/stable/modules/preprocessing.html\n",
      "Please also refer to the documentation for alternative solver options:\n",
      "    https://scikit-learn.org/stable/modules/linear_model.html#logistic-regression\n",
      "  extra_warning_msg=_LOGISTIC_SOLVER_CONVERGENCE_MSG)\n"
     ]
    },
    {
     "name": "stdout",
     "output_type": "stream",
     "text": [
      "Cross-validation scores: [0.75638673 0.76316    0.75538998 0.76835178 0.75808864]\n",
      "Mean cross-validation score: 0.76\n"
     ]
    },
    {
     "data": {
      "text/plain": [
       "Pipeline(steps=[('minmaxscaler', MinMaxScaler()),\n",
       "                ('logisticregression',\n",
       "                 LogisticRegression(class_weight='balanced', random_state=42))])"
      ]
     },
     "execution_count": 99,
     "metadata": {},
     "output_type": "execute_result"
    },
    {
     "data": {
      "image/png": "[encoded data removed]",
      "text/plain": [
       "<Figure size 432x288 with 2 Axes>"
      ]
     },
     "metadata": {
      "needs_background": "light"
     },
     "output_type": "display_data"
    }
   ],
   "source": [
    "baseline_model.run_baseline_model(features_train, \n",
    "                                features_test, \n",
    "                                target_train, \n",
    "                                target_test, \n",
    "                                model = \"logreg\", \n",
    "                                random_state=42, \n",
    "                                class_weight=\"balanced\",\n",
    "                                 max_iter=100)\n"
   ]
  },
  {
   "cell_type": "code",
   "execution_count": 122,
   "metadata": {},
   "outputs": [
    {
     "data": {
      "text/plain": [
       "N    295568\n",
       "P     53623\n",
       "F      2857\n",
       "Name: E_IDLE_CO_RESULT, dtype: int64"
      ]
     },
     "execution_count": 122,
     "metadata": {},
     "output_type": "execute_result"
    }
   ],
   "source": [
    "df[\"E_IDLE_CO_RESULT\"].value_counts()"
   ]
  },
  {
   "cell_type": "code",
   "execution_count": 21,
   "metadata": {},
   "outputs": [],
   "source": [
    "df_subset['E_IDLE_CO_RESULT']=df_subset['E_IDLE_CO_RESULT'].replace({'P':1, 'F':0,'N':3})"
   ]
  },
  {
   "cell_type": "code",
   "execution_count": 124,
   "metadata": {},
   "outputs": [
    {
     "data": {
      "text/plain": [
       "N    295568\n",
       "P     50649\n",
       "F      5831\n",
       "Name: E_IDLE_HC_RESULT, dtype: int64"
      ]
     },
     "execution_count": 124,
     "metadata": {},
     "output_type": "execute_result"
    }
   ],
   "source": [
    "df[\"E_IDLE_HC_RESULT\"].value_counts()"
   ]
  },
  {
   "cell_type": "code",
   "execution_count": 20,
   "metadata": {},
   "outputs": [],
   "source": [
    "df_subset['E_IDLE_HC_RESULT']=df_subset['E_IDLE_HC_RESULT'].replace({'P':1, 'F':0,'N':3})"
   ]
  },
  {
   "cell_type": "code",
   "execution_count": 19,
   "metadata": {},
   "outputs": [],
   "source": [
    "df_features = df_subset[[\"ODOMETER\", \"CAR_AGE\",\"MODEL\",\"E_IDLE_CO_RESULT\",\"E_IDLE_HC_RESULT\"]]"
   ]
  },
  {
   "cell_type": "code",
   "execution_count": 127,
   "metadata": {},
   "outputs": [],
   "source": [
    "# Continuous and categorical features - substitute MAKE by MODEL\n",
    "cat_features = [\"MODEL\",'E_IDLE_HC_RESULT','E_IDLE_CO_RESULT']\n",
    "\n",
    "features_train, features_test, target_train, target_test = data_prep.encode_split_data(cat_features,\n",
    "                                                                                    data = df_features,\n",
    "                                                                                    target_series = target,\n",
    "                                                                                    train_size = .7,\n",
    "                                                                                    random_state=42)"
   ]
  },
  {
   "cell_type": "code",
   "execution_count": 128,
   "metadata": {},
   "outputs": [
    {
     "name": "stderr",
     "output_type": "stream",
     "text": [
      "c:\\users\\hanna\\miniconda3\\lib\\site-packages\\sklearn\\linear_model\\_logistic.py:764: ConvergenceWarning: lbfgs failed to converge (status=1):\n",
      "STOP: TOTAL NO. of ITERATIONS REACHED LIMIT.\n",
      "\n",
      "Increase the number of iterations (max_iter) or scale the data as shown in:\n",
      "    https://scikit-learn.org/stable/modules/preprocessing.html\n",
      "Please also refer to the documentation for alternative solver options:\n",
      "    https://scikit-learn.org/stable/modules/linear_model.html#logistic-regression\n",
      "  extra_warning_msg=_LOGISTIC_SOLVER_CONVERGENCE_MSG)\n"
     ]
    },
    {
     "name": "stdout",
     "output_type": "stream",
     "text": [
      "              precision    recall  f1-score   support\n",
      "\n",
      "           0       0.96      0.75      0.84     94503\n",
      "           1       0.20      0.66      0.30      8881\n",
      "\n",
      "    accuracy                           0.74    103384\n",
      "   macro avg       0.58      0.70      0.57    103384\n",
      "weighted avg       0.89      0.74      0.79    103384\n",
      "\n",
      "ROC AUC Score is 0.7747961984176261\n"
     ]
    },
    {
     "name": "stderr",
     "output_type": "stream",
     "text": [
      "c:\\users\\hanna\\miniconda3\\lib\\site-packages\\sklearn\\linear_model\\_logistic.py:764: ConvergenceWarning: lbfgs failed to converge (status=1):\n",
      "STOP: TOTAL NO. of ITERATIONS REACHED LIMIT.\n",
      "\n",
      "Increase the number of iterations (max_iter) or scale the data as shown in:\n",
      "    https://scikit-learn.org/stable/modules/preprocessing.html\n",
      "Please also refer to the documentation for alternative solver options:\n",
      "    https://scikit-learn.org/stable/modules/linear_model.html#logistic-regression\n",
      "  extra_warning_msg=_LOGISTIC_SOLVER_CONVERGENCE_MSG)\n",
      "c:\\users\\hanna\\miniconda3\\lib\\site-packages\\sklearn\\linear_model\\_logistic.py:764: ConvergenceWarning: lbfgs failed to converge (status=1):\n",
      "STOP: TOTAL NO. of ITERATIONS REACHED LIMIT.\n",
      "\n",
      "Increase the number of iterations (max_iter) or scale the data as shown in:\n",
      "    https://scikit-learn.org/stable/modules/preprocessing.html\n",
      "Please also refer to the documentation for alternative solver options:\n",
      "    https://scikit-learn.org/stable/modules/linear_model.html#logistic-regression\n",
      "  extra_warning_msg=_LOGISTIC_SOLVER_CONVERGENCE_MSG)\n",
      "c:\\users\\hanna\\miniconda3\\lib\\site-packages\\sklearn\\linear_model\\_logistic.py:764: ConvergenceWarning: lbfgs failed to converge (status=1):\n",
      "STOP: TOTAL NO. of ITERATIONS REACHED LIMIT.\n",
      "\n",
      "Increase the number of iterations (max_iter) or scale the data as shown in:\n",
      "    https://scikit-learn.org/stable/modules/preprocessing.html\n",
      "Please also refer to the documentation for alternative solver options:\n",
      "    https://scikit-learn.org/stable/modules/linear_model.html#logistic-regression\n",
      "  extra_warning_msg=_LOGISTIC_SOLVER_CONVERGENCE_MSG)\n",
      "c:\\users\\hanna\\miniconda3\\lib\\site-packages\\sklearn\\linear_model\\_logistic.py:764: ConvergenceWarning: lbfgs failed to converge (status=1):\n",
      "STOP: TOTAL NO. of ITERATIONS REACHED LIMIT.\n",
      "\n",
      "Increase the number of iterations (max_iter) or scale the data as shown in:\n",
      "    https://scikit-learn.org/stable/modules/preprocessing.html\n",
      "Please also refer to the documentation for alternative solver options:\n",
      "    https://scikit-learn.org/stable/modules/linear_model.html#logistic-regression\n",
      "  extra_warning_msg=_LOGISTIC_SOLVER_CONVERGENCE_MSG)\n",
      "c:\\users\\hanna\\miniconda3\\lib\\site-packages\\sklearn\\linear_model\\_logistic.py:764: ConvergenceWarning: lbfgs failed to converge (status=1):\n",
      "STOP: TOTAL NO. of ITERATIONS REACHED LIMIT.\n",
      "\n",
      "Increase the number of iterations (max_iter) or scale the data as shown in:\n",
      "    https://scikit-learn.org/stable/modules/preprocessing.html\n",
      "Please also refer to the documentation for alternative solver options:\n",
      "    https://scikit-learn.org/stable/modules/linear_model.html#logistic-regression\n",
      "  extra_warning_msg=_LOGISTIC_SOLVER_CONVERGENCE_MSG)\n"
     ]
    },
    {
     "name": "stdout",
     "output_type": "stream",
     "text": [
      "Cross-validation scores: [0.76553298 0.77399459 0.7664893  0.78062417 0.76732822]\n",
      "Mean cross-validation score: 0.77\n"
     ]
    },
    {
     "data": {
      "text/plain": [
       "Pipeline(steps=[('minmaxscaler', MinMaxScaler()),\n",
       "                ('logisticregression',\n",
       "                 LogisticRegression(class_weight='balanced', random_state=42))])"
      ]
     },
     "execution_count": 128,
     "metadata": {},
     "output_type": "execute_result"
    },
    {
     "data": {
      "image/png": "[encoded data removed]",
      "text/plain": [
       "<Figure size 432x288 with 2 Axes>"
      ]
     },
     "metadata": {
      "needs_background": "light"
     },
     "output_type": "display_data"
    }
   ],
   "source": [
    "baseline_model.run_baseline_model(features_train, \n",
    "                                features_test, \n",
    "                                target_train, \n",
    "                                target_test, \n",
    "                                model = \"logreg\", \n",
    "                                random_state=42, \n",
    "                                class_weight=\"balanced\",\n",
    "                                 max_iter=100)"
   ]
  },
  {
   "cell_type": "code",
   "execution_count": 20,
   "metadata": {},
   "outputs": [],
   "source": [
    "df_features = df_subset[[\"E_IDLE_CO_RESULT\",\"E_IDLE_HC_RESULT\"]]"
   ]
  },
  {
   "cell_type": "code",
   "execution_count": 21,
   "metadata": {},
   "outputs": [],
   "source": [
    "# Continuous and categorical features - substitute MAKE by MODEL\n",
    "cat_features = ['E_IDLE_HC_RESULT','E_IDLE_CO_RESULT']\n",
    "\n",
    "features_train, features_test, target_train, target_test = data_prep.encode_split_data(cat_features,\n",
    "                                                                                    data = df_features,\n",
    "                                                                                    target_series = target,\n",
    "                                                                                    train_size = .7,\n",
    "                                                                                    random_state=42)"
   ]
  },
  {
   "cell_type": "code",
   "execution_count": 22,
   "metadata": {},
   "outputs": [
    {
     "name": "stdout",
     "output_type": "stream",
     "text": [
      "              precision    recall  f1-score   support\n",
      "\n",
      "           0       0.93      1.00      0.96     94503\n",
      "           1       1.00      0.20      0.33      8881\n",
      "\n",
      "    accuracy                           0.93    103384\n",
      "   macro avg       0.97      0.60      0.65    103384\n",
      "weighted avg       0.94      0.93      0.91    103384\n",
      "\n",
      "ROC AUC Score is 0.6039046185266193\n"
     ]
    },
    {
     "ename": "NameError",
     "evalue": "name 'cv_score' is not defined",
     "output_type": "error",
     "traceback": [
      "\u001b[1;31m---------------------------------------------------------------------------\u001b[0m",
      "\u001b[1;31mNameError\u001b[0m                                 Traceback (most recent call last)",
      "\u001b[1;32m<ipython-input-22-977bf86e5a6e>\u001b[0m in \u001b[0;36m<module>\u001b[1;34m\u001b[0m\n\u001b[0;32m      6\u001b[0m                                 \u001b[0mrandom_state\u001b[0m\u001b[1;33m=\u001b[0m\u001b[1;36m42\u001b[0m\u001b[1;33m,\u001b[0m\u001b[1;33m\u001b[0m\u001b[1;33m\u001b[0m\u001b[0m\n\u001b[0;32m      7\u001b[0m                                 \u001b[0mclass_weight\u001b[0m\u001b[1;33m=\u001b[0m\u001b[1;34m\"balanced\"\u001b[0m\u001b[1;33m,\u001b[0m\u001b[1;33m\u001b[0m\u001b[1;33m\u001b[0m\u001b[0m\n\u001b[1;32m----> 8\u001b[1;33m                                  max_iter=100)\n\u001b[0m",
      "\u001b[1;32m~\\PycharmProjects\\berlindslab\\ds-lab\\emissionscheck_alb\\baseline_model.py\u001b[0m in \u001b[0;36mrun_baseline_model\u001b[1;34m(features_train, features_test, target_train, target_test, model, random_state, class_weight, max_fpr, max_iter, n_estimators, max_leaf_nodes)\u001b[0m\n\u001b[0;32m     82\u001b[0m \u001b[1;33m\u001b[0m\u001b[0m\n\u001b[0;32m     83\u001b[0m     \u001b[1;31m# cross validation\u001b[0m\u001b[1;33m\u001b[0m\u001b[1;33m\u001b[0m\u001b[1;33m\u001b[0m\u001b[0m\n\u001b[1;32m---> 84\u001b[1;33m     \u001b[0mmean_cv_score\u001b[0m \u001b[1;33m=\u001b[0m \u001b[0mround\u001b[0m\u001b[1;33m(\u001b[0m\u001b[0mnp\u001b[0m\u001b[1;33m.\u001b[0m\u001b[0mmean\u001b[0m\u001b[1;33m(\u001b[0m\u001b[0mcv_score\u001b[0m\u001b[1;33m)\u001b[0m\u001b[1;33m,\u001b[0m \u001b[1;36m2\u001b[0m\u001b[1;33m)\u001b[0m\u001b[1;33m\u001b[0m\u001b[1;33m\u001b[0m\u001b[0m\n\u001b[0m\u001b[0;32m     85\u001b[0m \u001b[1;33m\u001b[0m\u001b[0m\n\u001b[0;32m     86\u001b[0m     \u001b[0mprint\u001b[0m\u001b[1;33m(\u001b[0m\u001b[1;34mf'Cross-validation scores: {cv_score}'\u001b[0m\u001b[1;33m)\u001b[0m\u001b[1;33m\u001b[0m\u001b[1;33m\u001b[0m\u001b[0m\n",
      "\u001b[1;31mNameError\u001b[0m: name 'cv_score' is not defined"
     ]
    },
    {
     "data": {
      "image/png": "[encoded data removed]",
      "text/plain": [
       "<Figure size 432x288 with 2 Axes>"
      ]
     },
     "metadata": {
      "needs_background": "light"
     },
     "output_type": "display_data"
    }
   ],
   "source": [
    "baseline_model.run_baseline_model(features_train, \n",
    "                                features_test, \n",
    "                                target_train, \n",
    "                                target_test, \n",
    "                                model = \"logreg\", \n",
    "                                random_state=42, \n",
    "                                class_weight=\"balanced\",\n",
    "                                 max_iter=100)"
   ]
  },
  {
   "cell_type": "markdown",
   "metadata": {},
   "source": [
    "## Iterative Feature Selection"
   ]
  },
  {
   "cell_type": "code",
   "execution_count": 19,
   "metadata": {},
   "outputs": [],
   "source": [
    "df_features = df_subset.drop(['OVERALL_RESULT'], axis=1)"
   ]
  },
  {
   "cell_type": "code",
   "execution_count": 20,
   "metadata": {},
   "outputs": [
    {
     "name": "stdout",
     "output_type": "stream",
     "text": [
      "<class 'pandas.core.frame.DataFrame'>\n",
      "Int64Index: 344613 entries, 0 to 375502\n",
      "Columns: 128 entries, RecordID to CAR_AGE\n",
      "dtypes: float64(43), int64(29), object(56)\n",
      "memory usage: 339.2+ MB\n"
     ]
    }
   ],
   "source": [
    "df_subset.info()"
   ]
  },
  {
   "cell_type": "code",
   "execution_count": 30,
   "metadata": {},
   "outputs": [
    {
     "data": {
      "text/html": [
       "<div>\n",
       "<style scoped>\n",
       "    .dataframe tbody tr th:only-of-type {\n",
       "        vertical-align: middle;\n",
       "    }\n",
       "\n",
       "    .dataframe tbody tr th {\n",
       "        vertical-align: top;\n",
       "    }\n",
       "\n",
       "    .dataframe thead th {\n",
       "        text-align: right;\n",
       "    }\n",
       "</style>\n",
       "<table border=\"1\" class=\"dataframe\">\n",
       "  <thead>\n",
       "    <tr style=\"text-align: right;\">\n",
       "      <th></th>\n",
       "      <th>STATION_NUM</th>\n",
       "      <th>ANALYZER_NUM</th>\n",
       "      <th>INSPECTOR_NUM</th>\n",
       "      <th>TEST_TYPE</th>\n",
       "      <th>VID_TEST_TYPE</th>\n",
       "      <th>TEST_SDATE</th>\n",
       "      <th>TEST_EDATE</th>\n",
       "      <th>VIN</th>\n",
       "      <th>VIN_SOURCE</th>\n",
       "      <th>VEH_LICENSE</th>\n",
       "      <th>...</th>\n",
       "      <th>E_IDLE_CO_RESULT</th>\n",
       "      <th>E_IDLE_HC_RESULT</th>\n",
       "      <th>MECHANIC_LAST_NAME</th>\n",
       "      <th>MECHANIC_FIRST_NAME</th>\n",
       "      <th>MECHANIC_MIDDLE_INIT</th>\n",
       "      <th>ENGINE_SIZE_ORIG</th>\n",
       "      <th>FAILED_IDLE_RPM</th>\n",
       "      <th>Station_License_Number</th>\n",
       "      <th>Analyzer_Number</th>\n",
       "      <th>Insert_DateTime\\r</th>\n",
       "    </tr>\n",
       "  </thead>\n",
       "  <tbody>\n",
       "    <tr>\n",
       "      <th>0</th>\n",
       "      <td>IS329</td>\n",
       "      <td>W036</td>\n",
       "      <td>26351553</td>\n",
       "      <td>I</td>\n",
       "      <td>I</td>\n",
       "      <td>2004-12-16 10:57:00</td>\n",
       "      <td>2004-12-16 11:03:00</td>\n",
       "      <td>1FTCR10A8RUE42421</td>\n",
       "      <td>S</td>\n",
       "      <td>NPE42421</td>\n",
       "      <td>...</td>\n",
       "      <td>P</td>\n",
       "      <td>P</td>\n",
       "      <td>SANCHEZ</td>\n",
       "      <td>TIM</td>\n",
       "      <td>J</td>\n",
       "      <td>NaN</td>\n",
       "      <td>NaN</td>\n",
       "      <td>IS329</td>\n",
       "      <td>W036</td>\n",
       "      <td>2006-01-12 21:19:17\\r</td>\n",
       "    </tr>\n",
       "    <tr>\n",
       "      <th>1</th>\n",
       "      <td>IS267</td>\n",
       "      <td>W014</td>\n",
       "      <td>17496701</td>\n",
       "      <td>I</td>\n",
       "      <td>I</td>\n",
       "      <td>2004-08-13 14:10:00</td>\n",
       "      <td>2004-08-13 14:12:00</td>\n",
       "      <td>1G1JC5249Y7453635</td>\n",
       "      <td>S</td>\n",
       "      <td>CKK700</td>\n",
       "      <td>...</td>\n",
       "      <td>N</td>\n",
       "      <td>N</td>\n",
       "      <td>Trujillo</td>\n",
       "      <td>Vince</td>\n",
       "      <td>NaN</td>\n",
       "      <td>NaN</td>\n",
       "      <td>NaN</td>\n",
       "      <td>IS394</td>\n",
       "      <td>W014</td>\n",
       "      <td>2006-01-13 17:43:30\\r</td>\n",
       "    </tr>\n",
       "    <tr>\n",
       "      <th>3</th>\n",
       "      <td>IS359</td>\n",
       "      <td>W042</td>\n",
       "      <td>11117229</td>\n",
       "      <td>I</td>\n",
       "      <td>I</td>\n",
       "      <td>2004-12-02 11:33:00</td>\n",
       "      <td>2004-12-02 11:39:00</td>\n",
       "      <td>1JCNJ15U6FT075960</td>\n",
       "      <td>M</td>\n",
       "      <td>469FNH</td>\n",
       "      <td>...</td>\n",
       "      <td>P</td>\n",
       "      <td>P</td>\n",
       "      <td>NGUYEN</td>\n",
       "      <td>DUC</td>\n",
       "      <td>NaN</td>\n",
       "      <td>NaN</td>\n",
       "      <td>NaN</td>\n",
       "      <td>IS404</td>\n",
       "      <td>W042</td>\n",
       "      <td>2006-01-26 17:03:05\\r</td>\n",
       "    </tr>\n",
       "    <tr>\n",
       "      <th>4</th>\n",
       "      <td>IS171</td>\n",
       "      <td>W052</td>\n",
       "      <td>22095231</td>\n",
       "      <td>I</td>\n",
       "      <td>I</td>\n",
       "      <td>2004-12-29 17:00:00</td>\n",
       "      <td>2004-12-29 17:03:00</td>\n",
       "      <td>1G8ZJ5273VZ102496</td>\n",
       "      <td>S</td>\n",
       "      <td>NP102496</td>\n",
       "      <td>...</td>\n",
       "      <td>N</td>\n",
       "      <td>N</td>\n",
       "      <td>Nguyen</td>\n",
       "      <td>Kenny</td>\n",
       "      <td>T</td>\n",
       "      <td>NaN</td>\n",
       "      <td>NaN</td>\n",
       "      <td>IS171</td>\n",
       "      <td>W052</td>\n",
       "      <td>2006-01-31 16:06:03\\r</td>\n",
       "    </tr>\n",
       "    <tr>\n",
       "      <th>5</th>\n",
       "      <td>IS139</td>\n",
       "      <td>W102</td>\n",
       "      <td>23867222</td>\n",
       "      <td>I</td>\n",
       "      <td>I</td>\n",
       "      <td>2004-07-23 11:10:00</td>\n",
       "      <td>2004-07-23 11:12:00</td>\n",
       "      <td>1FAFP40491F121873</td>\n",
       "      <td>S</td>\n",
       "      <td>FAX071</td>\n",
       "      <td>...</td>\n",
       "      <td>N</td>\n",
       "      <td>N</td>\n",
       "      <td>FRIEND</td>\n",
       "      <td>RICHARD</td>\n",
       "      <td>NaN</td>\n",
       "      <td>NaN</td>\n",
       "      <td>NaN</td>\n",
       "      <td>IS139</td>\n",
       "      <td>W102</td>\n",
       "      <td>2006-01-17 16:38:37\\r</td>\n",
       "    </tr>\n",
       "    <tr>\n",
       "      <th>...</th>\n",
       "      <td>...</td>\n",
       "      <td>...</td>\n",
       "      <td>...</td>\n",
       "      <td>...</td>\n",
       "      <td>...</td>\n",
       "      <td>...</td>\n",
       "      <td>...</td>\n",
       "      <td>...</td>\n",
       "      <td>...</td>\n",
       "      <td>...</td>\n",
       "      <td>...</td>\n",
       "      <td>...</td>\n",
       "      <td>...</td>\n",
       "      <td>...</td>\n",
       "      <td>...</td>\n",
       "      <td>...</td>\n",
       "      <td>...</td>\n",
       "      <td>...</td>\n",
       "      <td>...</td>\n",
       "      <td>...</td>\n",
       "      <td>...</td>\n",
       "    </tr>\n",
       "    <tr>\n",
       "      <th>375498</th>\n",
       "      <td>IR170</td>\n",
       "      <td>W092</td>\n",
       "      <td>AC086427</td>\n",
       "      <td>I</td>\n",
       "      <td>NaN</td>\n",
       "      <td>2019-12-31 17:08:07</td>\n",
       "      <td>2019-12-31 17:11:55</td>\n",
       "      <td>KM8JU3AC5DU556706</td>\n",
       "      <td>S</td>\n",
       "      <td>PLR585</td>\n",
       "      <td>...</td>\n",
       "      <td>N</td>\n",
       "      <td>N</td>\n",
       "      <td>CROSLEY</td>\n",
       "      <td>DORIAN</td>\n",
       "      <td>G</td>\n",
       "      <td>2.4L</td>\n",
       "      <td>NaN</td>\n",
       "      <td>IR170</td>\n",
       "      <td>W092</td>\n",
       "      <td>2019-12-31 16:12:37\\r</td>\n",
       "    </tr>\n",
       "    <tr>\n",
       "      <th>375499</th>\n",
       "      <td>IS292</td>\n",
       "      <td>W060</td>\n",
       "      <td>AC084470</td>\n",
       "      <td>I</td>\n",
       "      <td>NaN</td>\n",
       "      <td>2019-12-31 17:30:28</td>\n",
       "      <td>2019-12-31 17:32:24</td>\n",
       "      <td>1G6KD57Y47U163536</td>\n",
       "      <td>S</td>\n",
       "      <td>437TJX</td>\n",
       "      <td>...</td>\n",
       "      <td>N</td>\n",
       "      <td>N</td>\n",
       "      <td>Ruiz</td>\n",
       "      <td>Miguel</td>\n",
       "      <td>J</td>\n",
       "      <td>NaN</td>\n",
       "      <td>NaN</td>\n",
       "      <td>IS292</td>\n",
       "      <td>W060</td>\n",
       "      <td>2019-12-31 16:32:58\\r</td>\n",
       "    </tr>\n",
       "    <tr>\n",
       "      <th>375500</th>\n",
       "      <td>IS365</td>\n",
       "      <td>W020</td>\n",
       "      <td>AC084133</td>\n",
       "      <td>I</td>\n",
       "      <td>NaN</td>\n",
       "      <td>2019-12-31 08:31:49</td>\n",
       "      <td>2019-12-31 08:34:00</td>\n",
       "      <td>1GNUKBE04AR268621</td>\n",
       "      <td>S</td>\n",
       "      <td>NPJ744</td>\n",
       "      <td>...</td>\n",
       "      <td>N</td>\n",
       "      <td>N</td>\n",
       "      <td>Iniguez</td>\n",
       "      <td>Obed</td>\n",
       "      <td>X</td>\n",
       "      <td>NaN</td>\n",
       "      <td>NaN</td>\n",
       "      <td>IS365</td>\n",
       "      <td>W020</td>\n",
       "      <td>2020-01-01 08:52:39\\r</td>\n",
       "    </tr>\n",
       "    <tr>\n",
       "      <th>375501</th>\n",
       "      <td>IS365</td>\n",
       "      <td>W020</td>\n",
       "      <td>AC084133</td>\n",
       "      <td>I</td>\n",
       "      <td>NaN</td>\n",
       "      <td>2019-12-31 12:15:27</td>\n",
       "      <td>2019-12-31 12:19:43</td>\n",
       "      <td>5NMSKDAG7AH374807</td>\n",
       "      <td>S</td>\n",
       "      <td>947TGS</td>\n",
       "      <td>...</td>\n",
       "      <td>N</td>\n",
       "      <td>N</td>\n",
       "      <td>Iniguez</td>\n",
       "      <td>Obed</td>\n",
       "      <td>X</td>\n",
       "      <td>3.5L</td>\n",
       "      <td>NaN</td>\n",
       "      <td>IS365</td>\n",
       "      <td>W020</td>\n",
       "      <td>2020-01-01 08:52:39\\r</td>\n",
       "    </tr>\n",
       "    <tr>\n",
       "      <th>375502</th>\n",
       "      <td>IR483</td>\n",
       "      <td>W164</td>\n",
       "      <td>AC084478</td>\n",
       "      <td>I</td>\n",
       "      <td>NaN</td>\n",
       "      <td>2019-12-21 15:43:11</td>\n",
       "      <td>2019-12-21 15:47:38</td>\n",
       "      <td>1B3ES76F32D638728</td>\n",
       "      <td>S</td>\n",
       "      <td>NP638728</td>\n",
       "      <td>...</td>\n",
       "      <td>N</td>\n",
       "      <td>N</td>\n",
       "      <td>Hernandez</td>\n",
       "      <td>Hector</td>\n",
       "      <td>X</td>\n",
       "      <td>NaN</td>\n",
       "      <td>NaN</td>\n",
       "      <td>IR483</td>\n",
       "      <td>W164</td>\n",
       "      <td>2020-01-02 11:37:01\\r</td>\n",
       "    </tr>\n",
       "  </tbody>\n",
       "</table>\n",
       "<p>344613 rows × 56 columns</p>\n",
       "</div>"
      ],
      "text/plain": [
       "       STATION_NUM ANALYZER_NUM INSPECTOR_NUM TEST_TYPE VID_TEST_TYPE  \\\n",
       "0            IS329         W036      26351553         I             I   \n",
       "1            IS267         W014      17496701         I             I   \n",
       "3            IS359         W042      11117229         I             I   \n",
       "4            IS171         W052      22095231         I             I   \n",
       "5            IS139         W102      23867222         I             I   \n",
       "...            ...          ...           ...       ...           ...   \n",
       "375498       IR170         W092      AC086427         I           NaN   \n",
       "375499       IS292         W060      AC084470         I           NaN   \n",
       "375500       IS365         W020      AC084133         I           NaN   \n",
       "375501       IS365         W020      AC084133         I           NaN   \n",
       "375502       IR483         W164      AC084478         I           NaN   \n",
       "\n",
       "                 TEST_SDATE           TEST_EDATE                VIN  \\\n",
       "0       2004-12-16 10:57:00  2004-12-16 11:03:00  1FTCR10A8RUE42421   \n",
       "1       2004-08-13 14:10:00  2004-08-13 14:12:00  1G1JC5249Y7453635   \n",
       "3       2004-12-02 11:33:00  2004-12-02 11:39:00  1JCNJ15U6FT075960   \n",
       "4       2004-12-29 17:00:00  2004-12-29 17:03:00  1G8ZJ5273VZ102496   \n",
       "5       2004-07-23 11:10:00  2004-07-23 11:12:00  1FAFP40491F121873   \n",
       "...                     ...                  ...                ...   \n",
       "375498  2019-12-31 17:08:07  2019-12-31 17:11:55  KM8JU3AC5DU556706   \n",
       "375499  2019-12-31 17:30:28  2019-12-31 17:32:24  1G6KD57Y47U163536   \n",
       "375500  2019-12-31 08:31:49  2019-12-31 08:34:00  1GNUKBE04AR268621   \n",
       "375501  2019-12-31 12:15:27  2019-12-31 12:19:43  5NMSKDAG7AH374807   \n",
       "375502  2019-12-21 15:43:11  2019-12-21 15:47:38  1B3ES76F32D638728   \n",
       "\n",
       "       VIN_SOURCE VEH_LICENSE  ... E_IDLE_CO_RESULT E_IDLE_HC_RESULT  \\\n",
       "0               S    NPE42421  ...                P                P   \n",
       "1               S      CKK700  ...                N                N   \n",
       "3               M      469FNH  ...                P                P   \n",
       "4               S    NP102496  ...                N                N   \n",
       "5               S      FAX071  ...                N                N   \n",
       "...           ...         ...  ...              ...              ...   \n",
       "375498          S      PLR585  ...                N                N   \n",
       "375499          S      437TJX  ...                N                N   \n",
       "375500          S      NPJ744  ...                N                N   \n",
       "375501          S      947TGS  ...                N                N   \n",
       "375502          S    NP638728  ...                N                N   \n",
       "\n",
       "       MECHANIC_LAST_NAME MECHANIC_FIRST_NAME MECHANIC_MIDDLE_INIT  \\\n",
       "0                 SANCHEZ                 TIM                    J   \n",
       "1                Trujillo               Vince                  NaN   \n",
       "3                  NGUYEN                 DUC                  NaN   \n",
       "4                  Nguyen               Kenny                    T   \n",
       "5                  FRIEND             RICHARD                  NaN   \n",
       "...                   ...                 ...                  ...   \n",
       "375498            CROSLEY              DORIAN                    G   \n",
       "375499               Ruiz              Miguel                    J   \n",
       "375500            Iniguez                Obed                    X   \n",
       "375501            Iniguez                Obed                    X   \n",
       "375502          Hernandez              Hector                    X   \n",
       "\n",
       "       ENGINE_SIZE_ORIG FAILED_IDLE_RPM Station_License_Number  \\\n",
       "0                   NaN             NaN                  IS329   \n",
       "1                   NaN             NaN                  IS394   \n",
       "3                   NaN             NaN                  IS404   \n",
       "4                   NaN             NaN                  IS171   \n",
       "5                   NaN             NaN                  IS139   \n",
       "...                 ...             ...                    ...   \n",
       "375498             2.4L             NaN                  IR170   \n",
       "375499              NaN             NaN                  IS292   \n",
       "375500              NaN             NaN                  IS365   \n",
       "375501             3.5L             NaN                  IS365   \n",
       "375502              NaN             NaN                  IR483   \n",
       "\n",
       "       Analyzer_Number      Insert_DateTime\\r  \n",
       "0                 W036  2006-01-12 21:19:17\\r  \n",
       "1                 W014  2006-01-13 17:43:30\\r  \n",
       "3                 W042  2006-01-26 17:03:05\\r  \n",
       "4                 W052  2006-01-31 16:06:03\\r  \n",
       "5                 W102  2006-01-17 16:38:37\\r  \n",
       "...                ...                    ...  \n",
       "375498            W092  2019-12-31 16:12:37\\r  \n",
       "375499            W060  2019-12-31 16:32:58\\r  \n",
       "375500            W020  2020-01-01 08:52:39\\r  \n",
       "375501            W020  2020-01-01 08:52:39\\r  \n",
       "375502            W164  2020-01-02 11:37:01\\r  \n",
       "\n",
       "[344613 rows x 56 columns]"
      ]
     },
     "execution_count": 30,
     "metadata": {},
     "output_type": "execute_result"
    }
   ],
   "source": [
    "df_subset.select_dtypes(include=['object'])"
   ]
  },
  {
   "cell_type": "code",
   "execution_count": 3,
   "metadata": {},
   "outputs": [
    {
     "ename": "NameError",
     "evalue": "name 'data_prep' is not defined",
     "output_type": "error",
     "traceback": [
      "\u001b[1;31m---------------------------------------------------------------------------\u001b[0m",
      "\u001b[1;31mNameError\u001b[0m                                 Traceback (most recent call last)",
      "\u001b[1;32m<ipython-input-3-072edc2790f2>\u001b[0m in \u001b[0;36m<module>\u001b[1;34m\u001b[0m\n\u001b[0;32m      1\u001b[0m \u001b[0mcat_features\u001b[0m \u001b[1;33m=\u001b[0m \u001b[1;33m[\u001b[0m\u001b[1;34m'STATION_NUM'\u001b[0m\u001b[1;33m,\u001b[0m\u001b[1;34m'ANALYZER_NUM'\u001b[0m\u001b[1;33m,\u001b[0m\u001b[1;34m'INSPECTOR_NUM'\u001b[0m\u001b[1;33m,\u001b[0m\u001b[1;34m'TEST_TYPE'\u001b[0m\u001b[1;33m,\u001b[0m\u001b[1;34m'VID_TEST_TYPE'\u001b[0m\u001b[1;33m,\u001b[0m\u001b[1;34m'TEST_SDATE'\u001b[0m\u001b[1;33m,\u001b[0m\u001b[1;34m'TEST_EDATE'\u001b[0m\u001b[1;33m,\u001b[0m\u001b[1;34m'VIN'\u001b[0m\u001b[1;33m,\u001b[0m\u001b[1;34m'VIN_SOURCE'\u001b[0m\u001b[1;33m,\u001b[0m\u001b[1;34m'VEH_LICENSE'\u001b[0m\u001b[1;33m,\u001b[0m\u001b[1;34m'E_IDLE_CO_RESULT'\u001b[0m\u001b[1;33m,\u001b[0m\u001b[1;34m'E_IDLE_HC_RESULT'\u001b[0m\u001b[1;33m,\u001b[0m\u001b[1;34m'MECHANIC_LAST_NAME'\u001b[0m\u001b[1;33m,\u001b[0m\u001b[1;34m'MECHANIC_FIRST_NAME'\u001b[0m\u001b[1;33m,\u001b[0m\u001b[1;34m'MECHANIC_MIDDLE_INIT'\u001b[0m\u001b[1;33m,\u001b[0m\u001b[1;34m'ENGINE_SIZE_ORIG'\u001b[0m\u001b[1;33m,\u001b[0m\u001b[1;34m'FAILED_IDLE_RPM'\u001b[0m\u001b[1;33m,\u001b[0m\u001b[1;34m'Station_License_Number'\u001b[0m\u001b[1;33m,\u001b[0m\u001b[1;34m'Analyzer_Number'\u001b[0m\u001b[1;33m,\u001b[0m\u001b[1;34m'Insert_DateTime\\r'\u001b[0m\u001b[1;33m]\u001b[0m\u001b[1;33m\u001b[0m\u001b[1;33m\u001b[0m\u001b[0m\n\u001b[0;32m      2\u001b[0m \u001b[1;33m\u001b[0m\u001b[0m\n\u001b[1;32m----> 3\u001b[1;33m features_train, features_test, target_train, target_test = data_prep.encode_split_data(cat_features,\n\u001b[0m\u001b[0;32m      4\u001b[0m                                                                                     \u001b[0mdata\u001b[0m \u001b[1;33m=\u001b[0m \u001b[0mdf_features\u001b[0m\u001b[1;33m,\u001b[0m\u001b[1;33m\u001b[0m\u001b[1;33m\u001b[0m\u001b[0m\n\u001b[0;32m      5\u001b[0m                                                                                     \u001b[0mtarget_series\u001b[0m \u001b[1;33m=\u001b[0m \u001b[0mtarget\u001b[0m\u001b[1;33m,\u001b[0m\u001b[1;33m\u001b[0m\u001b[1;33m\u001b[0m\u001b[0m\n",
      "\u001b[1;31mNameError\u001b[0m: name 'data_prep' is not defined"
     ]
    }
   ],
   "source": [
    "cat_features = ['STATION_NUM','ANALYZER_NUM','INSPECTOR_NUM','TEST_TYPE','VID_TEST_TYPE','TEST_SDATE','TEST_EDATE','VIN','VIN_SOURCE','VEH_LICENSE','E_IDLE_CO_RESULT','E_IDLE_HC_RESULT','MECHANIC_LAST_NAME','MECHANIC_FIRST_NAME','MECHANIC_MIDDLE_INIT','ENGINE_SIZE_ORIG','FAILED_IDLE_RPM','Station_License_Number','Analyzer_Number','Insert_DateTime\\r']\n",
    "\n",
    "features_train, features_test, target_train, target_test = data_prep.encode_split_data(cat_features,\n",
    "                                                                                    data = df_features,\n",
    "                                                                                    target_series = target,\n",
    "                                                                                    train_size = .7,\n",
    "                                                                                    random_state=42)"
   ]
  },
  {
   "cell_type": "code",
   "execution_count": null,
   "metadata": {},
   "outputs": [],
   "source": []
  }
 ],
 "metadata": {
  "kernelspec": {
   "display_name": "Python 3",
   "language": "python",
   "name": "python3"
  },
  "language_info": {
   "codemirror_mode": {
    "name": "ipython",
    "version": 3
   },
   "file_extension": ".py",
   "mimetype": "text/x-python",
   "name": "python",
   "nbconvert_exporter": "python",
   "pygments_lexer": "ipython3",
   "version": "3.7.4"
  }
 },
 "nbformat": 4,
 "nbformat_minor": 4
}
