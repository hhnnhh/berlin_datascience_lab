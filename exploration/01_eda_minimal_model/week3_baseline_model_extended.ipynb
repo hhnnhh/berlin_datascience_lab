{
 "cells": [
  {
   "cell_type": "markdown",
   "metadata": {},
   "source": [
    "# extended Baseline Model\n",
    "\n",
    "Refactored code from Week 3 based on mentor feedback"
   ]
  },
  {
   "cell_type": "code",
   "execution_count": 40,
   "metadata": {},
   "outputs": [
    {
     "name": "stdout",
     "output_type": "stream",
     "text": [
      "C:\\Users\\hanna\\PycharmProjects\\berlindslab\\ds-lab\\data\n"
     ]
    }
   ],
   "source": [
    "import os\n",
    "path = os.getcwd()\n",
    "print(path)"
   ]
  },
  {
   "cell_type": "code",
   "execution_count": 41,
   "metadata": {},
   "outputs": [
    {
     "name": "stdout",
     "output_type": "stream",
     "text": [
      "C:\\Users\\hanna\\PycharmProjects\\berlindslab\\ds-lab\n"
     ]
    }
   ],
   "source": [
    "%cd C:\\Users\\hanna\\PycharmProjects\\berlindslab\\ds-lab\\"
   ]
  },
  {
   "cell_type": "code",
   "execution_count": 42,
   "metadata": {},
   "outputs": [],
   "source": [
    "# imports and magic line\n",
    "import pandas as pd\n",
    "import seaborn as sns\n",
    "import matplotlib.pyplot as plt\n",
    "import numpy as np\n",
    "\n",
    "%matplotlib inline\n",
    "\n",
    "from emissionscheck_alb import data_prep, baseline_model\n"
   ]
  },
  {
   "cell_type": "code",
   "execution_count": 43,
   "metadata": {},
   "outputs": [
    {
     "name": "stdout",
     "output_type": "stream",
     "text": [
      "C:\\Users\\hanna\\PycharmProjects\\berlindslab\\ds-lab\\data\n"
     ]
    }
   ],
   "source": [
    "%cd C:\\Users\\hanna\\PycharmProjects\\berlindslab\\ds-lab\\data"
   ]
  },
  {
   "cell_type": "code",
   "execution_count": 44,
   "metadata": {
    "scrolled": false
   },
   "outputs": [
    {
     "name": "stderr",
     "output_type": "stream",
     "text": [
      "c:\\users\\hanna\\miniconda3\\lib\\site-packages\\IPython\\core\\interactiveshell.py:3063: DtypeWarning: Columns (5,7,18,26,108,109,113) have mixed types.Specify dtype option on import or set low_memory=False.\n",
      "  interactivity=interactivity, compiler=compiler, result=result)\n"
     ]
    }
   ],
   "source": [
    "df = pd.read_csv(\"../data/sample.csv\", lineterminator='\\n')"
   ]
  },
  {
   "cell_type": "code",
   "execution_count": 45,
   "metadata": {},
   "outputs": [],
   "source": [
    "# get columns for data exploration\n",
    "df_subset = df[[\"MODEL\",\"RecordID\", \"TEST_SDATE\", \"TEST_EDATE\", \"ODOMETER\", \"VEHICLE_TYPE\", \"MODEL_YEAR\", \"FUEL_TYPE\", \"GVW_TYPE\", \"OVERALL_RESULT\"]]"
   ]
  },
  {
   "cell_type": "code",
   "execution_count": 46,
   "metadata": {
    "scrolled": true
   },
   "outputs": [
    {
     "data": {
      "text/html": [
       "<div>\n",
       "<style scoped>\n",
       "    .dataframe tbody tr th:only-of-type {\n",
       "        vertical-align: middle;\n",
       "    }\n",
       "\n",
       "    .dataframe tbody tr th {\n",
       "        vertical-align: top;\n",
       "    }\n",
       "\n",
       "    .dataframe thead th {\n",
       "        text-align: right;\n",
       "    }\n",
       "</style>\n",
       "<table border=\"1\" class=\"dataframe\">\n",
       "  <thead>\n",
       "    <tr style=\"text-align: right;\">\n",
       "      <th></th>\n",
       "      <th>MODEL</th>\n",
       "      <th>RecordID</th>\n",
       "      <th>TEST_SDATE</th>\n",
       "      <th>TEST_EDATE</th>\n",
       "      <th>ODOMETER</th>\n",
       "      <th>VEHICLE_TYPE</th>\n",
       "      <th>MODEL_YEAR</th>\n",
       "      <th>FUEL_TYPE</th>\n",
       "      <th>GVW_TYPE</th>\n",
       "      <th>OVERALL_RESULT</th>\n",
       "      <th>CAR_AGE</th>\n",
       "    </tr>\n",
       "  </thead>\n",
       "  <tbody>\n",
       "    <tr>\n",
       "      <th>0</th>\n",
       "      <td>RANGER REG. CAB - SHO</td>\n",
       "      <td>111260</td>\n",
       "      <td>2004-12-16 10:57:00</td>\n",
       "      <td>2004-12-16 11:03:00</td>\n",
       "      <td>53274</td>\n",
       "      <td>3</td>\n",
       "      <td>1994</td>\n",
       "      <td>G</td>\n",
       "      <td>1.0</td>\n",
       "      <td>P</td>\n",
       "      <td>11</td>\n",
       "    </tr>\n",
       "    <tr>\n",
       "      <th>1</th>\n",
       "      <td>CAVALIER</td>\n",
       "      <td>138031</td>\n",
       "      <td>2004-08-13 14:10:00</td>\n",
       "      <td>2004-08-13 14:12:00</td>\n",
       "      <td>109225</td>\n",
       "      <td>1</td>\n",
       "      <td>2000</td>\n",
       "      <td>G</td>\n",
       "      <td>1.0</td>\n",
       "      <td>P</td>\n",
       "      <td>5</td>\n",
       "    </tr>\n",
       "    <tr>\n",
       "      <th>2</th>\n",
       "      <td>FESTIVA</td>\n",
       "      <td>298121</td>\n",
       "      <td>2004-08-31 13:03:00</td>\n",
       "      <td>2004-08-31 13:03:00</td>\n",
       "      <td>110347</td>\n",
       "      <td>1</td>\n",
       "      <td>1989</td>\n",
       "      <td>G</td>\n",
       "      <td>1.0</td>\n",
       "      <td>A</td>\n",
       "      <td>16</td>\n",
       "    </tr>\n",
       "    <tr>\n",
       "      <th>3</th>\n",
       "      <td>GRAND WAGONEER</td>\n",
       "      <td>369185</td>\n",
       "      <td>2004-12-02 11:33:00</td>\n",
       "      <td>2004-12-02 11:39:00</td>\n",
       "      <td>152121</td>\n",
       "      <td>4</td>\n",
       "      <td>1985</td>\n",
       "      <td>G</td>\n",
       "      <td>2.0</td>\n",
       "      <td>P</td>\n",
       "      <td>20</td>\n",
       "    </tr>\n",
       "    <tr>\n",
       "      <th>4</th>\n",
       "      <td>SC</td>\n",
       "      <td>384955</td>\n",
       "      <td>2004-12-29 17:00:00</td>\n",
       "      <td>2004-12-29 17:03:00</td>\n",
       "      <td>135640</td>\n",
       "      <td>1</td>\n",
       "      <td>1997</td>\n",
       "      <td>G</td>\n",
       "      <td>1.0</td>\n",
       "      <td>P</td>\n",
       "      <td>8</td>\n",
       "    </tr>\n",
       "  </tbody>\n",
       "</table>\n",
       "</div>"
      ],
      "text/plain": [
       "                   MODEL  RecordID           TEST_SDATE           TEST_EDATE  \\\n",
       "0  RANGER REG. CAB - SHO    111260  2004-12-16 10:57:00  2004-12-16 11:03:00   \n",
       "1               CAVALIER    138031  2004-08-13 14:10:00  2004-08-13 14:12:00   \n",
       "2                FESTIVA    298121  2004-08-31 13:03:00  2004-08-31 13:03:00   \n",
       "3         GRAND WAGONEER    369185  2004-12-02 11:33:00  2004-12-02 11:39:00   \n",
       "4                     SC    384955  2004-12-29 17:00:00  2004-12-29 17:03:00   \n",
       "\n",
       "   ODOMETER  VEHICLE_TYPE  MODEL_YEAR FUEL_TYPE  GVW_TYPE OVERALL_RESULT  \\\n",
       "0     53274             3        1994         G       1.0              P   \n",
       "1    109225             1        2000         G       1.0              P   \n",
       "2    110347             1        1989         G       1.0              A   \n",
       "3    152121             4        1985         G       2.0              P   \n",
       "4    135640             1        1997         G       1.0              P   \n",
       "\n",
       "   CAR_AGE  \n",
       "0       11  \n",
       "1        5  \n",
       "2       16  \n",
       "3       20  \n",
       "4        8  "
      ]
     },
     "execution_count": 46,
     "metadata": {},
     "output_type": "execute_result"
    }
   ],
   "source": [
    "# get car age\n",
    "df_subset = data_prep.get_car_age(df_subset)\n",
    "df_subset.head()"
   ]
  },
  {
   "cell_type": "code",
   "execution_count": 47,
   "metadata": {},
   "outputs": [],
   "source": [
    "# Keep rows with only P or F in OVERALL RESULT\n",
    "df_subset = data_prep.keep_pass_fail(df_subset)"
   ]
  },
  {
   "cell_type": "code",
   "execution_count": 48,
   "metadata": {
    "scrolled": false
   },
   "outputs": [
    {
     "data": {
      "text/plain": [
       "(346783, 11)"
      ]
     },
     "execution_count": 48,
     "metadata": {},
     "output_type": "execute_result"
    }
   ],
   "source": [
    "df_subset.shape"
   ]
  },
  {
   "cell_type": "markdown",
   "metadata": {},
   "source": [
    "## Remove strange odometer values"
   ]
  },
  {
   "cell_type": "code",
   "execution_count": 49,
   "metadata": {},
   "outputs": [
    {
     "data": {
      "text/plain": [
       "<matplotlib.axes._subplots.AxesSubplot at 0x20666591bc8>"
      ]
     },
     "execution_count": 49,
     "metadata": {},
     "output_type": "execute_result"
    },
    {
     "data": {
      "image/png": "[encoded data removed]",
      "text/plain": [
       "<Figure size 1008x432 with 1 Axes>"
      ]
     },
     "metadata": {
      "needs_background": "light"
     },
     "output_type": "display_data"
    }
   ],
   "source": [
    "fig, ax = plt.subplots(figsize=(14,6))\n",
    "df_subset.groupby('ODOMETER').size().sort_values(ascending=False).head(60).plot.bar()"
   ]
  },
  {
   "cell_type": "code",
   "execution_count": 50,
   "metadata": {},
   "outputs": [],
   "source": [
    "# remove odometer values over 400000\n",
    "df_subset = df_subset[df_subset['ODOMETER']<=400000]"
   ]
  },
  {
   "cell_type": "code",
   "execution_count": 51,
   "metadata": {},
   "outputs": [],
   "source": [
    "# exclude 0 odometer values\n",
    "df_subset = df_subset[df_subset['ODOMETER']>0]"
   ]
  },
  {
   "cell_type": "code",
   "execution_count": 52,
   "metadata": {},
   "outputs": [
    {
     "data": {
      "text/plain": [
       "(344947, 11)"
      ]
     },
     "execution_count": 52,
     "metadata": {},
     "output_type": "execute_result"
    }
   ],
   "source": [
    "df_subset.shape"
   ]
  },
  {
   "cell_type": "code",
   "execution_count": 53,
   "metadata": {},
   "outputs": [],
   "source": [
    "# exclude 88.888 and 100.000 odometer values\n",
    "df_subset = df_subset[(df_subset['ODOMETER']!=88888) & (df_subset['ODOMETER']!=100000)]"
   ]
  },
  {
   "cell_type": "code",
   "execution_count": 54,
   "metadata": {
    "scrolled": true
   },
   "outputs": [
    {
     "data": {
      "text/plain": [
       "(344613, 11)"
      ]
     },
     "execution_count": 54,
     "metadata": {},
     "output_type": "execute_result"
    }
   ],
   "source": [
    "df_subset.shape"
   ]
  },
  {
   "cell_type": "code",
   "execution_count": 55,
   "metadata": {},
   "outputs": [
    {
     "data": {
      "text/plain": [
       "<matplotlib.axes._subplots.AxesSubplot at 0x20653993bc8>"
      ]
     },
     "execution_count": 55,
     "metadata": {},
     "output_type": "execute_result"
    },
    {
     "data": {
      "image/png": "[encoded data removed]",
      "text/plain": [
       "<Figure size 1008x432 with 1 Axes>"
      ]
     },
     "metadata": {
      "needs_background": "light"
     },
     "output_type": "display_data"
    }
   ],
   "source": [
    "fig, ax = plt.subplots(figsize=(14,6))\n",
    "df_subset.groupby('ODOMETER').size().sort_values(ascending=False).head(60).plot.bar()"
   ]
  },
  {
   "cell_type": "markdown",
   "metadata": {},
   "source": [
    "## Encoding target"
   ]
  },
  {
   "cell_type": "code",
   "execution_count": 56,
   "metadata": {},
   "outputs": [],
   "source": [
    "target = data_prep.encode_target(df_subset[\"OVERALL_RESULT\"])"
   ]
  },
  {
   "cell_type": "markdown",
   "metadata": {},
   "source": [
    "## Create df of features only"
   ]
  },
  {
   "cell_type": "code",
   "execution_count": 57,
   "metadata": {},
   "outputs": [],
   "source": [
    "df_features = df_subset[[\"VEHICLE_TYPE\", \"FUEL_TYPE\", \"GVW_TYPE\", \"ODOMETER\", \"CAR_AGE\"]]"
   ]
  },
  {
   "cell_type": "markdown",
   "metadata": {},
   "source": [
    "## Logistic Regression"
   ]
  },
  {
   "cell_type": "markdown",
   "metadata": {},
   "source": [
    "* continuous: odometer, car age\n",
    "* categorical: vehicle type, fuel_type, gvw_type"
   ]
  },
  {
   "cell_type": "code",
   "execution_count": 58,
   "metadata": {
    "scrolled": false
   },
   "outputs": [],
   "source": [
    "# Continuous and categorical features\n",
    "cat_features = [\"VEHICLE_TYPE\", \"FUEL_TYPE\", \"GVW_TYPE\"]\n",
    "\n",
    "features_train, features_test, target_train, target_test = data_prep.encode_split_data(cat_features,\n",
    "                                                                                    data = df_features,\n",
    "                                                                                    target_series = target,\n",
    "                                                                                    train_size = .7,\n",
    "                                                                                    random_state=42)"
   ]
  },
  {
   "cell_type": "code",
   "execution_count": 59,
   "metadata": {},
   "outputs": [
    {
     "ename": "NameError",
     "evalue": "name 'max_iter' is not defined",
     "output_type": "error",
     "traceback": [
      "\u001b[1;31m---------------------------------------------------------------------------\u001b[0m",
      "\u001b[1;31mNameError\u001b[0m                                 Traceback (most recent call last)",
      "\u001b[1;32m<ipython-input-59-a55e2681a022>\u001b[0m in \u001b[0;36m<module>\u001b[1;34m\u001b[0m\n\u001b[0;32m      5\u001b[0m                                 \u001b[0mmodel\u001b[0m \u001b[1;33m=\u001b[0m \u001b[1;34m\"logreg\"\u001b[0m\u001b[1;33m,\u001b[0m\u001b[1;33m\u001b[0m\u001b[1;33m\u001b[0m\u001b[0m\n\u001b[0;32m      6\u001b[0m                                \u001b[0mrandom_state\u001b[0m\u001b[1;33m=\u001b[0m\u001b[1;36m42\u001b[0m\u001b[1;33m,\u001b[0m\u001b[1;33m\u001b[0m\u001b[1;33m\u001b[0m\u001b[0m\n\u001b[1;32m----> 7\u001b[1;33m                                 class_weight=\"balanced\")\n\u001b[0m",
      "\u001b[1;32m~\\PycharmProjects\\berlindslab\\ds-lab\\emissionscheck_alb\\baseline_model.py\u001b[0m in \u001b[0;36mrun_baseline_model\u001b[1;34m(features_train, features_test, target_train, target_test, model, random_state, class_weight, max_fpr)\u001b[0m\n\u001b[0;32m     42\u001b[0m \u001b[1;33m\u001b[0m\u001b[0m\n\u001b[0;32m     43\u001b[0m     \u001b[1;32mif\u001b[0m \u001b[0mmodel\u001b[0m \u001b[1;33m==\u001b[0m \u001b[1;34m\"logreg\"\u001b[0m\u001b[1;33m:\u001b[0m\u001b[1;33m\u001b[0m\u001b[1;33m\u001b[0m\u001b[0m\n\u001b[1;32m---> 44\u001b[1;33m         \u001b[0mlr\u001b[0m \u001b[1;33m=\u001b[0m \u001b[0mLogisticRegression\u001b[0m\u001b[1;33m(\u001b[0m\u001b[0mclass_weight\u001b[0m\u001b[1;33m=\u001b[0m\u001b[0mclass_weight\u001b[0m\u001b[1;33m,\u001b[0m \u001b[0mrandom_state\u001b[0m\u001b[1;33m=\u001b[0m\u001b[0mrandom_state\u001b[0m\u001b[1;33m)\u001b[0m\u001b[1;33m\u001b[0m\u001b[1;33m\u001b[0m\u001b[0m\n\u001b[0m\u001b[0;32m     45\u001b[0m \u001b[1;33m\u001b[0m\u001b[0m\n\u001b[0;32m     46\u001b[0m         \u001b[0mclf_pipeline\u001b[0m \u001b[1;33m=\u001b[0m \u001b[0mmake_pipeline\u001b[0m\u001b[1;33m(\u001b[0m\u001b[0mMinMaxScaler\u001b[0m\u001b[1;33m(\u001b[0m\u001b[1;33m)\u001b[0m\u001b[1;33m,\u001b[0m \u001b[0mlr\u001b[0m\u001b[1;33m)\u001b[0m\u001b[1;33m\u001b[0m\u001b[1;33m\u001b[0m\u001b[0m\n",
      "\u001b[1;31mNameError\u001b[0m: name 'max_iter' is not defined"
     ]
    }
   ],
   "source": [
    "baseline_model.run_baseline_model(features_train, \n",
    "                                features_test, \n",
    "                                target_train, \n",
    "                                target_test, \n",
    "                                model = \"logreg\",\n",
    "                               random_state=42, \n",
    "                                class_weight=\"balanced\")"
   ]
  },
  {
   "cell_type": "markdown",
   "metadata": {},
   "source": [
    "## model with continuous features only\n"
   ]
  },
  {
   "cell_type": "code",
   "execution_count": 60,
   "metadata": {},
   "outputs": [
    {
     "ename": "NameError",
     "evalue": "name 'max_iter' is not defined",
     "output_type": "error",
     "traceback": [
      "\u001b[1;31m---------------------------------------------------------------------------\u001b[0m",
      "\u001b[1;31mNameError\u001b[0m                                 Traceback (most recent call last)",
      "\u001b[1;32m<ipython-input-60-e8ffff461d97>\u001b[0m in \u001b[0;36m<module>\u001b[1;34m\u001b[0m\n\u001b[0;32m     10\u001b[0m                                 \u001b[0mmodel\u001b[0m \u001b[1;33m=\u001b[0m \u001b[1;34m\"logreg\"\u001b[0m\u001b[1;33m,\u001b[0m\u001b[1;33m\u001b[0m\u001b[1;33m\u001b[0m\u001b[0m\n\u001b[0;32m     11\u001b[0m                                 \u001b[0mrandom_state\u001b[0m\u001b[1;33m=\u001b[0m\u001b[1;36m42\u001b[0m\u001b[1;33m,\u001b[0m\u001b[1;33m\u001b[0m\u001b[1;33m\u001b[0m\u001b[0m\n\u001b[1;32m---> 12\u001b[1;33m                                 class_weight=\"balanced\")\n\u001b[0m",
      "\u001b[1;32m~\\PycharmProjects\\berlindslab\\ds-lab\\emissionscheck_alb\\baseline_model.py\u001b[0m in \u001b[0;36mrun_baseline_model\u001b[1;34m(features_train, features_test, target_train, target_test, model, random_state, class_weight, max_fpr)\u001b[0m\n\u001b[0;32m     42\u001b[0m \u001b[1;33m\u001b[0m\u001b[0m\n\u001b[0;32m     43\u001b[0m     \u001b[1;32mif\u001b[0m \u001b[0mmodel\u001b[0m \u001b[1;33m==\u001b[0m \u001b[1;34m\"logreg\"\u001b[0m\u001b[1;33m:\u001b[0m\u001b[1;33m\u001b[0m\u001b[1;33m\u001b[0m\u001b[0m\n\u001b[1;32m---> 44\u001b[1;33m         \u001b[0mlr\u001b[0m \u001b[1;33m=\u001b[0m \u001b[0mLogisticRegression\u001b[0m\u001b[1;33m(\u001b[0m\u001b[0mclass_weight\u001b[0m\u001b[1;33m=\u001b[0m\u001b[0mclass_weight\u001b[0m\u001b[1;33m,\u001b[0m \u001b[0mrandom_state\u001b[0m\u001b[1;33m=\u001b[0m\u001b[0mrandom_state\u001b[0m\u001b[1;33m)\u001b[0m\u001b[1;33m\u001b[0m\u001b[1;33m\u001b[0m\u001b[0m\n\u001b[0m\u001b[0;32m     45\u001b[0m \u001b[1;33m\u001b[0m\u001b[0m\n\u001b[0;32m     46\u001b[0m         \u001b[0mclf_pipeline\u001b[0m \u001b[1;33m=\u001b[0m \u001b[0mmake_pipeline\u001b[0m\u001b[1;33m(\u001b[0m\u001b[0mMinMaxScaler\u001b[0m\u001b[1;33m(\u001b[0m\u001b[1;33m)\u001b[0m\u001b[1;33m,\u001b[0m \u001b[0mlr\u001b[0m\u001b[1;33m)\u001b[0m\u001b[1;33m\u001b[0m\u001b[1;33m\u001b[0m\u001b[0m\n",
      "\u001b[1;31mNameError\u001b[0m: name 'max_iter' is not defined"
     ]
    }
   ],
   "source": [
    "\n",
    "features_train, features_test, target_train, target_test = data_prep.split_data(features_matrix = df_features[[\"ODOMETER\", \"CAR_AGE\"]],\n",
    "                                                                                    target_series = target,\n",
    "                                                                                    train_size = .7,\n",
    "                                                                                    random_state=42)\n",
    "\n",
    "baseline_model.run_baseline_model(features_train, \n",
    "                                features_test, \n",
    "                                target_train, \n",
    "                                target_test, \n",
    "                                model = \"logreg\", \n",
    "                                random_state=42, \n",
    "                                class_weight=\"balanced\")"
   ]
  },
  {
   "cell_type": "code",
   "execution_count": 61,
   "metadata": {},
   "outputs": [],
   "source": [
    "df_features = df_subset[[\"MODEL\", \"FUEL_TYPE\", \"GVW_TYPE\", \"ODOMETER\", \"CAR_AGE\",\"MODEL\"]]"
   ]
  },
  {
   "cell_type": "code",
   "execution_count": null,
   "metadata": {},
   "outputs": [],
   "source": [
    "# Continuous and categorical features - substitute MAKE by MODEL\n",
    "cat_features = [\"MODEL\", \"FUEL_TYPE\", \"GVW_TYPE\"]\n",
    "\n",
    "features_train, features_test, target_train, target_test = data_prep.encode_split_data(cat_features,\n",
    "                                                                                    data = df_features,\n",
    "                                                                                    target_series = target,\n",
    "                                                                                    train_size = .7,\n",
    "                                                                                    random_state=42)"
   ]
  },
  {
   "cell_type": "code",
   "execution_count": null,
   "metadata": {},
   "outputs": [],
   "source": [
    "baseline_model.run_baseline_model(features_train, \n",
    "                                features_test, \n",
    "                                target_train, \n",
    "                                target_test, \n",
    "                                model = \"logreg\", \n",
    "                                random_state=42, \n",
    "                                class_weight=\"balanced\",\n",
    "                                 max_iter=200)"
   ]
  },
  {
   "cell_type": "code",
   "execution_count": null,
   "metadata": {},
   "outputs": [],
   "source": []
  },
  {
   "cell_type": "code",
   "execution_count": null,
   "metadata": {},
   "outputs": [],
   "source": []
  }
 ],
 "metadata": {
  "kernelspec": {
   "display_name": "Python 3",
   "language": "python",
   "name": "python3"
  },
  "language_info": {
   "codemirror_mode": {
    "name": "ipython",
    "version": 3
   },
   "file_extension": ".py",
   "mimetype": "text/x-python",
   "name": "python",
   "nbconvert_exporter": "python",
   "pygments_lexer": "ipython3",
   "version": "3.7.4"
  }
 },
 "nbformat": 4,
 "nbformat_minor": 4
}
