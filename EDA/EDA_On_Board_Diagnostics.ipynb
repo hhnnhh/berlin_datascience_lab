{
  "nbformat": 4,
  "nbformat_minor": 0,
  "metadata": {
    "colab": {
      "name": "EDA_On_Board_Diagnostics.ipynb",
      "provenance": [],
      "collapsed_sections": [
        "W05bk1n2KM3U",
        "6hPoGdwuLU4s",
        "vh6Xzo3BLTgu",
        "Re2Q905rMG4P",
        "z2Hbj6feJxYf",
        "g7rjxvfmP9za",
        "xHVwJ-bhQYlc",
        "fGEjW6oXQs_k",
        "w9DMiUVYRDtK",
        "KcGBbJ_SRr_D"
      ],
      "toc_visible": true,
      "include_colab_link": true
    },
    "kernelspec": {
      "name": "python3",
      "display_name": "Python 3"
    }
  },
  "cells": [
    {
      "cell_type": "markdown",
      "metadata": {
        "id": "view-in-github",
        "colab_type": "text"
      },
      "source": [
        "<a href=\"https://colab.research.google.com/github/hhnnhh/berlin_datascience_lab/blob/master/EDA/EDA_On_Board_Diagnostics.ipynb\" target=\"_parent\"><img src=\"https://colab.research.google.com/assets/colab-badge.svg\" alt=\"Open In Colab\"/></a>"
      ]
    },
    {
      "cell_type": "markdown",
      "metadata": {
        "id": "9Tk2NHds0MlW",
        "colab_type": "text"
      },
      "source": [
        "# EDA \n",
        "by Caitlin Duncan and Hannah Bohle\n",
        "1. overall results\n",
        "2. OBD_results\n",
        "3. stations\n",
        "4. OBD II results and station ID\n",
        "5. OBD variables and distributions"
      ]
    },
    {
      "cell_type": "code",
      "metadata": {
        "id": "2MYxtFSjDf2K",
        "colab_type": "code",
        "colab": {
          "base_uri": "https://localhost:8080/",
          "height": 75
        },
        "outputId": "7ac4cf12-e871-4268-c490-9cb00bd05023"
      },
      "source": [
        "import pandas as pd\n",
        "import seaborn as sns\n",
        "import matplotlib.pyplot as plt\n",
        "pd.set_option('display.max_columns', 200)\n",
        "pd.set_option('display.max_rows', 200)\n",
        "%matplotlib inline"
      ],
      "execution_count": null,
      "outputs": [
        {
          "output_type": "stream",
          "text": [
            "/usr/local/lib/python3.6/dist-packages/statsmodels/tools/_testing.py:19: FutureWarning: pandas.util.testing is deprecated. Use the functions in the public API at pandas.testing instead.\n",
            "  import pandas.util.testing as tm\n"
          ],
          "name": "stderr"
        }
      ]
    },
    {
      "cell_type": "code",
      "metadata": {
        "id": "sx1HqqIIEKtI",
        "colab_type": "code",
        "colab": {
          "base_uri": "https://localhost:8080/",
          "height": 132
        },
        "outputId": "17205e99-148a-4175-8cbb-2e64d8af1039"
      },
      "source": [
        "from google.colab import drive\n",
        "\n",
        "drive.mount('/content/drive')"
      ],
      "execution_count": null,
      "outputs": [
        {
          "output_type": "stream",
          "text": [
            "Go to this URL in a browser: https://accounts.google.com/o/oauth2/auth?client_id=947318989803-6bn6qk8qdgf4n4g3pfee6491hc0brc4i.apps.googleusercontent.com&redirect_uri=urn%3aietf%3awg%3aoauth%3a2.0%3aoob&response_type=code&scope=email%20https%3a%2f%2fwww.googleapis.com%2fauth%2fdocs.test%20https%3a%2f%2fwww.googleapis.com%2fauth%2fdrive%20https%3a%2f%2fwww.googleapis.com%2fauth%2fdrive.photos.readonly%20https%3a%2f%2fwww.googleapis.com%2fauth%2fpeopleapi.readonly\n",
            "\n",
            "Enter your authorization code:\n",
            "··········\n",
            "Mounted at /content/drive\n"
          ],
          "name": "stdout"
        }
      ]
    },
    {
      "cell_type": "code",
      "metadata": {
        "id": "Ejr9RI0lEl_k",
        "colab_type": "code",
        "colab": {}
      },
      "source": [
        "data_path = '/content/drive/My Drive/WIMLDS/'"
      ],
      "execution_count": null,
      "outputs": []
    },
    {
      "cell_type": "code",
      "metadata": {
        "id": "DPB3BtTpEvik",
        "colab_type": "code",
        "colab": {
          "base_uri": "https://localhost:8080/",
          "height": 75
        },
        "outputId": "cddb27bc-7932-4fda-e1d8-28159b215752"
      },
      "source": [
        "cars2 = pd.read_csv(data_path + 'sample.csv', parse_dates=['TEST_SDATE', 'TEST_EDATE'], lineterminator='\\n')\n",
        "str_cars2 = pd.read_csv(data_path + 'sample.csv', dtype=str, parse_dates=['TEST_SDATE', 'TEST_EDATE'], lineterminator='\\n')"
      ],
      "execution_count": null,
      "outputs": [
        {
          "output_type": "stream",
          "text": [
            "/usr/local/lib/python3.6/dist-packages/IPython/core/interactiveshell.py:2718: DtypeWarning: Columns (5,18,26,108,109) have mixed types.Specify dtype option on import or set low_memory=False.\n",
            "  interactivity=interactivity, compiler=compiler, result=result)\n"
          ],
          "name": "stderr"
        }
      ]
    },
    {
      "cell_type": "code",
      "metadata": {
        "id": "W55RZE43NXqT",
        "colab_type": "code",
        "colab": {}
      },
      "source": [
        "from scipy import stats\n",
        "cars2[(np.abs(stats.zscore(cars)) < 3).all(axis=1)]"
      ],
      "execution_count": null,
      "outputs": []
    },
    {
      "cell_type": "code",
      "metadata": {
        "id": "KP58pJIQKme6",
        "colab_type": "code",
        "colab": {}
      },
      "source": [
        ""
      ],
      "execution_count": null,
      "outputs": []
    },
    {
      "cell_type": "code",
      "metadata": {
        "id": "2kTK-edLH8wJ",
        "colab_type": "code",
        "colab": {}
      },
      "source": [
        "len(cars2.columns)"
      ],
      "execution_count": null,
      "outputs": []
    },
    {
      "cell_type": "code",
      "metadata": {
        "id": "HE6XhD37IQik",
        "colab_type": "code",
        "colab": {}
      },
      "source": [
        "list(cars2)"
      ],
      "execution_count": null,
      "outputs": []
    },
    {
      "cell_type": "code",
      "metadata": {
        "id": "2mZdTEQLIsV4",
        "colab_type": "code",
        "colab": {}
      },
      "source": [
        "slice_col = cars2.columns[69]"
      ],
      "execution_count": null,
      "outputs": []
    },
    {
      "cell_type": "code",
      "metadata": {
        "id": "7LWIvBubJFYe",
        "colab_type": "code",
        "colab": {}
      },
      "source": [
        "cars2_df = cars2.loc[:, slice_col:]\n",
        "cars2_str_df = str_cars2.loc[:, slice_col:]"
      ],
      "execution_count": null,
      "outputs": []
    },
    {
      "cell_type": "code",
      "metadata": {
        "id": "E8RCigtIKCkn",
        "colab_type": "code",
        "colab": {}
      },
      "source": [
        "cars2_df[\"VIN\"] = cars2[\"VIN\"]"
      ],
      "execution_count": null,
      "outputs": []
    },
    {
      "cell_type": "code",
      "metadata": {
        "id": "PrrpA5iGKeIm",
        "colab_type": "code",
        "colab": {}
      },
      "source": [
        "list(cars2_df)"
      ],
      "execution_count": null,
      "outputs": []
    },
    {
      "cell_type": "code",
      "metadata": {
        "id": "TCyWeBI6K8kQ",
        "colab_type": "code",
        "colab": {}
      },
      "source": [
        "cars2_df.info()"
      ],
      "execution_count": null,
      "outputs": []
    },
    {
      "cell_type": "markdown",
      "metadata": {
        "id": "akXRxu4AMNYX",
        "colab_type": "text"
      },
      "source": [
        "\"OBDII_AFFECT_OVERALL\" -> Determines if a failing OBD-II test causes the overall emissions test to fail - number of YES in this column should be less than or equal to the number of fails in the OVERALL_RESULTS column"
      ]
    },
    {
      "cell_type": "code",
      "metadata": {
        "id": "7r--H47vLSYl",
        "colab_type": "code",
        "colab": {
          "base_uri": "https://localhost:8080/",
          "height": 93
        },
        "outputId": "5dd6b0a2-e5c9-4b0e-d94e-1c3ec2ea6edd"
      },
      "source": [
        "cars2_df.OBDII_AFFECT_OVERALL.value_counts()\n"
      ],
      "execution_count": null,
      "outputs": [
        {
          "output_type": "execute_result",
          "data": {
            "text/plain": [
              "N    157846\n",
              "Y     10686\n",
              "I         1\n",
              "Name: OBDII_AFFECT_OVERALL, dtype: int64"
            ]
          },
          "metadata": {
            "tags": []
          },
          "execution_count": 11
        }
      ]
    },
    {
      "cell_type": "code",
      "metadata": {
        "id": "bajTAPX6M7h0",
        "colab_type": "code",
        "colab": {
          "base_uri": "https://localhost:8080/",
          "height": 131
        },
        "outputId": "929cad14-fc57-4791-aa24-5ffa28561ad1"
      },
      "source": [
        "cars2_df.OVERALL_RESULT.value_counts()"
      ],
      "execution_count": null,
      "outputs": [
        {
          "output_type": "execute_result",
          "data": {
            "text/plain": [
              "P    190323\n",
              "A     24486\n",
              "F     20352\n",
              "I         9\n",
              "O         6\n",
              "Name: OVERALL_RESULT, dtype: int64"
            ]
          },
          "metadata": {
            "tags": []
          },
          "execution_count": 12
        }
      ]
    },
    {
      "cell_type": "markdown",
      "metadata": {
        "id": "GnPAsvihZxMK",
        "colab_type": "text"
      },
      "source": [
        "The \"Visual Smoke Check\" - two variables, with 1 Char (P=Pass, F=Fail, N=? missing?) "
      ]
    },
    {
      "cell_type": "markdown",
      "metadata": {
        "id": "C3zeNP8eZweE",
        "colab_type": "text"
      },
      "source": [
        "Citation from the inspector manual (p. 23)\n",
        ": \"The presence of tailpipe smoke anytime during the emission test results in a 'Fail' test.\n",
        "Visible smoke often indicates major engine problems and the need for repairs.\n",
        "No vehicle shall be failed for water vapor condensation or steam.\"\n"
      ]
    },
    {
      "cell_type": "code",
      "metadata": {
        "id": "xQDjqR92M7Wh",
        "colab_type": "code",
        "colab": {
          "base_uri": "https://localhost:8080/",
          "height": 85
        },
        "outputId": "97a540eb-0dd3-482e-fe62-05ac379137ca"
      },
      "source": [
        "cars2_df.V_SMOKE1.value_counts()"
      ],
      "execution_count": null,
      "outputs": [
        {
          "output_type": "execute_result",
          "data": {
            "text/plain": [
              "P    168796\n",
              "N     65889\n",
              "F       491\n",
              "Name: V_SMOKE1, dtype: int64"
            ]
          },
          "metadata": {
            "tags": []
          },
          "execution_count": 19
        }
      ]
    },
    {
      "cell_type": "code",
      "metadata": {
        "id": "imPNOEY6M7Go",
        "colab_type": "code",
        "colab": {
          "base_uri": "https://localhost:8080/",
          "height": 85
        },
        "outputId": "ff50d4b0-74ae-470a-8d73-7b8db968036d"
      },
      "source": [
        "cars2_df.V_SMOKE2.value_counts()"
      ],
      "execution_count": null,
      "outputs": [
        {
          "output_type": "execute_result",
          "data": {
            "text/plain": [
              "N    144962\n",
              "P     89994\n",
              "F       220\n",
              "Name: V_SMOKE2, dtype: int64"
            ]
          },
          "metadata": {
            "tags": []
          },
          "execution_count": 20
        }
      ]
    },
    {
      "cell_type": "markdown",
      "metadata": {
        "id": "P3o2H-hBDECZ",
        "colab_type": "text"
      },
      "source": [
        ""
      ]
    },
    {
      "cell_type": "markdown",
      "metadata": {
        "id": "1xcT45ODDIGK",
        "colab_type": "text"
      },
      "source": [
        "# OBD Data\n",
        "OBD refers to \"On-Board Diagnostics\"\n",
        "\n",
        "Cars made in 1996 or later have standardized computer systems, known as OBD-II that continually monitor the electronic sensors of engines and emissions control systems, including the catalytic converter, while the vehicle is being driven to ensure they are working as designed.Source:ctemissions.com/test-procedures/what-is-obd\n",
        "\n",
        "In other words, it is the vehicle's self-diagnostic and reporting capability. OBD systems give the vehicle owner or repair technician access to the status of the various vehicle sub-systems. \n",
        "source: wikipedia.org\n",
        "\n",
        "tl;dr\n",
        "\n",
        "OBD = On-Board Diagnostic. It allows other electronics to access the car's internal computer, which keeps track of how well things are working. "
      ]
    },
    {
      "cell_type": "code",
      "metadata": {
        "id": "h5Wg_P0DGemw",
        "colab_type": "code",
        "colab": {
          "base_uri": "https://localhost:8080/",
          "height": 1000
        },
        "outputId": "15c709c4-02c1-432d-ffc1-eba19ec171b6"
      },
      "source": [
        "list(cars2_df)"
      ],
      "execution_count": null,
      "outputs": [
        {
          "output_type": "execute_result",
          "data": {
            "text/plain": [
              "['V_SMOKE1',\n",
              " 'V_SMOKE2',\n",
              " 'V_GASCAP',\n",
              " 'V_CAT',\n",
              " 'V_RESULT',\n",
              " 'KOEO_RESULT',\n",
              " 'KOER_RESULT',\n",
              " 'OBD_RDY_MISFIRE',\n",
              " 'OBD_RDY_FUEL',\n",
              " 'OBD_RDY_COMPONENT',\n",
              " 'OBD_RDY_CAT',\n",
              " 'OBD_RDY_CAT_HEATED',\n",
              " 'OBD_RDY_EVAP',\n",
              " 'OBD_RDY_SEC_AIR',\n",
              " 'OBD_RDY_AIR_COND',\n",
              " 'OBD_RDY_O2_SENSOR',\n",
              " 'OBD_RDY_O2_HEATER',\n",
              " 'OBD_RDY_EGR',\n",
              " 'OBD_RDY_RESULT',\n",
              " 'OBD_PID',\n",
              " 'OBD_PCM_ID',\n",
              " 'OBD_VIN',\n",
              " 'OBD_FLT_CODES',\n",
              " 'OBD_FLT_RESULT',\n",
              " 'OBD_MIL_STATUS',\n",
              " 'OBD_RESULT',\n",
              " 'ONLINE_STATUS',\n",
              " 'OFFLINE_REASON_CODE',\n",
              " 'ABORT_CODE',\n",
              " 'SOFTWARE_VERSION',\n",
              " 'INSP_COMMENTS',\n",
              " 'OVERALL_RESULT',\n",
              " 'R_TOTAL_COST',\n",
              " 'R_EGR',\n",
              " 'R_ELECTRICAL',\n",
              " 'R_EVAP_CONTROL',\n",
              " 'R_EXHAUST',\n",
              " 'R_IGNITION',\n",
              " 'R_INTAKE',\n",
              " 'R_ENGINE',\n",
              " 'R_PCV',\n",
              " 'R_OTHER',\n",
              " 'SentToWW',\n",
              " 'ABORT_CODE_OTHER_DESC',\n",
              " 'OBDII_AFFECT_OVERALL',\n",
              " 'E_HIGH_CO_RESULT',\n",
              " 'E_HIGH_HC_RESULT',\n",
              " 'E_IDLE_CO_RESULT',\n",
              " 'E_IDLE_HC_RESULT',\n",
              " 'MECHANIC_LAST_NAME',\n",
              " 'MECHANIC_FIRST_NAME',\n",
              " 'MECHANIC_MIDDLE_INIT',\n",
              " 'ENGINE_SIZE_ORIG',\n",
              " 'FAILED_IDLE_RPM',\n",
              " 'SENTTOVID',\n",
              " 'Station_License_Number',\n",
              " 'Analyzer_Number',\n",
              " 'Insert_DateTime\\r',\n",
              " 'VIN']"
            ]
          },
          "metadata": {
            "tags": []
          },
          "execution_count": 21
        }
      ]
    },
    {
      "cell_type": "code",
      "metadata": {
        "id": "Ksy0de_KHALY",
        "colab_type": "code",
        "colab": {}
      },
      "source": [
        "# get just obd columns + final result column\n",
        "obd_cols = [col for col in cars2_df if col.startswith('OBD') or col.startswith('OVERALL_')]"
      ],
      "execution_count": null,
      "outputs": []
    },
    {
      "cell_type": "code",
      "metadata": {
        "id": "CKpCSAdWHIYR",
        "colab_type": "code",
        "colab": {
          "base_uri": "https://localhost:8080/",
          "height": 36
        },
        "outputId": "89aa1f65-4ddb-40ac-a484-20b1f7d6f982"
      },
      "source": [
        "print(f'there are {len(obd_cols)-1} obd columns and 1 final result column')"
      ],
      "execution_count": null,
      "outputs": [
        {
          "output_type": "stream",
          "text": [
            "there are 20 obd columns and 1 final result column\n"
          ],
          "name": "stdout"
        }
      ]
    },
    {
      "cell_type": "code",
      "metadata": {
        "id": "un19NpS0HYTX",
        "colab_type": "code",
        "colab": {
          "base_uri": "https://localhost:8080/",
          "height": 417
        },
        "outputId": "30d97ef3-513c-4ea7-f581-69d9be9121c3"
      },
      "source": [
        "obd_cols"
      ],
      "execution_count": null,
      "outputs": [
        {
          "output_type": "execute_result",
          "data": {
            "text/plain": [
              "['OBD_RDY_MISFIRE',\n",
              " 'OBD_RDY_FUEL',\n",
              " 'OBD_RDY_COMPONENT',\n",
              " 'OBD_RDY_CAT',\n",
              " 'OBD_RDY_CAT_HEATED',\n",
              " 'OBD_RDY_EVAP',\n",
              " 'OBD_RDY_SEC_AIR',\n",
              " 'OBD_RDY_AIR_COND',\n",
              " 'OBD_RDY_O2_SENSOR',\n",
              " 'OBD_RDY_O2_HEATER',\n",
              " 'OBD_RDY_EGR',\n",
              " 'OBD_RDY_RESULT',\n",
              " 'OBD_PID',\n",
              " 'OBD_PCM_ID',\n",
              " 'OBD_VIN',\n",
              " 'OBD_FLT_CODES',\n",
              " 'OBD_FLT_RESULT',\n",
              " 'OBD_MIL_STATUS',\n",
              " 'OBD_RESULT',\n",
              " 'OVERALL_RESULT',\n",
              " 'OBDII_AFFECT_OVERALL']"
            ]
          },
          "metadata": {
            "tags": []
          },
          "execution_count": 16
        }
      ]
    },
    {
      "cell_type": "markdown",
      "metadata": {
        "id": "QDlNBP0vY3HG",
        "colab_type": "text"
      },
      "source": [
        "### Distribution of overall results"
      ]
    },
    {
      "cell_type": "code",
      "metadata": {
        "id": "0sgSTWivY9O8",
        "colab_type": "code",
        "colab": {
          "base_uri": "https://localhost:8080/",
          "height": 399
        },
        "outputId": "9c109b77-41c1-4339-bab1-203225737143"
      },
      "source": [
        "sns.countplot(x='OVERALL_RESULT', data=cars2_df)\n",
        "plt.show()\n",
        "print('value counts are as follows: ')\n",
        "cars2_df['OVERALL_RESULT'].value_counts()"
      ],
      "execution_count": null,
      "outputs": [
        {
          "output_type": "display_data",
          "data": {
            "image/png": "[encoded data removed]",
            "text/plain": [
              "<Figure size 432x288 with 1 Axes>"
            ]
          },
          "metadata": {
            "tags": [],
            "needs_background": "light"
          }
        },
        {
          "output_type": "stream",
          "text": [
            "value counts are as follows: \n"
          ],
          "name": "stdout"
        },
        {
          "output_type": "execute_result",
          "data": {
            "text/plain": [
              "P    190323\n",
              "A     24486\n",
              "F     20352\n",
              "I         9\n",
              "O         6\n",
              "Name: OVERALL_RESULT, dtype: int64"
            ]
          },
          "metadata": {
            "tags": []
          },
          "execution_count": 70
        }
      ]
    },
    {
      "cell_type": "markdown",
      "metadata": {
        "id": "MRyu-nWiTlrM",
        "colab_type": "text"
      },
      "source": [
        "### Distribution of scores for `OBD_RESULTS`"
      ]
    },
    {
      "cell_type": "code",
      "metadata": {
        "id": "JCCsxkUfTgcJ",
        "colab_type": "code",
        "colab": {
          "base_uri": "https://localhost:8080/",
          "height": 419
        },
        "outputId": "dd3267a0-fecc-4373-c72a-15ec05d0fb40"
      },
      "source": [
        "sns.countplot(x='OBD_RESULT', data=cars2_df)\n",
        "plt.show()\n",
        "print('value counts are as follows: ')\n",
        "cars2_df['OBD_RESULT'].value_counts()"
      ],
      "execution_count": null,
      "outputs": [
        {
          "output_type": "display_data",
          "data": {
            "image/png": "[encoded data removed]",
            "text/plain": [
              "<Figure size 432x288 with 1 Axes>"
            ]
          },
          "metadata": {
            "tags": [],
            "needs_background": "light"
          }
        },
        {
          "output_type": "stream",
          "text": [
            "value counts are as follows: \n"
          ],
          "name": "stdout"
        },
        {
          "output_type": "execute_result",
          "data": {
            "text/plain": [
              "P    153506\n",
              "F      8026\n",
              "A      4365\n",
              "C       555\n",
              "I       370\n",
              "N       234\n",
              "Name: OBD_RESULT, dtype: int64"
            ]
          },
          "metadata": {
            "tags": []
          },
          "execution_count": 69
        }
      ]
    },
    {
      "cell_type": "markdown",
      "metadata": {
        "id": "azkEiwWwZPS0",
        "colab_type": "text"
      },
      "source": [
        "There are considerably fewer cars that pass the OBD test than the overall test. This could mean that some cars who fail the OBD test managed to pass the overall test (although from what I've read online this shouldn't happen). \n",
        "\n",
        "This information, however, is contained in the `OBDII_AFFECT_OVERALL` variable: this variable determines if failing an OBDII test will cause the overall result to be a fail (Y=yes, N=no)."
      ]
    },
    {
      "cell_type": "code",
      "metadata": {
        "id": "obDz2ULPZyCj",
        "colab_type": "code",
        "colab": {
          "base_uri": "https://localhost:8080/",
          "height": 365
        },
        "outputId": "bc6acd7f-072f-4b3e-e09a-5701b9e01301"
      },
      "source": [
        "sns.countplot(x='OBDII_AFFECT_OVERALL', data=cars2_df)\n",
        "plt.show()\n",
        "print('value counts are as follows: ')\n",
        "cars2_df['OBDII_AFFECT_OVERALL'].value_counts()"
      ],
      "execution_count": null,
      "outputs": [
        {
          "output_type": "display_data",
          "data": {
            "image/png": "[encoded data removed]",
            "text/plain": [
              "<Figure size 432x288 with 1 Axes>"
            ]
          },
          "metadata": {
            "tags": [],
            "needs_background": "light"
          }
        },
        {
          "output_type": "stream",
          "text": [
            "value counts are as follows: \n"
          ],
          "name": "stdout"
        },
        {
          "output_type": "execute_result",
          "data": {
            "text/plain": [
              "N    157846\n",
              "Y     10686\n",
              "I         1\n",
              "Name: OBDII_AFFECT_OVERALL, dtype: int64"
            ]
          },
          "metadata": {
            "tags": []
          },
          "execution_count": 77
        }
      ]
    },
    {
      "cell_type": "markdown",
      "metadata": {
        "id": "tFEaBAUqaNIU",
        "colab_type": "text"
      },
      "source": [
        "The overwhelming majority indicates that failing an OBDII test will NOT cause the overall result to be a fail. \n",
        "\n",
        "This means that failing the OBDII test on its own is not necessarly a good indicator of failing/passing the overall test. \n",
        "\n",
        "Not sure if this particular value is based on a threshold that the mechanic/testing station sets, or if it is a measure of likeliness to fail. \n",
        "\n",
        "Could look at this variable & the mechanic/station policy to see if this is dependent on the mechanic or not. \n",
        "\n"
      ]
    },
    {
      "cell_type": "markdown",
      "metadata": {
        "id": "8wS6v1udb1xJ",
        "colab_type": "text"
      },
      "source": [
        "### Are some stations \"nicer\" than others? Compare OBDII results with station ID\n",
        "\n",
        "Can then look at individual mechanics within each station."
      ]
    },
    {
      "cell_type": "code",
      "metadata": {
        "id": "O8DMe08dbR47",
        "colab_type": "code",
        "colab": {
          "base_uri": "https://localhost:8080/",
          "height": 34
        },
        "outputId": "113284c4-6292-48f6-eb3e-90759ece58b4"
      },
      "source": [
        "len(cars2_df['Station_License_Number'].unique())"
      ],
      "execution_count": null,
      "outputs": [
        {
          "output_type": "execute_result",
          "data": {
            "text/plain": [
              "228"
            ]
          },
          "metadata": {
            "tags": []
          },
          "execution_count": 80
        }
      ]
    },
    {
      "cell_type": "markdown",
      "metadata": {
        "id": "0PRP3x18c2tx",
        "colab_type": "text"
      },
      "source": [
        "For each station, get the proportion of passes.\n",
        "\n",
        "the `normalize=true` will automatically calculate proportions for us! "
      ]
    },
    {
      "cell_type": "code",
      "metadata": {
        "id": "zgF23cZabSIW",
        "colab_type": "code",
        "colab": {}
      },
      "source": [
        "test = cars2_df.groupby('Station_License_Number').OBD_RESULT.value_counts(normalize=True)"
      ],
      "execution_count": null,
      "outputs": []
    },
    {
      "cell_type": "code",
      "metadata": {
        "id": "A7GvR5Qzd80n",
        "colab_type": "code",
        "colab": {
          "base_uri": "https://localhost:8080/",
          "height": 136
        },
        "outputId": "1251e0b3-8a2f-4199-cf20-2e62177429c0"
      },
      "source": [
        "test.head()"
      ],
      "execution_count": null,
      "outputs": [
        {
          "output_type": "execute_result",
          "data": {
            "text/plain": [
              "Station_License_Number  OBD_RESULT\n",
              "3250                    P             1.000000\n",
              "969                     P             0.916667\n",
              "                        F             0.083333\n",
              "CCAIS                   P             1.000000\n",
              "FG002                   P             0.871134\n",
              "Name: OBD_RESULT, dtype: float64"
            ]
          },
          "metadata": {
            "tags": []
          },
          "execution_count": 99
        }
      ]
    },
    {
      "cell_type": "code",
      "metadata": {
        "id": "aEsd3RkQj2oT",
        "colab_type": "code",
        "colab": {}
      },
      "source": [
        "test_unstacked = test.unstack()"
      ],
      "execution_count": null,
      "outputs": []
    },
    {
      "cell_type": "code",
      "metadata": {
        "id": "5oE2mOouhpx-",
        "colab_type": "code",
        "colab": {
          "base_uri": "https://localhost:8080/",
          "height": 235
        },
        "outputId": "22dbf713-5044-46b0-d2fd-77a9e08da742"
      },
      "source": [
        "test_unstacked.head()"
      ],
      "execution_count": null,
      "outputs": [
        {
          "output_type": "execute_result",
          "data": {
            "text/html": [
              "<div>\n",
              "<style scoped>\n",
              "    .dataframe tbody tr th:only-of-type {\n",
              "        vertical-align: middle;\n",
              "    }\n",
              "\n",
              "    .dataframe tbody tr th {\n",
              "        vertical-align: top;\n",
              "    }\n",
              "\n",
              "    .dataframe thead th {\n",
              "        text-align: right;\n",
              "    }\n",
              "</style>\n",
              "<table border=\"1\" class=\"dataframe\">\n",
              "  <thead>\n",
              "    <tr style=\"text-align: right;\">\n",
              "      <th>OBD_RESULT</th>\n",
              "      <th>A</th>\n",
              "      <th>C</th>\n",
              "      <th>F</th>\n",
              "      <th>I</th>\n",
              "      <th>N</th>\n",
              "      <th>P</th>\n",
              "    </tr>\n",
              "    <tr>\n",
              "      <th>Station_License_Number</th>\n",
              "      <th></th>\n",
              "      <th></th>\n",
              "      <th></th>\n",
              "      <th></th>\n",
              "      <th></th>\n",
              "      <th></th>\n",
              "    </tr>\n",
              "  </thead>\n",
              "  <tbody>\n",
              "    <tr>\n",
              "      <th>3250</th>\n",
              "      <td>NaN</td>\n",
              "      <td>NaN</td>\n",
              "      <td>NaN</td>\n",
              "      <td>NaN</td>\n",
              "      <td>NaN</td>\n",
              "      <td>1.000000</td>\n",
              "    </tr>\n",
              "    <tr>\n",
              "      <th>969</th>\n",
              "      <td>NaN</td>\n",
              "      <td>NaN</td>\n",
              "      <td>0.083333</td>\n",
              "      <td>NaN</td>\n",
              "      <td>NaN</td>\n",
              "      <td>0.916667</td>\n",
              "    </tr>\n",
              "    <tr>\n",
              "      <th>CCAIS</th>\n",
              "      <td>NaN</td>\n",
              "      <td>NaN</td>\n",
              "      <td>NaN</td>\n",
              "      <td>NaN</td>\n",
              "      <td>NaN</td>\n",
              "      <td>1.000000</td>\n",
              "    </tr>\n",
              "    <tr>\n",
              "      <th>FG002</th>\n",
              "      <td>0.092784</td>\n",
              "      <td>0.020619</td>\n",
              "      <td>0.015464</td>\n",
              "      <td>NaN</td>\n",
              "      <td>NaN</td>\n",
              "      <td>0.871134</td>\n",
              "    </tr>\n",
              "    <tr>\n",
              "      <th>FG008</th>\n",
              "      <td>0.054348</td>\n",
              "      <td>0.010870</td>\n",
              "      <td>NaN</td>\n",
              "      <td>0.01087</td>\n",
              "      <td>NaN</td>\n",
              "      <td>0.923913</td>\n",
              "    </tr>\n",
              "  </tbody>\n",
              "</table>\n",
              "</div>"
            ],
            "text/plain": [
              "OBD_RESULT                     A         C         F        I   N         P\n",
              "Station_License_Number                                                     \n",
              "3250                         NaN       NaN       NaN      NaN NaN  1.000000\n",
              "969                          NaN       NaN  0.083333      NaN NaN  0.916667\n",
              "CCAIS                        NaN       NaN       NaN      NaN NaN  1.000000\n",
              "FG002                   0.092784  0.020619  0.015464      NaN NaN  0.871134\n",
              "FG008                   0.054348  0.010870       NaN  0.01087 NaN  0.923913"
            ]
          },
          "metadata": {
            "tags": []
          },
          "execution_count": 113
        }
      ]
    },
    {
      "cell_type": "code",
      "metadata": {
        "id": "KSAqKLSakHYf",
        "colab_type": "code",
        "colab": {
          "base_uri": "https://localhost:8080/",
          "height": 419
        },
        "outputId": "d516a806-27f9-4d42-c0e6-0243cdd8a4eb"
      },
      "source": [
        "test_unstacked['P'].reset_index()"
      ],
      "execution_count": null,
      "outputs": [
        {
          "output_type": "execute_result",
          "data": {
            "text/html": [
              "<div>\n",
              "<style scoped>\n",
              "    .dataframe tbody tr th:only-of-type {\n",
              "        vertical-align: middle;\n",
              "    }\n",
              "\n",
              "    .dataframe tbody tr th {\n",
              "        vertical-align: top;\n",
              "    }\n",
              "\n",
              "    .dataframe thead th {\n",
              "        text-align: right;\n",
              "    }\n",
              "</style>\n",
              "<table border=\"1\" class=\"dataframe\">\n",
              "  <thead>\n",
              "    <tr style=\"text-align: right;\">\n",
              "      <th></th>\n",
              "      <th>Station_License_Number</th>\n",
              "      <th>P</th>\n",
              "    </tr>\n",
              "  </thead>\n",
              "  <tbody>\n",
              "    <tr>\n",
              "      <th>0</th>\n",
              "      <td>3250</td>\n",
              "      <td>1.000000</td>\n",
              "    </tr>\n",
              "    <tr>\n",
              "      <th>1</th>\n",
              "      <td>969</td>\n",
              "      <td>0.916667</td>\n",
              "    </tr>\n",
              "    <tr>\n",
              "      <th>2</th>\n",
              "      <td>CCAIS</td>\n",
              "      <td>1.000000</td>\n",
              "    </tr>\n",
              "    <tr>\n",
              "      <th>3</th>\n",
              "      <td>FG002</td>\n",
              "      <td>0.871134</td>\n",
              "    </tr>\n",
              "    <tr>\n",
              "      <th>4</th>\n",
              "      <td>FG008</td>\n",
              "      <td>0.923913</td>\n",
              "    </tr>\n",
              "    <tr>\n",
              "      <th>...</th>\n",
              "      <td>...</td>\n",
              "      <td>...</td>\n",
              "    </tr>\n",
              "    <tr>\n",
              "      <th>221</th>\n",
              "      <td>IS500</td>\n",
              "      <td>0.941176</td>\n",
              "    </tr>\n",
              "    <tr>\n",
              "      <th>222</th>\n",
              "      <td>IS503</td>\n",
              "      <td>1.000000</td>\n",
              "    </tr>\n",
              "    <tr>\n",
              "      <th>223</th>\n",
              "      <td>N1234</td>\n",
              "      <td>0.888889</td>\n",
              "    </tr>\n",
              "    <tr>\n",
              "      <th>224</th>\n",
              "      <td>VP001</td>\n",
              "      <td>0.797688</td>\n",
              "    </tr>\n",
              "    <tr>\n",
              "      <th>225</th>\n",
              "      <td>ir085</td>\n",
              "      <td>1.000000</td>\n",
              "    </tr>\n",
              "  </tbody>\n",
              "</table>\n",
              "<p>226 rows × 2 columns</p>\n",
              "</div>"
            ],
            "text/plain": [
              "    Station_License_Number         P\n",
              "0                     3250  1.000000\n",
              "1                      969  0.916667\n",
              "2                    CCAIS  1.000000\n",
              "3                    FG002  0.871134\n",
              "4                    FG008  0.923913\n",
              "..                     ...       ...\n",
              "221                  IS500  0.941176\n",
              "222                  IS503  1.000000\n",
              "223                  N1234  0.888889\n",
              "224                  VP001  0.797688\n",
              "225                  ir085  1.000000\n",
              "\n",
              "[226 rows x 2 columns]"
            ]
          },
          "metadata": {
            "tags": []
          },
          "execution_count": 116
        }
      ]
    },
    {
      "cell_type": "code",
      "metadata": {
        "id": "XZ0DPGZBkRXd",
        "colab_type": "code",
        "colab": {}
      },
      "source": [
        "#test_unstacked.reset_index()"
      ],
      "execution_count": null,
      "outputs": []
    },
    {
      "cell_type": "code",
      "metadata": {
        "id": "PBmPNY6Rese-",
        "colab_type": "code",
        "colab": {
          "base_uri": "https://localhost:8080/",
          "height": 385
        },
        "outputId": "b2ea1a43-0709-4843-d062-0241e957b9f6"
      },
      "source": [
        "sns.catplot(x='Station_License_Number', y = 'P', data=test_unstacked['P'].reset_index())\n",
        "plt.title('Proportion OBD test passed by station')\n",
        "plt.show()"
      ],
      "execution_count": null,
      "outputs": [
        {
          "output_type": "display_data",
          "data": {
            "image/png": "[encoded data removed]",
            "text/plain": [
              "<Figure size 360x360 with 1 Axes>"
            ]
          },
          "metadata": {
            "tags": [],
            "needs_background": "light"
          }
        }
      ]
    },
    {
      "cell_type": "markdown",
      "metadata": {
        "id": "uqJ8jPsBKVy2",
        "colab_type": "text"
      },
      "source": [
        "## OBDII Variables and their Distributions\n",
        "\n",
        "Columns \"OBD_RDY_MISFIRE\" through \"OBD_RDY_RESULT\" (12 columns) are all categorical (nomimal, possibly ordinal) with the following possible values:\n",
        "\n",
        "0, 1, 2, 3, 4, 5\n",
        "\n",
        "**Have still not been able to find out what these codes mean.**"
      ]
    },
    {
      "cell_type": "code",
      "metadata": {
        "id": "xKNptvJqbwQl",
        "colab_type": "code",
        "colab": {}
      },
      "source": [
        "# get the obd data\n",
        "obd_df = cars2_df[obd_cols]"
      ],
      "execution_count": null,
      "outputs": []
    },
    {
      "cell_type": "code",
      "metadata": {
        "id": "YrVAtPiBbyOK",
        "colab_type": "code",
        "colab": {
          "base_uri": "https://localhost:8080/",
          "height": 224
        },
        "outputId": "eba8f729-9d6d-4423-e0fb-729436c47d4c"
      },
      "source": [
        "obd_df.head()"
      ],
      "execution_count": null,
      "outputs": [
        {
          "output_type": "execute_result",
          "data": {
            "text/html": [
              "<div>\n",
              "<style scoped>\n",
              "    .dataframe tbody tr th:only-of-type {\n",
              "        vertical-align: middle;\n",
              "    }\n",
              "\n",
              "    .dataframe tbody tr th {\n",
              "        vertical-align: top;\n",
              "    }\n",
              "\n",
              "    .dataframe thead th {\n",
              "        text-align: right;\n",
              "    }\n",
              "</style>\n",
              "<table border=\"1\" class=\"dataframe\">\n",
              "  <thead>\n",
              "    <tr style=\"text-align: right;\">\n",
              "      <th></th>\n",
              "      <th>OBD_RDY_MISFIRE</th>\n",
              "      <th>OBD_RDY_FUEL</th>\n",
              "      <th>OBD_RDY_COMPONENT</th>\n",
              "      <th>OBD_RDY_CAT</th>\n",
              "      <th>OBD_RDY_CAT_HEATED</th>\n",
              "      <th>OBD_RDY_EVAP</th>\n",
              "      <th>OBD_RDY_SEC_AIR</th>\n",
              "      <th>OBD_RDY_AIR_COND</th>\n",
              "      <th>OBD_RDY_O2_SENSOR</th>\n",
              "      <th>OBD_RDY_O2_HEATER</th>\n",
              "      <th>OBD_RDY_EGR</th>\n",
              "      <th>OBD_RDY_RESULT</th>\n",
              "      <th>OBD_PID</th>\n",
              "      <th>OBD_PCM_ID</th>\n",
              "      <th>OBD_VIN</th>\n",
              "      <th>OBD_FLT_CODES</th>\n",
              "      <th>OBD_FLT_RESULT</th>\n",
              "      <th>OBD_MIL_STATUS</th>\n",
              "      <th>OBD_RESULT</th>\n",
              "      <th>OVERALL_RESULT</th>\n",
              "      <th>OBDII_AFFECT_OVERALL</th>\n",
              "    </tr>\n",
              "  </thead>\n",
              "  <tbody>\n",
              "    <tr>\n",
              "      <th>0</th>\n",
              "      <td>NaN</td>\n",
              "      <td>NaN</td>\n",
              "      <td>NaN</td>\n",
              "      <td>NaN</td>\n",
              "      <td>NaN</td>\n",
              "      <td>NaN</td>\n",
              "      <td>NaN</td>\n",
              "      <td>NaN</td>\n",
              "      <td>NaN</td>\n",
              "      <td>NaN</td>\n",
              "      <td>NaN</td>\n",
              "      <td>NaN</td>\n",
              "      <td>NaN</td>\n",
              "      <td>NaN</td>\n",
              "      <td>NaN</td>\n",
              "      <td>NaN</td>\n",
              "      <td>NaN</td>\n",
              "      <td>NaN</td>\n",
              "      <td>NaN</td>\n",
              "      <td>P</td>\n",
              "      <td>NaN</td>\n",
              "    </tr>\n",
              "    <tr>\n",
              "      <th>1</th>\n",
              "      <td>1.0</td>\n",
              "      <td>1.0</td>\n",
              "      <td>4.0</td>\n",
              "      <td>1.0</td>\n",
              "      <td>0.0</td>\n",
              "      <td>5.0</td>\n",
              "      <td>0.0</td>\n",
              "      <td>3.0</td>\n",
              "      <td>4.0</td>\n",
              "      <td>1.0</td>\n",
              "      <td>0.0</td>\n",
              "      <td>P</td>\n",
              "      <td>6.0</td>\n",
              "      <td>NaN</td>\n",
              "      <td>NaN</td>\n",
              "      <td>NaN</td>\n",
              "      <td>P</td>\n",
              "      <td>1.0</td>\n",
              "      <td>P</td>\n",
              "      <td>P</td>\n",
              "      <td>N</td>\n",
              "    </tr>\n",
              "    <tr>\n",
              "      <th>2</th>\n",
              "      <td>NaN</td>\n",
              "      <td>NaN</td>\n",
              "      <td>NaN</td>\n",
              "      <td>NaN</td>\n",
              "      <td>NaN</td>\n",
              "      <td>NaN</td>\n",
              "      <td>NaN</td>\n",
              "      <td>NaN</td>\n",
              "      <td>NaN</td>\n",
              "      <td>NaN</td>\n",
              "      <td>NaN</td>\n",
              "      <td>NaN</td>\n",
              "      <td>NaN</td>\n",
              "      <td>NaN</td>\n",
              "      <td>NaN</td>\n",
              "      <td>NaN</td>\n",
              "      <td>NaN</td>\n",
              "      <td>NaN</td>\n",
              "      <td>NaN</td>\n",
              "      <td>A</td>\n",
              "      <td>NaN</td>\n",
              "    </tr>\n",
              "    <tr>\n",
              "      <th>3</th>\n",
              "      <td>NaN</td>\n",
              "      <td>NaN</td>\n",
              "      <td>NaN</td>\n",
              "      <td>NaN</td>\n",
              "      <td>NaN</td>\n",
              "      <td>NaN</td>\n",
              "      <td>NaN</td>\n",
              "      <td>NaN</td>\n",
              "      <td>NaN</td>\n",
              "      <td>NaN</td>\n",
              "      <td>NaN</td>\n",
              "      <td>NaN</td>\n",
              "      <td>NaN</td>\n",
              "      <td>NaN</td>\n",
              "      <td>NaN</td>\n",
              "      <td>NaN</td>\n",
              "      <td>NaN</td>\n",
              "      <td>NaN</td>\n",
              "      <td>NaN</td>\n",
              "      <td>P</td>\n",
              "      <td>NaN</td>\n",
              "    </tr>\n",
              "    <tr>\n",
              "      <th>4</th>\n",
              "      <td>1.0</td>\n",
              "      <td>1.0</td>\n",
              "      <td>4.0</td>\n",
              "      <td>1.0</td>\n",
              "      <td>0.0</td>\n",
              "      <td>3.0</td>\n",
              "      <td>0.0</td>\n",
              "      <td>3.0</td>\n",
              "      <td>4.0</td>\n",
              "      <td>1.0</td>\n",
              "      <td>1.0</td>\n",
              "      <td>P</td>\n",
              "      <td>16.0</td>\n",
              "      <td>10</td>\n",
              "      <td>NaN</td>\n",
              "      <td>P0300</td>\n",
              "      <td>F</td>\n",
              "      <td>1.0</td>\n",
              "      <td>P</td>\n",
              "      <td>P</td>\n",
              "      <td>N</td>\n",
              "    </tr>\n",
              "  </tbody>\n",
              "</table>\n",
              "</div>"
            ],
            "text/plain": [
              "   OBD_RDY_MISFIRE  OBD_RDY_FUEL  OBD_RDY_COMPONENT  OBD_RDY_CAT  \\\n",
              "0              NaN           NaN                NaN          NaN   \n",
              "1              1.0           1.0                4.0          1.0   \n",
              "2              NaN           NaN                NaN          NaN   \n",
              "3              NaN           NaN                NaN          NaN   \n",
              "4              1.0           1.0                4.0          1.0   \n",
              "\n",
              "   OBD_RDY_CAT_HEATED  OBD_RDY_EVAP  OBD_RDY_SEC_AIR  OBD_RDY_AIR_COND  \\\n",
              "0                 NaN           NaN              NaN               NaN   \n",
              "1                 0.0           5.0              0.0               3.0   \n",
              "2                 NaN           NaN              NaN               NaN   \n",
              "3                 NaN           NaN              NaN               NaN   \n",
              "4                 0.0           3.0              0.0               3.0   \n",
              "\n",
              "   OBD_RDY_O2_SENSOR  OBD_RDY_O2_HEATER  OBD_RDY_EGR OBD_RDY_RESULT  OBD_PID  \\\n",
              "0                NaN                NaN          NaN            NaN      NaN   \n",
              "1                4.0                1.0          0.0              P      6.0   \n",
              "2                NaN                NaN          NaN            NaN      NaN   \n",
              "3                NaN                NaN          NaN            NaN      NaN   \n",
              "4                4.0                1.0          1.0              P     16.0   \n",
              "\n",
              "  OBD_PCM_ID OBD_VIN OBD_FLT_CODES OBD_FLT_RESULT  OBD_MIL_STATUS OBD_RESULT  \\\n",
              "0        NaN     NaN           NaN            NaN             NaN        NaN   \n",
              "1        NaN     NaN           NaN              P             1.0          P   \n",
              "2        NaN     NaN           NaN            NaN             NaN        NaN   \n",
              "3        NaN     NaN           NaN            NaN             NaN        NaN   \n",
              "4         10     NaN         P0300              F             1.0          P   \n",
              "\n",
              "  OVERALL_RESULT OBDII_AFFECT_OVERALL  \n",
              "0              P                  NaN  \n",
              "1              P                    N  \n",
              "2              A                  NaN  \n",
              "3              P                  NaN  \n",
              "4              P                    N  "
            ]
          },
          "metadata": {
            "tags": []
          },
          "execution_count": 75
        }
      ]
    },
    {
      "cell_type": "markdown",
      "metadata": {
        "id": "W05bk1n2KM3U",
        "colab_type": "text"
      },
      "source": [
        "### Distribution for `OBD_RDY_MISFIRE` = OBDII Readiness Monitor Misfire Sensor\n",
        "\n",
        "Note that the value 5 does not appear although it s a possible value."
      ]
    },
    {
      "cell_type": "code",
      "metadata": {
        "id": "pvO5yqkZI8Gf",
        "colab_type": "code",
        "colab": {
          "base_uri": "https://localhost:8080/",
          "height": 399
        },
        "outputId": "132f9b9c-ff25-468a-80ef-c0df13c02824"
      },
      "source": [
        "sns.distplot(obd_df['OBD_RDY_MISFIRE'], kde=False)\n",
        "plt.show()\n",
        "print('value counts are as follows: ')\n",
        "obd_df['OBD_RDY_MISFIRE'].value_counts()"
      ],
      "execution_count": null,
      "outputs": [
        {
          "output_type": "display_data",
          "data": {
            "image/png": "[encoded data removed]",
            "text/plain": [
              "<Figure size 432x288 with 1 Axes>"
            ]
          },
          "metadata": {
            "tags": [],
            "needs_background": "light"
          }
        },
        {
          "output_type": "stream",
          "text": [
            "value counts are as follows: \n"
          ],
          "name": "stdout"
        },
        {
          "output_type": "execute_result",
          "data": {
            "text/plain": [
              "1.0    164841\n",
              "0.0      1171\n",
              "4.0      1072\n",
              "2.0        22\n",
              "3.0         2\n",
              "Name: OBD_RDY_MISFIRE, dtype: int64"
            ]
          },
          "metadata": {
            "tags": []
          },
          "execution_count": 50
        }
      ]
    },
    {
      "cell_type": "markdown",
      "metadata": {
        "id": "6hPoGdwuLU4s",
        "colab_type": "text"
      },
      "source": [
        "### Distribution for `OBD_RDY_FUEL` = OBDII readiness monitor fuel system monitoring sensor\n",
        "\n",
        "Note that the value 5 does not appear although it s a possible value."
      ]
    },
    {
      "cell_type": "code",
      "metadata": {
        "id": "FoJnsEufLOrS",
        "colab_type": "code",
        "colab": {
          "base_uri": "https://localhost:8080/",
          "height": 399
        },
        "outputId": "52927e5c-4424-4869-aa03-7f793c743f0c"
      },
      "source": [
        "sns.distplot(obd_df['OBD_RDY_FUEL'], kde=False)\n",
        "plt.show()\n",
        "print('value counts are as follows: ')\n",
        "obd_df['OBD_RDY_FUEL'].value_counts()"
      ],
      "execution_count": null,
      "outputs": [
        {
          "output_type": "display_data",
          "data": {
            "image/png": "[encoded data removed]",
            "text/plain": [
              "<Figure size 432x288 with 1 Axes>"
            ]
          },
          "metadata": {
            "tags": [],
            "needs_background": "light"
          }
        },
        {
          "output_type": "stream",
          "text": [
            "value counts are as follows: \n"
          ],
          "name": "stdout"
        },
        {
          "output_type": "execute_result",
          "data": {
            "text/plain": [
              "1.0    164663\n",
              "0.0      1236\n",
              "4.0      1072\n",
              "2.0       135\n",
              "3.0         2\n",
              "Name: OBD_RDY_FUEL, dtype: int64"
            ]
          },
          "metadata": {
            "tags": []
          },
          "execution_count": 51
        }
      ]
    },
    {
      "cell_type": "markdown",
      "metadata": {
        "id": "vh6Xzo3BLTgu",
        "colab_type": "text"
      },
      "source": [
        "### Distribution for `OBD_RDY_COMPONENT` = OBDII readiness monitor component"
      ]
    },
    {
      "cell_type": "code",
      "metadata": {
        "id": "r7HBlh5eLPKv",
        "colab_type": "code",
        "colab": {
          "base_uri": "https://localhost:8080/",
          "height": 416
        },
        "outputId": "3994bd51-30c8-4dfd-b1e7-668244283fd2"
      },
      "source": [
        "sns.distplot(obd_df['OBD_RDY_COMPONENT'], kde=False)\n",
        "plt.show()\n",
        "print('value counts are as follows: ')\n",
        "obd_df['OBD_RDY_COMPONENT'].value_counts()"
      ],
      "execution_count": null,
      "outputs": [
        {
          "output_type": "display_data",
          "data": {
            "image/png": "[encoded data removed]",
            "text/plain": [
              "<Figure size 432x288 with 1 Axes>"
            ]
          },
          "metadata": {
            "tags": [],
            "needs_background": "light"
          }
        },
        {
          "output_type": "stream",
          "text": [
            "value counts are as follows: \n"
          ],
          "name": "stdout"
        },
        {
          "output_type": "execute_result",
          "data": {
            "text/plain": [
              "1.0    137055\n",
              "4.0     28902\n",
              "0.0       778\n",
              "3.0       250\n",
              "2.0       107\n",
              "5.0        16\n",
              "Name: OBD_RDY_COMPONENT, dtype: int64"
            ]
          },
          "metadata": {
            "tags": []
          },
          "execution_count": 52
        }
      ]
    },
    {
      "cell_type": "markdown",
      "metadata": {
        "id": "Re2Q905rMG4P",
        "colab_type": "text"
      },
      "source": [
        "### Distribution for `OBD_RDY_CAT` = OBDII readiness monitor catalyst"
      ]
    },
    {
      "cell_type": "code",
      "metadata": {
        "id": "IsSCvFhMLPdS",
        "colab_type": "code",
        "colab": {
          "base_uri": "https://localhost:8080/",
          "height": 416
        },
        "outputId": "33404d75-0a4a-4c60-d39d-47332f8bd8c1"
      },
      "source": [
        "sns.distplot(obd_df['OBD_RDY_CAT'],kde=False)\n",
        "plt.show()\n",
        "print('value counts are as follows: ')\n",
        "obd_df['OBD_RDY_CAT'].value_counts()"
      ],
      "execution_count": null,
      "outputs": [
        {
          "output_type": "display_data",
          "data": {
            "image/png": "[encoded data removed]",
            "text/plain": [
              "<Figure size 432x288 with 1 Axes>"
            ]
          },
          "metadata": {
            "tags": [],
            "needs_background": "light"
          }
        },
        {
          "output_type": "stream",
          "text": [
            "value counts are as follows: \n"
          ],
          "name": "stdout"
        },
        {
          "output_type": "execute_result",
          "data": {
            "text/plain": [
              "1.0    149061\n",
              "2.0     14146\n",
              "0.0      2827\n",
              "4.0       567\n",
              "5.0       500\n",
              "3.0         7\n",
              "Name: OBD_RDY_CAT, dtype: int64"
            ]
          },
          "metadata": {
            "tags": []
          },
          "execution_count": 54
        }
      ]
    },
    {
      "cell_type": "markdown",
      "metadata": {
        "id": "z2Hbj6feJxYf",
        "colab_type": "text"
      },
      "source": [
        "### Distribution for `OBD_RDY_CAT_HEATED` = OBDII readiness monitor heated catalyst\n",
        "\n",
        "Note that values 4 and 5 do not appear although they are possible values"
      ]
    },
    {
      "cell_type": "code",
      "metadata": {
        "id": "2BbtxWJZPR02",
        "colab_type": "code",
        "colab": {
          "base_uri": "https://localhost:8080/",
          "height": 382
        },
        "outputId": "3b82e38a-7225-4691-864a-fbfcbc9d5213"
      },
      "source": [
        "sns.distplot(obd_df['OBD_RDY_CAT_HEATED'], kde=False)\n",
        "plt.show()\n",
        "print('value counts are as follows: ')\n",
        "obd_df['OBD_RDY_CAT_HEATED'].value_counts()\n"
      ],
      "execution_count": null,
      "outputs": [
        {
          "output_type": "display_data",
          "data": {
            "image/png": "[encoded data removed]",
            "text/plain": [
              "<Figure size 432x288 with 1 Axes>"
            ]
          },
          "metadata": {
            "tags": [],
            "needs_background": "light"
          }
        },
        {
          "output_type": "stream",
          "text": [
            "value counts are as follows: \n"
          ],
          "name": "stdout"
        },
        {
          "output_type": "execute_result",
          "data": {
            "text/plain": [
              "0.0    165946\n",
              "3.0      1074\n",
              "1.0        74\n",
              "2.0        14\n",
              "Name: OBD_RDY_CAT_HEATED, dtype: int64"
            ]
          },
          "metadata": {
            "tags": []
          },
          "execution_count": 56
        }
      ]
    },
    {
      "cell_type": "markdown",
      "metadata": {
        "id": "g7rjxvfmP9za",
        "colab_type": "text"
      },
      "source": [
        "### Distribution for `OBD_RDY_EVAP` = OBDII Readiness Monitor Evaporative System"
      ]
    },
    {
      "cell_type": "code",
      "metadata": {
        "id": "c3tjpTO8QEPh",
        "colab_type": "code",
        "colab": {
          "base_uri": "https://localhost:8080/",
          "height": 416
        },
        "outputId": "08d663ff-54a3-4386-d977-73e27c908f38"
      },
      "source": [
        "sns.distplot(obd_df['OBD_RDY_EVAP'],kde=False)\n",
        "plt.show()\n",
        "print('value counts are as follows: ')\n",
        "obd_df['OBD_RDY_EVAP'].value_counts()"
      ],
      "execution_count": null,
      "outputs": [
        {
          "output_type": "display_data",
          "data": {
            "image/png": "[encoded data removed]",
            "text/plain": [
              "<Figure size 432x288 with 1 Axes>"
            ]
          },
          "metadata": {
            "tags": [],
            "needs_background": "light"
          }
        },
        {
          "output_type": "stream",
          "text": [
            "value counts are as follows: \n"
          ],
          "name": "stdout"
        },
        {
          "output_type": "execute_result",
          "data": {
            "text/plain": [
              "1.0    108368\n",
              "4.0     21744\n",
              "2.0     18278\n",
              "0.0     11276\n",
              "3.0      4503\n",
              "5.0      2939\n",
              "Name: OBD_RDY_EVAP, dtype: int64"
            ]
          },
          "metadata": {
            "tags": []
          },
          "execution_count": 58
        }
      ]
    },
    {
      "cell_type": "markdown",
      "metadata": {
        "id": "xHVwJ-bhQYlc",
        "colab_type": "text"
      },
      "source": [
        "### Distribution for `OBD_RDY_SEC_AIR` = OBDII Readiness Secondary Air system"
      ]
    },
    {
      "cell_type": "code",
      "metadata": {
        "id": "ei1SzZu4Pc1H",
        "colab_type": "code",
        "colab": {
          "base_uri": "https://localhost:8080/",
          "height": 418
        },
        "outputId": "98eaa8e9-510b-44cc-db84-d8c54c317bd3"
      },
      "source": [
        "sns.distplot(obd_df['OBD_RDY_SEC_AIR'],kde=False)\n",
        "plt.show()\n",
        "print('value counts are as follows: ')\n",
        "obd_df['OBD_RDY_SEC_AIR'].value_counts()"
      ],
      "execution_count": null,
      "outputs": [
        {
          "output_type": "display_data",
          "data": {
            "image/png": "[encoded data removed]",
            "text/plain": [
              "<Figure size 432x288 with 1 Axes>"
            ]
          },
          "metadata": {
            "tags": [],
            "needs_background": "light"
          }
        },
        {
          "output_type": "stream",
          "text": [
            "value counts are as follows: \n"
          ],
          "name": "stdout"
        },
        {
          "output_type": "execute_result",
          "data": {
            "text/plain": [
              "0.0    154017\n",
              "1.0     11116\n",
              "3.0       910\n",
              "2.0       901\n",
              "4.0        86\n",
              "5.0        78\n",
              "Name: OBD_RDY_SEC_AIR, dtype: int64"
            ]
          },
          "metadata": {
            "tags": []
          },
          "execution_count": 59
        }
      ]
    },
    {
      "cell_type": "markdown",
      "metadata": {
        "id": "fGEjW6oXQs_k",
        "colab_type": "text"
      },
      "source": [
        "### Distribution for `OBD_RDY_AIR_COND` = OBDII readiness monitor AC System Refrigerant\n",
        "\n",
        "Note that 5 does not appear although it is a possible value"
      ]
    },
    {
      "cell_type": "code",
      "metadata": {
        "id": "AIjRKSvDQ3IO",
        "colab_type": "code",
        "colab": {
          "base_uri": "https://localhost:8080/",
          "height": 382
        },
        "outputId": "1a675804-8cd7-4bc4-daa1-b932820da4b3"
      },
      "source": [
        "sns.distplot(obd_df['OBD_RDY_AIR_COND'],kde=False)\n",
        "plt.show()\n",
        "print('value counts are as follows: ')\n",
        "obd_df['OBD_RDY_AIR_COND'].value_counts()"
      ],
      "execution_count": null,
      "outputs": [
        {
          "output_type": "display_data",
          "data": {
            "image/png": "[encoded data removed]",
            "text/plain": [
              "<Figure size 432x288 with 1 Axes>"
            ]
          },
          "metadata": {
            "tags": [],
            "needs_background": "light"
          }
        },
        {
          "output_type": "stream",
          "text": [
            "value counts are as follows: \n"
          ],
          "name": "stdout"
        },
        {
          "output_type": "execute_result",
          "data": {
            "text/plain": [
              "0.0    137885\n",
              "3.0     29166\n",
              "1.0        55\n",
              "4.0         2\n",
              "Name: OBD_RDY_AIR_COND, dtype: int64"
            ]
          },
          "metadata": {
            "tags": []
          },
          "execution_count": 60
        }
      ]
    },
    {
      "cell_type": "markdown",
      "metadata": {
        "id": "w9DMiUVYRDtK",
        "colab_type": "text"
      },
      "source": [
        "### Distribution for `OBD_RDY_O2_SENSOR` = OBDII readiness monitor oxygen sensor"
      ]
    },
    {
      "cell_type": "code",
      "metadata": {
        "id": "wqp67vhlQ7Z-",
        "colab_type": "code",
        "colab": {
          "base_uri": "https://localhost:8080/",
          "height": 416
        },
        "outputId": "ca47b20a-c401-4a1f-80b6-657ccc85c70b"
      },
      "source": [
        "sns.distplot(obd_df['OBD_RDY_O2_SENSOR'],kde=False)\n",
        "plt.show()\n",
        "print('value counts are as follows: ')\n",
        "obd_df['OBD_RDY_O2_SENSOR'].value_counts()"
      ],
      "execution_count": null,
      "outputs": [
        {
          "output_type": "display_data",
          "data": {
            "image/png": "[encoded data removed]",
            "text/plain": [
              "<Figure size 432x288 with 1 Axes>"
            ]
          },
          "metadata": {
            "tags": [],
            "needs_background": "light"
          }
        },
        {
          "output_type": "stream",
          "text": [
            "value counts are as follows: \n"
          ],
          "name": "stdout"
        },
        {
          "output_type": "execute_result",
          "data": {
            "text/plain": [
              "1.0    130577\n",
              "4.0     27017\n",
              "2.0      6706\n",
              "5.0      2037\n",
              "0.0       657\n",
              "3.0       114\n",
              "Name: OBD_RDY_O2_SENSOR, dtype: int64"
            ]
          },
          "metadata": {
            "tags": []
          },
          "execution_count": 61
        }
      ]
    },
    {
      "cell_type": "markdown",
      "metadata": {
        "id": "9dixPIIlRVOz",
        "colab_type": "text"
      },
      "source": [
        "### Distribution for `OBD_RDY_O2_HEATER` = OBDII readiness monitor oxygen sensor heater"
      ]
    },
    {
      "cell_type": "code",
      "metadata": {
        "id": "oRyC2_-KRfIK",
        "colab_type": "code",
        "colab": {
          "base_uri": "https://localhost:8080/",
          "height": 417
        },
        "outputId": "0246a694-62a8-4030-c0e0-89723b2b4e5a"
      },
      "source": [
        "sns.distplot(obd_df['OBD_RDY_O2_HEATER'],kde=False)\n",
        "plt.show()\n",
        "print('value counts are as follows: ')\n",
        "obd_df['OBD_RDY_O2_HEATER'].value_counts()"
      ],
      "execution_count": null,
      "outputs": [
        {
          "output_type": "display_data",
          "data": {
            "image/png": "[encoded data removed]",
            "text/plain": [
              "<Figure size 432x288 with 1 Axes>"
            ]
          },
          "metadata": {
            "tags": [],
            "needs_background": "light"
          }
        },
        {
          "output_type": "stream",
          "text": [
            "value counts are as follows: \n"
          ],
          "name": "stdout"
        },
        {
          "output_type": "execute_result",
          "data": {
            "text/plain": [
              "1.0    154878\n",
              "0.0      5790\n",
              "2.0      5366\n",
              "4.0       851\n",
              "5.0       173\n",
              "3.0        50\n",
              "Name: OBD_RDY_O2_HEATER, dtype: int64"
            ]
          },
          "metadata": {
            "tags": []
          },
          "execution_count": 62
        }
      ]
    },
    {
      "cell_type": "markdown",
      "metadata": {
        "id": "KcGBbJ_SRr_D",
        "colab_type": "text"
      },
      "source": [
        "### Distribution for `OBD_RDY_EGR` = OBDII readiness monitor EGR system"
      ]
    },
    {
      "cell_type": "code",
      "metadata": {
        "id": "C0U7JEdeRkoc",
        "colab_type": "code",
        "colab": {
          "base_uri": "https://localhost:8080/",
          "height": 416
        },
        "outputId": "2054fe5e-e706-436f-f491-253b5ca50a3c"
      },
      "source": [
        "sns.distplot(obd_df['OBD_RDY_EGR'],kde=False)\n",
        "plt.show()\n",
        "print('value counts are as follows: ')\n",
        "obd_df['OBD_RDY_EGR'].value_counts()"
      ],
      "execution_count": null,
      "outputs": [
        {
          "output_type": "display_data",
          "data": {
            "image/png": "[encoded data removed]",
            "text/plain": [
              "<Figure size 432x288 with 1 Axes>"
            ]
          },
          "metadata": {
            "tags": [],
            "needs_background": "light"
          }
        },
        {
          "output_type": "stream",
          "text": [
            "value counts are as follows: \n"
          ],
          "name": "stdout"
        },
        {
          "output_type": "execute_result",
          "data": {
            "text/plain": [
              "1.0    84853\n",
              "0.0    76234\n",
              "2.0     4947\n",
              "4.0      473\n",
              "3.0      326\n",
              "5.0      275\n",
              "Name: OBD_RDY_EGR, dtype: int64"
            ]
          },
          "metadata": {
            "tags": []
          },
          "execution_count": 63
        }
      ]
    },
    {
      "cell_type": "markdown",
      "metadata": {
        "id": "U45GqXEYR2ag",
        "colab_type": "text"
      },
      "source": [
        "### Distribution for `OBD_RDY_RESULT` = OBDII readiness result\n",
        "\n",
        "**NOTE** In the meta-data this is listed as having values 0-5,  but it actually has `P`, `F` and `A`"
      ]
    },
    {
      "cell_type": "code",
      "metadata": {
        "id": "EgaS1ikdR0fc",
        "colab_type": "code",
        "colab": {
          "base_uri": "https://localhost:8080/",
          "height": 365
        },
        "outputId": "f3a0a3cf-5e76-4435-bcb7-f1aab2298bb7"
      },
      "source": [
        "#sns.distplot(obd_df['OBD_RDY_RESULT'],kde=False)\n",
        "#plt.show()\n",
        "# use a countplot for this. \n",
        "sns.countplot(x='OBD_RDY_RESULT', data=obd_df)\n",
        "plt.show()\n",
        "print('value counts are as follows: ')\n",
        "obd_df['OBD_RDY_RESULT'].value_counts()"
      ],
      "execution_count": null,
      "outputs": [
        {
          "output_type": "display_data",
          "data": {
            "image/png": "[encoded data removed]",
            "text/plain": [
              "<Figure size 432x288 with 1 Axes>"
            ]
          },
          "metadata": {
            "tags": [],
            "needs_background": "light"
          }
        },
        {
          "output_type": "stream",
          "text": [
            "value counts are as follows: \n"
          ],
          "name": "stdout"
        },
        {
          "output_type": "execute_result",
          "data": {
            "text/plain": [
              "P    161145\n",
              "A      5527\n",
              "F       436\n",
              "Name: OBD_RDY_RESULT, dtype: int64"
            ]
          },
          "metadata": {
            "tags": []
          },
          "execution_count": 68
        }
      ]
    },
    {
      "cell_type": "markdown",
      "metadata": {
        "id": "_-SzHrSxTame",
        "colab_type": "text"
      },
      "source": [
        ""
      ]
    },
    {
      "cell_type": "code",
      "metadata": {
        "id": "GLFUYKJmSCnf",
        "colab_type": "code",
        "colab": {}
      },
      "source": [
        "#the REPAIR data\n",
        "r_cols = [col for col in cars2_df if col.startswith('R_')]"
      ],
      "execution_count": null,
      "outputs": []
    },
    {
      "cell_type": "code",
      "metadata": {
        "id": "kX8jtoordArS",
        "colab_type": "code",
        "colab": {
          "base_uri": "https://localhost:8080/",
          "height": 207
        },
        "outputId": "84651b34-b7dc-4be9-9ed5-22d485d5cd7d"
      },
      "source": [
        "list(r_cols)"
      ],
      "execution_count": null,
      "outputs": [
        {
          "output_type": "execute_result",
          "data": {
            "text/plain": [
              "['R_TOTAL_COST',\n",
              " 'R_EGR',\n",
              " 'R_ELECTRICAL',\n",
              " 'R_EVAP_CONTROL',\n",
              " 'R_EXHAUST',\n",
              " 'R_IGNITION',\n",
              " 'R_INTAKE',\n",
              " 'R_ENGINE',\n",
              " 'R_PCV',\n",
              " 'R_OTHER']"
            ]
          },
          "metadata": {
            "tags": []
          },
          "execution_count": 18
        }
      ]
    },
    {
      "cell_type": "code",
      "metadata": {
        "id": "n5-dD9qrdUIB",
        "colab_type": "code",
        "colab": {
          "base_uri": "https://localhost:8080/",
          "height": 206
        },
        "outputId": "15b59bb4-d106-4b1d-fc41-3a67b4a416f0"
      },
      "source": [
        "# get the r data\n",
        "r_df = cars2_df[r_cols]\n",
        "r_df.head()"
      ],
      "execution_count": null,
      "outputs": [
        {
          "output_type": "execute_result",
          "data": {
            "text/html": [
              "<div>\n",
              "<style scoped>\n",
              "    .dataframe tbody tr th:only-of-type {\n",
              "        vertical-align: middle;\n",
              "    }\n",
              "\n",
              "    .dataframe tbody tr th {\n",
              "        vertical-align: top;\n",
              "    }\n",
              "\n",
              "    .dataframe thead th {\n",
              "        text-align: right;\n",
              "    }\n",
              "</style>\n",
              "<table border=\"1\" class=\"dataframe\">\n",
              "  <thead>\n",
              "    <tr style=\"text-align: right;\">\n",
              "      <th></th>\n",
              "      <th>R_TOTAL_COST</th>\n",
              "      <th>R_EGR</th>\n",
              "      <th>R_ELECTRICAL</th>\n",
              "      <th>R_EVAP_CONTROL</th>\n",
              "      <th>R_EXHAUST</th>\n",
              "      <th>R_IGNITION</th>\n",
              "      <th>R_INTAKE</th>\n",
              "      <th>R_ENGINE</th>\n",
              "      <th>R_PCV</th>\n",
              "      <th>R_OTHER</th>\n",
              "    </tr>\n",
              "  </thead>\n",
              "  <tbody>\n",
              "    <tr>\n",
              "      <th>0</th>\n",
              "      <td>NaN</td>\n",
              "      <td>NaN</td>\n",
              "      <td>NaN</td>\n",
              "      <td>NaN</td>\n",
              "      <td>NaN</td>\n",
              "      <td>NaN</td>\n",
              "      <td>NaN</td>\n",
              "      <td>NaN</td>\n",
              "      <td>NaN</td>\n",
              "      <td>NaN</td>\n",
              "    </tr>\n",
              "    <tr>\n",
              "      <th>1</th>\n",
              "      <td>NaN</td>\n",
              "      <td>NaN</td>\n",
              "      <td>NaN</td>\n",
              "      <td>NaN</td>\n",
              "      <td>NaN</td>\n",
              "      <td>NaN</td>\n",
              "      <td>NaN</td>\n",
              "      <td>NaN</td>\n",
              "      <td>NaN</td>\n",
              "      <td>NaN</td>\n",
              "    </tr>\n",
              "    <tr>\n",
              "      <th>2</th>\n",
              "      <td>NaN</td>\n",
              "      <td>NaN</td>\n",
              "      <td>NaN</td>\n",
              "      <td>NaN</td>\n",
              "      <td>NaN</td>\n",
              "      <td>NaN</td>\n",
              "      <td>NaN</td>\n",
              "      <td>NaN</td>\n",
              "      <td>NaN</td>\n",
              "      <td>NaN</td>\n",
              "    </tr>\n",
              "    <tr>\n",
              "      <th>3</th>\n",
              "      <td>NaN</td>\n",
              "      <td>NaN</td>\n",
              "      <td>NaN</td>\n",
              "      <td>NaN</td>\n",
              "      <td>NaN</td>\n",
              "      <td>NaN</td>\n",
              "      <td>NaN</td>\n",
              "      <td>NaN</td>\n",
              "      <td>NaN</td>\n",
              "      <td>NaN</td>\n",
              "    </tr>\n",
              "    <tr>\n",
              "      <th>4</th>\n",
              "      <td>NaN</td>\n",
              "      <td>NaN</td>\n",
              "      <td>NaN</td>\n",
              "      <td>NaN</td>\n",
              "      <td>NaN</td>\n",
              "      <td>NaN</td>\n",
              "      <td>NaN</td>\n",
              "      <td>NaN</td>\n",
              "      <td>NaN</td>\n",
              "      <td>NaN</td>\n",
              "    </tr>\n",
              "  </tbody>\n",
              "</table>\n",
              "</div>"
            ],
            "text/plain": [
              "   R_TOTAL_COST R_EGR R_ELECTRICAL R_EVAP_CONTROL R_EXHAUST R_IGNITION  \\\n",
              "0           NaN   NaN          NaN            NaN       NaN        NaN   \n",
              "1           NaN   NaN          NaN            NaN       NaN        NaN   \n",
              "2           NaN   NaN          NaN            NaN       NaN        NaN   \n",
              "3           NaN   NaN          NaN            NaN       NaN        NaN   \n",
              "4           NaN   NaN          NaN            NaN       NaN        NaN   \n",
              "\n",
              "  R_INTAKE R_ENGINE R_PCV R_OTHER  \n",
              "0      NaN      NaN   NaN     NaN  \n",
              "1      NaN      NaN   NaN     NaN  \n",
              "2      NaN      NaN   NaN     NaN  \n",
              "3      NaN      NaN   NaN     NaN  \n",
              "4      NaN      NaN   NaN     NaN  "
            ]
          },
          "metadata": {
            "tags": []
          },
          "execution_count": 20
        }
      ]
    },
    {
      "cell_type": "code",
      "metadata": {
        "id": "Bu8O6ugAdj0e",
        "colab_type": "code",
        "colab": {
          "base_uri": "https://localhost:8080/",
          "height": 226
        },
        "outputId": "57262fd1-778f-4ed5-c9bf-830bdc5989a0"
      },
      "source": [
        "#the data seems to contain lots of NaN - how much is it?\n",
        "# calculating percentage of NaN\n",
        "100 * r_df.isnull().sum(axis = 0)/len(r_df)\n"
      ],
      "execution_count": null,
      "outputs": [
        {
          "output_type": "execute_result",
          "data": {
            "text/plain": [
              "R_TOTAL_COST      96.983974\n",
              "R_EGR             99.868184\n",
              "R_ELECTRICAL      99.759755\n",
              "R_EVAP_CONTROL    99.442548\n",
              "R_EXHAUST         99.831616\n",
              "R_IGNITION        99.610081\n",
              "R_INTAKE          99.530992\n",
              "R_ENGINE          99.947274\n",
              "R_PCV             99.951526\n",
              "R_OTHER           98.435646\n",
              "dtype: float64"
            ]
          },
          "metadata": {
            "tags": []
          },
          "execution_count": 24
        }
      ]
    },
    {
      "cell_type": "code",
      "metadata": {
        "id": "BX0-GvPTfQiA",
        "colab_type": "code",
        "colab": {
          "base_uri": "https://localhost:8080/",
          "height": 226
        },
        "outputId": "3b1a33a2-1013-4f72-b8ce-1c166babacd6"
      },
      "source": [
        "#how many values are left when omitting NaN?\n",
        "len(r_df)-r_df.isnull().sum(axis = 0)\n"
      ],
      "execution_count": null,
      "outputs": [
        {
          "output_type": "execute_result",
          "data": {
            "text/plain": [
              "R_TOTAL_COST      7093\n",
              "R_EGR              310\n",
              "R_ELECTRICAL       565\n",
              "R_EVAP_CONTROL    1311\n",
              "R_EXHAUST          396\n",
              "R_IGNITION         917\n",
              "R_INTAKE          1103\n",
              "R_ENGINE           124\n",
              "R_PCV              114\n",
              "R_OTHER           3679\n",
              "dtype: int64"
            ]
          },
          "metadata": {
            "tags": []
          },
          "execution_count": 34
        }
      ]
    },
    {
      "cell_type": "code",
      "metadata": {
        "id": "u0aNioqbgZw2",
        "colab_type": "code",
        "colab": {
          "base_uri": "https://localhost:8080/",
          "height": 188
        },
        "outputId": "29854d5b-a460-4787-d562-312ea59e0769"
      },
      "source": [
        "# ~4% of the data left:\n",
        "r_df['R_TOTAL_COST'].describe()"
      ],
      "execution_count": null,
      "outputs": [
        {
          "output_type": "execute_result",
          "data": {
            "text/plain": [
              "count     7093.000000\n",
              "mean       118.231637\n",
              "std       1371.832520\n",
              "min          0.000000\n",
              "25%          0.000000\n",
              "50%         10.000000\n",
              "75%         75.000000\n",
              "max      76987.000000\n",
              "Name: R_TOTAL_COST, dtype: float64"
            ]
          },
          "metadata": {
            "tags": []
          },
          "execution_count": 72
        }
      ]
    },
    {
      "cell_type": "code",
      "metadata": {
        "id": "qyjqbipqeYI1",
        "colab_type": "code",
        "colab": {
          "base_uri": "https://localhost:8080/",
          "height": 527
        },
        "outputId": "71f55447-874b-4153-feae-27722d544bc4"
      },
      "source": [
        "#plotting the distribution of the variable with most values\n",
        "sns.distplot(r_df['R_TOTAL_COST'],kde=False)\n",
        "plt.show()\n",
        "print('value counts are as follows: ')\n",
        "r_df['R_TOTAL_COST'].value_counts()"
      ],
      "execution_count": null,
      "outputs": [
        {
          "output_type": "display_data",
          "data": {
            "image/png": "[encoded data removed]",
            "text/plain": [
              "<Figure size 432x288 with 1 Axes>"
            ]
          },
          "metadata": {
            "tags": [],
            "needs_background": "light"
          }
        },
        {
          "output_type": "stream",
          "text": [
            "value counts are as follows: \n"
          ],
          "name": "stdout"
        },
        {
          "output_type": "execute_result",
          "data": {
            "text/plain": [
              "0.0      2397\n",
              "10.0      719\n",
              "100.0     255\n",
              "50.0      189\n",
              "8.0       184\n",
              "         ... \n",
              "322.0       1\n",
              "221.0       1\n",
              "475.0       1\n",
              "313.0       1\n",
              "392.0       1\n",
              "Name: R_TOTAL_COST, Length: 350, dtype: int64"
            ]
          },
          "metadata": {
            "tags": []
          },
          "execution_count": 64
        }
      ]
    }
  ]
}